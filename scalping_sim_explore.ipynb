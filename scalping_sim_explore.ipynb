{
 "cells": [
  {
   "cell_type": "code",
   "execution_count": 2,
   "metadata": {},
   "outputs": [],
   "source": [
    "import pandas as pd\n",
    "import plotly.graph_objects as go"
   ]
  },
  {
   "cell_type": "code",
   "execution_count": 3,
   "metadata": {},
   "outputs": [],
   "source": [
    "scal_test_res = pd.read_pickle(\"scal_test_res.pkl\")\n",
    "all_trades = pd.read_pickle(\"all_trades.pkl\")"
   ]
  },
  {
   "cell_type": "code",
   "execution_count": 4,
   "metadata": {},
   "outputs": [
    {
     "data": {
      "text/plain": [
       "(15862, 11)"
      ]
     },
     "execution_count": 4,
     "metadata": {},
     "output_type": "execute_result"
    }
   ],
   "source": [
    "all_trades.shape #NOTE: here we're still using the all trades calculate for moving averages\n"
   ]
  },
  {
   "cell_type": "code",
   "execution_count": 5,
   "metadata": {},
   "outputs": [
    {
     "data": {
      "text/plain": [
       "(45, 10)"
      ]
     },
     "execution_count": 5,
     "metadata": {},
     "output_type": "execute_result"
    }
   ],
   "source": [
    "'''\n",
    "The difference in the number of trades between the *moving average* strategy \n",
    "and the *RSI scalping* strategy is due to the nature of their *signals*.\n",
    "*Moving average crossovers* occur frequently as prices oscillate around the \n",
    "averages, generating more trades in both *trending* and *ranging* markets. In \n",
    "contrast, the *RSI strategy* generates fewer signals because it only triggers\n",
    "trades when the market reaches *overbought* or *oversold conditions* \n",
    "(e.g., RSI below 30 or above 70), which happen less often. As a result, the \n",
    "*moving average* strategy tends to produce more trades compared to the more selective\n",
    "*RSI scalping* strategy.\n",
    "'''\n",
    "scal_test_res.shape"
   ]
  },
  {
   "cell_type": "code",
   "execution_count": 6,
   "metadata": {},
   "outputs": [
    {
     "data": {
      "text/html": [
       "<div>\n",
       "<style scoped>\n",
       "    .dataframe tbody tr th:only-of-type {\n",
       "        vertical-align: middle;\n",
       "    }\n",
       "\n",
       "    .dataframe tbody tr th {\n",
       "        vertical-align: top;\n",
       "    }\n",
       "\n",
       "    .dataframe thead th {\n",
       "        text-align: right;\n",
       "    }\n",
       "</style>\n",
       "<table border=\"1\" class=\"dataframe\">\n",
       "  <thead>\n",
       "    <tr style=\"text-align: right;\">\n",
       "      <th></th>\n",
       "      <th>pair</th>\n",
       "      <th>num_trades</th>\n",
       "      <th>total_gain</th>\n",
       "      <th>mean_gain</th>\n",
       "      <th>min_gain</th>\n",
       "      <th>max_gain</th>\n",
       "      <th>mean_duration</th>\n",
       "      <th>max_duration</th>\n",
       "      <th>min_duration</th>\n",
       "      <th>rsi_period</th>\n",
       "    </tr>\n",
       "  </thead>\n",
       "  <tbody>\n",
       "    <tr>\n",
       "      <th>0</th>\n",
       "      <td>GBP_CAD</td>\n",
       "      <td>986</td>\n",
       "      <td>380.2</td>\n",
       "      <td>0.385598</td>\n",
       "      <td>-76.4</td>\n",
       "      <td>132.1</td>\n",
       "      <td>5.736308</td>\n",
       "      <td>131.0</td>\n",
       "      <td>1.0</td>\n",
       "      <td>14</td>\n",
       "    </tr>\n",
       "    <tr>\n",
       "      <th>1</th>\n",
       "      <td>GBP_CAD</td>\n",
       "      <td>631</td>\n",
       "      <td>1341.0</td>\n",
       "      <td>2.125198</td>\n",
       "      <td>-106.2</td>\n",
       "      <td>156.6</td>\n",
       "      <td>8.871632</td>\n",
       "      <td>169.0</td>\n",
       "      <td>1.0</td>\n",
       "      <td>21</td>\n",
       "    </tr>\n",
       "    <tr>\n",
       "      <th>2</th>\n",
       "      <td>GBP_CAD</td>\n",
       "      <td>387</td>\n",
       "      <td>390.4</td>\n",
       "      <td>1.008786</td>\n",
       "      <td>-111.1</td>\n",
       "      <td>179.1</td>\n",
       "      <td>13.956072</td>\n",
       "      <td>358.0</td>\n",
       "      <td>1.0</td>\n",
       "      <td>28</td>\n",
       "    </tr>\n",
       "    <tr>\n",
       "      <th>3</th>\n",
       "      <td>GBP_JPY</td>\n",
       "      <td>1220</td>\n",
       "      <td>-2440.5</td>\n",
       "      <td>-2.000410</td>\n",
       "      <td>-152.9</td>\n",
       "      <td>383.4</td>\n",
       "      <td>4.636066</td>\n",
       "      <td>160.0</td>\n",
       "      <td>1.0</td>\n",
       "      <td>14</td>\n",
       "    </tr>\n",
       "    <tr>\n",
       "      <th>4</th>\n",
       "      <td>GBP_JPY</td>\n",
       "      <td>897</td>\n",
       "      <td>-603.7</td>\n",
       "      <td>-0.673021</td>\n",
       "      <td>-207.5</td>\n",
       "      <td>359.6</td>\n",
       "      <td>6.243032</td>\n",
       "      <td>245.0</td>\n",
       "      <td>1.0</td>\n",
       "      <td>21</td>\n",
       "    </tr>\n",
       "  </tbody>\n",
       "</table>\n",
       "</div>"
      ],
      "text/plain": [
       "      pair  num_trades  total_gain  mean_gain  min_gain  max_gain  \\\n",
       "0  GBP_CAD         986       380.2   0.385598     -76.4     132.1   \n",
       "1  GBP_CAD         631      1341.0   2.125198    -106.2     156.6   \n",
       "2  GBP_CAD         387       390.4   1.008786    -111.1     179.1   \n",
       "3  GBP_JPY        1220     -2440.5  -2.000410    -152.9     383.4   \n",
       "4  GBP_JPY         897      -603.7  -0.673021    -207.5     359.6   \n",
       "\n",
       "   mean_duration  max_duration  min_duration  rsi_period  \n",
       "0       5.736308         131.0           1.0          14  \n",
       "1       8.871632         169.0           1.0          21  \n",
       "2      13.956072         358.0           1.0          28  \n",
       "3       4.636066         160.0           1.0          14  \n",
       "4       6.243032         245.0           1.0          21  "
      ]
     },
     "execution_count": 6,
     "metadata": {},
     "output_type": "execute_result"
    }
   ],
   "source": [
    "'''\n",
    "The *moving average* strategy often results in more negative total\n",
    "gains compared to the *RSI scalping* strategy due to the frequent\n",
    "generation of *false signals* in choppy or sideways markets.\n",
    "When prices oscillate around the moving averages without a \n",
    "clear trend, the strategy can lead to many *whipsaw trades*\n",
    "—where buy and sell signals are triggered close \n",
    "together—resulting in small, frequent losses that accumulate.\n",
    "Additionally, in volatile markets, *moving averages* may \n",
    "not adapt quickly enough to price changes, causing late \n",
    "entries and exits that miss profitable opportunities or \n",
    "exacerbate losses. This contrasts with the *RSI scalping* \n",
    "strategy, which tends to be more selective and triggers \n",
    "trades only during extreme market conditions, potentially \n",
    "leading to fewer but more profitable trades.\n",
    "'''\n",
    "scal_test_res.head()"
   ]
  },
  {
   "cell_type": "code",
   "execution_count": 7,
   "metadata": {},
   "outputs": [
    {
     "data": {
      "text/plain": [
       "Index(['pair', 'num_trades', 'total_gain', 'mean_gain', 'min_gain', 'max_gain',\n",
       "       'mean_duration', 'max_duration', 'min_duration', 'rsi_period'],\n",
       "      dtype='object')"
      ]
     },
     "execution_count": 7,
     "metadata": {},
     "output_type": "execute_result"
    }
   ],
   "source": [
    "scal_test_res.columns"
   ]
  },
  {
   "cell_type": "code",
   "execution_count": 8,
   "metadata": {},
   "outputs": [],
   "source": [
    "scal_test_res = scal_test_res[['pair', 'num_trades', 'total_gain', 'mean_duration', 'min_duration', 'max_duration', 'rsi_period']]"
   ]
  },
  {
   "cell_type": "code",
   "execution_count": 9,
   "metadata": {},
   "outputs": [],
   "source": [
    "'''\n",
    "Original Test Explanation:\n",
    "The original line:\n",
    "ma_test_res[\"CROSS\"] = \"MA_\"+ma_test_res.mashort.map(str) +\"_\"+ma_test_res.malong.map(str) \n",
    "creates a column \"CROSS\" that concatenates the moving average \n",
    "periods (mashort and malong) into a string format \n",
    "\"MA_mashort_malong\". This is used to group and analyze results \n",
    "based on different combinations of moving average periods.\n",
    "\n",
    "Why It's Not Fitting for RSI Scalping:\n",
    "For the RSI scalping strategy, using the same \"CROSS\" column to\n",
    "group results based on RSI parameters wouldn't be appropriate.\n",
    "RSI\n",
    "'''\n",
    "\n",
    "scal_test_res[\"RSI_PERIOD\"] = \"RSI_\" + scal_test_res.rsi_period.map(str)\n"
   ]
  },
  {
   "cell_type": "code",
   "execution_count": 10,
   "metadata": {},
   "outputs": [],
   "source": [
    "# Group by RSI_PERIOD (instead of CROSS for moving averages) and relevant parameters\n",
    "df_all_gains = scal_test_res.groupby(by=[\"RSI_PERIOD\", \"rsi_period\"], as_index=False).sum()\n",
    "\n",
    "# Select relevant columns for analysis\n",
    "df_all_gains = df_all_gains[['RSI_PERIOD', 'num_trades', 'total_gain', 'rsi_period']]\n"
   ]
  },
  {
   "cell_type": "code",
   "execution_count": 11,
   "metadata": {},
   "outputs": [],
   "source": [
    "df_all_gains.sort_values(by='total_gain', ascending=False, inplace=True)"
   ]
  },
  {
   "cell_type": "code",
   "execution_count": 12,
   "metadata": {},
   "outputs": [
    {
     "data": {
      "text/html": [
       "<div>\n",
       "<style scoped>\n",
       "    .dataframe tbody tr th:only-of-type {\n",
       "        vertical-align: middle;\n",
       "    }\n",
       "\n",
       "    .dataframe tbody tr th {\n",
       "        vertical-align: top;\n",
       "    }\n",
       "\n",
       "    .dataframe thead th {\n",
       "        text-align: right;\n",
       "    }\n",
       "</style>\n",
       "<table border=\"1\" class=\"dataframe\">\n",
       "  <thead>\n",
       "    <tr style=\"text-align: right;\">\n",
       "      <th></th>\n",
       "      <th>RSI_PERIOD</th>\n",
       "      <th>num_trades</th>\n",
       "      <th>total_gain</th>\n",
       "      <th>rsi_period</th>\n",
       "    </tr>\n",
       "  </thead>\n",
       "  <tbody>\n",
       "    <tr>\n",
       "      <th>2</th>\n",
       "      <td>RSI_28</td>\n",
       "      <td>6453</td>\n",
       "      <td>5078.2</td>\n",
       "      <td>28</td>\n",
       "    </tr>\n",
       "    <tr>\n",
       "      <th>1</th>\n",
       "      <td>RSI_21</td>\n",
       "      <td>9860</td>\n",
       "      <td>2958.3</td>\n",
       "      <td>21</td>\n",
       "    </tr>\n",
       "    <tr>\n",
       "      <th>0</th>\n",
       "      <td>RSI_14</td>\n",
       "      <td>15421</td>\n",
       "      <td>930.4</td>\n",
       "      <td>14</td>\n",
       "    </tr>\n",
       "  </tbody>\n",
       "</table>\n",
       "</div>"
      ],
      "text/plain": [
       "  RSI_PERIOD  num_trades  total_gain  rsi_period\n",
       "2     RSI_28        6453      5078.2          28\n",
       "1     RSI_21        9860      2958.3          21\n",
       "0     RSI_14       15421       930.4          14"
      ]
     },
     "execution_count": 12,
     "metadata": {},
     "output_type": "execute_result"
    }
   ],
   "source": [
    "df_all_gains.head()"
   ]
  },
  {
   "cell_type": "code",
   "execution_count": 13,
   "metadata": {},
   "outputs": [],
   "source": [
    "scal_rsi_28 = scal_test_res[scal_test_res.RSI_PERIOD =='RSI_28'].copy()"
   ]
  },
  {
   "cell_type": "code",
   "execution_count": 14,
   "metadata": {},
   "outputs": [],
   "source": [
    "total_p = len(scal_rsi_28.pair.unique())"
   ]
  },
  {
   "cell_type": "code",
   "execution_count": 15,
   "metadata": {},
   "outputs": [
    {
     "data": {
      "text/plain": [
       "11"
      ]
     },
     "execution_count": 15,
     "metadata": {},
     "output_type": "execute_result"
    }
   ],
   "source": [
    "scal_rsi_28[scal_rsi_28.total_gain>0].shape[0]"
   ]
  },
  {
   "cell_type": "code",
   "execution_count": 16,
   "metadata": {},
   "outputs": [
    {
     "data": {
      "text/html": [
       "<div>\n",
       "<style scoped>\n",
       "    .dataframe tbody tr th:only-of-type {\n",
       "        vertical-align: middle;\n",
       "    }\n",
       "\n",
       "    .dataframe tbody tr th {\n",
       "        vertical-align: top;\n",
       "    }\n",
       "\n",
       "    .dataframe thead th {\n",
       "        text-align: right;\n",
       "    }\n",
       "</style>\n",
       "<table border=\"1\" class=\"dataframe\">\n",
       "  <thead>\n",
       "    <tr style=\"text-align: right;\">\n",
       "      <th></th>\n",
       "      <th>pair</th>\n",
       "      <th>num_trades</th>\n",
       "      <th>total_gain</th>\n",
       "      <th>mean_duration</th>\n",
       "      <th>min_duration</th>\n",
       "      <th>max_duration</th>\n",
       "      <th>rsi_period</th>\n",
       "      <th>RSI_PERIOD</th>\n",
       "    </tr>\n",
       "  </thead>\n",
       "  <tbody>\n",
       "    <tr>\n",
       "      <th>2</th>\n",
       "      <td>GBP_CAD</td>\n",
       "      <td>387</td>\n",
       "      <td>390.4</td>\n",
       "      <td>13.956072</td>\n",
       "      <td>1.0</td>\n",
       "      <td>358.0</td>\n",
       "      <td>28</td>\n",
       "      <td>RSI_28</td>\n",
       "    </tr>\n",
       "    <tr>\n",
       "      <th>5</th>\n",
       "      <td>GBP_JPY</td>\n",
       "      <td>658</td>\n",
       "      <td>-109.8</td>\n",
       "      <td>8.261398</td>\n",
       "      <td>1.0</td>\n",
       "      <td>281.0</td>\n",
       "      <td>28</td>\n",
       "      <td>RSI_28</td>\n",
       "    </tr>\n",
       "    <tr>\n",
       "      <th>8</th>\n",
       "      <td>GBP_NZD</td>\n",
       "      <td>337</td>\n",
       "      <td>1232.5</td>\n",
       "      <td>16.498516</td>\n",
       "      <td>1.0</td>\n",
       "      <td>336.0</td>\n",
       "      <td>28</td>\n",
       "      <td>RSI_28</td>\n",
       "    </tr>\n",
       "    <tr>\n",
       "      <th>11</th>\n",
       "      <td>GBP_CHF</td>\n",
       "      <td>469</td>\n",
       "      <td>-237.7</td>\n",
       "      <td>11.588486</td>\n",
       "      <td>1.0</td>\n",
       "      <td>477.0</td>\n",
       "      <td>28</td>\n",
       "      <td>RSI_28</td>\n",
       "    </tr>\n",
       "    <tr>\n",
       "      <th>14</th>\n",
       "      <td>EUR_GBP</td>\n",
       "      <td>306</td>\n",
       "      <td>93.0</td>\n",
       "      <td>17.980392</td>\n",
       "      <td>1.0</td>\n",
       "      <td>381.0</td>\n",
       "      <td>28</td>\n",
       "      <td>RSI_28</td>\n",
       "    </tr>\n",
       "    <tr>\n",
       "      <th>17</th>\n",
       "      <td>EUR_CAD</td>\n",
       "      <td>334</td>\n",
       "      <td>633.5</td>\n",
       "      <td>16.742515</td>\n",
       "      <td>1.0</td>\n",
       "      <td>503.0</td>\n",
       "      <td>28</td>\n",
       "      <td>RSI_28</td>\n",
       "    </tr>\n",
       "    <tr>\n",
       "      <th>20</th>\n",
       "      <td>EUR_JPY</td>\n",
       "      <td>588</td>\n",
       "      <td>499.2</td>\n",
       "      <td>9.175170</td>\n",
       "      <td>1.0</td>\n",
       "      <td>306.0</td>\n",
       "      <td>28</td>\n",
       "      <td>RSI_28</td>\n",
       "    </tr>\n",
       "    <tr>\n",
       "      <th>23</th>\n",
       "      <td>EUR_NZD</td>\n",
       "      <td>298</td>\n",
       "      <td>1344.9</td>\n",
       "      <td>18.627517</td>\n",
       "      <td>1.0</td>\n",
       "      <td>378.0</td>\n",
       "      <td>28</td>\n",
       "      <td>RSI_28</td>\n",
       "    </tr>\n",
       "    <tr>\n",
       "      <th>26</th>\n",
       "      <td>EUR_CHF</td>\n",
       "      <td>509</td>\n",
       "      <td>-311.4</td>\n",
       "      <td>10.996071</td>\n",
       "      <td>1.0</td>\n",
       "      <td>477.0</td>\n",
       "      <td>28</td>\n",
       "      <td>RSI_28</td>\n",
       "    </tr>\n",
       "    <tr>\n",
       "      <th>29</th>\n",
       "      <td>CAD_JPY</td>\n",
       "      <td>498</td>\n",
       "      <td>174.8</td>\n",
       "      <td>10.763052</td>\n",
       "      <td>1.0</td>\n",
       "      <td>299.0</td>\n",
       "      <td>28</td>\n",
       "      <td>RSI_28</td>\n",
       "    </tr>\n",
       "  </tbody>\n",
       "</table>\n",
       "</div>"
      ],
      "text/plain": [
       "       pair  num_trades  total_gain  mean_duration  min_duration  \\\n",
       "2   GBP_CAD         387       390.4      13.956072           1.0   \n",
       "5   GBP_JPY         658      -109.8       8.261398           1.0   \n",
       "8   GBP_NZD         337      1232.5      16.498516           1.0   \n",
       "11  GBP_CHF         469      -237.7      11.588486           1.0   \n",
       "14  EUR_GBP         306        93.0      17.980392           1.0   \n",
       "17  EUR_CAD         334       633.5      16.742515           1.0   \n",
       "20  EUR_JPY         588       499.2       9.175170           1.0   \n",
       "23  EUR_NZD         298      1344.9      18.627517           1.0   \n",
       "26  EUR_CHF         509      -311.4      10.996071           1.0   \n",
       "29  CAD_JPY         498       174.8      10.763052           1.0   \n",
       "\n",
       "    max_duration  rsi_period RSI_PERIOD  \n",
       "2          358.0          28     RSI_28  \n",
       "5          281.0          28     RSI_28  \n",
       "8          336.0          28     RSI_28  \n",
       "11         477.0          28     RSI_28  \n",
       "14         381.0          28     RSI_28  \n",
       "17         503.0          28     RSI_28  \n",
       "20         306.0          28     RSI_28  \n",
       "23         378.0          28     RSI_28  \n",
       "26         477.0          28     RSI_28  \n",
       "29         299.0          28     RSI_28  "
      ]
     },
     "execution_count": 16,
     "metadata": {},
     "output_type": "execute_result"
    }
   ],
   "source": [
    "scal_rsi_28.head(10)"
   ]
  },
  {
   "cell_type": "code",
   "execution_count": 17,
   "metadata": {},
   "outputs": [
    {
     "name": "stdout",
     "output_type": "stream",
     "text": [
      "RSI_28         11   73%\n",
      "RSI_21          8   53%\n",
      "RSI_14          9   60%\n"
     ]
    }
   ],
   "source": [
    "for rsi_period in df_all_gains.RSI_PERIOD.unique():\n",
    "    df_temp = scal_test_res[scal_test_res.RSI_PERIOD == rsi_period]\n",
    "    #print(rsi_period)\n",
    "    #print(df_temp.head())    \n",
    "    total_p = df_temp.shape[0]\n",
    "    n_good = df_temp[df_temp.total_gain>0].shape[0]\n",
    "    print(f\"{rsi_period:12} {n_good: 4} {(n_good/total_p)*100:4.0f}%\")"
   ]
  },
  {
   "cell_type": "code",
   "execution_count": 18,
   "metadata": {},
   "outputs": [
    {
     "data": {
      "text/plain": [
       "array(['RSI_28', 'RSI_21', 'RSI_14'], dtype=object)"
      ]
     },
     "execution_count": 18,
     "metadata": {},
     "output_type": "execute_result"
    }
   ],
   "source": [
    "rsi_periods = df_all_gains.RSI_PERIOD.unique()[:3]\n",
    "rsi_periods "
   ]
  },
  {
   "cell_type": "code",
   "execution_count": 19,
   "metadata": {},
   "outputs": [],
   "source": [
    "df_good = scal_test_res[(scal_test_res.RSI_PERIOD.isin(rsi_periods))&(scal_test_res.total_gain>0)].copy()\n"
   ]
  },
  {
   "cell_type": "code",
   "execution_count": 20,
   "metadata": {},
   "outputs": [
    {
     "data": {
      "text/html": [
       "<div>\n",
       "<style scoped>\n",
       "    .dataframe tbody tr th:only-of-type {\n",
       "        vertical-align: middle;\n",
       "    }\n",
       "\n",
       "    .dataframe tbody tr th {\n",
       "        vertical-align: top;\n",
       "    }\n",
       "\n",
       "    .dataframe thead th {\n",
       "        text-align: right;\n",
       "    }\n",
       "</style>\n",
       "<table border=\"1\" class=\"dataframe\">\n",
       "  <thead>\n",
       "    <tr style=\"text-align: right;\">\n",
       "      <th></th>\n",
       "      <th>pair</th>\n",
       "      <th>num_trades</th>\n",
       "      <th>total_gain</th>\n",
       "      <th>mean_duration</th>\n",
       "      <th>min_duration</th>\n",
       "      <th>max_duration</th>\n",
       "      <th>rsi_period</th>\n",
       "      <th>RSI_PERIOD</th>\n",
       "    </tr>\n",
       "  </thead>\n",
       "  <tbody>\n",
       "    <tr>\n",
       "      <th>0</th>\n",
       "      <td>GBP_CAD</td>\n",
       "      <td>986</td>\n",
       "      <td>380.2</td>\n",
       "      <td>5.736308</td>\n",
       "      <td>1.0</td>\n",
       "      <td>131.0</td>\n",
       "      <td>14</td>\n",
       "      <td>RSI_14</td>\n",
       "    </tr>\n",
       "    <tr>\n",
       "      <th>1</th>\n",
       "      <td>GBP_CAD</td>\n",
       "      <td>631</td>\n",
       "      <td>1341.0</td>\n",
       "      <td>8.871632</td>\n",
       "      <td>1.0</td>\n",
       "      <td>169.0</td>\n",
       "      <td>21</td>\n",
       "      <td>RSI_21</td>\n",
       "    </tr>\n",
       "    <tr>\n",
       "      <th>2</th>\n",
       "      <td>GBP_CAD</td>\n",
       "      <td>387</td>\n",
       "      <td>390.4</td>\n",
       "      <td>13.956072</td>\n",
       "      <td>1.0</td>\n",
       "      <td>358.0</td>\n",
       "      <td>28</td>\n",
       "      <td>RSI_28</td>\n",
       "    </tr>\n",
       "    <tr>\n",
       "      <th>6</th>\n",
       "      <td>GBP_NZD</td>\n",
       "      <td>978</td>\n",
       "      <td>630.2</td>\n",
       "      <td>5.732106</td>\n",
       "      <td>1.0</td>\n",
       "      <td>119.0</td>\n",
       "      <td>14</td>\n",
       "      <td>RSI_14</td>\n",
       "    </tr>\n",
       "    <tr>\n",
       "      <th>7</th>\n",
       "      <td>GBP_NZD</td>\n",
       "      <td>585</td>\n",
       "      <td>1927.9</td>\n",
       "      <td>9.444444</td>\n",
       "      <td>1.0</td>\n",
       "      <td>169.0</td>\n",
       "      <td>21</td>\n",
       "      <td>RSI_21</td>\n",
       "    </tr>\n",
       "  </tbody>\n",
       "</table>\n",
       "</div>"
      ],
      "text/plain": [
       "      pair  num_trades  total_gain  mean_duration  min_duration  max_duration  \\\n",
       "0  GBP_CAD         986       380.2       5.736308           1.0         131.0   \n",
       "1  GBP_CAD         631      1341.0       8.871632           1.0         169.0   \n",
       "2  GBP_CAD         387       390.4      13.956072           1.0         358.0   \n",
       "6  GBP_NZD         978       630.2       5.732106           1.0         119.0   \n",
       "7  GBP_NZD         585      1927.9       9.444444           1.0         169.0   \n",
       "\n",
       "   rsi_period RSI_PERIOD  \n",
       "0          14     RSI_14  \n",
       "1          21     RSI_21  \n",
       "2          28     RSI_28  \n",
       "6          14     RSI_14  \n",
       "7          21     RSI_21  "
      ]
     },
     "execution_count": 20,
     "metadata": {},
     "output_type": "execute_result"
    }
   ],
   "source": [
    "df_good.head()"
   ]
  }
 ],
 "metadata": {
  "kernelspec": {
   "display_name": "venv",
   "language": "python",
   "name": "python3"
  },
  "language_info": {
   "codemirror_mode": {
    "name": "ipython",
    "version": 3
   },
   "file_extension": ".py",
   "mimetype": "text/x-python",
   "name": "python",
   "nbconvert_exporter": "python",
   "pygments_lexer": "ipython3",
   "version": "3.9.13"
  }
 },
 "nbformat": 4,
 "nbformat_minor": 2
}
