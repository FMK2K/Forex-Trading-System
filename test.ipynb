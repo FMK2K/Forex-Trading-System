{
 "cells": [
  {
   "cell_type": "code",
   "execution_count": 48,
   "metadata": {},
   "outputs": [
    {
     "name": "stdout",
     "output_type": "stream",
     "text": [
      "beer\n"
     ]
    }
   ],
   "source": [
    "#NOTE: this is a notebook akin to google collab\n",
    "print(\"beer\")"
   ]
  },
  {
   "cell_type": "code",
   "execution_count": 49,
   "metadata": {},
   "outputs": [],
   "source": [
    "import requests\n",
    "import defs\n",
    "import importlib\n",
    "import pandas as pd"
   ]
  },
  {
   "cell_type": "code",
   "execution_count": 50,
   "metadata": {},
   "outputs": [],
   "source": [
    "session = requests.Session()"
   ]
  },
  {
   "cell_type": "code",
   "execution_count": 51,
   "metadata": {},
   "outputs": [],
   "source": [
    "instrument = \"EUR_USD\"\n",
    "count = 10\n",
    "granularity = \"H1\""
   ]
  },
  {
   "cell_type": "code",
   "execution_count": 52,
   "metadata": {},
   "outputs": [
    {
     "name": "stdout",
     "output_type": "stream",
     "text": [
      "https://api-fxpractice.oanda.com/v3/instruments/EUR_USD/candles\n"
     ]
    }
   ],
   "source": [
    "# Reload the defs module to ensure the latest changes are reflected\n",
    "importlib.reload(defs)\n",
    "\n",
    "url = f\"{defs.OANDA_URL}/instruments/{instrument}/candles\"\n",
    "print(url)"
   ]
  },
  {
   "cell_type": "code",
   "execution_count": 53,
   "metadata": {},
   "outputs": [
    {
     "name": "stdout",
     "output_type": "stream",
     "text": [
      "{'count': 10, 'granularity': 'H1', 'price': 'MBA'}\n"
     ]
    }
   ],
   "source": [
    "#Dictionary full of our parameters\n",
    "param = dict(\n",
    "    count = count,\n",
    "    granularity = granularity,\n",
    "    price = 'MBA'\n",
    ")\n",
    "print(param)"
   ]
  },
  {
   "cell_type": "code",
   "execution_count": 54,
   "metadata": {},
   "outputs": [],
   "source": [
    "response = session.get(url, params=param, headers= defs.SECURE_HEADER)"
   ]
  },
  {
   "cell_type": "code",
   "execution_count": 55,
   "metadata": {},
   "outputs": [
    {
     "data": {
      "text/plain": [
       "200"
      ]
     },
     "execution_count": 55,
     "metadata": {},
     "output_type": "execute_result"
    }
   ],
   "source": [
    "response.status_code"
   ]
  },
  {
   "cell_type": "code",
   "execution_count": 56,
   "metadata": {},
   "outputs": [
    {
     "data": {
      "text/plain": [
       "{'instrument': 'EUR_USD',\n",
       " 'granularity': 'H1',\n",
       " 'candles': [{'complete': True,\n",
       "   'volume': 3669,\n",
       "   'time': '2024-06-11T10:00:00.000000000Z',\n",
       "   'bid': {'o': '1.07498', 'h': '1.07558', 'l': '1.07358', 'c': '1.07403'},\n",
       "   'mid': {'o': '1.07505', 'h': '1.07566', 'l': '1.07366', 'c': '1.07410'},\n",
       "   'ask': {'o': '1.07512', 'h': '1.07573', 'l': '1.07373', 'c': '1.07417'}},\n",
       "  {'complete': True,\n",
       "   'volume': 3577,\n",
       "   'time': '2024-06-11T11:00:00.000000000Z',\n",
       "   'bid': {'o': '1.07406', 'h': '1.07409', 'l': '1.07230', 'c': '1.07285'},\n",
       "   'mid': {'o': '1.07413', 'h': '1.07416', 'l': '1.07238', 'c': '1.07292'},\n",
       "   'ask': {'o': '1.07420', 'h': '1.07423', 'l': '1.07245', 'c': '1.07299'}},\n",
       "  {'complete': True,\n",
       "   'volume': 3772,\n",
       "   'time': '2024-06-11T12:00:00.000000000Z',\n",
       "   'bid': {'o': '1.07284', 'h': '1.07358', 'l': '1.07237', 'c': '1.07316'},\n",
       "   'mid': {'o': '1.07292', 'h': '1.07365', 'l': '1.07244', 'c': '1.07323'},\n",
       "   'ask': {'o': '1.07299', 'h': '1.07372', 'l': '1.07252', 'c': '1.07330'}},\n",
       "  {'complete': True,\n",
       "   'volume': 4500,\n",
       "   'time': '2024-06-11T13:00:00.000000000Z',\n",
       "   'bid': {'o': '1.07318', 'h': '1.07359', 'l': '1.07189', 'c': '1.07234'},\n",
       "   'mid': {'o': '1.07325', 'h': '1.07366', 'l': '1.07196', 'c': '1.07241'},\n",
       "   'ask': {'o': '1.07332', 'h': '1.07373', 'l': '1.07203', 'c': '1.07248'}},\n",
       "  {'complete': True,\n",
       "   'volume': 4250,\n",
       "   'time': '2024-06-11T14:00:00.000000000Z',\n",
       "   'bid': {'o': '1.07233', 'h': '1.07287', 'l': '1.07190', 'c': '1.07219'},\n",
       "   'mid': {'o': '1.07240', 'h': '1.07294', 'l': '1.07198', 'c': '1.07226'},\n",
       "   'ask': {'o': '1.07247', 'h': '1.07301', 'l': '1.07205', 'c': '1.07233'}},\n",
       "  {'complete': True,\n",
       "   'volume': 3274,\n",
       "   'time': '2024-06-11T15:00:00.000000000Z',\n",
       "   'bid': {'o': '1.07217', 'h': '1.07329', 'l': '1.07214', 'c': '1.07318'},\n",
       "   'mid': {'o': '1.07224', 'h': '1.07336', 'l': '1.07221', 'c': '1.07326'},\n",
       "   'ask': {'o': '1.07231', 'h': '1.07343', 'l': '1.07228', 'c': '1.07333'}},\n",
       "  {'complete': True,\n",
       "   'volume': 1804,\n",
       "   'time': '2024-06-11T16:00:00.000000000Z',\n",
       "   'bid': {'o': '1.07322', 'h': '1.07383', 'l': '1.07318', 'c': '1.07367'},\n",
       "   'mid': {'o': '1.07329', 'h': '1.07390', 'l': '1.07326', 'c': '1.07375'},\n",
       "   'ask': {'o': '1.07336', 'h': '1.07397', 'l': '1.07333', 'c': '1.07383'}},\n",
       "  {'complete': True,\n",
       "   'volume': 2340,\n",
       "   'time': '2024-06-11T17:00:00.000000000Z',\n",
       "   'bid': {'o': '1.07368', 'h': '1.07426', 'l': '1.07360', 'c': '1.07416'},\n",
       "   'mid': {'o': '1.07376', 'h': '1.07434', 'l': '1.07368', 'c': '1.07424'},\n",
       "   'ask': {'o': '1.07383', 'h': '1.07441', 'l': '1.07375', 'c': '1.07431'}},\n",
       "  {'complete': True,\n",
       "   'volume': 1682,\n",
       "   'time': '2024-06-11T18:00:00.000000000Z',\n",
       "   'bid': {'o': '1.07414', 'h': '1.07446', 'l': '1.07400', 'c': '1.07430'},\n",
       "   'mid': {'o': '1.07422', 'h': '1.07453', 'l': '1.07408', 'c': '1.07438'},\n",
       "   'ask': {'o': '1.07429', 'h': '1.07460', 'l': '1.07415', 'c': '1.07445'}},\n",
       "  {'complete': False,\n",
       "   'volume': 812,\n",
       "   'time': '2024-06-11T19:00:00.000000000Z',\n",
       "   'bid': {'o': '1.07428', 'h': '1.07485', 'l': '1.07427', 'c': '1.07485'},\n",
       "   'mid': {'o': '1.07436', 'h': '1.07492', 'l': '1.07434', 'c': '1.07492'},\n",
       "   'ask': {'o': '1.07444', 'h': '1.07500', 'l': '1.07442', 'c': '1.07499'}}]}"
      ]
     },
     "execution_count": 56,
     "metadata": {},
     "output_type": "execute_result"
    }
   ],
   "source": [
    "response.json()"
   ]
  },
  {
   "cell_type": "code",
   "execution_count": 57,
   "metadata": {},
   "outputs": [
    {
     "data": {
      "text/plain": [
       "dict_keys(['instrument', 'granularity', 'candles'])"
      ]
     },
     "execution_count": 57,
     "metadata": {},
     "output_type": "execute_result"
    }
   ],
   "source": [
    "data = response.json()\n",
    "data.keys()"
   ]
  },
  {
   "cell_type": "code",
   "execution_count": 58,
   "metadata": {},
   "outputs": [],
   "source": [
    "prices = ['mid','bid','ask']\n",
    "ohlc = ['o','h','l','c']"
   ]
  },
  {
   "cell_type": "code",
   "execution_count": 59,
   "metadata": {},
   "outputs": [
    {
     "name": "stdout",
     "output_type": "stream",
     "text": [
      "mid_o\n",
      "mid_h\n",
      "mid_l\n",
      "mid_c\n",
      "bid_o\n",
      "bid_h\n",
      "bid_l\n",
      "bid_c\n",
      "ask_o\n",
      "ask_h\n",
      "ask_l\n",
      "ask_c\n"
     ]
    }
   ],
   "source": [
    "for price in prices:\n",
    "    for oh in ohlc:\n",
    "        print(f\"{price}_{oh}\")"
   ]
  },
  {
   "cell_type": "code",
   "execution_count": 60,
   "metadata": {},
   "outputs": [
    {
     "name": "stdout",
     "output_type": "stream",
     "text": [
      "[{'time': '2024-06-11T10:00:00.000000000Z', 'volume': 3669, 'mid_o': '1.07505', 'mid_h': '1.07566', 'mid_l': '1.07366', 'mid_c': '1.07410', 'bid_o': '1.07498', 'bid_h': '1.07558', 'bid_l': '1.07358', 'bid_c': '1.07403', 'ask_o': '1.07512', 'ask_h': '1.07573', 'ask_l': '1.07373', 'ask_c': '1.07417'}, {'time': '2024-06-11T11:00:00.000000000Z', 'volume': 3577, 'mid_o': '1.07413', 'mid_h': '1.07416', 'mid_l': '1.07238', 'mid_c': '1.07292', 'bid_o': '1.07406', 'bid_h': '1.07409', 'bid_l': '1.07230', 'bid_c': '1.07285', 'ask_o': '1.07420', 'ask_h': '1.07423', 'ask_l': '1.07245', 'ask_c': '1.07299'}, {'time': '2024-06-11T12:00:00.000000000Z', 'volume': 3772, 'mid_o': '1.07292', 'mid_h': '1.07365', 'mid_l': '1.07244', 'mid_c': '1.07323', 'bid_o': '1.07284', 'bid_h': '1.07358', 'bid_l': '1.07237', 'bid_c': '1.07316', 'ask_o': '1.07299', 'ask_h': '1.07372', 'ask_l': '1.07252', 'ask_c': '1.07330'}, {'time': '2024-06-11T13:00:00.000000000Z', 'volume': 4500, 'mid_o': '1.07325', 'mid_h': '1.07366', 'mid_l': '1.07196', 'mid_c': '1.07241', 'bid_o': '1.07318', 'bid_h': '1.07359', 'bid_l': '1.07189', 'bid_c': '1.07234', 'ask_o': '1.07332', 'ask_h': '1.07373', 'ask_l': '1.07203', 'ask_c': '1.07248'}, {'time': '2024-06-11T14:00:00.000000000Z', 'volume': 4250, 'mid_o': '1.07240', 'mid_h': '1.07294', 'mid_l': '1.07198', 'mid_c': '1.07226', 'bid_o': '1.07233', 'bid_h': '1.07287', 'bid_l': '1.07190', 'bid_c': '1.07219', 'ask_o': '1.07247', 'ask_h': '1.07301', 'ask_l': '1.07205', 'ask_c': '1.07233'}, {'time': '2024-06-11T15:00:00.000000000Z', 'volume': 3274, 'mid_o': '1.07224', 'mid_h': '1.07336', 'mid_l': '1.07221', 'mid_c': '1.07326', 'bid_o': '1.07217', 'bid_h': '1.07329', 'bid_l': '1.07214', 'bid_c': '1.07318', 'ask_o': '1.07231', 'ask_h': '1.07343', 'ask_l': '1.07228', 'ask_c': '1.07333'}, {'time': '2024-06-11T16:00:00.000000000Z', 'volume': 1804, 'mid_o': '1.07329', 'mid_h': '1.07390', 'mid_l': '1.07326', 'mid_c': '1.07375', 'bid_o': '1.07322', 'bid_h': '1.07383', 'bid_l': '1.07318', 'bid_c': '1.07367', 'ask_o': '1.07336', 'ask_h': '1.07397', 'ask_l': '1.07333', 'ask_c': '1.07383'}, {'time': '2024-06-11T17:00:00.000000000Z', 'volume': 2340, 'mid_o': '1.07376', 'mid_h': '1.07434', 'mid_l': '1.07368', 'mid_c': '1.07424', 'bid_o': '1.07368', 'bid_h': '1.07426', 'bid_l': '1.07360', 'bid_c': '1.07416', 'ask_o': '1.07383', 'ask_h': '1.07441', 'ask_l': '1.07375', 'ask_c': '1.07431'}, {'time': '2024-06-11T18:00:00.000000000Z', 'volume': 1682, 'mid_o': '1.07422', 'mid_h': '1.07453', 'mid_l': '1.07408', 'mid_c': '1.07438', 'bid_o': '1.07414', 'bid_h': '1.07446', 'bid_l': '1.07400', 'bid_c': '1.07430', 'ask_o': '1.07429', 'ask_h': '1.07460', 'ask_l': '1.07415', 'ask_c': '1.07445'}]\n"
     ]
    }
   ],
   "source": [
    "our_data = []\n",
    "for candle in data['candles']:\n",
    "    if candle['complete'] == False:\n",
    "        continue\n",
    "\n",
    "    new_dict = {}\n",
    "    new_dict['time'] = candle['time']\n",
    "    new_dict['volume'] = candle['volume']\n",
    "    for price in prices:\n",
    "        for oh in ohlc:\n",
    "            new_dict[f\"{price}_{oh}\"] = candle[price][oh]\n",
    "    our_data.append(new_dict)\n",
    "print(our_data)"
   ]
  },
  {
   "cell_type": "code",
   "execution_count": 61,
   "metadata": {},
   "outputs": [
    {
     "data": {
      "text/html": [
       "<div>\n",
       "<style scoped>\n",
       "    .dataframe tbody tr th:only-of-type {\n",
       "        vertical-align: middle;\n",
       "    }\n",
       "\n",
       "    .dataframe tbody tr th {\n",
       "        vertical-align: top;\n",
       "    }\n",
       "\n",
       "    .dataframe thead th {\n",
       "        text-align: right;\n",
       "    }\n",
       "</style>\n",
       "<table border=\"1\" class=\"dataframe\">\n",
       "  <thead>\n",
       "    <tr style=\"text-align: right;\">\n",
       "      <th></th>\n",
       "      <th>time</th>\n",
       "      <th>volume</th>\n",
       "      <th>mid_o</th>\n",
       "      <th>mid_h</th>\n",
       "      <th>mid_l</th>\n",
       "      <th>mid_c</th>\n",
       "      <th>bid_o</th>\n",
       "      <th>bid_h</th>\n",
       "      <th>bid_l</th>\n",
       "      <th>bid_c</th>\n",
       "      <th>ask_o</th>\n",
       "      <th>ask_h</th>\n",
       "      <th>ask_l</th>\n",
       "      <th>ask_c</th>\n",
       "    </tr>\n",
       "  </thead>\n",
       "  <tbody>\n",
       "    <tr>\n",
       "      <th>0</th>\n",
       "      <td>2024-06-11T10:00:00.000000000Z</td>\n",
       "      <td>3669</td>\n",
       "      <td>1.07505</td>\n",
       "      <td>1.07566</td>\n",
       "      <td>1.07366</td>\n",
       "      <td>1.07410</td>\n",
       "      <td>1.07498</td>\n",
       "      <td>1.07558</td>\n",
       "      <td>1.07358</td>\n",
       "      <td>1.07403</td>\n",
       "      <td>1.07512</td>\n",
       "      <td>1.07573</td>\n",
       "      <td>1.07373</td>\n",
       "      <td>1.07417</td>\n",
       "    </tr>\n",
       "    <tr>\n",
       "      <th>1</th>\n",
       "      <td>2024-06-11T11:00:00.000000000Z</td>\n",
       "      <td>3577</td>\n",
       "      <td>1.07413</td>\n",
       "      <td>1.07416</td>\n",
       "      <td>1.07238</td>\n",
       "      <td>1.07292</td>\n",
       "      <td>1.07406</td>\n",
       "      <td>1.07409</td>\n",
       "      <td>1.07230</td>\n",
       "      <td>1.07285</td>\n",
       "      <td>1.07420</td>\n",
       "      <td>1.07423</td>\n",
       "      <td>1.07245</td>\n",
       "      <td>1.07299</td>\n",
       "    </tr>\n",
       "    <tr>\n",
       "      <th>2</th>\n",
       "      <td>2024-06-11T12:00:00.000000000Z</td>\n",
       "      <td>3772</td>\n",
       "      <td>1.07292</td>\n",
       "      <td>1.07365</td>\n",
       "      <td>1.07244</td>\n",
       "      <td>1.07323</td>\n",
       "      <td>1.07284</td>\n",
       "      <td>1.07358</td>\n",
       "      <td>1.07237</td>\n",
       "      <td>1.07316</td>\n",
       "      <td>1.07299</td>\n",
       "      <td>1.07372</td>\n",
       "      <td>1.07252</td>\n",
       "      <td>1.07330</td>\n",
       "    </tr>\n",
       "    <tr>\n",
       "      <th>3</th>\n",
       "      <td>2024-06-11T13:00:00.000000000Z</td>\n",
       "      <td>4500</td>\n",
       "      <td>1.07325</td>\n",
       "      <td>1.07366</td>\n",
       "      <td>1.07196</td>\n",
       "      <td>1.07241</td>\n",
       "      <td>1.07318</td>\n",
       "      <td>1.07359</td>\n",
       "      <td>1.07189</td>\n",
       "      <td>1.07234</td>\n",
       "      <td>1.07332</td>\n",
       "      <td>1.07373</td>\n",
       "      <td>1.07203</td>\n",
       "      <td>1.07248</td>\n",
       "    </tr>\n",
       "    <tr>\n",
       "      <th>4</th>\n",
       "      <td>2024-06-11T14:00:00.000000000Z</td>\n",
       "      <td>4250</td>\n",
       "      <td>1.07240</td>\n",
       "      <td>1.07294</td>\n",
       "      <td>1.07198</td>\n",
       "      <td>1.07226</td>\n",
       "      <td>1.07233</td>\n",
       "      <td>1.07287</td>\n",
       "      <td>1.07190</td>\n",
       "      <td>1.07219</td>\n",
       "      <td>1.07247</td>\n",
       "      <td>1.07301</td>\n",
       "      <td>1.07205</td>\n",
       "      <td>1.07233</td>\n",
       "    </tr>\n",
       "    <tr>\n",
       "      <th>5</th>\n",
       "      <td>2024-06-11T15:00:00.000000000Z</td>\n",
       "      <td>3274</td>\n",
       "      <td>1.07224</td>\n",
       "      <td>1.07336</td>\n",
       "      <td>1.07221</td>\n",
       "      <td>1.07326</td>\n",
       "      <td>1.07217</td>\n",
       "      <td>1.07329</td>\n",
       "      <td>1.07214</td>\n",
       "      <td>1.07318</td>\n",
       "      <td>1.07231</td>\n",
       "      <td>1.07343</td>\n",
       "      <td>1.07228</td>\n",
       "      <td>1.07333</td>\n",
       "    </tr>\n",
       "    <tr>\n",
       "      <th>6</th>\n",
       "      <td>2024-06-11T16:00:00.000000000Z</td>\n",
       "      <td>1804</td>\n",
       "      <td>1.07329</td>\n",
       "      <td>1.07390</td>\n",
       "      <td>1.07326</td>\n",
       "      <td>1.07375</td>\n",
       "      <td>1.07322</td>\n",
       "      <td>1.07383</td>\n",
       "      <td>1.07318</td>\n",
       "      <td>1.07367</td>\n",
       "      <td>1.07336</td>\n",
       "      <td>1.07397</td>\n",
       "      <td>1.07333</td>\n",
       "      <td>1.07383</td>\n",
       "    </tr>\n",
       "    <tr>\n",
       "      <th>7</th>\n",
       "      <td>2024-06-11T17:00:00.000000000Z</td>\n",
       "      <td>2340</td>\n",
       "      <td>1.07376</td>\n",
       "      <td>1.07434</td>\n",
       "      <td>1.07368</td>\n",
       "      <td>1.07424</td>\n",
       "      <td>1.07368</td>\n",
       "      <td>1.07426</td>\n",
       "      <td>1.07360</td>\n",
       "      <td>1.07416</td>\n",
       "      <td>1.07383</td>\n",
       "      <td>1.07441</td>\n",
       "      <td>1.07375</td>\n",
       "      <td>1.07431</td>\n",
       "    </tr>\n",
       "    <tr>\n",
       "      <th>8</th>\n",
       "      <td>2024-06-11T18:00:00.000000000Z</td>\n",
       "      <td>1682</td>\n",
       "      <td>1.07422</td>\n",
       "      <td>1.07453</td>\n",
       "      <td>1.07408</td>\n",
       "      <td>1.07438</td>\n",
       "      <td>1.07414</td>\n",
       "      <td>1.07446</td>\n",
       "      <td>1.07400</td>\n",
       "      <td>1.07430</td>\n",
       "      <td>1.07429</td>\n",
       "      <td>1.07460</td>\n",
       "      <td>1.07415</td>\n",
       "      <td>1.07445</td>\n",
       "    </tr>\n",
       "  </tbody>\n",
       "</table>\n",
       "</div>"
      ],
      "text/plain": [
       "                             time  volume    mid_o    mid_h    mid_l    mid_c  \\\n",
       "0  2024-06-11T10:00:00.000000000Z    3669  1.07505  1.07566  1.07366  1.07410   \n",
       "1  2024-06-11T11:00:00.000000000Z    3577  1.07413  1.07416  1.07238  1.07292   \n",
       "2  2024-06-11T12:00:00.000000000Z    3772  1.07292  1.07365  1.07244  1.07323   \n",
       "3  2024-06-11T13:00:00.000000000Z    4500  1.07325  1.07366  1.07196  1.07241   \n",
       "4  2024-06-11T14:00:00.000000000Z    4250  1.07240  1.07294  1.07198  1.07226   \n",
       "5  2024-06-11T15:00:00.000000000Z    3274  1.07224  1.07336  1.07221  1.07326   \n",
       "6  2024-06-11T16:00:00.000000000Z    1804  1.07329  1.07390  1.07326  1.07375   \n",
       "7  2024-06-11T17:00:00.000000000Z    2340  1.07376  1.07434  1.07368  1.07424   \n",
       "8  2024-06-11T18:00:00.000000000Z    1682  1.07422  1.07453  1.07408  1.07438   \n",
       "\n",
       "     bid_o    bid_h    bid_l    bid_c    ask_o    ask_h    ask_l    ask_c  \n",
       "0  1.07498  1.07558  1.07358  1.07403  1.07512  1.07573  1.07373  1.07417  \n",
       "1  1.07406  1.07409  1.07230  1.07285  1.07420  1.07423  1.07245  1.07299  \n",
       "2  1.07284  1.07358  1.07237  1.07316  1.07299  1.07372  1.07252  1.07330  \n",
       "3  1.07318  1.07359  1.07189  1.07234  1.07332  1.07373  1.07203  1.07248  \n",
       "4  1.07233  1.07287  1.07190  1.07219  1.07247  1.07301  1.07205  1.07233  \n",
       "5  1.07217  1.07329  1.07214  1.07318  1.07231  1.07343  1.07228  1.07333  \n",
       "6  1.07322  1.07383  1.07318  1.07367  1.07336  1.07397  1.07333  1.07383  \n",
       "7  1.07368  1.07426  1.07360  1.07416  1.07383  1.07441  1.07375  1.07431  \n",
       "8  1.07414  1.07446  1.07400  1.07430  1.07429  1.07460  1.07415  1.07445  "
      ]
     },
     "execution_count": 61,
     "metadata": {},
     "output_type": "execute_result"
    }
   ],
   "source": [
    "#data['candles'][0]['bid']['o']\n",
    "\n",
    "candles_df = pd.DataFrame.from_dict(our_data)\n",
    "candles_df"
   ]
  },
  {
   "cell_type": "code",
   "execution_count": 62,
   "metadata": {},
   "outputs": [],
   "source": [
    "candles_df.to_pickle(\"EUR_USD_H1.pkl\")"
   ]
  }
 ],
 "metadata": {
  "kernelspec": {
   "display_name": "venv",
   "language": "python",
   "name": "python3"
  },
  "language_info": {
   "codemirror_mode": {
    "name": "ipython",
    "version": 3
   },
   "file_extension": ".py",
   "mimetype": "text/x-python",
   "name": "python",
   "nbconvert_exporter": "python",
   "pygments_lexer": "ipython3",
   "version": "3.9.13"
  }
 },
 "nbformat": 4,
 "nbformat_minor": 2
}
