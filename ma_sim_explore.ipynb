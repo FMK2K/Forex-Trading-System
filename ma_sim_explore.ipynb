{
 "cells": [
  {
   "cell_type": "code",
   "execution_count": 1,
   "metadata": {},
   "outputs": [],
   "source": [
    "import pandas as pd\n",
    "import plotly.graph_objects as go"
   ]
  },
  {
   "cell_type": "code",
   "execution_count": 2,
   "metadata": {},
   "outputs": [],
   "source": [
    "ma_test_res = pd.read_pickle(\"ma_test_res.pkl\")\n",
    "all_trades = pd.read_pickle(\"all_trades.pkl\")"
   ]
  },
  {
   "cell_type": "code",
   "execution_count": 3,
   "metadata": {},
   "outputs": [
    {
     "data": {
      "text/plain": [
       "(15862, 11)"
      ]
     },
     "execution_count": 3,
     "metadata": {},
     "output_type": "execute_result"
    }
   ],
   "source": [
    "all_trades.shape"
   ]
  },
  {
   "cell_type": "code",
   "execution_count": 4,
   "metadata": {},
   "outputs": [
    {
     "data": {
      "text/plain": [
       "(255, 8)"
      ]
     },
     "execution_count": 4,
     "metadata": {},
     "output_type": "execute_result"
    }
   ],
   "source": [
    "ma_test_res.shape"
   ]
  },
  {
   "cell_type": "code",
   "execution_count": 5,
   "metadata": {},
   "outputs": [
    {
     "data": {
      "text/html": [
       "<div>\n",
       "<style scoped>\n",
       "    .dataframe tbody tr th:only-of-type {\n",
       "        vertical-align: middle;\n",
       "    }\n",
       "\n",
       "    .dataframe tbody tr th {\n",
       "        vertical-align: top;\n",
       "    }\n",
       "\n",
       "    .dataframe thead th {\n",
       "        text-align: right;\n",
       "    }\n",
       "</style>\n",
       "<table border=\"1\" class=\"dataframe\">\n",
       "  <thead>\n",
       "    <tr style=\"text-align: right;\">\n",
       "      <th></th>\n",
       "      <th>pair</th>\n",
       "      <th>num_trades</th>\n",
       "      <th>total_gain</th>\n",
       "      <th>mean_gain</th>\n",
       "      <th>min_gain</th>\n",
       "      <th>max_gain</th>\n",
       "      <th>mashort</th>\n",
       "      <th>malong</th>\n",
       "    </tr>\n",
       "  </thead>\n",
       "  <tbody>\n",
       "    <tr>\n",
       "      <th>0</th>\n",
       "      <td>GBP_CAD</td>\n",
       "      <td>165</td>\n",
       "      <td>-1387.6</td>\n",
       "      <td>-8.409697</td>\n",
       "      <td>-82.0</td>\n",
       "      <td>164.1</td>\n",
       "      <td>8</td>\n",
       "      <td>32</td>\n",
       "    </tr>\n",
       "    <tr>\n",
       "      <th>1</th>\n",
       "      <td>GBP_CAD</td>\n",
       "      <td>139</td>\n",
       "      <td>-1071.6</td>\n",
       "      <td>-7.709353</td>\n",
       "      <td>-130.4</td>\n",
       "      <td>149.5</td>\n",
       "      <td>16</td>\n",
       "      <td>32</td>\n",
       "    </tr>\n",
       "    <tr>\n",
       "      <th>2</th>\n",
       "      <td>GBP_CAD</td>\n",
       "      <td>101</td>\n",
       "      <td>-1038.2</td>\n",
       "      <td>-10.279208</td>\n",
       "      <td>-129.7</td>\n",
       "      <td>265.4</td>\n",
       "      <td>8</td>\n",
       "      <td>64</td>\n",
       "    </tr>\n",
       "    <tr>\n",
       "      <th>3</th>\n",
       "      <td>GBP_CAD</td>\n",
       "      <td>85</td>\n",
       "      <td>-1241.8</td>\n",
       "      <td>-14.609412</td>\n",
       "      <td>-169.6</td>\n",
       "      <td>255.8</td>\n",
       "      <td>16</td>\n",
       "      <td>64</td>\n",
       "    </tr>\n",
       "    <tr>\n",
       "      <th>4</th>\n",
       "      <td>GBP_CAD</td>\n",
       "      <td>75</td>\n",
       "      <td>-1179.1</td>\n",
       "      <td>-15.721333</td>\n",
       "      <td>-130.8</td>\n",
       "      <td>235.8</td>\n",
       "      <td>32</td>\n",
       "      <td>64</td>\n",
       "    </tr>\n",
       "  </tbody>\n",
       "</table>\n",
       "</div>"
      ],
      "text/plain": [
       "      pair  num_trades  total_gain  mean_gain  min_gain  max_gain  mashort  \\\n",
       "0  GBP_CAD         165     -1387.6  -8.409697     -82.0     164.1        8   \n",
       "1  GBP_CAD         139     -1071.6  -7.709353    -130.4     149.5       16   \n",
       "2  GBP_CAD         101     -1038.2 -10.279208    -129.7     265.4        8   \n",
       "3  GBP_CAD          85     -1241.8 -14.609412    -169.6     255.8       16   \n",
       "4  GBP_CAD          75     -1179.1 -15.721333    -130.8     235.8       32   \n",
       "\n",
       "   malong  \n",
       "0      32  \n",
       "1      32  \n",
       "2      64  \n",
       "3      64  \n",
       "4      64  "
      ]
     },
     "execution_count": 5,
     "metadata": {},
     "output_type": "execute_result"
    }
   ],
   "source": [
    "ma_test_res.head()"
   ]
  },
  {
   "cell_type": "code",
   "execution_count": 6,
   "metadata": {},
   "outputs": [
    {
     "data": {
      "text/plain": [
       "Index(['pair', 'num_trades', 'total_gain', 'mean_gain', 'min_gain', 'max_gain',\n",
       "       'mashort', 'malong'],\n",
       "      dtype='object')"
      ]
     },
     "execution_count": 6,
     "metadata": {},
     "output_type": "execute_result"
    }
   ],
   "source": [
    "ma_test_res.columns"
   ]
  },
  {
   "cell_type": "code",
   "execution_count": 7,
   "metadata": {},
   "outputs": [],
   "source": [
    "ma_test_res = ma_test_res[['pair', 'num_trades', 'total_gain', 'mashort', 'malong']]"
   ]
  },
  {
   "cell_type": "code",
   "execution_count": 8,
   "metadata": {},
   "outputs": [],
   "source": [
    "ma_test_res[\"CROSS\"] = \"MA_\"+ma_test_res.mashort.map(str) +\"_\"+ma_test_res.malong.map(str)"
   ]
  },
  {
   "cell_type": "code",
   "execution_count": 9,
   "metadata": {},
   "outputs": [],
   "source": [
    "df_all_gains = ma_test_res.groupby(by=[\"CROSS\",\"mashort\",\"malong\"], as_index=False).sum()\n",
    "df_all_gains = df_all_gains[['CROSS', 'num_trades', 'total_gain', 'mashort', 'malong']]"
   ]
  },
  {
   "cell_type": "code",
   "execution_count": 10,
   "metadata": {},
   "outputs": [],
   "source": [
    "df_all_gains.sort_values(by='total_gain', ascending=False, inplace=True)"
   ]
  },
  {
   "cell_type": "code",
   "execution_count": 11,
   "metadata": {},
   "outputs": [
    {
     "data": {
      "text/html": [
       "<div>\n",
       "<style scoped>\n",
       "    .dataframe tbody tr th:only-of-type {\n",
       "        vertical-align: middle;\n",
       "    }\n",
       "\n",
       "    .dataframe tbody tr th {\n",
       "        vertical-align: top;\n",
       "    }\n",
       "\n",
       "    .dataframe thead th {\n",
       "        text-align: right;\n",
       "    }\n",
       "</style>\n",
       "<table border=\"1\" class=\"dataframe\">\n",
       "  <thead>\n",
       "    <tr style=\"text-align: right;\">\n",
       "      <th></th>\n",
       "      <th>CROSS</th>\n",
       "      <th>num_trades</th>\n",
       "      <th>total_gain</th>\n",
       "      <th>mashort</th>\n",
       "      <th>malong</th>\n",
       "    </tr>\n",
       "  </thead>\n",
       "  <tbody>\n",
       "    <tr>\n",
       "      <th>2</th>\n",
       "      <td>MA_16_32</td>\n",
       "      <td>2042</td>\n",
       "      <td>-358.3</td>\n",
       "      <td>16</td>\n",
       "      <td>32</td>\n",
       "    </tr>\n",
       "    <tr>\n",
       "      <th>15</th>\n",
       "      <td>MA_8_64</td>\n",
       "      <td>1462</td>\n",
       "      <td>-1734.8</td>\n",
       "      <td>8</td>\n",
       "      <td>64</td>\n",
       "    </tr>\n",
       "    <tr>\n",
       "      <th>14</th>\n",
       "      <td>MA_8_32</td>\n",
       "      <td>2289</td>\n",
       "      <td>-2996.5</td>\n",
       "      <td>8</td>\n",
       "      <td>32</td>\n",
       "    </tr>\n",
       "    <tr>\n",
       "      <th>10</th>\n",
       "      <td>MA_64_256</td>\n",
       "      <td>262</td>\n",
       "      <td>-3578.2</td>\n",
       "      <td>64</td>\n",
       "      <td>256</td>\n",
       "    </tr>\n",
       "    <tr>\n",
       "      <th>9</th>\n",
       "      <td>MA_64_128</td>\n",
       "      <td>496</td>\n",
       "      <td>-3702.1</td>\n",
       "      <td>64</td>\n",
       "      <td>128</td>\n",
       "    </tr>\n",
       "  </tbody>\n",
       "</table>\n",
       "</div>"
      ],
      "text/plain": [
       "        CROSS  num_trades  total_gain  mashort  malong\n",
       "2    MA_16_32        2042      -358.3       16      32\n",
       "15    MA_8_64        1462     -1734.8        8      64\n",
       "14    MA_8_32        2289     -2996.5        8      32\n",
       "10  MA_64_256         262     -3578.2       64     256\n",
       "9   MA_64_128         496     -3702.1       64     128"
      ]
     },
     "execution_count": 11,
     "metadata": {},
     "output_type": "execute_result"
    }
   ],
   "source": [
    "df_all_gains.head()"
   ]
  },
  {
   "cell_type": "code",
   "execution_count": 12,
   "metadata": {},
   "outputs": [],
   "source": [
    "ma_16_32 = ma_test_res[ma_test_res.CROSS=='MA_16_32'].copy()"
   ]
  },
  {
   "cell_type": "code",
   "execution_count": 13,
   "metadata": {},
   "outputs": [],
   "source": [
    "total_p = len(ma_16_32.pair.unique())"
   ]
  },
  {
   "cell_type": "code",
   "execution_count": 14,
   "metadata": {},
   "outputs": [
    {
     "data": {
      "text/plain": [
       "8"
      ]
     },
     "execution_count": 14,
     "metadata": {},
     "output_type": "execute_result"
    }
   ],
   "source": [
    "ma_16_32[ma_16_32.total_gain>0].shape[0]\n",
    "\n",
    "# %that_are_good = ma_16_32[ma_16_32.total_gain>0].shape[0]/total_p"
   ]
  },
  {
   "cell_type": "code",
   "execution_count": 15,
   "metadata": {},
   "outputs": [
    {
     "data": {
      "text/html": [
       "<div>\n",
       "<style scoped>\n",
       "    .dataframe tbody tr th:only-of-type {\n",
       "        vertical-align: middle;\n",
       "    }\n",
       "\n",
       "    .dataframe tbody tr th {\n",
       "        vertical-align: top;\n",
       "    }\n",
       "\n",
       "    .dataframe thead th {\n",
       "        text-align: right;\n",
       "    }\n",
       "</style>\n",
       "<table border=\"1\" class=\"dataframe\">\n",
       "  <thead>\n",
       "    <tr style=\"text-align: right;\">\n",
       "      <th></th>\n",
       "      <th>pair</th>\n",
       "      <th>num_trades</th>\n",
       "      <th>total_gain</th>\n",
       "      <th>mashort</th>\n",
       "      <th>malong</th>\n",
       "      <th>CROSS</th>\n",
       "    </tr>\n",
       "  </thead>\n",
       "  <tbody>\n",
       "    <tr>\n",
       "      <th>1</th>\n",
       "      <td>GBP_CAD</td>\n",
       "      <td>139</td>\n",
       "      <td>-1071.6</td>\n",
       "      <td>16</td>\n",
       "      <td>32</td>\n",
       "      <td>MA_16_32</td>\n",
       "    </tr>\n",
       "    <tr>\n",
       "      <th>18</th>\n",
       "      <td>GBP_JPY</td>\n",
       "      <td>119</td>\n",
       "      <td>2620.3</td>\n",
       "      <td>16</td>\n",
       "      <td>32</td>\n",
       "      <td>MA_16_32</td>\n",
       "    </tr>\n",
       "    <tr>\n",
       "      <th>35</th>\n",
       "      <td>GBP_NZD</td>\n",
       "      <td>140</td>\n",
       "      <td>-71.7</td>\n",
       "      <td>16</td>\n",
       "      <td>32</td>\n",
       "      <td>MA_16_32</td>\n",
       "    </tr>\n",
       "    <tr>\n",
       "      <th>52</th>\n",
       "      <td>GBP_CHF</td>\n",
       "      <td>131</td>\n",
       "      <td>1208.0</td>\n",
       "      <td>16</td>\n",
       "      <td>32</td>\n",
       "      <td>MA_16_32</td>\n",
       "    </tr>\n",
       "    <tr>\n",
       "      <th>69</th>\n",
       "      <td>EUR_GBP</td>\n",
       "      <td>153</td>\n",
       "      <td>57.5</td>\n",
       "      <td>16</td>\n",
       "      <td>32</td>\n",
       "      <td>MA_16_32</td>\n",
       "    </tr>\n",
       "    <tr>\n",
       "      <th>86</th>\n",
       "      <td>EUR_CAD</td>\n",
       "      <td>141</td>\n",
       "      <td>-1172.4</td>\n",
       "      <td>16</td>\n",
       "      <td>32</td>\n",
       "      <td>MA_16_32</td>\n",
       "    </tr>\n",
       "    <tr>\n",
       "      <th>103</th>\n",
       "      <td>EUR_JPY</td>\n",
       "      <td>117</td>\n",
       "      <td>1238.7</td>\n",
       "      <td>16</td>\n",
       "      <td>32</td>\n",
       "      <td>MA_16_32</td>\n",
       "    </tr>\n",
       "    <tr>\n",
       "      <th>120</th>\n",
       "      <td>EUR_NZD</td>\n",
       "      <td>152</td>\n",
       "      <td>-2356.3</td>\n",
       "      <td>16</td>\n",
       "      <td>32</td>\n",
       "      <td>MA_16_32</td>\n",
       "    </tr>\n",
       "    <tr>\n",
       "      <th>137</th>\n",
       "      <td>EUR_CHF</td>\n",
       "      <td>135</td>\n",
       "      <td>215.8</td>\n",
       "      <td>16</td>\n",
       "      <td>32</td>\n",
       "      <td>MA_16_32</td>\n",
       "    </tr>\n",
       "    <tr>\n",
       "      <th>154</th>\n",
       "      <td>CAD_JPY</td>\n",
       "      <td>141</td>\n",
       "      <td>15.6</td>\n",
       "      <td>16</td>\n",
       "      <td>32</td>\n",
       "      <td>MA_16_32</td>\n",
       "    </tr>\n",
       "  </tbody>\n",
       "</table>\n",
       "</div>"
      ],
      "text/plain": [
       "        pair  num_trades  total_gain  mashort  malong     CROSS\n",
       "1    GBP_CAD         139     -1071.6       16      32  MA_16_32\n",
       "18   GBP_JPY         119      2620.3       16      32  MA_16_32\n",
       "35   GBP_NZD         140       -71.7       16      32  MA_16_32\n",
       "52   GBP_CHF         131      1208.0       16      32  MA_16_32\n",
       "69   EUR_GBP         153        57.5       16      32  MA_16_32\n",
       "86   EUR_CAD         141     -1172.4       16      32  MA_16_32\n",
       "103  EUR_JPY         117      1238.7       16      32  MA_16_32\n",
       "120  EUR_NZD         152     -2356.3       16      32  MA_16_32\n",
       "137  EUR_CHF         135       215.8       16      32  MA_16_32\n",
       "154  CAD_JPY         141        15.6       16      32  MA_16_32"
      ]
     },
     "execution_count": 15,
     "metadata": {},
     "output_type": "execute_result"
    }
   ],
   "source": [
    "ma_16_32.head(10)"
   ]
  },
  {
   "cell_type": "code",
   "execution_count": 16,
   "metadata": {},
   "outputs": [
    {
     "name": "stdout",
     "output_type": "stream",
     "text": [
      "MA_16_32        8   53%\n",
      "MA_8_64         6   40%\n",
      "MA_8_32         7   47%\n",
      "MA_64_256       5   33%\n",
      "MA_64_128       4   27%\n",
      "MA_32_64        6   40%\n",
      "MA_8_256        3   20%\n",
      "MA_16_128       6   40%\n",
      "MA_32_128       4   27%\n",
      "MA_16_64        5   33%\n",
      "MA_32_96        5   33%\n",
      "MA_8_128        4   27%\n",
      "MA_32_256       4   27%\n",
      "MA_16_96        4   27%\n",
      "MA_16_256       3   20%\n",
      "MA_8_96         3   20%\n",
      "MA_64_96        2   13%\n"
     ]
    }
   ],
   "source": [
    "for cross in df_all_gains.CROSS.unique():\n",
    "    df_temp = ma_test_res[ma_test_res.CROSS==cross]\n",
    "    #print(rsi_period)\n",
    "    #print(df_temp.head())    \n",
    "    total_p = df_temp.shape[0]\n",
    "    n_good = df_temp[df_temp.total_gain>0].shape[0]\n",
    "    print(f\"{cross:12} {n_good: 4} {(n_good/total_p)*100:4.0f}%\") "
   ]
  },
  {
   "cell_type": "code",
   "execution_count": 17,
   "metadata": {},
   "outputs": [
    {
     "data": {
      "text/plain": [
       "array(['MA_16_32', 'MA_8_64', 'MA_8_32'], dtype=object)"
      ]
     },
     "execution_count": 17,
     "metadata": {},
     "output_type": "execute_result"
    }
   ],
   "source": [
    "crosses = df_all_gains.CROSS.unique()[:3]\n",
    "crosses"
   ]
  },
  {
   "cell_type": "code",
   "execution_count": 18,
   "metadata": {},
   "outputs": [],
   "source": [
    "#2 selection criteria: cross is in our list of crosses & total gain is > 0\n",
    "df_good = ma_test_res[(ma_test_res.CROSS.isin(crosses))&(ma_test_res.total_gain>0)].copy()\n"
   ]
  },
  {
   "cell_type": "code",
   "execution_count": 19,
   "metadata": {},
   "outputs": [
    {
     "data": {
      "text/html": [
       "<div>\n",
       "<style scoped>\n",
       "    .dataframe tbody tr th:only-of-type {\n",
       "        vertical-align: middle;\n",
       "    }\n",
       "\n",
       "    .dataframe tbody tr th {\n",
       "        vertical-align: top;\n",
       "    }\n",
       "\n",
       "    .dataframe thead th {\n",
       "        text-align: right;\n",
       "    }\n",
       "</style>\n",
       "<table border=\"1\" class=\"dataframe\">\n",
       "  <thead>\n",
       "    <tr style=\"text-align: right;\">\n",
       "      <th></th>\n",
       "      <th>pair</th>\n",
       "      <th>num_trades</th>\n",
       "      <th>total_gain</th>\n",
       "      <th>mashort</th>\n",
       "      <th>malong</th>\n",
       "      <th>CROSS</th>\n",
       "    </tr>\n",
       "  </thead>\n",
       "  <tbody>\n",
       "    <tr>\n",
       "      <th>17</th>\n",
       "      <td>GBP_JPY</td>\n",
       "      <td>151</td>\n",
       "      <td>1715.2</td>\n",
       "      <td>8</td>\n",
       "      <td>32</td>\n",
       "      <td>MA_8_32</td>\n",
       "    </tr>\n",
       "    <tr>\n",
       "      <th>18</th>\n",
       "      <td>GBP_JPY</td>\n",
       "      <td>119</td>\n",
       "      <td>2620.3</td>\n",
       "      <td>16</td>\n",
       "      <td>32</td>\n",
       "      <td>MA_16_32</td>\n",
       "    </tr>\n",
       "    <tr>\n",
       "      <th>19</th>\n",
       "      <td>GBP_JPY</td>\n",
       "      <td>84</td>\n",
       "      <td>1581.2</td>\n",
       "      <td>8</td>\n",
       "      <td>64</td>\n",
       "      <td>MA_8_64</td>\n",
       "    </tr>\n",
       "    <tr>\n",
       "      <th>51</th>\n",
       "      <td>GBP_CHF</td>\n",
       "      <td>155</td>\n",
       "      <td>386.6</td>\n",
       "      <td>8</td>\n",
       "      <td>32</td>\n",
       "      <td>MA_8_32</td>\n",
       "    </tr>\n",
       "    <tr>\n",
       "      <th>52</th>\n",
       "      <td>GBP_CHF</td>\n",
       "      <td>131</td>\n",
       "      <td>1208.0</td>\n",
       "      <td>16</td>\n",
       "      <td>32</td>\n",
       "      <td>MA_16_32</td>\n",
       "    </tr>\n",
       "  </tbody>\n",
       "</table>\n",
       "</div>"
      ],
      "text/plain": [
       "       pair  num_trades  total_gain  mashort  malong     CROSS\n",
       "17  GBP_JPY         151      1715.2        8      32   MA_8_32\n",
       "18  GBP_JPY         119      2620.3       16      32  MA_16_32\n",
       "19  GBP_JPY          84      1581.2        8      64   MA_8_64\n",
       "51  GBP_CHF         155       386.6        8      32   MA_8_32\n",
       "52  GBP_CHF         131      1208.0       16      32  MA_16_32"
      ]
     },
     "execution_count": 19,
     "metadata": {},
     "output_type": "execute_result"
    }
   ],
   "source": [
    "df_good.head()"
   ]
  },
  {
   "cell_type": "code",
   "execution_count": 20,
   "metadata": {},
   "outputs": [],
   "source": [
    "our_pairs = list(df_good.pair.value_counts()[:5].index)"
   ]
  },
  {
   "cell_type": "code",
   "execution_count": 21,
   "metadata": {},
   "outputs": [
    {
     "data": {
      "text/html": [
       "<div>\n",
       "<style scoped>\n",
       "    .dataframe tbody tr th:only-of-type {\n",
       "        vertical-align: middle;\n",
       "    }\n",
       "\n",
       "    .dataframe tbody tr th {\n",
       "        vertical-align: top;\n",
       "    }\n",
       "\n",
       "    .dataframe thead th {\n",
       "        text-align: right;\n",
       "    }\n",
       "</style>\n",
       "<table border=\"1\" class=\"dataframe\">\n",
       "  <thead>\n",
       "    <tr style=\"text-align: right;\">\n",
       "      <th></th>\n",
       "      <th>time</th>\n",
       "      <th>mid_c</th>\n",
       "      <th>DIFF</th>\n",
       "      <th>DIFF_PREV</th>\n",
       "      <th>IS_TRADE</th>\n",
       "      <th>DELTA</th>\n",
       "      <th>GAIN</th>\n",
       "      <th>PAIR</th>\n",
       "      <th>MASHORT</th>\n",
       "      <th>MALONG</th>\n",
       "      <th>DURATION</th>\n",
       "    </tr>\n",
       "  </thead>\n",
       "  <tbody>\n",
       "    <tr>\n",
       "      <th>56</th>\n",
       "      <td>2023-10-24 15:00:00+00:00</td>\n",
       "      <td>1.67262</td>\n",
       "      <td>-0.000385</td>\n",
       "      <td>0.000255</td>\n",
       "      <td>-1</td>\n",
       "      <td>-19.2</td>\n",
       "      <td>19.2</td>\n",
       "      <td>GBP_CAD</td>\n",
       "      <td>8</td>\n",
       "      <td>32</td>\n",
       "      <td>28.0</td>\n",
       "    </tr>\n",
       "    <tr>\n",
       "      <th>84</th>\n",
       "      <td>2023-10-25 19:00:00+00:00</td>\n",
       "      <td>1.67070</td>\n",
       "      <td>0.000163</td>\n",
       "      <td>-0.000276</td>\n",
       "      <td>1</td>\n",
       "      <td>-2.8</td>\n",
       "      <td>-2.8</td>\n",
       "      <td>GBP_CAD</td>\n",
       "      <td>8</td>\n",
       "      <td>32</td>\n",
       "      <td>3.0</td>\n",
       "    </tr>\n",
       "    <tr>\n",
       "      <th>87</th>\n",
       "      <td>2023-10-25 22:00:00+00:00</td>\n",
       "      <td>1.67042</td>\n",
       "      <td>-0.000008</td>\n",
       "      <td>0.000322</td>\n",
       "      <td>-1</td>\n",
       "      <td>48.2</td>\n",
       "      <td>-48.2</td>\n",
       "      <td>GBP_CAD</td>\n",
       "      <td>8</td>\n",
       "      <td>32</td>\n",
       "      <td>16.0</td>\n",
       "    </tr>\n",
       "    <tr>\n",
       "      <th>103</th>\n",
       "      <td>2023-10-26 14:00:00+00:00</td>\n",
       "      <td>1.67524</td>\n",
       "      <td>0.000337</td>\n",
       "      <td>-0.000410</td>\n",
       "      <td>1</td>\n",
       "      <td>47.9</td>\n",
       "      <td>47.9</td>\n",
       "      <td>GBP_CAD</td>\n",
       "      <td>8</td>\n",
       "      <td>32</td>\n",
       "      <td>94.0</td>\n",
       "    </tr>\n",
       "    <tr>\n",
       "      <th>149</th>\n",
       "      <td>2023-10-30 12:00:00+00:00</td>\n",
       "      <td>1.68003</td>\n",
       "      <td>-0.000086</td>\n",
       "      <td>0.000007</td>\n",
       "      <td>-1</td>\n",
       "      <td>18.3</td>\n",
       "      <td>-18.3</td>\n",
       "      <td>GBP_CAD</td>\n",
       "      <td>8</td>\n",
       "      <td>32</td>\n",
       "      <td>4.0</td>\n",
       "    </tr>\n",
       "    <tr>\n",
       "      <th>...</th>\n",
       "      <td>...</td>\n",
       "      <td>...</td>\n",
       "      <td>...</td>\n",
       "      <td>...</td>\n",
       "      <td>...</td>\n",
       "      <td>...</td>\n",
       "      <td>...</td>\n",
       "      <td>...</td>\n",
       "      <td>...</td>\n",
       "      <td>...</td>\n",
       "      <td>...</td>\n",
       "    </tr>\n",
       "    <tr>\n",
       "      <th>2632</th>\n",
       "      <td>2024-03-25 23:00:00+00:00</td>\n",
       "      <td>168.27900</td>\n",
       "      <td>-0.032848</td>\n",
       "      <td>0.009516</td>\n",
       "      <td>-1</td>\n",
       "      <td>-36.5</td>\n",
       "      <td>36.5</td>\n",
       "      <td>CHF_JPY</td>\n",
       "      <td>64</td>\n",
       "      <td>256</td>\n",
       "      <td>314.0</td>\n",
       "    </tr>\n",
       "    <tr>\n",
       "      <th>2850</th>\n",
       "      <td>2024-04-08 01:00:00+00:00</td>\n",
       "      <td>167.91400</td>\n",
       "      <td>0.004055</td>\n",
       "      <td>-0.013453</td>\n",
       "      <td>1</td>\n",
       "      <td>39.4</td>\n",
       "      <td>39.4</td>\n",
       "      <td>CHF_JPY</td>\n",
       "      <td>64</td>\n",
       "      <td>256</td>\n",
       "      <td>601.0</td>\n",
       "    </tr>\n",
       "    <tr>\n",
       "      <th>3307</th>\n",
       "      <td>2024-05-03 02:00:00+00:00</td>\n",
       "      <td>168.30800</td>\n",
       "      <td>-0.022883</td>\n",
       "      <td>0.030453</td>\n",
       "      <td>-1</td>\n",
       "      <td>311.6</td>\n",
       "      <td>-311.6</td>\n",
       "      <td>CHF_JPY</td>\n",
       "      <td>64</td>\n",
       "      <td>256</td>\n",
       "      <td>151.0</td>\n",
       "    </tr>\n",
       "    <tr>\n",
       "      <th>3410</th>\n",
       "      <td>2024-05-09 09:00:00+00:00</td>\n",
       "      <td>171.42400</td>\n",
       "      <td>0.007254</td>\n",
       "      <td>-0.011078</td>\n",
       "      <td>1</td>\n",
       "      <td>2.2</td>\n",
       "      <td>2.2</td>\n",
       "      <td>CHF_JPY</td>\n",
       "      <td>64</td>\n",
       "      <td>256</td>\n",
       "      <td>295.0</td>\n",
       "    </tr>\n",
       "    <tr>\n",
       "      <th>3607</th>\n",
       "      <td>2024-05-21 16:00:00+00:00</td>\n",
       "      <td>171.44600</td>\n",
       "      <td>-0.001484</td>\n",
       "      <td>0.005070</td>\n",
       "      <td>-1</td>\n",
       "      <td>90.5</td>\n",
       "      <td>-90.5</td>\n",
       "      <td>CHF_JPY</td>\n",
       "      <td>64</td>\n",
       "      <td>256</td>\n",
       "      <td>161.0</td>\n",
       "    </tr>\n",
       "  </tbody>\n",
       "</table>\n",
       "<p>15862 rows × 11 columns</p>\n",
       "</div>"
      ],
      "text/plain": [
       "                          time      mid_c      DIFF  DIFF_PREV  IS_TRADE  \\\n",
       "56   2023-10-24 15:00:00+00:00    1.67262 -0.000385   0.000255        -1   \n",
       "84   2023-10-25 19:00:00+00:00    1.67070  0.000163  -0.000276         1   \n",
       "87   2023-10-25 22:00:00+00:00    1.67042 -0.000008   0.000322        -1   \n",
       "103  2023-10-26 14:00:00+00:00    1.67524  0.000337  -0.000410         1   \n",
       "149  2023-10-30 12:00:00+00:00    1.68003 -0.000086   0.000007        -1   \n",
       "...                        ...        ...       ...        ...       ...   \n",
       "2632 2024-03-25 23:00:00+00:00  168.27900 -0.032848   0.009516        -1   \n",
       "2850 2024-04-08 01:00:00+00:00  167.91400  0.004055  -0.013453         1   \n",
       "3307 2024-05-03 02:00:00+00:00  168.30800 -0.022883   0.030453        -1   \n",
       "3410 2024-05-09 09:00:00+00:00  171.42400  0.007254  -0.011078         1   \n",
       "3607 2024-05-21 16:00:00+00:00  171.44600 -0.001484   0.005070        -1   \n",
       "\n",
       "      DELTA   GAIN     PAIR  MASHORT  MALONG  DURATION  \n",
       "56    -19.2   19.2  GBP_CAD        8      32      28.0  \n",
       "84     -2.8   -2.8  GBP_CAD        8      32       3.0  \n",
       "87     48.2  -48.2  GBP_CAD        8      32      16.0  \n",
       "103    47.9   47.9  GBP_CAD        8      32      94.0  \n",
       "149    18.3  -18.3  GBP_CAD        8      32       4.0  \n",
       "...     ...    ...      ...      ...     ...       ...  \n",
       "2632  -36.5   36.5  CHF_JPY       64     256     314.0  \n",
       "2850   39.4   39.4  CHF_JPY       64     256     601.0  \n",
       "3307  311.6 -311.6  CHF_JPY       64     256     151.0  \n",
       "3410    2.2    2.2  CHF_JPY       64     256     295.0  \n",
       "3607   90.5  -90.5  CHF_JPY       64     256     161.0  \n",
       "\n",
       "[15862 rows x 11 columns]"
      ]
     },
     "execution_count": 21,
     "metadata": {},
     "output_type": "execute_result"
    }
   ],
   "source": [
    "all_trades"
   ]
  },
  {
   "cell_type": "code",
   "execution_count": 22,
   "metadata": {},
   "outputs": [],
   "source": [
    "all_trades[\"CROSS\"] = \"MA_\"+all_trades.MASHORT.map(str) +\"_\"+all_trades.MALONG.map(str)"
   ]
  },
  {
   "cell_type": "code",
   "execution_count": 23,
   "metadata": {},
   "outputs": [],
   "source": [
    "trades_GBP_JPY = all_trades[(all_trades.CROSS=='MA_8_32') & (all_trades.PAIR=='GBP_JPY')].copy()"
   ]
  },
  {
   "cell_type": "code",
   "execution_count": 24,
   "metadata": {},
   "outputs": [
    {
     "data": {
      "text/html": [
       "<div>\n",
       "<style scoped>\n",
       "    .dataframe tbody tr th:only-of-type {\n",
       "        vertical-align: middle;\n",
       "    }\n",
       "\n",
       "    .dataframe tbody tr th {\n",
       "        vertical-align: top;\n",
       "    }\n",
       "\n",
       "    .dataframe thead th {\n",
       "        text-align: right;\n",
       "    }\n",
       "</style>\n",
       "<table border=\"1\" class=\"dataframe\">\n",
       "  <thead>\n",
       "    <tr style=\"text-align: right;\">\n",
       "      <th></th>\n",
       "      <th>time</th>\n",
       "      <th>mid_c</th>\n",
       "      <th>DIFF</th>\n",
       "      <th>DIFF_PREV</th>\n",
       "      <th>IS_TRADE</th>\n",
       "      <th>DELTA</th>\n",
       "      <th>GAIN</th>\n",
       "      <th>PAIR</th>\n",
       "      <th>MASHORT</th>\n",
       "      <th>MALONG</th>\n",
       "      <th>DURATION</th>\n",
       "      <th>CROSS</th>\n",
       "    </tr>\n",
       "  </thead>\n",
       "  <tbody>\n",
       "    <tr>\n",
       "      <th>55</th>\n",
       "      <td>2023-10-24 14:00:00+00:00</td>\n",
       "      <td>182.520</td>\n",
       "      <td>-0.083844</td>\n",
       "      <td>0.059594</td>\n",
       "      <td>-1</td>\n",
       "      <td>-19.3</td>\n",
       "      <td>19.3</td>\n",
       "      <td>GBP_JPY</td>\n",
       "      <td>8</td>\n",
       "      <td>32</td>\n",
       "      <td>48.0</td>\n",
       "      <td>MA_8_32</td>\n",
       "    </tr>\n",
       "    <tr>\n",
       "      <th>103</th>\n",
       "      <td>2023-10-26 14:00:00+00:00</td>\n",
       "      <td>182.327</td>\n",
       "      <td>0.068219</td>\n",
       "      <td>-0.011313</td>\n",
       "      <td>1</td>\n",
       "      <td>-58.9</td>\n",
       "      <td>-58.9</td>\n",
       "      <td>GBP_JPY</td>\n",
       "      <td>8</td>\n",
       "      <td>32</td>\n",
       "      <td>21.0</td>\n",
       "      <td>MA_8_32</td>\n",
       "    </tr>\n",
       "    <tr>\n",
       "      <th>124</th>\n",
       "      <td>2023-10-27 11:00:00+00:00</td>\n",
       "      <td>181.738</td>\n",
       "      <td>-0.064812</td>\n",
       "      <td>0.003437</td>\n",
       "      <td>-1</td>\n",
       "      <td>-5.1</td>\n",
       "      <td>5.1</td>\n",
       "      <td>GBP_JPY</td>\n",
       "      <td>8</td>\n",
       "      <td>32</td>\n",
       "      <td>85.0</td>\n",
       "      <td>MA_8_32</td>\n",
       "    </tr>\n",
       "    <tr>\n",
       "      <th>161</th>\n",
       "      <td>2023-10-31 00:00:00+00:00</td>\n",
       "      <td>181.687</td>\n",
       "      <td>0.050219</td>\n",
       "      <td>-0.024875</td>\n",
       "      <td>1</td>\n",
       "      <td>158.4</td>\n",
       "      <td>158.4</td>\n",
       "      <td>GBP_JPY</td>\n",
       "      <td>8</td>\n",
       "      <td>32</td>\n",
       "      <td>36.0</td>\n",
       "      <td>MA_8_32</td>\n",
       "    </tr>\n",
       "    <tr>\n",
       "      <th>197</th>\n",
       "      <td>2023-11-01 12:00:00+00:00</td>\n",
       "      <td>183.271</td>\n",
       "      <td>-0.033500</td>\n",
       "      <td>0.048156</td>\n",
       "      <td>-1</td>\n",
       "      <td>25.0</td>\n",
       "      <td>-25.0</td>\n",
       "      <td>GBP_JPY</td>\n",
       "      <td>8</td>\n",
       "      <td>32</td>\n",
       "      <td>29.0</td>\n",
       "      <td>MA_8_32</td>\n",
       "    </tr>\n",
       "  </tbody>\n",
       "</table>\n",
       "</div>"
      ],
      "text/plain": [
       "                         time    mid_c      DIFF  DIFF_PREV  IS_TRADE  DELTA  \\\n",
       "55  2023-10-24 14:00:00+00:00  182.520 -0.083844   0.059594        -1  -19.3   \n",
       "103 2023-10-26 14:00:00+00:00  182.327  0.068219  -0.011313         1  -58.9   \n",
       "124 2023-10-27 11:00:00+00:00  181.738 -0.064812   0.003437        -1   -5.1   \n",
       "161 2023-10-31 00:00:00+00:00  181.687  0.050219  -0.024875         1  158.4   \n",
       "197 2023-11-01 12:00:00+00:00  183.271 -0.033500   0.048156        -1   25.0   \n",
       "\n",
       "      GAIN     PAIR  MASHORT  MALONG  DURATION    CROSS  \n",
       "55    19.3  GBP_JPY        8      32      48.0  MA_8_32  \n",
       "103  -58.9  GBP_JPY        8      32      21.0  MA_8_32  \n",
       "124    5.1  GBP_JPY        8      32      85.0  MA_8_32  \n",
       "161  158.4  GBP_JPY        8      32      36.0  MA_8_32  \n",
       "197  -25.0  GBP_JPY        8      32      29.0  MA_8_32  "
      ]
     },
     "execution_count": 24,
     "metadata": {},
     "output_type": "execute_result"
    }
   ],
   "source": [
    "trades_GBP_JPY.head()"
   ]
  },
  {
   "cell_type": "code",
   "execution_count": 25,
   "metadata": {},
   "outputs": [],
   "source": [
    "trades_GBP_JPY['CUM_GAIN'] = trades_GBP_JPY.GAIN.cumsum()"
   ]
  },
  {
   "cell_type": "code",
   "execution_count": 26,
   "metadata": {},
   "outputs": [],
   "source": [
    "def plot_line(df_plot, name):\n",
    "    fig = go.Figure()\n",
    "    fig.add_trace(go.Scatter(\n",
    "        x=df_plot.time,\n",
    "        y=df_plot.CUM_GAIN,\n",
    "        line=dict(width=2,color=\"#3d825f\"),\n",
    "        line_shape='spline',\n",
    "        name=name,\n",
    "        mode='lines'\n",
    "        ))\n",
    "    fig.update_layout(width=1000,height=400,\n",
    "        margin=dict(l=15,r=15,b=10),\n",
    "        font=dict(size=10,color=\"#e1e1e1\"),\n",
    "        paper_bgcolor=\"#1e1e1e\",\n",
    "        plot_bgcolor=\"#1e1e1e\",\n",
    "        title=name)\n",
    "    fig.update_xaxes(\n",
    "        linewidth=1,\n",
    "        linecolor='#3a4a54',\n",
    "        showgrid=False,\n",
    "        zeroline=False\n",
    "    )\n",
    "    fig.update_yaxes(\n",
    "        linewidth=1,\n",
    "        linecolor='#3a4a54',\n",
    "        showgrid=False,\n",
    "        zeroline=False\n",
    "    )\n",
    "    fig.show()"
   ]
  },
  {
   "cell_type": "code",
   "execution_count": 27,
   "metadata": {},
   "outputs": [
    {
     "data": {
      "application/vnd.plotly.v1+json": {
       "config": {
        "plotlyServerURL": "https://plot.ly"
       },
       "data": [
        {
         "line": {
          "color": "#3d825f",
          "shape": "spline",
          "width": 2
         },
         "mode": "lines",
         "name": "GBP_JPY",
         "type": "scatter",
         "x": [
          "2023-10-24T14:00:00+00:00",
          "2023-10-26T14:00:00+00:00",
          "2023-10-27T11:00:00+00:00",
          "2023-10-31T00:00:00+00:00",
          "2023-11-01T12:00:00+00:00",
          "2023-11-02T17:00:00+00:00",
          "2023-11-07T00:00:00+00:00",
          "2023-11-08T16:00:00+00:00",
          "2023-11-09T18:00:00+00:00",
          "2023-11-10T21:00:00+00:00",
          "2023-11-15T14:00:00+00:00",
          "2023-11-15T22:00:00+00:00",
          "2023-11-16T02:00:00+00:00",
          "2023-11-20T01:00:00+00:00",
          "2023-11-20T03:00:00+00:00",
          "2023-11-21T17:00:00+00:00",
          "2023-11-23T07:00:00+00:00",
          "2023-11-23T09:00:00+00:00",
          "2023-11-27T08:00:00+00:00",
          "2023-11-27T11:00:00+00:00",
          "2023-11-27T13:00:00+00:00",
          "2023-11-29T16:00:00+00:00",
          "2023-11-29T18:00:00+00:00",
          "2023-11-30T18:00:00+00:00",
          "2023-12-01T17:00:00+00:00",
          "2023-12-05T03:00:00+00:00",
          "2023-12-05T07:00:00+00:00",
          "2023-12-06T10:00:00+00:00",
          "2023-12-06T11:00:00+00:00",
          "2023-12-08T16:00:00+00:00",
          "2023-12-12T05:00:00+00:00",
          "2023-12-13T09:00:00+00:00",
          "2023-12-13T10:00:00+00:00",
          "2023-12-14T18:00:00+00:00",
          "2023-12-15T15:00:00+00:00",
          "2023-12-18T11:00:00+00:00",
          "2023-12-20T07:00:00+00:00",
          "2023-12-22T07:00:00+00:00",
          "2023-12-26T08:00:00+00:00",
          "2023-12-26T15:00:00+00:00",
          "2023-12-28T00:00:00+00:00",
          "2023-12-29T09:00:00+00:00",
          "2023-12-29T17:00:00+00:00",
          "2024-01-02T08:00:00+00:00",
          "2024-01-02T13:00:00+00:00",
          "2024-01-03T08:00:00+00:00",
          "2024-01-08T04:00:00+00:00",
          "2024-01-08T22:00:00+00:00",
          "2024-01-09T03:00:00+00:00",
          "2024-01-09T21:00:00+00:00",
          "2024-01-11T23:00:00+00:00",
          "2024-01-15T06:00:00+00:00",
          "2024-01-16T05:00:00+00:00",
          "2024-01-16T15:00:00+00:00",
          "2024-01-18T13:00:00+00:00",
          "2024-01-18T17:00:00+00:00",
          "2024-01-19T13:00:00+00:00",
          "2024-01-22T00:00:00+00:00",
          "2024-01-22T03:00:00+00:00",
          "2024-01-22T09:00:00+00:00",
          "2024-01-23T09:00:00+00:00",
          "2024-01-23T23:00:00+00:00",
          "2024-01-24T01:00:00+00:00",
          "2024-01-25T06:00:00+00:00",
          "2024-01-25T16:00:00+00:00",
          "2024-01-26T10:00:00+00:00",
          "2024-01-29T09:00:00+00:00",
          "2024-01-30T21:00:00+00:00",
          "2024-01-31T15:00:00+00:00",
          "2024-02-01T21:00:00+00:00",
          "2024-02-05T10:00:00+00:00",
          "2024-02-06T14:00:00+00:00",
          "2024-02-06T20:00:00+00:00",
          "2024-02-07T06:00:00+00:00",
          "2024-02-12T04:00:00+00:00",
          "2024-02-12T20:00:00+00:00",
          "2024-02-14T10:00:00+00:00",
          "2024-02-15T21:00:00+00:00",
          "2024-02-19T13:00:00+00:00",
          "2024-02-20T05:00:00+00:00",
          "2024-02-21T15:00:00+00:00",
          "2024-02-21T16:00:00+00:00",
          "2024-02-25T23:00:00+00:00",
          "2024-02-26T11:00:00+00:00",
          "2024-02-27T05:00:00+00:00",
          "2024-02-27T23:00:00+00:00",
          "2024-02-28T02:00:00+00:00",
          "2024-02-28T20:00:00+00:00",
          "2024-02-29T01:00:00+00:00",
          "2024-03-01T05:00:00+00:00",
          "2024-03-05T11:00:00+00:00",
          "2024-03-07T21:00:00+00:00",
          "2024-03-08T12:00:00+00:00",
          "2024-03-12T05:00:00+00:00",
          "2024-03-13T05:00:00+00:00",
          "2024-03-13T06:00:00+00:00",
          "2024-03-13T07:00:00+00:00",
          "2024-03-13T08:00:00+00:00",
          "2024-03-14T16:00:00+00:00",
          "2024-03-15T10:00:00+00:00",
          "2024-03-18T20:00:00+00:00",
          "2024-03-19T03:00:00+00:00",
          "2024-03-21T14:00:00+00:00",
          "2024-03-25T11:00:00+00:00",
          "2024-03-26T19:00:00+00:00",
          "2024-03-28T16:00:00+00:00",
          "2024-03-29T05:00:00+00:00",
          "2024-03-29T15:00:00+00:00",
          "2024-03-29T16:00:00+00:00",
          "2024-03-29T18:00:00+00:00",
          "2024-04-01T12:00:00+00:00",
          "2024-04-02T14:00:00+00:00",
          "2024-04-04T20:00:00+00:00",
          "2024-04-05T20:00:00+00:00",
          "2024-04-10T15:00:00+00:00",
          "2024-04-11T12:00:00+00:00",
          "2024-04-12T08:00:00+00:00",
          "2024-04-15T06:00:00+00:00",
          "2024-04-16T07:00:00+00:00",
          "2024-04-16T09:00:00+00:00",
          "2024-04-17T18:00:00+00:00",
          "2024-04-18T09:00:00+00:00",
          "2024-04-19T00:00:00+00:00",
          "2024-04-19T13:00:00+00:00",
          "2024-04-19T16:00:00+00:00",
          "2024-04-22T23:00:00+00:00",
          "2024-04-23T03:00:00+00:00",
          "2024-04-23T08:00:00+00:00",
          "2024-04-29T10:00:00+00:00",
          "2024-04-30T06:00:00+00:00",
          "2024-05-01T16:00:00+00:00",
          "2024-05-06T00:00:00+00:00",
          "2024-05-07T21:00:00+00:00",
          "2024-05-08T06:00:00+00:00",
          "2024-05-15T10:00:00+00:00",
          "2024-05-16T14:00:00+00:00",
          "2024-05-21T18:00:00+00:00",
          "2024-05-22T03:00:00+00:00",
          "2024-05-23T21:00:00+00:00",
          "2024-05-24T10:00:00+00:00",
          "2024-05-29T11:00:00+00:00",
          "2024-05-31T09:00:00+00:00",
          "2024-06-03T10:00:00+00:00",
          "2024-06-04T01:00:00+00:00",
          "2024-06-04T08:00:00+00:00",
          "2024-06-05T07:00:00+00:00",
          "2024-06-06T16:00:00+00:00",
          "2024-06-07T15:00:00+00:00",
          "2024-06-10T14:00:00+00:00",
          "2024-06-10T17:00:00+00:00",
          "2024-06-12T20:00:00+00:00"
         ],
         "y": [
          19.300000000001205,
          -39.59999999999866,
          -34.499999999999886,
          123.89999999999759,
          98.89999999999759,
          259.3999999999994,
          228.60000000000014,
          211.69999999999902,
          211.19999999999663,
          440.9999999999968,
          411.59999999999854,
          360.2000000000004,
          452.60000000000105,
          400.9999999999991,
          426.9999999999982,
          531.9999999999993,
          459.60000000000036,
          515.2000000000015,
          483.50000000000364,
          442.60000000000446,
          531.6000000000031,
          548.0000000000018,
          554.6000000000021,
          488.20000000000334,
          538.8000000000034,
          461.2000000000023,
          407.10000000000264,
          391.90000000000396,
          781.400000000005,
          900.2000000000066,
          915.2000000000072,
          876.5000000000072,
          1015.7000000000068,
          926.0000000000048,
          862.6000000000033,
          976.600000000002,
          1104.000000000002,
          1121.5000000000032,
          1072.5000000000023,
          1082.8000000000002,
          1180.4,
          1126.400000000001,
          1053.6000000000001,
          958.6999999999989,
          888.3999999999986,
          1214.9999999999977,
          1178.5999999999972,
          1113.1999999999975,
          1069.1999999999978,
          1246.199999999999,
          1259.0000000000005,
          1264.2000000000025,
          1217.6000000000045,
          1391.2000000000062,
          1349.6000000000065,
          1328.5000000000052,
          1283.400000000006,
          1267.6000000000072,
          1255.0000000000068,
          1239.0000000000073,
          1225.7000000000091,
          1198.8000000000086,
          1189.900000000006,
          1145.8000000000056,
          1097.1000000000063,
          1064.8000000000056,
          1087.900000000005,
          955.1000000000048,
          910.2000000000036,
          947.3000000000017,
          981.100000000001,
          949.8000000000022,
          922.0000000000031,
          1109.2000000000016,
          1094.800000000001,
          1132.100000000003,
          1136.8000000000056,
          1140.1000000000072,
          1109.2000000000075,
          1133.6000000000076,
          1114.3000000000065,
          1213.8000000000043,
          1154.400000000002,
          1111.8000000000002,
          1112.5000000000007,
          1091.6000000000004,
          1077.599999999999,
          1014.9999999999985,
          1034.9999999999973,
          1108.9999999999955,
          1218.599999999993,
          1160.999999999991,
          1150.1999999999905,
          1115.799999999991,
          1091.1999999999903,
          1069.5999999999894,
          1034.199999999991,
          1008.5999999999909,
          928.9999999999889,
          943.3999999999894,
          882.1999999999899,
          1079.6999999999894,
          1205.7999999999888,
          1222.299999999988,
          1242.6999999999887,
          1225.899999999991,
          1216.199999999993,
          1210.6999999999923,
          1213.19999999999,
          1215.5999999999901,
          1269.3999999999912,
          1355.9999999999927,
          1327.699999999994,
          1342.2999999999925,
          1311.7999999999918,
          1279.3999999999933,
          1263.1999999999955,
          1274.5999999999958,
          1231.6999999999957,
          1205.199999999997,
          1165.3999999999974,
          1122.099999999998,
          1081.3999999999999,
          977.0999999999992,
          1010.6999999999977,
          1008.1999999999971,
          970.3999999999957,
          1349.2999999999943,
          1227.6999999999935,
          1245.099999999994,
          1662.3999999999942,
          1745.7999999999915,
          1693.499999999989,
          1936.1999999999884,
          1895.7999999999888,
          2079.599999999988,
          2065.3999999999887,
          2124.799999999991,
          2087.5999999999926,
          2169.099999999992,
          2200.199999999993,
          2108.399999999995,
          1998.5999999999967,
          1804.199999999998,
          1703.199999999999,
          1669.0000000000005,
          1651.8000000000006,
          1678.6000000000008,
          1639.1000000000026,
          1705.0000000000045,
          1715.2000000000048
         ]
        }
       ],
       "layout": {
        "font": {
         "color": "#e1e1e1",
         "size": 10
        },
        "height": 400,
        "margin": {
         "b": 10,
         "l": 15,
         "r": 15
        },
        "paper_bgcolor": "#1e1e1e",
        "plot_bgcolor": "#1e1e1e",
        "template": {
         "data": {
          "bar": [
           {
            "error_x": {
             "color": "#2a3f5f"
            },
            "error_y": {
             "color": "#2a3f5f"
            },
            "marker": {
             "line": {
              "color": "#E5ECF6",
              "width": 0.5
             },
             "pattern": {
              "fillmode": "overlay",
              "size": 10,
              "solidity": 0.2
             }
            },
            "type": "bar"
           }
          ],
          "barpolar": [
           {
            "marker": {
             "line": {
              "color": "#E5ECF6",
              "width": 0.5
             },
             "pattern": {
              "fillmode": "overlay",
              "size": 10,
              "solidity": 0.2
             }
            },
            "type": "barpolar"
           }
          ],
          "carpet": [
           {
            "aaxis": {
             "endlinecolor": "#2a3f5f",
             "gridcolor": "white",
             "linecolor": "white",
             "minorgridcolor": "white",
             "startlinecolor": "#2a3f5f"
            },
            "baxis": {
             "endlinecolor": "#2a3f5f",
             "gridcolor": "white",
             "linecolor": "white",
             "minorgridcolor": "white",
             "startlinecolor": "#2a3f5f"
            },
            "type": "carpet"
           }
          ],
          "choropleth": [
           {
            "colorbar": {
             "outlinewidth": 0,
             "ticks": ""
            },
            "type": "choropleth"
           }
          ],
          "contour": [
           {
            "colorbar": {
             "outlinewidth": 0,
             "ticks": ""
            },
            "colorscale": [
             [
              0,
              "#0d0887"
             ],
             [
              0.1111111111111111,
              "#46039f"
             ],
             [
              0.2222222222222222,
              "#7201a8"
             ],
             [
              0.3333333333333333,
              "#9c179e"
             ],
             [
              0.4444444444444444,
              "#bd3786"
             ],
             [
              0.5555555555555556,
              "#d8576b"
             ],
             [
              0.6666666666666666,
              "#ed7953"
             ],
             [
              0.7777777777777778,
              "#fb9f3a"
             ],
             [
              0.8888888888888888,
              "#fdca26"
             ],
             [
              1,
              "#f0f921"
             ]
            ],
            "type": "contour"
           }
          ],
          "contourcarpet": [
           {
            "colorbar": {
             "outlinewidth": 0,
             "ticks": ""
            },
            "type": "contourcarpet"
           }
          ],
          "heatmap": [
           {
            "colorbar": {
             "outlinewidth": 0,
             "ticks": ""
            },
            "colorscale": [
             [
              0,
              "#0d0887"
             ],
             [
              0.1111111111111111,
              "#46039f"
             ],
             [
              0.2222222222222222,
              "#7201a8"
             ],
             [
              0.3333333333333333,
              "#9c179e"
             ],
             [
              0.4444444444444444,
              "#bd3786"
             ],
             [
              0.5555555555555556,
              "#d8576b"
             ],
             [
              0.6666666666666666,
              "#ed7953"
             ],
             [
              0.7777777777777778,
              "#fb9f3a"
             ],
             [
              0.8888888888888888,
              "#fdca26"
             ],
             [
              1,
              "#f0f921"
             ]
            ],
            "type": "heatmap"
           }
          ],
          "heatmapgl": [
           {
            "colorbar": {
             "outlinewidth": 0,
             "ticks": ""
            },
            "colorscale": [
             [
              0,
              "#0d0887"
             ],
             [
              0.1111111111111111,
              "#46039f"
             ],
             [
              0.2222222222222222,
              "#7201a8"
             ],
             [
              0.3333333333333333,
              "#9c179e"
             ],
             [
              0.4444444444444444,
              "#bd3786"
             ],
             [
              0.5555555555555556,
              "#d8576b"
             ],
             [
              0.6666666666666666,
              "#ed7953"
             ],
             [
              0.7777777777777778,
              "#fb9f3a"
             ],
             [
              0.8888888888888888,
              "#fdca26"
             ],
             [
              1,
              "#f0f921"
             ]
            ],
            "type": "heatmapgl"
           }
          ],
          "histogram": [
           {
            "marker": {
             "pattern": {
              "fillmode": "overlay",
              "size": 10,
              "solidity": 0.2
             }
            },
            "type": "histogram"
           }
          ],
          "histogram2d": [
           {
            "colorbar": {
             "outlinewidth": 0,
             "ticks": ""
            },
            "colorscale": [
             [
              0,
              "#0d0887"
             ],
             [
              0.1111111111111111,
              "#46039f"
             ],
             [
              0.2222222222222222,
              "#7201a8"
             ],
             [
              0.3333333333333333,
              "#9c179e"
             ],
             [
              0.4444444444444444,
              "#bd3786"
             ],
             [
              0.5555555555555556,
              "#d8576b"
             ],
             [
              0.6666666666666666,
              "#ed7953"
             ],
             [
              0.7777777777777778,
              "#fb9f3a"
             ],
             [
              0.8888888888888888,
              "#fdca26"
             ],
             [
              1,
              "#f0f921"
             ]
            ],
            "type": "histogram2d"
           }
          ],
          "histogram2dcontour": [
           {
            "colorbar": {
             "outlinewidth": 0,
             "ticks": ""
            },
            "colorscale": [
             [
              0,
              "#0d0887"
             ],
             [
              0.1111111111111111,
              "#46039f"
             ],
             [
              0.2222222222222222,
              "#7201a8"
             ],
             [
              0.3333333333333333,
              "#9c179e"
             ],
             [
              0.4444444444444444,
              "#bd3786"
             ],
             [
              0.5555555555555556,
              "#d8576b"
             ],
             [
              0.6666666666666666,
              "#ed7953"
             ],
             [
              0.7777777777777778,
              "#fb9f3a"
             ],
             [
              0.8888888888888888,
              "#fdca26"
             ],
             [
              1,
              "#f0f921"
             ]
            ],
            "type": "histogram2dcontour"
           }
          ],
          "mesh3d": [
           {
            "colorbar": {
             "outlinewidth": 0,
             "ticks": ""
            },
            "type": "mesh3d"
           }
          ],
          "parcoords": [
           {
            "line": {
             "colorbar": {
              "outlinewidth": 0,
              "ticks": ""
             }
            },
            "type": "parcoords"
           }
          ],
          "pie": [
           {
            "automargin": true,
            "type": "pie"
           }
          ],
          "scatter": [
           {
            "fillpattern": {
             "fillmode": "overlay",
             "size": 10,
             "solidity": 0.2
            },
            "type": "scatter"
           }
          ],
          "scatter3d": [
           {
            "line": {
             "colorbar": {
              "outlinewidth": 0,
              "ticks": ""
             }
            },
            "marker": {
             "colorbar": {
              "outlinewidth": 0,
              "ticks": ""
             }
            },
            "type": "scatter3d"
           }
          ],
          "scattercarpet": [
           {
            "marker": {
             "colorbar": {
              "outlinewidth": 0,
              "ticks": ""
             }
            },
            "type": "scattercarpet"
           }
          ],
          "scattergeo": [
           {
            "marker": {
             "colorbar": {
              "outlinewidth": 0,
              "ticks": ""
             }
            },
            "type": "scattergeo"
           }
          ],
          "scattergl": [
           {
            "marker": {
             "colorbar": {
              "outlinewidth": 0,
              "ticks": ""
             }
            },
            "type": "scattergl"
           }
          ],
          "scattermapbox": [
           {
            "marker": {
             "colorbar": {
              "outlinewidth": 0,
              "ticks": ""
             }
            },
            "type": "scattermapbox"
           }
          ],
          "scatterpolar": [
           {
            "marker": {
             "colorbar": {
              "outlinewidth": 0,
              "ticks": ""
             }
            },
            "type": "scatterpolar"
           }
          ],
          "scatterpolargl": [
           {
            "marker": {
             "colorbar": {
              "outlinewidth": 0,
              "ticks": ""
             }
            },
            "type": "scatterpolargl"
           }
          ],
          "scatterternary": [
           {
            "marker": {
             "colorbar": {
              "outlinewidth": 0,
              "ticks": ""
             }
            },
            "type": "scatterternary"
           }
          ],
          "surface": [
           {
            "colorbar": {
             "outlinewidth": 0,
             "ticks": ""
            },
            "colorscale": [
             [
              0,
              "#0d0887"
             ],
             [
              0.1111111111111111,
              "#46039f"
             ],
             [
              0.2222222222222222,
              "#7201a8"
             ],
             [
              0.3333333333333333,
              "#9c179e"
             ],
             [
              0.4444444444444444,
              "#bd3786"
             ],
             [
              0.5555555555555556,
              "#d8576b"
             ],
             [
              0.6666666666666666,
              "#ed7953"
             ],
             [
              0.7777777777777778,
              "#fb9f3a"
             ],
             [
              0.8888888888888888,
              "#fdca26"
             ],
             [
              1,
              "#f0f921"
             ]
            ],
            "type": "surface"
           }
          ],
          "table": [
           {
            "cells": {
             "fill": {
              "color": "#EBF0F8"
             },
             "line": {
              "color": "white"
             }
            },
            "header": {
             "fill": {
              "color": "#C8D4E3"
             },
             "line": {
              "color": "white"
             }
            },
            "type": "table"
           }
          ]
         },
         "layout": {
          "annotationdefaults": {
           "arrowcolor": "#2a3f5f",
           "arrowhead": 0,
           "arrowwidth": 1
          },
          "autotypenumbers": "strict",
          "coloraxis": {
           "colorbar": {
            "outlinewidth": 0,
            "ticks": ""
           }
          },
          "colorscale": {
           "diverging": [
            [
             0,
             "#8e0152"
            ],
            [
             0.1,
             "#c51b7d"
            ],
            [
             0.2,
             "#de77ae"
            ],
            [
             0.3,
             "#f1b6da"
            ],
            [
             0.4,
             "#fde0ef"
            ],
            [
             0.5,
             "#f7f7f7"
            ],
            [
             0.6,
             "#e6f5d0"
            ],
            [
             0.7,
             "#b8e186"
            ],
            [
             0.8,
             "#7fbc41"
            ],
            [
             0.9,
             "#4d9221"
            ],
            [
             1,
             "#276419"
            ]
           ],
           "sequential": [
            [
             0,
             "#0d0887"
            ],
            [
             0.1111111111111111,
             "#46039f"
            ],
            [
             0.2222222222222222,
             "#7201a8"
            ],
            [
             0.3333333333333333,
             "#9c179e"
            ],
            [
             0.4444444444444444,
             "#bd3786"
            ],
            [
             0.5555555555555556,
             "#d8576b"
            ],
            [
             0.6666666666666666,
             "#ed7953"
            ],
            [
             0.7777777777777778,
             "#fb9f3a"
            ],
            [
             0.8888888888888888,
             "#fdca26"
            ],
            [
             1,
             "#f0f921"
            ]
           ],
           "sequentialminus": [
            [
             0,
             "#0d0887"
            ],
            [
             0.1111111111111111,
             "#46039f"
            ],
            [
             0.2222222222222222,
             "#7201a8"
            ],
            [
             0.3333333333333333,
             "#9c179e"
            ],
            [
             0.4444444444444444,
             "#bd3786"
            ],
            [
             0.5555555555555556,
             "#d8576b"
            ],
            [
             0.6666666666666666,
             "#ed7953"
            ],
            [
             0.7777777777777778,
             "#fb9f3a"
            ],
            [
             0.8888888888888888,
             "#fdca26"
            ],
            [
             1,
             "#f0f921"
            ]
           ]
          },
          "colorway": [
           "#636efa",
           "#EF553B",
           "#00cc96",
           "#ab63fa",
           "#FFA15A",
           "#19d3f3",
           "#FF6692",
           "#B6E880",
           "#FF97FF",
           "#FECB52"
          ],
          "font": {
           "color": "#2a3f5f"
          },
          "geo": {
           "bgcolor": "white",
           "lakecolor": "white",
           "landcolor": "#E5ECF6",
           "showlakes": true,
           "showland": true,
           "subunitcolor": "white"
          },
          "hoverlabel": {
           "align": "left"
          },
          "hovermode": "closest",
          "mapbox": {
           "style": "light"
          },
          "paper_bgcolor": "white",
          "plot_bgcolor": "#E5ECF6",
          "polar": {
           "angularaxis": {
            "gridcolor": "white",
            "linecolor": "white",
            "ticks": ""
           },
           "bgcolor": "#E5ECF6",
           "radialaxis": {
            "gridcolor": "white",
            "linecolor": "white",
            "ticks": ""
           }
          },
          "scene": {
           "xaxis": {
            "backgroundcolor": "#E5ECF6",
            "gridcolor": "white",
            "gridwidth": 2,
            "linecolor": "white",
            "showbackground": true,
            "ticks": "",
            "zerolinecolor": "white"
           },
           "yaxis": {
            "backgroundcolor": "#E5ECF6",
            "gridcolor": "white",
            "gridwidth": 2,
            "linecolor": "white",
            "showbackground": true,
            "ticks": "",
            "zerolinecolor": "white"
           },
           "zaxis": {
            "backgroundcolor": "#E5ECF6",
            "gridcolor": "white",
            "gridwidth": 2,
            "linecolor": "white",
            "showbackground": true,
            "ticks": "",
            "zerolinecolor": "white"
           }
          },
          "shapedefaults": {
           "line": {
            "color": "#2a3f5f"
           }
          },
          "ternary": {
           "aaxis": {
            "gridcolor": "white",
            "linecolor": "white",
            "ticks": ""
           },
           "baxis": {
            "gridcolor": "white",
            "linecolor": "white",
            "ticks": ""
           },
           "bgcolor": "#E5ECF6",
           "caxis": {
            "gridcolor": "white",
            "linecolor": "white",
            "ticks": ""
           }
          },
          "title": {
           "x": 0.05
          },
          "xaxis": {
           "automargin": true,
           "gridcolor": "white",
           "linecolor": "white",
           "ticks": "",
           "title": {
            "standoff": 15
           },
           "zerolinecolor": "white",
           "zerolinewidth": 2
          },
          "yaxis": {
           "automargin": true,
           "gridcolor": "white",
           "linecolor": "white",
           "ticks": "",
           "title": {
            "standoff": 15
           },
           "zerolinecolor": "white",
           "zerolinewidth": 2
          }
         }
        },
        "title": {
         "text": "GBP_JPY"
        },
        "width": 1000,
        "xaxis": {
         "linecolor": "#3a4a54",
         "linewidth": 1,
         "showgrid": false,
         "zeroline": false
        },
        "yaxis": {
         "linecolor": "#3a4a54",
         "linewidth": 1,
         "showgrid": false,
         "zeroline": false
        }
       }
      }
     },
     "metadata": {},
     "output_type": "display_data"
    }
   ],
   "source": [
    "plot_line(trades_GBP_JPY, \"GBP_JPY\")"
   ]
  },
  {
   "cell_type": "code",
   "execution_count": 48,
   "metadata": {},
   "outputs": [
    {
     "data": {
      "application/vnd.plotly.v1+json": {
       "config": {
        "plotlyServerURL": "https://plot.ly"
       },
       "data": [
        {
         "line": {
          "color": "#3d825f",
          "shape": "spline",
          "width": 2
         },
         "mode": "lines",
         "name": "GBP_JPY_MA_8_32",
         "type": "scatter",
         "x": [
          "2023-10-24T14:00:00+00:00",
          "2023-10-26T14:00:00+00:00",
          "2023-10-27T11:00:00+00:00",
          "2023-10-31T00:00:00+00:00",
          "2023-11-01T12:00:00+00:00",
          "2023-11-02T17:00:00+00:00",
          "2023-11-07T00:00:00+00:00",
          "2023-11-08T16:00:00+00:00",
          "2023-11-09T18:00:00+00:00",
          "2023-11-10T21:00:00+00:00",
          "2023-11-15T14:00:00+00:00",
          "2023-11-15T22:00:00+00:00",
          "2023-11-16T02:00:00+00:00",
          "2023-11-20T01:00:00+00:00",
          "2023-11-20T03:00:00+00:00",
          "2023-11-21T17:00:00+00:00",
          "2023-11-23T07:00:00+00:00",
          "2023-11-23T09:00:00+00:00",
          "2023-11-27T08:00:00+00:00",
          "2023-11-27T11:00:00+00:00",
          "2023-11-27T13:00:00+00:00",
          "2023-11-29T16:00:00+00:00",
          "2023-11-29T18:00:00+00:00",
          "2023-11-30T18:00:00+00:00",
          "2023-12-01T17:00:00+00:00",
          "2023-12-05T03:00:00+00:00",
          "2023-12-05T07:00:00+00:00",
          "2023-12-06T10:00:00+00:00",
          "2023-12-06T11:00:00+00:00",
          "2023-12-08T16:00:00+00:00",
          "2023-12-12T05:00:00+00:00",
          "2023-12-13T09:00:00+00:00",
          "2023-12-13T10:00:00+00:00",
          "2023-12-14T18:00:00+00:00",
          "2023-12-15T15:00:00+00:00",
          "2023-12-18T11:00:00+00:00",
          "2023-12-20T07:00:00+00:00",
          "2023-12-22T07:00:00+00:00",
          "2023-12-26T08:00:00+00:00",
          "2023-12-26T15:00:00+00:00",
          "2023-12-28T00:00:00+00:00",
          "2023-12-29T09:00:00+00:00",
          "2023-12-29T17:00:00+00:00",
          "2024-01-02T08:00:00+00:00",
          "2024-01-02T13:00:00+00:00",
          "2024-01-03T08:00:00+00:00",
          "2024-01-08T04:00:00+00:00",
          "2024-01-08T22:00:00+00:00",
          "2024-01-09T03:00:00+00:00",
          "2024-01-09T21:00:00+00:00",
          "2024-01-11T23:00:00+00:00",
          "2024-01-15T06:00:00+00:00",
          "2024-01-16T05:00:00+00:00",
          "2024-01-16T15:00:00+00:00",
          "2024-01-18T13:00:00+00:00",
          "2024-01-18T17:00:00+00:00",
          "2024-01-19T13:00:00+00:00",
          "2024-01-22T00:00:00+00:00",
          "2024-01-22T03:00:00+00:00",
          "2024-01-22T09:00:00+00:00",
          "2024-01-23T09:00:00+00:00",
          "2024-01-23T23:00:00+00:00",
          "2024-01-24T01:00:00+00:00",
          "2024-01-25T06:00:00+00:00",
          "2024-01-25T16:00:00+00:00",
          "2024-01-26T10:00:00+00:00",
          "2024-01-29T09:00:00+00:00",
          "2024-01-30T21:00:00+00:00",
          "2024-01-31T15:00:00+00:00",
          "2024-02-01T21:00:00+00:00",
          "2024-02-05T10:00:00+00:00",
          "2024-02-06T14:00:00+00:00",
          "2024-02-06T20:00:00+00:00",
          "2024-02-07T06:00:00+00:00",
          "2024-02-12T04:00:00+00:00",
          "2024-02-12T20:00:00+00:00",
          "2024-02-14T10:00:00+00:00",
          "2024-02-15T21:00:00+00:00",
          "2024-02-19T13:00:00+00:00",
          "2024-02-20T05:00:00+00:00",
          "2024-02-21T15:00:00+00:00",
          "2024-02-21T16:00:00+00:00",
          "2024-02-25T23:00:00+00:00",
          "2024-02-26T11:00:00+00:00",
          "2024-02-27T05:00:00+00:00",
          "2024-02-27T23:00:00+00:00",
          "2024-02-28T02:00:00+00:00",
          "2024-02-28T20:00:00+00:00",
          "2024-02-29T01:00:00+00:00",
          "2024-03-01T05:00:00+00:00",
          "2024-03-05T11:00:00+00:00",
          "2024-03-07T21:00:00+00:00",
          "2024-03-08T12:00:00+00:00",
          "2024-03-12T05:00:00+00:00",
          "2024-03-13T05:00:00+00:00",
          "2024-03-13T06:00:00+00:00",
          "2024-03-13T07:00:00+00:00",
          "2024-03-13T08:00:00+00:00",
          "2024-03-14T16:00:00+00:00",
          "2024-03-15T10:00:00+00:00",
          "2024-03-18T20:00:00+00:00",
          "2024-03-19T03:00:00+00:00",
          "2024-03-21T14:00:00+00:00",
          "2024-03-25T11:00:00+00:00",
          "2024-03-26T19:00:00+00:00",
          "2024-03-28T16:00:00+00:00",
          "2024-03-29T05:00:00+00:00",
          "2024-03-29T15:00:00+00:00",
          "2024-03-29T16:00:00+00:00",
          "2024-03-29T18:00:00+00:00",
          "2024-04-01T12:00:00+00:00",
          "2024-04-02T14:00:00+00:00",
          "2024-04-04T20:00:00+00:00",
          "2024-04-05T20:00:00+00:00",
          "2024-04-10T15:00:00+00:00",
          "2024-04-11T12:00:00+00:00",
          "2024-04-12T08:00:00+00:00",
          "2024-04-15T06:00:00+00:00",
          "2024-04-16T07:00:00+00:00",
          "2024-04-16T09:00:00+00:00",
          "2024-04-17T18:00:00+00:00",
          "2024-04-18T09:00:00+00:00",
          "2024-04-19T00:00:00+00:00",
          "2024-04-19T13:00:00+00:00",
          "2024-04-19T16:00:00+00:00",
          "2024-04-22T23:00:00+00:00",
          "2024-04-23T03:00:00+00:00",
          "2024-04-23T08:00:00+00:00",
          "2024-04-29T10:00:00+00:00",
          "2024-04-30T06:00:00+00:00",
          "2024-05-01T16:00:00+00:00",
          "2024-05-06T00:00:00+00:00",
          "2024-05-07T21:00:00+00:00",
          "2024-05-08T06:00:00+00:00",
          "2024-05-15T10:00:00+00:00",
          "2024-05-16T14:00:00+00:00",
          "2024-05-21T18:00:00+00:00",
          "2024-05-22T03:00:00+00:00",
          "2024-05-23T21:00:00+00:00",
          "2024-05-24T10:00:00+00:00",
          "2024-05-29T11:00:00+00:00",
          "2024-05-31T09:00:00+00:00",
          "2024-06-03T10:00:00+00:00",
          "2024-06-04T01:00:00+00:00",
          "2024-06-04T08:00:00+00:00",
          "2024-06-05T07:00:00+00:00",
          "2024-06-06T16:00:00+00:00",
          "2024-06-07T15:00:00+00:00",
          "2024-06-10T14:00:00+00:00",
          "2024-06-10T17:00:00+00:00",
          "2024-06-12T20:00:00+00:00"
         ],
         "y": [
          19.300000000001205,
          -39.59999999999866,
          -34.499999999999886,
          123.89999999999759,
          98.89999999999759,
          259.3999999999994,
          228.60000000000014,
          211.69999999999902,
          211.19999999999663,
          440.9999999999968,
          411.59999999999854,
          360.2000000000004,
          452.60000000000105,
          400.9999999999991,
          426.9999999999982,
          531.9999999999993,
          459.60000000000036,
          515.2000000000015,
          483.50000000000364,
          442.60000000000446,
          531.6000000000031,
          548.0000000000018,
          554.6000000000021,
          488.20000000000334,
          538.8000000000034,
          461.2000000000023,
          407.10000000000264,
          391.90000000000396,
          781.400000000005,
          900.2000000000066,
          915.2000000000072,
          876.5000000000072,
          1015.7000000000068,
          926.0000000000048,
          862.6000000000033,
          976.600000000002,
          1104.000000000002,
          1121.5000000000032,
          1072.5000000000023,
          1082.8000000000002,
          1180.4,
          1126.400000000001,
          1053.6000000000001,
          958.6999999999989,
          888.3999999999986,
          1214.9999999999977,
          1178.5999999999972,
          1113.1999999999975,
          1069.1999999999978,
          1246.199999999999,
          1259.0000000000005,
          1264.2000000000025,
          1217.6000000000045,
          1391.2000000000062,
          1349.6000000000065,
          1328.5000000000052,
          1283.400000000006,
          1267.6000000000072,
          1255.0000000000068,
          1239.0000000000073,
          1225.7000000000091,
          1198.8000000000086,
          1189.900000000006,
          1145.8000000000056,
          1097.1000000000063,
          1064.8000000000056,
          1087.900000000005,
          955.1000000000048,
          910.2000000000036,
          947.3000000000017,
          981.100000000001,
          949.8000000000022,
          922.0000000000031,
          1109.2000000000016,
          1094.800000000001,
          1132.100000000003,
          1136.8000000000056,
          1140.1000000000072,
          1109.2000000000075,
          1133.6000000000076,
          1114.3000000000065,
          1213.8000000000043,
          1154.400000000002,
          1111.8000000000002,
          1112.5000000000007,
          1091.6000000000004,
          1077.599999999999,
          1014.9999999999985,
          1034.9999999999973,
          1108.9999999999955,
          1218.599999999993,
          1160.999999999991,
          1150.1999999999905,
          1115.799999999991,
          1091.1999999999903,
          1069.5999999999894,
          1034.199999999991,
          1008.5999999999909,
          928.9999999999889,
          943.3999999999894,
          882.1999999999899,
          1079.6999999999894,
          1205.7999999999888,
          1222.299999999988,
          1242.6999999999887,
          1225.899999999991,
          1216.199999999993,
          1210.6999999999923,
          1213.19999999999,
          1215.5999999999901,
          1269.3999999999912,
          1355.9999999999927,
          1327.699999999994,
          1342.2999999999925,
          1311.7999999999918,
          1279.3999999999933,
          1263.1999999999955,
          1274.5999999999958,
          1231.6999999999957,
          1205.199999999997,
          1165.3999999999974,
          1122.099999999998,
          1081.3999999999999,
          977.0999999999992,
          1010.6999999999977,
          1008.1999999999971,
          970.3999999999957,
          1349.2999999999943,
          1227.6999999999935,
          1245.099999999994,
          1662.3999999999942,
          1745.7999999999915,
          1693.499999999989,
          1936.1999999999884,
          1895.7999999999888,
          2079.599999999988,
          2065.3999999999887,
          2124.799999999991,
          2087.5999999999926,
          2169.099999999992,
          2200.199999999993,
          2108.399999999995,
          1998.5999999999967,
          1804.199999999998,
          1703.199999999999,
          1669.0000000000005,
          1651.8000000000006,
          1678.6000000000008,
          1639.1000000000026,
          1705.0000000000045,
          1715.2000000000048
         ]
        }
       ],
       "layout": {
        "font": {
         "color": "#e1e1e1",
         "size": 10
        },
        "height": 400,
        "margin": {
         "b": 10,
         "l": 15,
         "r": 15
        },
        "paper_bgcolor": "#1e1e1e",
        "plot_bgcolor": "#1e1e1e",
        "template": {
         "data": {
          "bar": [
           {
            "error_x": {
             "color": "#2a3f5f"
            },
            "error_y": {
             "color": "#2a3f5f"
            },
            "marker": {
             "line": {
              "color": "#E5ECF6",
              "width": 0.5
             },
             "pattern": {
              "fillmode": "overlay",
              "size": 10,
              "solidity": 0.2
             }
            },
            "type": "bar"
           }
          ],
          "barpolar": [
           {
            "marker": {
             "line": {
              "color": "#E5ECF6",
              "width": 0.5
             },
             "pattern": {
              "fillmode": "overlay",
              "size": 10,
              "solidity": 0.2
             }
            },
            "type": "barpolar"
           }
          ],
          "carpet": [
           {
            "aaxis": {
             "endlinecolor": "#2a3f5f",
             "gridcolor": "white",
             "linecolor": "white",
             "minorgridcolor": "white",
             "startlinecolor": "#2a3f5f"
            },
            "baxis": {
             "endlinecolor": "#2a3f5f",
             "gridcolor": "white",
             "linecolor": "white",
             "minorgridcolor": "white",
             "startlinecolor": "#2a3f5f"
            },
            "type": "carpet"
           }
          ],
          "choropleth": [
           {
            "colorbar": {
             "outlinewidth": 0,
             "ticks": ""
            },
            "type": "choropleth"
           }
          ],
          "contour": [
           {
            "colorbar": {
             "outlinewidth": 0,
             "ticks": ""
            },
            "colorscale": [
             [
              0,
              "#0d0887"
             ],
             [
              0.1111111111111111,
              "#46039f"
             ],
             [
              0.2222222222222222,
              "#7201a8"
             ],
             [
              0.3333333333333333,
              "#9c179e"
             ],
             [
              0.4444444444444444,
              "#bd3786"
             ],
             [
              0.5555555555555556,
              "#d8576b"
             ],
             [
              0.6666666666666666,
              "#ed7953"
             ],
             [
              0.7777777777777778,
              "#fb9f3a"
             ],
             [
              0.8888888888888888,
              "#fdca26"
             ],
             [
              1,
              "#f0f921"
             ]
            ],
            "type": "contour"
           }
          ],
          "contourcarpet": [
           {
            "colorbar": {
             "outlinewidth": 0,
             "ticks": ""
            },
            "type": "contourcarpet"
           }
          ],
          "heatmap": [
           {
            "colorbar": {
             "outlinewidth": 0,
             "ticks": ""
            },
            "colorscale": [
             [
              0,
              "#0d0887"
             ],
             [
              0.1111111111111111,
              "#46039f"
             ],
             [
              0.2222222222222222,
              "#7201a8"
             ],
             [
              0.3333333333333333,
              "#9c179e"
             ],
             [
              0.4444444444444444,
              "#bd3786"
             ],
             [
              0.5555555555555556,
              "#d8576b"
             ],
             [
              0.6666666666666666,
              "#ed7953"
             ],
             [
              0.7777777777777778,
              "#fb9f3a"
             ],
             [
              0.8888888888888888,
              "#fdca26"
             ],
             [
              1,
              "#f0f921"
             ]
            ],
            "type": "heatmap"
           }
          ],
          "heatmapgl": [
           {
            "colorbar": {
             "outlinewidth": 0,
             "ticks": ""
            },
            "colorscale": [
             [
              0,
              "#0d0887"
             ],
             [
              0.1111111111111111,
              "#46039f"
             ],
             [
              0.2222222222222222,
              "#7201a8"
             ],
             [
              0.3333333333333333,
              "#9c179e"
             ],
             [
              0.4444444444444444,
              "#bd3786"
             ],
             [
              0.5555555555555556,
              "#d8576b"
             ],
             [
              0.6666666666666666,
              "#ed7953"
             ],
             [
              0.7777777777777778,
              "#fb9f3a"
             ],
             [
              0.8888888888888888,
              "#fdca26"
             ],
             [
              1,
              "#f0f921"
             ]
            ],
            "type": "heatmapgl"
           }
          ],
          "histogram": [
           {
            "marker": {
             "pattern": {
              "fillmode": "overlay",
              "size": 10,
              "solidity": 0.2
             }
            },
            "type": "histogram"
           }
          ],
          "histogram2d": [
           {
            "colorbar": {
             "outlinewidth": 0,
             "ticks": ""
            },
            "colorscale": [
             [
              0,
              "#0d0887"
             ],
             [
              0.1111111111111111,
              "#46039f"
             ],
             [
              0.2222222222222222,
              "#7201a8"
             ],
             [
              0.3333333333333333,
              "#9c179e"
             ],
             [
              0.4444444444444444,
              "#bd3786"
             ],
             [
              0.5555555555555556,
              "#d8576b"
             ],
             [
              0.6666666666666666,
              "#ed7953"
             ],
             [
              0.7777777777777778,
              "#fb9f3a"
             ],
             [
              0.8888888888888888,
              "#fdca26"
             ],
             [
              1,
              "#f0f921"
             ]
            ],
            "type": "histogram2d"
           }
          ],
          "histogram2dcontour": [
           {
            "colorbar": {
             "outlinewidth": 0,
             "ticks": ""
            },
            "colorscale": [
             [
              0,
              "#0d0887"
             ],
             [
              0.1111111111111111,
              "#46039f"
             ],
             [
              0.2222222222222222,
              "#7201a8"
             ],
             [
              0.3333333333333333,
              "#9c179e"
             ],
             [
              0.4444444444444444,
              "#bd3786"
             ],
             [
              0.5555555555555556,
              "#d8576b"
             ],
             [
              0.6666666666666666,
              "#ed7953"
             ],
             [
              0.7777777777777778,
              "#fb9f3a"
             ],
             [
              0.8888888888888888,
              "#fdca26"
             ],
             [
              1,
              "#f0f921"
             ]
            ],
            "type": "histogram2dcontour"
           }
          ],
          "mesh3d": [
           {
            "colorbar": {
             "outlinewidth": 0,
             "ticks": ""
            },
            "type": "mesh3d"
           }
          ],
          "parcoords": [
           {
            "line": {
             "colorbar": {
              "outlinewidth": 0,
              "ticks": ""
             }
            },
            "type": "parcoords"
           }
          ],
          "pie": [
           {
            "automargin": true,
            "type": "pie"
           }
          ],
          "scatter": [
           {
            "fillpattern": {
             "fillmode": "overlay",
             "size": 10,
             "solidity": 0.2
            },
            "type": "scatter"
           }
          ],
          "scatter3d": [
           {
            "line": {
             "colorbar": {
              "outlinewidth": 0,
              "ticks": ""
             }
            },
            "marker": {
             "colorbar": {
              "outlinewidth": 0,
              "ticks": ""
             }
            },
            "type": "scatter3d"
           }
          ],
          "scattercarpet": [
           {
            "marker": {
             "colorbar": {
              "outlinewidth": 0,
              "ticks": ""
             }
            },
            "type": "scattercarpet"
           }
          ],
          "scattergeo": [
           {
            "marker": {
             "colorbar": {
              "outlinewidth": 0,
              "ticks": ""
             }
            },
            "type": "scattergeo"
           }
          ],
          "scattergl": [
           {
            "marker": {
             "colorbar": {
              "outlinewidth": 0,
              "ticks": ""
             }
            },
            "type": "scattergl"
           }
          ],
          "scattermapbox": [
           {
            "marker": {
             "colorbar": {
              "outlinewidth": 0,
              "ticks": ""
             }
            },
            "type": "scattermapbox"
           }
          ],
          "scatterpolar": [
           {
            "marker": {
             "colorbar": {
              "outlinewidth": 0,
              "ticks": ""
             }
            },
            "type": "scatterpolar"
           }
          ],
          "scatterpolargl": [
           {
            "marker": {
             "colorbar": {
              "outlinewidth": 0,
              "ticks": ""
             }
            },
            "type": "scatterpolargl"
           }
          ],
          "scatterternary": [
           {
            "marker": {
             "colorbar": {
              "outlinewidth": 0,
              "ticks": ""
             }
            },
            "type": "scatterternary"
           }
          ],
          "surface": [
           {
            "colorbar": {
             "outlinewidth": 0,
             "ticks": ""
            },
            "colorscale": [
             [
              0,
              "#0d0887"
             ],
             [
              0.1111111111111111,
              "#46039f"
             ],
             [
              0.2222222222222222,
              "#7201a8"
             ],
             [
              0.3333333333333333,
              "#9c179e"
             ],
             [
              0.4444444444444444,
              "#bd3786"
             ],
             [
              0.5555555555555556,
              "#d8576b"
             ],
             [
              0.6666666666666666,
              "#ed7953"
             ],
             [
              0.7777777777777778,
              "#fb9f3a"
             ],
             [
              0.8888888888888888,
              "#fdca26"
             ],
             [
              1,
              "#f0f921"
             ]
            ],
            "type": "surface"
           }
          ],
          "table": [
           {
            "cells": {
             "fill": {
              "color": "#EBF0F8"
             },
             "line": {
              "color": "white"
             }
            },
            "header": {
             "fill": {
              "color": "#C8D4E3"
             },
             "line": {
              "color": "white"
             }
            },
            "type": "table"
           }
          ]
         },
         "layout": {
          "annotationdefaults": {
           "arrowcolor": "#2a3f5f",
           "arrowhead": 0,
           "arrowwidth": 1
          },
          "autotypenumbers": "strict",
          "coloraxis": {
           "colorbar": {
            "outlinewidth": 0,
            "ticks": ""
           }
          },
          "colorscale": {
           "diverging": [
            [
             0,
             "#8e0152"
            ],
            [
             0.1,
             "#c51b7d"
            ],
            [
             0.2,
             "#de77ae"
            ],
            [
             0.3,
             "#f1b6da"
            ],
            [
             0.4,
             "#fde0ef"
            ],
            [
             0.5,
             "#f7f7f7"
            ],
            [
             0.6,
             "#e6f5d0"
            ],
            [
             0.7,
             "#b8e186"
            ],
            [
             0.8,
             "#7fbc41"
            ],
            [
             0.9,
             "#4d9221"
            ],
            [
             1,
             "#276419"
            ]
           ],
           "sequential": [
            [
             0,
             "#0d0887"
            ],
            [
             0.1111111111111111,
             "#46039f"
            ],
            [
             0.2222222222222222,
             "#7201a8"
            ],
            [
             0.3333333333333333,
             "#9c179e"
            ],
            [
             0.4444444444444444,
             "#bd3786"
            ],
            [
             0.5555555555555556,
             "#d8576b"
            ],
            [
             0.6666666666666666,
             "#ed7953"
            ],
            [
             0.7777777777777778,
             "#fb9f3a"
            ],
            [
             0.8888888888888888,
             "#fdca26"
            ],
            [
             1,
             "#f0f921"
            ]
           ],
           "sequentialminus": [
            [
             0,
             "#0d0887"
            ],
            [
             0.1111111111111111,
             "#46039f"
            ],
            [
             0.2222222222222222,
             "#7201a8"
            ],
            [
             0.3333333333333333,
             "#9c179e"
            ],
            [
             0.4444444444444444,
             "#bd3786"
            ],
            [
             0.5555555555555556,
             "#d8576b"
            ],
            [
             0.6666666666666666,
             "#ed7953"
            ],
            [
             0.7777777777777778,
             "#fb9f3a"
            ],
            [
             0.8888888888888888,
             "#fdca26"
            ],
            [
             1,
             "#f0f921"
            ]
           ]
          },
          "colorway": [
           "#636efa",
           "#EF553B",
           "#00cc96",
           "#ab63fa",
           "#FFA15A",
           "#19d3f3",
           "#FF6692",
           "#B6E880",
           "#FF97FF",
           "#FECB52"
          ],
          "font": {
           "color": "#2a3f5f"
          },
          "geo": {
           "bgcolor": "white",
           "lakecolor": "white",
           "landcolor": "#E5ECF6",
           "showlakes": true,
           "showland": true,
           "subunitcolor": "white"
          },
          "hoverlabel": {
           "align": "left"
          },
          "hovermode": "closest",
          "mapbox": {
           "style": "light"
          },
          "paper_bgcolor": "white",
          "plot_bgcolor": "#E5ECF6",
          "polar": {
           "angularaxis": {
            "gridcolor": "white",
            "linecolor": "white",
            "ticks": ""
           },
           "bgcolor": "#E5ECF6",
           "radialaxis": {
            "gridcolor": "white",
            "linecolor": "white",
            "ticks": ""
           }
          },
          "scene": {
           "xaxis": {
            "backgroundcolor": "#E5ECF6",
            "gridcolor": "white",
            "gridwidth": 2,
            "linecolor": "white",
            "showbackground": true,
            "ticks": "",
            "zerolinecolor": "white"
           },
           "yaxis": {
            "backgroundcolor": "#E5ECF6",
            "gridcolor": "white",
            "gridwidth": 2,
            "linecolor": "white",
            "showbackground": true,
            "ticks": "",
            "zerolinecolor": "white"
           },
           "zaxis": {
            "backgroundcolor": "#E5ECF6",
            "gridcolor": "white",
            "gridwidth": 2,
            "linecolor": "white",
            "showbackground": true,
            "ticks": "",
            "zerolinecolor": "white"
           }
          },
          "shapedefaults": {
           "line": {
            "color": "#2a3f5f"
           }
          },
          "ternary": {
           "aaxis": {
            "gridcolor": "white",
            "linecolor": "white",
            "ticks": ""
           },
           "baxis": {
            "gridcolor": "white",
            "linecolor": "white",
            "ticks": ""
           },
           "bgcolor": "#E5ECF6",
           "caxis": {
            "gridcolor": "white",
            "linecolor": "white",
            "ticks": ""
           }
          },
          "title": {
           "x": 0.05
          },
          "xaxis": {
           "automargin": true,
           "gridcolor": "white",
           "linecolor": "white",
           "ticks": "",
           "title": {
            "standoff": 15
           },
           "zerolinecolor": "white",
           "zerolinewidth": 2
          },
          "yaxis": {
           "automargin": true,
           "gridcolor": "white",
           "linecolor": "white",
           "ticks": "",
           "title": {
            "standoff": 15
           },
           "zerolinecolor": "white",
           "zerolinewidth": 2
          }
         }
        },
        "title": {
         "text": "GBP_JPY_MA_8_32"
        },
        "width": 1000,
        "xaxis": {
         "linecolor": "#3a4a54",
         "linewidth": 1,
         "showgrid": false,
         "zeroline": false
        },
        "yaxis": {
         "linecolor": "#3a4a54",
         "linewidth": 1,
         "showgrid": false,
         "zeroline": false
        }
       }
      }
     },
     "metadata": {},
     "output_type": "display_data"
    },
    {
     "data": {
      "application/vnd.plotly.v1+json": {
       "config": {
        "plotlyServerURL": "https://plot.ly"
       },
       "data": [
        {
         "line": {
          "color": "#3d825f",
          "shape": "spline",
          "width": 2
         },
         "mode": "lines",
         "name": "GBP_CHF_MA_8_32",
         "type": "scatter",
         "x": [
          "2023-10-24T16:00:00+00:00",
          "2023-10-26T13:00:00+00:00",
          "2023-11-01T15:00:00+00:00",
          "2023-11-02T17:00:00+00:00",
          "2023-11-06T20:00:00+00:00",
          "2023-11-09T09:00:00+00:00",
          "2023-11-09T17:00:00+00:00",
          "2023-11-13T01:00:00+00:00",
          "2023-11-15T08:00:00+00:00",
          "2023-11-16T16:00:00+00:00",
          "2023-11-17T08:00:00+00:00",
          "2023-11-17T21:00:00+00:00",
          "2023-11-22T07:00:00+00:00",
          "2023-11-22T12:00:00+00:00",
          "2023-11-22T13:00:00+00:00",
          "2023-11-23T11:00:00+00:00",
          "2023-11-27T15:00:00+00:00",
          "2023-11-27T19:00:00+00:00",
          "2023-11-27T20:00:00+00:00",
          "2023-11-27T23:00:00+00:00",
          "2023-11-29T12:00:00+00:00",
          "2023-12-01T12:00:00+00:00",
          "2023-12-01T18:00:00+00:00",
          "2023-12-04T10:00:00+00:00",
          "2023-12-04T16:00:00+00:00",
          "2023-12-05T16:00:00+00:00",
          "2023-12-05T19:00:00+00:00",
          "2023-12-05T20:00:00+00:00",
          "2023-12-05T21:00:00+00:00",
          "2023-12-06T05:00:00+00:00",
          "2023-12-06T10:00:00+00:00",
          "2023-12-07T14:00:00+00:00",
          "2023-12-08T11:00:00+00:00",
          "2023-12-08T16:00:00+00:00",
          "2023-12-11T20:00:00+00:00",
          "2023-12-13T23:00:00+00:00",
          "2023-12-14T05:00:00+00:00",
          "2023-12-14T09:00:00+00:00",
          "2023-12-15T15:00:00+00:00",
          "2023-12-19T13:00:00+00:00",
          "2023-12-19T19:00:00+00:00",
          "2023-12-22T17:00:00+00:00",
          "2023-12-26T07:00:00+00:00",
          "2023-12-26T10:00:00+00:00",
          "2023-12-26T18:00:00+00:00",
          "2023-12-29T02:00:00+00:00",
          "2023-12-29T10:00:00+00:00",
          "2024-01-02T03:00:00+00:00",
          "2024-01-02T19:00:00+00:00",
          "2024-01-03T08:00:00+00:00",
          "2024-01-08T13:00:00+00:00",
          "2024-01-09T10:00:00+00:00",
          "2024-01-12T15:00:00+00:00",
          "2024-01-15T07:00:00+00:00",
          "2024-01-15T12:00:00+00:00",
          "2024-01-15T16:00:00+00:00",
          "2024-01-16T16:00:00+00:00",
          "2024-01-17T03:00:00+00:00",
          "2024-01-17T06:00:00+00:00",
          "2024-01-17T07:00:00+00:00",
          "2024-01-23T05:00:00+00:00",
          "2024-01-23T12:00:00+00:00",
          "2024-01-23T17:00:00+00:00",
          "2024-01-25T13:00:00+00:00",
          "2024-01-26T10:00:00+00:00",
          "2024-01-31T04:00:00+00:00",
          "2024-01-31T05:00:00+00:00",
          "2024-01-31T07:00:00+00:00",
          "2024-01-31T15:00:00+00:00",
          "2024-02-01T03:00:00+00:00",
          "2024-02-01T09:00:00+00:00",
          "2024-02-02T00:00:00+00:00",
          "2024-02-02T01:00:00+00:00",
          "2024-02-02T13:00:00+00:00",
          "2024-02-05T15:00:00+00:00",
          "2024-02-06T11:00:00+00:00",
          "2024-02-08T15:00:00+00:00",
          "2024-02-08T20:00:00+00:00",
          "2024-02-08T21:00:00+00:00",
          "2024-02-09T06:00:00+00:00",
          "2024-02-12T11:00:00+00:00",
          "2024-02-12T13:00:00+00:00",
          "2024-02-14T12:00:00+00:00",
          "2024-02-16T11:00:00+00:00",
          "2024-02-19T18:00:00+00:00",
          "2024-02-19T19:00:00+00:00",
          "2024-02-20T06:00:00+00:00",
          "2024-02-20T07:00:00+00:00",
          "2024-02-20T09:00:00+00:00",
          "2024-02-20T13:00:00+00:00",
          "2024-02-21T09:00:00+00:00",
          "2024-02-22T12:00:00+00:00",
          "2024-02-26T08:00:00+00:00",
          "2024-02-26T17:00:00+00:00",
          "2024-02-27T03:00:00+00:00",
          "2024-02-29T15:00:00+00:00",
          "2024-03-04T03:00:00+00:00",
          "2024-03-04T05:00:00+00:00",
          "2024-03-04T07:00:00+00:00",
          "2024-03-04T12:00:00+00:00",
          "2024-03-05T21:00:00+00:00",
          "2024-03-06T06:00:00+00:00",
          "2024-03-06T22:00:00+00:00",
          "2024-03-07T19:00:00+00:00",
          "2024-03-11T12:00:00+00:00",
          "2024-03-13T06:00:00+00:00",
          "2024-03-15T12:00:00+00:00",
          "2024-03-18T13:00:00+00:00",
          "2024-03-19T12:00:00+00:00",
          "2024-03-19T19:00:00+00:00",
          "2024-03-22T07:00:00+00:00",
          "2024-03-25T12:00:00+00:00",
          "2024-03-28T09:00:00+00:00",
          "2024-03-29T18:00:00+00:00",
          "2024-04-01T08:00:00+00:00",
          "2024-04-02T08:00:00+00:00",
          "2024-04-04T20:00:00+00:00",
          "2024-04-08T01:00:00+00:00",
          "2024-04-09T19:00:00+00:00",
          "2024-04-10T04:00:00+00:00",
          "2024-04-10T18:00:00+00:00",
          "2024-04-11T08:00:00+00:00",
          "2024-04-11T10:00:00+00:00",
          "2024-04-15T08:00:00+00:00",
          "2024-04-15T19:00:00+00:00",
          "2024-04-17T13:00:00+00:00",
          "2024-04-17T17:00:00+00:00",
          "2024-04-18T17:00:00+00:00",
          "2024-04-19T01:00:00+00:00",
          "2024-04-23T00:00:00+00:00",
          "2024-04-26T10:00:00+00:00",
          "2024-04-28T22:00:00+00:00",
          "2024-05-01T20:00:00+00:00",
          "2024-05-06T10:00:00+00:00",
          "2024-05-07T10:00:00+00:00",
          "2024-05-09T09:00:00+00:00",
          "2024-05-09T12:00:00+00:00",
          "2024-05-09T14:00:00+00:00",
          "2024-05-09T17:00:00+00:00",
          "2024-05-10T01:00:00+00:00",
          "2024-05-13T00:00:00+00:00",
          "2024-05-13T05:00:00+00:00",
          "2024-05-14T14:00:00+00:00",
          "2024-05-14T16:00:00+00:00",
          "2024-05-16T06:00:00+00:00",
          "2024-05-16T10:00:00+00:00",
          "2024-05-23T12:00:00+00:00",
          "2024-05-24T11:00:00+00:00",
          "2024-05-28T05:00:00+00:00",
          "2024-05-31T15:00:00+00:00",
          "2024-05-31T17:00:00+00:00",
          "2024-06-05T11:00:00+00:00",
          "2024-06-06T09:00:00+00:00",
          "2024-06-07T14:00:00+00:00",
          "2024-06-10T12:00:00+00:00"
         ],
         "y": [
          -11.499999999999844,
          149.40000000000174,
          144.6000000000014,
          197.8000000000013,
          217.00000000000273,
          185.60000000000352,
          192.90000000000472,
          221.3000000000065,
          255.70000000000758,
          214.50000000000855,
          170.60000000000963,
          204.80000000000942,
          194.70000000000988,
          181.20000000001025,
          150.10000000000858,
          157.60000000000664,
          142.40000000000475,
          141.40000000000487,
          141.70000000000684,
          150.6000000000074,
          205.4000000000067,
          167.9000000000053,
          142.00000000000438,
          108.40000000000408,
          107.0000000000038,
          93.20000000000442,
          86.80000000000469,
          85.4000000000044,
          75.2000000000042,
          64.10000000000475,
          64.6000000000058,
          50.800000000006435,
          9.60000000000742,
          -8.399999999992819,
          26.000000000006057,
          -0.7999999999940997,
          -67.79999999999337,
          -93.39999999999233,
          -91.99999999999204,
          -146.99999999999264,
          -73.49999999999297,
          -86.29999999999245,
          -106.39999999999313,
          -127.39999999999526,
          5.400000000004326,
          -61.4999999999943,
          -135.39999999999438,
          -152.9999999999942,
          -185.99999999999278,
          -136.99999999999153,
          -161.89999999999034,
          -130.29999999998984,
          -154.8999999999889,
          -175.29999999998708,
          -194.59999999998695,
          -188.5999999999876,
          -180.99999999998667,
          -186.69999999998626,
          -225.59999999998576,
          -114.19999999998426,
          -131.5999999999828,
          -144.99999999998175,
          -131.99999999998096,
          -159.3999999999806,
          -110.39999999998156,
          -111.79999999998185,
          -120.19999999998137,
          -142.79999999998066,
          -162.39999999998028,
          -187.79999999998014,
          -193.29999999998066,
          -189.39999999998176,
          -203.79999999998284,
          -235.49999999998403,
          -273.79999999998404,
          -199.19999999998382,
          -200.5999999999841,
          -202.89999999998363,
          -213.59999999998269,
          -206.29999999998148,
          -222.1999999999813,
          -147.69999999998174,
          -110.89999999998047,
          -89.7999999999799,
          -91.99999999998099,
          -97.39999999998084,
          -106.99999999997934,
          -116.8999999999798,
          -127.09999999998001,
          -144.1999999999788,
          -177.99999999997817,
          -157.79999999997685,
          -163.3999999999758,
          -176.19999999997526,
          -163.89999999997463,
          -124.79999999997383,
          -127.79999999997351,
          -141.39999999997377,
          -190.19999999997373,
          -183.99999999997308,
          -194.29999999997173,
          -198.99999999997144,
          -203.9999999999709,
          -181.89999999997045,
          -156.49999999997058,
          -134.99999999996962,
          -148.79999999996897,
          -150.39999999996834,
          -184.19999999996773,
          -145.79999999996707,
          -153.1999999999667,
          -85.79999999996703,
          -58.79999999996778,
          -72.09999999996832,
          -113.39999999996799,
          -130.59999999996742,
          -148.8999999999674,
          -111.89999999996704,
          -119.29999999996667,
          -133.49999999996643,
          -158.29999999996681,
          -187.89999999996755,
          -142.69999999996676,
          -180.39999999996726,
          -185.69999999996867,
          -221.89999999996823,
          -239.19999999996833,
          -326.89999999996996,
          -332.3999999999705,
          -178.99999999996916,
          -188.99999999996805,
          -139.29999999996886,
          -52.899999999969054,
          -60.39999999996934,
          -37.799999999970055,
          -51.79999999997074,
          -53.69999999997208,
          -55.49999999997277,
          -60.39999999997379,
          -58.7999999999744,
          -66.69999999997509,
          -17.499999999976957,
          -19.799999999978702,
          -4.099999999980209,
          -12.799999999981694,
          183.60000000001708,
          176.00000000001614,
          193.600000000016,
          344.10000000001605,
          331.60000000001634,
          419.7000000000162,
          415.0000000000165,
          407.60000000001685,
          401.5000000000168,
          386.6000000000169
         ]
        }
       ],
       "layout": {
        "font": {
         "color": "#e1e1e1",
         "size": 10
        },
        "height": 400,
        "margin": {
         "b": 10,
         "l": 15,
         "r": 15
        },
        "paper_bgcolor": "#1e1e1e",
        "plot_bgcolor": "#1e1e1e",
        "template": {
         "data": {
          "bar": [
           {
            "error_x": {
             "color": "#2a3f5f"
            },
            "error_y": {
             "color": "#2a3f5f"
            },
            "marker": {
             "line": {
              "color": "#E5ECF6",
              "width": 0.5
             },
             "pattern": {
              "fillmode": "overlay",
              "size": 10,
              "solidity": 0.2
             }
            },
            "type": "bar"
           }
          ],
          "barpolar": [
           {
            "marker": {
             "line": {
              "color": "#E5ECF6",
              "width": 0.5
             },
             "pattern": {
              "fillmode": "overlay",
              "size": 10,
              "solidity": 0.2
             }
            },
            "type": "barpolar"
           }
          ],
          "carpet": [
           {
            "aaxis": {
             "endlinecolor": "#2a3f5f",
             "gridcolor": "white",
             "linecolor": "white",
             "minorgridcolor": "white",
             "startlinecolor": "#2a3f5f"
            },
            "baxis": {
             "endlinecolor": "#2a3f5f",
             "gridcolor": "white",
             "linecolor": "white",
             "minorgridcolor": "white",
             "startlinecolor": "#2a3f5f"
            },
            "type": "carpet"
           }
          ],
          "choropleth": [
           {
            "colorbar": {
             "outlinewidth": 0,
             "ticks": ""
            },
            "type": "choropleth"
           }
          ],
          "contour": [
           {
            "colorbar": {
             "outlinewidth": 0,
             "ticks": ""
            },
            "colorscale": [
             [
              0,
              "#0d0887"
             ],
             [
              0.1111111111111111,
              "#46039f"
             ],
             [
              0.2222222222222222,
              "#7201a8"
             ],
             [
              0.3333333333333333,
              "#9c179e"
             ],
             [
              0.4444444444444444,
              "#bd3786"
             ],
             [
              0.5555555555555556,
              "#d8576b"
             ],
             [
              0.6666666666666666,
              "#ed7953"
             ],
             [
              0.7777777777777778,
              "#fb9f3a"
             ],
             [
              0.8888888888888888,
              "#fdca26"
             ],
             [
              1,
              "#f0f921"
             ]
            ],
            "type": "contour"
           }
          ],
          "contourcarpet": [
           {
            "colorbar": {
             "outlinewidth": 0,
             "ticks": ""
            },
            "type": "contourcarpet"
           }
          ],
          "heatmap": [
           {
            "colorbar": {
             "outlinewidth": 0,
             "ticks": ""
            },
            "colorscale": [
             [
              0,
              "#0d0887"
             ],
             [
              0.1111111111111111,
              "#46039f"
             ],
             [
              0.2222222222222222,
              "#7201a8"
             ],
             [
              0.3333333333333333,
              "#9c179e"
             ],
             [
              0.4444444444444444,
              "#bd3786"
             ],
             [
              0.5555555555555556,
              "#d8576b"
             ],
             [
              0.6666666666666666,
              "#ed7953"
             ],
             [
              0.7777777777777778,
              "#fb9f3a"
             ],
             [
              0.8888888888888888,
              "#fdca26"
             ],
             [
              1,
              "#f0f921"
             ]
            ],
            "type": "heatmap"
           }
          ],
          "heatmapgl": [
           {
            "colorbar": {
             "outlinewidth": 0,
             "ticks": ""
            },
            "colorscale": [
             [
              0,
              "#0d0887"
             ],
             [
              0.1111111111111111,
              "#46039f"
             ],
             [
              0.2222222222222222,
              "#7201a8"
             ],
             [
              0.3333333333333333,
              "#9c179e"
             ],
             [
              0.4444444444444444,
              "#bd3786"
             ],
             [
              0.5555555555555556,
              "#d8576b"
             ],
             [
              0.6666666666666666,
              "#ed7953"
             ],
             [
              0.7777777777777778,
              "#fb9f3a"
             ],
             [
              0.8888888888888888,
              "#fdca26"
             ],
             [
              1,
              "#f0f921"
             ]
            ],
            "type": "heatmapgl"
           }
          ],
          "histogram": [
           {
            "marker": {
             "pattern": {
              "fillmode": "overlay",
              "size": 10,
              "solidity": 0.2
             }
            },
            "type": "histogram"
           }
          ],
          "histogram2d": [
           {
            "colorbar": {
             "outlinewidth": 0,
             "ticks": ""
            },
            "colorscale": [
             [
              0,
              "#0d0887"
             ],
             [
              0.1111111111111111,
              "#46039f"
             ],
             [
              0.2222222222222222,
              "#7201a8"
             ],
             [
              0.3333333333333333,
              "#9c179e"
             ],
             [
              0.4444444444444444,
              "#bd3786"
             ],
             [
              0.5555555555555556,
              "#d8576b"
             ],
             [
              0.6666666666666666,
              "#ed7953"
             ],
             [
              0.7777777777777778,
              "#fb9f3a"
             ],
             [
              0.8888888888888888,
              "#fdca26"
             ],
             [
              1,
              "#f0f921"
             ]
            ],
            "type": "histogram2d"
           }
          ],
          "histogram2dcontour": [
           {
            "colorbar": {
             "outlinewidth": 0,
             "ticks": ""
            },
            "colorscale": [
             [
              0,
              "#0d0887"
             ],
             [
              0.1111111111111111,
              "#46039f"
             ],
             [
              0.2222222222222222,
              "#7201a8"
             ],
             [
              0.3333333333333333,
              "#9c179e"
             ],
             [
              0.4444444444444444,
              "#bd3786"
             ],
             [
              0.5555555555555556,
              "#d8576b"
             ],
             [
              0.6666666666666666,
              "#ed7953"
             ],
             [
              0.7777777777777778,
              "#fb9f3a"
             ],
             [
              0.8888888888888888,
              "#fdca26"
             ],
             [
              1,
              "#f0f921"
             ]
            ],
            "type": "histogram2dcontour"
           }
          ],
          "mesh3d": [
           {
            "colorbar": {
             "outlinewidth": 0,
             "ticks": ""
            },
            "type": "mesh3d"
           }
          ],
          "parcoords": [
           {
            "line": {
             "colorbar": {
              "outlinewidth": 0,
              "ticks": ""
             }
            },
            "type": "parcoords"
           }
          ],
          "pie": [
           {
            "automargin": true,
            "type": "pie"
           }
          ],
          "scatter": [
           {
            "fillpattern": {
             "fillmode": "overlay",
             "size": 10,
             "solidity": 0.2
            },
            "type": "scatter"
           }
          ],
          "scatter3d": [
           {
            "line": {
             "colorbar": {
              "outlinewidth": 0,
              "ticks": ""
             }
            },
            "marker": {
             "colorbar": {
              "outlinewidth": 0,
              "ticks": ""
             }
            },
            "type": "scatter3d"
           }
          ],
          "scattercarpet": [
           {
            "marker": {
             "colorbar": {
              "outlinewidth": 0,
              "ticks": ""
             }
            },
            "type": "scattercarpet"
           }
          ],
          "scattergeo": [
           {
            "marker": {
             "colorbar": {
              "outlinewidth": 0,
              "ticks": ""
             }
            },
            "type": "scattergeo"
           }
          ],
          "scattergl": [
           {
            "marker": {
             "colorbar": {
              "outlinewidth": 0,
              "ticks": ""
             }
            },
            "type": "scattergl"
           }
          ],
          "scattermapbox": [
           {
            "marker": {
             "colorbar": {
              "outlinewidth": 0,
              "ticks": ""
             }
            },
            "type": "scattermapbox"
           }
          ],
          "scatterpolar": [
           {
            "marker": {
             "colorbar": {
              "outlinewidth": 0,
              "ticks": ""
             }
            },
            "type": "scatterpolar"
           }
          ],
          "scatterpolargl": [
           {
            "marker": {
             "colorbar": {
              "outlinewidth": 0,
              "ticks": ""
             }
            },
            "type": "scatterpolargl"
           }
          ],
          "scatterternary": [
           {
            "marker": {
             "colorbar": {
              "outlinewidth": 0,
              "ticks": ""
             }
            },
            "type": "scatterternary"
           }
          ],
          "surface": [
           {
            "colorbar": {
             "outlinewidth": 0,
             "ticks": ""
            },
            "colorscale": [
             [
              0,
              "#0d0887"
             ],
             [
              0.1111111111111111,
              "#46039f"
             ],
             [
              0.2222222222222222,
              "#7201a8"
             ],
             [
              0.3333333333333333,
              "#9c179e"
             ],
             [
              0.4444444444444444,
              "#bd3786"
             ],
             [
              0.5555555555555556,
              "#d8576b"
             ],
             [
              0.6666666666666666,
              "#ed7953"
             ],
             [
              0.7777777777777778,
              "#fb9f3a"
             ],
             [
              0.8888888888888888,
              "#fdca26"
             ],
             [
              1,
              "#f0f921"
             ]
            ],
            "type": "surface"
           }
          ],
          "table": [
           {
            "cells": {
             "fill": {
              "color": "#EBF0F8"
             },
             "line": {
              "color": "white"
             }
            },
            "header": {
             "fill": {
              "color": "#C8D4E3"
             },
             "line": {
              "color": "white"
             }
            },
            "type": "table"
           }
          ]
         },
         "layout": {
          "annotationdefaults": {
           "arrowcolor": "#2a3f5f",
           "arrowhead": 0,
           "arrowwidth": 1
          },
          "autotypenumbers": "strict",
          "coloraxis": {
           "colorbar": {
            "outlinewidth": 0,
            "ticks": ""
           }
          },
          "colorscale": {
           "diverging": [
            [
             0,
             "#8e0152"
            ],
            [
             0.1,
             "#c51b7d"
            ],
            [
             0.2,
             "#de77ae"
            ],
            [
             0.3,
             "#f1b6da"
            ],
            [
             0.4,
             "#fde0ef"
            ],
            [
             0.5,
             "#f7f7f7"
            ],
            [
             0.6,
             "#e6f5d0"
            ],
            [
             0.7,
             "#b8e186"
            ],
            [
             0.8,
             "#7fbc41"
            ],
            [
             0.9,
             "#4d9221"
            ],
            [
             1,
             "#276419"
            ]
           ],
           "sequential": [
            [
             0,
             "#0d0887"
            ],
            [
             0.1111111111111111,
             "#46039f"
            ],
            [
             0.2222222222222222,
             "#7201a8"
            ],
            [
             0.3333333333333333,
             "#9c179e"
            ],
            [
             0.4444444444444444,
             "#bd3786"
            ],
            [
             0.5555555555555556,
             "#d8576b"
            ],
            [
             0.6666666666666666,
             "#ed7953"
            ],
            [
             0.7777777777777778,
             "#fb9f3a"
            ],
            [
             0.8888888888888888,
             "#fdca26"
            ],
            [
             1,
             "#f0f921"
            ]
           ],
           "sequentialminus": [
            [
             0,
             "#0d0887"
            ],
            [
             0.1111111111111111,
             "#46039f"
            ],
            [
             0.2222222222222222,
             "#7201a8"
            ],
            [
             0.3333333333333333,
             "#9c179e"
            ],
            [
             0.4444444444444444,
             "#bd3786"
            ],
            [
             0.5555555555555556,
             "#d8576b"
            ],
            [
             0.6666666666666666,
             "#ed7953"
            ],
            [
             0.7777777777777778,
             "#fb9f3a"
            ],
            [
             0.8888888888888888,
             "#fdca26"
            ],
            [
             1,
             "#f0f921"
            ]
           ]
          },
          "colorway": [
           "#636efa",
           "#EF553B",
           "#00cc96",
           "#ab63fa",
           "#FFA15A",
           "#19d3f3",
           "#FF6692",
           "#B6E880",
           "#FF97FF",
           "#FECB52"
          ],
          "font": {
           "color": "#2a3f5f"
          },
          "geo": {
           "bgcolor": "white",
           "lakecolor": "white",
           "landcolor": "#E5ECF6",
           "showlakes": true,
           "showland": true,
           "subunitcolor": "white"
          },
          "hoverlabel": {
           "align": "left"
          },
          "hovermode": "closest",
          "mapbox": {
           "style": "light"
          },
          "paper_bgcolor": "white",
          "plot_bgcolor": "#E5ECF6",
          "polar": {
           "angularaxis": {
            "gridcolor": "white",
            "linecolor": "white",
            "ticks": ""
           },
           "bgcolor": "#E5ECF6",
           "radialaxis": {
            "gridcolor": "white",
            "linecolor": "white",
            "ticks": ""
           }
          },
          "scene": {
           "xaxis": {
            "backgroundcolor": "#E5ECF6",
            "gridcolor": "white",
            "gridwidth": 2,
            "linecolor": "white",
            "showbackground": true,
            "ticks": "",
            "zerolinecolor": "white"
           },
           "yaxis": {
            "backgroundcolor": "#E5ECF6",
            "gridcolor": "white",
            "gridwidth": 2,
            "linecolor": "white",
            "showbackground": true,
            "ticks": "",
            "zerolinecolor": "white"
           },
           "zaxis": {
            "backgroundcolor": "#E5ECF6",
            "gridcolor": "white",
            "gridwidth": 2,
            "linecolor": "white",
            "showbackground": true,
            "ticks": "",
            "zerolinecolor": "white"
           }
          },
          "shapedefaults": {
           "line": {
            "color": "#2a3f5f"
           }
          },
          "ternary": {
           "aaxis": {
            "gridcolor": "white",
            "linecolor": "white",
            "ticks": ""
           },
           "baxis": {
            "gridcolor": "white",
            "linecolor": "white",
            "ticks": ""
           },
           "bgcolor": "#E5ECF6",
           "caxis": {
            "gridcolor": "white",
            "linecolor": "white",
            "ticks": ""
           }
          },
          "title": {
           "x": 0.05
          },
          "xaxis": {
           "automargin": true,
           "gridcolor": "white",
           "linecolor": "white",
           "ticks": "",
           "title": {
            "standoff": 15
           },
           "zerolinecolor": "white",
           "zerolinewidth": 2
          },
          "yaxis": {
           "automargin": true,
           "gridcolor": "white",
           "linecolor": "white",
           "ticks": "",
           "title": {
            "standoff": 15
           },
           "zerolinecolor": "white",
           "zerolinewidth": 2
          }
         }
        },
        "title": {
         "text": "GBP_CHF_MA_8_32"
        },
        "width": 1000,
        "xaxis": {
         "linecolor": "#3a4a54",
         "linewidth": 1,
         "showgrid": false,
         "zeroline": false
        },
        "yaxis": {
         "linecolor": "#3a4a54",
         "linewidth": 1,
         "showgrid": false,
         "zeroline": false
        }
       }
      }
     },
     "metadata": {},
     "output_type": "display_data"
    },
    {
     "data": {
      "application/vnd.plotly.v1+json": {
       "config": {
        "plotlyServerURL": "https://plot.ly"
       },
       "data": [
        {
         "line": {
          "color": "#3d825f",
          "shape": "spline",
          "width": 2
         },
         "mode": "lines",
         "name": "EUR_JPY_MA_8_32",
         "type": "scatter",
         "x": [
          "2023-10-24T12:00:00+00:00",
          "2023-10-26T20:00:00+00:00",
          "2023-10-27T08:00:00+00:00",
          "2023-10-30T13:00:00+00:00",
          "2023-10-30T21:00:00+00:00",
          "2023-10-30T22:00:00+00:00",
          "2023-11-01T08:00:00+00:00",
          "2023-11-02T10:00:00+00:00",
          "2023-11-07T12:00:00+00:00",
          "2023-11-07T21:00:00+00:00",
          "2023-11-09T22:00:00+00:00",
          "2023-11-10T11:00:00+00:00",
          "2023-11-16T16:00:00+00:00",
          "2023-11-19T23:00:00+00:00",
          "2023-11-20T05:00:00+00:00",
          "2023-11-22T01:00:00+00:00",
          "2023-11-27T06:00:00+00:00",
          "2023-11-30T20:00:00+00:00",
          "2023-11-30T22:00:00+00:00",
          "2023-12-01T04:00:00+00:00",
          "2023-12-01T13:00:00+00:00",
          "2023-12-05T00:00:00+00:00",
          "2023-12-05T07:00:00+00:00",
          "2023-12-08T16:00:00+00:00",
          "2023-12-12T05:00:00+00:00",
          "2023-12-12T21:00:00+00:00",
          "2023-12-13T15:00:00+00:00",
          "2023-12-14T19:00:00+00:00",
          "2023-12-15T13:00:00+00:00",
          "2023-12-18T09:00:00+00:00",
          "2023-12-20T08:00:00+00:00",
          "2023-12-22T07:00:00+00:00",
          "2023-12-22T11:00:00+00:00",
          "2023-12-22T14:00:00+00:00",
          "2023-12-28T00:00:00+00:00",
          "2023-12-29T11:00:00+00:00",
          "2023-12-29T16:00:00+00:00",
          "2024-01-03T08:00:00+00:00",
          "2024-01-05T21:00:00+00:00",
          "2024-01-09T20:00:00+00:00",
          "2024-01-11T22:00:00+00:00",
          "2024-01-15T06:00:00+00:00",
          "2024-01-18T13:00:00+00:00",
          "2024-01-19T01:00:00+00:00",
          "2024-01-22T05:00:00+00:00",
          "2024-01-22T10:00:00+00:00",
          "2024-01-22T11:00:00+00:00",
          "2024-01-25T05:00:00+00:00",
          "2024-01-25T15:00:00+00:00",
          "2024-01-26T13:00:00+00:00",
          "2024-01-29T08:00:00+00:00",
          "2024-01-30T15:00:00+00:00",
          "2024-01-31T08:00:00+00:00",
          "2024-01-31T11:00:00+00:00",
          "2024-01-31T15:00:00+00:00",
          "2024-02-01T20:00:00+00:00",
          "2024-02-05T11:00:00+00:00",
          "2024-02-07T11:00:00+00:00",
          "2024-02-12T09:00:00+00:00",
          "2024-02-13T04:00:00+00:00",
          "2024-02-14T09:00:00+00:00",
          "2024-02-14T15:00:00+00:00",
          "2024-02-15T04:00:00+00:00",
          "2024-02-15T17:00:00+00:00",
          "2024-02-19T05:00:00+00:00",
          "2024-02-19T21:00:00+00:00",
          "2024-02-23T17:00:00+00:00",
          "2024-02-26T09:00:00+00:00",
          "2024-02-27T08:00:00+00:00",
          "2024-02-28T17:00:00+00:00",
          "2024-02-29T02:00:00+00:00",
          "2024-03-01T05:00:00+00:00",
          "2024-03-05T11:00:00+00:00",
          "2024-03-06T22:00:00+00:00",
          "2024-03-06T23:00:00+00:00",
          "2024-03-07T22:00:00+00:00",
          "2024-03-08T09:00:00+00:00",
          "2024-03-12T03:00:00+00:00",
          "2024-03-13T07:00:00+00:00",
          "2024-03-13T08:00:00+00:00",
          "2024-03-14T12:00:00+00:00",
          "2024-03-15T10:00:00+00:00",
          "2024-03-18T19:00:00+00:00",
          "2024-03-19T04:00:00+00:00",
          "2024-03-21T18:00:00+00:00",
          "2024-03-25T12:00:00+00:00",
          "2024-03-26T21:00:00+00:00",
          "2024-03-27T07:00:00+00:00",
          "2024-03-27T10:00:00+00:00",
          "2024-03-29T18:00:00+00:00",
          "2024-04-01T14:00:00+00:00",
          "2024-04-02T14:00:00+00:00",
          "2024-04-04T21:00:00+00:00",
          "2024-04-05T19:00:00+00:00",
          "2024-04-09T18:00:00+00:00",
          "2024-04-10T11:00:00+00:00",
          "2024-04-10T12:00:00+00:00",
          "2024-04-11T20:00:00+00:00",
          "2024-04-11T21:00:00+00:00",
          "2024-04-11T22:00:00+00:00",
          "2024-04-12T02:00:00+00:00",
          "2024-04-15T05:00:00+00:00",
          "2024-04-16T05:00:00+00:00",
          "2024-04-16T10:00:00+00:00",
          "2024-04-18T19:00:00+00:00",
          "2024-04-19T13:00:00+00:00",
          "2024-04-22T14:00:00+00:00",
          "2024-04-22T20:00:00+00:00",
          "2024-04-29T09:00:00+00:00",
          "2024-04-30T09:00:00+00:00",
          "2024-05-01T20:00:00+00:00",
          "2024-05-03T19:00:00+00:00",
          "2024-05-15T10:00:00+00:00",
          "2024-05-16T14:00:00+00:00",
          "2024-05-21T15:00:00+00:00",
          "2024-05-22T06:00:00+00:00",
          "2024-05-22T14:00:00+00:00",
          "2024-05-22T20:00:00+00:00",
          "2024-05-23T22:00:00+00:00",
          "2024-05-24T07:00:00+00:00",
          "2024-05-29T08:00:00+00:00",
          "2024-05-31T08:00:00+00:00",
          "2024-06-03T11:00:00+00:00",
          "2024-06-04T02:00:00+00:00",
          "2024-06-04T08:00:00+00:00",
          "2024-06-05T06:00:00+00:00",
          "2024-06-06T20:00:00+00:00",
          "2024-06-10T22:00:00+00:00",
          "2024-06-11T13:00:00+00:00"
         ],
         "y": [
          15.699999999998226,
          -20.90000000000316,
          -59.00000000000318,
          -125.2000000000038,
          -127.40000000000578,
          15.599999999992065,
          -7.000000000007844,
          79.19999999999447,
          61.99999999999477,
          109.99999999999375,
          78.69999999999209,
          244.69999999999175,
          229.59999999999354,
          153.0999999999949,
          244.5999999999941,
          374.39999999999145,
          554.5999999999907,
          556.7999999999898,
          544.1999999999894,
          497.89999999999,
          659.79999999999,
          586.199999999991,
          888.0999999999915,
          976.899999999992,
          928.5999999999916,
          893.3999999999912,
          962.1999999999929,
          897.4999999999937,
          873.1999999999942,
          1048.7999999999943,
          1142.799999999994,
          1152.9999999999945,
          1129.9999999999955,
          1192.4999999999955,
          1250.3999999999933,
          1158.7999999999906,
          1130.5999999999894,
          1338.5999999999908,
          1369.599999999991,
          1525.3999999999903,
          1547.5999999999913,
          1707.7999999999915,
          1645.5999999999901,
          1636.799999999988,
          1662.199999999987,
          1652.1999999999875,
          1678.699999999989,
          1585.5999999999906,
          1517.9999999999918,
          1487.5999999999917,
          1487.5999999999917,
          1418.8999999999933,
          1347.6999999999944,
          1200.399999999996,
          1169.7999999999977,
          1225.599999999997,
          1238.7999999999947,
          1348.1999999999941,
          1310.5999999999935,
          1331.9999999999934,
          1302.8999999999937,
          1259.3999999999935,
          1210.5999999999935,
          1230.7999999999934,
          1220.199999999994,
          1317.5999999999958,
          1270.3999999999978,
          1246.9999999999998,
          1218.9999999999995,
          1117.299999999997,
          1082.2999999999947,
          1135.3999999999924,
          1180.5999999999922,
          1174.799999999993,
          1250.3999999999928,
          1146.5999999999917,
          1116.5999999999906,
          1133.5999999999922,
          1110.9999999999923,
          1111.7999999999904,
          1068.0999999999892,
          1081.1999999999894,
          994.1999999999889,
          1165.8999999999874,
          1261.999999999986,
          1286.799999999985,
          1277.3999999999855,
          1232.599999999985,
          1270.5999999999844,
          1239.0999999999847,
          1219.499999999985,
          1300.9999999999848,
          1269.299999999984,
          1305.799999999985,
          1290.7999999999843,
          1235.4999999999818,
          1222.9999999999818,
          1218.9999999999827,
          1217.1999999999825,
          1209.599999999983,
          1245.899999999983,
          1240.3999999999824,
          1201.4999999999814,
          1230.799999999982,
          1200.5999999999826,
          1184.599999999983,
          1160.7999999999831,
          1350.5999999999826,
          1212.599999999983,
          937.8999999999845,
          1027.9999999999854,
          1427.699999999984,
          1404.1999999999825,
          1463.8999999999833,
          1420.599999999984,
          1392.999999999983,
          1376.7999999999824,
          1381.1999999999834,
          1358.3999999999855,
          1383.1999999999875,
          1366.2999999999893,
          1332.7999999999913,
          1284.1999999999923,
          1125.3999999999928,
          1068.1999999999925,
          1058.3999999999912,
          1098.7999999999909,
          1044.9999999999898,
          980.7999999999902
         ]
        }
       ],
       "layout": {
        "font": {
         "color": "#e1e1e1",
         "size": 10
        },
        "height": 400,
        "margin": {
         "b": 10,
         "l": 15,
         "r": 15
        },
        "paper_bgcolor": "#1e1e1e",
        "plot_bgcolor": "#1e1e1e",
        "template": {
         "data": {
          "bar": [
           {
            "error_x": {
             "color": "#2a3f5f"
            },
            "error_y": {
             "color": "#2a3f5f"
            },
            "marker": {
             "line": {
              "color": "#E5ECF6",
              "width": 0.5
             },
             "pattern": {
              "fillmode": "overlay",
              "size": 10,
              "solidity": 0.2
             }
            },
            "type": "bar"
           }
          ],
          "barpolar": [
           {
            "marker": {
             "line": {
              "color": "#E5ECF6",
              "width": 0.5
             },
             "pattern": {
              "fillmode": "overlay",
              "size": 10,
              "solidity": 0.2
             }
            },
            "type": "barpolar"
           }
          ],
          "carpet": [
           {
            "aaxis": {
             "endlinecolor": "#2a3f5f",
             "gridcolor": "white",
             "linecolor": "white",
             "minorgridcolor": "white",
             "startlinecolor": "#2a3f5f"
            },
            "baxis": {
             "endlinecolor": "#2a3f5f",
             "gridcolor": "white",
             "linecolor": "white",
             "minorgridcolor": "white",
             "startlinecolor": "#2a3f5f"
            },
            "type": "carpet"
           }
          ],
          "choropleth": [
           {
            "colorbar": {
             "outlinewidth": 0,
             "ticks": ""
            },
            "type": "choropleth"
           }
          ],
          "contour": [
           {
            "colorbar": {
             "outlinewidth": 0,
             "ticks": ""
            },
            "colorscale": [
             [
              0,
              "#0d0887"
             ],
             [
              0.1111111111111111,
              "#46039f"
             ],
             [
              0.2222222222222222,
              "#7201a8"
             ],
             [
              0.3333333333333333,
              "#9c179e"
             ],
             [
              0.4444444444444444,
              "#bd3786"
             ],
             [
              0.5555555555555556,
              "#d8576b"
             ],
             [
              0.6666666666666666,
              "#ed7953"
             ],
             [
              0.7777777777777778,
              "#fb9f3a"
             ],
             [
              0.8888888888888888,
              "#fdca26"
             ],
             [
              1,
              "#f0f921"
             ]
            ],
            "type": "contour"
           }
          ],
          "contourcarpet": [
           {
            "colorbar": {
             "outlinewidth": 0,
             "ticks": ""
            },
            "type": "contourcarpet"
           }
          ],
          "heatmap": [
           {
            "colorbar": {
             "outlinewidth": 0,
             "ticks": ""
            },
            "colorscale": [
             [
              0,
              "#0d0887"
             ],
             [
              0.1111111111111111,
              "#46039f"
             ],
             [
              0.2222222222222222,
              "#7201a8"
             ],
             [
              0.3333333333333333,
              "#9c179e"
             ],
             [
              0.4444444444444444,
              "#bd3786"
             ],
             [
              0.5555555555555556,
              "#d8576b"
             ],
             [
              0.6666666666666666,
              "#ed7953"
             ],
             [
              0.7777777777777778,
              "#fb9f3a"
             ],
             [
              0.8888888888888888,
              "#fdca26"
             ],
             [
              1,
              "#f0f921"
             ]
            ],
            "type": "heatmap"
           }
          ],
          "heatmapgl": [
           {
            "colorbar": {
             "outlinewidth": 0,
             "ticks": ""
            },
            "colorscale": [
             [
              0,
              "#0d0887"
             ],
             [
              0.1111111111111111,
              "#46039f"
             ],
             [
              0.2222222222222222,
              "#7201a8"
             ],
             [
              0.3333333333333333,
              "#9c179e"
             ],
             [
              0.4444444444444444,
              "#bd3786"
             ],
             [
              0.5555555555555556,
              "#d8576b"
             ],
             [
              0.6666666666666666,
              "#ed7953"
             ],
             [
              0.7777777777777778,
              "#fb9f3a"
             ],
             [
              0.8888888888888888,
              "#fdca26"
             ],
             [
              1,
              "#f0f921"
             ]
            ],
            "type": "heatmapgl"
           }
          ],
          "histogram": [
           {
            "marker": {
             "pattern": {
              "fillmode": "overlay",
              "size": 10,
              "solidity": 0.2
             }
            },
            "type": "histogram"
           }
          ],
          "histogram2d": [
           {
            "colorbar": {
             "outlinewidth": 0,
             "ticks": ""
            },
            "colorscale": [
             [
              0,
              "#0d0887"
             ],
             [
              0.1111111111111111,
              "#46039f"
             ],
             [
              0.2222222222222222,
              "#7201a8"
             ],
             [
              0.3333333333333333,
              "#9c179e"
             ],
             [
              0.4444444444444444,
              "#bd3786"
             ],
             [
              0.5555555555555556,
              "#d8576b"
             ],
             [
              0.6666666666666666,
              "#ed7953"
             ],
             [
              0.7777777777777778,
              "#fb9f3a"
             ],
             [
              0.8888888888888888,
              "#fdca26"
             ],
             [
              1,
              "#f0f921"
             ]
            ],
            "type": "histogram2d"
           }
          ],
          "histogram2dcontour": [
           {
            "colorbar": {
             "outlinewidth": 0,
             "ticks": ""
            },
            "colorscale": [
             [
              0,
              "#0d0887"
             ],
             [
              0.1111111111111111,
              "#46039f"
             ],
             [
              0.2222222222222222,
              "#7201a8"
             ],
             [
              0.3333333333333333,
              "#9c179e"
             ],
             [
              0.4444444444444444,
              "#bd3786"
             ],
             [
              0.5555555555555556,
              "#d8576b"
             ],
             [
              0.6666666666666666,
              "#ed7953"
             ],
             [
              0.7777777777777778,
              "#fb9f3a"
             ],
             [
              0.8888888888888888,
              "#fdca26"
             ],
             [
              1,
              "#f0f921"
             ]
            ],
            "type": "histogram2dcontour"
           }
          ],
          "mesh3d": [
           {
            "colorbar": {
             "outlinewidth": 0,
             "ticks": ""
            },
            "type": "mesh3d"
           }
          ],
          "parcoords": [
           {
            "line": {
             "colorbar": {
              "outlinewidth": 0,
              "ticks": ""
             }
            },
            "type": "parcoords"
           }
          ],
          "pie": [
           {
            "automargin": true,
            "type": "pie"
           }
          ],
          "scatter": [
           {
            "fillpattern": {
             "fillmode": "overlay",
             "size": 10,
             "solidity": 0.2
            },
            "type": "scatter"
           }
          ],
          "scatter3d": [
           {
            "line": {
             "colorbar": {
              "outlinewidth": 0,
              "ticks": ""
             }
            },
            "marker": {
             "colorbar": {
              "outlinewidth": 0,
              "ticks": ""
             }
            },
            "type": "scatter3d"
           }
          ],
          "scattercarpet": [
           {
            "marker": {
             "colorbar": {
              "outlinewidth": 0,
              "ticks": ""
             }
            },
            "type": "scattercarpet"
           }
          ],
          "scattergeo": [
           {
            "marker": {
             "colorbar": {
              "outlinewidth": 0,
              "ticks": ""
             }
            },
            "type": "scattergeo"
           }
          ],
          "scattergl": [
           {
            "marker": {
             "colorbar": {
              "outlinewidth": 0,
              "ticks": ""
             }
            },
            "type": "scattergl"
           }
          ],
          "scattermapbox": [
           {
            "marker": {
             "colorbar": {
              "outlinewidth": 0,
              "ticks": ""
             }
            },
            "type": "scattermapbox"
           }
          ],
          "scatterpolar": [
           {
            "marker": {
             "colorbar": {
              "outlinewidth": 0,
              "ticks": ""
             }
            },
            "type": "scatterpolar"
           }
          ],
          "scatterpolargl": [
           {
            "marker": {
             "colorbar": {
              "outlinewidth": 0,
              "ticks": ""
             }
            },
            "type": "scatterpolargl"
           }
          ],
          "scatterternary": [
           {
            "marker": {
             "colorbar": {
              "outlinewidth": 0,
              "ticks": ""
             }
            },
            "type": "scatterternary"
           }
          ],
          "surface": [
           {
            "colorbar": {
             "outlinewidth": 0,
             "ticks": ""
            },
            "colorscale": [
             [
              0,
              "#0d0887"
             ],
             [
              0.1111111111111111,
              "#46039f"
             ],
             [
              0.2222222222222222,
              "#7201a8"
             ],
             [
              0.3333333333333333,
              "#9c179e"
             ],
             [
              0.4444444444444444,
              "#bd3786"
             ],
             [
              0.5555555555555556,
              "#d8576b"
             ],
             [
              0.6666666666666666,
              "#ed7953"
             ],
             [
              0.7777777777777778,
              "#fb9f3a"
             ],
             [
              0.8888888888888888,
              "#fdca26"
             ],
             [
              1,
              "#f0f921"
             ]
            ],
            "type": "surface"
           }
          ],
          "table": [
           {
            "cells": {
             "fill": {
              "color": "#EBF0F8"
             },
             "line": {
              "color": "white"
             }
            },
            "header": {
             "fill": {
              "color": "#C8D4E3"
             },
             "line": {
              "color": "white"
             }
            },
            "type": "table"
           }
          ]
         },
         "layout": {
          "annotationdefaults": {
           "arrowcolor": "#2a3f5f",
           "arrowhead": 0,
           "arrowwidth": 1
          },
          "autotypenumbers": "strict",
          "coloraxis": {
           "colorbar": {
            "outlinewidth": 0,
            "ticks": ""
           }
          },
          "colorscale": {
           "diverging": [
            [
             0,
             "#8e0152"
            ],
            [
             0.1,
             "#c51b7d"
            ],
            [
             0.2,
             "#de77ae"
            ],
            [
             0.3,
             "#f1b6da"
            ],
            [
             0.4,
             "#fde0ef"
            ],
            [
             0.5,
             "#f7f7f7"
            ],
            [
             0.6,
             "#e6f5d0"
            ],
            [
             0.7,
             "#b8e186"
            ],
            [
             0.8,
             "#7fbc41"
            ],
            [
             0.9,
             "#4d9221"
            ],
            [
             1,
             "#276419"
            ]
           ],
           "sequential": [
            [
             0,
             "#0d0887"
            ],
            [
             0.1111111111111111,
             "#46039f"
            ],
            [
             0.2222222222222222,
             "#7201a8"
            ],
            [
             0.3333333333333333,
             "#9c179e"
            ],
            [
             0.4444444444444444,
             "#bd3786"
            ],
            [
             0.5555555555555556,
             "#d8576b"
            ],
            [
             0.6666666666666666,
             "#ed7953"
            ],
            [
             0.7777777777777778,
             "#fb9f3a"
            ],
            [
             0.8888888888888888,
             "#fdca26"
            ],
            [
             1,
             "#f0f921"
            ]
           ],
           "sequentialminus": [
            [
             0,
             "#0d0887"
            ],
            [
             0.1111111111111111,
             "#46039f"
            ],
            [
             0.2222222222222222,
             "#7201a8"
            ],
            [
             0.3333333333333333,
             "#9c179e"
            ],
            [
             0.4444444444444444,
             "#bd3786"
            ],
            [
             0.5555555555555556,
             "#d8576b"
            ],
            [
             0.6666666666666666,
             "#ed7953"
            ],
            [
             0.7777777777777778,
             "#fb9f3a"
            ],
            [
             0.8888888888888888,
             "#fdca26"
            ],
            [
             1,
             "#f0f921"
            ]
           ]
          },
          "colorway": [
           "#636efa",
           "#EF553B",
           "#00cc96",
           "#ab63fa",
           "#FFA15A",
           "#19d3f3",
           "#FF6692",
           "#B6E880",
           "#FF97FF",
           "#FECB52"
          ],
          "font": {
           "color": "#2a3f5f"
          },
          "geo": {
           "bgcolor": "white",
           "lakecolor": "white",
           "landcolor": "#E5ECF6",
           "showlakes": true,
           "showland": true,
           "subunitcolor": "white"
          },
          "hoverlabel": {
           "align": "left"
          },
          "hovermode": "closest",
          "mapbox": {
           "style": "light"
          },
          "paper_bgcolor": "white",
          "plot_bgcolor": "#E5ECF6",
          "polar": {
           "angularaxis": {
            "gridcolor": "white",
            "linecolor": "white",
            "ticks": ""
           },
           "bgcolor": "#E5ECF6",
           "radialaxis": {
            "gridcolor": "white",
            "linecolor": "white",
            "ticks": ""
           }
          },
          "scene": {
           "xaxis": {
            "backgroundcolor": "#E5ECF6",
            "gridcolor": "white",
            "gridwidth": 2,
            "linecolor": "white",
            "showbackground": true,
            "ticks": "",
            "zerolinecolor": "white"
           },
           "yaxis": {
            "backgroundcolor": "#E5ECF6",
            "gridcolor": "white",
            "gridwidth": 2,
            "linecolor": "white",
            "showbackground": true,
            "ticks": "",
            "zerolinecolor": "white"
           },
           "zaxis": {
            "backgroundcolor": "#E5ECF6",
            "gridcolor": "white",
            "gridwidth": 2,
            "linecolor": "white",
            "showbackground": true,
            "ticks": "",
            "zerolinecolor": "white"
           }
          },
          "shapedefaults": {
           "line": {
            "color": "#2a3f5f"
           }
          },
          "ternary": {
           "aaxis": {
            "gridcolor": "white",
            "linecolor": "white",
            "ticks": ""
           },
           "baxis": {
            "gridcolor": "white",
            "linecolor": "white",
            "ticks": ""
           },
           "bgcolor": "#E5ECF6",
           "caxis": {
            "gridcolor": "white",
            "linecolor": "white",
            "ticks": ""
           }
          },
          "title": {
           "x": 0.05
          },
          "xaxis": {
           "automargin": true,
           "gridcolor": "white",
           "linecolor": "white",
           "ticks": "",
           "title": {
            "standoff": 15
           },
           "zerolinecolor": "white",
           "zerolinewidth": 2
          },
          "yaxis": {
           "automargin": true,
           "gridcolor": "white",
           "linecolor": "white",
           "ticks": "",
           "title": {
            "standoff": 15
           },
           "zerolinecolor": "white",
           "zerolinewidth": 2
          }
         }
        },
        "title": {
         "text": "EUR_JPY_MA_8_32"
        },
        "width": 1000,
        "xaxis": {
         "linecolor": "#3a4a54",
         "linewidth": 1,
         "showgrid": false,
         "zeroline": false
        },
        "yaxis": {
         "linecolor": "#3a4a54",
         "linewidth": 1,
         "showgrid": false,
         "zeroline": false
        }
       }
      }
     },
     "metadata": {},
     "output_type": "display_data"
    },
    {
     "data": {
      "application/vnd.plotly.v1+json": {
       "config": {
        "plotlyServerURL": "https://plot.ly"
       },
       "data": [
        {
         "line": {
          "color": "#3d825f",
          "shape": "spline",
          "width": 2
         },
         "mode": "lines",
         "name": "EUR_CHF_MA_8_32",
         "type": "scatter",
         "x": [
          "2023-10-24T14:00:00+00:00",
          "2023-10-25T15:00:00+00:00",
          "2023-10-26T13:00:00+00:00",
          "2023-10-26T18:00:00+00:00",
          "2023-11-01T10:00:00+00:00",
          "2023-11-02T11:00:00+00:00",
          "2023-11-06T08:00:00+00:00",
          "2023-11-06T12:00:00+00:00",
          "2023-11-06T21:00:00+00:00",
          "2023-11-08T06:00:00+00:00",
          "2023-11-08T09:00:00+00:00",
          "2023-11-08T21:00:00+00:00",
          "2023-11-10T12:00:00+00:00",
          "2023-11-10T19:00:00+00:00",
          "2023-11-15T09:00:00+00:00",
          "2023-11-16T12:00:00+00:00",
          "2023-11-17T08:00:00+00:00",
          "2023-11-17T16:00:00+00:00",
          "2023-11-21T15:00:00+00:00",
          "2023-11-23T10:00:00+00:00",
          "2023-11-27T12:00:00+00:00",
          "2023-11-28T11:00:00+00:00",
          "2023-11-29T07:00:00+00:00",
          "2023-12-04T14:00:00+00:00",
          "2023-12-04T15:00:00+00:00",
          "2023-12-07T14:00:00+00:00",
          "2023-12-08T11:00:00+00:00",
          "2023-12-08T15:00:00+00:00",
          "2023-12-11T18:00:00+00:00",
          "2023-12-13T16:00:00+00:00",
          "2023-12-15T12:00:00+00:00",
          "2023-12-22T21:00:00+00:00",
          "2023-12-26T21:00:00+00:00",
          "2023-12-27T14:00:00+00:00",
          "2023-12-27T15:00:00+00:00",
          "2023-12-29T00:00:00+00:00",
          "2023-12-29T09:00:00+00:00",
          "2024-01-02T06:00:00+00:00",
          "2024-01-02T19:00:00+00:00",
          "2024-01-02T23:00:00+00:00",
          "2024-01-03T01:00:00+00:00",
          "2024-01-03T07:00:00+00:00",
          "2024-01-03T19:00:00+00:00",
          "2024-01-04T12:00:00+00:00",
          "2024-01-05T08:00:00+00:00",
          "2024-01-08T02:00:00+00:00",
          "2024-01-08T14:00:00+00:00",
          "2024-01-09T12:00:00+00:00",
          "2024-01-12T14:00:00+00:00",
          "2024-01-15T06:00:00+00:00",
          "2024-01-16T16:00:00+00:00",
          "2024-01-17T02:00:00+00:00",
          "2024-01-22T13:00:00+00:00",
          "2024-01-25T13:00:00+00:00",
          "2024-01-25T20:00:00+00:00",
          "2024-01-30T12:00:00+00:00",
          "2024-01-31T06:00:00+00:00",
          "2024-01-31T12:00:00+00:00",
          "2024-01-31T14:00:00+00:00",
          "2024-02-01T18:00:00+00:00",
          "2024-02-02T01:00:00+00:00",
          "2024-02-02T15:00:00+00:00",
          "2024-02-05T19:00:00+00:00",
          "2024-02-06T01:00:00+00:00",
          "2024-02-06T22:00:00+00:00",
          "2024-02-07T06:00:00+00:00",
          "2024-02-12T11:00:00+00:00",
          "2024-02-12T18:00:00+00:00",
          "2024-02-13T01:00:00+00:00",
          "2024-02-13T07:00:00+00:00",
          "2024-02-15T06:00:00+00:00",
          "2024-02-16T09:00:00+00:00",
          "2024-02-19T15:00:00+00:00",
          "2024-02-19T17:00:00+00:00",
          "2024-02-21T10:00:00+00:00",
          "2024-02-22T11:00:00+00:00",
          "2024-02-23T16:00:00+00:00",
          "2024-02-23T20:00:00+00:00",
          "2024-02-27T10:00:00+00:00",
          "2024-02-27T11:00:00+00:00",
          "2024-02-27T12:00:00+00:00",
          "2024-02-29T12:00:00+00:00",
          "2024-03-04T07:00:00+00:00",
          "2024-03-04T12:00:00+00:00",
          "2024-03-05T18:00:00+00:00",
          "2024-03-06T09:00:00+00:00",
          "2024-03-07T07:00:00+00:00",
          "2024-03-07T21:00:00+00:00",
          "2024-03-08T08:00:00+00:00",
          "2024-03-11T00:00:00+00:00",
          "2024-03-11T11:00:00+00:00",
          "2024-03-12T20:00:00+00:00",
          "2024-03-12T22:00:00+00:00",
          "2024-03-13T00:00:00+00:00",
          "2024-03-13T01:00:00+00:00",
          "2024-03-13T05:00:00+00:00",
          "2024-03-14T18:00:00+00:00",
          "2024-03-14T19:00:00+00:00",
          "2024-03-15T12:00:00+00:00",
          "2024-03-17T21:00:00+00:00",
          "2024-03-18T00:00:00+00:00",
          "2024-03-18T08:00:00+00:00",
          "2024-03-19T12:00:00+00:00",
          "2024-03-19T22:00:00+00:00",
          "2024-03-22T11:00:00+00:00",
          "2024-03-25T13:00:00+00:00",
          "2024-03-27T23:00:00+00:00",
          "2024-03-29T18:00:00+00:00",
          "2024-04-01T08:00:00+00:00",
          "2024-04-02T06:00:00+00:00",
          "2024-04-04T21:00:00+00:00",
          "2024-04-08T00:00:00+00:00",
          "2024-04-09T12:00:00+00:00",
          "2024-04-10T23:00:00+00:00",
          "2024-04-11T00:00:00+00:00",
          "2024-04-11T01:00:00+00:00",
          "2024-04-11T03:00:00+00:00",
          "2024-04-11T06:00:00+00:00",
          "2024-04-11T10:00:00+00:00",
          "2024-04-15T06:00:00+00:00",
          "2024-04-15T17:00:00+00:00",
          "2024-04-16T15:00:00+00:00",
          "2024-04-16T22:00:00+00:00",
          "2024-04-17T15:00:00+00:00",
          "2024-04-18T13:00:00+00:00",
          "2024-04-18T20:00:00+00:00",
          "2024-04-18T23:00:00+00:00",
          "2024-04-19T18:00:00+00:00",
          "2024-04-22T18:00:00+00:00",
          "2024-04-22T19:00:00+00:00",
          "2024-04-26T00:00:00+00:00",
          "2024-04-26T02:00:00+00:00",
          "2024-04-26T11:00:00+00:00",
          "2024-04-30T10:00:00+00:00",
          "2024-05-02T06:00:00+00:00",
          "2024-05-06T06:00:00+00:00",
          "2024-05-06T08:00:00+00:00",
          "2024-05-06T09:00:00+00:00",
          "2024-05-08T03:00:00+00:00",
          "2024-05-09T15:00:00+00:00",
          "2024-05-10T19:00:00+00:00",
          "2024-05-13T09:00:00+00:00",
          "2024-05-15T10:00:00+00:00",
          "2024-05-15T13:00:00+00:00",
          "2024-05-16T03:00:00+00:00",
          "2024-05-16T13:00:00+00:00",
          "2024-05-21T11:00:00+00:00",
          "2024-05-21T21:00:00+00:00",
          "2024-05-23T16:00:00+00:00",
          "2024-05-24T10:00:00+00:00",
          "2024-05-27T18:00:00+00:00",
          "2024-05-31T11:00:00+00:00",
          "2024-05-31T20:00:00+00:00",
          "2024-06-05T12:00:00+00:00",
          "2024-06-06T06:00:00+00:00",
          "2024-06-11T02:00:00+00:00",
          "2024-06-11T11:00:00+00:00"
         ],
         "y": [
          -4.499999999999504,
          -13.900000000000023,
          -43.50000000000076,
          51.59999999999942,
          20.200000000000212,
          30.100000000000676,
          14.100000000000218,
          6.899999999999679,
          17.59999999999983,
          9.400000000000512,
          -1.1999999999989868,
          3.8000000000004626,
          -0.49999999999995204,
          8.599999999999712,
          9.699999999999147,
          -8.400000000000635,
          -28.299999999999997,
          -28.299999999999997,
          -14.700000000000829,
          -9.50000000000118,
          -21.500000000000966,
          -31.500000000000973,
          152.09999999999945,
          143.90000000000015,
          139.7000000000004,
          116.9000000000009,
          76.90000000000086,
          58.50000000000022,
          57.50000000000033,
          83.10000000000039,
          139.00000000000023,
          140.10000000000076,
          126.7000000000018,
          84.90000000000218,
          148.1000000000021,
          97.70000000000167,
          65.70000000000076,
          48.30000000000001,
          45.60000000000009,
          47.50000000000032,
          36.300000000000225,
          8.29999999999998,
          -15.700000000000706,
          -31.700000000001165,
          -48.200000000001566,
          -66.0000000000016,
          -84.10000000000139,
          -67.50000000000144,
          -91.30000000000192,
          -81.10000000000282,
          -88.10000000000316,
          -9.700000000003584,
          27.199999999996123,
          17.499999999995858,
          60.9999999999955,
          42.69999999999552,
          30.29999999999533,
          -9.000000000004562,
          -25.500000000003855,
          -32.500000000003084,
          -60.70000000000242,
          -59.30000000000213,
          -62.10000000000271,
          -62.70000000000331,
          -67.90000000000296,
          -1.1000000000027654,
          -12.300000000002864,
          -15.700000000002934,
          -58.70000000000263,
          -43.30000000000166,
          -37.30000000000121,
          -26.60000000000106,
          -43.30000000000055,
          -47.700000000000514,
          -70.20000000000137,
          -68.50000000000244,
          -71.30000000000302,
          -60.500000000003325,
          -66.70000000000397,
          -74.40000000000445,
          -65.30000000000479,
          -39.50000000000452,
          -74.00000000000405,
          -78.70000000000375,
          -107.3000000000035,
          -123.0000000000031,
          -127.900000000003,
          -153.10000000000377,
          -168.20000000000388,
          -178.10000000000323,
          -174.10000000000255,
          -173.2000000000022,
          -173.90000000000236,
          -172.90000000000248,
          -177.70000000000283,
          -150.3000000000032,
          -153.00000000000313,
          -165.90000000000327,
          -175.3000000000038,
          -176.5000000000039,
          -184.20000000000326,
          -184.1000000000026,
          -208.00000000000264,
          -116.70000000000293,
          -100.70000000000248,
          -33.80000000000163,
          22.499999999998607,
          7.099999999998749,
          -6.900000000000819,
          31.499999999998725,
          16.699999999998354,
          42.69999999999882,
          47.199999999999434,
          47.89999999999958,
          46.69999999999949,
          43.09999999999922,
          39.29999999999875,
          16.09999999999886,
          75.09999999999903,
          45.59999999999894,
          43.89999999999891,
          34.89999999999879,
          19.09999999999853,
          14.099999999997971,
          6.399999999997487,
          6.499999999997032,
          25.899999999996446,
          44.19999999999643,
          42.899999999996794,
          123.89999999999675,
          122.89999999999687,
          104.69999999999754,
          102.29999999999737,
          92.49999999999645,
          112.29999999999626,
          106.79999999999687,
          93.7999999999972,
          104.89999999999664,
          100.59999999999623,
          91.89999999999586,
          70.09999999999515,
          88.69999999999487,
          78.19999999999492,
          68.29999999999445,
          39.499999999993406,
          90.89999999999263,
          85.69999999999187,
          94.2999999999916,
          74.89999999999219,
          76.09999999999228,
          171.299999999992,
          138.0999999999921,
          218.89999999999185,
          215.3999999999911,
          263.29999999999075,
          228.29999999999126,
          193.49999999999199
         ]
        }
       ],
       "layout": {
        "font": {
         "color": "#e1e1e1",
         "size": 10
        },
        "height": 400,
        "margin": {
         "b": 10,
         "l": 15,
         "r": 15
        },
        "paper_bgcolor": "#1e1e1e",
        "plot_bgcolor": "#1e1e1e",
        "template": {
         "data": {
          "bar": [
           {
            "error_x": {
             "color": "#2a3f5f"
            },
            "error_y": {
             "color": "#2a3f5f"
            },
            "marker": {
             "line": {
              "color": "#E5ECF6",
              "width": 0.5
             },
             "pattern": {
              "fillmode": "overlay",
              "size": 10,
              "solidity": 0.2
             }
            },
            "type": "bar"
           }
          ],
          "barpolar": [
           {
            "marker": {
             "line": {
              "color": "#E5ECF6",
              "width": 0.5
             },
             "pattern": {
              "fillmode": "overlay",
              "size": 10,
              "solidity": 0.2
             }
            },
            "type": "barpolar"
           }
          ],
          "carpet": [
           {
            "aaxis": {
             "endlinecolor": "#2a3f5f",
             "gridcolor": "white",
             "linecolor": "white",
             "minorgridcolor": "white",
             "startlinecolor": "#2a3f5f"
            },
            "baxis": {
             "endlinecolor": "#2a3f5f",
             "gridcolor": "white",
             "linecolor": "white",
             "minorgridcolor": "white",
             "startlinecolor": "#2a3f5f"
            },
            "type": "carpet"
           }
          ],
          "choropleth": [
           {
            "colorbar": {
             "outlinewidth": 0,
             "ticks": ""
            },
            "type": "choropleth"
           }
          ],
          "contour": [
           {
            "colorbar": {
             "outlinewidth": 0,
             "ticks": ""
            },
            "colorscale": [
             [
              0,
              "#0d0887"
             ],
             [
              0.1111111111111111,
              "#46039f"
             ],
             [
              0.2222222222222222,
              "#7201a8"
             ],
             [
              0.3333333333333333,
              "#9c179e"
             ],
             [
              0.4444444444444444,
              "#bd3786"
             ],
             [
              0.5555555555555556,
              "#d8576b"
             ],
             [
              0.6666666666666666,
              "#ed7953"
             ],
             [
              0.7777777777777778,
              "#fb9f3a"
             ],
             [
              0.8888888888888888,
              "#fdca26"
             ],
             [
              1,
              "#f0f921"
             ]
            ],
            "type": "contour"
           }
          ],
          "contourcarpet": [
           {
            "colorbar": {
             "outlinewidth": 0,
             "ticks": ""
            },
            "type": "contourcarpet"
           }
          ],
          "heatmap": [
           {
            "colorbar": {
             "outlinewidth": 0,
             "ticks": ""
            },
            "colorscale": [
             [
              0,
              "#0d0887"
             ],
             [
              0.1111111111111111,
              "#46039f"
             ],
             [
              0.2222222222222222,
              "#7201a8"
             ],
             [
              0.3333333333333333,
              "#9c179e"
             ],
             [
              0.4444444444444444,
              "#bd3786"
             ],
             [
              0.5555555555555556,
              "#d8576b"
             ],
             [
              0.6666666666666666,
              "#ed7953"
             ],
             [
              0.7777777777777778,
              "#fb9f3a"
             ],
             [
              0.8888888888888888,
              "#fdca26"
             ],
             [
              1,
              "#f0f921"
             ]
            ],
            "type": "heatmap"
           }
          ],
          "heatmapgl": [
           {
            "colorbar": {
             "outlinewidth": 0,
             "ticks": ""
            },
            "colorscale": [
             [
              0,
              "#0d0887"
             ],
             [
              0.1111111111111111,
              "#46039f"
             ],
             [
              0.2222222222222222,
              "#7201a8"
             ],
             [
              0.3333333333333333,
              "#9c179e"
             ],
             [
              0.4444444444444444,
              "#bd3786"
             ],
             [
              0.5555555555555556,
              "#d8576b"
             ],
             [
              0.6666666666666666,
              "#ed7953"
             ],
             [
              0.7777777777777778,
              "#fb9f3a"
             ],
             [
              0.8888888888888888,
              "#fdca26"
             ],
             [
              1,
              "#f0f921"
             ]
            ],
            "type": "heatmapgl"
           }
          ],
          "histogram": [
           {
            "marker": {
             "pattern": {
              "fillmode": "overlay",
              "size": 10,
              "solidity": 0.2
             }
            },
            "type": "histogram"
           }
          ],
          "histogram2d": [
           {
            "colorbar": {
             "outlinewidth": 0,
             "ticks": ""
            },
            "colorscale": [
             [
              0,
              "#0d0887"
             ],
             [
              0.1111111111111111,
              "#46039f"
             ],
             [
              0.2222222222222222,
              "#7201a8"
             ],
             [
              0.3333333333333333,
              "#9c179e"
             ],
             [
              0.4444444444444444,
              "#bd3786"
             ],
             [
              0.5555555555555556,
              "#d8576b"
             ],
             [
              0.6666666666666666,
              "#ed7953"
             ],
             [
              0.7777777777777778,
              "#fb9f3a"
             ],
             [
              0.8888888888888888,
              "#fdca26"
             ],
             [
              1,
              "#f0f921"
             ]
            ],
            "type": "histogram2d"
           }
          ],
          "histogram2dcontour": [
           {
            "colorbar": {
             "outlinewidth": 0,
             "ticks": ""
            },
            "colorscale": [
             [
              0,
              "#0d0887"
             ],
             [
              0.1111111111111111,
              "#46039f"
             ],
             [
              0.2222222222222222,
              "#7201a8"
             ],
             [
              0.3333333333333333,
              "#9c179e"
             ],
             [
              0.4444444444444444,
              "#bd3786"
             ],
             [
              0.5555555555555556,
              "#d8576b"
             ],
             [
              0.6666666666666666,
              "#ed7953"
             ],
             [
              0.7777777777777778,
              "#fb9f3a"
             ],
             [
              0.8888888888888888,
              "#fdca26"
             ],
             [
              1,
              "#f0f921"
             ]
            ],
            "type": "histogram2dcontour"
           }
          ],
          "mesh3d": [
           {
            "colorbar": {
             "outlinewidth": 0,
             "ticks": ""
            },
            "type": "mesh3d"
           }
          ],
          "parcoords": [
           {
            "line": {
             "colorbar": {
              "outlinewidth": 0,
              "ticks": ""
             }
            },
            "type": "parcoords"
           }
          ],
          "pie": [
           {
            "automargin": true,
            "type": "pie"
           }
          ],
          "scatter": [
           {
            "fillpattern": {
             "fillmode": "overlay",
             "size": 10,
             "solidity": 0.2
            },
            "type": "scatter"
           }
          ],
          "scatter3d": [
           {
            "line": {
             "colorbar": {
              "outlinewidth": 0,
              "ticks": ""
             }
            },
            "marker": {
             "colorbar": {
              "outlinewidth": 0,
              "ticks": ""
             }
            },
            "type": "scatter3d"
           }
          ],
          "scattercarpet": [
           {
            "marker": {
             "colorbar": {
              "outlinewidth": 0,
              "ticks": ""
             }
            },
            "type": "scattercarpet"
           }
          ],
          "scattergeo": [
           {
            "marker": {
             "colorbar": {
              "outlinewidth": 0,
              "ticks": ""
             }
            },
            "type": "scattergeo"
           }
          ],
          "scattergl": [
           {
            "marker": {
             "colorbar": {
              "outlinewidth": 0,
              "ticks": ""
             }
            },
            "type": "scattergl"
           }
          ],
          "scattermapbox": [
           {
            "marker": {
             "colorbar": {
              "outlinewidth": 0,
              "ticks": ""
             }
            },
            "type": "scattermapbox"
           }
          ],
          "scatterpolar": [
           {
            "marker": {
             "colorbar": {
              "outlinewidth": 0,
              "ticks": ""
             }
            },
            "type": "scatterpolar"
           }
          ],
          "scatterpolargl": [
           {
            "marker": {
             "colorbar": {
              "outlinewidth": 0,
              "ticks": ""
             }
            },
            "type": "scatterpolargl"
           }
          ],
          "scatterternary": [
           {
            "marker": {
             "colorbar": {
              "outlinewidth": 0,
              "ticks": ""
             }
            },
            "type": "scatterternary"
           }
          ],
          "surface": [
           {
            "colorbar": {
             "outlinewidth": 0,
             "ticks": ""
            },
            "colorscale": [
             [
              0,
              "#0d0887"
             ],
             [
              0.1111111111111111,
              "#46039f"
             ],
             [
              0.2222222222222222,
              "#7201a8"
             ],
             [
              0.3333333333333333,
              "#9c179e"
             ],
             [
              0.4444444444444444,
              "#bd3786"
             ],
             [
              0.5555555555555556,
              "#d8576b"
             ],
             [
              0.6666666666666666,
              "#ed7953"
             ],
             [
              0.7777777777777778,
              "#fb9f3a"
             ],
             [
              0.8888888888888888,
              "#fdca26"
             ],
             [
              1,
              "#f0f921"
             ]
            ],
            "type": "surface"
           }
          ],
          "table": [
           {
            "cells": {
             "fill": {
              "color": "#EBF0F8"
             },
             "line": {
              "color": "white"
             }
            },
            "header": {
             "fill": {
              "color": "#C8D4E3"
             },
             "line": {
              "color": "white"
             }
            },
            "type": "table"
           }
          ]
         },
         "layout": {
          "annotationdefaults": {
           "arrowcolor": "#2a3f5f",
           "arrowhead": 0,
           "arrowwidth": 1
          },
          "autotypenumbers": "strict",
          "coloraxis": {
           "colorbar": {
            "outlinewidth": 0,
            "ticks": ""
           }
          },
          "colorscale": {
           "diverging": [
            [
             0,
             "#8e0152"
            ],
            [
             0.1,
             "#c51b7d"
            ],
            [
             0.2,
             "#de77ae"
            ],
            [
             0.3,
             "#f1b6da"
            ],
            [
             0.4,
             "#fde0ef"
            ],
            [
             0.5,
             "#f7f7f7"
            ],
            [
             0.6,
             "#e6f5d0"
            ],
            [
             0.7,
             "#b8e186"
            ],
            [
             0.8,
             "#7fbc41"
            ],
            [
             0.9,
             "#4d9221"
            ],
            [
             1,
             "#276419"
            ]
           ],
           "sequential": [
            [
             0,
             "#0d0887"
            ],
            [
             0.1111111111111111,
             "#46039f"
            ],
            [
             0.2222222222222222,
             "#7201a8"
            ],
            [
             0.3333333333333333,
             "#9c179e"
            ],
            [
             0.4444444444444444,
             "#bd3786"
            ],
            [
             0.5555555555555556,
             "#d8576b"
            ],
            [
             0.6666666666666666,
             "#ed7953"
            ],
            [
             0.7777777777777778,
             "#fb9f3a"
            ],
            [
             0.8888888888888888,
             "#fdca26"
            ],
            [
             1,
             "#f0f921"
            ]
           ],
           "sequentialminus": [
            [
             0,
             "#0d0887"
            ],
            [
             0.1111111111111111,
             "#46039f"
            ],
            [
             0.2222222222222222,
             "#7201a8"
            ],
            [
             0.3333333333333333,
             "#9c179e"
            ],
            [
             0.4444444444444444,
             "#bd3786"
            ],
            [
             0.5555555555555556,
             "#d8576b"
            ],
            [
             0.6666666666666666,
             "#ed7953"
            ],
            [
             0.7777777777777778,
             "#fb9f3a"
            ],
            [
             0.8888888888888888,
             "#fdca26"
            ],
            [
             1,
             "#f0f921"
            ]
           ]
          },
          "colorway": [
           "#636efa",
           "#EF553B",
           "#00cc96",
           "#ab63fa",
           "#FFA15A",
           "#19d3f3",
           "#FF6692",
           "#B6E880",
           "#FF97FF",
           "#FECB52"
          ],
          "font": {
           "color": "#2a3f5f"
          },
          "geo": {
           "bgcolor": "white",
           "lakecolor": "white",
           "landcolor": "#E5ECF6",
           "showlakes": true,
           "showland": true,
           "subunitcolor": "white"
          },
          "hoverlabel": {
           "align": "left"
          },
          "hovermode": "closest",
          "mapbox": {
           "style": "light"
          },
          "paper_bgcolor": "white",
          "plot_bgcolor": "#E5ECF6",
          "polar": {
           "angularaxis": {
            "gridcolor": "white",
            "linecolor": "white",
            "ticks": ""
           },
           "bgcolor": "#E5ECF6",
           "radialaxis": {
            "gridcolor": "white",
            "linecolor": "white",
            "ticks": ""
           }
          },
          "scene": {
           "xaxis": {
            "backgroundcolor": "#E5ECF6",
            "gridcolor": "white",
            "gridwidth": 2,
            "linecolor": "white",
            "showbackground": true,
            "ticks": "",
            "zerolinecolor": "white"
           },
           "yaxis": {
            "backgroundcolor": "#E5ECF6",
            "gridcolor": "white",
            "gridwidth": 2,
            "linecolor": "white",
            "showbackground": true,
            "ticks": "",
            "zerolinecolor": "white"
           },
           "zaxis": {
            "backgroundcolor": "#E5ECF6",
            "gridcolor": "white",
            "gridwidth": 2,
            "linecolor": "white",
            "showbackground": true,
            "ticks": "",
            "zerolinecolor": "white"
           }
          },
          "shapedefaults": {
           "line": {
            "color": "#2a3f5f"
           }
          },
          "ternary": {
           "aaxis": {
            "gridcolor": "white",
            "linecolor": "white",
            "ticks": ""
           },
           "baxis": {
            "gridcolor": "white",
            "linecolor": "white",
            "ticks": ""
           },
           "bgcolor": "#E5ECF6",
           "caxis": {
            "gridcolor": "white",
            "linecolor": "white",
            "ticks": ""
           }
          },
          "title": {
           "x": 0.05
          },
          "xaxis": {
           "automargin": true,
           "gridcolor": "white",
           "linecolor": "white",
           "ticks": "",
           "title": {
            "standoff": 15
           },
           "zerolinecolor": "white",
           "zerolinewidth": 2
          },
          "yaxis": {
           "automargin": true,
           "gridcolor": "white",
           "linecolor": "white",
           "ticks": "",
           "title": {
            "standoff": 15
           },
           "zerolinecolor": "white",
           "zerolinewidth": 2
          }
         }
        },
        "title": {
         "text": "EUR_CHF_MA_8_32"
        },
        "width": 1000,
        "xaxis": {
         "linecolor": "#3a4a54",
         "linewidth": 1,
         "showgrid": false,
         "zeroline": false
        },
        "yaxis": {
         "linecolor": "#3a4a54",
         "linewidth": 1,
         "showgrid": false,
         "zeroline": false
        }
       }
      }
     },
     "metadata": {},
     "output_type": "display_data"
    },
    {
     "data": {
      "application/vnd.plotly.v1+json": {
       "config": {
        "plotlyServerURL": "https://plot.ly"
       },
       "data": [
        {
         "line": {
          "color": "#3d825f",
          "shape": "spline",
          "width": 2
         },
         "mode": "lines",
         "name": "CAD_JPY_MA_8_32",
         "type": "scatter",
         "x": [
          "2023-10-23T17:00:00+00:00",
          "2023-10-24T12:00:00+00:00",
          "2023-10-26T08:00:00+00:00",
          "2023-10-26T15:00:00+00:00",
          "2023-10-31T04:00:00+00:00",
          "2023-11-01T11:00:00+00:00",
          "2023-11-02T14:00:00+00:00",
          "2023-11-03T16:00:00+00:00",
          "2023-11-06T02:00:00+00:00",
          "2023-11-07T01:00:00+00:00",
          "2023-11-08T12:00:00+00:00",
          "2023-11-10T15:00:00+00:00",
          "2023-11-10T20:00:00+00:00",
          "2023-11-14T06:00:00+00:00",
          "2023-11-15T01:00:00+00:00",
          "2023-11-16T14:00:00+00:00",
          "2023-11-21T19:00:00+00:00",
          "2023-11-24T05:00:00+00:00",
          "2023-11-24T11:00:00+00:00",
          "2023-11-27T06:00:00+00:00",
          "2023-11-28T11:00:00+00:00",
          "2023-11-28T17:00:00+00:00",
          "2023-11-30T14:00:00+00:00",
          "2023-12-01T19:00:00+00:00",
          "2023-12-04T21:00:00+00:00",
          "2023-12-05T07:00:00+00:00",
          "2023-12-06T06:00:00+00:00",
          "2023-12-06T22:00:00+00:00",
          "2023-12-08T13:00:00+00:00",
          "2023-12-12T06:00:00+00:00",
          "2023-12-13T09:00:00+00:00",
          "2023-12-13T17:00:00+00:00",
          "2023-12-14T22:00:00+00:00",
          "2023-12-20T08:00:00+00:00",
          "2023-12-20T19:00:00+00:00",
          "2023-12-20T23:00:00+00:00",
          "2023-12-22T04:00:00+00:00",
          "2023-12-27T17:00:00+00:00",
          "2023-12-29T03:00:00+00:00",
          "2023-12-29T17:00:00+00:00",
          "2024-01-02T08:00:00+00:00",
          "2024-01-02T18:00:00+00:00",
          "2024-01-03T09:00:00+00:00",
          "2024-01-05T21:00:00+00:00",
          "2024-01-09T21:00:00+00:00",
          "2024-01-11T19:00:00+00:00",
          "2024-01-15T07:00:00+00:00",
          "2024-01-16T06:00:00+00:00",
          "2024-01-16T11:00:00+00:00",
          "2024-01-22T16:00:00+00:00",
          "2024-01-23T17:00:00+00:00",
          "2024-01-24T06:00:00+00:00",
          "2024-01-25T16:00:00+00:00",
          "2024-01-29T15:00:00+00:00",
          "2024-01-30T17:00:00+00:00",
          "2024-01-31T14:00:00+00:00",
          "2024-02-01T21:00:00+00:00",
          "2024-02-05T15:00:00+00:00",
          "2024-02-07T10:00:00+00:00",
          "2024-02-09T21:00:00+00:00",
          "2024-02-12T18:00:00+00:00",
          "2024-02-13T21:00:00+00:00",
          "2024-02-13T22:00:00+00:00",
          "2024-02-14T00:00:00+00:00",
          "2024-02-14T11:00:00+00:00",
          "2024-02-15T02:00:00+00:00",
          "2024-02-15T18:00:00+00:00",
          "2024-02-19T00:00:00+00:00",
          "2024-02-20T05:00:00+00:00",
          "2024-02-20T14:00:00+00:00",
          "2024-02-21T16:00:00+00:00",
          "2024-02-23T17:00:00+00:00",
          "2024-02-26T16:00:00+00:00",
          "2024-02-27T07:00:00+00:00",
          "2024-03-01T02:00:00+00:00",
          "2024-03-04T01:00:00+00:00",
          "2024-03-04T09:00:00+00:00",
          "2024-03-05T05:00:00+00:00",
          "2024-03-06T19:00:00+00:00",
          "2024-03-07T03:00:00+00:00",
          "2024-03-08T02:00:00+00:00",
          "2024-03-08T11:00:00+00:00",
          "2024-03-11T22:00:00+00:00",
          "2024-03-13T04:00:00+00:00",
          "2024-03-13T09:00:00+00:00",
          "2024-03-14T16:00:00+00:00",
          "2024-03-15T10:00:00+00:00",
          "2024-03-22T03:00:00+00:00",
          "2024-03-25T14:00:00+00:00",
          "2024-03-27T10:00:00+00:00",
          "2024-03-28T02:00:00+00:00",
          "2024-03-28T10:00:00+00:00",
          "2024-03-28T14:00:00+00:00",
          "2024-03-29T16:00:00+00:00",
          "2024-03-31T22:00:00+00:00",
          "2024-04-01T16:00:00+00:00",
          "2024-04-02T10:00:00+00:00",
          "2024-04-02T16:00:00+00:00",
          "2024-04-03T10:00:00+00:00",
          "2024-04-04T20:00:00+00:00",
          "2024-04-08T02:00:00+00:00",
          "2024-04-09T16:00:00+00:00",
          "2024-04-10T02:00:00+00:00",
          "2024-04-10T16:00:00+00:00",
          "2024-04-11T09:00:00+00:00",
          "2024-04-12T06:00:00+00:00",
          "2024-04-15T05:00:00+00:00",
          "2024-04-16T04:00:00+00:00",
          "2024-04-16T11:00:00+00:00",
          "2024-04-16T14:00:00+00:00",
          "2024-04-16T23:00:00+00:00",
          "2024-04-17T10:00:00+00:00",
          "2024-04-17T12:00:00+00:00",
          "2024-04-19T02:00:00+00:00",
          "2024-04-19T12:00:00+00:00",
          "2024-04-24T13:00:00+00:00",
          "2024-04-24T23:00:00+00:00",
          "2024-04-29T09:00:00+00:00",
          "2024-04-30T10:00:00+00:00",
          "2024-05-01T02:00:00+00:00",
          "2024-05-01T06:00:00+00:00",
          "2024-05-01T18:00:00+00:00",
          "2024-05-06T02:00:00+00:00",
          "2024-05-07T19:00:00+00:00",
          "2024-05-08T07:00:00+00:00",
          "2024-05-13T08:00:00+00:00",
          "2024-05-13T09:00:00+00:00",
          "2024-05-15T09:00:00+00:00",
          "2024-05-16T15:00:00+00:00",
          "2024-05-21T13:00:00+00:00",
          "2024-05-22T04:00:00+00:00",
          "2024-05-22T15:00:00+00:00",
          "2024-05-22T16:00:00+00:00",
          "2024-05-22T17:00:00+00:00",
          "2024-05-23T06:00:00+00:00",
          "2024-05-23T19:00:00+00:00",
          "2024-05-24T13:00:00+00:00",
          "2024-05-29T07:00:00+00:00",
          "2024-05-30T23:00:00+00:00",
          "2024-05-31T01:00:00+00:00",
          "2024-05-31T03:00:00+00:00",
          "2024-06-03T11:00:00+00:00",
          "2024-06-05T06:00:00+00:00",
          "2024-06-06T04:00:00+00:00",
          "2024-06-06T08:00:00+00:00",
          "2024-06-06T19:00:00+00:00",
          "2024-06-07T15:00:00+00:00",
          "2024-06-10T14:00:00+00:00",
          "2024-06-10T18:00:00+00:00"
         ],
         "y": [
          -11.7999999999995,
          16.600000000001103,
          -8.799999999999386,
          25.900000000000034,
          80.49999999999926,
          79.79999999999876,
          117.59999999999877,
          88.29999999999814,
          74.99999999999716,
          82.09999999999695,
          84.99999999999659,
          49.59999999999667,
          47.39999999999753,
          39.59999999999724,
          12.299999999996203,
          146.99999999999562,
          217.39999999999498,
          183.99999999999466,
          173.59999999999474,
          155.799999999995,
          86.99999999999619,
          36.79999999999666,
          0.7999999999967145,
          6.999999999996476,
          -46.20000000000459,
          -62.800000000005696,
          -71.00000000000648,
          147.89999999999281,
          265.0999999999925,
          266.1999999999921,
          225.199999999991,
          328.69999999999067,
          511.59999999999144,
          500.19999999999243,
          464.1999999999925,
          491.99999999999164,
          533.9999999999905,
          593.3999999999899,
          560.5999999999896,
          534.6999999999896,
          496.1999999999905,
          443.99999999999136,
          564.9999999999922,
          598.599999999992,
          667.3999999999908,
          681.6999999999908,
          678.8999999999917,
          651.7999999999915,
          777.1999999999906,
          752.1999999999906,
          715.8999999999907,
          752.5999999999897,
          781.7999999999898,
          739.5999999999901,
          677.1999999999891,
          695.3999999999879,
          753.6999999999878,
          765.1999999999887,
          870.3999999999894,
          852.7999999999893,
          861.8999999999887,
          874.1999999999878,
          873.5999999999877,
          852.8999999999884,
          824.0999999999888,
          798.4999999999887,
          808.3999999999877,
          804.4999999999875,
          756.399999999988,
          715.9999999999884,
          731.899999999989,
          717.9999999999893,
          698.0999999999894,
          750.9999999999891,
          735.9999999999885,
          727.7999999999877,
          727.5999999999867,
          756.5999999999859,
          712.1999999999857,
          719.4999999999865,
          657.4999999999875,
          693.3999999999884,
          729.3999999999883,
          695.8999999999875,
          685.1999999999875,
          648.9999999999881,
          830.7999999999879,
          859.7999999999871,
          830.4999999999865,
          799.1999999999862,
          784.0999999999865,
          760.2999999999865,
          773.7999999999856,
          760.1999999999846,
          748.7999999999842,
          737.6999999999837,
          723.1999999999827,
          717.3999999999819,
          716.3999999999814,
          721.1999999999816,
          715.3999999999824,
          693.599999999982,
          678.9999999999818,
          660.5999999999821,
          640.4999999999814,
          621.8999999999807,
          614.1999999999808,
          571.5999999999806,
          528.1999999999808,
          513.9999999999812,
          516.9999999999814,
          516.1999999999819,
          474.1999999999817,
          397.1999999999821,
          472.39999999998304,
          449.8999999999836,
          524.7999999999845,
          463.79999999998455,
          458.39999999998435,
          455.5999999999852,
          452.199999999986,
          674.9999999999868,
          703.7999999999879,
          678.7999999999879,
          788.0999999999868,
          793.3999999999866,
          830.5999999999865,
          855.199999999986,
          868.599999999986,
          830.3999999999869,
          819.5999999999879,
          814.4999999999877,
          808.1999999999875,
          805.3999999999884,
          776.3999999999892,
          729.3999999999893,
          768.1999999999884,
          802.9999999999884,
          778.399999999989,
          759.7999999999882,
          794.7999999999877,
          899.1999999999873,
          887.7999999999869,
          868.8999999999862,
          848.0999999999849,
          842.3999999999846,
          842.5999999999856,
          817.399999999986,
          786.9999999999858
         ]
        }
       ],
       "layout": {
        "font": {
         "color": "#e1e1e1",
         "size": 10
        },
        "height": 400,
        "margin": {
         "b": 10,
         "l": 15,
         "r": 15
        },
        "paper_bgcolor": "#1e1e1e",
        "plot_bgcolor": "#1e1e1e",
        "template": {
         "data": {
          "bar": [
           {
            "error_x": {
             "color": "#2a3f5f"
            },
            "error_y": {
             "color": "#2a3f5f"
            },
            "marker": {
             "line": {
              "color": "#E5ECF6",
              "width": 0.5
             },
             "pattern": {
              "fillmode": "overlay",
              "size": 10,
              "solidity": 0.2
             }
            },
            "type": "bar"
           }
          ],
          "barpolar": [
           {
            "marker": {
             "line": {
              "color": "#E5ECF6",
              "width": 0.5
             },
             "pattern": {
              "fillmode": "overlay",
              "size": 10,
              "solidity": 0.2
             }
            },
            "type": "barpolar"
           }
          ],
          "carpet": [
           {
            "aaxis": {
             "endlinecolor": "#2a3f5f",
             "gridcolor": "white",
             "linecolor": "white",
             "minorgridcolor": "white",
             "startlinecolor": "#2a3f5f"
            },
            "baxis": {
             "endlinecolor": "#2a3f5f",
             "gridcolor": "white",
             "linecolor": "white",
             "minorgridcolor": "white",
             "startlinecolor": "#2a3f5f"
            },
            "type": "carpet"
           }
          ],
          "choropleth": [
           {
            "colorbar": {
             "outlinewidth": 0,
             "ticks": ""
            },
            "type": "choropleth"
           }
          ],
          "contour": [
           {
            "colorbar": {
             "outlinewidth": 0,
             "ticks": ""
            },
            "colorscale": [
             [
              0,
              "#0d0887"
             ],
             [
              0.1111111111111111,
              "#46039f"
             ],
             [
              0.2222222222222222,
              "#7201a8"
             ],
             [
              0.3333333333333333,
              "#9c179e"
             ],
             [
              0.4444444444444444,
              "#bd3786"
             ],
             [
              0.5555555555555556,
              "#d8576b"
             ],
             [
              0.6666666666666666,
              "#ed7953"
             ],
             [
              0.7777777777777778,
              "#fb9f3a"
             ],
             [
              0.8888888888888888,
              "#fdca26"
             ],
             [
              1,
              "#f0f921"
             ]
            ],
            "type": "contour"
           }
          ],
          "contourcarpet": [
           {
            "colorbar": {
             "outlinewidth": 0,
             "ticks": ""
            },
            "type": "contourcarpet"
           }
          ],
          "heatmap": [
           {
            "colorbar": {
             "outlinewidth": 0,
             "ticks": ""
            },
            "colorscale": [
             [
              0,
              "#0d0887"
             ],
             [
              0.1111111111111111,
              "#46039f"
             ],
             [
              0.2222222222222222,
              "#7201a8"
             ],
             [
              0.3333333333333333,
              "#9c179e"
             ],
             [
              0.4444444444444444,
              "#bd3786"
             ],
             [
              0.5555555555555556,
              "#d8576b"
             ],
             [
              0.6666666666666666,
              "#ed7953"
             ],
             [
              0.7777777777777778,
              "#fb9f3a"
             ],
             [
              0.8888888888888888,
              "#fdca26"
             ],
             [
              1,
              "#f0f921"
             ]
            ],
            "type": "heatmap"
           }
          ],
          "heatmapgl": [
           {
            "colorbar": {
             "outlinewidth": 0,
             "ticks": ""
            },
            "colorscale": [
             [
              0,
              "#0d0887"
             ],
             [
              0.1111111111111111,
              "#46039f"
             ],
             [
              0.2222222222222222,
              "#7201a8"
             ],
             [
              0.3333333333333333,
              "#9c179e"
             ],
             [
              0.4444444444444444,
              "#bd3786"
             ],
             [
              0.5555555555555556,
              "#d8576b"
             ],
             [
              0.6666666666666666,
              "#ed7953"
             ],
             [
              0.7777777777777778,
              "#fb9f3a"
             ],
             [
              0.8888888888888888,
              "#fdca26"
             ],
             [
              1,
              "#f0f921"
             ]
            ],
            "type": "heatmapgl"
           }
          ],
          "histogram": [
           {
            "marker": {
             "pattern": {
              "fillmode": "overlay",
              "size": 10,
              "solidity": 0.2
             }
            },
            "type": "histogram"
           }
          ],
          "histogram2d": [
           {
            "colorbar": {
             "outlinewidth": 0,
             "ticks": ""
            },
            "colorscale": [
             [
              0,
              "#0d0887"
             ],
             [
              0.1111111111111111,
              "#46039f"
             ],
             [
              0.2222222222222222,
              "#7201a8"
             ],
             [
              0.3333333333333333,
              "#9c179e"
             ],
             [
              0.4444444444444444,
              "#bd3786"
             ],
             [
              0.5555555555555556,
              "#d8576b"
             ],
             [
              0.6666666666666666,
              "#ed7953"
             ],
             [
              0.7777777777777778,
              "#fb9f3a"
             ],
             [
              0.8888888888888888,
              "#fdca26"
             ],
             [
              1,
              "#f0f921"
             ]
            ],
            "type": "histogram2d"
           }
          ],
          "histogram2dcontour": [
           {
            "colorbar": {
             "outlinewidth": 0,
             "ticks": ""
            },
            "colorscale": [
             [
              0,
              "#0d0887"
             ],
             [
              0.1111111111111111,
              "#46039f"
             ],
             [
              0.2222222222222222,
              "#7201a8"
             ],
             [
              0.3333333333333333,
              "#9c179e"
             ],
             [
              0.4444444444444444,
              "#bd3786"
             ],
             [
              0.5555555555555556,
              "#d8576b"
             ],
             [
              0.6666666666666666,
              "#ed7953"
             ],
             [
              0.7777777777777778,
              "#fb9f3a"
             ],
             [
              0.8888888888888888,
              "#fdca26"
             ],
             [
              1,
              "#f0f921"
             ]
            ],
            "type": "histogram2dcontour"
           }
          ],
          "mesh3d": [
           {
            "colorbar": {
             "outlinewidth": 0,
             "ticks": ""
            },
            "type": "mesh3d"
           }
          ],
          "parcoords": [
           {
            "line": {
             "colorbar": {
              "outlinewidth": 0,
              "ticks": ""
             }
            },
            "type": "parcoords"
           }
          ],
          "pie": [
           {
            "automargin": true,
            "type": "pie"
           }
          ],
          "scatter": [
           {
            "fillpattern": {
             "fillmode": "overlay",
             "size": 10,
             "solidity": 0.2
            },
            "type": "scatter"
           }
          ],
          "scatter3d": [
           {
            "line": {
             "colorbar": {
              "outlinewidth": 0,
              "ticks": ""
             }
            },
            "marker": {
             "colorbar": {
              "outlinewidth": 0,
              "ticks": ""
             }
            },
            "type": "scatter3d"
           }
          ],
          "scattercarpet": [
           {
            "marker": {
             "colorbar": {
              "outlinewidth": 0,
              "ticks": ""
             }
            },
            "type": "scattercarpet"
           }
          ],
          "scattergeo": [
           {
            "marker": {
             "colorbar": {
              "outlinewidth": 0,
              "ticks": ""
             }
            },
            "type": "scattergeo"
           }
          ],
          "scattergl": [
           {
            "marker": {
             "colorbar": {
              "outlinewidth": 0,
              "ticks": ""
             }
            },
            "type": "scattergl"
           }
          ],
          "scattermapbox": [
           {
            "marker": {
             "colorbar": {
              "outlinewidth": 0,
              "ticks": ""
             }
            },
            "type": "scattermapbox"
           }
          ],
          "scatterpolar": [
           {
            "marker": {
             "colorbar": {
              "outlinewidth": 0,
              "ticks": ""
             }
            },
            "type": "scatterpolar"
           }
          ],
          "scatterpolargl": [
           {
            "marker": {
             "colorbar": {
              "outlinewidth": 0,
              "ticks": ""
             }
            },
            "type": "scatterpolargl"
           }
          ],
          "scatterternary": [
           {
            "marker": {
             "colorbar": {
              "outlinewidth": 0,
              "ticks": ""
             }
            },
            "type": "scatterternary"
           }
          ],
          "surface": [
           {
            "colorbar": {
             "outlinewidth": 0,
             "ticks": ""
            },
            "colorscale": [
             [
              0,
              "#0d0887"
             ],
             [
              0.1111111111111111,
              "#46039f"
             ],
             [
              0.2222222222222222,
              "#7201a8"
             ],
             [
              0.3333333333333333,
              "#9c179e"
             ],
             [
              0.4444444444444444,
              "#bd3786"
             ],
             [
              0.5555555555555556,
              "#d8576b"
             ],
             [
              0.6666666666666666,
              "#ed7953"
             ],
             [
              0.7777777777777778,
              "#fb9f3a"
             ],
             [
              0.8888888888888888,
              "#fdca26"
             ],
             [
              1,
              "#f0f921"
             ]
            ],
            "type": "surface"
           }
          ],
          "table": [
           {
            "cells": {
             "fill": {
              "color": "#EBF0F8"
             },
             "line": {
              "color": "white"
             }
            },
            "header": {
             "fill": {
              "color": "#C8D4E3"
             },
             "line": {
              "color": "white"
             }
            },
            "type": "table"
           }
          ]
         },
         "layout": {
          "annotationdefaults": {
           "arrowcolor": "#2a3f5f",
           "arrowhead": 0,
           "arrowwidth": 1
          },
          "autotypenumbers": "strict",
          "coloraxis": {
           "colorbar": {
            "outlinewidth": 0,
            "ticks": ""
           }
          },
          "colorscale": {
           "diverging": [
            [
             0,
             "#8e0152"
            ],
            [
             0.1,
             "#c51b7d"
            ],
            [
             0.2,
             "#de77ae"
            ],
            [
             0.3,
             "#f1b6da"
            ],
            [
             0.4,
             "#fde0ef"
            ],
            [
             0.5,
             "#f7f7f7"
            ],
            [
             0.6,
             "#e6f5d0"
            ],
            [
             0.7,
             "#b8e186"
            ],
            [
             0.8,
             "#7fbc41"
            ],
            [
             0.9,
             "#4d9221"
            ],
            [
             1,
             "#276419"
            ]
           ],
           "sequential": [
            [
             0,
             "#0d0887"
            ],
            [
             0.1111111111111111,
             "#46039f"
            ],
            [
             0.2222222222222222,
             "#7201a8"
            ],
            [
             0.3333333333333333,
             "#9c179e"
            ],
            [
             0.4444444444444444,
             "#bd3786"
            ],
            [
             0.5555555555555556,
             "#d8576b"
            ],
            [
             0.6666666666666666,
             "#ed7953"
            ],
            [
             0.7777777777777778,
             "#fb9f3a"
            ],
            [
             0.8888888888888888,
             "#fdca26"
            ],
            [
             1,
             "#f0f921"
            ]
           ],
           "sequentialminus": [
            [
             0,
             "#0d0887"
            ],
            [
             0.1111111111111111,
             "#46039f"
            ],
            [
             0.2222222222222222,
             "#7201a8"
            ],
            [
             0.3333333333333333,
             "#9c179e"
            ],
            [
             0.4444444444444444,
             "#bd3786"
            ],
            [
             0.5555555555555556,
             "#d8576b"
            ],
            [
             0.6666666666666666,
             "#ed7953"
            ],
            [
             0.7777777777777778,
             "#fb9f3a"
            ],
            [
             0.8888888888888888,
             "#fdca26"
            ],
            [
             1,
             "#f0f921"
            ]
           ]
          },
          "colorway": [
           "#636efa",
           "#EF553B",
           "#00cc96",
           "#ab63fa",
           "#FFA15A",
           "#19d3f3",
           "#FF6692",
           "#B6E880",
           "#FF97FF",
           "#FECB52"
          ],
          "font": {
           "color": "#2a3f5f"
          },
          "geo": {
           "bgcolor": "white",
           "lakecolor": "white",
           "landcolor": "#E5ECF6",
           "showlakes": true,
           "showland": true,
           "subunitcolor": "white"
          },
          "hoverlabel": {
           "align": "left"
          },
          "hovermode": "closest",
          "mapbox": {
           "style": "light"
          },
          "paper_bgcolor": "white",
          "plot_bgcolor": "#E5ECF6",
          "polar": {
           "angularaxis": {
            "gridcolor": "white",
            "linecolor": "white",
            "ticks": ""
           },
           "bgcolor": "#E5ECF6",
           "radialaxis": {
            "gridcolor": "white",
            "linecolor": "white",
            "ticks": ""
           }
          },
          "scene": {
           "xaxis": {
            "backgroundcolor": "#E5ECF6",
            "gridcolor": "white",
            "gridwidth": 2,
            "linecolor": "white",
            "showbackground": true,
            "ticks": "",
            "zerolinecolor": "white"
           },
           "yaxis": {
            "backgroundcolor": "#E5ECF6",
            "gridcolor": "white",
            "gridwidth": 2,
            "linecolor": "white",
            "showbackground": true,
            "ticks": "",
            "zerolinecolor": "white"
           },
           "zaxis": {
            "backgroundcolor": "#E5ECF6",
            "gridcolor": "white",
            "gridwidth": 2,
            "linecolor": "white",
            "showbackground": true,
            "ticks": "",
            "zerolinecolor": "white"
           }
          },
          "shapedefaults": {
           "line": {
            "color": "#2a3f5f"
           }
          },
          "ternary": {
           "aaxis": {
            "gridcolor": "white",
            "linecolor": "white",
            "ticks": ""
           },
           "baxis": {
            "gridcolor": "white",
            "linecolor": "white",
            "ticks": ""
           },
           "bgcolor": "#E5ECF6",
           "caxis": {
            "gridcolor": "white",
            "linecolor": "white",
            "ticks": ""
           }
          },
          "title": {
           "x": 0.05
          },
          "xaxis": {
           "automargin": true,
           "gridcolor": "white",
           "linecolor": "white",
           "ticks": "",
           "title": {
            "standoff": 15
           },
           "zerolinecolor": "white",
           "zerolinewidth": 2
          },
          "yaxis": {
           "automargin": true,
           "gridcolor": "white",
           "linecolor": "white",
           "ticks": "",
           "title": {
            "standoff": 15
           },
           "zerolinecolor": "white",
           "zerolinewidth": 2
          }
         }
        },
        "title": {
         "text": "CAD_JPY_MA_8_32"
        },
        "width": 1000,
        "xaxis": {
         "linecolor": "#3a4a54",
         "linewidth": 1,
         "showgrid": false,
         "zeroline": false
        },
        "yaxis": {
         "linecolor": "#3a4a54",
         "linewidth": 1,
         "showgrid": false,
         "zeroline": false
        }
       }
      }
     },
     "metadata": {},
     "output_type": "display_data"
    }
   ],
   "source": [
    "c = 'MA_8_32'\n",
    "\n",
    "for p in our_pairs:\n",
    "    temp_df = all_trades[(all_trades.CROSS==c) & (all_trades.PAIR==p)].copy()\n",
    "    temp_df['CUM_GAIN'] = temp_df.GAIN.cumsum()\n",
    "    plot_line(temp_df, p+\"_\"+c)"
   ]
  },
  {
   "cell_type": "code",
   "execution_count": 49,
   "metadata": {},
   "outputs": [
    {
     "data": {
      "application/vnd.plotly.v1+json": {
       "config": {
        "plotlyServerURL": "https://plot.ly"
       },
       "data": [
        {
         "line": {
          "color": "#3d825f",
          "shape": "spline",
          "width": 2
         },
         "mode": "lines",
         "name": "MA_16_32",
         "type": "scatter",
         "x": [
          "2023-10-23T18:00:00+00:00",
          "2023-10-23T19:00:00+00:00",
          "2023-10-23T20:00:00+00:00",
          "2023-10-23T22:00:00+00:00",
          "2023-10-24T03:00:00+00:00",
          "2023-10-24T04:00:00+00:00",
          "2023-10-24T12:00:00+00:00",
          "2023-10-24T14:00:00+00:00",
          "2023-10-24T16:00:00+00:00",
          "2023-10-24T17:00:00+00:00",
          "2023-10-24T18:00:00+00:00",
          "2023-10-24T19:00:00+00:00",
          "2023-10-24T21:00:00+00:00",
          "2023-10-25T01:00:00+00:00",
          "2023-10-25T02:00:00+00:00",
          "2023-10-25T13:00:00+00:00",
          "2023-10-25T16:00:00+00:00",
          "2023-10-25T17:00:00+00:00",
          "2023-10-25T18:00:00+00:00",
          "2023-10-25T21:00:00+00:00",
          "2023-10-26T00:00:00+00:00",
          "2023-10-26T02:00:00+00:00",
          "2023-10-26T03:00:00+00:00",
          "2023-10-26T06:00:00+00:00",
          "2023-10-26T09:00:00+00:00",
          "2023-10-26T11:00:00+00:00",
          "2023-10-26T13:00:00+00:00",
          "2023-10-26T15:00:00+00:00",
          "2023-10-26T16:00:00+00:00",
          "2023-10-26T17:00:00+00:00",
          "2023-10-26T18:00:00+00:00",
          "2023-10-26T21:00:00+00:00",
          "2023-10-26T22:00:00+00:00",
          "2023-10-26T23:00:00+00:00",
          "2023-10-27T02:00:00+00:00",
          "2023-10-27T04:00:00+00:00",
          "2023-10-27T13:00:00+00:00",
          "2023-10-27T14:00:00+00:00",
          "2023-10-27T15:00:00+00:00",
          "2023-10-27T16:00:00+00:00",
          "2023-10-27T18:00:00+00:00",
          "2023-10-30T03:00:00+00:00",
          "2023-10-30T07:00:00+00:00",
          "2023-10-30T10:00:00+00:00",
          "2023-10-30T11:00:00+00:00",
          "2023-10-30T13:00:00+00:00",
          "2023-10-30T18:00:00+00:00",
          "2023-10-30T20:00:00+00:00",
          "2023-10-30T22:00:00+00:00",
          "2023-10-30T23:00:00+00:00",
          "2023-10-31T01:00:00+00:00",
          "2023-10-31T03:00:00+00:00",
          "2023-10-31T07:00:00+00:00",
          "2023-10-31T19:00:00+00:00",
          "2023-11-01T00:00:00+00:00",
          "2023-11-01T02:00:00+00:00",
          "2023-11-01T08:00:00+00:00",
          "2023-11-01T10:00:00+00:00",
          "2023-11-01T11:00:00+00:00",
          "2023-11-01T13:00:00+00:00",
          "2023-11-01T15:00:00+00:00",
          "2023-11-01T16:00:00+00:00",
          "2023-11-01T18:00:00+00:00",
          "2023-11-01T19:00:00+00:00",
          "2023-11-02T06:00:00+00:00",
          "2023-11-02T08:00:00+00:00",
          "2023-11-02T09:00:00+00:00",
          "2023-11-02T12:00:00+00:00",
          "2023-11-02T13:00:00+00:00",
          "2023-11-02T16:00:00+00:00",
          "2023-11-02T17:00:00+00:00",
          "2023-11-02T18:00:00+00:00",
          "2023-11-02T19:00:00+00:00",
          "2023-11-02T20:00:00+00:00",
          "2023-11-02T21:00:00+00:00",
          "2023-11-02T22:00:00+00:00",
          "2023-11-02T23:00:00+00:00",
          "2023-11-03T01:00:00+00:00",
          "2023-11-03T05:00:00+00:00",
          "2023-11-03T06:00:00+00:00",
          "2023-11-03T08:00:00+00:00",
          "2023-11-03T09:00:00+00:00",
          "2023-11-03T14:00:00+00:00",
          "2023-11-03T15:00:00+00:00",
          "2023-11-03T17:00:00+00:00",
          "2023-11-03T19:00:00+00:00",
          "2023-11-03T20:00:00+00:00",
          "2023-11-06T06:00:00+00:00",
          "2023-11-06T09:00:00+00:00",
          "2023-11-06T15:00:00+00:00",
          "2023-11-06T16:00:00+00:00",
          "2023-11-06T21:00:00+00:00",
          "2023-11-06T22:00:00+00:00",
          "2023-11-06T23:00:00+00:00",
          "2023-11-07T04:00:00+00:00",
          "2023-11-07T06:00:00+00:00",
          "2023-11-07T07:00:00+00:00",
          "2023-11-07T12:00:00+00:00",
          "2023-11-07T22:00:00+00:00",
          "2023-11-08T01:00:00+00:00",
          "2023-11-08T02:00:00+00:00",
          "2023-11-08T04:00:00+00:00",
          "2023-11-08T05:00:00+00:00",
          "2023-11-08T07:00:00+00:00",
          "2023-11-08T09:00:00+00:00",
          "2023-11-08T12:00:00+00:00",
          "2023-11-08T15:00:00+00:00",
          "2023-11-08T17:00:00+00:00",
          "2023-11-08T18:00:00+00:00",
          "2023-11-08T19:00:00+00:00",
          "2023-11-08T21:00:00+00:00",
          "2023-11-08T22:00:00+00:00",
          "2023-11-09T00:00:00+00:00",
          "2023-11-09T04:00:00+00:00",
          "2023-11-09T09:00:00+00:00",
          "2023-11-09T10:00:00+00:00",
          "2023-11-09T12:00:00+00:00",
          "2023-11-09T13:00:00+00:00",
          "2023-11-09T14:00:00+00:00",
          "2023-11-09T15:00:00+00:00",
          "2023-11-09T17:00:00+00:00",
          "2023-11-09T19:00:00+00:00",
          "2023-11-09T20:00:00+00:00",
          "2023-11-09T21:00:00+00:00",
          "2023-11-09T23:00:00+00:00",
          "2023-11-10T00:00:00+00:00",
          "2023-11-10T04:00:00+00:00",
          "2023-11-10T06:00:00+00:00",
          "2023-11-10T07:00:00+00:00",
          "2023-11-10T15:00:00+00:00",
          "2023-11-10T16:00:00+00:00",
          "2023-11-10T17:00:00+00:00",
          "2023-11-10T19:00:00+00:00",
          "2023-11-12T22:00:00+00:00",
          "2023-11-13T00:00:00+00:00",
          "2023-11-13T01:00:00+00:00",
          "2023-11-13T07:00:00+00:00",
          "2023-11-13T11:00:00+00:00",
          "2023-11-13T22:00:00+00:00",
          "2023-11-14T04:00:00+00:00",
          "2023-11-14T08:00:00+00:00",
          "2023-11-14T14:00:00+00:00",
          "2023-11-14T15:00:00+00:00",
          "2023-11-14T18:00:00+00:00",
          "2023-11-14T21:00:00+00:00",
          "2023-11-14T22:00:00+00:00",
          "2023-11-15T03:00:00+00:00",
          "2023-11-15T11:00:00+00:00",
          "2023-11-15T12:00:00+00:00",
          "2023-11-15T15:00:00+00:00",
          "2023-11-15T16:00:00+00:00",
          "2023-11-15T19:00:00+00:00",
          "2023-11-16T01:00:00+00:00",
          "2023-11-16T02:00:00+00:00",
          "2023-11-16T05:00:00+00:00",
          "2023-11-16T09:00:00+00:00",
          "2023-11-16T12:00:00+00:00",
          "2023-11-16T15:00:00+00:00",
          "2023-11-16T16:00:00+00:00",
          "2023-11-16T17:00:00+00:00",
          "2023-11-16T20:00:00+00:00",
          "2023-11-16T23:00:00+00:00",
          "2023-11-17T03:00:00+00:00",
          "2023-11-17T06:00:00+00:00",
          "2023-11-17T11:00:00+00:00",
          "2023-11-17T12:00:00+00:00",
          "2023-11-17T13:00:00+00:00",
          "2023-11-17T16:00:00+00:00",
          "2023-11-17T18:00:00+00:00",
          "2023-11-17T20:00:00+00:00",
          "2023-11-17T21:00:00+00:00",
          "2023-11-19T22:00:00+00:00",
          "2023-11-19T23:00:00+00:00",
          "2023-11-20T00:00:00+00:00",
          "2023-11-20T03:00:00+00:00",
          "2023-11-20T05:00:00+00:00",
          "2023-11-20T06:00:00+00:00",
          "2023-11-20T10:00:00+00:00",
          "2023-11-20T17:00:00+00:00",
          "2023-11-20T19:00:00+00:00",
          "2023-11-20T23:00:00+00:00",
          "2023-11-21T03:00:00+00:00",
          "2023-11-21T10:00:00+00:00",
          "2023-11-21T17:00:00+00:00",
          "2023-11-21T19:00:00+00:00",
          "2023-11-21T21:00:00+00:00",
          "2023-11-21T23:00:00+00:00",
          "2023-11-22T00:00:00+00:00",
          "2023-11-22T01:00:00+00:00",
          "2023-11-22T02:00:00+00:00",
          "2023-11-22T05:00:00+00:00",
          "2023-11-22T08:00:00+00:00",
          "2023-11-22T13:00:00+00:00",
          "2023-11-22T14:00:00+00:00",
          "2023-11-22T21:00:00+00:00",
          "2023-11-22T22:00:00+00:00",
          "2023-11-23T02:00:00+00:00",
          "2023-11-23T05:00:00+00:00",
          "2023-11-23T08:00:00+00:00",
          "2023-11-23T11:00:00+00:00",
          "2023-11-23T14:00:00+00:00",
          "2023-11-23T15:00:00+00:00",
          "2023-11-23T16:00:00+00:00",
          "2023-11-23T17:00:00+00:00",
          "2023-11-23T21:00:00+00:00",
          "2023-11-23T22:00:00+00:00",
          "2023-11-24T09:00:00+00:00",
          "2023-11-24T11:00:00+00:00",
          "2023-11-24T12:00:00+00:00",
          "2023-11-24T13:00:00+00:00",
          "2023-11-24T14:00:00+00:00",
          "2023-11-26T23:00:00+00:00",
          "2023-11-27T02:00:00+00:00",
          "2023-11-27T04:00:00+00:00",
          "2023-11-27T05:00:00+00:00",
          "2023-11-27T08:00:00+00:00",
          "2023-11-27T09:00:00+00:00",
          "2023-11-27T10:00:00+00:00",
          "2023-11-27T11:00:00+00:00",
          "2023-11-27T12:00:00+00:00",
          "2023-11-27T13:00:00+00:00",
          "2023-11-27T14:00:00+00:00",
          "2023-11-27T18:00:00+00:00",
          "2023-11-27T20:00:00+00:00",
          "2023-11-28T00:00:00+00:00",
          "2023-11-28T02:00:00+00:00",
          "2023-11-28T03:00:00+00:00",
          "2023-11-28T04:00:00+00:00",
          "2023-11-28T05:00:00+00:00",
          "2023-11-28T10:00:00+00:00",
          "2023-11-28T14:00:00+00:00",
          "2023-11-28T15:00:00+00:00",
          "2023-11-28T20:00:00+00:00",
          "2023-11-28T21:00:00+00:00",
          "2023-11-28T22:00:00+00:00",
          "2023-11-28T23:00:00+00:00",
          "2023-11-29T00:00:00+00:00",
          "2023-11-29T02:00:00+00:00",
          "2023-11-29T10:00:00+00:00",
          "2023-11-29T15:00:00+00:00",
          "2023-11-29T16:00:00+00:00",
          "2023-11-29T17:00:00+00:00",
          "2023-11-29T20:00:00+00:00",
          "2023-11-30T00:00:00+00:00",
          "2023-11-30T05:00:00+00:00",
          "2023-11-30T09:00:00+00:00",
          "2023-11-30T12:00:00+00:00",
          "2023-11-30T14:00:00+00:00",
          "2023-11-30T17:00:00+00:00",
          "2023-11-30T19:00:00+00:00",
          "2023-11-30T20:00:00+00:00",
          "2023-11-30T22:00:00+00:00",
          "2023-11-30T23:00:00+00:00",
          "2023-12-01T01:00:00+00:00",
          "2023-12-01T02:00:00+00:00",
          "2023-12-01T13:00:00+00:00",
          "2023-12-01T14:00:00+00:00",
          "2023-12-01T18:00:00+00:00",
          "2023-12-01T19:00:00+00:00",
          "2023-12-01T21:00:00+00:00",
          "2023-12-03T22:00:00+00:00",
          "2023-12-03T23:00:00+00:00",
          "2023-12-04T00:00:00+00:00",
          "2023-12-04T02:00:00+00:00",
          "2023-12-04T05:00:00+00:00",
          "2023-12-04T09:00:00+00:00",
          "2023-12-04T16:00:00+00:00",
          "2023-12-04T18:00:00+00:00",
          "2023-12-04T19:00:00+00:00",
          "2023-12-04T20:00:00+00:00",
          "2023-12-04T21:00:00+00:00",
          "2023-12-04T23:00:00+00:00",
          "2023-12-05T00:00:00+00:00",
          "2023-12-05T01:00:00+00:00",
          "2023-12-05T02:00:00+00:00",
          "2023-12-05T06:00:00+00:00",
          "2023-12-05T07:00:00+00:00",
          "2023-12-05T08:00:00+00:00",
          "2023-12-05T12:00:00+00:00",
          "2023-12-05T13:00:00+00:00",
          "2023-12-05T14:00:00+00:00",
          "2023-12-05T16:00:00+00:00",
          "2023-12-05T19:00:00+00:00",
          "2023-12-05T21:00:00+00:00",
          "2023-12-06T02:00:00+00:00",
          "2023-12-06T03:00:00+00:00",
          "2023-12-06T04:00:00+00:00",
          "2023-12-06T05:00:00+00:00",
          "2023-12-06T06:00:00+00:00",
          "2023-12-06T10:00:00+00:00",
          "2023-12-06T11:00:00+00:00",
          "2023-12-06T13:00:00+00:00",
          "2023-12-06T18:00:00+00:00",
          "2023-12-06T19:00:00+00:00",
          "2023-12-06T22:00:00+00:00",
          "2023-12-06T23:00:00+00:00",
          "2023-12-07T01:00:00+00:00",
          "2023-12-07T02:00:00+00:00",
          "2023-12-07T03:00:00+00:00",
          "2023-12-07T04:00:00+00:00",
          "2023-12-07T06:00:00+00:00",
          "2023-12-07T13:00:00+00:00",
          "2023-12-07T15:00:00+00:00",
          "2023-12-07T17:00:00+00:00",
          "2023-12-07T18:00:00+00:00",
          "2023-12-07T19:00:00+00:00",
          "2023-12-07T23:00:00+00:00",
          "2023-12-08T10:00:00+00:00",
          "2023-12-08T11:00:00+00:00",
          "2023-12-08T13:00:00+00:00",
          "2023-12-08T15:00:00+00:00",
          "2023-12-08T16:00:00+00:00",
          "2023-12-08T17:00:00+00:00",
          "2023-12-08T18:00:00+00:00",
          "2023-12-08T20:00:00+00:00",
          "2023-12-10T23:00:00+00:00",
          "2023-12-11T11:00:00+00:00",
          "2023-12-11T13:00:00+00:00",
          "2023-12-11T14:00:00+00:00",
          "2023-12-11T17:00:00+00:00",
          "2023-12-11T20:00:00+00:00",
          "2023-12-11T22:00:00+00:00",
          "2023-12-12T01:00:00+00:00",
          "2023-12-12T02:00:00+00:00",
          "2023-12-12T03:00:00+00:00",
          "2023-12-12T04:00:00+00:00",
          "2023-12-12T06:00:00+00:00",
          "2023-12-12T07:00:00+00:00",
          "2023-12-12T08:00:00+00:00",
          "2023-12-12T09:00:00+00:00",
          "2023-12-12T11:00:00+00:00",
          "2023-12-12T12:00:00+00:00",
          "2023-12-12T17:00:00+00:00",
          "2023-12-12T18:00:00+00:00",
          "2023-12-12T20:00:00+00:00",
          "2023-12-12T21:00:00+00:00",
          "2023-12-13T00:00:00+00:00",
          "2023-12-13T01:00:00+00:00",
          "2023-12-13T02:00:00+00:00",
          "2023-12-13T03:00:00+00:00",
          "2023-12-13T09:00:00+00:00",
          "2023-12-13T10:00:00+00:00",
          "2023-12-13T12:00:00+00:00",
          "2023-12-13T15:00:00+00:00",
          "2023-12-13T16:00:00+00:00",
          "2023-12-13T18:00:00+00:00",
          "2023-12-13T19:00:00+00:00",
          "2023-12-13T20:00:00+00:00",
          "2023-12-13T22:00:00+00:00",
          "2023-12-13T23:00:00+00:00",
          "2023-12-14T00:00:00+00:00",
          "2023-12-14T01:00:00+00:00",
          "2023-12-14T06:00:00+00:00",
          "2023-12-14T09:00:00+00:00",
          "2023-12-14T17:00:00+00:00",
          "2023-12-14T19:00:00+00:00",
          "2023-12-14T20:00:00+00:00",
          "2023-12-14T22:00:00+00:00",
          "2023-12-14T23:00:00+00:00",
          "2023-12-15T00:00:00+00:00",
          "2023-12-15T01:00:00+00:00",
          "2023-12-15T08:00:00+00:00",
          "2023-12-15T12:00:00+00:00",
          "2023-12-15T14:00:00+00:00",
          "2023-12-15T15:00:00+00:00",
          "2023-12-15T16:00:00+00:00",
          "2023-12-15T17:00:00+00:00",
          "2023-12-15T18:00:00+00:00",
          "2023-12-18T05:00:00+00:00",
          "2023-12-18T09:00:00+00:00",
          "2023-12-18T10:00:00+00:00",
          "2023-12-18T12:00:00+00:00",
          "2023-12-18T14:00:00+00:00",
          "2023-12-18T17:00:00+00:00",
          "2023-12-18T21:00:00+00:00",
          "2023-12-19T00:00:00+00:00",
          "2023-12-19T05:00:00+00:00",
          "2023-12-19T09:00:00+00:00",
          "2023-12-19T10:00:00+00:00",
          "2023-12-19T13:00:00+00:00",
          "2023-12-19T14:00:00+00:00",
          "2023-12-19T16:00:00+00:00",
          "2023-12-19T17:00:00+00:00",
          "2023-12-20T01:00:00+00:00",
          "2023-12-20T07:00:00+00:00",
          "2023-12-20T09:00:00+00:00",
          "2023-12-20T10:00:00+00:00",
          "2023-12-20T11:00:00+00:00",
          "2023-12-20T12:00:00+00:00",
          "2023-12-20T16:00:00+00:00",
          "2023-12-20T22:00:00+00:00",
          "2023-12-21T02:00:00+00:00",
          "2023-12-21T03:00:00+00:00",
          "2023-12-21T04:00:00+00:00",
          "2023-12-21T07:00:00+00:00",
          "2023-12-21T10:00:00+00:00",
          "2023-12-21T21:00:00+00:00",
          "2023-12-21T23:00:00+00:00",
          "2023-12-22T00:00:00+00:00",
          "2023-12-22T04:00:00+00:00",
          "2023-12-22T06:00:00+00:00",
          "2023-12-22T07:00:00+00:00",
          "2023-12-22T09:00:00+00:00",
          "2023-12-22T11:00:00+00:00",
          "2023-12-22T12:00:00+00:00",
          "2023-12-22T13:00:00+00:00",
          "2023-12-22T14:00:00+00:00",
          "2023-12-22T15:00:00+00:00",
          "2023-12-22T17:00:00+00:00",
          "2023-12-22T20:00:00+00:00",
          "2023-12-22T21:00:00+00:00",
          "2023-12-25T18:00:00+00:00",
          "2023-12-25T23:00:00+00:00",
          "2023-12-26T01:00:00+00:00",
          "2023-12-26T02:00:00+00:00",
          "2023-12-26T03:00:00+00:00",
          "2023-12-26T04:00:00+00:00",
          "2023-12-26T11:00:00+00:00",
          "2023-12-26T18:00:00+00:00",
          "2023-12-26T19:00:00+00:00",
          "2023-12-27T02:00:00+00:00",
          "2023-12-27T04:00:00+00:00",
          "2023-12-27T10:00:00+00:00",
          "2023-12-27T12:00:00+00:00",
          "2023-12-27T13:00:00+00:00",
          "2023-12-27T14:00:00+00:00",
          "2023-12-27T15:00:00+00:00",
          "2023-12-27T20:00:00+00:00",
          "2023-12-27T21:00:00+00:00",
          "2023-12-28T05:00:00+00:00",
          "2023-12-28T06:00:00+00:00",
          "2023-12-28T13:00:00+00:00",
          "2023-12-28T16:00:00+00:00",
          "2023-12-28T18:00:00+00:00",
          "2023-12-28T19:00:00+00:00",
          "2023-12-28T20:00:00+00:00",
          "2023-12-29T01:00:00+00:00",
          "2023-12-29T03:00:00+00:00",
          "2023-12-29T04:00:00+00:00",
          "2023-12-29T05:00:00+00:00",
          "2023-12-29T06:00:00+00:00",
          "2023-12-29T07:00:00+00:00",
          "2023-12-29T10:00:00+00:00",
          "2023-12-29T11:00:00+00:00",
          "2023-12-29T12:00:00+00:00",
          "2023-12-29T13:00:00+00:00",
          "2023-12-29T14:00:00+00:00",
          "2023-12-29T15:00:00+00:00",
          "2023-12-29T16:00:00+00:00",
          "2023-12-29T17:00:00+00:00",
          "2023-12-29T18:00:00+00:00",
          "2023-12-29T20:00:00+00:00",
          "2023-12-29T21:00:00+00:00",
          "2024-01-02T03:00:00+00:00",
          "2024-01-02T05:00:00+00:00",
          "2024-01-02T07:00:00+00:00",
          "2024-01-02T09:00:00+00:00",
          "2024-01-02T11:00:00+00:00",
          "2024-01-02T13:00:00+00:00",
          "2024-01-02T18:00:00+00:00",
          "2024-01-02T23:00:00+00:00",
          "2024-01-03T00:00:00+00:00",
          "2024-01-03T01:00:00+00:00",
          "2024-01-03T02:00:00+00:00",
          "2024-01-03T05:00:00+00:00",
          "2024-01-03T06:00:00+00:00",
          "2024-01-03T07:00:00+00:00",
          "2024-01-03T09:00:00+00:00",
          "2024-01-03T11:00:00+00:00",
          "2024-01-03T12:00:00+00:00",
          "2024-01-03T13:00:00+00:00",
          "2024-01-03T16:00:00+00:00",
          "2024-01-03T17:00:00+00:00",
          "2024-01-03T19:00:00+00:00",
          "2024-01-03T20:00:00+00:00",
          "2024-01-03T21:00:00+00:00",
          "2024-01-03T22:00:00+00:00",
          "2024-01-03T23:00:00+00:00",
          "2024-01-04T00:00:00+00:00",
          "2024-01-04T02:00:00+00:00",
          "2024-01-04T03:00:00+00:00",
          "2024-01-04T06:00:00+00:00",
          "2024-01-04T11:00:00+00:00",
          "2024-01-04T15:00:00+00:00",
          "2024-01-04T16:00:00+00:00",
          "2024-01-04T18:00:00+00:00",
          "2024-01-04T19:00:00+00:00",
          "2024-01-04T20:00:00+00:00",
          "2024-01-05T04:00:00+00:00",
          "2024-01-05T10:00:00+00:00",
          "2024-01-05T11:00:00+00:00",
          "2024-01-05T12:00:00+00:00",
          "2024-01-05T13:00:00+00:00",
          "2024-01-05T14:00:00+00:00",
          "2024-01-05T15:00:00+00:00",
          "2024-01-05T16:00:00+00:00",
          "2024-01-05T17:00:00+00:00",
          "2024-01-05T18:00:00+00:00",
          "2024-01-05T19:00:00+00:00",
          "2024-01-08T01:00:00+00:00",
          "2024-01-08T02:00:00+00:00",
          "2024-01-08T06:00:00+00:00",
          "2024-01-08T08:00:00+00:00",
          "2024-01-08T13:00:00+00:00",
          "2024-01-08T14:00:00+00:00",
          "2024-01-08T16:00:00+00:00",
          "2024-01-08T17:00:00+00:00",
          "2024-01-08T21:00:00+00:00",
          "2024-01-09T00:00:00+00:00",
          "2024-01-09T02:00:00+00:00",
          "2024-01-09T04:00:00+00:00",
          "2024-01-09T07:00:00+00:00",
          "2024-01-09T09:00:00+00:00",
          "2024-01-09T10:00:00+00:00",
          "2024-01-09T11:00:00+00:00",
          "2024-01-09T13:00:00+00:00",
          "2024-01-09T15:00:00+00:00",
          "2024-01-09T19:00:00+00:00",
          "2024-01-09T20:00:00+00:00",
          "2024-01-09T21:00:00+00:00",
          "2024-01-09T23:00:00+00:00",
          "2024-01-10T00:00:00+00:00",
          "2024-01-10T01:00:00+00:00",
          "2024-01-10T02:00:00+00:00",
          "2024-01-10T05:00:00+00:00",
          "2024-01-10T13:00:00+00:00",
          "2024-01-10T14:00:00+00:00",
          "2024-01-10T18:00:00+00:00",
          "2024-01-11T00:00:00+00:00",
          "2024-01-11T10:00:00+00:00",
          "2024-01-11T13:00:00+00:00",
          "2024-01-11T15:00:00+00:00",
          "2024-01-11T16:00:00+00:00",
          "2024-01-11T17:00:00+00:00",
          "2024-01-11T18:00:00+00:00",
          "2024-01-11T19:00:00+00:00",
          "2024-01-11T21:00:00+00:00",
          "2024-01-11T22:00:00+00:00",
          "2024-01-11T23:00:00+00:00",
          "2024-01-12T00:00:00+00:00",
          "2024-01-12T10:00:00+00:00",
          "2024-01-12T11:00:00+00:00",
          "2024-01-12T13:00:00+00:00",
          "2024-01-12T14:00:00+00:00",
          "2024-01-12T15:00:00+00:00",
          "2024-01-12T19:00:00+00:00",
          "2024-01-15T01:00:00+00:00",
          "2024-01-15T04:00:00+00:00",
          "2024-01-15T05:00:00+00:00",
          "2024-01-15T06:00:00+00:00",
          "2024-01-15T07:00:00+00:00",
          "2024-01-15T08:00:00+00:00",
          "2024-01-15T09:00:00+00:00",
          "2024-01-15T10:00:00+00:00",
          "2024-01-15T12:00:00+00:00",
          "2024-01-15T20:00:00+00:00",
          "2024-01-16T05:00:00+00:00",
          "2024-01-16T09:00:00+00:00",
          "2024-01-16T11:00:00+00:00",
          "2024-01-16T13:00:00+00:00",
          "2024-01-16T14:00:00+00:00",
          "2024-01-16T16:00:00+00:00",
          "2024-01-16T18:00:00+00:00",
          "2024-01-16T20:00:00+00:00",
          "2024-01-16T21:00:00+00:00",
          "2024-01-16T23:00:00+00:00",
          "2024-01-17T07:00:00+00:00",
          "2024-01-17T08:00:00+00:00",
          "2024-01-17T10:00:00+00:00",
          "2024-01-17T12:00:00+00:00",
          "2024-01-18T01:00:00+00:00",
          "2024-01-18T11:00:00+00:00",
          "2024-01-18T12:00:00+00:00",
          "2024-01-18T13:00:00+00:00",
          "2024-01-18T14:00:00+00:00",
          "2024-01-18T15:00:00+00:00",
          "2024-01-18T16:00:00+00:00",
          "2024-01-18T17:00:00+00:00",
          "2024-01-18T19:00:00+00:00",
          "2024-01-18T23:00:00+00:00",
          "2024-01-19T01:00:00+00:00",
          "2024-01-19T04:00:00+00:00",
          "2024-01-19T05:00:00+00:00",
          "2024-01-19T06:00:00+00:00",
          "2024-01-19T12:00:00+00:00",
          "2024-01-19T13:00:00+00:00",
          "2024-01-19T18:00:00+00:00",
          "2024-01-19T19:00:00+00:00",
          "2024-01-19T20:00:00+00:00",
          "2024-01-19T21:00:00+00:00",
          "2024-01-22T00:00:00+00:00",
          "2024-01-22T03:00:00+00:00",
          "2024-01-22T04:00:00+00:00",
          "2024-01-22T07:00:00+00:00",
          "2024-01-22T08:00:00+00:00",
          "2024-01-22T09:00:00+00:00",
          "2024-01-22T10:00:00+00:00",
          "2024-01-22T12:00:00+00:00",
          "2024-01-22T14:00:00+00:00",
          "2024-01-22T15:00:00+00:00",
          "2024-01-22T16:00:00+00:00",
          "2024-01-22T18:00:00+00:00",
          "2024-01-22T21:00:00+00:00",
          "2024-01-22T23:00:00+00:00",
          "2024-01-23T05:00:00+00:00",
          "2024-01-23T08:00:00+00:00",
          "2024-01-23T10:00:00+00:00",
          "2024-01-23T13:00:00+00:00",
          "2024-01-23T17:00:00+00:00",
          "2024-01-23T18:00:00+00:00",
          "2024-01-23T19:00:00+00:00",
          "2024-01-23T20:00:00+00:00",
          "2024-01-23T22:00:00+00:00",
          "2024-01-24T02:00:00+00:00",
          "2024-01-24T07:00:00+00:00",
          "2024-01-24T12:00:00+00:00",
          "2024-01-24T13:00:00+00:00",
          "2024-01-24T14:00:00+00:00",
          "2024-01-24T18:00:00+00:00",
          "2024-01-24T19:00:00+00:00",
          "2024-01-24T20:00:00+00:00",
          "2024-01-25T01:00:00+00:00",
          "2024-01-25T02:00:00+00:00",
          "2024-01-25T03:00:00+00:00",
          "2024-01-25T07:00:00+00:00",
          "2024-01-25T08:00:00+00:00",
          "2024-01-25T13:00:00+00:00",
          "2024-01-25T15:00:00+00:00",
          "2024-01-25T16:00:00+00:00",
          "2024-01-25T17:00:00+00:00",
          "2024-01-25T18:00:00+00:00",
          "2024-01-25T19:00:00+00:00",
          "2024-01-25T23:00:00+00:00",
          "2024-01-26T03:00:00+00:00",
          "2024-01-26T04:00:00+00:00",
          "2024-01-26T08:00:00+00:00",
          "2024-01-26T11:00:00+00:00",
          "2024-01-26T13:00:00+00:00",
          "2024-01-26T14:00:00+00:00",
          "2024-01-26T16:00:00+00:00",
          "2024-01-26T19:00:00+00:00",
          "2024-01-26T21:00:00+00:00",
          "2024-01-29T01:00:00+00:00",
          "2024-01-29T02:00:00+00:00",
          "2024-01-29T09:00:00+00:00",
          "2024-01-29T10:00:00+00:00",
          "2024-01-29T11:00:00+00:00",
          "2024-01-29T14:00:00+00:00",
          "2024-01-29T15:00:00+00:00",
          "2024-01-29T17:00:00+00:00",
          "2024-01-29T18:00:00+00:00",
          "2024-01-30T11:00:00+00:00",
          "2024-01-30T14:00:00+00:00",
          "2024-01-30T18:00:00+00:00",
          "2024-01-30T19:00:00+00:00",
          "2024-01-30T20:00:00+00:00",
          "2024-01-30T21:00:00+00:00",
          "2024-01-30T23:00:00+00:00",
          "2024-01-31T01:00:00+00:00",
          "2024-01-31T03:00:00+00:00",
          "2024-01-31T04:00:00+00:00",
          "2024-01-31T07:00:00+00:00",
          "2024-01-31T09:00:00+00:00",
          "2024-01-31T11:00:00+00:00",
          "2024-01-31T12:00:00+00:00",
          "2024-01-31T14:00:00+00:00",
          "2024-01-31T15:00:00+00:00",
          "2024-01-31T16:00:00+00:00",
          "2024-01-31T17:00:00+00:00",
          "2024-01-31T19:00:00+00:00",
          "2024-01-31T20:00:00+00:00",
          "2024-01-31T22:00:00+00:00",
          "2024-02-01T01:00:00+00:00",
          "2024-02-01T02:00:00+00:00",
          "2024-02-01T04:00:00+00:00",
          "2024-02-01T06:00:00+00:00",
          "2024-02-01T10:00:00+00:00",
          "2024-02-01T11:00:00+00:00",
          "2024-02-01T14:00:00+00:00",
          "2024-02-01T16:00:00+00:00",
          "2024-02-01T19:00:00+00:00",
          "2024-02-01T20:00:00+00:00",
          "2024-02-01T22:00:00+00:00",
          "2024-02-02T00:00:00+00:00",
          "2024-02-02T03:00:00+00:00",
          "2024-02-02T06:00:00+00:00",
          "2024-02-02T07:00:00+00:00",
          "2024-02-02T08:00:00+00:00",
          "2024-02-02T09:00:00+00:00",
          "2024-02-02T16:00:00+00:00",
          "2024-02-02T17:00:00+00:00",
          "2024-02-02T18:00:00+00:00",
          "2024-02-02T19:00:00+00:00",
          "2024-02-05T03:00:00+00:00",
          "2024-02-05T09:00:00+00:00",
          "2024-02-05T12:00:00+00:00",
          "2024-02-05T14:00:00+00:00",
          "2024-02-05T16:00:00+00:00",
          "2024-02-05T17:00:00+00:00",
          "2024-02-05T18:00:00+00:00",
          "2024-02-05T21:00:00+00:00",
          "2024-02-05T22:00:00+00:00",
          "2024-02-05T23:00:00+00:00",
          "2024-02-06T06:00:00+00:00",
          "2024-02-06T08:00:00+00:00",
          "2024-02-06T13:00:00+00:00",
          "2024-02-06T15:00:00+00:00",
          "2024-02-06T17:00:00+00:00",
          "2024-02-06T18:00:00+00:00",
          "2024-02-06T19:00:00+00:00",
          "2024-02-07T03:00:00+00:00",
          "2024-02-07T05:00:00+00:00",
          "2024-02-07T08:00:00+00:00",
          "2024-02-07T09:00:00+00:00",
          "2024-02-07T13:00:00+00:00",
          "2024-02-07T15:00:00+00:00",
          "2024-02-08T04:00:00+00:00",
          "2024-02-08T05:00:00+00:00",
          "2024-02-08T07:00:00+00:00",
          "2024-02-08T10:00:00+00:00",
          "2024-02-08T14:00:00+00:00",
          "2024-02-08T16:00:00+00:00",
          "2024-02-08T23:00:00+00:00",
          "2024-02-09T02:00:00+00:00",
          "2024-02-09T05:00:00+00:00",
          "2024-02-09T06:00:00+00:00",
          "2024-02-09T16:00:00+00:00",
          "2024-02-09T17:00:00+00:00",
          "2024-02-11T22:00:00+00:00",
          "2024-02-12T01:00:00+00:00",
          "2024-02-12T05:00:00+00:00",
          "2024-02-12T07:00:00+00:00",
          "2024-02-12T08:00:00+00:00",
          "2024-02-12T09:00:00+00:00",
          "2024-02-12T10:00:00+00:00",
          "2024-02-12T11:00:00+00:00",
          "2024-02-12T15:00:00+00:00",
          "2024-02-12T16:00:00+00:00",
          "2024-02-12T17:00:00+00:00",
          "2024-02-12T21:00:00+00:00",
          "2024-02-13T00:00:00+00:00",
          "2024-02-13T01:00:00+00:00",
          "2024-02-13T02:00:00+00:00",
          "2024-02-13T03:00:00+00:00",
          "2024-02-13T04:00:00+00:00",
          "2024-02-13T05:00:00+00:00",
          "2024-02-13T06:00:00+00:00",
          "2024-02-13T07:00:00+00:00",
          "2024-02-13T09:00:00+00:00",
          "2024-02-13T10:00:00+00:00",
          "2024-02-13T16:00:00+00:00",
          "2024-02-13T19:00:00+00:00",
          "2024-02-14T02:00:00+00:00",
          "2024-02-14T05:00:00+00:00",
          "2024-02-14T06:00:00+00:00",
          "2024-02-14T09:00:00+00:00",
          "2024-02-14T11:00:00+00:00",
          "2024-02-14T12:00:00+00:00",
          "2024-02-14T13:00:00+00:00",
          "2024-02-14T14:00:00+00:00",
          "2024-02-14T17:00:00+00:00",
          "2024-02-14T20:00:00+00:00",
          "2024-02-14T23:00:00+00:00",
          "2024-02-15T02:00:00+00:00",
          "2024-02-15T04:00:00+00:00",
          "2024-02-15T07:00:00+00:00",
          "2024-02-15T08:00:00+00:00",
          "2024-02-15T09:00:00+00:00",
          "2024-02-15T11:00:00+00:00",
          "2024-02-15T16:00:00+00:00",
          "2024-02-15T20:00:00+00:00",
          "2024-02-15T21:00:00+00:00",
          "2024-02-15T22:00:00+00:00",
          "2024-02-15T23:00:00+00:00",
          "2024-02-16T03:00:00+00:00",
          "2024-02-16T05:00:00+00:00",
          "2024-02-16T06:00:00+00:00",
          "2024-02-16T11:00:00+00:00",
          "2024-02-16T12:00:00+00:00",
          "2024-02-16T16:00:00+00:00",
          "2024-02-16T18:00:00+00:00",
          "2024-02-16T19:00:00+00:00",
          "2024-02-16T20:00:00+00:00",
          "2024-02-19T02:00:00+00:00",
          "2024-02-19T03:00:00+00:00",
          "2024-02-19T09:00:00+00:00",
          "2024-02-19T10:00:00+00:00",
          "2024-02-19T14:00:00+00:00",
          "2024-02-19T21:00:00+00:00",
          "2024-02-19T22:00:00+00:00",
          "2024-02-20T00:00:00+00:00",
          "2024-02-20T02:00:00+00:00",
          "2024-02-20T05:00:00+00:00",
          "2024-02-20T07:00:00+00:00",
          "2024-02-20T08:00:00+00:00",
          "2024-02-20T09:00:00+00:00",
          "2024-02-20T10:00:00+00:00",
          "2024-02-20T11:00:00+00:00",
          "2024-02-20T14:00:00+00:00",
          "2024-02-21T01:00:00+00:00",
          "2024-02-21T04:00:00+00:00",
          "2024-02-21T07:00:00+00:00",
          "2024-02-21T11:00:00+00:00",
          "2024-02-21T13:00:00+00:00",
          "2024-02-21T15:00:00+00:00",
          "2024-02-21T17:00:00+00:00",
          "2024-02-21T18:00:00+00:00",
          "2024-02-21T20:00:00+00:00",
          "2024-02-21T23:00:00+00:00",
          "2024-02-22T01:00:00+00:00",
          "2024-02-22T02:00:00+00:00",
          "2024-02-22T06:00:00+00:00",
          "2024-02-22T07:00:00+00:00",
          "2024-02-22T09:00:00+00:00",
          "2024-02-22T12:00:00+00:00",
          "2024-02-22T13:00:00+00:00",
          "2024-02-22T15:00:00+00:00",
          "2024-02-22T17:00:00+00:00",
          "2024-02-22T19:00:00+00:00",
          "2024-02-22T23:00:00+00:00",
          "2024-02-23T01:00:00+00:00",
          "2024-02-23T05:00:00+00:00",
          "2024-02-23T07:00:00+00:00",
          "2024-02-23T17:00:00+00:00",
          "2024-02-23T18:00:00+00:00",
          "2024-02-23T20:00:00+00:00",
          "2024-02-23T21:00:00+00:00",
          "2024-02-25T22:00:00+00:00",
          "2024-02-25T23:00:00+00:00",
          "2024-02-26T04:00:00+00:00",
          "2024-02-26T09:00:00+00:00",
          "2024-02-26T11:00:00+00:00",
          "2024-02-26T12:00:00+00:00",
          "2024-02-26T14:00:00+00:00",
          "2024-02-26T15:00:00+00:00",
          "2024-02-26T19:00:00+00:00",
          "2024-02-26T23:00:00+00:00",
          "2024-02-27T00:00:00+00:00",
          "2024-02-27T03:00:00+00:00",
          "2024-02-27T07:00:00+00:00",
          "2024-02-27T08:00:00+00:00",
          "2024-02-27T10:00:00+00:00",
          "2024-02-27T11:00:00+00:00",
          "2024-02-27T12:00:00+00:00",
          "2024-02-27T14:00:00+00:00",
          "2024-02-27T17:00:00+00:00",
          "2024-02-27T19:00:00+00:00",
          "2024-02-27T20:00:00+00:00",
          "2024-02-27T21:00:00+00:00",
          "2024-02-28T02:00:00+00:00",
          "2024-02-28T03:00:00+00:00",
          "2024-02-28T05:00:00+00:00",
          "2024-02-28T06:00:00+00:00",
          "2024-02-28T10:00:00+00:00",
          "2024-02-28T15:00:00+00:00",
          "2024-02-28T21:00:00+00:00",
          "2024-02-29T05:00:00+00:00",
          "2024-02-29T06:00:00+00:00",
          "2024-02-29T08:00:00+00:00",
          "2024-02-29T15:00:00+00:00",
          "2024-02-29T16:00:00+00:00",
          "2024-02-29T17:00:00+00:00",
          "2024-02-29T19:00:00+00:00",
          "2024-02-29T20:00:00+00:00",
          "2024-02-29T21:00:00+00:00",
          "2024-03-01T01:00:00+00:00",
          "2024-03-01T04:00:00+00:00",
          "2024-03-01T07:00:00+00:00",
          "2024-03-01T08:00:00+00:00",
          "2024-03-01T09:00:00+00:00",
          "2024-03-01T13:00:00+00:00",
          "2024-03-01T18:00:00+00:00",
          "2024-03-01T19:00:00+00:00",
          "2024-03-04T02:00:00+00:00",
          "2024-03-04T03:00:00+00:00",
          "2024-03-04T04:00:00+00:00",
          "2024-03-04T05:00:00+00:00",
          "2024-03-04T06:00:00+00:00",
          "2024-03-04T07:00:00+00:00",
          "2024-03-04T08:00:00+00:00",
          "2024-03-04T10:00:00+00:00",
          "2024-03-04T13:00:00+00:00",
          "2024-03-04T14:00:00+00:00",
          "2024-03-04T15:00:00+00:00",
          "2024-03-04T19:00:00+00:00",
          "2024-03-04T23:00:00+00:00",
          "2024-03-05T01:00:00+00:00",
          "2024-03-05T02:00:00+00:00",
          "2024-03-05T06:00:00+00:00",
          "2024-03-05T07:00:00+00:00",
          "2024-03-05T11:00:00+00:00",
          "2024-03-05T13:00:00+00:00",
          "2024-03-05T14:00:00+00:00",
          "2024-03-05T16:00:00+00:00",
          "2024-03-05T19:00:00+00:00",
          "2024-03-06T02:00:00+00:00",
          "2024-03-06T04:00:00+00:00",
          "2024-03-06T10:00:00+00:00",
          "2024-03-06T11:00:00+00:00",
          "2024-03-06T12:00:00+00:00",
          "2024-03-06T14:00:00+00:00",
          "2024-03-06T15:00:00+00:00",
          "2024-03-06T17:00:00+00:00",
          "2024-03-06T18:00:00+00:00",
          "2024-03-06T22:00:00+00:00",
          "2024-03-06T23:00:00+00:00",
          "2024-03-07T03:00:00+00:00",
          "2024-03-07T06:00:00+00:00",
          "2024-03-07T09:00:00+00:00",
          "2024-03-07T14:00:00+00:00",
          "2024-03-07T16:00:00+00:00",
          "2024-03-07T20:00:00+00:00",
          "2024-03-07T22:00:00+00:00",
          "2024-03-08T02:00:00+00:00",
          "2024-03-08T03:00:00+00:00",
          "2024-03-08T04:00:00+00:00",
          "2024-03-08T05:00:00+00:00",
          "2024-03-08T07:00:00+00:00",
          "2024-03-08T08:00:00+00:00",
          "2024-03-08T11:00:00+00:00",
          "2024-03-08T13:00:00+00:00",
          "2024-03-08T14:00:00+00:00",
          "2024-03-08T15:00:00+00:00",
          "2024-03-08T17:00:00+00:00",
          "2024-03-08T18:00:00+00:00",
          "2024-03-08T20:00:00+00:00",
          "2024-03-08T21:00:00+00:00",
          "2024-03-10T21:00:00+00:00",
          "2024-03-11T04:00:00+00:00",
          "2024-03-11T05:00:00+00:00",
          "2024-03-11T14:00:00+00:00",
          "2024-03-11T15:00:00+00:00",
          "2024-03-11T16:00:00+00:00",
          "2024-03-11T17:00:00+00:00",
          "2024-03-11T18:00:00+00:00",
          "2024-03-11T19:00:00+00:00",
          "2024-03-11T21:00:00+00:00",
          "2024-03-11T23:00:00+00:00",
          "2024-03-12T02:00:00+00:00",
          "2024-03-12T03:00:00+00:00",
          "2024-03-12T04:00:00+00:00",
          "2024-03-12T06:00:00+00:00",
          "2024-03-12T09:00:00+00:00",
          "2024-03-12T12:00:00+00:00",
          "2024-03-12T13:00:00+00:00",
          "2024-03-12T15:00:00+00:00",
          "2024-03-12T20:00:00+00:00",
          "2024-03-12T21:00:00+00:00",
          "2024-03-13T03:00:00+00:00",
          "2024-03-13T05:00:00+00:00",
          "2024-03-13T08:00:00+00:00",
          "2024-03-13T09:00:00+00:00",
          "2024-03-13T10:00:00+00:00",
          "2024-03-13T11:00:00+00:00",
          "2024-03-13T12:00:00+00:00",
          "2024-03-13T15:00:00+00:00",
          "2024-03-13T17:00:00+00:00",
          "2024-03-13T20:00:00+00:00",
          "2024-03-13T21:00:00+00:00",
          "2024-03-14T04:00:00+00:00",
          "2024-03-14T09:00:00+00:00",
          "2024-03-14T11:00:00+00:00",
          "2024-03-14T12:00:00+00:00",
          "2024-03-14T13:00:00+00:00",
          "2024-03-14T17:00:00+00:00",
          "2024-03-14T18:00:00+00:00",
          "2024-03-14T20:00:00+00:00",
          "2024-03-14T23:00:00+00:00",
          "2024-03-15T00:00:00+00:00",
          "2024-03-15T01:00:00+00:00",
          "2024-03-15T02:00:00+00:00",
          "2024-03-15T05:00:00+00:00",
          "2024-03-15T10:00:00+00:00",
          "2024-03-15T11:00:00+00:00",
          "2024-03-15T12:00:00+00:00",
          "2024-03-15T13:00:00+00:00",
          "2024-03-15T14:00:00+00:00",
          "2024-03-15T16:00:00+00:00",
          "2024-03-15T19:00:00+00:00",
          "2024-03-17T21:00:00+00:00",
          "2024-03-17T22:00:00+00:00",
          "2024-03-18T00:00:00+00:00",
          "2024-03-18T08:00:00+00:00",
          "2024-03-18T11:00:00+00:00",
          "2024-03-18T13:00:00+00:00",
          "2024-03-18T14:00:00+00:00",
          "2024-03-18T15:00:00+00:00",
          "2024-03-18T17:00:00+00:00",
          "2024-03-18T19:00:00+00:00",
          "2024-03-18T20:00:00+00:00",
          "2024-03-18T21:00:00+00:00",
          "2024-03-18T23:00:00+00:00",
          "2024-03-19T00:00:00+00:00",
          "2024-03-19T01:00:00+00:00",
          "2024-03-19T03:00:00+00:00",
          "2024-03-19T07:00:00+00:00",
          "2024-03-19T11:00:00+00:00",
          "2024-03-19T15:00:00+00:00",
          "2024-03-19T17:00:00+00:00",
          "2024-03-19T18:00:00+00:00",
          "2024-03-20T02:00:00+00:00",
          "2024-03-20T04:00:00+00:00",
          "2024-03-20T07:00:00+00:00",
          "2024-03-20T11:00:00+00:00",
          "2024-03-20T17:00:00+00:00",
          "2024-03-20T18:00:00+00:00",
          "2024-03-20T23:00:00+00:00",
          "2024-03-21T02:00:00+00:00",
          "2024-03-21T03:00:00+00:00",
          "2024-03-21T08:00:00+00:00",
          "2024-03-21T14:00:00+00:00",
          "2024-03-21T19:00:00+00:00",
          "2024-03-21T22:00:00+00:00",
          "2024-03-21T23:00:00+00:00",
          "2024-03-22T06:00:00+00:00",
          "2024-03-22T08:00:00+00:00",
          "2024-03-22T10:00:00+00:00",
          "2024-03-22T13:00:00+00:00",
          "2024-03-22T15:00:00+00:00",
          "2024-03-24T23:00:00+00:00",
          "2024-03-25T01:00:00+00:00",
          "2024-03-25T03:00:00+00:00",
          "2024-03-25T05:00:00+00:00",
          "2024-03-25T08:00:00+00:00",
          "2024-03-25T13:00:00+00:00",
          "2024-03-25T14:00:00+00:00",
          "2024-03-25T15:00:00+00:00",
          "2024-03-25T16:00:00+00:00",
          "2024-03-25T17:00:00+00:00",
          "2024-03-25T18:00:00+00:00",
          "2024-03-25T20:00:00+00:00",
          "2024-03-26T07:00:00+00:00",
          "2024-03-26T08:00:00+00:00",
          "2024-03-26T11:00:00+00:00",
          "2024-03-26T12:00:00+00:00",
          "2024-03-26T15:00:00+00:00",
          "2024-03-26T18:00:00+00:00",
          "2024-03-26T22:00:00+00:00",
          "2024-03-27T01:00:00+00:00",
          "2024-03-27T03:00:00+00:00",
          "2024-03-27T04:00:00+00:00",
          "2024-03-27T05:00:00+00:00",
          "2024-03-27T10:00:00+00:00",
          "2024-03-27T14:00:00+00:00",
          "2024-03-27T15:00:00+00:00",
          "2024-03-27T16:00:00+00:00",
          "2024-03-27T18:00:00+00:00",
          "2024-03-27T19:00:00+00:00",
          "2024-03-27T21:00:00+00:00",
          "2024-03-27T22:00:00+00:00",
          "2024-03-28T00:00:00+00:00",
          "2024-03-28T04:00:00+00:00",
          "2024-03-28T05:00:00+00:00",
          "2024-03-28T06:00:00+00:00",
          "2024-03-28T10:00:00+00:00",
          "2024-03-28T12:00:00+00:00",
          "2024-03-28T13:00:00+00:00",
          "2024-03-28T15:00:00+00:00",
          "2024-03-28T20:00:00+00:00",
          "2024-03-29T01:00:00+00:00",
          "2024-03-29T03:00:00+00:00",
          "2024-03-29T08:00:00+00:00",
          "2024-03-29T13:00:00+00:00",
          "2024-03-29T17:00:00+00:00",
          "2024-03-29T18:00:00+00:00",
          "2024-03-29T19:00:00+00:00",
          "2024-03-29T20:00:00+00:00",
          "2024-03-31T21:00:00+00:00",
          "2024-03-31T22:00:00+00:00",
          "2024-03-31T23:00:00+00:00",
          "2024-04-01T01:00:00+00:00",
          "2024-04-01T04:00:00+00:00",
          "2024-04-01T05:00:00+00:00",
          "2024-04-01T06:00:00+00:00",
          "2024-04-01T09:00:00+00:00",
          "2024-04-01T12:00:00+00:00",
          "2024-04-01T13:00:00+00:00",
          "2024-04-01T14:00:00+00:00",
          "2024-04-01T15:00:00+00:00",
          "2024-04-01T16:00:00+00:00",
          "2024-04-01T19:00:00+00:00",
          "2024-04-01T20:00:00+00:00",
          "2024-04-02T01:00:00+00:00",
          "2024-04-02T09:00:00+00:00",
          "2024-04-02T10:00:00+00:00",
          "2024-04-02T14:00:00+00:00",
          "2024-04-02T15:00:00+00:00",
          "2024-04-02T16:00:00+00:00",
          "2024-04-02T17:00:00+00:00",
          "2024-04-02T18:00:00+00:00",
          "2024-04-02T20:00:00+00:00",
          "2024-04-02T21:00:00+00:00",
          "2024-04-03T00:00:00+00:00",
          "2024-04-03T11:00:00+00:00",
          "2024-04-03T15:00:00+00:00",
          "2024-04-03T18:00:00+00:00",
          "2024-04-03T21:00:00+00:00",
          "2024-04-04T05:00:00+00:00",
          "2024-04-04T10:00:00+00:00",
          "2024-04-04T11:00:00+00:00",
          "2024-04-04T16:00:00+00:00",
          "2024-04-04T21:00:00+00:00",
          "2024-04-04T22:00:00+00:00",
          "2024-04-04T23:00:00+00:00",
          "2024-04-05T00:00:00+00:00",
          "2024-04-05T01:00:00+00:00",
          "2024-04-05T02:00:00+00:00",
          "2024-04-05T03:00:00+00:00",
          "2024-04-05T06:00:00+00:00",
          "2024-04-07T21:00:00+00:00",
          "2024-04-07T22:00:00+00:00",
          "2024-04-07T23:00:00+00:00",
          "2024-04-08T01:00:00+00:00",
          "2024-04-08T02:00:00+00:00",
          "2024-04-08T03:00:00+00:00",
          "2024-04-08T05:00:00+00:00",
          "2024-04-08T08:00:00+00:00",
          "2024-04-08T09:00:00+00:00",
          "2024-04-08T10:00:00+00:00",
          "2024-04-08T11:00:00+00:00",
          "2024-04-08T12:00:00+00:00",
          "2024-04-08T13:00:00+00:00",
          "2024-04-08T14:00:00+00:00",
          "2024-04-08T17:00:00+00:00",
          "2024-04-08T20:00:00+00:00",
          "2024-04-09T09:00:00+00:00",
          "2024-04-09T11:00:00+00:00",
          "2024-04-09T13:00:00+00:00",
          "2024-04-09T15:00:00+00:00",
          "2024-04-09T17:00:00+00:00",
          "2024-04-09T19:00:00+00:00",
          "2024-04-09T21:00:00+00:00",
          "2024-04-10T02:00:00+00:00",
          "2024-04-10T05:00:00+00:00",
          "2024-04-10T07:00:00+00:00",
          "2024-04-10T08:00:00+00:00",
          "2024-04-10T12:00:00+00:00",
          "2024-04-10T13:00:00+00:00",
          "2024-04-10T15:00:00+00:00",
          "2024-04-10T16:00:00+00:00",
          "2024-04-10T17:00:00+00:00",
          "2024-04-10T18:00:00+00:00",
          "2024-04-10T19:00:00+00:00",
          "2024-04-10T23:00:00+00:00",
          "2024-04-11T00:00:00+00:00",
          "2024-04-11T01:00:00+00:00",
          "2024-04-11T07:00:00+00:00",
          "2024-04-11T10:00:00+00:00",
          "2024-04-11T14:00:00+00:00",
          "2024-04-11T15:00:00+00:00",
          "2024-04-11T16:00:00+00:00",
          "2024-04-11T17:00:00+00:00",
          "2024-04-11T18:00:00+00:00",
          "2024-04-11T22:00:00+00:00",
          "2024-04-12T00:00:00+00:00",
          "2024-04-12T09:00:00+00:00",
          "2024-04-12T11:00:00+00:00",
          "2024-04-12T12:00:00+00:00",
          "2024-04-12T13:00:00+00:00",
          "2024-04-12T15:00:00+00:00",
          "2024-04-12T18:00:00+00:00",
          "2024-04-12T19:00:00+00:00",
          "2024-04-14T23:00:00+00:00",
          "2024-04-15T08:00:00+00:00",
          "2024-04-15T09:00:00+00:00",
          "2024-04-15T10:00:00+00:00",
          "2024-04-15T11:00:00+00:00",
          "2024-04-15T13:00:00+00:00",
          "2024-04-15T15:00:00+00:00",
          "2024-04-15T20:00:00+00:00",
          "2024-04-15T21:00:00+00:00",
          "2024-04-15T22:00:00+00:00",
          "2024-04-16T01:00:00+00:00",
          "2024-04-16T06:00:00+00:00",
          "2024-04-16T07:00:00+00:00",
          "2024-04-16T08:00:00+00:00",
          "2024-04-16T13:00:00+00:00",
          "2024-04-16T20:00:00+00:00",
          "2024-04-16T21:00:00+00:00",
          "2024-04-16T23:00:00+00:00",
          "2024-04-17T00:00:00+00:00",
          "2024-04-17T01:00:00+00:00",
          "2024-04-17T03:00:00+00:00",
          "2024-04-17T04:00:00+00:00",
          "2024-04-17T05:00:00+00:00",
          "2024-04-17T06:00:00+00:00",
          "2024-04-17T07:00:00+00:00",
          "2024-04-17T11:00:00+00:00",
          "2024-04-17T12:00:00+00:00",
          "2024-04-17T14:00:00+00:00",
          "2024-04-17T16:00:00+00:00",
          "2024-04-17T18:00:00+00:00",
          "2024-04-17T19:00:00+00:00",
          "2024-04-17T20:00:00+00:00",
          "2024-04-17T21:00:00+00:00",
          "2024-04-17T23:00:00+00:00",
          "2024-04-18T00:00:00+00:00",
          "2024-04-18T01:00:00+00:00",
          "2024-04-18T05:00:00+00:00",
          "2024-04-18T07:00:00+00:00",
          "2024-04-18T10:00:00+00:00",
          "2024-04-18T12:00:00+00:00",
          "2024-04-18T14:00:00+00:00",
          "2024-04-18T15:00:00+00:00",
          "2024-04-18T18:00:00+00:00",
          "2024-04-18T22:00:00+00:00",
          "2024-04-19T00:00:00+00:00",
          "2024-04-19T01:00:00+00:00",
          "2024-04-19T02:00:00+00:00",
          "2024-04-19T05:00:00+00:00",
          "2024-04-19T06:00:00+00:00",
          "2024-04-19T09:00:00+00:00",
          "2024-04-19T18:00:00+00:00",
          "2024-04-19T20:00:00+00:00",
          "2024-04-21T22:00:00+00:00",
          "2024-04-22T01:00:00+00:00",
          "2024-04-22T04:00:00+00:00",
          "2024-04-22T06:00:00+00:00",
          "2024-04-22T22:00:00+00:00",
          "2024-04-23T00:00:00+00:00",
          "2024-04-23T03:00:00+00:00",
          "2024-04-23T04:00:00+00:00",
          "2024-04-23T06:00:00+00:00",
          "2024-04-23T07:00:00+00:00",
          "2024-04-23T11:00:00+00:00",
          "2024-04-23T12:00:00+00:00",
          "2024-04-23T13:00:00+00:00",
          "2024-04-23T14:00:00+00:00",
          "2024-04-23T17:00:00+00:00",
          "2024-04-24T00:00:00+00:00",
          "2024-04-24T07:00:00+00:00",
          "2024-04-24T17:00:00+00:00",
          "2024-04-24T19:00:00+00:00",
          "2024-04-24T23:00:00+00:00",
          "2024-04-25T01:00:00+00:00",
          "2024-04-25T04:00:00+00:00",
          "2024-04-25T07:00:00+00:00",
          "2024-04-25T09:00:00+00:00",
          "2024-04-25T22:00:00+00:00",
          "2024-04-25T23:00:00+00:00",
          "2024-04-26T00:00:00+00:00",
          "2024-04-26T01:00:00+00:00",
          "2024-04-26T05:00:00+00:00",
          "2024-04-26T06:00:00+00:00",
          "2024-04-26T08:00:00+00:00",
          "2024-04-26T10:00:00+00:00",
          "2024-04-26T11:00:00+00:00",
          "2024-04-26T16:00:00+00:00",
          "2024-04-28T21:00:00+00:00",
          "2024-04-28T23:00:00+00:00",
          "2024-04-29T04:00:00+00:00",
          "2024-04-29T08:00:00+00:00",
          "2024-04-29T09:00:00+00:00",
          "2024-04-29T12:00:00+00:00",
          "2024-04-29T13:00:00+00:00",
          "2024-04-29T14:00:00+00:00",
          "2024-04-29T15:00:00+00:00",
          "2024-04-29T16:00:00+00:00",
          "2024-04-30T02:00:00+00:00",
          "2024-04-30T03:00:00+00:00",
          "2024-04-30T07:00:00+00:00",
          "2024-04-30T09:00:00+00:00",
          "2024-04-30T10:00:00+00:00",
          "2024-04-30T11:00:00+00:00",
          "2024-04-30T12:00:00+00:00",
          "2024-04-30T13:00:00+00:00",
          "2024-04-30T15:00:00+00:00",
          "2024-04-30T20:00:00+00:00",
          "2024-05-01T00:00:00+00:00",
          "2024-05-01T03:00:00+00:00",
          "2024-05-01T05:00:00+00:00",
          "2024-05-01T09:00:00+00:00",
          "2024-05-01T12:00:00+00:00",
          "2024-05-01T13:00:00+00:00",
          "2024-05-01T15:00:00+00:00",
          "2024-05-01T16:00:00+00:00",
          "2024-05-01T17:00:00+00:00",
          "2024-05-01T18:00:00+00:00",
          "2024-05-01T19:00:00+00:00",
          "2024-05-01T20:00:00+00:00",
          "2024-05-01T21:00:00+00:00",
          "2024-05-02T00:00:00+00:00",
          "2024-05-02T01:00:00+00:00",
          "2024-05-02T04:00:00+00:00",
          "2024-05-02T07:00:00+00:00",
          "2024-05-02T10:00:00+00:00",
          "2024-05-02T11:00:00+00:00",
          "2024-05-02T13:00:00+00:00",
          "2024-05-03T04:00:00+00:00",
          "2024-05-03T10:00:00+00:00",
          "2024-05-03T13:00:00+00:00",
          "2024-05-03T15:00:00+00:00",
          "2024-05-03T18:00:00+00:00",
          "2024-05-03T20:00:00+00:00",
          "2024-05-06T04:00:00+00:00",
          "2024-05-06T05:00:00+00:00",
          "2024-05-06T11:00:00+00:00",
          "2024-05-06T13:00:00+00:00",
          "2024-05-06T15:00:00+00:00",
          "2024-05-06T16:00:00+00:00",
          "2024-05-06T18:00:00+00:00",
          "2024-05-06T19:00:00+00:00",
          "2024-05-06T20:00:00+00:00",
          "2024-05-07T00:00:00+00:00",
          "2024-05-07T01:00:00+00:00",
          "2024-05-07T04:00:00+00:00",
          "2024-05-07T06:00:00+00:00",
          "2024-05-07T12:00:00+00:00",
          "2024-05-07T14:00:00+00:00",
          "2024-05-07T17:00:00+00:00",
          "2024-05-07T21:00:00+00:00",
          "2024-05-08T00:00:00+00:00",
          "2024-05-08T02:00:00+00:00",
          "2024-05-08T03:00:00+00:00",
          "2024-05-08T08:00:00+00:00",
          "2024-05-08T11:00:00+00:00",
          "2024-05-08T14:00:00+00:00",
          "2024-05-08T19:00:00+00:00",
          "2024-05-08T21:00:00+00:00",
          "2024-05-08T22:00:00+00:00",
          "2024-05-09T00:00:00+00:00",
          "2024-05-09T01:00:00+00:00",
          "2024-05-09T03:00:00+00:00",
          "2024-05-09T09:00:00+00:00",
          "2024-05-09T16:00:00+00:00",
          "2024-05-09T17:00:00+00:00",
          "2024-05-09T18:00:00+00:00",
          "2024-05-09T19:00:00+00:00",
          "2024-05-10T03:00:00+00:00",
          "2024-05-10T05:00:00+00:00",
          "2024-05-10T10:00:00+00:00",
          "2024-05-10T11:00:00+00:00",
          "2024-05-10T12:00:00+00:00",
          "2024-05-10T13:00:00+00:00",
          "2024-05-10T14:00:00+00:00",
          "2024-05-10T15:00:00+00:00",
          "2024-05-10T16:00:00+00:00",
          "2024-05-12T21:00:00+00:00",
          "2024-05-13T04:00:00+00:00",
          "2024-05-13T06:00:00+00:00",
          "2024-05-13T10:00:00+00:00",
          "2024-05-13T12:00:00+00:00",
          "2024-05-13T15:00:00+00:00",
          "2024-05-13T17:00:00+00:00",
          "2024-05-13T19:00:00+00:00",
          "2024-05-13T20:00:00+00:00",
          "2024-05-13T22:00:00+00:00",
          "2024-05-14T08:00:00+00:00",
          "2024-05-14T12:00:00+00:00",
          "2024-05-14T16:00:00+00:00",
          "2024-05-14T18:00:00+00:00",
          "2024-05-14T20:00:00+00:00",
          "2024-05-14T21:00:00+00:00",
          "2024-05-14T23:00:00+00:00",
          "2024-05-15T00:00:00+00:00",
          "2024-05-15T04:00:00+00:00",
          "2024-05-15T09:00:00+00:00",
          "2024-05-15T11:00:00+00:00",
          "2024-05-15T12:00:00+00:00",
          "2024-05-15T14:00:00+00:00",
          "2024-05-16T07:00:00+00:00",
          "2024-05-16T08:00:00+00:00",
          "2024-05-16T13:00:00+00:00",
          "2024-05-16T16:00:00+00:00",
          "2024-05-16T17:00:00+00:00",
          "2024-05-16T18:00:00+00:00",
          "2024-05-16T19:00:00+00:00",
          "2024-05-16T21:00:00+00:00",
          "2024-05-16T22:00:00+00:00",
          "2024-05-16T23:00:00+00:00",
          "2024-05-17T00:00:00+00:00",
          "2024-05-17T01:00:00+00:00",
          "2024-05-17T15:00:00+00:00",
          "2024-05-17T18:00:00+00:00",
          "2024-05-20T03:00:00+00:00",
          "2024-05-20T11:00:00+00:00",
          "2024-05-20T12:00:00+00:00",
          "2024-05-20T14:00:00+00:00",
          "2024-05-20T18:00:00+00:00",
          "2024-05-20T19:00:00+00:00",
          "2024-05-20T22:00:00+00:00",
          "2024-05-21T01:00:00+00:00",
          "2024-05-21T03:00:00+00:00",
          "2024-05-21T04:00:00+00:00",
          "2024-05-21T05:00:00+00:00",
          "2024-05-21T06:00:00+00:00",
          "2024-05-21T07:00:00+00:00",
          "2024-05-21T12:00:00+00:00",
          "2024-05-21T16:00:00+00:00",
          "2024-05-21T18:00:00+00:00",
          "2024-05-21T19:00:00+00:00",
          "2024-05-21T20:00:00+00:00",
          "2024-05-21T21:00:00+00:00",
          "2024-05-22T03:00:00+00:00",
          "2024-05-22T05:00:00+00:00",
          "2024-05-22T06:00:00+00:00",
          "2024-05-22T07:00:00+00:00",
          "2024-05-22T10:00:00+00:00",
          "2024-05-22T18:00:00+00:00",
          "2024-05-22T20:00:00+00:00",
          "2024-05-22T22:00:00+00:00",
          "2024-05-22T23:00:00+00:00",
          "2024-05-23T07:00:00+00:00",
          "2024-05-23T08:00:00+00:00",
          "2024-05-23T09:00:00+00:00",
          "2024-05-23T10:00:00+00:00",
          "2024-05-23T11:00:00+00:00",
          "2024-05-23T13:00:00+00:00",
          "2024-05-23T14:00:00+00:00",
          "2024-05-23T22:00:00+00:00",
          "2024-05-24T00:00:00+00:00",
          "2024-05-24T02:00:00+00:00",
          "2024-05-24T04:00:00+00:00",
          "2024-05-24T05:00:00+00:00",
          "2024-05-24T11:00:00+00:00",
          "2024-05-24T13:00:00+00:00",
          "2024-05-24T14:00:00+00:00",
          "2024-05-24T15:00:00+00:00",
          "2024-05-24T16:00:00+00:00",
          "2024-05-24T17:00:00+00:00",
          "2024-05-24T19:00:00+00:00",
          "2024-05-24T20:00:00+00:00",
          "2024-05-26T21:00:00+00:00",
          "2024-05-26T23:00:00+00:00",
          "2024-05-27T02:00:00+00:00",
          "2024-05-27T09:00:00+00:00",
          "2024-05-27T14:00:00+00:00",
          "2024-05-27T18:00:00+00:00",
          "2024-05-27T19:00:00+00:00",
          "2024-05-27T23:00:00+00:00",
          "2024-05-28T02:00:00+00:00",
          "2024-05-28T08:00:00+00:00",
          "2024-05-28T10:00:00+00:00",
          "2024-05-28T11:00:00+00:00",
          "2024-05-28T13:00:00+00:00",
          "2024-05-28T15:00:00+00:00",
          "2024-05-28T17:00:00+00:00",
          "2024-05-28T21:00:00+00:00",
          "2024-05-28T23:00:00+00:00",
          "2024-05-29T01:00:00+00:00",
          "2024-05-29T08:00:00+00:00",
          "2024-05-29T11:00:00+00:00",
          "2024-05-29T12:00:00+00:00",
          "2024-05-29T13:00:00+00:00",
          "2024-05-29T14:00:00+00:00",
          "2024-05-29T20:00:00+00:00",
          "2024-05-29T21:00:00+00:00",
          "2024-05-29T22:00:00+00:00",
          "2024-05-30T01:00:00+00:00",
          "2024-05-30T03:00:00+00:00",
          "2024-05-30T04:00:00+00:00",
          "2024-05-30T05:00:00+00:00",
          "2024-05-30T07:00:00+00:00",
          "2024-05-30T09:00:00+00:00",
          "2024-05-30T11:00:00+00:00",
          "2024-05-30T12:00:00+00:00",
          "2024-05-30T21:00:00+00:00",
          "2024-05-30T23:00:00+00:00",
          "2024-05-31T02:00:00+00:00",
          "2024-05-31T03:00:00+00:00",
          "2024-05-31T04:00:00+00:00",
          "2024-05-31T05:00:00+00:00",
          "2024-05-31T12:00:00+00:00",
          "2024-05-31T15:00:00+00:00",
          "2024-05-31T18:00:00+00:00",
          "2024-05-31T19:00:00+00:00",
          "2024-05-31T20:00:00+00:00",
          "2024-06-02T21:00:00+00:00",
          "2024-06-02T23:00:00+00:00",
          "2024-06-03T01:00:00+00:00",
          "2024-06-03T03:00:00+00:00",
          "2024-06-03T05:00:00+00:00",
          "2024-06-03T06:00:00+00:00",
          "2024-06-03T07:00:00+00:00",
          "2024-06-03T08:00:00+00:00",
          "2024-06-03T09:00:00+00:00",
          "2024-06-03T13:00:00+00:00",
          "2024-06-03T14:00:00+00:00",
          "2024-06-03T15:00:00+00:00",
          "2024-06-03T17:00:00+00:00",
          "2024-06-03T18:00:00+00:00",
          "2024-06-03T20:00:00+00:00",
          "2024-06-03T23:00:00+00:00",
          "2024-06-04T03:00:00+00:00",
          "2024-06-04T09:00:00+00:00",
          "2024-06-04T10:00:00+00:00",
          "2024-06-04T12:00:00+00:00",
          "2024-06-04T15:00:00+00:00",
          "2024-06-04T19:00:00+00:00",
          "2024-06-04T21:00:00+00:00",
          "2024-06-05T04:00:00+00:00",
          "2024-06-05T07:00:00+00:00",
          "2024-06-05T09:00:00+00:00",
          "2024-06-05T10:00:00+00:00",
          "2024-06-05T12:00:00+00:00",
          "2024-06-05T14:00:00+00:00",
          "2024-06-06T08:00:00+00:00",
          "2024-06-06T09:00:00+00:00",
          "2024-06-06T10:00:00+00:00",
          "2024-06-06T11:00:00+00:00",
          "2024-06-06T12:00:00+00:00",
          "2024-06-06T13:00:00+00:00",
          "2024-06-06T14:00:00+00:00",
          "2024-06-06T15:00:00+00:00",
          "2024-06-06T16:00:00+00:00",
          "2024-06-06T17:00:00+00:00",
          "2024-06-06T21:00:00+00:00",
          "2024-06-06T23:00:00+00:00",
          "2024-06-07T01:00:00+00:00",
          "2024-06-07T02:00:00+00:00",
          "2024-06-07T04:00:00+00:00",
          "2024-06-07T05:00:00+00:00",
          "2024-06-07T06:00:00+00:00",
          "2024-06-07T09:00:00+00:00",
          "2024-06-07T11:00:00+00:00",
          "2024-06-07T12:00:00+00:00",
          "2024-06-07T15:00:00+00:00",
          "2024-06-07T16:00:00+00:00",
          "2024-06-07T17:00:00+00:00",
          "2024-06-09T22:00:00+00:00",
          "2024-06-09T23:00:00+00:00",
          "2024-06-10T14:00:00+00:00",
          "2024-06-10T18:00:00+00:00",
          "2024-06-11T03:00:00+00:00",
          "2024-06-11T05:00:00+00:00",
          "2024-06-11T06:00:00+00:00",
          "2024-06-11T09:00:00+00:00",
          "2024-06-11T10:00:00+00:00",
          "2024-06-11T11:00:00+00:00",
          "2024-06-11T13:00:00+00:00",
          "2024-06-11T15:00:00+00:00",
          "2024-06-11T18:00:00+00:00",
          "2024-06-11T19:00:00+00:00",
          "2024-06-11T20:00:00+00:00",
          "2024-06-11T23:00:00+00:00",
          "2024-06-12T03:00:00+00:00"
         ],
         "y": [
          6.100000000001415,
          1.200000000001511,
          -41.19999999999915,
          -58.19999999999932,
          -59.29999999999987,
          -66.70000000000061,
          -15.800000000000445,
          -2.299999999999578,
          -41.1000000000017,
          -49.00000000000172,
          -40.50000000000155,
          -136.70000000000118,
          -143.7000000000005,
          -153.40000000000077,
          -197.00000000000006,
          -234.40000000000134,
          -312.00000000000233,
          -325.20000000000334,
          -382.8000000000032,
          -385.0000000000032,
          -390.8000000000034,
          -391.60000000000423,
          -394.8000000000041,
          -394.50000000000324,
          -448.90000000000435,
          -461.80000000000484,
          -491.4000000000056,
          -437.10000000000394,
          -398.8000000000046,
          -388.1000000000056,
          -302.10000000000616,
          -208.20000000000687,
          -138.0000000000066,
          -183.50000000000784,
          -187.7000000000076,
          -179.40000000000762,
          -160.90000000001024,
          -126.70000000000894,
          -151.60000000000989,
          -221.5000000000115,
          -301.2000000000096,
          -315.30000000000985,
          -377.10000000000616,
          -360.00000000000625,
          -399.4000000000068,
          -443.70000000000755,
          -313.00000000000875,
          -292.3000000000094,
          -328.60000000000963,
          -136.10000000000957,
          -215.7000000000095,
          -257.9000000000092,
          -226.40000000000657,
          -235.0000000000074,
          -274.3000000000073,
          -266.3000000000059,
          -174.90000000000552,
          -219.30000000000436,
          -233.10000000000346,
          -355.9000000000043,
          -371.7000000000057,
          -226.40000000000634,
          -126.30000000000587,
          -163.600000000006,
          -228.4000000000064,
          -305.600000000007,
          -344.9000000000071,
          -263.50000000000495,
          -242.10000000000463,
          -372.50000000000404,
          -375.20000000000414,
          -384.40000000000447,
          -225.70000000000556,
          -180.40000000000634,
          -186.50000000000705,
          -280.3000000000065,
          -365.3000000000071,
          -414.50000000000745,
          -453.4000000000047,
          -426.7000000000052,
          -411.20000000000584,
          -487.6000000000045,
          -510.10000000000423,
          -507.10000000000457,
          -451.8000000000042,
          -438.20000000000294,
          -300.2000000000034,
          -305.80000000000314,
          -297.20000000000454,
          -247.80000000000285,
          -243.4000000000029,
          -234.70000000000258,
          -235.20000000000252,
          -170.8000000000025,
          -140.40000000000302,
          -162.60000000000386,
          -176.40000000000322,
          -192.3000000000024,
          -236.40000000000043,
          -310.80000000000047,
          -257.3000000000008,
          -388.9999999999985,
          -412.1999999999984,
          -440.1999999999986,
          -518.7999999999984,
          -547.399999999998,
          -506.0999999999984,
          -561.2999999999977,
          -665.5999999999992,
          -769.4999999999982,
          -902.999999999998,
          -933.9999999999978,
          -978.6999999999981,
          -968.6999999999981,
          -991.1999999999967,
          -1022.5999999999973,
          -1033.5999999999983,
          -1076.9999999999973,
          -1182.3999999999983,
          -1269.3999999999976,
          -1282.199999999997,
          -1328.199999999998,
          -1356.5999999999972,
          -1372.5999999999967,
          -1371.7999999999959,
          -1440.1999999999955,
          -1439.599999999995,
          -1441.799999999995,
          -1358.3999999999949,
          -1175.5999999999945,
          -1097.2999999999945,
          -949.6999999999964,
          -951.499999999996,
          -675.699999999995,
          -558.3999999999949,
          -575.999999999995,
          -552.3999999999936,
          -555.499999999994,
          -653.5999999999949,
          -579.7999999999955,
          -609.8999999999958,
          -623.2999999999959,
          -558.4999999999962,
          -574.5999999999963,
          -581.0999999999966,
          -437.6999999999987,
          -495.3999999999985,
          -501.59999999999917,
          -446.999999999999,
          -560.1999999999989,
          -613.4999999999994,
          -420.0999999999997,
          -412.4000000000003,
          -423.50000000000085,
          -407.40000000000197,
          -197.80000000000337,
          -130.10000000000394,
          -6.400000000005448,
          -37.900000000005306,
          187.59999999999422,
          186.99999999999474,
          175.0999999999945,
          171.3999999999947,
          137.1999999999949,
          118.79999999999427,
          122.39999999999343,
          120.39999999999364,
          111.29999999999397,
          85.4999999999937,
          67.39999999999281,
          43.59999999999455,
          117.69999999999149,
          213.79999999999157,
          349.69999999998925,
          390.89999999998827,
          343.4999999999893,
          267.5999999999907,
          247.39999999999088,
          228.7999999999916,
          228.5999999999914,
          222.79999999999117,
          252.1999999999906,
          381.49999999999125,
          419.19999999999175,
          413.0999999999917,
          596.0999999999901,
          715.499999999989,
          813.4999999999858,
          823.8999999999862,
          840.4999999999861,
          911.4999999999869,
          831.699999999986,
          821.0999999999854,
          806.0999999999859,
          791.8999999999851,
          786.799999999985,
          729.6999999999839,
          766.6999999999821,
          783.8999999999816,
          786.1999999999822,
          787.499999999983,
          853.599999999983,
          901.5999999999843,
          846.9999999999841,
          848.0999999999824,
          844.1999999999824,
          840.7999999999823,
          831.1999999999816,
          823.3999999999816,
          813.5999999999817,
          751.2999999999821,
          723.499999999982,
          706.9999999999827,
          703.5999999999826,
          671.9999999999822,
          649.1999999999815,
          594.6999999999831,
          691.699999999983,
          673.2999999999827,
          828.5999999999824,
          899.7999999999809,
          876.1999999999816,
          1254.3999999999812,
          1258.1999999999816,
          1241.4999999999832,
          1237.9999999999825,
          1191.799999999983,
          1193.9999999999818,
          1187.2999999999802,
          1114.399999999981,
          1095.8999999999808,
          1177.0999999999808,
          1147.0999999999797,
          1124.4999999999804,
          1153.899999999981,
          1138.6999999999814,
          1228.499999999979,
          1209.4999999999798,
          1380.89999999998,
          1421.1999999999798,
          1415.5999999999785,
          1480.2999999999806,
          1464.6999999999805,
          1376.3999999999805,
          1622.199999999981,
          1701.5999999999815,
          1778.4999999999811,
          1788.599999999981,
          1743.8999999999808,
          1716.4999999999811,
          1700.899999999981,
          1641.3999999999783,
          1616.1999999999775,
          1598.999999999977,
          1516.8999999999774,
          1476.499999999979,
          1619.5999999999804,
          1653.1999999999816,
          1788.6999999999807,
          1839.3999999999799,
          1843.59999999998,
          1814.9999999999802,
          1808.19999999998,
          1777.3999999999803,
          1770.7999999999804,
          1748.5999999999804,
          1758.499999999981,
          1743.2999999999802,
          1713.6999999999816,
          1530.0999999999813,
          1485.799999999982,
          1494.599999999982,
          1493.399999999982,
          1457.7999999999824,
          1394.9999999999839,
          1368.6999999999853,
          1419.8999999999853,
          1455.2999999999838,
          1743.8999999999862,
          1649.8999999999855,
          1648.3999999999846,
          1605.2999999999863,
          1621.8999999999862,
          1634.0999999999863,
          1557.6999999999875,
          1576.3999999999878,
          1510.999999999989,
          1461.3999999999883,
          1406.9999999999873,
          1355.7999999999872,
          1280.0999999999867,
          1269.8999999999864,
          1598.8999999999885,
          1598.4999999999882,
          1597.1999999999875,
          1573.6999999999869,
          1705.8999999999858,
          1769.8999999999844,
          2091.099999999983,
          2008.199999999984,
          1916.999999999986,
          1897.3999999999862,
          1882.899999999989,
          1825.1999999999884,
          1821.6999999999878,
          1667.3999999999894,
          1696.3999999999896,
          1694.3999999999899,
          1709.4999999999911,
          1704.8999999999921,
          1733.0999999999926,
          1796.1999999999925,
          1793.399999999993,
          2078.899999999994,
          2057.299999999994,
          2103.6999999999935,
          2054.499999999993,
          2022.3999999999937,
          1989.199999999994,
          1929.7999999999934,
          1934.999999999994,
          1909.3999999999928,
          1866.6999999999928,
          1875.699999999994,
          1916.8999999999928,
          1883.0999999999935,
          1894.1999999999941,
          1869.7999999999943,
          1868.5999999999942,
          1881.099999999995,
          1852.9999999999934,
          1965.7999999999934,
          1897.9999999999932,
          1889.7999999999938,
          1854.1999999999937,
          1854.7999999999943,
          1725.799999999993,
          1716.999999999993,
          1587.8999999999933,
          1499.4999999999936,
          1460.7999999999936,
          1578.8999999999946,
          1419.999999999994,
          1379.7999999999927,
          1403.0999999999933,
          1542.499999999994,
          1537.2999999999934,
          1331.4999999999907,
          1332.5999999999913,
          1197.999999999991,
          1136.6999999999912,
          1090.6999999999896,
          1136.2999999999886,
          1107.899999999987,
          1095.5999999999863,
          819.7999999999847,
          804.6999999999846,
          697.1999999999862,
          519.999999999987,
          662.2999999999872,
          580.7999999999874,
          729.3999999999864,
          742.5999999999864,
          755.3999999999859,
          783.9999999999856,
          614.199999999986,
          738.6999999999833,
          612.0999999999835,
          600.2999999999839,
          581.999999999984,
          749.099999999986,
          865.4999999999848,
          938.4999999999837,
          954.6999999999844,
          884.6999999999844,
          869.9999999999847,
          872.5999999999839,
          771.7999999999852,
          769.5999999999852,
          711.4999999999854,
          719.9999999999857,
          694.1999999999854,
          768.7999999999868,
          841.699999999987,
          883.0999999999851,
          982.2999999999842,
          1022.2999999999847,
          1061.0999999999854,
          1055.5999999999876,
          1047.3999999999883,
          1076.5999999999885,
          1057.8999999999892,
          1051.4999999999895,
          1017.9999999999899,
          946.1999999999891,
          935.999999999989,
          926.2999999999876,
          912.299999999988,
          903.4999999999881,
          865.2999999999887,
          862.3999999999891,
          941.1999999999902,
          923.5999999999904,
          918.5999999999909,
          912.7999999999906,
          925.6999999999925,
          908.5999999999915,
          883.6999999999905,
          867.8999999999892,
          858.6999999999889,
          844.3999999999885,
          846.699999999988,
          842.4999999999883,
          844.8999999999885,
          830.899999999989,
          822.5999999999879,
          832.799999999988,
          686.0999999999896,
          826.0999999999874,
          822.3999999999899,
          909.8999999999902,
          965.6999999999905,
          955.099999999991,
          1038.3999999999905,
          910.0999999999916,
          853.4999999999906,
          856.1999999999905,
          907.5999999999915,
          905.699999999991,
          949.1999999999912,
          936.2999999999911,
          935.6999999999905,
          900.3999999999902,
          921.7999999999905,
          986.4999999999902,
          822.99999999999,
          805.1999999999899,
          740.9999999999901,
          675.6999999999896,
          638.8999999999901,
          589.5999999999901,
          533.6999999999881,
          555.4999999999877,
          374.0999999999856,
          241.59999999998672,
          202.89999999998633,
          82.89999999998513,
          134.29999999998657,
          121.59999999998664,
          173.89999999998304,
          203.29999999998205,
          210.39999999998193,
          120.3999999999842,
          126.49999999998668,
          107.9999999999865,
          36.19999999998686,
          -5.900000000013613,
          -54.70000000001357,
          -122.80000000001348,
          -139.40000000001342,
          -160.00000000001404,
          -157.2000000000179,
          -82.4000000000209,
          -107.40000000002146,
          -111.30000000002148,
          -114.70000000002156,
          -133.40000000002195,
          -125.50000000002126,
          -94.4000000000218,
          727.599999999976,
          832.2999999999757,
          824.199999999976,
          832.9999999999759,
          788.3999999999758,
          790.799999999976,
          780.7999999999771,
          740.3999999999767,
          747.7999999999763,
          742.0999999999756,
          712.6999999999739,
          571.2999999999735,
          530.4999999999737,
          518.8999999999733,
          459.699999999974,
          455.1999999999734,
          450.9999999999736,
          444.8999999999736,
          396.89999999997445,
          391.899999999975,
          411.5999999999753,
          412.69999999997475,
          402.9999999999734,
          377.2999999999738,
          320.4999999999725,
          346.49999999997186,
          250.09999999997095,
          246.19999999997094,
          223.19999999997125,
          221.39999999997167,
          248.89999999996783,
          247.1999999999678,
          257.4999999999686,
          235.09999999996683,
          150.59999999996836,
          127.99999999996908,
          115.99999999996929,
          99.99999999996884,
          86.79999999996896,
          35.599999999968915,
          12.99999999996852,
          -27.600000000031006,
          -61.400000000031184,
          -93.6000000000312,
          -221.30000000003272,
          -230.4000000000335,
          -293.20000000003495,
          -265.9000000000348,
          -263.2000000000349,
          -219.80000000003514,
          -224.3000000000353,
          -253.20000000003546,
          -93.70000000003654,
          -49.3000000000377,
          91.89999999996292,
          159.79999999996312,
          186.6999999999617,
          217.89999999996184,
          215.89999999996206,
          200.39999999996155,
          167.4999999999603,
          170.19999999996023,
          197.39999999996078,
          191.39999999996144,
          188.19999999996156,
          185.79999999996147,
          182.19999999996134,
          189.99999999996163,
          101.2999999999623,
          121.299999999964,
          85.89999999996525,
          32.1999999999665,
          -1.1000000000340506,
          -99.40000000003411,
          -131.4000000000328,
          -151.70000000003256,
          -147.3000000000326,
          -150.9000000000329,
          -211.40000000003178,
          -199.30000000003133,
          241.49999999996982,
          247.9999999999691,
          349.69999999996924,
          295.8999999999682,
          278.399999999968,
          305.59999999996955,
          380.79999999996926,
          293.4999999999674,
          128.59999999996649,
          235.19999999996674,
          176.99999999996737,
          137.29999999996824,
          237.4999999999692,
          427.09999999996785,
          398.7999999999709,
          393.19999999997196,
          423.3999999999722,
          536.7999999999735,
          623.9999999999741,
          600.899999999976,
          561.2999999999763,
          563.6999999999765,
          568.6999999999776,
          531.6999999999795,
          497.3999999999812,
          495.19999999998237,
          427.5999999999836,
          394.29999999998375,
          262.69999999998214,
          255.4999999999833,
          256.4999999999824,
          203.9999999999826,
          199.39999999998355,
          122.89999999998207,
          117.29999999998091,
          98.29999999998078,
          90.7999999999805,
          83.79999999997976,
          80.29999999997762,
          70.69999999997911,
          51.69999999997934,
          12.49999999997975,
          19.69999999998029,
          18.399999999979766,
          17.599999999978788,
          9.599999999978515,
          29.899999999978277,
          100.19999999997697,
          120.09999999997535,
          109.09999999997541,
          100.09999999997419,
          99.19999999997384,
          134.59999999997308,
          117.39999999997364,
          66.79999999997301,
          17.19999999997492,
          28.79999999997542,
          29.599999999976397,
          16.899999999976465,
          57.89999999997639,
          -28.200000000023493,
          -52.60000000002347,
          -146.2000000000238,
          -251.80000000002184,
          -227.1000000000221,
          -213.10000000002142,
          -230.50000000002223,
          -251.50000000002214,
          -367.80000000002485,
          -413.60000000002753,
          -441.60000000002776,
          -455.20000000002733,
          -477.2000000000271,
          -570.0000000000266,
          -604.0000000000273,
          -670.2000000000279,
          -693.3000000000274,
          -711.1000000000271,
          -843.3000000000294,
          -881.8000000000292,
          -810.6000000000315,
          -873.200000000032,
          -847.0000000000314,
          -900.6000000000315,
          -906.3000000000318,
          -851.7000000000315,
          -907.1000000000304,
          -911.7000000000305,
          -1070.3000000000309,
          -1035.3000000000302,
          -1105.50000000003,
          -1128.0000000000298,
          -1115.6000000000304,
          -1111.7000000000291,
          -1057.300000000028,
          -1014.9000000000254,
          -1009.5000000000256,
          -995.2000000000254,
          -986.2000000000253,
          -979.2000000000261,
          -1057.6000000000267,
          -1090.1000000000265,
          -1099.9000000000274,
          -1093.6000000000272,
          -1175.800000000026,
          -1251.3000000000277,
          -1288.3000000000281,
          -1386.8000000000288,
          -1371.0000000000298,
          -1366.3000000000302,
          -1472.40000000003,
          -1457.3000000000304,
          -1490.2000000000305,
          -1486.4000000000312,
          -1484.3000000000327,
          -1456.900000000033,
          -1475.9000000000333,
          -1582.8000000000327,
          -1670.200000000032,
          -1704.8000000000322,
          -1691.2000000000319,
          -1661.5000000000327,
          -1670.3000000000327,
          -1689.100000000036,
          -1744.9000000000374,
          -1777.7000000000369,
          -1786.2000000000348,
          -1826.8000000000343,
          -1872.8000000000336,
          -1927.6000000000352,
          -1932.3000000000347,
          -1957.3000000000343,
          -1956.3000000000343,
          -1959.000000000033,
          -1948.5000000000339,
          -2002.1000000000338,
          -2034.8000000000338,
          -2040.7000000000337,
          -2121.900000000035,
          -2204.2000000000357,
          -2209.100000000036,
          -2224.2000000000357,
          -2345.6000000000386,
          -2355.500000000039,
          -2360.900000000039,
          -2368.3000000000375,
          -2279.200000000039,
          -2236.100000000037,
          -2181.2000000000394,
          -2199.000000000039,
          -2172.6000000000395,
          -2182.8000000000384,
          -2206.1000000000377,
          -2253.2000000000376,
          -2278.4000000000387,
          -2283.0000000000377,
          -2193.600000000038,
          -2188.2000000000385,
          -2208.7000000000376,
          -2293.900000000036,
          -2336.400000000037,
          -2355.700000000038,
          -2373.000000000038,
          -2334.9000000000383,
          -2199.50000000004,
          -2119.5000000000405,
          -1970.7000000000405,
          -1991.0000000000402,
          -2015.40000000004,
          -2067.80000000004,
          -2066.8000000000384,
          -2158.800000000037,
          -2196.8000000000384,
          -2197.8000000000384,
          -2176.4000000000383,
          -2165.5000000000346,
          -2070.500000000034,
          -2069.8000000000316,
          -2139.9000000000333,
          -2145.500000000033,
          -2165.1000000000345,
          -2187.5000000000346,
          -2203.700000000034,
          -2171.1000000000336,
          -2201.4000000000347,
          -2245.900000000037,
          -2236.600000000037,
          -2230.2000000000376,
          -2210.400000000038,
          -2315.000000000039,
          -2315.600000000039,
          -2383.900000000038,
          -2403.5000000000373,
          -2332.000000000037,
          -2330.4000000000365,
          -2378.5000000000364,
          -2430.7000000000376,
          -2496.3000000000366,
          -2471.100000000036,
          -2474.300000000037,
          -2495.300000000037,
          -2515.200000000036,
          -2507.000000000037,
          -2507.7000000000357,
          -2521.0000000000364,
          -2543.7000000000367,
          -2574.7000000000376,
          -2559.700000000037,
          -2541.7000000000367,
          -2535.9000000000374,
          -2495.9000000000374,
          -2514.2000000000367,
          -2513.300000000036,
          -2605.300000000034,
          -2623.7000000000344,
          -2669.0000000000346,
          -2679.900000000035,
          -2721.1000000000363,
          -2773.600000000034,
          -2827.9000000000347,
          -2893.500000000035,
          -2921.300000000035,
          -2760.300000000035,
          -2811.2000000000367,
          -2810.300000000035,
          -2891.500000000036,
          -2891.700000000036,
          -2950.300000000034,
          -2928.4000000000337,
          -2902.700000000032,
          -2859.2000000000326,
          -2620.6000000000304,
          -2560.8000000000316,
          -2560.200000000033,
          -2572.200000000033,
          -2622.800000000033,
          -2651.800000000032,
          -2651.1000000000317,
          -2676.500000000031,
          -2678.000000000031,
          -2674.900000000033,
          -2620.0000000000327,
          -2505.200000000033,
          -2553.3000000000325,
          -2566.7000000000317,
          -2426.2000000000317,
          -2447.700000000032,
          -2395.300000000033,
          -2371.900000000033,
          -2411.6000000000336,
          -2443.600000000033,
          -2442.600000000033,
          -2434.8000000000343,
          -2391.300000000034,
          -2443.9000000000333,
          -2425.700000000034,
          -2410.000000000034,
          -2443.200000000036,
          -2458.7000000000367,
          -2468.0000000000364,
          -2465.400000000035,
          -2464.1000000000354,
          -2465.3000000000357,
          -2474.3000000000357,
          -2469.2000000000357,
          -2429.800000000035,
          -2405.6000000000386,
          -2420.100000000039,
          -2420.3000000000393,
          -2363.4000000000397,
          -2346.5000000000414,
          -2221.500000000044,
          -2226.3000000000443,
          -2247.9000000000424,
          -2252.1000000000427,
          -2215.9000000000433,
          -2091.9000000000437,
          -2105.400000000043,
          -2028.7000000000412,
          -2086.80000000004,
          -2157.100000000041,
          -2154.2000000000407,
          -2150.00000000004,
          -2170.7000000000394,
          -2205.1000000000386,
          -2266.2000000000376,
          -2282.9000000000365,
          -2301.2000000000357,
          -2309.400000000036,
          -2202.6000000000363,
          -2232.400000000036,
          -2239.6000000000367,
          -2269.400000000034,
          -2226.2000000000326,
          -2251.700000000033,
          -2261.700000000033,
          -2265.3000000000334,
          -2275.7000000000326,
          -2310.700000000033,
          -2715.900000000034,
          -2762.600000000031,
          -2747.200000000032,
          -2753.7000000000317,
          -2758.6000000000317,
          -2724.7000000000317,
          -2732.400000000031,
          -2823.90000000003,
          -2867.9000000000296,
          -2818.300000000029,
          -2835.500000000028,
          -2842.5000000000273,
          -2814.6000000000267,
          -2863.5000000000286,
          -2887.6000000000267,
          -2884.8000000000284,
          -2881.6000000000295,
          -2903.8000000000306,
          -2905.000000000031,
          -2904.400000000031,
          -2912.50000000003,
          -2875.1000000000304,
          -2874.1000000000304,
          -2773.900000000031,
          -2760.00000000003,
          -2720.6000000000317,
          -2654.200000000032,
          -2663.30000000003,
          -2710.90000000003,
          -2719.90000000003,
          -2776.300000000031,
          -2838.8000000000306,
          -2877.3000000000297,
          -2911.600000000031,
          -2903.6000000000317,
          -2925.500000000032,
          -2937.100000000032,
          -2957.0000000000314,
          -2815.800000000034,
          -2819.3000000000347,
          -2835.3000000000343,
          -2819.6000000000345,
          -2831.700000000034,
          -2735.900000000034,
          -2605.3000000000357,
          -2620.7000000000353,
          -2652.1000000000354,
          -2641.000000000035,
          -2548.2000000000353,
          -2583.400000000035,
          -2568.100000000035,
          -2505.200000000035,
          -2508.300000000035,
          -2517.400000000036,
          -2566.6000000000363,
          -2578.700000000038,
          -2571.100000000037,
          -2648.5000000000373,
          -2661.9000000000383,
          -2685.700000000038,
          -2705.600000000037,
          -2680.9000000000374,
          -2687.0000000000373,
          -2660.700000000038,
          -2654.600000000038,
          -2674.800000000038,
          -2714.6000000000404,
          -2921.1000000000427,
          -2996.7000000000417,
          -3036.900000000042,
          -3036.5000000000414,
          -3103.500000000042,
          -3105.9000000000415,
          -3193.9000000000424,
          -3205.4000000000424,
          -3169.4000000000437,
          -3165.600000000043,
          -3170.6000000000427,
          -3166.5000000000423,
          -3183.0000000000414,
          -3200.200000000043,
          -3180.700000000043,
          -3159.6000000000427,
          -3137.1000000000417,
          -3133.5000000000427,
          -3157.900000000043,
          -3163.700000000043,
          -3166.100000000043,
          -3185.900000000044,
          -3194.500000000045,
          -3164.800000000045,
          -3141.800000000046,
          -3125.300000000044,
          -3076.3000000000447,
          -3025.5000000000437,
          -3030.300000000044,
          -3029.800000000044,
          -3026.5000000000446,
          -3035.500000000046,
          -3048.100000000044,
          -3042.9000000000437,
          -3062.3000000000443,
          -3048.300000000044,
          -3043.2000000000435,
          -3052.7000000000435,
          -3077.4000000000433,
          -3053.3000000000443,
          -3060.500000000047,
          -3072.7000000000467,
          -3108.900000000046,
          -3110.1000000000463,
          -3156.900000000048,
          -3180.9000000000497,
          -3217.100000000047,
          -3296.400000000047,
          -3352.100000000046,
          -3309.300000000045,
          -3224.900000000043,
          -3254.0000000000427,
          -3253.700000000043,
          -3307.100000000042,
          -3299.100000000043,
          -3236.1000000000436,
          -3240.0000000000437,
          -3263.4000000000437,
          -3234.6000000000454,
          -3058.4000000000437,
          -3130.000000000046,
          -3191.6000000000454,
          -3204.2000000000457,
          -3210.000000000046,
          -3216.500000000045,
          -3228.6000000000467,
          -3248.2000000000467,
          -3226.900000000046,
          -3241.3000000000425,
          -3256.0000000000423,
          -3268.500000000043,
          -3255.8000000000443,
          -3405.8000000000443,
          -3436.400000000043,
          -3414.8000000000425,
          -3413.3000000000425,
          -3436.80000000004,
          -3428.900000000041,
          -3487.100000000043,
          -3289.6000000000436,
          -3138.9000000000433,
          -3125.200000000041,
          -3163.300000000042,
          -3180.100000000041,
          -3186.000000000042,
          -3140.8000000000434,
          -3083.7000000000435,
          -3025.4000000000433,
          -2982.9000000000437,
          -2971.5000000000446,
          -2871.0000000000455,
          -2871.4000000000447,
          -2839.600000000044,
          -2834.000000000045,
          -2833.3000000000416,
          -2717.50000000004,
          -2699.900000000039,
          -2647.3000000000384,
          -2506.7000000000394,
          -2506.50000000004,
          -2487.6000000000404,
          -2440.600000000043,
          -2462.800000000043,
          -2473.9000000000433,
          -2475.500000000045,
          -2488.500000000046,
          -2480.7000000000457,
          -2501.000000000043,
          -2509.2000000000426,
          -2515.100000000042,
          -2445.0000000000427,
          -2436.9000000000437,
          -2393.100000000044,
          -2401.500000000045,
          -2387.3000000000443,
          -2281.900000000044,
          -2284.3000000000443,
          -2307.1000000000436,
          -2331.5000000000437,
          -2365.100000000044,
          -2387.600000000045,
          -2379.400000000047,
          -2367.8000000000484,
          -2367.0000000000477,
          -2356.2000000000476,
          -2280.4000000000497,
          -2186.8000000000493,
          -2211.1000000000504,
          -2187.9000000000506,
          -2196.600000000052,
          -2206.8000000000525,
          -2133.000000000051,
          -2150.4000000000515,
          -2160.6000000000504,
          -2123.4000000000497,
          -2064.2000000000503,
          -2003.300000000051,
          -1975.7000000000512,
          -1966.6000000000513,
          -1936.9000000000522,
          -1886.700000000054,
          -1903.4000000000535,
          -1910.4000000000528,
          -1909.9000000000506,
          -1907.0000000000482,
          -1936.9000000000465,
          -1963.7000000000467,
          -1984.4000000000476,
          -1999.8000000000463,
          -2016.1000000000454,
          -2025.1000000000474,
          -2047.1000000000472,
          -2046.900000000048,
          -2072.100000000049,
          -2233.1000000000504,
          -2245.2000000000507,
          -2219.00000000005,
          -2233.8000000000516,
          -2247.800000000053,
          -2247.4000000000524,
          -2255.800000000053,
          -2283.7000000000535,
          -2330.700000000055,
          -2438.200000000052,
          -2499.800000000047,
          -2404.7000000000457,
          -2413.700000000048,
          -2411.9000000000483,
          -2430.3000000000457,
          -2452.1000000000463,
          -2445.3000000000466,
          -2401.700000000047,
          -2314.300000000046,
          -2273.000000000045,
          -2028.6000000000436,
          -2032.7000000000432,
          -2040.3000000000425,
          -2102.000000000042,
          -2120.400000000043,
          -2135.0000000000446,
          -2119.000000000044,
          -2163.6000000000445,
          -2171.600000000045,
          -2173.7000000000453,
          -2244.500000000045,
          -2252.000000000047,
          -2266.300000000045,
          -2286.900000000047,
          -2274.700000000047,
          -2322.7000000000476,
          -2355.800000000048,
          -2404.400000000047,
          -2423.3000000000466,
          -2499.8000000000447,
          -2453.3000000000443,
          -2358.8000000000447,
          -2328.000000000044,
          -2316.600000000044,
          -2309.600000000045,
          -2308.5000000000446,
          -2264.7000000000417,
          -2253.800000000041,
          -2255.0000000000414,
          -2261.200000000042,
          -2274.600000000042,
          -2278.0000000000423,
          -2318.3000000000397,
          -2344.50000000004,
          -2348.3000000000393,
          -2363.800000000039,
          -2403.0000000000414,
          -2404.600000000041,
          -2413.9000000000406,
          -2420.5000000000405,
          -2451.9000000000397,
          -2469.20000000004,
          -2427.5000000000396,
          -2352.7000000000403,
          -2377.7000000000403,
          -2483.200000000043,
          -2523.900000000042,
          -2579.9000000000424,
          -2602.500000000044,
          -2654.8000000000466,
          -2677.600000000046,
          -2711.5000000000455,
          -2746.7000000000453,
          -2805.7000000000453,
          -2808.5000000000446,
          -2815.1000000000445,
          -2769.2000000000457,
          -2797.6000000000454,
          -2743.000000000045,
          -2737.8000000000466,
          -2825.400000000045,
          -2916.5000000000455,
          -3045.100000000046,
          -3122.800000000047,
          -3047.7000000000467,
          -3035.6000000000486,
          -3072.400000000048,
          -3182.600000000048,
          -3228.2000000000485,
          -3334.7000000000457,
          -3305.600000000046,
          -3225.9000000000433,
          -3153.7000000000435,
          -3168.000000000044,
          -3085.8000000000425,
          -3115.5000000000464,
          -3164.1000000000463,
          -3260.900000000049,
          -3268.10000000005,
          -3261.5000000000487,
          -3271.700000000049,
          -3272.0000000000487,
          -3265.600000000049,
          -3293.600000000049,
          -3276.4000000000497,
          -3306.4000000000506,
          -3335.700000000051,
          -3342.100000000052,
          -3357.500000000053,
          -3351.3000000000534,
          -3330.2000000000526,
          -3338.900000000053,
          -3340.2000000000526,
          -3363.2000000000517,
          -3372.0000000000514,
          -3419.200000000052,
          -3453.0000000000528,
          -3448.000000000053,
          -3449.0000000000537,
          -3427.400000000054,
          -3453.6000000000536,
          -3462.4000000000533,
          -3312.9000000000533,
          -3316.5000000000537,
          -3340.4000000000538,
          -3345.1000000000536,
          -3370.400000000055,
          -3479.0000000000528,
          -3442.2000000000535,
          -3451.900000000054,
          -3553.300000000055,
          -3575.100000000054,
          -3530.700000000054,
          -3615.9000000000547,
          -3808.1000000000545,
          -3893.900000000057,
          -3954.7000000000558,
          -3986.0000000000564,
          -4125.100000000059,
          -4191.500000000057,
          -4228.600000000057,
          -4249.000000000057,
          -4200.200000000057,
          -4070.900000000055,
          -4009.200000000055,
          -3749.000000000054,
          -3700.1000000000545,
          -3682.9000000000547,
          -3677.6000000000554,
          -3692.800000000054,
          -3692.100000000053,
          -3347.3000000000525,
          -3366.9000000000524,
          -3220.8000000000525,
          -2694.600000000052,
          -2651.400000000051,
          -2610.7000000000507,
          -2556.200000000051,
          -2532.4000000000506,
          -2569.000000000052,
          -2548.500000000052,
          -2621.5000000000505,
          -2654.300000000049,
          -2630.300000000047,
          -2654.6000000000454,
          -2452.2000000000453,
          -2338.5000000000455,
          -2339.600000000046,
          -2355.600000000044,
          -2374.0000000000423,
          -2382.400000000042,
          -2380.500000000042,
          -2376.2000000000403,
          -2417.2000000000403,
          -2450.1000000000395,
          -2467.6000000000386,
          -2483.800000000038,
          -2484.800000000038,
          -2459.8000000000384,
          -2495.60000000004,
          -2441.40000000004,
          -2364.10000000004,
          -2381.8000000000393,
          -2380.20000000004,
          -2439.5000000000377,
          -2500.700000000037,
          -2497.8000000000375,
          -2513.000000000039,
          -2477.100000000039,
          -2366.400000000038,
          -2366.2000000000376,
          -2296.7000000000376,
          -2293.1000000000377,
          -2616.000000000036,
          -2648.100000000036,
          -2667.4000000000356,
          -2663.700000000036,
          -2662.500000000036,
          -2657.1000000000363,
          -2403.300000000035,
          -2409.200000000035,
          -2424.000000000034,
          -2647.1000000000336,
          -2670.400000000033,
          -2670.7000000000326,
          -2687.2000000000317,
          -2704.4000000000333,
          -2217.300000000036,
          -2266.5000000000364,
          -2007.9000000000365,
          -1930.900000000034,
          -1985.100000000034,
          -1886.800000000034,
          -1839.7000000000342,
          -1868.3000000000327,
          -1849.5000000000327,
          -1876.9000000000324,
          -1862.1000000000308,
          -1909.1000000000301,
          -1891.7000000000305,
          -1909.3000000000304,
          -1886.0000000000298,
          -1719.7000000000287,
          -1419.8000000000293,
          -1037.5000000000286,
          -967.9000000000289,
          -941.8000000000293,
          -932.4000000000287,
          -937.2000000000291,
          -960.000000000032,
          -976.5000000000324,
          -995.400000000033,
          -1014.6000000000344,
          -987.4000000000337,
          -984.0000000000337,
          -981.500000000035,
          -957.2000000000357,
          -877.8000000000352,
          -859.4000000000345,
          -829.5000000000341,
          -827.1000000000339,
          -854.4000000000351,
          -881.4000000000361,
          -915.0000000000374,
          -924.2000000000377,
          -934.4000000000368,
          -611.8000000000369,
          -617.5000000000365,
          -620.6000000000357,
          -618.2000000000355,
          -648.3000000000374,
          -637.9000000000369,
          -665.4000000000373,
          -676.0000000000379,
          -689.9000000000378,
          -710.3000000000371,
          -712.6000000000366,
          -716.6000000000362,
          -725.4000000000361,
          -762.5000000000372,
          -755.0000000000368,
          -785.5000000000368,
          -810.0000000000375,
          -789.2000000000367,
          -823.3000000000358,
          -829.8000000000361,
          -847.6000000000372,
          -863.6000000000377,
          -935.9000000000368,
          -947.4000000000367,
          -915.3000000000362,
          -865.5000000000341,
          -817.4000000000345,
          -817.6000000000355,
          -780.000000000035,
          -782.1000000000344,
          -688.500000000034,
          -584.8000000000341,
          -448.8000000000335,
          -306.4000000000332,
          -308.20000000003387,
          -303.90000000003454,
          -301.90000000003477,
          -301.8000000000341,
          -231.60000000003384,
          -189.20000000003364,
          -172.6000000000337,
          -180.60000000003393,
          -132.30000000003636,
          -187.5000000000378,
          -231.50000000003757,
          -293.500000000038,
          -323.10000000003765,
          -333.8000000000367,
          -173.70000000003589,
          -77.50000000003547,
          152.5999999999633,
          180.09999999996214,
          171.6999999999604,
          161.69999999995707,
          115.89999999995901,
          121.69999999995926,
          169.99999999995927,
          226.499999999958,
          262.89999999995666,
          254.89999999995533,
          213.8999999999554,
          218.7999999999553,
          173.0999999999531,
          148.69999999995312,
          154.09999999995333,
          133.29999999995252,
          135.39999999995297,
          135.39999999995297,
          130.7999999999528,
          123.09999999995298,
          116.49999999995305,
          97.49999999995403,
          60.799999999953585,
          43.89999999995389,
          33.39999999995207,
          34.19999999995305,
          -57.700000000046956,
          -8.300000000047511,
          -19.90000000004801,
          -137.2000000000493,
          -126.00000000004982,
          -133.4000000000482,
          -146.50000000004707,
          -140.6000000000484,
          -213.3000000000495,
          -226.70000000004953,
          -235.30000000004796,
          -229.40000000004537,
          -257.2000000000454,
          -311.8000000000456,
          -327.2000000000481,
          -353.20000000004524,
          -380.8000000000451,
          -414.2000000000452,
          -467.5000000000453,
          -487.5000000000453,
          -557.400000000043,
          -584.1000000000404,
          -626.7000000000392,
          -632.5000000000384,
          -589.7000000000368,
          -591.0000000000364,
          -612.7000000000364,
          -557.3000000000382,
          -567.1000000000395,
          -567.8000000000396,
          -537.8000000000385,
          -531.9000000000398,
          -499.30000000003935,
          -496.3000000000397,
          -501.0000000000394,
          -515.4000000000399,
          -483.8000000000425,
          -238.00000000004113,
          -116.60000000004185,
          -138.10000000004058,
          9.699999999959573,
          68.69999999995974,
          63.09999999995969,
          91.99999999995806,
          85.39999999995923,
          58.99999999995948,
          49.299999999958104,
          40.59999999995884,
          90.99999999995808,
          57.19999999995869,
          155.7999999999577,
          180.3999999999572,
          159.1999999999582,
          241.299999999958,
          223.99999999995902,
          166.0999999999594,
          104.89999999995815,
          105.49999999995765,
          99.19999999995746,
          83.49999999995674,
          85.69999999995784,
          62.899999999958354,
          -49.900000000038986,
          -33.70000000003944,
          -67.70000000004013,
          -68.20000000003897,
          -57.80000000003745,
          -99.90000000003792,
          -106.70000000003913,
          25.999999999962,
          118.29999999996076,
          59.599999999961454,
          43.599999999961,
          38.39999999996135,
          24.29999999996224,
          17.4999999999621,
          9.999999999961815,
          13.29999999996123,
          82.69999999996291,
          143.69999999996287,
          134.29999999996235,
          225.79999999996227,
          243.39999999996212,
          335.59999999996217,
          348.6999999999614,
          419.49999999996123,
          526.0999999999624,
          554.0999999999615,
          519.4999999999611,
          518.8999999999605,
          485.99999999995975,
          482.7999999999599,
          255.69999999995696,
          169.29999999995653,
          53.699999999955935,
          47.19999999995776,
          35.39999999995817,
          60.6999999999596,
          112.19999999996392,
          121.49999999996373,
          82.0999999999654,
          85.09999999996552,
          74.49999999996581,
          65.4999999999657,
          -25.900000000033558,
          -30.90000000003412,
          -30.000000000034085,
          10.499999999965894,
          10.899999999964962,
          20.89999999996608,
          41.89999999996688,
          51.29999999996886,
          40.2999999999675,
          79.69999999996693,
          90.2999999999694,
          -19.700000000031807,
          -31.40000000003225,
          -47.40000000003475,
          -75.20000000003675,
          -54.80000000003882,
          -96.90000000004027,
          -116.20000000004013,
          -113.60000000004086,
          -150.5000000000406,
          -61.200000000043985,
          -11.30000000004349,
          -18.50000000004403,
          14.099999999956378,
          34.99999999995528,
          39.999999999956415,
          36.399999999956144,
          36.599999999957454,
          -22.200000000044774,
          -43.80000000004417,
          -87.60000000004467,
          -101.00000000004475,
          -113.3000000000454,
          -118.50000000004505,
          -118.60000000004459,
          -194.80000000004418,
          -196.40000000004355,
          -260.20000000004404,
          -321.20000000004256,
          -330.2000000000429,
          -358.3000000000427
         ]
        }
       ],
       "layout": {
        "font": {
         "color": "#e1e1e1",
         "size": 10
        },
        "height": 400,
        "margin": {
         "b": 10,
         "l": 15,
         "r": 15
        },
        "paper_bgcolor": "#1e1e1e",
        "plot_bgcolor": "#1e1e1e",
        "template": {
         "data": {
          "bar": [
           {
            "error_x": {
             "color": "#2a3f5f"
            },
            "error_y": {
             "color": "#2a3f5f"
            },
            "marker": {
             "line": {
              "color": "#E5ECF6",
              "width": 0.5
             },
             "pattern": {
              "fillmode": "overlay",
              "size": 10,
              "solidity": 0.2
             }
            },
            "type": "bar"
           }
          ],
          "barpolar": [
           {
            "marker": {
             "line": {
              "color": "#E5ECF6",
              "width": 0.5
             },
             "pattern": {
              "fillmode": "overlay",
              "size": 10,
              "solidity": 0.2
             }
            },
            "type": "barpolar"
           }
          ],
          "carpet": [
           {
            "aaxis": {
             "endlinecolor": "#2a3f5f",
             "gridcolor": "white",
             "linecolor": "white",
             "minorgridcolor": "white",
             "startlinecolor": "#2a3f5f"
            },
            "baxis": {
             "endlinecolor": "#2a3f5f",
             "gridcolor": "white",
             "linecolor": "white",
             "minorgridcolor": "white",
             "startlinecolor": "#2a3f5f"
            },
            "type": "carpet"
           }
          ],
          "choropleth": [
           {
            "colorbar": {
             "outlinewidth": 0,
             "ticks": ""
            },
            "type": "choropleth"
           }
          ],
          "contour": [
           {
            "colorbar": {
             "outlinewidth": 0,
             "ticks": ""
            },
            "colorscale": [
             [
              0,
              "#0d0887"
             ],
             [
              0.1111111111111111,
              "#46039f"
             ],
             [
              0.2222222222222222,
              "#7201a8"
             ],
             [
              0.3333333333333333,
              "#9c179e"
             ],
             [
              0.4444444444444444,
              "#bd3786"
             ],
             [
              0.5555555555555556,
              "#d8576b"
             ],
             [
              0.6666666666666666,
              "#ed7953"
             ],
             [
              0.7777777777777778,
              "#fb9f3a"
             ],
             [
              0.8888888888888888,
              "#fdca26"
             ],
             [
              1,
              "#f0f921"
             ]
            ],
            "type": "contour"
           }
          ],
          "contourcarpet": [
           {
            "colorbar": {
             "outlinewidth": 0,
             "ticks": ""
            },
            "type": "contourcarpet"
           }
          ],
          "heatmap": [
           {
            "colorbar": {
             "outlinewidth": 0,
             "ticks": ""
            },
            "colorscale": [
             [
              0,
              "#0d0887"
             ],
             [
              0.1111111111111111,
              "#46039f"
             ],
             [
              0.2222222222222222,
              "#7201a8"
             ],
             [
              0.3333333333333333,
              "#9c179e"
             ],
             [
              0.4444444444444444,
              "#bd3786"
             ],
             [
              0.5555555555555556,
              "#d8576b"
             ],
             [
              0.6666666666666666,
              "#ed7953"
             ],
             [
              0.7777777777777778,
              "#fb9f3a"
             ],
             [
              0.8888888888888888,
              "#fdca26"
             ],
             [
              1,
              "#f0f921"
             ]
            ],
            "type": "heatmap"
           }
          ],
          "heatmapgl": [
           {
            "colorbar": {
             "outlinewidth": 0,
             "ticks": ""
            },
            "colorscale": [
             [
              0,
              "#0d0887"
             ],
             [
              0.1111111111111111,
              "#46039f"
             ],
             [
              0.2222222222222222,
              "#7201a8"
             ],
             [
              0.3333333333333333,
              "#9c179e"
             ],
             [
              0.4444444444444444,
              "#bd3786"
             ],
             [
              0.5555555555555556,
              "#d8576b"
             ],
             [
              0.6666666666666666,
              "#ed7953"
             ],
             [
              0.7777777777777778,
              "#fb9f3a"
             ],
             [
              0.8888888888888888,
              "#fdca26"
             ],
             [
              1,
              "#f0f921"
             ]
            ],
            "type": "heatmapgl"
           }
          ],
          "histogram": [
           {
            "marker": {
             "pattern": {
              "fillmode": "overlay",
              "size": 10,
              "solidity": 0.2
             }
            },
            "type": "histogram"
           }
          ],
          "histogram2d": [
           {
            "colorbar": {
             "outlinewidth": 0,
             "ticks": ""
            },
            "colorscale": [
             [
              0,
              "#0d0887"
             ],
             [
              0.1111111111111111,
              "#46039f"
             ],
             [
              0.2222222222222222,
              "#7201a8"
             ],
             [
              0.3333333333333333,
              "#9c179e"
             ],
             [
              0.4444444444444444,
              "#bd3786"
             ],
             [
              0.5555555555555556,
              "#d8576b"
             ],
             [
              0.6666666666666666,
              "#ed7953"
             ],
             [
              0.7777777777777778,
              "#fb9f3a"
             ],
             [
              0.8888888888888888,
              "#fdca26"
             ],
             [
              1,
              "#f0f921"
             ]
            ],
            "type": "histogram2d"
           }
          ],
          "histogram2dcontour": [
           {
            "colorbar": {
             "outlinewidth": 0,
             "ticks": ""
            },
            "colorscale": [
             [
              0,
              "#0d0887"
             ],
             [
              0.1111111111111111,
              "#46039f"
             ],
             [
              0.2222222222222222,
              "#7201a8"
             ],
             [
              0.3333333333333333,
              "#9c179e"
             ],
             [
              0.4444444444444444,
              "#bd3786"
             ],
             [
              0.5555555555555556,
              "#d8576b"
             ],
             [
              0.6666666666666666,
              "#ed7953"
             ],
             [
              0.7777777777777778,
              "#fb9f3a"
             ],
             [
              0.8888888888888888,
              "#fdca26"
             ],
             [
              1,
              "#f0f921"
             ]
            ],
            "type": "histogram2dcontour"
           }
          ],
          "mesh3d": [
           {
            "colorbar": {
             "outlinewidth": 0,
             "ticks": ""
            },
            "type": "mesh3d"
           }
          ],
          "parcoords": [
           {
            "line": {
             "colorbar": {
              "outlinewidth": 0,
              "ticks": ""
             }
            },
            "type": "parcoords"
           }
          ],
          "pie": [
           {
            "automargin": true,
            "type": "pie"
           }
          ],
          "scatter": [
           {
            "fillpattern": {
             "fillmode": "overlay",
             "size": 10,
             "solidity": 0.2
            },
            "type": "scatter"
           }
          ],
          "scatter3d": [
           {
            "line": {
             "colorbar": {
              "outlinewidth": 0,
              "ticks": ""
             }
            },
            "marker": {
             "colorbar": {
              "outlinewidth": 0,
              "ticks": ""
             }
            },
            "type": "scatter3d"
           }
          ],
          "scattercarpet": [
           {
            "marker": {
             "colorbar": {
              "outlinewidth": 0,
              "ticks": ""
             }
            },
            "type": "scattercarpet"
           }
          ],
          "scattergeo": [
           {
            "marker": {
             "colorbar": {
              "outlinewidth": 0,
              "ticks": ""
             }
            },
            "type": "scattergeo"
           }
          ],
          "scattergl": [
           {
            "marker": {
             "colorbar": {
              "outlinewidth": 0,
              "ticks": ""
             }
            },
            "type": "scattergl"
           }
          ],
          "scattermapbox": [
           {
            "marker": {
             "colorbar": {
              "outlinewidth": 0,
              "ticks": ""
             }
            },
            "type": "scattermapbox"
           }
          ],
          "scatterpolar": [
           {
            "marker": {
             "colorbar": {
              "outlinewidth": 0,
              "ticks": ""
             }
            },
            "type": "scatterpolar"
           }
          ],
          "scatterpolargl": [
           {
            "marker": {
             "colorbar": {
              "outlinewidth": 0,
              "ticks": ""
             }
            },
            "type": "scatterpolargl"
           }
          ],
          "scatterternary": [
           {
            "marker": {
             "colorbar": {
              "outlinewidth": 0,
              "ticks": ""
             }
            },
            "type": "scatterternary"
           }
          ],
          "surface": [
           {
            "colorbar": {
             "outlinewidth": 0,
             "ticks": ""
            },
            "colorscale": [
             [
              0,
              "#0d0887"
             ],
             [
              0.1111111111111111,
              "#46039f"
             ],
             [
              0.2222222222222222,
              "#7201a8"
             ],
             [
              0.3333333333333333,
              "#9c179e"
             ],
             [
              0.4444444444444444,
              "#bd3786"
             ],
             [
              0.5555555555555556,
              "#d8576b"
             ],
             [
              0.6666666666666666,
              "#ed7953"
             ],
             [
              0.7777777777777778,
              "#fb9f3a"
             ],
             [
              0.8888888888888888,
              "#fdca26"
             ],
             [
              1,
              "#f0f921"
             ]
            ],
            "type": "surface"
           }
          ],
          "table": [
           {
            "cells": {
             "fill": {
              "color": "#EBF0F8"
             },
             "line": {
              "color": "white"
             }
            },
            "header": {
             "fill": {
              "color": "#C8D4E3"
             },
             "line": {
              "color": "white"
             }
            },
            "type": "table"
           }
          ]
         },
         "layout": {
          "annotationdefaults": {
           "arrowcolor": "#2a3f5f",
           "arrowhead": 0,
           "arrowwidth": 1
          },
          "autotypenumbers": "strict",
          "coloraxis": {
           "colorbar": {
            "outlinewidth": 0,
            "ticks": ""
           }
          },
          "colorscale": {
           "diverging": [
            [
             0,
             "#8e0152"
            ],
            [
             0.1,
             "#c51b7d"
            ],
            [
             0.2,
             "#de77ae"
            ],
            [
             0.3,
             "#f1b6da"
            ],
            [
             0.4,
             "#fde0ef"
            ],
            [
             0.5,
             "#f7f7f7"
            ],
            [
             0.6,
             "#e6f5d0"
            ],
            [
             0.7,
             "#b8e186"
            ],
            [
             0.8,
             "#7fbc41"
            ],
            [
             0.9,
             "#4d9221"
            ],
            [
             1,
             "#276419"
            ]
           ],
           "sequential": [
            [
             0,
             "#0d0887"
            ],
            [
             0.1111111111111111,
             "#46039f"
            ],
            [
             0.2222222222222222,
             "#7201a8"
            ],
            [
             0.3333333333333333,
             "#9c179e"
            ],
            [
             0.4444444444444444,
             "#bd3786"
            ],
            [
             0.5555555555555556,
             "#d8576b"
            ],
            [
             0.6666666666666666,
             "#ed7953"
            ],
            [
             0.7777777777777778,
             "#fb9f3a"
            ],
            [
             0.8888888888888888,
             "#fdca26"
            ],
            [
             1,
             "#f0f921"
            ]
           ],
           "sequentialminus": [
            [
             0,
             "#0d0887"
            ],
            [
             0.1111111111111111,
             "#46039f"
            ],
            [
             0.2222222222222222,
             "#7201a8"
            ],
            [
             0.3333333333333333,
             "#9c179e"
            ],
            [
             0.4444444444444444,
             "#bd3786"
            ],
            [
             0.5555555555555556,
             "#d8576b"
            ],
            [
             0.6666666666666666,
             "#ed7953"
            ],
            [
             0.7777777777777778,
             "#fb9f3a"
            ],
            [
             0.8888888888888888,
             "#fdca26"
            ],
            [
             1,
             "#f0f921"
            ]
           ]
          },
          "colorway": [
           "#636efa",
           "#EF553B",
           "#00cc96",
           "#ab63fa",
           "#FFA15A",
           "#19d3f3",
           "#FF6692",
           "#B6E880",
           "#FF97FF",
           "#FECB52"
          ],
          "font": {
           "color": "#2a3f5f"
          },
          "geo": {
           "bgcolor": "white",
           "lakecolor": "white",
           "landcolor": "#E5ECF6",
           "showlakes": true,
           "showland": true,
           "subunitcolor": "white"
          },
          "hoverlabel": {
           "align": "left"
          },
          "hovermode": "closest",
          "mapbox": {
           "style": "light"
          },
          "paper_bgcolor": "white",
          "plot_bgcolor": "#E5ECF6",
          "polar": {
           "angularaxis": {
            "gridcolor": "white",
            "linecolor": "white",
            "ticks": ""
           },
           "bgcolor": "#E5ECF6",
           "radialaxis": {
            "gridcolor": "white",
            "linecolor": "white",
            "ticks": ""
           }
          },
          "scene": {
           "xaxis": {
            "backgroundcolor": "#E5ECF6",
            "gridcolor": "white",
            "gridwidth": 2,
            "linecolor": "white",
            "showbackground": true,
            "ticks": "",
            "zerolinecolor": "white"
           },
           "yaxis": {
            "backgroundcolor": "#E5ECF6",
            "gridcolor": "white",
            "gridwidth": 2,
            "linecolor": "white",
            "showbackground": true,
            "ticks": "",
            "zerolinecolor": "white"
           },
           "zaxis": {
            "backgroundcolor": "#E5ECF6",
            "gridcolor": "white",
            "gridwidth": 2,
            "linecolor": "white",
            "showbackground": true,
            "ticks": "",
            "zerolinecolor": "white"
           }
          },
          "shapedefaults": {
           "line": {
            "color": "#2a3f5f"
           }
          },
          "ternary": {
           "aaxis": {
            "gridcolor": "white",
            "linecolor": "white",
            "ticks": ""
           },
           "baxis": {
            "gridcolor": "white",
            "linecolor": "white",
            "ticks": ""
           },
           "bgcolor": "#E5ECF6",
           "caxis": {
            "gridcolor": "white",
            "linecolor": "white",
            "ticks": ""
           }
          },
          "title": {
           "x": 0.05
          },
          "xaxis": {
           "automargin": true,
           "gridcolor": "white",
           "linecolor": "white",
           "ticks": "",
           "title": {
            "standoff": 15
           },
           "zerolinecolor": "white",
           "zerolinewidth": 2
          },
          "yaxis": {
           "automargin": true,
           "gridcolor": "white",
           "linecolor": "white",
           "ticks": "",
           "title": {
            "standoff": 15
           },
           "zerolinecolor": "white",
           "zerolinewidth": 2
          }
         }
        },
        "title": {
         "text": "MA_16_32"
        },
        "width": 1000,
        "xaxis": {
         "linecolor": "#3a4a54",
         "linewidth": 1,
         "showgrid": false,
         "zeroline": false
        },
        "yaxis": {
         "linecolor": "#3a4a54",
         "linewidth": 1,
         "showgrid": false,
         "zeroline": false
        }
       }
      }
     },
     "metadata": {},
     "output_type": "display_data"
    },
    {
     "data": {
      "application/vnd.plotly.v1+json": {
       "config": {
        "plotlyServerURL": "https://plot.ly"
       },
       "data": [
        {
         "line": {
          "color": "#3d825f",
          "shape": "spline",
          "width": 2
         },
         "mode": "lines",
         "name": "MA_8_64",
         "type": "scatter",
         "x": [
          "2023-10-25T02:00:00+00:00",
          "2023-10-25T09:00:00+00:00",
          "2023-10-25T12:00:00+00:00",
          "2023-10-25T16:00:00+00:00",
          "2023-10-25T18:00:00+00:00",
          "2023-10-25T21:00:00+00:00",
          "2023-10-25T23:00:00+00:00",
          "2023-10-26T05:00:00+00:00",
          "2023-10-26T09:00:00+00:00",
          "2023-10-26T12:00:00+00:00",
          "2023-10-26T14:00:00+00:00",
          "2023-10-26T15:00:00+00:00",
          "2023-10-26T16:00:00+00:00",
          "2023-10-26T17:00:00+00:00",
          "2023-10-26T18:00:00+00:00",
          "2023-10-26T19:00:00+00:00",
          "2023-10-26T21:00:00+00:00",
          "2023-10-26T23:00:00+00:00",
          "2023-10-27T07:00:00+00:00",
          "2023-10-27T11:00:00+00:00",
          "2023-10-27T15:00:00+00:00",
          "2023-10-27T19:00:00+00:00",
          "2023-10-29T21:00:00+00:00",
          "2023-10-30T01:00:00+00:00",
          "2023-10-30T03:00:00+00:00",
          "2023-10-30T13:00:00+00:00",
          "2023-10-30T14:00:00+00:00",
          "2023-10-30T15:00:00+00:00",
          "2023-10-30T21:00:00+00:00",
          "2023-10-31T03:00:00+00:00",
          "2023-10-31T05:00:00+00:00",
          "2023-10-31T07:00:00+00:00",
          "2023-10-31T08:00:00+00:00",
          "2023-10-31T10:00:00+00:00",
          "2023-10-31T19:00:00+00:00",
          "2023-10-31T23:00:00+00:00",
          "2023-11-01T07:00:00+00:00",
          "2023-11-01T10:00:00+00:00",
          "2023-11-01T11:00:00+00:00",
          "2023-11-01T14:00:00+00:00",
          "2023-11-01T17:00:00+00:00",
          "2023-11-01T18:00:00+00:00",
          "2023-11-01T20:00:00+00:00",
          "2023-11-01T21:00:00+00:00",
          "2023-11-01T22:00:00+00:00",
          "2023-11-01T23:00:00+00:00",
          "2023-11-02T04:00:00+00:00",
          "2023-11-02T07:00:00+00:00",
          "2023-11-02T08:00:00+00:00",
          "2023-11-02T10:00:00+00:00",
          "2023-11-02T11:00:00+00:00",
          "2023-11-02T12:00:00+00:00",
          "2023-11-02T13:00:00+00:00",
          "2023-11-02T14:00:00+00:00",
          "2023-11-02T16:00:00+00:00",
          "2023-11-02T17:00:00+00:00",
          "2023-11-02T22:00:00+00:00",
          "2023-11-03T02:00:00+00:00",
          "2023-11-03T03:00:00+00:00",
          "2023-11-03T10:00:00+00:00",
          "2023-11-03T15:00:00+00:00",
          "2023-11-03T19:00:00+00:00",
          "2023-11-06T10:00:00+00:00",
          "2023-11-06T16:00:00+00:00",
          "2023-11-06T18:00:00+00:00",
          "2023-11-07T01:00:00+00:00",
          "2023-11-07T02:00:00+00:00",
          "2023-11-07T07:00:00+00:00",
          "2023-11-07T08:00:00+00:00",
          "2023-11-07T09:00:00+00:00",
          "2023-11-07T10:00:00+00:00",
          "2023-11-07T11:00:00+00:00",
          "2023-11-07T12:00:00+00:00",
          "2023-11-07T13:00:00+00:00",
          "2023-11-07T14:00:00+00:00",
          "2023-11-07T15:00:00+00:00",
          "2023-11-07T21:00:00+00:00",
          "2023-11-07T22:00:00+00:00",
          "2023-11-08T04:00:00+00:00",
          "2023-11-08T07:00:00+00:00",
          "2023-11-08T10:00:00+00:00",
          "2023-11-08T16:00:00+00:00",
          "2023-11-08T17:00:00+00:00",
          "2023-11-08T18:00:00+00:00",
          "2023-11-08T19:00:00+00:00",
          "2023-11-08T23:00:00+00:00",
          "2023-11-09T05:00:00+00:00",
          "2023-11-09T06:00:00+00:00",
          "2023-11-09T08:00:00+00:00",
          "2023-11-09T12:00:00+00:00",
          "2023-11-09T13:00:00+00:00",
          "2023-11-09T15:00:00+00:00",
          "2023-11-09T19:00:00+00:00",
          "2023-11-09T22:00:00+00:00",
          "2023-11-09T23:00:00+00:00",
          "2023-11-10T00:00:00+00:00",
          "2023-11-10T01:00:00+00:00",
          "2023-11-10T05:00:00+00:00",
          "2023-11-10T09:00:00+00:00",
          "2023-11-10T13:00:00+00:00",
          "2023-11-10T14:00:00+00:00",
          "2023-11-10T21:00:00+00:00",
          "2023-11-12T23:00:00+00:00",
          "2023-11-13T06:00:00+00:00",
          "2023-11-13T08:00:00+00:00",
          "2023-11-13T10:00:00+00:00",
          "2023-11-13T11:00:00+00:00",
          "2023-11-13T13:00:00+00:00",
          "2023-11-13T23:00:00+00:00",
          "2023-11-14T11:00:00+00:00",
          "2023-11-14T14:00:00+00:00",
          "2023-11-14T17:00:00+00:00",
          "2023-11-14T19:00:00+00:00",
          "2023-11-15T00:00:00+00:00",
          "2023-11-15T12:00:00+00:00",
          "2023-11-15T13:00:00+00:00",
          "2023-11-15T14:00:00+00:00",
          "2023-11-15T19:00:00+00:00",
          "2023-11-16T05:00:00+00:00",
          "2023-11-16T14:00:00+00:00",
          "2023-11-16T15:00:00+00:00",
          "2023-11-16T16:00:00+00:00",
          "2023-11-16T18:00:00+00:00",
          "2023-11-16T20:00:00+00:00",
          "2023-11-16T21:00:00+00:00",
          "2023-11-17T00:00:00+00:00",
          "2023-11-17T16:00:00+00:00",
          "2023-11-19T23:00:00+00:00",
          "2023-11-20T01:00:00+00:00",
          "2023-11-20T04:00:00+00:00",
          "2023-11-20T06:00:00+00:00",
          "2023-11-20T07:00:00+00:00",
          "2023-11-21T02:00:00+00:00",
          "2023-11-21T14:00:00+00:00",
          "2023-11-21T18:00:00+00:00",
          "2023-11-21T19:00:00+00:00",
          "2023-11-21T21:00:00+00:00",
          "2023-11-22T01:00:00+00:00",
          "2023-11-22T02:00:00+00:00",
          "2023-11-22T05:00:00+00:00",
          "2023-11-22T06:00:00+00:00",
          "2023-11-22T08:00:00+00:00",
          "2023-11-22T09:00:00+00:00",
          "2023-11-22T10:00:00+00:00",
          "2023-11-22T17:00:00+00:00",
          "2023-11-22T22:00:00+00:00",
          "2023-11-23T00:00:00+00:00",
          "2023-11-23T03:00:00+00:00",
          "2023-11-23T08:00:00+00:00",
          "2023-11-23T12:00:00+00:00",
          "2023-11-23T13:00:00+00:00",
          "2023-11-23T14:00:00+00:00",
          "2023-11-23T15:00:00+00:00",
          "2023-11-23T18:00:00+00:00",
          "2023-11-23T21:00:00+00:00",
          "2023-11-24T00:00:00+00:00",
          "2023-11-24T01:00:00+00:00",
          "2023-11-24T06:00:00+00:00",
          "2023-11-24T13:00:00+00:00",
          "2023-11-27T02:00:00+00:00",
          "2023-11-27T04:00:00+00:00",
          "2023-11-27T06:00:00+00:00",
          "2023-11-27T08:00:00+00:00",
          "2023-11-27T09:00:00+00:00",
          "2023-11-27T10:00:00+00:00",
          "2023-11-27T11:00:00+00:00",
          "2023-11-27T14:00:00+00:00",
          "2023-11-27T16:00:00+00:00",
          "2023-11-27T17:00:00+00:00",
          "2023-11-27T19:00:00+00:00",
          "2023-11-27T21:00:00+00:00",
          "2023-11-28T00:00:00+00:00",
          "2023-11-28T01:00:00+00:00",
          "2023-11-28T05:00:00+00:00",
          "2023-11-28T06:00:00+00:00",
          "2023-11-28T09:00:00+00:00",
          "2023-11-28T13:00:00+00:00",
          "2023-11-28T14:00:00+00:00",
          "2023-11-28T15:00:00+00:00",
          "2023-11-28T16:00:00+00:00",
          "2023-11-28T17:00:00+00:00",
          "2023-11-28T20:00:00+00:00",
          "2023-11-29T03:00:00+00:00",
          "2023-11-29T05:00:00+00:00",
          "2023-11-29T07:00:00+00:00",
          "2023-11-29T10:00:00+00:00",
          "2023-11-29T14:00:00+00:00",
          "2023-11-29T19:00:00+00:00",
          "2023-11-29T20:00:00+00:00",
          "2023-11-29T22:00:00+00:00",
          "2023-11-30T03:00:00+00:00",
          "2023-11-30T04:00:00+00:00",
          "2023-11-30T12:00:00+00:00",
          "2023-11-30T13:00:00+00:00",
          "2023-11-30T16:00:00+00:00",
          "2023-11-30T21:00:00+00:00",
          "2023-11-30T23:00:00+00:00",
          "2023-12-01T00:00:00+00:00",
          "2023-12-01T01:00:00+00:00",
          "2023-12-01T02:00:00+00:00",
          "2023-12-01T17:00:00+00:00",
          "2023-12-03T22:00:00+00:00",
          "2023-12-03T23:00:00+00:00",
          "2023-12-04T00:00:00+00:00",
          "2023-12-04T04:00:00+00:00",
          "2023-12-04T07:00:00+00:00",
          "2023-12-04T12:00:00+00:00",
          "2023-12-04T15:00:00+00:00",
          "2023-12-04T18:00:00+00:00",
          "2023-12-04T19:00:00+00:00",
          "2023-12-05T00:00:00+00:00",
          "2023-12-05T02:00:00+00:00",
          "2023-12-05T06:00:00+00:00",
          "2023-12-05T18:00:00+00:00",
          "2023-12-06T03:00:00+00:00",
          "2023-12-06T04:00:00+00:00",
          "2023-12-06T05:00:00+00:00",
          "2023-12-06T06:00:00+00:00",
          "2023-12-06T14:00:00+00:00",
          "2023-12-06T15:00:00+00:00",
          "2023-12-06T17:00:00+00:00",
          "2023-12-06T19:00:00+00:00",
          "2023-12-06T20:00:00+00:00",
          "2023-12-06T21:00:00+00:00",
          "2023-12-07T00:00:00+00:00",
          "2023-12-07T01:00:00+00:00",
          "2023-12-07T07:00:00+00:00",
          "2023-12-07T10:00:00+00:00",
          "2023-12-07T13:00:00+00:00",
          "2023-12-07T14:00:00+00:00",
          "2023-12-07T15:00:00+00:00",
          "2023-12-07T16:00:00+00:00",
          "2023-12-07T17:00:00+00:00",
          "2023-12-07T18:00:00+00:00",
          "2023-12-07T19:00:00+00:00",
          "2023-12-08T03:00:00+00:00",
          "2023-12-08T05:00:00+00:00",
          "2023-12-08T06:00:00+00:00",
          "2023-12-08T07:00:00+00:00",
          "2023-12-08T11:00:00+00:00",
          "2023-12-08T12:00:00+00:00",
          "2023-12-08T13:00:00+00:00",
          "2023-12-08T14:00:00+00:00",
          "2023-12-08T15:00:00+00:00",
          "2023-12-08T16:00:00+00:00",
          "2023-12-11T04:00:00+00:00",
          "2023-12-11T05:00:00+00:00",
          "2023-12-11T06:00:00+00:00",
          "2023-12-11T08:00:00+00:00",
          "2023-12-11T09:00:00+00:00",
          "2023-12-11T12:00:00+00:00",
          "2023-12-11T17:00:00+00:00",
          "2023-12-11T19:00:00+00:00",
          "2023-12-12T00:00:00+00:00",
          "2023-12-12T02:00:00+00:00",
          "2023-12-12T05:00:00+00:00",
          "2023-12-12T06:00:00+00:00",
          "2023-12-12T08:00:00+00:00",
          "2023-12-12T09:00:00+00:00",
          "2023-12-12T11:00:00+00:00",
          "2023-12-12T12:00:00+00:00",
          "2023-12-12T14:00:00+00:00",
          "2023-12-12T16:00:00+00:00",
          "2023-12-12T18:00:00+00:00",
          "2023-12-12T20:00:00+00:00",
          "2023-12-12T23:00:00+00:00",
          "2023-12-13T01:00:00+00:00",
          "2023-12-13T02:00:00+00:00",
          "2023-12-13T04:00:00+00:00",
          "2023-12-13T09:00:00+00:00",
          "2023-12-13T15:00:00+00:00",
          "2023-12-13T16:00:00+00:00",
          "2023-12-13T19:00:00+00:00",
          "2023-12-13T20:00:00+00:00",
          "2023-12-13T22:00:00+00:00",
          "2023-12-14T02:00:00+00:00",
          "2023-12-14T03:00:00+00:00",
          "2023-12-14T09:00:00+00:00",
          "2023-12-14T12:00:00+00:00",
          "2023-12-14T14:00:00+00:00",
          "2023-12-14T15:00:00+00:00",
          "2023-12-14T16:00:00+00:00",
          "2023-12-14T19:00:00+00:00",
          "2023-12-15T03:00:00+00:00",
          "2023-12-15T06:00:00+00:00",
          "2023-12-15T07:00:00+00:00",
          "2023-12-15T08:00:00+00:00",
          "2023-12-15T12:00:00+00:00",
          "2023-12-15T14:00:00+00:00",
          "2023-12-15T15:00:00+00:00",
          "2023-12-15T17:00:00+00:00",
          "2023-12-15T18:00:00+00:00",
          "2023-12-15T19:00:00+00:00",
          "2023-12-18T00:00:00+00:00",
          "2023-12-18T06:00:00+00:00",
          "2023-12-18T07:00:00+00:00",
          "2023-12-18T08:00:00+00:00",
          "2023-12-18T09:00:00+00:00",
          "2023-12-18T11:00:00+00:00",
          "2023-12-18T15:00:00+00:00",
          "2023-12-18T19:00:00+00:00",
          "2023-12-18T22:00:00+00:00",
          "2023-12-19T00:00:00+00:00",
          "2023-12-19T02:00:00+00:00",
          "2023-12-19T03:00:00+00:00",
          "2023-12-19T08:00:00+00:00",
          "2023-12-19T10:00:00+00:00",
          "2023-12-19T12:00:00+00:00",
          "2023-12-19T13:00:00+00:00",
          "2023-12-20T07:00:00+00:00",
          "2023-12-20T08:00:00+00:00",
          "2023-12-20T11:00:00+00:00",
          "2023-12-20T13:00:00+00:00",
          "2023-12-21T00:00:00+00:00",
          "2023-12-21T01:00:00+00:00",
          "2023-12-21T02:00:00+00:00",
          "2023-12-21T03:00:00+00:00",
          "2023-12-21T06:00:00+00:00",
          "2023-12-21T14:00:00+00:00",
          "2023-12-21T17:00:00+00:00",
          "2023-12-21T19:00:00+00:00",
          "2023-12-21T20:00:00+00:00",
          "2023-12-22T00:00:00+00:00",
          "2023-12-22T01:00:00+00:00",
          "2023-12-22T03:00:00+00:00",
          "2023-12-22T12:00:00+00:00",
          "2023-12-22T15:00:00+00:00",
          "2023-12-22T18:00:00+00:00",
          "2023-12-22T19:00:00+00:00",
          "2023-12-22T20:00:00+00:00",
          "2023-12-25T22:00:00+00:00",
          "2023-12-26T00:00:00+00:00",
          "2023-12-26T01:00:00+00:00",
          "2023-12-26T05:00:00+00:00",
          "2023-12-26T09:00:00+00:00",
          "2023-12-26T13:00:00+00:00",
          "2023-12-26T15:00:00+00:00",
          "2023-12-26T17:00:00+00:00",
          "2023-12-27T01:00:00+00:00",
          "2023-12-27T11:00:00+00:00",
          "2023-12-27T13:00:00+00:00",
          "2023-12-27T14:00:00+00:00",
          "2023-12-27T15:00:00+00:00",
          "2023-12-27T16:00:00+00:00",
          "2023-12-27T21:00:00+00:00",
          "2023-12-27T23:00:00+00:00",
          "2023-12-28T04:00:00+00:00",
          "2023-12-28T05:00:00+00:00",
          "2023-12-28T07:00:00+00:00",
          "2023-12-28T09:00:00+00:00",
          "2023-12-28T17:00:00+00:00",
          "2023-12-28T19:00:00+00:00",
          "2023-12-29T01:00:00+00:00",
          "2023-12-29T08:00:00+00:00",
          "2023-12-29T13:00:00+00:00",
          "2023-12-29T15:00:00+00:00",
          "2023-12-29T16:00:00+00:00",
          "2023-12-29T17:00:00+00:00",
          "2023-12-29T18:00:00+00:00",
          "2023-12-29T20:00:00+00:00",
          "2023-12-29T21:00:00+00:00",
          "2024-01-01T18:00:00+00:00",
          "2024-01-02T05:00:00+00:00",
          "2024-01-02T06:00:00+00:00",
          "2024-01-02T08:00:00+00:00",
          "2024-01-02T09:00:00+00:00",
          "2024-01-02T10:00:00+00:00",
          "2024-01-02T12:00:00+00:00",
          "2024-01-02T14:00:00+00:00",
          "2024-01-02T15:00:00+00:00",
          "2024-01-02T18:00:00+00:00",
          "2024-01-02T19:00:00+00:00",
          "2024-01-02T22:00:00+00:00",
          "2024-01-03T06:00:00+00:00",
          "2024-01-03T10:00:00+00:00",
          "2024-01-03T11:00:00+00:00",
          "2024-01-03T13:00:00+00:00",
          "2024-01-03T15:00:00+00:00",
          "2024-01-03T16:00:00+00:00",
          "2024-01-03T19:00:00+00:00",
          "2024-01-03T22:00:00+00:00",
          "2024-01-04T03:00:00+00:00",
          "2024-01-04T06:00:00+00:00",
          "2024-01-04T09:00:00+00:00",
          "2024-01-04T12:00:00+00:00",
          "2024-01-04T13:00:00+00:00",
          "2024-01-05T08:00:00+00:00",
          "2024-01-05T09:00:00+00:00",
          "2024-01-05T12:00:00+00:00",
          "2024-01-05T13:00:00+00:00",
          "2024-01-05T15:00:00+00:00",
          "2024-01-05T18:00:00+00:00",
          "2024-01-05T20:00:00+00:00",
          "2024-01-05T21:00:00+00:00",
          "2024-01-07T22:00:00+00:00",
          "2024-01-08T00:00:00+00:00",
          "2024-01-08T07:00:00+00:00",
          "2024-01-08T09:00:00+00:00",
          "2024-01-08T10:00:00+00:00",
          "2024-01-08T15:00:00+00:00",
          "2024-01-08T18:00:00+00:00",
          "2024-01-08T22:00:00+00:00",
          "2024-01-09T00:00:00+00:00",
          "2024-01-09T02:00:00+00:00",
          "2024-01-09T11:00:00+00:00",
          "2024-01-09T14:00:00+00:00",
          "2024-01-09T15:00:00+00:00",
          "2024-01-09T22:00:00+00:00",
          "2024-01-10T01:00:00+00:00",
          "2024-01-10T02:00:00+00:00",
          "2024-01-10T03:00:00+00:00",
          "2024-01-10T04:00:00+00:00",
          "2024-01-10T05:00:00+00:00",
          "2024-01-10T06:00:00+00:00",
          "2024-01-10T11:00:00+00:00",
          "2024-01-10T13:00:00+00:00",
          "2024-01-10T14:00:00+00:00",
          "2024-01-10T19:00:00+00:00",
          "2024-01-11T04:00:00+00:00",
          "2024-01-11T07:00:00+00:00",
          "2024-01-11T09:00:00+00:00",
          "2024-01-11T15:00:00+00:00",
          "2024-01-11T22:00:00+00:00",
          "2024-01-11T23:00:00+00:00",
          "2024-01-12T02:00:00+00:00",
          "2024-01-12T04:00:00+00:00",
          "2024-01-12T09:00:00+00:00",
          "2024-01-12T10:00:00+00:00",
          "2024-01-12T11:00:00+00:00",
          "2024-01-12T12:00:00+00:00",
          "2024-01-12T13:00:00+00:00",
          "2024-01-12T14:00:00+00:00",
          "2024-01-12T18:00:00+00:00",
          "2024-01-12T19:00:00+00:00",
          "2024-01-12T20:00:00+00:00",
          "2024-01-15T03:00:00+00:00",
          "2024-01-15T04:00:00+00:00",
          "2024-01-15T06:00:00+00:00",
          "2024-01-15T07:00:00+00:00",
          "2024-01-15T09:00:00+00:00",
          "2024-01-15T11:00:00+00:00",
          "2024-01-15T12:00:00+00:00",
          "2024-01-15T13:00:00+00:00",
          "2024-01-15T14:00:00+00:00",
          "2024-01-15T21:00:00+00:00",
          "2024-01-16T06:00:00+00:00",
          "2024-01-16T08:00:00+00:00",
          "2024-01-16T10:00:00+00:00",
          "2024-01-16T13:00:00+00:00",
          "2024-01-16T14:00:00+00:00",
          "2024-01-17T00:00:00+00:00",
          "2024-01-17T09:00:00+00:00",
          "2024-01-17T10:00:00+00:00",
          "2024-01-17T11:00:00+00:00",
          "2024-01-17T19:00:00+00:00",
          "2024-01-17T21:00:00+00:00",
          "2024-01-18T06:00:00+00:00",
          "2024-01-18T13:00:00+00:00",
          "2024-01-18T14:00:00+00:00",
          "2024-01-19T11:00:00+00:00",
          "2024-01-19T14:00:00+00:00",
          "2024-01-19T19:00:00+00:00",
          "2024-01-19T21:00:00+00:00",
          "2024-01-22T03:00:00+00:00",
          "2024-01-22T04:00:00+00:00",
          "2024-01-22T05:00:00+00:00",
          "2024-01-22T08:00:00+00:00",
          "2024-01-22T09:00:00+00:00",
          "2024-01-22T14:00:00+00:00",
          "2024-01-22T19:00:00+00:00",
          "2024-01-22T20:00:00+00:00",
          "2024-01-22T22:00:00+00:00",
          "2024-01-23T01:00:00+00:00",
          "2024-01-23T03:00:00+00:00",
          "2024-01-23T04:00:00+00:00",
          "2024-01-23T08:00:00+00:00",
          "2024-01-23T09:00:00+00:00",
          "2024-01-23T15:00:00+00:00",
          "2024-01-23T16:00:00+00:00",
          "2024-01-23T18:00:00+00:00",
          "2024-01-23T19:00:00+00:00",
          "2024-01-23T22:00:00+00:00",
          "2024-01-23T23:00:00+00:00",
          "2024-01-24T00:00:00+00:00",
          "2024-01-24T01:00:00+00:00",
          "2024-01-24T03:00:00+00:00",
          "2024-01-24T04:00:00+00:00",
          "2024-01-24T06:00:00+00:00",
          "2024-01-24T07:00:00+00:00",
          "2024-01-24T10:00:00+00:00",
          "2024-01-24T13:00:00+00:00",
          "2024-01-24T16:00:00+00:00",
          "2024-01-24T18:00:00+00:00",
          "2024-01-25T05:00:00+00:00",
          "2024-01-25T06:00:00+00:00",
          "2024-01-25T11:00:00+00:00",
          "2024-01-25T13:00:00+00:00",
          "2024-01-25T14:00:00+00:00",
          "2024-01-25T16:00:00+00:00",
          "2024-01-25T18:00:00+00:00",
          "2024-01-25T20:00:00+00:00",
          "2024-01-25T23:00:00+00:00",
          "2024-01-26T00:00:00+00:00",
          "2024-01-26T05:00:00+00:00",
          "2024-01-26T07:00:00+00:00",
          "2024-01-26T09:00:00+00:00",
          "2024-01-26T10:00:00+00:00",
          "2024-01-26T11:00:00+00:00",
          "2024-01-26T14:00:00+00:00",
          "2024-01-26T15:00:00+00:00",
          "2024-01-26T16:00:00+00:00",
          "2024-01-28T23:00:00+00:00",
          "2024-01-29T00:00:00+00:00",
          "2024-01-29T07:00:00+00:00",
          "2024-01-29T08:00:00+00:00",
          "2024-01-29T09:00:00+00:00",
          "2024-01-29T12:00:00+00:00",
          "2024-01-30T01:00:00+00:00",
          "2024-01-30T07:00:00+00:00",
          "2024-01-30T08:00:00+00:00",
          "2024-01-30T10:00:00+00:00",
          "2024-01-30T12:00:00+00:00",
          "2024-01-30T18:00:00+00:00",
          "2024-01-30T19:00:00+00:00",
          "2024-01-30T22:00:00+00:00",
          "2024-01-30T23:00:00+00:00",
          "2024-01-31T01:00:00+00:00",
          "2024-01-31T04:00:00+00:00",
          "2024-01-31T06:00:00+00:00",
          "2024-01-31T08:00:00+00:00",
          "2024-01-31T09:00:00+00:00",
          "2024-01-31T10:00:00+00:00",
          "2024-01-31T13:00:00+00:00",
          "2024-01-31T14:00:00+00:00",
          "2024-01-31T15:00:00+00:00",
          "2024-01-31T16:00:00+00:00",
          "2024-01-31T18:00:00+00:00",
          "2024-01-31T19:00:00+00:00",
          "2024-01-31T20:00:00+00:00",
          "2024-01-31T23:00:00+00:00",
          "2024-02-01T05:00:00+00:00",
          "2024-02-01T08:00:00+00:00",
          "2024-02-01T09:00:00+00:00",
          "2024-02-01T11:00:00+00:00",
          "2024-02-01T13:00:00+00:00",
          "2024-02-01T14:00:00+00:00",
          "2024-02-01T15:00:00+00:00",
          "2024-02-01T16:00:00+00:00",
          "2024-02-01T18:00:00+00:00",
          "2024-02-01T21:00:00+00:00",
          "2024-02-01T23:00:00+00:00",
          "2024-02-02T01:00:00+00:00",
          "2024-02-02T04:00:00+00:00",
          "2024-02-02T07:00:00+00:00",
          "2024-02-02T08:00:00+00:00",
          "2024-02-02T09:00:00+00:00",
          "2024-02-02T10:00:00+00:00",
          "2024-02-02T15:00:00+00:00",
          "2024-02-02T16:00:00+00:00",
          "2024-02-02T17:00:00+00:00",
          "2024-02-02T18:00:00+00:00",
          "2024-02-02T19:00:00+00:00",
          "2024-02-05T09:00:00+00:00",
          "2024-02-05T14:00:00+00:00",
          "2024-02-05T16:00:00+00:00",
          "2024-02-05T17:00:00+00:00",
          "2024-02-05T20:00:00+00:00",
          "2024-02-05T22:00:00+00:00",
          "2024-02-06T00:00:00+00:00",
          "2024-02-06T04:00:00+00:00",
          "2024-02-06T06:00:00+00:00",
          "2024-02-06T07:00:00+00:00",
          "2024-02-06T11:00:00+00:00",
          "2024-02-06T12:00:00+00:00",
          "2024-02-06T13:00:00+00:00",
          "2024-02-06T14:00:00+00:00",
          "2024-02-06T16:00:00+00:00",
          "2024-02-06T20:00:00+00:00",
          "2024-02-06T22:00:00+00:00",
          "2024-02-06T23:00:00+00:00",
          "2024-02-07T01:00:00+00:00",
          "2024-02-07T10:00:00+00:00",
          "2024-02-07T15:00:00+00:00",
          "2024-02-07T22:00:00+00:00",
          "2024-02-08T09:00:00+00:00",
          "2024-02-08T13:00:00+00:00",
          "2024-02-08T14:00:00+00:00",
          "2024-02-08T15:00:00+00:00",
          "2024-02-08T18:00:00+00:00",
          "2024-02-09T01:00:00+00:00",
          "2024-02-09T02:00:00+00:00",
          "2024-02-09T18:00:00+00:00",
          "2024-02-09T20:00:00+00:00",
          "2024-02-12T11:00:00+00:00",
          "2024-02-12T12:00:00+00:00",
          "2024-02-12T13:00:00+00:00",
          "2024-02-12T14:00:00+00:00",
          "2024-02-12T15:00:00+00:00",
          "2024-02-12T16:00:00+00:00",
          "2024-02-12T18:00:00+00:00",
          "2024-02-12T20:00:00+00:00",
          "2024-02-13T01:00:00+00:00",
          "2024-02-13T02:00:00+00:00",
          "2024-02-13T03:00:00+00:00",
          "2024-02-13T04:00:00+00:00",
          "2024-02-13T05:00:00+00:00",
          "2024-02-13T06:00:00+00:00",
          "2024-02-13T09:00:00+00:00",
          "2024-02-13T11:00:00+00:00",
          "2024-02-13T16:00:00+00:00",
          "2024-02-14T09:00:00+00:00",
          "2024-02-14T11:00:00+00:00",
          "2024-02-14T13:00:00+00:00",
          "2024-02-14T16:00:00+00:00",
          "2024-02-14T17:00:00+00:00",
          "2024-02-15T01:00:00+00:00",
          "2024-02-15T03:00:00+00:00",
          "2024-02-15T06:00:00+00:00",
          "2024-02-15T07:00:00+00:00",
          "2024-02-15T09:00:00+00:00",
          "2024-02-15T12:00:00+00:00",
          "2024-02-15T13:00:00+00:00",
          "2024-02-15T14:00:00+00:00",
          "2024-02-15T16:00:00+00:00",
          "2024-02-15T19:00:00+00:00",
          "2024-02-15T20:00:00+00:00",
          "2024-02-15T21:00:00+00:00",
          "2024-02-15T22:00:00+00:00",
          "2024-02-16T02:00:00+00:00",
          "2024-02-16T09:00:00+00:00",
          "2024-02-16T10:00:00+00:00",
          "2024-02-16T11:00:00+00:00",
          "2024-02-16T12:00:00+00:00",
          "2024-02-16T14:00:00+00:00",
          "2024-02-16T16:00:00+00:00",
          "2024-02-16T19:00:00+00:00",
          "2024-02-18T22:00:00+00:00",
          "2024-02-18T23:00:00+00:00",
          "2024-02-19T03:00:00+00:00",
          "2024-02-19T04:00:00+00:00",
          "2024-02-19T07:00:00+00:00",
          "2024-02-19T14:00:00+00:00",
          "2024-02-19T17:00:00+00:00",
          "2024-02-19T18:00:00+00:00",
          "2024-02-20T00:00:00+00:00",
          "2024-02-20T11:00:00+00:00",
          "2024-02-20T13:00:00+00:00",
          "2024-02-21T07:00:00+00:00",
          "2024-02-21T12:00:00+00:00",
          "2024-02-21T15:00:00+00:00",
          "2024-02-21T18:00:00+00:00",
          "2024-02-21T20:00:00+00:00",
          "2024-02-22T01:00:00+00:00",
          "2024-02-22T12:00:00+00:00",
          "2024-02-22T13:00:00+00:00",
          "2024-02-22T15:00:00+00:00",
          "2024-02-22T16:00:00+00:00",
          "2024-02-22T19:00:00+00:00",
          "2024-02-22T23:00:00+00:00",
          "2024-02-23T04:00:00+00:00",
          "2024-02-23T09:00:00+00:00",
          "2024-02-23T14:00:00+00:00",
          "2024-02-23T16:00:00+00:00",
          "2024-02-23T19:00:00+00:00",
          "2024-02-23T21:00:00+00:00",
          "2024-02-26T01:00:00+00:00",
          "2024-02-26T02:00:00+00:00",
          "2024-02-26T03:00:00+00:00",
          "2024-02-26T04:00:00+00:00",
          "2024-02-26T09:00:00+00:00",
          "2024-02-26T11:00:00+00:00",
          "2024-02-26T14:00:00+00:00",
          "2024-02-26T20:00:00+00:00",
          "2024-02-27T01:00:00+00:00",
          "2024-02-27T06:00:00+00:00",
          "2024-02-27T08:00:00+00:00",
          "2024-02-27T10:00:00+00:00",
          "2024-02-27T14:00:00+00:00",
          "2024-02-27T16:00:00+00:00",
          "2024-02-27T19:00:00+00:00",
          "2024-02-27T20:00:00+00:00",
          "2024-02-27T21:00:00+00:00",
          "2024-02-27T22:00:00+00:00",
          "2024-02-28T02:00:00+00:00",
          "2024-02-28T03:00:00+00:00",
          "2024-02-28T11:00:00+00:00",
          "2024-02-28T12:00:00+00:00",
          "2024-02-28T19:00:00+00:00",
          "2024-02-29T01:00:00+00:00",
          "2024-02-29T04:00:00+00:00",
          "2024-02-29T07:00:00+00:00",
          "2024-02-29T09:00:00+00:00",
          "2024-02-29T16:00:00+00:00",
          "2024-02-29T18:00:00+00:00",
          "2024-02-29T19:00:00+00:00",
          "2024-03-01T01:00:00+00:00",
          "2024-03-01T08:00:00+00:00",
          "2024-03-01T13:00:00+00:00",
          "2024-03-01T14:00:00+00:00",
          "2024-03-01T15:00:00+00:00",
          "2024-03-01T16:00:00+00:00",
          "2024-03-03T23:00:00+00:00",
          "2024-03-04T00:00:00+00:00",
          "2024-03-04T04:00:00+00:00",
          "2024-03-04T05:00:00+00:00",
          "2024-03-04T08:00:00+00:00",
          "2024-03-04T09:00:00+00:00",
          "2024-03-04T12:00:00+00:00",
          "2024-03-05T05:00:00+00:00",
          "2024-03-05T06:00:00+00:00",
          "2024-03-05T07:00:00+00:00",
          "2024-03-05T08:00:00+00:00",
          "2024-03-05T09:00:00+00:00",
          "2024-03-05T11:00:00+00:00",
          "2024-03-05T13:00:00+00:00",
          "2024-03-05T14:00:00+00:00",
          "2024-03-05T15:00:00+00:00",
          "2024-03-05T18:00:00+00:00",
          "2024-03-05T20:00:00+00:00",
          "2024-03-05T23:00:00+00:00",
          "2024-03-06T00:00:00+00:00",
          "2024-03-06T01:00:00+00:00",
          "2024-03-06T04:00:00+00:00",
          "2024-03-06T08:00:00+00:00",
          "2024-03-06T09:00:00+00:00",
          "2024-03-06T14:00:00+00:00",
          "2024-03-06T15:00:00+00:00",
          "2024-03-06T16:00:00+00:00",
          "2024-03-06T19:00:00+00:00",
          "2024-03-06T20:00:00+00:00",
          "2024-03-06T21:00:00+00:00",
          "2024-03-07T01:00:00+00:00",
          "2024-03-07T02:00:00+00:00",
          "2024-03-07T09:00:00+00:00",
          "2024-03-07T12:00:00+00:00",
          "2024-03-07T20:00:00+00:00",
          "2024-03-07T21:00:00+00:00",
          "2024-03-08T03:00:00+00:00",
          "2024-03-08T07:00:00+00:00",
          "2024-03-08T12:00:00+00:00",
          "2024-03-08T14:00:00+00:00",
          "2024-03-08T17:00:00+00:00",
          "2024-03-08T18:00:00+00:00",
          "2024-03-11T07:00:00+00:00",
          "2024-03-11T15:00:00+00:00",
          "2024-03-11T16:00:00+00:00",
          "2024-03-11T17:00:00+00:00",
          "2024-03-11T20:00:00+00:00",
          "2024-03-11T21:00:00+00:00",
          "2024-03-11T22:00:00+00:00",
          "2024-03-12T03:00:00+00:00",
          "2024-03-12T06:00:00+00:00",
          "2024-03-12T07:00:00+00:00",
          "2024-03-12T08:00:00+00:00",
          "2024-03-12T17:00:00+00:00",
          "2024-03-12T18:00:00+00:00",
          "2024-03-12T19:00:00+00:00",
          "2024-03-13T01:00:00+00:00",
          "2024-03-13T05:00:00+00:00",
          "2024-03-13T09:00:00+00:00",
          "2024-03-13T15:00:00+00:00",
          "2024-03-13T21:00:00+00:00",
          "2024-03-14T00:00:00+00:00",
          "2024-03-14T09:00:00+00:00",
          "2024-03-14T10:00:00+00:00",
          "2024-03-14T12:00:00+00:00",
          "2024-03-14T14:00:00+00:00",
          "2024-03-14T18:00:00+00:00",
          "2024-03-14T19:00:00+00:00",
          "2024-03-14T20:00:00+00:00",
          "2024-03-14T22:00:00+00:00",
          "2024-03-15T03:00:00+00:00",
          "2024-03-15T05:00:00+00:00",
          "2024-03-15T08:00:00+00:00",
          "2024-03-15T09:00:00+00:00",
          "2024-03-15T10:00:00+00:00",
          "2024-03-15T12:00:00+00:00",
          "2024-03-15T15:00:00+00:00",
          "2024-03-15T18:00:00+00:00",
          "2024-03-15T20:00:00+00:00",
          "2024-03-17T22:00:00+00:00",
          "2024-03-17T23:00:00+00:00",
          "2024-03-18T03:00:00+00:00",
          "2024-03-18T07:00:00+00:00",
          "2024-03-18T08:00:00+00:00",
          "2024-03-18T09:00:00+00:00",
          "2024-03-18T10:00:00+00:00",
          "2024-03-18T13:00:00+00:00",
          "2024-03-18T14:00:00+00:00",
          "2024-03-18T16:00:00+00:00",
          "2024-03-18T19:00:00+00:00",
          "2024-03-18T20:00:00+00:00",
          "2024-03-18T21:00:00+00:00",
          "2024-03-19T05:00:00+00:00",
          "2024-03-19T13:00:00+00:00",
          "2024-03-19T15:00:00+00:00",
          "2024-03-19T16:00:00+00:00",
          "2024-03-20T15:00:00+00:00",
          "2024-03-20T18:00:00+00:00",
          "2024-03-20T20:00:00+00:00",
          "2024-03-21T02:00:00+00:00",
          "2024-03-21T05:00:00+00:00",
          "2024-03-21T07:00:00+00:00",
          "2024-03-21T11:00:00+00:00",
          "2024-03-21T12:00:00+00:00",
          "2024-03-21T13:00:00+00:00",
          "2024-03-21T16:00:00+00:00",
          "2024-03-21T19:00:00+00:00",
          "2024-03-22T02:00:00+00:00",
          "2024-03-22T04:00:00+00:00",
          "2024-03-22T08:00:00+00:00",
          "2024-03-22T12:00:00+00:00",
          "2024-03-22T16:00:00+00:00",
          "2024-03-22T19:00:00+00:00",
          "2024-03-22T20:00:00+00:00",
          "2024-03-24T22:00:00+00:00",
          "2024-03-25T06:00:00+00:00",
          "2024-03-25T08:00:00+00:00",
          "2024-03-25T10:00:00+00:00",
          "2024-03-25T14:00:00+00:00",
          "2024-03-25T15:00:00+00:00",
          "2024-03-25T16:00:00+00:00",
          "2024-03-25T17:00:00+00:00",
          "2024-03-25T21:00:00+00:00",
          "2024-03-25T22:00:00+00:00",
          "2024-03-26T03:00:00+00:00",
          "2024-03-26T07:00:00+00:00",
          "2024-03-26T09:00:00+00:00",
          "2024-03-26T12:00:00+00:00",
          "2024-03-26T13:00:00+00:00",
          "2024-03-26T17:00:00+00:00",
          "2024-03-26T19:00:00+00:00",
          "2024-03-26T20:00:00+00:00",
          "2024-03-26T21:00:00+00:00",
          "2024-03-27T00:00:00+00:00",
          "2024-03-27T10:00:00+00:00",
          "2024-03-27T11:00:00+00:00",
          "2024-03-27T12:00:00+00:00",
          "2024-03-27T13:00:00+00:00",
          "2024-03-27T14:00:00+00:00",
          "2024-03-27T15:00:00+00:00",
          "2024-03-27T16:00:00+00:00",
          "2024-03-28T00:00:00+00:00",
          "2024-03-28T08:00:00+00:00",
          "2024-03-28T11:00:00+00:00",
          "2024-03-28T15:00:00+00:00",
          "2024-03-28T16:00:00+00:00",
          "2024-03-29T05:00:00+00:00",
          "2024-03-29T08:00:00+00:00",
          "2024-03-29T18:00:00+00:00",
          "2024-03-31T23:00:00+00:00",
          "2024-04-01T00:00:00+00:00",
          "2024-04-01T07:00:00+00:00",
          "2024-04-01T12:00:00+00:00",
          "2024-04-01T14:00:00+00:00",
          "2024-04-01T15:00:00+00:00",
          "2024-04-01T16:00:00+00:00",
          "2024-04-01T19:00:00+00:00",
          "2024-04-01T21:00:00+00:00",
          "2024-04-02T01:00:00+00:00",
          "2024-04-02T06:00:00+00:00",
          "2024-04-02T07:00:00+00:00",
          "2024-04-02T08:00:00+00:00",
          "2024-04-02T09:00:00+00:00",
          "2024-04-02T15:00:00+00:00",
          "2024-04-02T16:00:00+00:00",
          "2024-04-02T17:00:00+00:00",
          "2024-04-02T19:00:00+00:00",
          "2024-04-03T06:00:00+00:00",
          "2024-04-03T09:00:00+00:00",
          "2024-04-03T12:00:00+00:00",
          "2024-04-03T17:00:00+00:00",
          "2024-04-03T20:00:00+00:00",
          "2024-04-03T22:00:00+00:00",
          "2024-04-04T06:00:00+00:00",
          "2024-04-04T20:00:00+00:00",
          "2024-04-04T22:00:00+00:00",
          "2024-04-04T23:00:00+00:00",
          "2024-04-05T01:00:00+00:00",
          "2024-04-05T02:00:00+00:00",
          "2024-04-05T05:00:00+00:00",
          "2024-04-05T11:00:00+00:00",
          "2024-04-05T17:00:00+00:00",
          "2024-04-05T18:00:00+00:00",
          "2024-04-05T20:00:00+00:00",
          "2024-04-07T21:00:00+00:00",
          "2024-04-07T22:00:00+00:00",
          "2024-04-07T23:00:00+00:00",
          "2024-04-08T07:00:00+00:00",
          "2024-04-08T08:00:00+00:00",
          "2024-04-08T09:00:00+00:00",
          "2024-04-08T10:00:00+00:00",
          "2024-04-08T11:00:00+00:00",
          "2024-04-08T14:00:00+00:00",
          "2024-04-08T19:00:00+00:00",
          "2024-04-08T20:00:00+00:00",
          "2024-04-09T04:00:00+00:00",
          "2024-04-09T09:00:00+00:00",
          "2024-04-09T16:00:00+00:00",
          "2024-04-10T00:00:00+00:00",
          "2024-04-10T02:00:00+00:00",
          "2024-04-10T12:00:00+00:00",
          "2024-04-10T13:00:00+00:00",
          "2024-04-10T14:00:00+00:00",
          "2024-04-10T17:00:00+00:00",
          "2024-04-10T18:00:00+00:00",
          "2024-04-10T19:00:00+00:00",
          "2024-04-10T21:00:00+00:00",
          "2024-04-11T07:00:00+00:00",
          "2024-04-11T08:00:00+00:00",
          "2024-04-11T09:00:00+00:00",
          "2024-04-11T12:00:00+00:00",
          "2024-04-11T14:00:00+00:00",
          "2024-04-11T16:00:00+00:00",
          "2024-04-11T17:00:00+00:00",
          "2024-04-11T20:00:00+00:00",
          "2024-04-11T21:00:00+00:00",
          "2024-04-11T22:00:00+00:00",
          "2024-04-11T23:00:00+00:00",
          "2024-04-12T04:00:00+00:00",
          "2024-04-12T06:00:00+00:00",
          "2024-04-12T09:00:00+00:00",
          "2024-04-12T11:00:00+00:00",
          "2024-04-12T13:00:00+00:00",
          "2024-04-12T17:00:00+00:00",
          "2024-04-12T20:00:00+00:00",
          "2024-04-15T03:00:00+00:00",
          "2024-04-15T07:00:00+00:00",
          "2024-04-15T08:00:00+00:00",
          "2024-04-15T10:00:00+00:00",
          "2024-04-16T01:00:00+00:00",
          "2024-04-16T02:00:00+00:00",
          "2024-04-16T08:00:00+00:00",
          "2024-04-16T12:00:00+00:00",
          "2024-04-16T16:00:00+00:00",
          "2024-04-17T02:00:00+00:00",
          "2024-04-17T04:00:00+00:00",
          "2024-04-17T08:00:00+00:00",
          "2024-04-17T15:00:00+00:00",
          "2024-04-17T17:00:00+00:00",
          "2024-04-17T18:00:00+00:00",
          "2024-04-17T19:00:00+00:00",
          "2024-04-17T21:00:00+00:00",
          "2024-04-18T00:00:00+00:00",
          "2024-04-18T02:00:00+00:00",
          "2024-04-18T05:00:00+00:00",
          "2024-04-18T08:00:00+00:00",
          "2024-04-18T14:00:00+00:00",
          "2024-04-18T17:00:00+00:00",
          "2024-04-18T20:00:00+00:00",
          "2024-04-18T21:00:00+00:00",
          "2024-04-18T22:00:00+00:00",
          "2024-04-18T23:00:00+00:00",
          "2024-04-19T00:00:00+00:00",
          "2024-04-19T01:00:00+00:00",
          "2024-04-19T02:00:00+00:00",
          "2024-04-19T03:00:00+00:00",
          "2024-04-19T05:00:00+00:00",
          "2024-04-19T10:00:00+00:00",
          "2024-04-19T12:00:00+00:00",
          "2024-04-19T14:00:00+00:00",
          "2024-04-19T15:00:00+00:00",
          "2024-04-19T16:00:00+00:00",
          "2024-04-19T18:00:00+00:00",
          "2024-04-21T23:00:00+00:00",
          "2024-04-22T02:00:00+00:00",
          "2024-04-22T04:00:00+00:00",
          "2024-04-22T16:00:00+00:00",
          "2024-04-22T17:00:00+00:00",
          "2024-04-23T01:00:00+00:00",
          "2024-04-23T12:00:00+00:00",
          "2024-04-23T13:00:00+00:00",
          "2024-04-23T16:00:00+00:00",
          "2024-04-23T17:00:00+00:00",
          "2024-04-23T18:00:00+00:00",
          "2024-04-23T19:00:00+00:00",
          "2024-04-23T21:00:00+00:00",
          "2024-04-24T01:00:00+00:00",
          "2024-04-24T05:00:00+00:00",
          "2024-04-24T06:00:00+00:00",
          "2024-04-24T16:00:00+00:00",
          "2024-04-24T23:00:00+00:00",
          "2024-04-25T06:00:00+00:00",
          "2024-04-25T16:00:00+00:00",
          "2024-04-26T01:00:00+00:00",
          "2024-04-26T05:00:00+00:00",
          "2024-04-26T10:00:00+00:00",
          "2024-04-26T14:00:00+00:00",
          "2024-04-26T15:00:00+00:00",
          "2024-04-26T18:00:00+00:00",
          "2024-04-29T00:00:00+00:00",
          "2024-04-29T05:00:00+00:00",
          "2024-04-29T08:00:00+00:00",
          "2024-04-29T10:00:00+00:00",
          "2024-04-29T11:00:00+00:00",
          "2024-04-29T12:00:00+00:00",
          "2024-04-29T15:00:00+00:00",
          "2024-04-29T19:00:00+00:00",
          "2024-04-29T22:00:00+00:00",
          "2024-04-30T01:00:00+00:00",
          "2024-04-30T04:00:00+00:00",
          "2024-04-30T06:00:00+00:00",
          "2024-04-30T07:00:00+00:00",
          "2024-04-30T08:00:00+00:00",
          "2024-04-30T11:00:00+00:00",
          "2024-04-30T13:00:00+00:00",
          "2024-04-30T16:00:00+00:00",
          "2024-04-30T22:00:00+00:00",
          "2024-05-01T12:00:00+00:00",
          "2024-05-01T18:00:00+00:00",
          "2024-05-01T19:00:00+00:00",
          "2024-05-01T20:00:00+00:00",
          "2024-05-01T21:00:00+00:00",
          "2024-05-01T23:00:00+00:00",
          "2024-05-02T07:00:00+00:00",
          "2024-05-02T09:00:00+00:00",
          "2024-05-02T13:00:00+00:00",
          "2024-05-02T21:00:00+00:00",
          "2024-05-03T14:00:00+00:00",
          "2024-05-06T00:00:00+00:00",
          "2024-05-06T03:00:00+00:00",
          "2024-05-06T06:00:00+00:00",
          "2024-05-06T09:00:00+00:00",
          "2024-05-06T10:00:00+00:00",
          "2024-05-06T19:00:00+00:00",
          "2024-05-07T01:00:00+00:00",
          "2024-05-07T08:00:00+00:00",
          "2024-05-07T09:00:00+00:00",
          "2024-05-07T15:00:00+00:00",
          "2024-05-07T16:00:00+00:00",
          "2024-05-07T19:00:00+00:00",
          "2024-05-08T00:00:00+00:00",
          "2024-05-08T03:00:00+00:00",
          "2024-05-08T06:00:00+00:00",
          "2024-05-08T07:00:00+00:00",
          "2024-05-08T18:00:00+00:00",
          "2024-05-08T20:00:00+00:00",
          "2024-05-08T21:00:00+00:00",
          "2024-05-09T08:00:00+00:00",
          "2024-05-09T11:00:00+00:00",
          "2024-05-09T17:00:00+00:00",
          "2024-05-10T06:00:00+00:00",
          "2024-05-10T09:00:00+00:00",
          "2024-05-10T10:00:00+00:00",
          "2024-05-10T12:00:00+00:00",
          "2024-05-10T14:00:00+00:00",
          "2024-05-10T16:00:00+00:00",
          "2024-05-10T19:00:00+00:00",
          "2024-05-12T21:00:00+00:00",
          "2024-05-13T01:00:00+00:00",
          "2024-05-13T05:00:00+00:00",
          "2024-05-13T10:00:00+00:00",
          "2024-05-13T17:00:00+00:00",
          "2024-05-14T08:00:00+00:00",
          "2024-05-14T14:00:00+00:00",
          "2024-05-14T17:00:00+00:00",
          "2024-05-14T22:00:00+00:00",
          "2024-05-15T00:00:00+00:00",
          "2024-05-15T12:00:00+00:00",
          "2024-05-15T13:00:00+00:00",
          "2024-05-15T14:00:00+00:00",
          "2024-05-15T17:00:00+00:00",
          "2024-05-15T22:00:00+00:00",
          "2024-05-16T05:00:00+00:00",
          "2024-05-16T06:00:00+00:00",
          "2024-05-16T10:00:00+00:00",
          "2024-05-16T11:00:00+00:00",
          "2024-05-16T16:00:00+00:00",
          "2024-05-16T17:00:00+00:00",
          "2024-05-16T18:00:00+00:00",
          "2024-05-16T23:00:00+00:00",
          "2024-05-17T12:00:00+00:00",
          "2024-05-17T20:00:00+00:00",
          "2024-05-20T00:00:00+00:00",
          "2024-05-20T03:00:00+00:00",
          "2024-05-20T06:00:00+00:00",
          "2024-05-20T12:00:00+00:00",
          "2024-05-20T13:00:00+00:00",
          "2024-05-20T14:00:00+00:00",
          "2024-05-21T03:00:00+00:00",
          "2024-05-21T06:00:00+00:00",
          "2024-05-21T11:00:00+00:00",
          "2024-05-21T13:00:00+00:00",
          "2024-05-21T16:00:00+00:00",
          "2024-05-21T18:00:00+00:00",
          "2024-05-21T23:00:00+00:00",
          "2024-05-22T01:00:00+00:00",
          "2024-05-22T03:00:00+00:00",
          "2024-05-22T04:00:00+00:00",
          "2024-05-22T05:00:00+00:00",
          "2024-05-22T07:00:00+00:00",
          "2024-05-22T08:00:00+00:00",
          "2024-05-22T11:00:00+00:00",
          "2024-05-22T12:00:00+00:00",
          "2024-05-22T15:00:00+00:00",
          "2024-05-22T22:00:00+00:00",
          "2024-05-23T05:00:00+00:00",
          "2024-05-23T09:00:00+00:00",
          "2024-05-23T13:00:00+00:00",
          "2024-05-23T16:00:00+00:00",
          "2024-05-23T19:00:00+00:00",
          "2024-05-23T23:00:00+00:00",
          "2024-05-24T00:00:00+00:00",
          "2024-05-24T06:00:00+00:00",
          "2024-05-24T08:00:00+00:00",
          "2024-05-24T09:00:00+00:00",
          "2024-05-24T10:00:00+00:00",
          "2024-05-24T11:00:00+00:00",
          "2024-05-24T12:00:00+00:00",
          "2024-05-24T14:00:00+00:00",
          "2024-05-24T15:00:00+00:00",
          "2024-05-24T16:00:00+00:00",
          "2024-05-24T18:00:00+00:00",
          "2024-05-24T19:00:00+00:00",
          "2024-05-24T20:00:00+00:00",
          "2024-05-27T00:00:00+00:00",
          "2024-05-27T04:00:00+00:00",
          "2024-05-27T05:00:00+00:00",
          "2024-05-27T11:00:00+00:00",
          "2024-05-28T11:00:00+00:00",
          "2024-05-28T13:00:00+00:00",
          "2024-05-28T15:00:00+00:00",
          "2024-05-28T18:00:00+00:00",
          "2024-05-28T23:00:00+00:00",
          "2024-05-29T00:00:00+00:00",
          "2024-05-29T04:00:00+00:00",
          "2024-05-29T06:00:00+00:00",
          "2024-05-29T11:00:00+00:00",
          "2024-05-29T13:00:00+00:00",
          "2024-05-29T19:00:00+00:00",
          "2024-05-29T21:00:00+00:00",
          "2024-05-30T00:00:00+00:00",
          "2024-05-30T01:00:00+00:00",
          "2024-05-30T03:00:00+00:00",
          "2024-05-30T05:00:00+00:00",
          "2024-05-30T07:00:00+00:00",
          "2024-05-30T12:00:00+00:00",
          "2024-05-30T17:00:00+00:00",
          "2024-05-30T18:00:00+00:00",
          "2024-05-31T03:00:00+00:00",
          "2024-05-31T04:00:00+00:00",
          "2024-05-31T05:00:00+00:00",
          "2024-05-31T07:00:00+00:00",
          "2024-05-31T09:00:00+00:00",
          "2024-05-31T10:00:00+00:00",
          "2024-05-31T11:00:00+00:00",
          "2024-05-31T14:00:00+00:00",
          "2024-05-31T19:00:00+00:00",
          "2024-05-31T20:00:00+00:00",
          "2024-06-03T05:00:00+00:00",
          "2024-06-03T12:00:00+00:00",
          "2024-06-03T14:00:00+00:00",
          "2024-06-03T15:00:00+00:00",
          "2024-06-03T16:00:00+00:00",
          "2024-06-03T17:00:00+00:00",
          "2024-06-03T20:00:00+00:00",
          "2024-06-03T23:00:00+00:00",
          "2024-06-04T00:00:00+00:00",
          "2024-06-04T04:00:00+00:00",
          "2024-06-04T07:00:00+00:00",
          "2024-06-04T08:00:00+00:00",
          "2024-06-04T09:00:00+00:00",
          "2024-06-04T10:00:00+00:00",
          "2024-06-05T01:00:00+00:00",
          "2024-06-05T02:00:00+00:00",
          "2024-06-05T08:00:00+00:00",
          "2024-06-05T12:00:00+00:00",
          "2024-06-05T13:00:00+00:00",
          "2024-06-05T18:00:00+00:00",
          "2024-06-05T22:00:00+00:00",
          "2024-06-06T02:00:00+00:00",
          "2024-06-06T07:00:00+00:00",
          "2024-06-06T10:00:00+00:00",
          "2024-06-06T15:00:00+00:00",
          "2024-06-06T18:00:00+00:00",
          "2024-06-06T22:00:00+00:00",
          "2024-06-07T02:00:00+00:00",
          "2024-06-07T06:00:00+00:00",
          "2024-06-07T07:00:00+00:00",
          "2024-06-07T08:00:00+00:00",
          "2024-06-07T10:00:00+00:00",
          "2024-06-07T12:00:00+00:00",
          "2024-06-07T13:00:00+00:00",
          "2024-06-07T14:00:00+00:00",
          "2024-06-07T16:00:00+00:00",
          "2024-06-07T17:00:00+00:00",
          "2024-06-07T20:00:00+00:00",
          "2024-06-09T22:00:00+00:00",
          "2024-06-09T23:00:00+00:00",
          "2024-06-10T01:00:00+00:00",
          "2024-06-10T11:00:00+00:00",
          "2024-06-10T13:00:00+00:00",
          "2024-06-10T14:00:00+00:00",
          "2024-06-10T16:00:00+00:00",
          "2024-06-10T19:00:00+00:00",
          "2024-06-11T05:00:00+00:00",
          "2024-06-11T11:00:00+00:00",
          "2024-06-11T14:00:00+00:00",
          "2024-06-11T19:00:00+00:00",
          "2024-06-11T20:00:00+00:00",
          "2024-06-11T23:00:00+00:00",
          "2024-06-12T05:00:00+00:00"
         ],
         "y": [
          -14.800000000000368,
          -70.10000000000072,
          -102.59999999999958,
          -120.20000000000053,
          -170.8999999999996,
          -206.1000000000004,
          -277.90000000000003,
          -300.0000000000005,
          -345.50000000000216,
          -389.50000000000176,
          -243.80000000000206,
          -266.70000000000107,
          -64.30000000000297,
          11.199999999996479,
          -32.50000000000328,
          3.4999999999956373,
          2.7999999999954923,
          -27.800000000005667,
          -54.5000000000081,
          -131.00000000000674,
          -155.90000000000768,
          -285.6000000000091,
          -304.1000000000093,
          -319.0000000000081,
          -385.4000000000079,
          -427.2000000000085,
          -487.3000000000084,
          -574.2000000000071,
          -605.0000000000045,
          -546.9000000000057,
          -313.2000000000039,
          -352.90000000000447,
          -400.1000000000028,
          -465.00000000000165,
          -479.2000000000014,
          -500.8000000000008,
          -520.9000000000015,
          -384.39999999999986,
          -334.7999999999991,
          -329.19999999999794,
          -334.1999999999974,
          -330.69999999999663,
          -330.49999999999534,
          -331.1999999999955,
          -429.999999999996,
          -434.1999999999962,
          -464.9999999999959,
          -496.19999999999567,
          -520.1999999999974,
          -543.1999999999964,
          -701.3999999999969,
          -353.7999999999953,
          -349.4999999999949,
          -310.69999999999436,
          -273.69999999999624,
          -330.99999999999636,
          -346.2999999999947,
          -379.7999999999944,
          -398.09999999999366,
          -263.7999999999947,
          -230.89999999999347,
          -99.79999999999276,
          -193.69999999999064,
          -187.29999999998978,
          -225.49999999998911,
          -183.4999999999871,
          -168.09999999998723,
          -208.29999999998637,
          -233.8999999999864,
          -247.09999999998627,
          -241.29999999998603,
          -258.49999999998573,
          -267.19999999998527,
          -261.19999999998504,
          -267.99999999998516,
          -241.3999999999852,
          -259.39999999998435,
          -326.39999999998594,
          -421.5999999999834,
          -492.99999999998266,
          -491.0999999999821,
          -567.099999999981,
          -580.999999999982,
          -688.5999999999835,
          -715.799999999984,
          -726.299999999984,
          -795.1999999999846,
          -770.9999999999841,
          -766.699999999987,
          -787.9999999999877,
          -854.5999999999866,
          -875.5999999999865,
          -893.5999999999867,
          -993.4999999999858,
          -1006.8999999999859,
          -1079.6999999999848,
          -1017.3999999999852,
          -1044.9999999999834,
          -868.0999999999829,
          -688.1999999999833,
          -705.7999999999831,
          -714.5999999999831,
          -526.4999999999831,
          -551.8999999999821,
          -562.0999999999823,
          -573.1999999999829,
          -519.3999999999812,
          -620.7999999999804,
          -538.699999999981,
          -549.1999999999799,
          -546.1999999999794,
          -562.2999999999794,
          -621.3999999999791,
          -626.8999999999795,
          -637.499999999979,
          -627.7999999999798,
          -616.4999999999802,
          -734.9999999999794,
          -747.1999999999794,
          -763.9999999999784,
          -657.8999999999805,
          -581.7999999999804,
          -538.3999999999807,
          -528.9999999999825,
          -402.2999999999829,
          -445.699999999983,
          -451.6999999999823,
          -446.1999999999818,
          -430.99999999998215,
          -429.9999999999811,
          -438.19999999998157,
          -420.49999999998107,
          -249.79999999998077,
          -168.19999999998052,
          -164.4999999999807,
          -154.59999999998246,
          11.800000000016723,
          -46.99999999998213,
          -51.699999999981834,
          8.700000000016665,
          86.3000000000163,
          46.70000000001666,
          59.10000000001618,
          58.80000000001644,
          -62.39999999998042,
          -83.49999999998099,
          -34.899999999980125,
          -110.89999999997619,
          -114.99999999997641,
          -98.79999999997464,
          -139.29999999997352,
          -147.7999999999737,
          -148.89999999997312,
          -112.89999999997264,
          -118.99999999997263,
          -130.19999999997273,
          -196.0999999999737,
          -221.39999999997514,
          -250.59999999997547,
          -306.99999999997635,
          -342.9999999999768,
          -390.2999999999781,
          -343.4999999999778,
          -383.99999999997664,
          -28.49999999997698,
          -73.19999999997725,
          510.4000000000246,
          548.7000000000237,
          548.7000000000237,
          545.5000000000227,
          608.7000000000232,
          607.8000000000229,
          541.8000000000233,
          537.6000000000236,
          472.9000000000238,
          415.1000000000237,
          413.10000000002395,
          381.2000000000237,
          512.900000000025,
          535.100000000025,
          499.6000000000256,
          489.50000000002603,
          426.5000000000265,
          412.60000000002645,
          606.400000000026,
          609.7000000000254,
          666.6000000000273,
          637.3000000000263,
          627.4000000000274,
          578.400000000029,
          586.0000000000298,
          769.9000000000299,
          740.8000000000291,
          808.3000000000294,
          774.80000000003,
          757.6000000000303,
          735.4000000000294,
          700.3000000000293,
          671.9000000000286,
          598.1000000000287,
          998.1000000000287,
          936.7000000000294,
          933.0000000000288,
          934.3000000000293,
          963.7000000000289,
          936.2000000000297,
          906.3000000000314,
          914.2000000000321,
          884.2000000000321,
          872.8000000000318,
          862.3000000000318,
          764.500000000035,
          621.3000000000361,
          589.5000000000365,
          526.1000000000364,
          475.50000000003797,
          435.2000000000382,
          400.40000000003715,
          371.5000000000357,
          358.6000000000341,
          347.80000000003326,
          487.1000000000319,
          466.0000000000314,
          571.3000000000311,
          726.200000000031,
          710.2000000000317,
          635.6000000000292,
          601.000000000028,
          580.3000000000278,
          570.2000000000271,
          561.1000000000274,
          552.8000000000275,
          486.30000000002815,
          440.1000000000275,
          426.0000000000272,
          431.1000000000273,
          419.80000000002764,
          405.20000000002744,
          375.30000000002696,
          343.30000000002826,
          355.0000000000283,
          311.4000000000269,
          305.0000000000261,
          242.40000000002453,
          229.80000000002414,
          227.70000000002452,
          222.70000000002622,
          250.1000000000263,
          179.20000000002884,
          134.1000000000295,
          100.00000000002925,
          100.50000000002919,
          82.000000000029,
          65.00000000002865,
          65.60000000002813,
          -67.99999999997226,
          -184.3999999999743,
          -228.5999999999741,
          -224.19999999997415,
          -247.2999999999745,
          -251.49999999997536,
          -299.6999999999747,
          -353.4999999999741,
          -281.7999999999728,
          -302.5999999999714,
          -349.89999999997036,
          -426.79999999997233,
          -231.99999999997158,
          -318.7999999999707,
          -318.69999999997003,
          -256.89999999997053,
          -147.89999999997337,
          -139.69999999997407,
          -208.39999999997337,
          -309.199999999972,
          -312.29999999997233,
          -398.19999999997333,
          -400.7999999999737,
          -426.99999999997436,
          -556.6999999999737,
          -672.2999999999738,
          -765.199999999974,
          -790.5999999999739,
          -871.199999999975,
          -864.4999999999771,
          -806.5999999999792,
          -869.0999999999784,
          -866.0999999999788,
          -796.2999999999789,
          -825.5999999999777,
          -775.9999999999781,
          -546.3999999999794,
          -479.0999999999792,
          -394.89999999997934,
          -429.9999999999795,
          -462.5999999999788,
          -275.2999999999798,
          -36.099999999980355,
          12.600000000020053,
          -12.699999999980268,
          -24.599999999979403,
          -7.799999999979256,
          -140.79999999997767,
          -128.89999999997744,
          -149.79999999997776,
          -162.69999999997677,
          -216.49999999997618,
          -234.29999999997622,
          -358.59999999997564,
          -368.79999999997585,
          -377.59999999997575,
          -428.29999999997483,
          -372.0999999999765,
          -380.499999999976,
          -402.89999999997497,
          -487.5999999999744,
          -555.3999999999734,
          -599.9999999999725,
          -629.0999999999722,
          -630.7999999999722,
          -651.5999999999719,
          -696.3999999999724,
          -694.999999999972,
          -715.2999999999718,
          -742.7999999999721,
          -784.1999999999724,
          -672.19999999997,
          -686.2999999999691,
          -683.7999999999686,
          -707.3999999999676,
          -796.9999999999661,
          -861.799999999967,
          -917.1999999999668,
          -920.5999999999669,
          -920.7999999999679,
          -922.7999999999677,
          -952.9999999999679,
          -841.3999999999673,
          -849.5999999999677,
          -927.4999999999685,
          -955.699999999969,
          -959.7999999999681,
          -927.6999999999676,
          -1087.1999999999678,
          -1042.6999999999684,
          -1005.7999999999685,
          -968.999999999969,
          -905.7999999999685,
          -931.999999999968,
          -948.1999999999676,
          -1045.4999999999657,
          -1094.899999999965,
          -1131.2999999999658,
          -1134.8999999999662,
          -1232.1999999999664,
          -1313.2999999999681,
          -1311.8999999999678,
          -1248.7999999999686,
          -1279.4999999999677,
          -1357.9999999999673,
          -1357.4999999999684,
          -1127.499999999967,
          -1145.799999999967,
          -1179.5999999999663,
          -1217.8999999999662,
          -1298.0999999999665,
          -1336.3999999999664,
          -1398.8999999999664,
          -1466.2999999999656,
          -1496.3999999999653,
          -1513.5999999999647,
          -1595.6999999999653,
          -1301.1999999999655,
          -1332.5999999999658,
          -1254.0999999999647,
          -971.6999999999663,
          -669.6999999999672,
          -620.7999999999668,
          -481.49999999996675,
          -514.3999999999669,
          -534.7999999999673,
          -653.0999999999674,
          -686.599999999967,
          -697.6999999999665,
          -711.5999999999665,
          -775.099999999965,
          -788.8999999999655,
          -792.7999999999655,
          -809.7999999999658,
          -846.6999999999656,
          -841.8999999999652,
          -834.0999999999651,
          -851.5999999999655,
          -858.0999999999648,
          -888.5999999999648,
          -914.9999999999645,
          -990.7999999999657,
          -1007.7999999999658,
          -1060.9999999999663,
          -1090.899999999967,
          -1112.2999999999668,
          -1159.8999999999678,
          -1177.6999999999675,
          -1244.8999999999673,
          -1255.8999999999673,
          -1225.999999999968,
          -1289.7999999999683,
          -1235.9999999999686,
          -1165.399999999967,
          -1094.399999999966,
          -1080.399999999966,
          -1092.1999999999666,
          -1120.5999999999663,
          -1112.9999999999666,
          -1105.6999999999675,
          -1115.799999999967,
          -1180.2999999999677,
          -1193.899999999968,
          -1200.8999999999683,
          -1220.7999999999688,
          -1214.199999999969,
          -1215.2999999999683,
          -1222.3999999999683,
          -1231.8999999999683,
          -1230.499999999968,
          -1335.9999999999677,
          -1386.599999999966,
          -1435.6999999999632,
          -1470.9999999999636,
          -1534.7999999999627,
          -1750.9999999999568,
          -1784.2999999999563,
          -1823.3999999999548,
          -1830.9999999999548,
          -1859.6999999999562,
          -1560.4999999999545,
          -1465.8999999999544,
          -1149.2999999999531,
          -1138.4999999999534,
          -1145.9999999999525,
          -890.8999999999509,
          -766.5999999999485,
          -832.2999999999479,
          -847.3999999999476,
          -777.2999999999457,
          -791.8999999999457,
          -668.2999999999467,
          -760.899999999945,
          -744.6999999999443,
          -792.6999999999457,
          -779.1999999999452,
          -787.1999999999455,
          -841.9999999999447,
          -855.9999999999454,
          -851.9999999999459,
          -876.599999999945,
          -884.1999999999448,
          -879.3999999999444,
          -903.3999999999425,
          -939.8999999999418,
          -954.4999999999419,
          -958.5999999999416,
          -971.8999999999412,
          -1053.8999999999432,
          -1052.2999999999438,
          -1066.7999999999433,
          -1069.5999999999426,
          -1050.8999999999423,
          -1022.2999999999422,
          -1086.3999999999414,
          -1121.2999999999417,
          -1186.1999999999427,
          -1211.8999999999423,
          -1121.0999999999426,
          -1208.0999999999403,
          -1281.8999999999403,
          -1295.899999999939,
          -1368.799999999939,
          -1382.2999999999386,
          -1444.999999999938,
          -1462.9999999999368,
          -1495.199999999937,
          -1513.0999999999372,
          -1522.6999999999357,
          -1541.3999999999342,
          -1584.3999999999344,
          -1564.899999999935,
          -1559.5999999999344,
          -1537.5999999999347,
          -1562.9999999999336,
          -1636.4999999999325,
          -1651.5999999999326,
          -1661.299999999932,
          -1678.2999999999313,
          -1696.7999999999315,
          -1735.199999999933,
          -1807.7999999999327,
          -1819.699999999933,
          -1901.499999999934,
          -1792.5999999999335,
          -1723.4999999999338,
          -1713.999999999936,
          -1730.6999999999368,
          -1758.0999999999342,
          -1752.499999999934,
          -1693.3999999999355,
          -1707.1999999999362,
          -1740.4999999999359,
          -1808.499999999935,
          -1873.4999999999354,
          -1875.2999999999356,
          -1885.4999999999345,
          -1884.499999999934,
          -1873.3999999999323,
          -1858.6999999999332,
          -1824.8999999999294,
          -1699.99999999993,
          -1721.0999999999294,
          -1750.49999999993,
          -1787.2999999999295,
          -1824.1999999999293,
          -1859.6999999999287,
          -1926.9999999999288,
          -1948.1999999999277,
          -1980.0999999999267,
          -2019.7999999999258,
          -1978.7999999999233,
          -1995.7999999999238,
          -2002.1999999999246,
          -2019.6999999999236,
          -2034.0999999999235,
          -2089.2999999999242,
          -2219.7999999999256,
          -2328.8999999999282,
          -2310.899999999928,
          -2333.799999999928,
          -2338.4999999999277,
          -2351.5999999999267,
          -2409.799999999926,
          -2414.2999999999242,
          -2439.299999999926,
          -2506.199999999927,
          -2550.099999999926,
          -2594.699999999925,
          -2605.0999999999253,
          -2611.6999999999266,
          -2628.2999999999265,
          -2638.6999999999257,
          -2679.899999999927,
          -2691.6999999999275,
          -2745.2999999999265,
          -2733.299999999926,
          -2775.399999999925,
          -2790.099999999926,
          -2785.8999999999255,
          -2781.0999999999253,
          -2752.2999999999256,
          -2778.6999999999252,
          -2697.099999999928,
          -2614.4999999999286,
          -2606.099999999929,
          -2622.0999999999294,
          -2550.5999999999285,
          -2522.2999999999297,
          -2627.5999999999335,
          -2631.3999999999346,
          -2600.1999999999334,
          -2621.5999999999335,
          -2622.5999999999335,
          -2595.7999999999333,
          -2591.1999999999343,
          -2571.3999999999337,
          -2563.799999999933,
          -2435.2999999999324,
          -2468.9999999999327,
          -2469.9999999999327,
          -2464.999999999933,
          -2461.399999999932,
          -2466.5999999999303,
          -2501.4999999999304,
          -2413.29999999993,
          -2304.0999999999317,
          -2225.399999999931,
          -2113.7999999999297,
          -2131.899999999928,
          -2162.7999999999283,
          -2311.5999999999294,
          -2397.599999999929,
          -2401.09999999993,
          -2470.099999999929,
          -2564.0999999999285,
          -2592.8999999999305,
          -2626.2999999999297,
          -2637.9999999999286,
          -2689.899999999929,
          -2755.4999999999313,
          -2806.4999999999322,
          -2863.4999999999304,
          -2884.4999999999313,
          -2873.899999999932,
          -2881.699999999932,
          -2898.599999999933,
          -2939.3999999999305,
          -2979.2999999999306,
          -3012.9999999999295,
          -3046.3999999999287,
          -3023.899999999929,
          -3028.6999999999275,
          -3037.1999999999266,
          -3084.5999999999262,
          -3099.399999999926,
          -3165.2999999999247,
          -2895.299999999921,
          -2962.4999999999204,
          -2960.39999999992,
          -3005.999999999919,
          -3044.399999999919,
          -3070.799999999919,
          -3148.9999999999145,
          -3160.099999999915,
          -3173.6999999999152,
          -3060.6999999999143,
          -3083.2999999999142,
          -2964.4999999999127,
          -2965.8999999999123,
          -2984.299999999912,
          -3019.599999999912,
          -3042.0999999999117,
          -3078.4999999999127,
          -2936.699999999912,
          -2937.7999999999124,
          -2939.9999999999122,
          -2946.2999999999115,
          -2864.0999999999126,
          -2714.5999999999126,
          -2718.099999999912,
          -2579.299999999911,
          -2579.299999999911,
          -2608.6999999999107,
          -2622.4999999999113,
          -2652.6999999999107,
          -2669.699999999911,
          -2609.49999999991,
          -2614.0999999999103,
          -2621.2999999999106,
          -2661.6999999999116,
          -2707.8999999999114,
          -2679.299999999911,
          -2688.899999999912,
          -2686.2999999999115,
          -2686.4999999999104,
          -2664.8999999999096,
          -2684.6999999999093,
          -2691.0999999999103,
          -2651.199999999911,
          -2661.999999999911,
          -2663.5999999999112,
          -2677.59999999991,
          -2699.1999999999093,
          -2749.999999999909,
          -2495.3999999999064,
          -2509.5999999999062,
          -2540.399999999906,
          -2540.599999999907,
          -2553.799999999906,
          -2239.199999999907,
          -2288.799999999905,
          -2250.7999999999047,
          -2238.499999999905,
          -2266.3999999999046,
          -2313.9999999999045,
          -2319.5999999999044,
          -2332.999999999903,
          -2275.799999999903,
          -2271.699999999905,
          -2304.799999999904,
          -2334.3999999999032,
          -2368.099999999905,
          -2393.599999999907,
          -2451.7999999999065,
          -2520.499999999907,
          -2538.0999999999076,
          -2563.199999999908,
          -2491.59999999991,
          -2508.29999999991,
          -2517.79999999991,
          -2517.9999999999104,
          -2577.199999999909,
          -2599.399999999907,
          -2571.1999999999057,
          -2580.1999999999057,
          -2591.8999999999055,
          -2545.899999999906,
          -2505.599999999905,
          -2531.8999999999064,
          -2538.4999999999063,
          -2561.8999999999073,
          -2574.099999999906,
          -2639.5999999999053,
          -2687.5999999999067,
          -2693.599999999907,
          -2653.699999999908,
          -2606.2999999999092,
          -2545.2999999999092,
          -2538.799999999911,
          -2551.3999999999114,
          -2599.9999999999113,
          -2599.799999999911,
          -2610.599999999911,
          -2420.8999999999114,
          -2449.29999999991,
          -2322.49999999991,
          -2325.89999999991,
          -2332.799999999911,
          -2336.499999999912,
          -2350.4999999999122,
          -2368.6999999999125,
          -2198.6999999999134,
          -2211.8999999999132,
          -2216.999999999913,
          -2241.3999999999132,
          -2089.399999999915,
          -2084.599999999915,
          -2054.4999999999154,
          -2042.0999999999153,
          -2058.4999999999163,
          -1977.4999999999163,
          -2014.899999999916,
          -2062.0999999999167,
          -2088.2999999999174,
          -2128.1999999999175,
          -2154.6999999999175,
          -2172.699999999918,
          -2179.999999999918,
          -2163.5999999999185,
          -2179.2999999999192,
          -2196.2999999999197,
          -2153.099999999921,
          -2159.6999999999207,
          -2154.699999999921,
          -2161.2999999999224,
          -2202.699999999923,
          -2231.299999999924,
          -2233.2999999999247,
          -2242.0999999999244,
          -2255.0999999999253,
          -2230.099999999926,
          -2233.9999999999245,
          -2219.2999999999247,
          -2108.099999999926,
          -2144.9999999999277,
          -2152.499999999928,
          -1905.8999999999264,
          -1921.9999999999266,
          -1932.099999999926,
          -1929.699999999926,
          -1982.599999999926,
          -2018.899999999926,
          -2072.0999999999276,
          -2046.4999999999286,
          -2076.7999999999274,
          -2089.099999999928,
          -2123.5999999999276,
          -2138.699999999929,
          -2196.499999999929,
          -2209.599999999928,
          -2013.1999999999293,
          -2079.199999999929,
          -2081.19999999993,
          -1907.6999999999277,
          -1925.399999999926,
          -1926.4999999999266,
          -1990.1999999999252,
          -1743.7999999999254,
          -1530.2999999999263,
          -1547.7999999999254,
          -1603.9999999999266,
          -1613.9999999999254,
          -1620.2999999999256,
          -1652.4999999999256,
          -1669.499999999926,
          -1701.499999999927,
          -1741.299999999929,
          -1762.6999999999289,
          -1690.2999999999286,
          -1701.0999999999294,
          -1711.4999999999297,
          -1701.3999999999303,
          -1636.099999999931,
          -1663.6999999999307,
          -1722.89999999993,
          -1835.2999999999297,
          -1862.9999999999302,
          -1877.1999999999307,
          -1927.7999999999313,
          -1951.0999999999328,
          -1914.199999999932,
          -1906.199999999933,
          -1833.1999999999343,
          -1835.999999999935,
          -1811.9999999999343,
          -1843.5999999999326,
          -1885.899999999932,
          -1915.199999999932,
          -1813.1999999999339,
          -1802.1999999999339,
          -1740.4999999999338,
          -1683.8999999999337,
          -1673.0999999999333,
          -1660.5999999999333,
          -1669.6999999999327,
          -1694.1999999999334,
          -1712.1999999999337,
          -1723.999999999931,
          -1764.7999999999308,
          -1789.899999999931,
          -1807.2999999999317,
          -1813.4999999999325,
          -1804.6999999999325,
          -1833.0999999999322,
          -1847.0999999999317,
          -1832.8999999999319,
          -1805.3999999999317,
          -1840.4999999999327,
          -1896.6999999999312,
          -1899.0999999999312,
          -1917.699999999932,
          -1962.4999999999313,
          -2017.6999999999307,
          -2068.2999999999292,
          -2096.4999999999272,
          -2131.4999999999277,
          -2067.299999999929,
          -2070.899999999929,
          -2099.1999999999293,
          -2114.0999999999294,
          -2215.299999999931,
          -2186.2999999999292,
          -2204.9999999999286,
          -2124.7999999999292,
          -2071.199999999929,
          -1981.6999999999287,
          -1991.4999999999284,
          -1984.4999999999281,
          -1968.899999999928,
          -2008.9999999999286,
          -2044.1999999999289,
          -2063.0999999999285,
          -2081.6999999999293,
          -2079.2999999999292,
          -2096.39999999993,
          -2136.999999999931,
          -2055.3999999999337,
          -2046.9999999999343,
          -2066.499999999935,
          -2048.499999999936,
          -2084.6999999999352,
          -2102.3999999999346,
          -2108.999999999935,
          -2140.3999999999364,
          -2115.399999999936,
          -2096.5999999999362,
          -2109.499999999937,
          -2129.299999999938,
          -2154.999999999938,
          -2039.6999999999382,
          -1955.799999999938,
          -1914.2999999999388,
          -1818.2999999999383,
          -1822.599999999939,
          -1844.8999999999403,
          -1851.2999999999397,
          -1836.3999999999398,
          -1873.7999999999395,
          -1929.999999999939,
          -1941.5999999999385,
          -1992.7999999999413,
          -2025.1999999999416,
          -2176.299999999941,
          -2213.5999999999412,
          -2241.1999999999425,
          -2241.1999999999425,
          -2236.6999999999425,
          -2275.399999999943,
          -2293.5999999999417,
          -2276.699999999942,
          -2328.2999999999424,
          -2354.899999999943,
          -2350.6999999999425,
          -2353.299999999943,
          -2343.799999999943,
          -2366.799999999944,
          -2364.099999999944,
          -2359.8999999999437,
          -2391.199999999945,
          -2404.9999999999454,
          -2438.299999999945,
          -2413.7999999999456,
          -2422.199999999946,
          -2437.4999999999463,
          -2414.299999999945,
          -2329.2999999999456,
          -2320.899999999945,
          -2388.5999999999444,
          -2625.499999999944,
          -2556.799999999944,
          -2618.5999999999444,
          -2651.2999999999433,
          -2707.0999999999426,
          -2734.4999999999427,
          -2742.699999999943,
          -2667.8999999999414,
          -2695.3999999999405,
          -2688.0999999999417,
          -2710.499999999942,
          -2767.099999999942,
          -2802.899999999941,
          -2853.899999999942,
          -2872.199999999942,
          -2896.3999999999405,
          -2943.0999999999417,
          -2920.499999999941,
          -2881.699999999941,
          -2930.0999999999394,
          -2859.8999999999414,
          -2778.299999999942,
          -2652.099999999942,
          -2647.299999999942,
          -2629.4999999999422,
          -2657.099999999943,
          -2662.4999999999427,
          -2668.1999999999425,
          -2678.099999999943,
          -2723.699999999942,
          -2735.7999999999424,
          -2754.999999999942,
          -2781.5999999999417,
          -2804.199999999942,
          -2763.499999999942,
          -2868.4999999999413,
          -2946.0999999999412,
          -2805.6999999999407,
          -2824.8999999999387,
          -2885.3999999999387,
          -2914.599999999939,
          -2931.099999999938,
          -2954.499999999938,
          -2927.699999999938,
          -2914.1999999999384,
          -2927.199999999937,
          -2915.199999999936,
          -2974.1999999999366,
          -2970.499999999936,
          -2971.1999999999352,
          -3349.2999999999374,
          -3367.999999999936,
          -3403.8999999999355,
          -3426.099999999935,
          -3197.0999999999344,
          -2942.099999999933,
          -3005.499999999932,
          -3082.5999999999303,
          -3027.6999999999293,
          -3003.699999999932,
          -2945.499999999932,
          -2761.099999999932,
          -2755.0999999999326,
          -2767.3999999999314,
          -2792.899999999931,
          -2830.599999999932,
          -2702.6999999999334,
          -2612.599999999932,
          -2604.899999999933,
          -2565.599999999933,
          -2502.6999999999316,
          -2523.599999999931,
          -2530.199999999931,
          -2521.3999999999314,
          -2549.999999999932,
          -2574.999999999932,
          -2602.3999999999337,
          -2436.999999999934,
          -2479.399999999934,
          -2550.4999999999336,
          -2595.8999999999337,
          -2664.9999999999313,
          -2706.5999999999285,
          -2730.899999999929,
          -2758.299999999929,
          -2772.5999999999294,
          -2691.3999999999305,
          -2700.4999999999313,
          -2715.89999999993,
          -2712.899999999929,
          -2791.8999999999282,
          -2858.5999999999285,
          -2912.5999999999276,
          -2822.3999999999273,
          -2864.0999999999267,
          -2917.3999999999255,
          -2924.1999999999257,
          -2822.799999999926,
          -2799.8999999999246,
          -2796.699999999925,
          -3081.7999999999247,
          -3113.9999999999245,
          -2951.8999999999237,
          -2975.8999999999232,
          -2931.499999999923,
          -3148.7999999999233,
          -3166.5999999999235,
          -3163.4999999999227,
          -3173.1999999999207,
          -3072.79999999992,
          -2749.2999999999192,
          -2642.6999999999216,
          -2709.6999999999207,
          -2689.499999999922,
          -2684.4999999999222,
          -2487.8999999999237,
          -2311.1999999999243,
          -1988.3999999999235,
          -1720.6999999999243,
          -1560.8999999999244,
          -1562.5999999999244,
          -1570.4999999999252,
          -1613.3999999999264,
          -1596.399999999926,
          -1596.1999999999246,
          -1612.899999999925,
          -1629.1999999999252,
          -1643.399999999925,
          -1648.9999999999252,
          -1672.4999999999259,
          -1659.299999999926,
          -1669.5999999999258,
          -1665.7999999999254,
          -1667.1999999999246,
          -1682.7999999999247,
          -1674.2999999999245,
          -1682.6999999999239,
          -1444.3999999999237,
          -1446.299999999924,
          -1444.7999999999242,
          -1453.1999999999216,
          -1452.5999999999221,
          -1471.1999999999218,
          -1479.5999999999192,
          -1468.8999999999157,
          -1497.4999999999154,
          -1192.4999999999145,
          -1163.799999999913,
          -1079.5999999999121,
          -1000.7999999999122,
          -1002.6999999999124,
          -927.0999999999123,
          -816.6999999999128,
          -718.1999999999115,
          -739.3999999999132,
          -744.9999999999129,
          -767.1999999999138,
          -778.6999999999136,
          -843.7999999999147,
          -854.9999999999137,
          -868.5999999999133,
          -780.9999999999128,
          -710.1999999999119,
          -357.1999999999118,
          -340.1999999999115,
          -267.1999999999125,
          -241.79999999991202,
          -261.39999999991164,
          -257.6999999999118,
          -268.5999999999122,
          -182.09999999991396,
          -204.29999999991506,
          -314.49999999991536,
          -332.99999999991667,
          -378.6999999999189,
          -363.29999999992015,
          -396.49999999992,
          -433.69999999992,
          -450.1999999999193,
          -473.39999999991926,
          -481.99999999992053,
          -489.39999999992017,
          -504.1999999999198,
          -467.8999999999202,
          -451.7999999999202,
          -496.39999999992153,
          -541.9999999999204,
          -531.9999999999216,
          -532.6999999999217,
          -547.5999999999218,
          -556.5999999999221,
          -491.1999999999225,
          -520.4999999999235,
          -560.9999999999236,
          -595.4999999999235,
          -616.5999999999241,
          -707.199999999923,
          -738.6999999999229,
          -752.0999999999229,
          -779.5999999999254,
          -800.1999999999272,
          -785.1999999999277,
          -799.0999999999277,
          -796.4999999999285,
          -835.4999999999286,
          -825.8999999999282,
          -846.7999999999275,
          -865.2999999999278,
          -835.6999999999292,
          -853.6999999999294,
          -832.6999999999307,
          -823.09999999993,
          -836.6999999999324,
          -832.4999999999327,
          -643.699999999935,
          -183.79999999993527,
          -26.599999999934596,
          -36.599999999933495,
          24.40000000006645,
          0.9000000000634856,
          -11.299999999936503,
          -43.999999999937565,
          -51.49999999993785,
          -61.89999999993777,
          -96.79999999993814,
          -109.99999999993851,
          -132.9999999999382,
          -135.69999999993925,
          -154.99999999993912,
          -157.09999999993954,
          -169.69999999993993,
          -179.39999999994131,
          -186.19999999994144,
          -224.1999999999417,
          -256.19999999994263,
          -270.1999999999422,
          -182.19999999994297,
          -104.89999999994284,
          -108.79999999994286,
          -187.09999999994298,
          -272.6999999999439,
          -350.2999999999421,
          -398.09999999994295,
          -400.9999999999431,
          -404.99999999994264,
          -358.3999999999427,
          -393.59999999994307,
          -439.99999999994293,
          -408.5999999999422,
          -403.49999999994213,
          -373.4999999999432,
          -375.99999999994293,
          -656.3999999999431,
          -672.999999999943,
          -675.2999999999425,
          -684.6999999999431,
          -874.6999999999408,
          -977.6999999999409,
          -1087.6999999999432,
          -1091.9999999999425,
          -1063.7999999999442,
          -1106.8999999999437,
          -1180.599999999943,
          -1225.8999999999432,
          -1243.8999999999435,
          -1259.4999999999436,
          -1261.2999999999442,
          -1326.2999999999433,
          -1338.799999999943,
          -1349.3999999999437,
          -1359.3999999999437,
          -1382.0999999999437,
          -1363.5999999999435,
          -1360.8999999999437,
          -1392.6999999999448,
          -1461.199999999945,
          -1402.399999999944,
          -1418.3999999999444,
          -1362.1999999999448,
          -1357.2999999999438,
          -1353.8999999999432,
          -1395.5999999999456,
          -1406.4999999999463,
          -1403.2999999999452,
          -1411.699999999944,
          -1406.9999999999445,
          -1414.4999999999447,
          -1434.9999999999459,
          -1451.5999999999456,
          -1472.8999999999464,
          -1480.6999999999464,
          -1557.199999999948,
          -1636.8999999999478,
          -1653.199999999948,
          -1658.599999999948,
          -1665.2999999999488,
          -1690.7999999999483,
          -1734.799999999948
         ]
        }
       ],
       "layout": {
        "font": {
         "color": "#e1e1e1",
         "size": 10
        },
        "height": 400,
        "margin": {
         "b": 10,
         "l": 15,
         "r": 15
        },
        "paper_bgcolor": "#1e1e1e",
        "plot_bgcolor": "#1e1e1e",
        "template": {
         "data": {
          "bar": [
           {
            "error_x": {
             "color": "#2a3f5f"
            },
            "error_y": {
             "color": "#2a3f5f"
            },
            "marker": {
             "line": {
              "color": "#E5ECF6",
              "width": 0.5
             },
             "pattern": {
              "fillmode": "overlay",
              "size": 10,
              "solidity": 0.2
             }
            },
            "type": "bar"
           }
          ],
          "barpolar": [
           {
            "marker": {
             "line": {
              "color": "#E5ECF6",
              "width": 0.5
             },
             "pattern": {
              "fillmode": "overlay",
              "size": 10,
              "solidity": 0.2
             }
            },
            "type": "barpolar"
           }
          ],
          "carpet": [
           {
            "aaxis": {
             "endlinecolor": "#2a3f5f",
             "gridcolor": "white",
             "linecolor": "white",
             "minorgridcolor": "white",
             "startlinecolor": "#2a3f5f"
            },
            "baxis": {
             "endlinecolor": "#2a3f5f",
             "gridcolor": "white",
             "linecolor": "white",
             "minorgridcolor": "white",
             "startlinecolor": "#2a3f5f"
            },
            "type": "carpet"
           }
          ],
          "choropleth": [
           {
            "colorbar": {
             "outlinewidth": 0,
             "ticks": ""
            },
            "type": "choropleth"
           }
          ],
          "contour": [
           {
            "colorbar": {
             "outlinewidth": 0,
             "ticks": ""
            },
            "colorscale": [
             [
              0,
              "#0d0887"
             ],
             [
              0.1111111111111111,
              "#46039f"
             ],
             [
              0.2222222222222222,
              "#7201a8"
             ],
             [
              0.3333333333333333,
              "#9c179e"
             ],
             [
              0.4444444444444444,
              "#bd3786"
             ],
             [
              0.5555555555555556,
              "#d8576b"
             ],
             [
              0.6666666666666666,
              "#ed7953"
             ],
             [
              0.7777777777777778,
              "#fb9f3a"
             ],
             [
              0.8888888888888888,
              "#fdca26"
             ],
             [
              1,
              "#f0f921"
             ]
            ],
            "type": "contour"
           }
          ],
          "contourcarpet": [
           {
            "colorbar": {
             "outlinewidth": 0,
             "ticks": ""
            },
            "type": "contourcarpet"
           }
          ],
          "heatmap": [
           {
            "colorbar": {
             "outlinewidth": 0,
             "ticks": ""
            },
            "colorscale": [
             [
              0,
              "#0d0887"
             ],
             [
              0.1111111111111111,
              "#46039f"
             ],
             [
              0.2222222222222222,
              "#7201a8"
             ],
             [
              0.3333333333333333,
              "#9c179e"
             ],
             [
              0.4444444444444444,
              "#bd3786"
             ],
             [
              0.5555555555555556,
              "#d8576b"
             ],
             [
              0.6666666666666666,
              "#ed7953"
             ],
             [
              0.7777777777777778,
              "#fb9f3a"
             ],
             [
              0.8888888888888888,
              "#fdca26"
             ],
             [
              1,
              "#f0f921"
             ]
            ],
            "type": "heatmap"
           }
          ],
          "heatmapgl": [
           {
            "colorbar": {
             "outlinewidth": 0,
             "ticks": ""
            },
            "colorscale": [
             [
              0,
              "#0d0887"
             ],
             [
              0.1111111111111111,
              "#46039f"
             ],
             [
              0.2222222222222222,
              "#7201a8"
             ],
             [
              0.3333333333333333,
              "#9c179e"
             ],
             [
              0.4444444444444444,
              "#bd3786"
             ],
             [
              0.5555555555555556,
              "#d8576b"
             ],
             [
              0.6666666666666666,
              "#ed7953"
             ],
             [
              0.7777777777777778,
              "#fb9f3a"
             ],
             [
              0.8888888888888888,
              "#fdca26"
             ],
             [
              1,
              "#f0f921"
             ]
            ],
            "type": "heatmapgl"
           }
          ],
          "histogram": [
           {
            "marker": {
             "pattern": {
              "fillmode": "overlay",
              "size": 10,
              "solidity": 0.2
             }
            },
            "type": "histogram"
           }
          ],
          "histogram2d": [
           {
            "colorbar": {
             "outlinewidth": 0,
             "ticks": ""
            },
            "colorscale": [
             [
              0,
              "#0d0887"
             ],
             [
              0.1111111111111111,
              "#46039f"
             ],
             [
              0.2222222222222222,
              "#7201a8"
             ],
             [
              0.3333333333333333,
              "#9c179e"
             ],
             [
              0.4444444444444444,
              "#bd3786"
             ],
             [
              0.5555555555555556,
              "#d8576b"
             ],
             [
              0.6666666666666666,
              "#ed7953"
             ],
             [
              0.7777777777777778,
              "#fb9f3a"
             ],
             [
              0.8888888888888888,
              "#fdca26"
             ],
             [
              1,
              "#f0f921"
             ]
            ],
            "type": "histogram2d"
           }
          ],
          "histogram2dcontour": [
           {
            "colorbar": {
             "outlinewidth": 0,
             "ticks": ""
            },
            "colorscale": [
             [
              0,
              "#0d0887"
             ],
             [
              0.1111111111111111,
              "#46039f"
             ],
             [
              0.2222222222222222,
              "#7201a8"
             ],
             [
              0.3333333333333333,
              "#9c179e"
             ],
             [
              0.4444444444444444,
              "#bd3786"
             ],
             [
              0.5555555555555556,
              "#d8576b"
             ],
             [
              0.6666666666666666,
              "#ed7953"
             ],
             [
              0.7777777777777778,
              "#fb9f3a"
             ],
             [
              0.8888888888888888,
              "#fdca26"
             ],
             [
              1,
              "#f0f921"
             ]
            ],
            "type": "histogram2dcontour"
           }
          ],
          "mesh3d": [
           {
            "colorbar": {
             "outlinewidth": 0,
             "ticks": ""
            },
            "type": "mesh3d"
           }
          ],
          "parcoords": [
           {
            "line": {
             "colorbar": {
              "outlinewidth": 0,
              "ticks": ""
             }
            },
            "type": "parcoords"
           }
          ],
          "pie": [
           {
            "automargin": true,
            "type": "pie"
           }
          ],
          "scatter": [
           {
            "fillpattern": {
             "fillmode": "overlay",
             "size": 10,
             "solidity": 0.2
            },
            "type": "scatter"
           }
          ],
          "scatter3d": [
           {
            "line": {
             "colorbar": {
              "outlinewidth": 0,
              "ticks": ""
             }
            },
            "marker": {
             "colorbar": {
              "outlinewidth": 0,
              "ticks": ""
             }
            },
            "type": "scatter3d"
           }
          ],
          "scattercarpet": [
           {
            "marker": {
             "colorbar": {
              "outlinewidth": 0,
              "ticks": ""
             }
            },
            "type": "scattercarpet"
           }
          ],
          "scattergeo": [
           {
            "marker": {
             "colorbar": {
              "outlinewidth": 0,
              "ticks": ""
             }
            },
            "type": "scattergeo"
           }
          ],
          "scattergl": [
           {
            "marker": {
             "colorbar": {
              "outlinewidth": 0,
              "ticks": ""
             }
            },
            "type": "scattergl"
           }
          ],
          "scattermapbox": [
           {
            "marker": {
             "colorbar": {
              "outlinewidth": 0,
              "ticks": ""
             }
            },
            "type": "scattermapbox"
           }
          ],
          "scatterpolar": [
           {
            "marker": {
             "colorbar": {
              "outlinewidth": 0,
              "ticks": ""
             }
            },
            "type": "scatterpolar"
           }
          ],
          "scatterpolargl": [
           {
            "marker": {
             "colorbar": {
              "outlinewidth": 0,
              "ticks": ""
             }
            },
            "type": "scatterpolargl"
           }
          ],
          "scatterternary": [
           {
            "marker": {
             "colorbar": {
              "outlinewidth": 0,
              "ticks": ""
             }
            },
            "type": "scatterternary"
           }
          ],
          "surface": [
           {
            "colorbar": {
             "outlinewidth": 0,
             "ticks": ""
            },
            "colorscale": [
             [
              0,
              "#0d0887"
             ],
             [
              0.1111111111111111,
              "#46039f"
             ],
             [
              0.2222222222222222,
              "#7201a8"
             ],
             [
              0.3333333333333333,
              "#9c179e"
             ],
             [
              0.4444444444444444,
              "#bd3786"
             ],
             [
              0.5555555555555556,
              "#d8576b"
             ],
             [
              0.6666666666666666,
              "#ed7953"
             ],
             [
              0.7777777777777778,
              "#fb9f3a"
             ],
             [
              0.8888888888888888,
              "#fdca26"
             ],
             [
              1,
              "#f0f921"
             ]
            ],
            "type": "surface"
           }
          ],
          "table": [
           {
            "cells": {
             "fill": {
              "color": "#EBF0F8"
             },
             "line": {
              "color": "white"
             }
            },
            "header": {
             "fill": {
              "color": "#C8D4E3"
             },
             "line": {
              "color": "white"
             }
            },
            "type": "table"
           }
          ]
         },
         "layout": {
          "annotationdefaults": {
           "arrowcolor": "#2a3f5f",
           "arrowhead": 0,
           "arrowwidth": 1
          },
          "autotypenumbers": "strict",
          "coloraxis": {
           "colorbar": {
            "outlinewidth": 0,
            "ticks": ""
           }
          },
          "colorscale": {
           "diverging": [
            [
             0,
             "#8e0152"
            ],
            [
             0.1,
             "#c51b7d"
            ],
            [
             0.2,
             "#de77ae"
            ],
            [
             0.3,
             "#f1b6da"
            ],
            [
             0.4,
             "#fde0ef"
            ],
            [
             0.5,
             "#f7f7f7"
            ],
            [
             0.6,
             "#e6f5d0"
            ],
            [
             0.7,
             "#b8e186"
            ],
            [
             0.8,
             "#7fbc41"
            ],
            [
             0.9,
             "#4d9221"
            ],
            [
             1,
             "#276419"
            ]
           ],
           "sequential": [
            [
             0,
             "#0d0887"
            ],
            [
             0.1111111111111111,
             "#46039f"
            ],
            [
             0.2222222222222222,
             "#7201a8"
            ],
            [
             0.3333333333333333,
             "#9c179e"
            ],
            [
             0.4444444444444444,
             "#bd3786"
            ],
            [
             0.5555555555555556,
             "#d8576b"
            ],
            [
             0.6666666666666666,
             "#ed7953"
            ],
            [
             0.7777777777777778,
             "#fb9f3a"
            ],
            [
             0.8888888888888888,
             "#fdca26"
            ],
            [
             1,
             "#f0f921"
            ]
           ],
           "sequentialminus": [
            [
             0,
             "#0d0887"
            ],
            [
             0.1111111111111111,
             "#46039f"
            ],
            [
             0.2222222222222222,
             "#7201a8"
            ],
            [
             0.3333333333333333,
             "#9c179e"
            ],
            [
             0.4444444444444444,
             "#bd3786"
            ],
            [
             0.5555555555555556,
             "#d8576b"
            ],
            [
             0.6666666666666666,
             "#ed7953"
            ],
            [
             0.7777777777777778,
             "#fb9f3a"
            ],
            [
             0.8888888888888888,
             "#fdca26"
            ],
            [
             1,
             "#f0f921"
            ]
           ]
          },
          "colorway": [
           "#636efa",
           "#EF553B",
           "#00cc96",
           "#ab63fa",
           "#FFA15A",
           "#19d3f3",
           "#FF6692",
           "#B6E880",
           "#FF97FF",
           "#FECB52"
          ],
          "font": {
           "color": "#2a3f5f"
          },
          "geo": {
           "bgcolor": "white",
           "lakecolor": "white",
           "landcolor": "#E5ECF6",
           "showlakes": true,
           "showland": true,
           "subunitcolor": "white"
          },
          "hoverlabel": {
           "align": "left"
          },
          "hovermode": "closest",
          "mapbox": {
           "style": "light"
          },
          "paper_bgcolor": "white",
          "plot_bgcolor": "#E5ECF6",
          "polar": {
           "angularaxis": {
            "gridcolor": "white",
            "linecolor": "white",
            "ticks": ""
           },
           "bgcolor": "#E5ECF6",
           "radialaxis": {
            "gridcolor": "white",
            "linecolor": "white",
            "ticks": ""
           }
          },
          "scene": {
           "xaxis": {
            "backgroundcolor": "#E5ECF6",
            "gridcolor": "white",
            "gridwidth": 2,
            "linecolor": "white",
            "showbackground": true,
            "ticks": "",
            "zerolinecolor": "white"
           },
           "yaxis": {
            "backgroundcolor": "#E5ECF6",
            "gridcolor": "white",
            "gridwidth": 2,
            "linecolor": "white",
            "showbackground": true,
            "ticks": "",
            "zerolinecolor": "white"
           },
           "zaxis": {
            "backgroundcolor": "#E5ECF6",
            "gridcolor": "white",
            "gridwidth": 2,
            "linecolor": "white",
            "showbackground": true,
            "ticks": "",
            "zerolinecolor": "white"
           }
          },
          "shapedefaults": {
           "line": {
            "color": "#2a3f5f"
           }
          },
          "ternary": {
           "aaxis": {
            "gridcolor": "white",
            "linecolor": "white",
            "ticks": ""
           },
           "baxis": {
            "gridcolor": "white",
            "linecolor": "white",
            "ticks": ""
           },
           "bgcolor": "#E5ECF6",
           "caxis": {
            "gridcolor": "white",
            "linecolor": "white",
            "ticks": ""
           }
          },
          "title": {
           "x": 0.05
          },
          "xaxis": {
           "automargin": true,
           "gridcolor": "white",
           "linecolor": "white",
           "ticks": "",
           "title": {
            "standoff": 15
           },
           "zerolinecolor": "white",
           "zerolinewidth": 2
          },
          "yaxis": {
           "automargin": true,
           "gridcolor": "white",
           "linecolor": "white",
           "ticks": "",
           "title": {
            "standoff": 15
           },
           "zerolinecolor": "white",
           "zerolinewidth": 2
          }
         }
        },
        "title": {
         "text": "MA_8_64"
        },
        "width": 1000,
        "xaxis": {
         "linecolor": "#3a4a54",
         "linewidth": 1,
         "showgrid": false,
         "zeroline": false
        },
        "yaxis": {
         "linecolor": "#3a4a54",
         "linewidth": 1,
         "showgrid": false,
         "zeroline": false
        }
       }
      }
     },
     "metadata": {},
     "output_type": "display_data"
    },
    {
     "data": {
      "application/vnd.plotly.v1+json": {
       "config": {
        "plotlyServerURL": "https://plot.ly"
       },
       "data": [
        {
         "line": {
          "color": "#3d825f",
          "shape": "spline",
          "width": 2
         },
         "mode": "lines",
         "name": "MA_8_32",
         "type": "scatter",
         "x": [
          "2023-10-23T15:00:00+00:00",
          "2023-10-23T16:00:00+00:00",
          "2023-10-23T17:00:00+00:00",
          "2023-10-23T20:00:00+00:00",
          "2023-10-23T22:00:00+00:00",
          "2023-10-23T23:00:00+00:00",
          "2023-10-24T01:00:00+00:00",
          "2023-10-24T09:00:00+00:00",
          "2023-10-24T12:00:00+00:00",
          "2023-10-24T13:00:00+00:00",
          "2023-10-24T14:00:00+00:00",
          "2023-10-24T15:00:00+00:00",
          "2023-10-24T16:00:00+00:00",
          "2023-10-24T17:00:00+00:00",
          "2023-10-24T20:00:00+00:00",
          "2023-10-25T00:00:00+00:00",
          "2023-10-25T05:00:00+00:00",
          "2023-10-25T07:00:00+00:00",
          "2023-10-25T09:00:00+00:00",
          "2023-10-25T10:00:00+00:00",
          "2023-10-25T11:00:00+00:00",
          "2023-10-25T13:00:00+00:00",
          "2023-10-25T15:00:00+00:00",
          "2023-10-25T16:00:00+00:00",
          "2023-10-25T19:00:00+00:00",
          "2023-10-25T22:00:00+00:00",
          "2023-10-26T05:00:00+00:00",
          "2023-10-26T07:00:00+00:00",
          "2023-10-26T08:00:00+00:00",
          "2023-10-26T11:00:00+00:00",
          "2023-10-26T12:00:00+00:00",
          "2023-10-26T13:00:00+00:00",
          "2023-10-26T14:00:00+00:00",
          "2023-10-26T15:00:00+00:00",
          "2023-10-26T17:00:00+00:00",
          "2023-10-26T18:00:00+00:00",
          "2023-10-26T20:00:00+00:00",
          "2023-10-27T08:00:00+00:00",
          "2023-10-27T11:00:00+00:00",
          "2023-10-27T12:00:00+00:00",
          "2023-10-27T16:00:00+00:00",
          "2023-10-27T17:00:00+00:00",
          "2023-10-27T20:00:00+00:00",
          "2023-10-30T03:00:00+00:00",
          "2023-10-30T05:00:00+00:00",
          "2023-10-30T11:00:00+00:00",
          "2023-10-30T12:00:00+00:00",
          "2023-10-30T13:00:00+00:00",
          "2023-10-30T15:00:00+00:00",
          "2023-10-30T16:00:00+00:00",
          "2023-10-30T19:00:00+00:00",
          "2023-10-30T21:00:00+00:00",
          "2023-10-30T22:00:00+00:00",
          "2023-10-31T00:00:00+00:00",
          "2023-10-31T01:00:00+00:00",
          "2023-10-31T04:00:00+00:00",
          "2023-10-31T05:00:00+00:00",
          "2023-10-31T06:00:00+00:00",
          "2023-10-31T09:00:00+00:00",
          "2023-10-31T12:00:00+00:00",
          "2023-10-31T17:00:00+00:00",
          "2023-10-31T18:00:00+00:00",
          "2023-10-31T19:00:00+00:00",
          "2023-10-31T20:00:00+00:00",
          "2023-11-01T00:00:00+00:00",
          "2023-11-01T05:00:00+00:00",
          "2023-11-01T06:00:00+00:00",
          "2023-11-01T08:00:00+00:00",
          "2023-11-01T09:00:00+00:00",
          "2023-11-01T10:00:00+00:00",
          "2023-11-01T11:00:00+00:00",
          "2023-11-01T12:00:00+00:00",
          "2023-11-01T13:00:00+00:00",
          "2023-11-01T15:00:00+00:00",
          "2023-11-01T21:00:00+00:00",
          "2023-11-02T01:00:00+00:00",
          "2023-11-02T04:00:00+00:00",
          "2023-11-02T07:00:00+00:00",
          "2023-11-02T10:00:00+00:00",
          "2023-11-02T11:00:00+00:00",
          "2023-11-02T14:00:00+00:00",
          "2023-11-02T17:00:00+00:00",
          "2023-11-02T18:00:00+00:00",
          "2023-11-02T19:00:00+00:00",
          "2023-11-02T21:00:00+00:00",
          "2023-11-03T00:00:00+00:00",
          "2023-11-03T04:00:00+00:00",
          "2023-11-03T09:00:00+00:00",
          "2023-11-03T11:00:00+00:00",
          "2023-11-03T13:00:00+00:00",
          "2023-11-03T14:00:00+00:00",
          "2023-11-03T16:00:00+00:00",
          "2023-11-06T02:00:00+00:00",
          "2023-11-06T08:00:00+00:00",
          "2023-11-06T12:00:00+00:00",
          "2023-11-06T13:00:00+00:00",
          "2023-11-06T19:00:00+00:00",
          "2023-11-06T20:00:00+00:00",
          "2023-11-06T21:00:00+00:00",
          "2023-11-06T23:00:00+00:00",
          "2023-11-07T00:00:00+00:00",
          "2023-11-07T01:00:00+00:00",
          "2023-11-07T08:00:00+00:00",
          "2023-11-07T11:00:00+00:00",
          "2023-11-07T12:00:00+00:00",
          "2023-11-07T20:00:00+00:00",
          "2023-11-07T21:00:00+00:00",
          "2023-11-08T01:00:00+00:00",
          "2023-11-08T04:00:00+00:00",
          "2023-11-08T06:00:00+00:00",
          "2023-11-08T09:00:00+00:00",
          "2023-11-08T12:00:00+00:00",
          "2023-11-08T15:00:00+00:00",
          "2023-11-08T16:00:00+00:00",
          "2023-11-08T18:00:00+00:00",
          "2023-11-08T21:00:00+00:00",
          "2023-11-09T06:00:00+00:00",
          "2023-11-09T07:00:00+00:00",
          "2023-11-09T09:00:00+00:00",
          "2023-11-09T10:00:00+00:00",
          "2023-11-09T12:00:00+00:00",
          "2023-11-09T13:00:00+00:00",
          "2023-11-09T14:00:00+00:00",
          "2023-11-09T17:00:00+00:00",
          "2023-11-09T18:00:00+00:00",
          "2023-11-09T19:00:00+00:00",
          "2023-11-09T21:00:00+00:00",
          "2023-11-09T22:00:00+00:00",
          "2023-11-09T23:00:00+00:00",
          "2023-11-10T00:00:00+00:00",
          "2023-11-10T02:00:00+00:00",
          "2023-11-10T11:00:00+00:00",
          "2023-11-10T12:00:00+00:00",
          "2023-11-10T13:00:00+00:00",
          "2023-11-10T15:00:00+00:00",
          "2023-11-10T19:00:00+00:00",
          "2023-11-10T20:00:00+00:00",
          "2023-11-10T21:00:00+00:00",
          "2023-11-13T00:00:00+00:00",
          "2023-11-13T01:00:00+00:00",
          "2023-11-13T06:00:00+00:00",
          "2023-11-13T08:00:00+00:00",
          "2023-11-13T10:00:00+00:00",
          "2023-11-13T12:00:00+00:00",
          "2023-11-13T15:00:00+00:00",
          "2023-11-13T16:00:00+00:00",
          "2023-11-13T17:00:00+00:00",
          "2023-11-13T18:00:00+00:00",
          "2023-11-13T21:00:00+00:00",
          "2023-11-13T23:00:00+00:00",
          "2023-11-14T06:00:00+00:00",
          "2023-11-14T13:00:00+00:00",
          "2023-11-14T14:00:00+00:00",
          "2023-11-14T15:00:00+00:00",
          "2023-11-14T18:00:00+00:00",
          "2023-11-14T19:00:00+00:00",
          "2023-11-15T01:00:00+00:00",
          "2023-11-15T08:00:00+00:00",
          "2023-11-15T09:00:00+00:00",
          "2023-11-15T13:00:00+00:00",
          "2023-11-15T14:00:00+00:00",
          "2023-11-15T21:00:00+00:00",
          "2023-11-15T22:00:00+00:00",
          "2023-11-16T00:00:00+00:00",
          "2023-11-16T02:00:00+00:00",
          "2023-11-16T03:00:00+00:00",
          "2023-11-16T04:00:00+00:00",
          "2023-11-16T05:00:00+00:00",
          "2023-11-16T11:00:00+00:00",
          "2023-11-16T12:00:00+00:00",
          "2023-11-16T14:00:00+00:00",
          "2023-11-16T15:00:00+00:00",
          "2023-11-16T16:00:00+00:00",
          "2023-11-16T17:00:00+00:00",
          "2023-11-16T21:00:00+00:00",
          "2023-11-17T00:00:00+00:00",
          "2023-11-17T07:00:00+00:00",
          "2023-11-17T08:00:00+00:00",
          "2023-11-17T13:00:00+00:00",
          "2023-11-17T16:00:00+00:00",
          "2023-11-17T18:00:00+00:00",
          "2023-11-17T19:00:00+00:00",
          "2023-11-17T21:00:00+00:00",
          "2023-11-19T22:00:00+00:00",
          "2023-11-19T23:00:00+00:00",
          "2023-11-20T00:00:00+00:00",
          "2023-11-20T01:00:00+00:00",
          "2023-11-20T02:00:00+00:00",
          "2023-11-20T03:00:00+00:00",
          "2023-11-20T05:00:00+00:00",
          "2023-11-20T08:00:00+00:00",
          "2023-11-20T12:00:00+00:00",
          "2023-11-20T13:00:00+00:00",
          "2023-11-20T20:00:00+00:00",
          "2023-11-21T11:00:00+00:00",
          "2023-11-21T15:00:00+00:00",
          "2023-11-21T17:00:00+00:00",
          "2023-11-21T19:00:00+00:00",
          "2023-11-21T20:00:00+00:00",
          "2023-11-21T21:00:00+00:00",
          "2023-11-21T22:00:00+00:00",
          "2023-11-22T01:00:00+00:00",
          "2023-11-22T02:00:00+00:00",
          "2023-11-22T05:00:00+00:00",
          "2023-11-22T06:00:00+00:00",
          "2023-11-22T07:00:00+00:00",
          "2023-11-22T12:00:00+00:00",
          "2023-11-22T13:00:00+00:00",
          "2023-11-22T16:00:00+00:00",
          "2023-11-22T18:00:00+00:00",
          "2023-11-22T20:00:00+00:00",
          "2023-11-23T00:00:00+00:00",
          "2023-11-23T03:00:00+00:00",
          "2023-11-23T05:00:00+00:00",
          "2023-11-23T06:00:00+00:00",
          "2023-11-23T07:00:00+00:00",
          "2023-11-23T09:00:00+00:00",
          "2023-11-23T10:00:00+00:00",
          "2023-11-23T11:00:00+00:00",
          "2023-11-23T12:00:00+00:00",
          "2023-11-23T13:00:00+00:00",
          "2023-11-23T15:00:00+00:00",
          "2023-11-23T16:00:00+00:00",
          "2023-11-23T23:00:00+00:00",
          "2023-11-24T04:00:00+00:00",
          "2023-11-24T05:00:00+00:00",
          "2023-11-24T07:00:00+00:00",
          "2023-11-24T10:00:00+00:00",
          "2023-11-24T11:00:00+00:00",
          "2023-11-24T13:00:00+00:00",
          "2023-11-24T14:00:00+00:00",
          "2023-11-24T17:00:00+00:00",
          "2023-11-24T18:00:00+00:00",
          "2023-11-26T23:00:00+00:00",
          "2023-11-27T02:00:00+00:00",
          "2023-11-27T04:00:00+00:00",
          "2023-11-27T05:00:00+00:00",
          "2023-11-27T06:00:00+00:00",
          "2023-11-27T08:00:00+00:00",
          "2023-11-27T10:00:00+00:00",
          "2023-11-27T11:00:00+00:00",
          "2023-11-27T12:00:00+00:00",
          "2023-11-27T13:00:00+00:00",
          "2023-11-27T14:00:00+00:00",
          "2023-11-27T15:00:00+00:00",
          "2023-11-27T18:00:00+00:00",
          "2023-11-27T19:00:00+00:00",
          "2023-11-27T20:00:00+00:00",
          "2023-11-27T23:00:00+00:00",
          "2023-11-28T08:00:00+00:00",
          "2023-11-28T11:00:00+00:00",
          "2023-11-28T13:00:00+00:00",
          "2023-11-28T14:00:00+00:00",
          "2023-11-28T15:00:00+00:00",
          "2023-11-28T16:00:00+00:00",
          "2023-11-28T17:00:00+00:00",
          "2023-11-28T18:00:00+00:00",
          "2023-11-28T19:00:00+00:00",
          "2023-11-29T02:00:00+00:00",
          "2023-11-29T07:00:00+00:00",
          "2023-11-29T09:00:00+00:00",
          "2023-11-29T10:00:00+00:00",
          "2023-11-29T12:00:00+00:00",
          "2023-11-29T13:00:00+00:00",
          "2023-11-29T16:00:00+00:00",
          "2023-11-29T18:00:00+00:00",
          "2023-11-29T20:00:00+00:00",
          "2023-11-29T22:00:00+00:00",
          "2023-11-30T01:00:00+00:00",
          "2023-11-30T03:00:00+00:00",
          "2023-11-30T09:00:00+00:00",
          "2023-11-30T13:00:00+00:00",
          "2023-11-30T14:00:00+00:00",
          "2023-11-30T18:00:00+00:00",
          "2023-11-30T20:00:00+00:00",
          "2023-11-30T21:00:00+00:00",
          "2023-11-30T22:00:00+00:00",
          "2023-12-01T04:00:00+00:00",
          "2023-12-01T12:00:00+00:00",
          "2023-12-01T13:00:00+00:00",
          "2023-12-01T16:00:00+00:00",
          "2023-12-01T17:00:00+00:00",
          "2023-12-01T18:00:00+00:00",
          "2023-12-01T19:00:00+00:00",
          "2023-12-01T20:00:00+00:00",
          "2023-12-01T21:00:00+00:00",
          "2023-12-03T22:00:00+00:00",
          "2023-12-04T10:00:00+00:00",
          "2023-12-04T12:00:00+00:00",
          "2023-12-04T14:00:00+00:00",
          "2023-12-04T15:00:00+00:00",
          "2023-12-04T16:00:00+00:00",
          "2023-12-04T17:00:00+00:00",
          "2023-12-04T18:00:00+00:00",
          "2023-12-04T19:00:00+00:00",
          "2023-12-04T20:00:00+00:00",
          "2023-12-04T21:00:00+00:00",
          "2023-12-05T00:00:00+00:00",
          "2023-12-05T02:00:00+00:00",
          "2023-12-05T03:00:00+00:00",
          "2023-12-05T05:00:00+00:00",
          "2023-12-05T06:00:00+00:00",
          "2023-12-05T07:00:00+00:00",
          "2023-12-05T11:00:00+00:00",
          "2023-12-05T16:00:00+00:00",
          "2023-12-05T19:00:00+00:00",
          "2023-12-05T20:00:00+00:00",
          "2023-12-05T21:00:00+00:00",
          "2023-12-06T00:00:00+00:00",
          "2023-12-06T01:00:00+00:00",
          "2023-12-06T02:00:00+00:00",
          "2023-12-06T03:00:00+00:00",
          "2023-12-06T05:00:00+00:00",
          "2023-12-06T06:00:00+00:00",
          "2023-12-06T10:00:00+00:00",
          "2023-12-06T11:00:00+00:00",
          "2023-12-06T14:00:00+00:00",
          "2023-12-06T18:00:00+00:00",
          "2023-12-06T21:00:00+00:00",
          "2023-12-06T22:00:00+00:00",
          "2023-12-07T00:00:00+00:00",
          "2023-12-07T01:00:00+00:00",
          "2023-12-07T02:00:00+00:00",
          "2023-12-07T03:00:00+00:00",
          "2023-12-07T09:00:00+00:00",
          "2023-12-07T11:00:00+00:00",
          "2023-12-07T13:00:00+00:00",
          "2023-12-07T14:00:00+00:00",
          "2023-12-07T15:00:00+00:00",
          "2023-12-07T22:00:00+00:00",
          "2023-12-08T01:00:00+00:00",
          "2023-12-08T02:00:00+00:00",
          "2023-12-08T06:00:00+00:00",
          "2023-12-08T07:00:00+00:00",
          "2023-12-08T09:00:00+00:00",
          "2023-12-08T10:00:00+00:00",
          "2023-12-08T11:00:00+00:00",
          "2023-12-08T12:00:00+00:00",
          "2023-12-08T13:00:00+00:00",
          "2023-12-08T15:00:00+00:00",
          "2023-12-08T16:00:00+00:00",
          "2023-12-08T18:00:00+00:00",
          "2023-12-08T20:00:00+00:00",
          "2023-12-08T21:00:00+00:00",
          "2023-12-10T22:00:00+00:00",
          "2023-12-10T23:00:00+00:00",
          "2023-12-11T00:00:00+00:00",
          "2023-12-11T06:00:00+00:00",
          "2023-12-11T11:00:00+00:00",
          "2023-12-11T12:00:00+00:00",
          "2023-12-11T13:00:00+00:00",
          "2023-12-11T16:00:00+00:00",
          "2023-12-11T17:00:00+00:00",
          "2023-12-11T18:00:00+00:00",
          "2023-12-11T20:00:00+00:00",
          "2023-12-11T21:00:00+00:00",
          "2023-12-11T23:00:00+00:00",
          "2023-12-12T01:00:00+00:00",
          "2023-12-12T04:00:00+00:00",
          "2023-12-12T05:00:00+00:00",
          "2023-12-12T06:00:00+00:00",
          "2023-12-12T07:00:00+00:00",
          "2023-12-12T09:00:00+00:00",
          "2023-12-12T10:00:00+00:00",
          "2023-12-12T12:00:00+00:00",
          "2023-12-12T14:00:00+00:00",
          "2023-12-12T15:00:00+00:00",
          "2023-12-12T19:00:00+00:00",
          "2023-12-12T21:00:00+00:00",
          "2023-12-13T02:00:00+00:00",
          "2023-12-13T08:00:00+00:00",
          "2023-12-13T09:00:00+00:00",
          "2023-12-13T10:00:00+00:00",
          "2023-12-13T13:00:00+00:00",
          "2023-12-13T14:00:00+00:00",
          "2023-12-13T15:00:00+00:00",
          "2023-12-13T16:00:00+00:00",
          "2023-12-13T17:00:00+00:00",
          "2023-12-13T19:00:00+00:00",
          "2023-12-13T20:00:00+00:00",
          "2023-12-13T21:00:00+00:00",
          "2023-12-13T23:00:00+00:00",
          "2023-12-14T01:00:00+00:00",
          "2023-12-14T04:00:00+00:00",
          "2023-12-14T05:00:00+00:00",
          "2023-12-14T06:00:00+00:00",
          "2023-12-14T07:00:00+00:00",
          "2023-12-14T09:00:00+00:00",
          "2023-12-14T12:00:00+00:00",
          "2023-12-14T13:00:00+00:00",
          "2023-12-14T14:00:00+00:00",
          "2023-12-14T15:00:00+00:00",
          "2023-12-14T16:00:00+00:00",
          "2023-12-14T18:00:00+00:00",
          "2023-12-14T19:00:00+00:00",
          "2023-12-14T22:00:00+00:00",
          "2023-12-15T03:00:00+00:00",
          "2023-12-15T09:00:00+00:00",
          "2023-12-15T12:00:00+00:00",
          "2023-12-15T13:00:00+00:00",
          "2023-12-15T14:00:00+00:00",
          "2023-12-15T15:00:00+00:00",
          "2023-12-15T16:00:00+00:00",
          "2023-12-18T03:00:00+00:00",
          "2023-12-18T07:00:00+00:00",
          "2023-12-18T08:00:00+00:00",
          "2023-12-18T09:00:00+00:00",
          "2023-12-18T11:00:00+00:00",
          "2023-12-18T14:00:00+00:00",
          "2023-12-18T16:00:00+00:00",
          "2023-12-18T17:00:00+00:00",
          "2023-12-18T18:00:00+00:00",
          "2023-12-19T03:00:00+00:00",
          "2023-12-19T05:00:00+00:00",
          "2023-12-19T11:00:00+00:00",
          "2023-12-19T13:00:00+00:00",
          "2023-12-19T14:00:00+00:00",
          "2023-12-19T15:00:00+00:00",
          "2023-12-19T19:00:00+00:00",
          "2023-12-20T01:00:00+00:00",
          "2023-12-20T02:00:00+00:00",
          "2023-12-20T03:00:00+00:00",
          "2023-12-20T06:00:00+00:00",
          "2023-12-20T07:00:00+00:00",
          "2023-12-20T08:00:00+00:00",
          "2023-12-20T09:00:00+00:00",
          "2023-12-20T12:00:00+00:00",
          "2023-12-20T19:00:00+00:00",
          "2023-12-20T21:00:00+00:00",
          "2023-12-20T22:00:00+00:00",
          "2023-12-20T23:00:00+00:00",
          "2023-12-21T02:00:00+00:00",
          "2023-12-21T03:00:00+00:00",
          "2023-12-21T04:00:00+00:00",
          "2023-12-21T08:00:00+00:00",
          "2023-12-21T11:00:00+00:00",
          "2023-12-21T17:00:00+00:00",
          "2023-12-21T18:00:00+00:00",
          "2023-12-21T21:00:00+00:00",
          "2023-12-21T22:00:00+00:00",
          "2023-12-22T02:00:00+00:00",
          "2023-12-22T03:00:00+00:00",
          "2023-12-22T04:00:00+00:00",
          "2023-12-22T06:00:00+00:00",
          "2023-12-22T07:00:00+00:00",
          "2023-12-22T08:00:00+00:00",
          "2023-12-22T09:00:00+00:00",
          "2023-12-22T10:00:00+00:00",
          "2023-12-22T11:00:00+00:00",
          "2023-12-22T13:00:00+00:00",
          "2023-12-22T14:00:00+00:00",
          "2023-12-22T17:00:00+00:00",
          "2023-12-22T19:00:00+00:00",
          "2023-12-22T20:00:00+00:00",
          "2023-12-22T21:00:00+00:00",
          "2023-12-25T23:00:00+00:00",
          "2023-12-26T00:00:00+00:00",
          "2023-12-26T07:00:00+00:00",
          "2023-12-26T08:00:00+00:00",
          "2023-12-26T09:00:00+00:00",
          "2023-12-26T10:00:00+00:00",
          "2023-12-26T14:00:00+00:00",
          "2023-12-26T15:00:00+00:00",
          "2023-12-26T16:00:00+00:00",
          "2023-12-26T18:00:00+00:00",
          "2023-12-26T21:00:00+00:00",
          "2023-12-27T02:00:00+00:00",
          "2023-12-27T08:00:00+00:00",
          "2023-12-27T09:00:00+00:00",
          "2023-12-27T10:00:00+00:00",
          "2023-12-27T11:00:00+00:00",
          "2023-12-27T12:00:00+00:00",
          "2023-12-27T13:00:00+00:00",
          "2023-12-27T14:00:00+00:00",
          "2023-12-27T15:00:00+00:00",
          "2023-12-27T17:00:00+00:00",
          "2023-12-27T19:00:00+00:00",
          "2023-12-27T23:00:00+00:00",
          "2023-12-28T00:00:00+00:00",
          "2023-12-28T10:00:00+00:00",
          "2023-12-28T15:00:00+00:00",
          "2023-12-28T16:00:00+00:00",
          "2023-12-28T17:00:00+00:00",
          "2023-12-28T20:00:00+00:00",
          "2023-12-28T22:00:00+00:00",
          "2023-12-29T00:00:00+00:00",
          "2023-12-29T01:00:00+00:00",
          "2023-12-29T02:00:00+00:00",
          "2023-12-29T03:00:00+00:00",
          "2023-12-29T06:00:00+00:00",
          "2023-12-29T09:00:00+00:00",
          "2023-12-29T10:00:00+00:00",
          "2023-12-29T11:00:00+00:00",
          "2023-12-29T12:00:00+00:00",
          "2023-12-29T13:00:00+00:00",
          "2023-12-29T14:00:00+00:00",
          "2023-12-29T15:00:00+00:00",
          "2023-12-29T16:00:00+00:00",
          "2023-12-29T17:00:00+00:00",
          "2023-12-29T20:00:00+00:00",
          "2024-01-02T00:00:00+00:00",
          "2024-01-02T03:00:00+00:00",
          "2024-01-02T04:00:00+00:00",
          "2024-01-02T06:00:00+00:00",
          "2024-01-02T07:00:00+00:00",
          "2024-01-02T08:00:00+00:00",
          "2024-01-02T10:00:00+00:00",
          "2024-01-02T11:00:00+00:00",
          "2024-01-02T13:00:00+00:00",
          "2024-01-02T15:00:00+00:00",
          "2024-01-02T18:00:00+00:00",
          "2024-01-02T19:00:00+00:00",
          "2024-01-02T23:00:00+00:00",
          "2024-01-03T01:00:00+00:00",
          "2024-01-03T05:00:00+00:00",
          "2024-01-03T06:00:00+00:00",
          "2024-01-03T07:00:00+00:00",
          "2024-01-03T08:00:00+00:00",
          "2024-01-03T09:00:00+00:00",
          "2024-01-03T10:00:00+00:00",
          "2024-01-03T12:00:00+00:00",
          "2024-01-03T13:00:00+00:00",
          "2024-01-03T16:00:00+00:00",
          "2024-01-03T19:00:00+00:00",
          "2024-01-03T20:00:00+00:00",
          "2024-01-03T21:00:00+00:00",
          "2024-01-03T23:00:00+00:00",
          "2024-01-04T08:00:00+00:00",
          "2024-01-04T11:00:00+00:00",
          "2024-01-04T12:00:00+00:00",
          "2024-01-04T13:00:00+00:00",
          "2024-01-04T14:00:00+00:00",
          "2024-01-04T15:00:00+00:00",
          "2024-01-04T17:00:00+00:00",
          "2024-01-05T07:00:00+00:00",
          "2024-01-05T08:00:00+00:00",
          "2024-01-05T09:00:00+00:00",
          "2024-01-05T12:00:00+00:00",
          "2024-01-05T15:00:00+00:00",
          "2024-01-05T16:00:00+00:00",
          "2024-01-05T18:00:00+00:00",
          "2024-01-05T19:00:00+00:00",
          "2024-01-05T21:00:00+00:00",
          "2024-01-07T22:00:00+00:00",
          "2024-01-08T02:00:00+00:00",
          "2024-01-08T04:00:00+00:00",
          "2024-01-08T06:00:00+00:00",
          "2024-01-08T07:00:00+00:00",
          "2024-01-08T10:00:00+00:00",
          "2024-01-08T12:00:00+00:00",
          "2024-01-08T13:00:00+00:00",
          "2024-01-08T14:00:00+00:00",
          "2024-01-08T16:00:00+00:00",
          "2024-01-08T20:00:00+00:00",
          "2024-01-08T22:00:00+00:00",
          "2024-01-08T23:00:00+00:00",
          "2024-01-09T00:00:00+00:00",
          "2024-01-09T03:00:00+00:00",
          "2024-01-09T04:00:00+00:00",
          "2024-01-09T06:00:00+00:00",
          "2024-01-09T08:00:00+00:00",
          "2024-01-09T09:00:00+00:00",
          "2024-01-09T10:00:00+00:00",
          "2024-01-09T11:00:00+00:00",
          "2024-01-09T12:00:00+00:00",
          "2024-01-09T17:00:00+00:00",
          "2024-01-09T18:00:00+00:00",
          "2024-01-09T19:00:00+00:00",
          "2024-01-09T20:00:00+00:00",
          "2024-01-09T21:00:00+00:00",
          "2024-01-10T03:00:00+00:00",
          "2024-01-10T06:00:00+00:00",
          "2024-01-10T11:00:00+00:00",
          "2024-01-10T12:00:00+00:00",
          "2024-01-10T13:00:00+00:00",
          "2024-01-10T14:00:00+00:00",
          "2024-01-10T16:00:00+00:00",
          "2024-01-10T19:00:00+00:00",
          "2024-01-11T05:00:00+00:00",
          "2024-01-11T06:00:00+00:00",
          "2024-01-11T09:00:00+00:00",
          "2024-01-11T10:00:00+00:00",
          "2024-01-11T13:00:00+00:00",
          "2024-01-11T16:00:00+00:00",
          "2024-01-11T19:00:00+00:00",
          "2024-01-11T21:00:00+00:00",
          "2024-01-11T22:00:00+00:00",
          "2024-01-11T23:00:00+00:00",
          "2024-01-12T02:00:00+00:00",
          "2024-01-12T08:00:00+00:00",
          "2024-01-12T10:00:00+00:00",
          "2024-01-12T14:00:00+00:00",
          "2024-01-12T15:00:00+00:00",
          "2024-01-12T19:00:00+00:00",
          "2024-01-12T20:00:00+00:00",
          "2024-01-12T21:00:00+00:00",
          "2024-01-15T01:00:00+00:00",
          "2024-01-15T03:00:00+00:00",
          "2024-01-15T04:00:00+00:00",
          "2024-01-15T05:00:00+00:00",
          "2024-01-15T06:00:00+00:00",
          "2024-01-15T07:00:00+00:00",
          "2024-01-15T12:00:00+00:00",
          "2024-01-15T16:00:00+00:00",
          "2024-01-15T20:00:00+00:00",
          "2024-01-16T01:00:00+00:00",
          "2024-01-16T03:00:00+00:00",
          "2024-01-16T05:00:00+00:00",
          "2024-01-16T06:00:00+00:00",
          "2024-01-16T11:00:00+00:00",
          "2024-01-16T12:00:00+00:00",
          "2024-01-16T13:00:00+00:00",
          "2024-01-16T14:00:00+00:00",
          "2024-01-16T15:00:00+00:00",
          "2024-01-16T16:00:00+00:00",
          "2024-01-16T17:00:00+00:00",
          "2024-01-17T00:00:00+00:00",
          "2024-01-17T02:00:00+00:00",
          "2024-01-17T03:00:00+00:00",
          "2024-01-17T06:00:00+00:00",
          "2024-01-17T07:00:00+00:00",
          "2024-01-17T08:00:00+00:00",
          "2024-01-17T09:00:00+00:00",
          "2024-01-17T10:00:00+00:00",
          "2024-01-18T01:00:00+00:00",
          "2024-01-18T07:00:00+00:00",
          "2024-01-18T12:00:00+00:00",
          "2024-01-18T13:00:00+00:00",
          "2024-01-18T14:00:00+00:00",
          "2024-01-18T17:00:00+00:00",
          "2024-01-18T19:00:00+00:00",
          "2024-01-18T23:00:00+00:00",
          "2024-01-19T01:00:00+00:00",
          "2024-01-19T03:00:00+00:00",
          "2024-01-19T07:00:00+00:00",
          "2024-01-19T09:00:00+00:00",
          "2024-01-19T10:00:00+00:00",
          "2024-01-19T12:00:00+00:00",
          "2024-01-19T13:00:00+00:00",
          "2024-01-19T15:00:00+00:00",
          "2024-01-21T23:00:00+00:00",
          "2024-01-22T00:00:00+00:00",
          "2024-01-22T02:00:00+00:00",
          "2024-01-22T03:00:00+00:00",
          "2024-01-22T05:00:00+00:00",
          "2024-01-22T06:00:00+00:00",
          "2024-01-22T08:00:00+00:00",
          "2024-01-22T09:00:00+00:00",
          "2024-01-22T10:00:00+00:00",
          "2024-01-22T11:00:00+00:00",
          "2024-01-22T13:00:00+00:00",
          "2024-01-22T15:00:00+00:00",
          "2024-01-22T16:00:00+00:00",
          "2024-01-22T19:00:00+00:00",
          "2024-01-23T02:00:00+00:00",
          "2024-01-23T05:00:00+00:00",
          "2024-01-23T07:00:00+00:00",
          "2024-01-23T09:00:00+00:00",
          "2024-01-23T10:00:00+00:00",
          "2024-01-23T12:00:00+00:00",
          "2024-01-23T15:00:00+00:00",
          "2024-01-23T16:00:00+00:00",
          "2024-01-23T17:00:00+00:00",
          "2024-01-23T18:00:00+00:00",
          "2024-01-23T23:00:00+00:00",
          "2024-01-24T00:00:00+00:00",
          "2024-01-24T01:00:00+00:00",
          "2024-01-24T02:00:00+00:00",
          "2024-01-24T06:00:00+00:00",
          "2024-01-24T09:00:00+00:00",
          "2024-01-24T10:00:00+00:00",
          "2024-01-24T11:00:00+00:00",
          "2024-01-24T12:00:00+00:00",
          "2024-01-24T16:00:00+00:00",
          "2024-01-24T17:00:00+00:00",
          "2024-01-24T19:00:00+00:00",
          "2024-01-24T22:00:00+00:00",
          "2024-01-24T23:00:00+00:00",
          "2024-01-25T05:00:00+00:00",
          "2024-01-25T06:00:00+00:00",
          "2024-01-25T08:00:00+00:00",
          "2024-01-25T13:00:00+00:00",
          "2024-01-25T14:00:00+00:00",
          "2024-01-25T15:00:00+00:00",
          "2024-01-25T16:00:00+00:00",
          "2024-01-25T18:00:00+00:00",
          "2024-01-25T20:00:00+00:00",
          "2024-01-26T00:00:00+00:00",
          "2024-01-26T02:00:00+00:00",
          "2024-01-26T08:00:00+00:00",
          "2024-01-26T10:00:00+00:00",
          "2024-01-26T11:00:00+00:00",
          "2024-01-26T13:00:00+00:00",
          "2024-01-26T15:00:00+00:00",
          "2024-01-26T16:00:00+00:00",
          "2024-01-26T17:00:00+00:00",
          "2024-01-26T21:00:00+00:00",
          "2024-01-28T22:00:00+00:00",
          "2024-01-29T06:00:00+00:00",
          "2024-01-29T07:00:00+00:00",
          "2024-01-29T08:00:00+00:00",
          "2024-01-29T09:00:00+00:00",
          "2024-01-29T11:00:00+00:00",
          "2024-01-29T13:00:00+00:00",
          "2024-01-29T15:00:00+00:00",
          "2024-01-29T16:00:00+00:00",
          "2024-01-29T19:00:00+00:00",
          "2024-01-29T23:00:00+00:00",
          "2024-01-30T10:00:00+00:00",
          "2024-01-30T12:00:00+00:00",
          "2024-01-30T13:00:00+00:00",
          "2024-01-30T14:00:00+00:00",
          "2024-01-30T15:00:00+00:00",
          "2024-01-30T17:00:00+00:00",
          "2024-01-30T18:00:00+00:00",
          "2024-01-30T19:00:00+00:00",
          "2024-01-30T21:00:00+00:00",
          "2024-01-31T01:00:00+00:00",
          "2024-01-31T02:00:00+00:00",
          "2024-01-31T04:00:00+00:00",
          "2024-01-31T05:00:00+00:00",
          "2024-01-31T06:00:00+00:00",
          "2024-01-31T07:00:00+00:00",
          "2024-01-31T08:00:00+00:00",
          "2024-01-31T11:00:00+00:00",
          "2024-01-31T12:00:00+00:00",
          "2024-01-31T13:00:00+00:00",
          "2024-01-31T14:00:00+00:00",
          "2024-01-31T15:00:00+00:00",
          "2024-01-31T16:00:00+00:00",
          "2024-01-31T20:00:00+00:00",
          "2024-01-31T22:00:00+00:00",
          "2024-02-01T03:00:00+00:00",
          "2024-02-01T05:00:00+00:00",
          "2024-02-01T08:00:00+00:00",
          "2024-02-01T09:00:00+00:00",
          "2024-02-01T10:00:00+00:00",
          "2024-02-01T11:00:00+00:00",
          "2024-02-01T13:00:00+00:00",
          "2024-02-01T15:00:00+00:00",
          "2024-02-01T16:00:00+00:00",
          "2024-02-01T18:00:00+00:00",
          "2024-02-01T19:00:00+00:00",
          "2024-02-01T20:00:00+00:00",
          "2024-02-01T21:00:00+00:00",
          "2024-02-01T22:00:00+00:00",
          "2024-02-01T23:00:00+00:00",
          "2024-02-02T00:00:00+00:00",
          "2024-02-02T01:00:00+00:00",
          "2024-02-02T03:00:00+00:00",
          "2024-02-02T09:00:00+00:00",
          "2024-02-02T10:00:00+00:00",
          "2024-02-02T13:00:00+00:00",
          "2024-02-02T15:00:00+00:00",
          "2024-02-02T16:00:00+00:00",
          "2024-02-02T17:00:00+00:00",
          "2024-02-02T18:00:00+00:00",
          "2024-02-05T00:00:00+00:00",
          "2024-02-05T07:00:00+00:00",
          "2024-02-05T08:00:00+00:00",
          "2024-02-05T09:00:00+00:00",
          "2024-02-05T10:00:00+00:00",
          "2024-02-05T11:00:00+00:00",
          "2024-02-05T12:00:00+00:00",
          "2024-02-05T15:00:00+00:00",
          "2024-02-05T18:00:00+00:00",
          "2024-02-05T19:00:00+00:00",
          "2024-02-06T01:00:00+00:00",
          "2024-02-06T02:00:00+00:00",
          "2024-02-06T09:00:00+00:00",
          "2024-02-06T11:00:00+00:00",
          "2024-02-06T12:00:00+00:00",
          "2024-02-06T14:00:00+00:00",
          "2024-02-06T16:00:00+00:00",
          "2024-02-06T20:00:00+00:00",
          "2024-02-06T22:00:00+00:00",
          "2024-02-06T23:00:00+00:00",
          "2024-02-07T00:00:00+00:00",
          "2024-02-07T06:00:00+00:00",
          "2024-02-07T10:00:00+00:00",
          "2024-02-07T11:00:00+00:00",
          "2024-02-08T01:00:00+00:00",
          "2024-02-08T02:00:00+00:00",
          "2024-02-08T03:00:00+00:00",
          "2024-02-08T06:00:00+00:00",
          "2024-02-08T09:00:00+00:00",
          "2024-02-08T13:00:00+00:00",
          "2024-02-08T15:00:00+00:00",
          "2024-02-08T20:00:00+00:00",
          "2024-02-08T21:00:00+00:00",
          "2024-02-09T01:00:00+00:00",
          "2024-02-09T02:00:00+00:00",
          "2024-02-09T03:00:00+00:00",
          "2024-02-09T05:00:00+00:00",
          "2024-02-09T06:00:00+00:00",
          "2024-02-09T08:00:00+00:00",
          "2024-02-09T09:00:00+00:00",
          "2024-02-09T11:00:00+00:00",
          "2024-02-09T12:00:00+00:00",
          "2024-02-09T17:00:00+00:00",
          "2024-02-09T18:00:00+00:00",
          "2024-02-09T20:00:00+00:00",
          "2024-02-09T21:00:00+00:00",
          "2024-02-11T23:00:00+00:00",
          "2024-02-12T03:00:00+00:00",
          "2024-02-12T04:00:00+00:00",
          "2024-02-12T05:00:00+00:00",
          "2024-02-12T06:00:00+00:00",
          "2024-02-12T07:00:00+00:00",
          "2024-02-12T09:00:00+00:00",
          "2024-02-12T11:00:00+00:00",
          "2024-02-12T13:00:00+00:00",
          "2024-02-12T14:00:00+00:00",
          "2024-02-12T18:00:00+00:00",
          "2024-02-12T20:00:00+00:00",
          "2024-02-12T21:00:00+00:00",
          "2024-02-13T00:00:00+00:00",
          "2024-02-13T01:00:00+00:00",
          "2024-02-13T02:00:00+00:00",
          "2024-02-13T04:00:00+00:00",
          "2024-02-13T07:00:00+00:00",
          "2024-02-13T08:00:00+00:00",
          "2024-02-13T09:00:00+00:00",
          "2024-02-13T11:00:00+00:00",
          "2024-02-13T14:00:00+00:00",
          "2024-02-13T21:00:00+00:00",
          "2024-02-13T22:00:00+00:00",
          "2024-02-14T00:00:00+00:00",
          "2024-02-14T03:00:00+00:00",
          "2024-02-14T05:00:00+00:00",
          "2024-02-14T07:00:00+00:00",
          "2024-02-14T08:00:00+00:00",
          "2024-02-14T09:00:00+00:00",
          "2024-02-14T10:00:00+00:00",
          "2024-02-14T11:00:00+00:00",
          "2024-02-14T12:00:00+00:00",
          "2024-02-14T15:00:00+00:00",
          "2024-02-14T16:00:00+00:00",
          "2024-02-14T18:00:00+00:00",
          "2024-02-14T19:00:00+00:00",
          "2024-02-15T02:00:00+00:00",
          "2024-02-15T04:00:00+00:00",
          "2024-02-15T05:00:00+00:00",
          "2024-02-15T06:00:00+00:00",
          "2024-02-15T07:00:00+00:00",
          "2024-02-15T12:00:00+00:00",
          "2024-02-15T13:00:00+00:00",
          "2024-02-15T15:00:00+00:00",
          "2024-02-15T17:00:00+00:00",
          "2024-02-15T18:00:00+00:00",
          "2024-02-15T19:00:00+00:00",
          "2024-02-15T21:00:00+00:00",
          "2024-02-15T22:00:00+00:00",
          "2024-02-15T23:00:00+00:00",
          "2024-02-16T01:00:00+00:00",
          "2024-02-16T09:00:00+00:00",
          "2024-02-16T11:00:00+00:00",
          "2024-02-16T13:00:00+00:00",
          "2024-02-16T14:00:00+00:00",
          "2024-02-16T15:00:00+00:00",
          "2024-02-16T18:00:00+00:00",
          "2024-02-16T19:00:00+00:00",
          "2024-02-16T21:00:00+00:00",
          "2024-02-18T22:00:00+00:00",
          "2024-02-19T00:00:00+00:00",
          "2024-02-19T01:00:00+00:00",
          "2024-02-19T05:00:00+00:00",
          "2024-02-19T13:00:00+00:00",
          "2024-02-19T15:00:00+00:00",
          "2024-02-19T16:00:00+00:00",
          "2024-02-19T17:00:00+00:00",
          "2024-02-19T18:00:00+00:00",
          "2024-02-19T19:00:00+00:00",
          "2024-02-19T21:00:00+00:00",
          "2024-02-20T05:00:00+00:00",
          "2024-02-20T06:00:00+00:00",
          "2024-02-20T07:00:00+00:00",
          "2024-02-20T08:00:00+00:00",
          "2024-02-20T09:00:00+00:00",
          "2024-02-20T13:00:00+00:00",
          "2024-02-20T14:00:00+00:00",
          "2024-02-20T19:00:00+00:00",
          "2024-02-20T21:00:00+00:00",
          "2024-02-20T23:00:00+00:00",
          "2024-02-21T06:00:00+00:00",
          "2024-02-21T09:00:00+00:00",
          "2024-02-21T10:00:00+00:00",
          "2024-02-21T15:00:00+00:00",
          "2024-02-21T16:00:00+00:00",
          "2024-02-21T17:00:00+00:00",
          "2024-02-21T18:00:00+00:00",
          "2024-02-21T19:00:00+00:00",
          "2024-02-22T04:00:00+00:00",
          "2024-02-22T06:00:00+00:00",
          "2024-02-22T10:00:00+00:00",
          "2024-02-22T11:00:00+00:00",
          "2024-02-22T12:00:00+00:00",
          "2024-02-22T13:00:00+00:00",
          "2024-02-22T15:00:00+00:00",
          "2024-02-22T16:00:00+00:00",
          "2024-02-22T17:00:00+00:00",
          "2024-02-22T18:00:00+00:00",
          "2024-02-22T23:00:00+00:00",
          "2024-02-23T12:00:00+00:00",
          "2024-02-23T14:00:00+00:00",
          "2024-02-23T15:00:00+00:00",
          "2024-02-23T16:00:00+00:00",
          "2024-02-23T17:00:00+00:00",
          "2024-02-23T18:00:00+00:00",
          "2024-02-23T20:00:00+00:00",
          "2024-02-25T22:00:00+00:00",
          "2024-02-25T23:00:00+00:00",
          "2024-02-26T00:00:00+00:00",
          "2024-02-26T02:00:00+00:00",
          "2024-02-26T06:00:00+00:00",
          "2024-02-26T08:00:00+00:00",
          "2024-02-26T09:00:00+00:00",
          "2024-02-26T10:00:00+00:00",
          "2024-02-26T11:00:00+00:00",
          "2024-02-26T16:00:00+00:00",
          "2024-02-26T17:00:00+00:00",
          "2024-02-26T18:00:00+00:00",
          "2024-02-27T00:00:00+00:00",
          "2024-02-27T03:00:00+00:00",
          "2024-02-27T04:00:00+00:00",
          "2024-02-27T05:00:00+00:00",
          "2024-02-27T07:00:00+00:00",
          "2024-02-27T08:00:00+00:00",
          "2024-02-27T10:00:00+00:00",
          "2024-02-27T11:00:00+00:00",
          "2024-02-27T12:00:00+00:00",
          "2024-02-27T16:00:00+00:00",
          "2024-02-27T18:00:00+00:00",
          "2024-02-27T21:00:00+00:00",
          "2024-02-27T23:00:00+00:00",
          "2024-02-28T00:00:00+00:00",
          "2024-02-28T01:00:00+00:00",
          "2024-02-28T02:00:00+00:00",
          "2024-02-28T03:00:00+00:00",
          "2024-02-28T13:00:00+00:00",
          "2024-02-28T17:00:00+00:00",
          "2024-02-28T20:00:00+00:00",
          "2024-02-29T01:00:00+00:00",
          "2024-02-29T02:00:00+00:00",
          "2024-02-29T03:00:00+00:00",
          "2024-02-29T06:00:00+00:00",
          "2024-02-29T07:00:00+00:00",
          "2024-02-29T09:00:00+00:00",
          "2024-02-29T11:00:00+00:00",
          "2024-02-29T12:00:00+00:00",
          "2024-02-29T15:00:00+00:00",
          "2024-02-29T16:00:00+00:00",
          "2024-02-29T17:00:00+00:00",
          "2024-02-29T18:00:00+00:00",
          "2024-02-29T19:00:00+00:00",
          "2024-02-29T22:00:00+00:00",
          "2024-02-29T23:00:00+00:00",
          "2024-03-01T02:00:00+00:00",
          "2024-03-01T03:00:00+00:00",
          "2024-03-01T05:00:00+00:00",
          "2024-03-01T10:00:00+00:00",
          "2024-03-01T12:00:00+00:00",
          "2024-03-01T14:00:00+00:00",
          "2024-03-01T15:00:00+00:00",
          "2024-03-01T17:00:00+00:00",
          "2024-03-03T22:00:00+00:00",
          "2024-03-03T23:00:00+00:00",
          "2024-03-04T01:00:00+00:00",
          "2024-03-04T02:00:00+00:00",
          "2024-03-04T03:00:00+00:00",
          "2024-03-04T05:00:00+00:00",
          "2024-03-04T07:00:00+00:00",
          "2024-03-04T08:00:00+00:00",
          "2024-03-04T09:00:00+00:00",
          "2024-03-04T12:00:00+00:00",
          "2024-03-04T16:00:00+00:00",
          "2024-03-04T17:00:00+00:00",
          "2024-03-04T20:00:00+00:00",
          "2024-03-04T21:00:00+00:00",
          "2024-03-04T22:00:00+00:00",
          "2024-03-04T23:00:00+00:00",
          "2024-03-05T00:00:00+00:00",
          "2024-03-05T02:00:00+00:00",
          "2024-03-05T05:00:00+00:00",
          "2024-03-05T07:00:00+00:00",
          "2024-03-05T11:00:00+00:00",
          "2024-03-05T15:00:00+00:00",
          "2024-03-05T18:00:00+00:00",
          "2024-03-05T19:00:00+00:00",
          "2024-03-05T21:00:00+00:00",
          "2024-03-06T06:00:00+00:00",
          "2024-03-06T08:00:00+00:00",
          "2024-03-06T09:00:00+00:00",
          "2024-03-06T11:00:00+00:00",
          "2024-03-06T13:00:00+00:00",
          "2024-03-06T15:00:00+00:00",
          "2024-03-06T16:00:00+00:00",
          "2024-03-06T18:00:00+00:00",
          "2024-03-06T19:00:00+00:00",
          "2024-03-06T22:00:00+00:00",
          "2024-03-06T23:00:00+00:00",
          "2024-03-07T03:00:00+00:00",
          "2024-03-07T05:00:00+00:00",
          "2024-03-07T07:00:00+00:00",
          "2024-03-07T11:00:00+00:00",
          "2024-03-07T13:00:00+00:00",
          "2024-03-07T18:00:00+00:00",
          "2024-03-07T19:00:00+00:00",
          "2024-03-07T20:00:00+00:00",
          "2024-03-07T21:00:00+00:00",
          "2024-03-07T22:00:00+00:00",
          "2024-03-07T23:00:00+00:00",
          "2024-03-08T01:00:00+00:00",
          "2024-03-08T02:00:00+00:00",
          "2024-03-08T04:00:00+00:00",
          "2024-03-08T05:00:00+00:00",
          "2024-03-08T07:00:00+00:00",
          "2024-03-08T08:00:00+00:00",
          "2024-03-08T09:00:00+00:00",
          "2024-03-08T10:00:00+00:00",
          "2024-03-08T11:00:00+00:00",
          "2024-03-08T12:00:00+00:00",
          "2024-03-08T16:00:00+00:00",
          "2024-03-10T21:00:00+00:00",
          "2024-03-10T23:00:00+00:00",
          "2024-03-11T00:00:00+00:00",
          "2024-03-11T04:00:00+00:00",
          "2024-03-11T11:00:00+00:00",
          "2024-03-11T12:00:00+00:00",
          "2024-03-11T14:00:00+00:00",
          "2024-03-11T16:00:00+00:00",
          "2024-03-11T17:00:00+00:00",
          "2024-03-11T21:00:00+00:00",
          "2024-03-11T22:00:00+00:00",
          "2024-03-12T01:00:00+00:00",
          "2024-03-12T03:00:00+00:00",
          "2024-03-12T04:00:00+00:00",
          "2024-03-12T05:00:00+00:00",
          "2024-03-12T10:00:00+00:00",
          "2024-03-12T17:00:00+00:00",
          "2024-03-12T18:00:00+00:00",
          "2024-03-12T20:00:00+00:00",
          "2024-03-12T22:00:00+00:00",
          "2024-03-13T00:00:00+00:00",
          "2024-03-13T01:00:00+00:00",
          "2024-03-13T04:00:00+00:00",
          "2024-03-13T05:00:00+00:00",
          "2024-03-13T06:00:00+00:00",
          "2024-03-13T07:00:00+00:00",
          "2024-03-13T08:00:00+00:00",
          "2024-03-13T09:00:00+00:00",
          "2024-03-13T13:00:00+00:00",
          "2024-03-13T14:00:00+00:00",
          "2024-03-13T20:00:00+00:00",
          "2024-03-13T22:00:00+00:00",
          "2024-03-14T06:00:00+00:00",
          "2024-03-14T09:00:00+00:00",
          "2024-03-14T11:00:00+00:00",
          "2024-03-14T12:00:00+00:00",
          "2024-03-14T15:00:00+00:00",
          "2024-03-14T16:00:00+00:00",
          "2024-03-14T18:00:00+00:00",
          "2024-03-14T19:00:00+00:00",
          "2024-03-15T00:00:00+00:00",
          "2024-03-15T07:00:00+00:00",
          "2024-03-15T08:00:00+00:00",
          "2024-03-15T10:00:00+00:00",
          "2024-03-15T11:00:00+00:00",
          "2024-03-15T12:00:00+00:00",
          "2024-03-15T15:00:00+00:00",
          "2024-03-15T20:00:00+00:00",
          "2024-03-17T21:00:00+00:00",
          "2024-03-17T22:00:00+00:00",
          "2024-03-18T00:00:00+00:00",
          "2024-03-18T07:00:00+00:00",
          "2024-03-18T08:00:00+00:00",
          "2024-03-18T09:00:00+00:00",
          "2024-03-18T13:00:00+00:00",
          "2024-03-18T15:00:00+00:00",
          "2024-03-18T16:00:00+00:00",
          "2024-03-18T17:00:00+00:00",
          "2024-03-18T18:00:00+00:00",
          "2024-03-18T19:00:00+00:00",
          "2024-03-18T20:00:00+00:00",
          "2024-03-19T02:00:00+00:00",
          "2024-03-19T03:00:00+00:00",
          "2024-03-19T04:00:00+00:00",
          "2024-03-19T07:00:00+00:00",
          "2024-03-19T09:00:00+00:00",
          "2024-03-19T12:00:00+00:00",
          "2024-03-19T13:00:00+00:00",
          "2024-03-19T15:00:00+00:00",
          "2024-03-19T19:00:00+00:00",
          "2024-03-19T22:00:00+00:00",
          "2024-03-20T06:00:00+00:00",
          "2024-03-20T15:00:00+00:00",
          "2024-03-20T16:00:00+00:00",
          "2024-03-20T22:00:00+00:00",
          "2024-03-20T23:00:00+00:00",
          "2024-03-21T00:00:00+00:00",
          "2024-03-21T02:00:00+00:00",
          "2024-03-21T05:00:00+00:00",
          "2024-03-21T07:00:00+00:00",
          "2024-03-21T08:00:00+00:00",
          "2024-03-21T14:00:00+00:00",
          "2024-03-21T16:00:00+00:00",
          "2024-03-21T17:00:00+00:00",
          "2024-03-21T18:00:00+00:00",
          "2024-03-22T03:00:00+00:00",
          "2024-03-22T05:00:00+00:00",
          "2024-03-22T06:00:00+00:00",
          "2024-03-22T07:00:00+00:00",
          "2024-03-22T11:00:00+00:00",
          "2024-03-22T14:00:00+00:00",
          "2024-03-22T19:00:00+00:00",
          "2024-03-24T22:00:00+00:00",
          "2024-03-25T00:00:00+00:00",
          "2024-03-25T06:00:00+00:00",
          "2024-03-25T11:00:00+00:00",
          "2024-03-25T12:00:00+00:00",
          "2024-03-25T13:00:00+00:00",
          "2024-03-25T14:00:00+00:00",
          "2024-03-25T15:00:00+00:00",
          "2024-03-25T18:00:00+00:00",
          "2024-03-25T20:00:00+00:00",
          "2024-03-26T01:00:00+00:00",
          "2024-03-26T05:00:00+00:00",
          "2024-03-26T09:00:00+00:00",
          "2024-03-26T14:00:00+00:00",
          "2024-03-26T15:00:00+00:00",
          "2024-03-26T18:00:00+00:00",
          "2024-03-26T19:00:00+00:00",
          "2024-03-26T21:00:00+00:00",
          "2024-03-26T22:00:00+00:00",
          "2024-03-27T00:00:00+00:00",
          "2024-03-27T01:00:00+00:00",
          "2024-03-27T07:00:00+00:00",
          "2024-03-27T08:00:00+00:00",
          "2024-03-27T10:00:00+00:00",
          "2024-03-27T12:00:00+00:00",
          "2024-03-27T13:00:00+00:00",
          "2024-03-27T14:00:00+00:00",
          "2024-03-27T15:00:00+00:00",
          "2024-03-27T20:00:00+00:00",
          "2024-03-27T23:00:00+00:00",
          "2024-03-28T01:00:00+00:00",
          "2024-03-28T02:00:00+00:00",
          "2024-03-28T09:00:00+00:00",
          "2024-03-28T10:00:00+00:00",
          "2024-03-28T11:00:00+00:00",
          "2024-03-28T13:00:00+00:00",
          "2024-03-28T14:00:00+00:00",
          "2024-03-28T16:00:00+00:00",
          "2024-03-28T21:00:00+00:00",
          "2024-03-29T02:00:00+00:00",
          "2024-03-29T05:00:00+00:00",
          "2024-03-29T06:00:00+00:00",
          "2024-03-29T12:00:00+00:00",
          "2024-03-29T13:00:00+00:00",
          "2024-03-29T14:00:00+00:00",
          "2024-03-29T15:00:00+00:00",
          "2024-03-29T16:00:00+00:00",
          "2024-03-29T17:00:00+00:00",
          "2024-03-29T18:00:00+00:00",
          "2024-03-31T22:00:00+00:00",
          "2024-04-01T00:00:00+00:00",
          "2024-04-01T03:00:00+00:00",
          "2024-04-01T05:00:00+00:00",
          "2024-04-01T08:00:00+00:00",
          "2024-04-01T09:00:00+00:00",
          "2024-04-01T10:00:00+00:00",
          "2024-04-01T12:00:00+00:00",
          "2024-04-01T13:00:00+00:00",
          "2024-04-01T14:00:00+00:00",
          "2024-04-01T16:00:00+00:00",
          "2024-04-01T20:00:00+00:00",
          "2024-04-02T03:00:00+00:00",
          "2024-04-02T06:00:00+00:00",
          "2024-04-02T08:00:00+00:00",
          "2024-04-02T10:00:00+00:00",
          "2024-04-02T13:00:00+00:00",
          "2024-04-02T14:00:00+00:00",
          "2024-04-02T15:00:00+00:00",
          "2024-04-02T16:00:00+00:00",
          "2024-04-02T17:00:00+00:00",
          "2024-04-02T22:00:00+00:00",
          "2024-04-03T01:00:00+00:00",
          "2024-04-03T10:00:00+00:00",
          "2024-04-03T11:00:00+00:00",
          "2024-04-03T13:00:00+00:00",
          "2024-04-03T18:00:00+00:00",
          "2024-04-03T20:00:00+00:00",
          "2024-04-03T21:00:00+00:00",
          "2024-04-04T03:00:00+00:00",
          "2024-04-04T07:00:00+00:00",
          "2024-04-04T11:00:00+00:00",
          "2024-04-04T15:00:00+00:00",
          "2024-04-04T18:00:00+00:00",
          "2024-04-04T20:00:00+00:00",
          "2024-04-04T21:00:00+00:00",
          "2024-04-04T22:00:00+00:00",
          "2024-04-04T23:00:00+00:00",
          "2024-04-05T01:00:00+00:00",
          "2024-04-05T02:00:00+00:00",
          "2024-04-05T04:00:00+00:00",
          "2024-04-05T14:00:00+00:00",
          "2024-04-05T19:00:00+00:00",
          "2024-04-05T20:00:00+00:00",
          "2024-04-07T21:00:00+00:00",
          "2024-04-08T00:00:00+00:00",
          "2024-04-08T01:00:00+00:00",
          "2024-04-08T02:00:00+00:00",
          "2024-04-08T05:00:00+00:00",
          "2024-04-08T08:00:00+00:00",
          "2024-04-08T09:00:00+00:00",
          "2024-04-08T11:00:00+00:00",
          "2024-04-08T14:00:00+00:00",
          "2024-04-09T06:00:00+00:00",
          "2024-04-09T07:00:00+00:00",
          "2024-04-09T10:00:00+00:00",
          "2024-04-09T12:00:00+00:00",
          "2024-04-09T16:00:00+00:00",
          "2024-04-09T18:00:00+00:00",
          "2024-04-09T19:00:00+00:00",
          "2024-04-09T21:00:00+00:00",
          "2024-04-10T02:00:00+00:00",
          "2024-04-10T04:00:00+00:00",
          "2024-04-10T06:00:00+00:00",
          "2024-04-10T08:00:00+00:00",
          "2024-04-10T11:00:00+00:00",
          "2024-04-10T12:00:00+00:00",
          "2024-04-10T14:00:00+00:00",
          "2024-04-10T15:00:00+00:00",
          "2024-04-10T16:00:00+00:00",
          "2024-04-10T18:00:00+00:00",
          "2024-04-10T20:00:00+00:00",
          "2024-04-10T23:00:00+00:00",
          "2024-04-11T00:00:00+00:00",
          "2024-04-11T01:00:00+00:00",
          "2024-04-11T03:00:00+00:00",
          "2024-04-11T06:00:00+00:00",
          "2024-04-11T08:00:00+00:00",
          "2024-04-11T09:00:00+00:00",
          "2024-04-11T10:00:00+00:00",
          "2024-04-11T11:00:00+00:00",
          "2024-04-11T12:00:00+00:00",
          "2024-04-11T13:00:00+00:00",
          "2024-04-11T14:00:00+00:00",
          "2024-04-11T16:00:00+00:00",
          "2024-04-11T20:00:00+00:00",
          "2024-04-11T21:00:00+00:00",
          "2024-04-11T22:00:00+00:00",
          "2024-04-12T02:00:00+00:00",
          "2024-04-12T06:00:00+00:00",
          "2024-04-12T08:00:00+00:00",
          "2024-04-12T09:00:00+00:00",
          "2024-04-12T10:00:00+00:00",
          "2024-04-12T11:00:00+00:00",
          "2024-04-12T16:00:00+00:00",
          "2024-04-12T17:00:00+00:00",
          "2024-04-15T05:00:00+00:00",
          "2024-04-15T06:00:00+00:00",
          "2024-04-15T07:00:00+00:00",
          "2024-04-15T08:00:00+00:00",
          "2024-04-15T10:00:00+00:00",
          "2024-04-15T12:00:00+00:00",
          "2024-04-15T17:00:00+00:00",
          "2024-04-15T19:00:00+00:00",
          "2024-04-15T21:00:00+00:00",
          "2024-04-16T00:00:00+00:00",
          "2024-04-16T04:00:00+00:00",
          "2024-04-16T05:00:00+00:00",
          "2024-04-16T07:00:00+00:00",
          "2024-04-16T09:00:00+00:00",
          "2024-04-16T10:00:00+00:00",
          "2024-04-16T11:00:00+00:00",
          "2024-04-16T12:00:00+00:00",
          "2024-04-16T14:00:00+00:00",
          "2024-04-16T15:00:00+00:00",
          "2024-04-16T19:00:00+00:00",
          "2024-04-16T22:00:00+00:00",
          "2024-04-16T23:00:00+00:00",
          "2024-04-17T00:00:00+00:00",
          "2024-04-17T01:00:00+00:00",
          "2024-04-17T02:00:00+00:00",
          "2024-04-17T09:00:00+00:00",
          "2024-04-17T10:00:00+00:00",
          "2024-04-17T12:00:00+00:00",
          "2024-04-17T13:00:00+00:00",
          "2024-04-17T15:00:00+00:00",
          "2024-04-17T16:00:00+00:00",
          "2024-04-17T17:00:00+00:00",
          "2024-04-17T18:00:00+00:00",
          "2024-04-17T19:00:00+00:00",
          "2024-04-17T20:00:00+00:00",
          "2024-04-18T06:00:00+00:00",
          "2024-04-18T08:00:00+00:00",
          "2024-04-18T09:00:00+00:00",
          "2024-04-18T11:00:00+00:00",
          "2024-04-18T13:00:00+00:00",
          "2024-04-18T15:00:00+00:00",
          "2024-04-18T17:00:00+00:00",
          "2024-04-18T19:00:00+00:00",
          "2024-04-18T20:00:00+00:00",
          "2024-04-18T22:00:00+00:00",
          "2024-04-18T23:00:00+00:00",
          "2024-04-19T00:00:00+00:00",
          "2024-04-19T01:00:00+00:00",
          "2024-04-19T02:00:00+00:00",
          "2024-04-19T03:00:00+00:00",
          "2024-04-19T05:00:00+00:00",
          "2024-04-19T12:00:00+00:00",
          "2024-04-19T13:00:00+00:00",
          "2024-04-19T16:00:00+00:00",
          "2024-04-19T17:00:00+00:00",
          "2024-04-19T18:00:00+00:00",
          "2024-04-19T20:00:00+00:00",
          "2024-04-21T23:00:00+00:00",
          "2024-04-22T02:00:00+00:00",
          "2024-04-22T14:00:00+00:00",
          "2024-04-22T15:00:00+00:00",
          "2024-04-22T18:00:00+00:00",
          "2024-04-22T19:00:00+00:00",
          "2024-04-22T20:00:00+00:00",
          "2024-04-22T21:00:00+00:00",
          "2024-04-22T23:00:00+00:00",
          "2024-04-23T00:00:00+00:00",
          "2024-04-23T02:00:00+00:00",
          "2024-04-23T03:00:00+00:00",
          "2024-04-23T05:00:00+00:00",
          "2024-04-23T08:00:00+00:00",
          "2024-04-23T09:00:00+00:00",
          "2024-04-23T10:00:00+00:00",
          "2024-04-23T11:00:00+00:00",
          "2024-04-23T13:00:00+00:00",
          "2024-04-23T15:00:00+00:00",
          "2024-04-23T16:00:00+00:00",
          "2024-04-23T23:00:00+00:00",
          "2024-04-24T01:00:00+00:00",
          "2024-04-24T05:00:00+00:00",
          "2024-04-24T06:00:00+00:00",
          "2024-04-24T11:00:00+00:00",
          "2024-04-24T12:00:00+00:00",
          "2024-04-24T13:00:00+00:00",
          "2024-04-24T16:00:00+00:00",
          "2024-04-24T20:00:00+00:00",
          "2024-04-24T23:00:00+00:00",
          "2024-04-25T02:00:00+00:00",
          "2024-04-25T03:00:00+00:00",
          "2024-04-25T06:00:00+00:00",
          "2024-04-25T14:00:00+00:00",
          "2024-04-25T16:00:00+00:00",
          "2024-04-25T17:00:00+00:00",
          "2024-04-25T18:00:00+00:00",
          "2024-04-25T22:00:00+00:00",
          "2024-04-26T00:00:00+00:00",
          "2024-04-26T01:00:00+00:00",
          "2024-04-26T02:00:00+00:00",
          "2024-04-26T04:00:00+00:00",
          "2024-04-26T07:00:00+00:00",
          "2024-04-26T09:00:00+00:00",
          "2024-04-26T10:00:00+00:00",
          "2024-04-26T11:00:00+00:00",
          "2024-04-26T13:00:00+00:00",
          "2024-04-26T15:00:00+00:00",
          "2024-04-26T18:00:00+00:00",
          "2024-04-26T20:00:00+00:00",
          "2024-04-28T22:00:00+00:00",
          "2024-04-29T01:00:00+00:00",
          "2024-04-29T02:00:00+00:00",
          "2024-04-29T04:00:00+00:00",
          "2024-04-29T07:00:00+00:00",
          "2024-04-29T08:00:00+00:00",
          "2024-04-29T09:00:00+00:00",
          "2024-04-29T10:00:00+00:00",
          "2024-04-29T12:00:00+00:00",
          "2024-04-29T16:00:00+00:00",
          "2024-04-29T19:00:00+00:00",
          "2024-04-30T02:00:00+00:00",
          "2024-04-30T04:00:00+00:00",
          "2024-04-30T05:00:00+00:00",
          "2024-04-30T06:00:00+00:00",
          "2024-04-30T07:00:00+00:00",
          "2024-04-30T09:00:00+00:00",
          "2024-04-30T10:00:00+00:00",
          "2024-04-30T11:00:00+00:00",
          "2024-04-30T17:00:00+00:00",
          "2024-04-30T18:00:00+00:00",
          "2024-05-01T02:00:00+00:00",
          "2024-05-01T06:00:00+00:00",
          "2024-05-01T07:00:00+00:00",
          "2024-05-01T08:00:00+00:00",
          "2024-05-01T10:00:00+00:00",
          "2024-05-01T13:00:00+00:00",
          "2024-05-01T14:00:00+00:00",
          "2024-05-01T15:00:00+00:00",
          "2024-05-01T16:00:00+00:00",
          "2024-05-01T17:00:00+00:00",
          "2024-05-01T18:00:00+00:00",
          "2024-05-01T20:00:00+00:00",
          "2024-05-01T21:00:00+00:00",
          "2024-05-01T23:00:00+00:00",
          "2024-05-02T06:00:00+00:00",
          "2024-05-02T07:00:00+00:00",
          "2024-05-02T08:00:00+00:00",
          "2024-05-02T09:00:00+00:00",
          "2024-05-02T22:00:00+00:00",
          "2024-05-03T05:00:00+00:00",
          "2024-05-03T12:00:00+00:00",
          "2024-05-03T13:00:00+00:00",
          "2024-05-03T16:00:00+00:00",
          "2024-05-03T19:00:00+00:00",
          "2024-05-06T00:00:00+00:00",
          "2024-05-06T02:00:00+00:00",
          "2024-05-06T06:00:00+00:00",
          "2024-05-06T08:00:00+00:00",
          "2024-05-06T09:00:00+00:00",
          "2024-05-06T10:00:00+00:00",
          "2024-05-06T11:00:00+00:00",
          "2024-05-06T15:00:00+00:00",
          "2024-05-06T17:00:00+00:00",
          "2024-05-06T18:00:00+00:00",
          "2024-05-06T19:00:00+00:00",
          "2024-05-07T03:00:00+00:00",
          "2024-05-07T05:00:00+00:00",
          "2024-05-07T09:00:00+00:00",
          "2024-05-07T10:00:00+00:00",
          "2024-05-07T11:00:00+00:00",
          "2024-05-07T12:00:00+00:00",
          "2024-05-07T16:00:00+00:00",
          "2024-05-07T17:00:00+00:00",
          "2024-05-07T19:00:00+00:00",
          "2024-05-07T21:00:00+00:00",
          "2024-05-08T00:00:00+00:00",
          "2024-05-08T03:00:00+00:00",
          "2024-05-08T06:00:00+00:00",
          "2024-05-08T07:00:00+00:00",
          "2024-05-08T13:00:00+00:00",
          "2024-05-08T15:00:00+00:00",
          "2024-05-08T18:00:00+00:00",
          "2024-05-08T20:00:00+00:00",
          "2024-05-08T21:00:00+00:00",
          "2024-05-09T09:00:00+00:00",
          "2024-05-09T11:00:00+00:00",
          "2024-05-09T12:00:00+00:00",
          "2024-05-09T14:00:00+00:00",
          "2024-05-09T15:00:00+00:00",
          "2024-05-09T17:00:00+00:00",
          "2024-05-09T21:00:00+00:00",
          "2024-05-09T22:00:00+00:00",
          "2024-05-09T23:00:00+00:00",
          "2024-05-10T01:00:00+00:00",
          "2024-05-10T02:00:00+00:00",
          "2024-05-10T07:00:00+00:00",
          "2024-05-10T08:00:00+00:00",
          "2024-05-10T09:00:00+00:00",
          "2024-05-10T12:00:00+00:00",
          "2024-05-10T14:00:00+00:00",
          "2024-05-10T19:00:00+00:00",
          "2024-05-13T00:00:00+00:00",
          "2024-05-13T01:00:00+00:00",
          "2024-05-13T02:00:00+00:00",
          "2024-05-13T05:00:00+00:00",
          "2024-05-13T08:00:00+00:00",
          "2024-05-13T09:00:00+00:00",
          "2024-05-13T11:00:00+00:00",
          "2024-05-13T13:00:00+00:00",
          "2024-05-13T14:00:00+00:00",
          "2024-05-13T15:00:00+00:00",
          "2024-05-13T17:00:00+00:00",
          "2024-05-13T22:00:00+00:00",
          "2024-05-14T03:00:00+00:00",
          "2024-05-14T07:00:00+00:00",
          "2024-05-14T09:00:00+00:00",
          "2024-05-14T11:00:00+00:00",
          "2024-05-14T12:00:00+00:00",
          "2024-05-14T14:00:00+00:00",
          "2024-05-14T16:00:00+00:00",
          "2024-05-14T17:00:00+00:00",
          "2024-05-14T19:00:00+00:00",
          "2024-05-14T21:00:00+00:00",
          "2024-05-14T22:00:00+00:00",
          "2024-05-15T04:00:00+00:00",
          "2024-05-15T05:00:00+00:00",
          "2024-05-15T09:00:00+00:00",
          "2024-05-15T10:00:00+00:00",
          "2024-05-15T13:00:00+00:00",
          "2024-05-15T14:00:00+00:00",
          "2024-05-15T16:00:00+00:00",
          "2024-05-16T03:00:00+00:00",
          "2024-05-16T06:00:00+00:00",
          "2024-05-16T10:00:00+00:00",
          "2024-05-16T13:00:00+00:00",
          "2024-05-16T14:00:00+00:00",
          "2024-05-16T15:00:00+00:00",
          "2024-05-16T18:00:00+00:00",
          "2024-05-16T19:00:00+00:00",
          "2024-05-17T12:00:00+00:00",
          "2024-05-17T13:00:00+00:00",
          "2024-05-17T14:00:00+00:00",
          "2024-05-17T20:00:00+00:00",
          "2024-05-20T06:00:00+00:00",
          "2024-05-20T08:00:00+00:00",
          "2024-05-20T11:00:00+00:00",
          "2024-05-20T13:00:00+00:00",
          "2024-05-20T14:00:00+00:00",
          "2024-05-20T22:00:00+00:00",
          "2024-05-21T03:00:00+00:00",
          "2024-05-21T06:00:00+00:00",
          "2024-05-21T07:00:00+00:00",
          "2024-05-21T11:00:00+00:00",
          "2024-05-21T13:00:00+00:00",
          "2024-05-21T15:00:00+00:00",
          "2024-05-21T16:00:00+00:00",
          "2024-05-21T17:00:00+00:00",
          "2024-05-21T18:00:00+00:00",
          "2024-05-21T21:00:00+00:00",
          "2024-05-22T00:00:00+00:00",
          "2024-05-22T02:00:00+00:00",
          "2024-05-22T03:00:00+00:00",
          "2024-05-22T04:00:00+00:00",
          "2024-05-22T06:00:00+00:00",
          "2024-05-22T07:00:00+00:00",
          "2024-05-22T14:00:00+00:00",
          "2024-05-22T15:00:00+00:00",
          "2024-05-22T16:00:00+00:00",
          "2024-05-22T17:00:00+00:00",
          "2024-05-22T18:00:00+00:00",
          "2024-05-22T20:00:00+00:00",
          "2024-05-23T05:00:00+00:00",
          "2024-05-23T06:00:00+00:00",
          "2024-05-23T11:00:00+00:00",
          "2024-05-23T12:00:00+00:00",
          "2024-05-23T13:00:00+00:00",
          "2024-05-23T16:00:00+00:00",
          "2024-05-23T18:00:00+00:00",
          "2024-05-23T19:00:00+00:00",
          "2024-05-23T21:00:00+00:00",
          "2024-05-23T22:00:00+00:00",
          "2024-05-23T23:00:00+00:00",
          "2024-05-24T01:00:00+00:00",
          "2024-05-24T07:00:00+00:00",
          "2024-05-24T10:00:00+00:00",
          "2024-05-24T11:00:00+00:00",
          "2024-05-24T12:00:00+00:00",
          "2024-05-24T13:00:00+00:00",
          "2024-05-24T14:00:00+00:00",
          "2024-05-24T16:00:00+00:00",
          "2024-05-24T17:00:00+00:00",
          "2024-05-24T18:00:00+00:00",
          "2024-05-24T19:00:00+00:00",
          "2024-05-24T20:00:00+00:00",
          "2024-05-27T04:00:00+00:00",
          "2024-05-27T14:00:00+00:00",
          "2024-05-27T18:00:00+00:00",
          "2024-05-27T22:00:00+00:00",
          "2024-05-28T05:00:00+00:00",
          "2024-05-28T06:00:00+00:00",
          "2024-05-28T07:00:00+00:00",
          "2024-05-28T08:00:00+00:00",
          "2024-05-28T11:00:00+00:00",
          "2024-05-28T12:00:00+00:00",
          "2024-05-28T16:00:00+00:00",
          "2024-05-28T19:00:00+00:00",
          "2024-05-28T20:00:00+00:00",
          "2024-05-29T01:00:00+00:00",
          "2024-05-29T02:00:00+00:00",
          "2024-05-29T05:00:00+00:00",
          "2024-05-29T07:00:00+00:00",
          "2024-05-29T08:00:00+00:00",
          "2024-05-29T09:00:00+00:00",
          "2024-05-29T11:00:00+00:00",
          "2024-05-29T12:00:00+00:00",
          "2024-05-29T13:00:00+00:00",
          "2024-05-29T16:00:00+00:00",
          "2024-05-29T18:00:00+00:00",
          "2024-05-29T19:00:00+00:00",
          "2024-05-29T20:00:00+00:00",
          "2024-05-30T00:00:00+00:00",
          "2024-05-30T04:00:00+00:00",
          "2024-05-30T05:00:00+00:00",
          "2024-05-30T08:00:00+00:00",
          "2024-05-30T09:00:00+00:00",
          "2024-05-30T16:00:00+00:00",
          "2024-05-30T17:00:00+00:00",
          "2024-05-30T23:00:00+00:00",
          "2024-05-31T01:00:00+00:00",
          "2024-05-31T03:00:00+00:00",
          "2024-05-31T04:00:00+00:00",
          "2024-05-31T05:00:00+00:00",
          "2024-05-31T07:00:00+00:00",
          "2024-05-31T08:00:00+00:00",
          "2024-05-31T09:00:00+00:00",
          "2024-05-31T11:00:00+00:00",
          "2024-05-31T13:00:00+00:00",
          "2024-05-31T15:00:00+00:00",
          "2024-05-31T17:00:00+00:00",
          "2024-05-31T20:00:00+00:00",
          "2024-06-02T21:00:00+00:00",
          "2024-06-03T01:00:00+00:00",
          "2024-06-03T04:00:00+00:00",
          "2024-06-03T06:00:00+00:00",
          "2024-06-03T08:00:00+00:00",
          "2024-06-03T10:00:00+00:00",
          "2024-06-03T11:00:00+00:00",
          "2024-06-03T12:00:00+00:00",
          "2024-06-03T13:00:00+00:00",
          "2024-06-03T14:00:00+00:00",
          "2024-06-03T15:00:00+00:00",
          "2024-06-03T19:00:00+00:00",
          "2024-06-04T00:00:00+00:00",
          "2024-06-04T01:00:00+00:00",
          "2024-06-04T02:00:00+00:00",
          "2024-06-04T07:00:00+00:00",
          "2024-06-04T08:00:00+00:00",
          "2024-06-04T19:00:00+00:00",
          "2024-06-04T23:00:00+00:00",
          "2024-06-05T01:00:00+00:00",
          "2024-06-05T05:00:00+00:00",
          "2024-06-05T06:00:00+00:00",
          "2024-06-05T07:00:00+00:00",
          "2024-06-05T08:00:00+00:00",
          "2024-06-05T10:00:00+00:00",
          "2024-06-05T11:00:00+00:00",
          "2024-06-05T12:00:00+00:00",
          "2024-06-05T14:00:00+00:00",
          "2024-06-06T04:00:00+00:00",
          "2024-06-06T06:00:00+00:00",
          "2024-06-06T08:00:00+00:00",
          "2024-06-06T09:00:00+00:00",
          "2024-06-06T11:00:00+00:00",
          "2024-06-06T14:00:00+00:00",
          "2024-06-06T16:00:00+00:00",
          "2024-06-06T17:00:00+00:00",
          "2024-06-06T19:00:00+00:00",
          "2024-06-06T20:00:00+00:00",
          "2024-06-06T22:00:00+00:00",
          "2024-06-06T23:00:00+00:00",
          "2024-06-07T01:00:00+00:00",
          "2024-06-07T06:00:00+00:00",
          "2024-06-07T08:00:00+00:00",
          "2024-06-07T09:00:00+00:00",
          "2024-06-07T11:00:00+00:00",
          "2024-06-07T12:00:00+00:00",
          "2024-06-07T13:00:00+00:00",
          "2024-06-07T14:00:00+00:00",
          "2024-06-07T15:00:00+00:00",
          "2024-06-07T18:00:00+00:00",
          "2024-06-07T20:00:00+00:00",
          "2024-06-10T01:00:00+00:00",
          "2024-06-10T11:00:00+00:00",
          "2024-06-10T12:00:00+00:00",
          "2024-06-10T14:00:00+00:00",
          "2024-06-10T17:00:00+00:00",
          "2024-06-10T18:00:00+00:00",
          "2024-06-10T22:00:00+00:00",
          "2024-06-10T23:00:00+00:00",
          "2024-06-11T01:00:00+00:00",
          "2024-06-11T02:00:00+00:00",
          "2024-06-11T03:00:00+00:00",
          "2024-06-11T05:00:00+00:00",
          "2024-06-11T06:00:00+00:00",
          "2024-06-11T08:00:00+00:00",
          "2024-06-11T09:00:00+00:00",
          "2024-06-11T11:00:00+00:00",
          "2024-06-11T13:00:00+00:00",
          "2024-06-11T14:00:00+00:00",
          "2024-06-11T15:00:00+00:00",
          "2024-06-11T20:00:00+00:00",
          "2024-06-11T23:00:00+00:00",
          "2024-06-12T02:00:00+00:00",
          "2024-06-12T08:00:00+00:00",
          "2024-06-12T20:00:00+00:00"
         ],
         "y": [
          -38.59999999999957,
          -42.299999999999386,
          -61.89999999999891,
          -61.09999999999811,
          -78.09999999999846,
          -80.49999999999864,
          -81.49999999999963,
          -126.59999999999924,
          -70.89999999999992,
          -67.7999999999996,
          -52.9999999999979,
          -33.799999999998676,
          -45.29999999999852,
          -75.59999999999843,
          -84.0999999999986,
          -141.4999999999984,
          -174.2999999999987,
          -58.999999999999545,
          -60.80000000000024,
          -74.0999999999998,
          -78.9999999999997,
          -133.60000000000102,
          -143.00000000000153,
          -136.99999999999775,
          -139.79999999999833,
          -187.9999999999988,
          -188.49999999999875,
          -218.69999999999897,
          -244.09999999999945,
          -237.4999999999962,
          -243.39999999999486,
          -103.69999999999447,
          -114.69999999999584,
          -79.99999999999642,
          -73.69999999999622,
          104.90000000000477,
          73.30000000000283,
          35.2000000000028,
          40.300000000001575,
          40.10000000000204,
          -40.399999999996865,
          -82.09999999999471,
          -95.69999999999499,
          -121.69999999999322,
          -188.19999999999146,
          -217.1999999999921,
          -235.49999999999207,
          -301.69999999999266,
          -345.89999999999134,
          -367.6999999999898,
          -426.99999999999017,
          -429.19999999999214,
          -286.1999999999943,
          -127.79999999999683,
          -53.599999999996385,
          3.200000000001978,
          -15.099999999998005,
          -30.099999999998573,
          53.500000000000654,
          72.00000000000084,
          64.30000000000146,
          56.90000000000183,
          70.5000000000021,
          -4.699999999997601,
          -106.29999999999707,
          -120.19999999999807,
          -127.99999999999837,
          -150.59999999999826,
          -45.39999999999742,
          66.40000000000359,
          86.50000000000391,
          149.30000000000177,
          81.80000000000143,
          77.00000000000108,
          70.40000000000114,
          39.29999999999946,
          -62.500000000000256,
          -64.50000000000003,
          -14.99999999999833,
          -5.099999999997866,
          15.400000000004272,
          229.100000000006,
          210.70000000000536,
          83.10000000000433,
          93.90000000000403,
          95.10000000000412,
          102.90000000000414,
          138.10000000000383,
          157.70000000000346,
          196.20000000000255,
          269.2000000000012,
          379.4000000000018,
          366.1000000000008,
          361.29999999999825,
          372.099999999998,
          360.8999999999979,
          436.0999999999983,
          455.2999999999997,
          465.9999999999999,
          449.79999999999814,
          418.99999999999886,
          426.09999999999866,
          402.2999999999982,
          381.19999999999766,
          363.99999999999795,
          274.89999999999714,
          322.8999999999961,
          318.4999999999964,
          213.19999999999604,
          142.1999999999983,
          131.5999999999988,
          134.49999999999844,
          111.29999999999744,
          -26.900000000003402,
          -110.80000000000237,
          -162.80000000000172,
          -203.4000000000009,
          -245.8000000000011,
          -297.7000000000003,
          -442.5999999999992,
          -452.79999999999944,
          -436.10000000000105,
          -450.70000000000124,
          -443.40000000000003,
          -443.9000000000024,
          -490.3000000000023,
          -494.70000000000226,
          -526.0000000000039,
          -542.100000000004,
          -527.6000000000034,
          -478.50000000000153,
          -296.2000000000008,
          -300.5000000000012,
          -352.50000000000216,
          -387.9000000000021,
          -378.8000000000024,
          -381.00000000000153,
          -151.20000000000135,
          -154.1000000000024,
          2.4999999999976694,
          -11.000000000001954,
          2.2999999999985796,
          -45.80000000000123,
          -62.20000000000209,
          -142.00000000000227,
          -166.9000000000033,
          -171.80000000000112,
          -39.09999999999846,
          22.60000000000163,
          63.30000000000069,
          55.5000000000004,
          99.70000000000019,
          143.3000000000009,
          143.90000000000148,
          157.70000000000306,
          238.1000000000013,
          210.80000000000027,
          265.7000000000013,
          266.80000000000075,
          206.50000000000097,
          136.70000000000226,
          130.50000000000162,
          79.10000000000346,
          110.30000000000247,
          202.70000000000312,
          232.10000000000255,
          295.70000000000357,
          336.1000000000018,
          431.6999999999997,
          413.5999999999999,
          508.50000000000057,
          666.9000000000009,
          610.6000000000037,
          575.400000000004,
          565.6000000000031,
          547.0000000000034,
          544.0000000000026,
          480.2000000000043,
          420.80000000000376,
          420.80000000000376,
          420.90000000000333,
          429.90000000000344,
          541.1000000000014,
          609.9000000000013,
          567.2000000000021,
          603.3000000000033,
          506.70000000000243,
          554.5000000000002,
          580.4999999999993,
          671.9999999999985,
          657.1999999999981,
          642.4999999999984,
          619.6999999999989,
          653.3999999999987,
          738.1999999999987,
          780.7999999999957,
          885.7999999999969,
          956.1999999999962,
          1077.5999999999985,
          1075.4999999999982,
          1072.6999999999975,
          1202.499999999995,
          1193.3999999999953,
          1184.199999999995,
          1109.8999999999946,
          1099.7999999999952,
          1086.2999999999956,
          1055.199999999994,
          1047.599999999994,
          1026.2999999999931,
          1024.2999999999934,
          1005.4999999999945,
          976.9999999999943,
          985.7999999999943,
          996.599999999994,
          924.199999999995,
          979.7999999999962,
          984.9999999999959,
          992.499999999994,
          982.5999999999935,
          926.2999999999934,
          895.4999999999915,
          888.4999999999911,
          880.8999999999913,
          811.8999999999901,
          778.4999999999898,
          753.3999999999921,
          719.2999999999942,
          708.8999999999942,
          700.6999999999948,
          636.3999999999954,
          619.199999999996,
          625.7999999999959,
          639.5999999999964,
          612.799999999994,
          487.8999999999947,
          427.89999999999526,
          585.0999999999951,
          540.1999999999973,
          506.99999999999744,
          466.09999999999826,
          430.29999999999797,
          525.6999999999963,
          550.0999999999963,
          534.8999999999944,
          536.7999999999957,
          535.7999999999959,
          536.0999999999979,
          511.9999999999976,
          467.1999999999972,
          388.3999999999984,
          264.00000000000057,
          245.39999999999972,
          239.8999999999992,
          717.6000000000001,
          683.8000000000004,
          659.7000000000002,
          677.5999999999998,
          627.2999999999997,
          810.9000000000001,
          797.0000000000001,
          784.2000000000006,
          838.9999999999999,
          868.5999999999991,
          881.299999999998,
          887.8999999999983,
          860.2999999999972,
          817.7999999999986,
          906.3999999999972,
          1099.4999999999966,
          1150.6999999999966,
          1165.4999999999964,
          1097.0999999999963,
          1017.6999999999979,
          1019.899999999997,
          1013.0999999999968,
          1000.4999999999964,
          954.199999999997,
          916.6999999999955,
          1078.5999999999954,
          1094.799999999996,
          1145.399999999996,
          1135.5999999999951,
          1141.799999999995,
          1110.099999999995,
          1100.9999999999952,
          1021.3999999999955,
          987.7999999999953,
          932.7999999999947,
          924.5999999999954,
          920.3999999999957,
          868.099999999995,
          818.8999999999946,
          772.0999999999945,
          754.2999999999944,
          748.0999999999938,
          599.1999999999919,
          525.5999999999929,
          523.8999999999928,
          446.29999999999177,
          388.6999999999919,
          377.6999999999931,
          608.8999999999928,
          578.7999999999911,
          564.9999999999917,
          558.599999999992,
          587.1999999999928,
          576.9999999999926,
          549.799999999992,
          478.4999999999912,
          426.6999999999916,
          381.49999999999176,
          370.3999999999923,
          362.1999999999915,
          286.599999999993,
          676.099999999994,
          670.6999999999941,
          675.599999999994,
          651.699999999994,
          1033.9999999999934,
          1013.2999999999932,
          1328.5999999999924,
          1244.6999999999912,
          1139.8999999999885,
          1129.299999999988,
          1114.2999999999874,
          1089.499999999987,
          1027.6999999999873,
          944.4999999999862,
          936.8999999999864,
          960.7999999999864,
          948.7999999999867,
          948.1999999999872,
          910.199999999987,
          898.4999999999869,
          924.099999999987,
          842.8999999999879,
          927.2999999999857,
          1044.4999999999854,
          1026.099999999985,
          1215.6999999999869,
          1207.9999999999864,
          1204.7999999999854,
          1331.7999999999865,
          1382.199999999987,
          1376.1999999999866,
          1350.8999999999862,
          1326.3999999999855,
          1253.9999999999864,
          1219.8999999999862,
          1176.7999999999859,
          1173.9999999999852,
          1147.9999999999836,
          1102.4999999999832,
          1123.5999999999815,
          1129.8999999999783,
          1140.9999999999789,
          1122.199999999979,
          1094.9999999999784,
          1061.6999999999784,
          1062.799999999978,
          1038.8999999999803,
          1047.8999999999805,
          1036.6999999999805,
          1139.8999999999814,
          1111.2999999999818,
          1025.099999999981,
          917.2999999999802,
          882.0999999999798,
          809.4999999999804,
          811.8999999999807,
          732.1999999999796,
          871.3999999999792,
          814.2999999999781,
          805.0999999999779,
          1075.7999999999802,
          1029.3999999999792,
          1132.8999999999787,
          947.3999999999814,
          908.5999999999815,
          867.6999999999822,
          840.899999999982,
          830.199999999983,
          810.199999999983,
          743.1999999999837,
          691.8999999999851,
          716.4999999999852,
          690.8999999999862,
          668.0999999999879,
          661.0999999999875,
          553.8999999999869,
          484.49999999998744,
          476.09999999998684,
          376.39999999998486,
          311.6999999999857,
          449.1999999999857,
          589.8999999999868,
          616.8999999999883,
          777.8999999999883,
          798.899999999988,
          802.5999999999879,
          784.9999999999844,
          719.7999999999829,
          692.1999999999831,
          696.7999999999832,
          958.5999999999827,
          1134.1999999999828,
          1248.1999999999814,
          1260.1999999999812,
          1259.1999999999812,
          1183.0999999999822,
          1161.199999999983,
          1172.699999999984,
          1181.5999999999844,
          1099.0999999999847,
          1044.099999999984,
          1076.1999999999834,
          1081.199999999983,
          1248.6999999999812,
          1245.5999999999808,
          1233.1999999999807,
          1218.8999999999814,
          1245.399999999982,
          1372.799999999982,
          1455.3999999999828,
          1482.3999999999837,
          1457.1999999999841,
          1421.1999999999841,
          1440.4999999999854,
          1441.1999999999855,
          1463.8999999999846,
          1464.6999999999844,
          1428.5999999999833,
          1399.9999999999825,
          1348.7999999999824,
          1324.5999999999815,
          1274.3999999999812,
          1271.0999999999817,
          1259.2999999999822,
          1266.2999999999815,
          1264.8999999999805,
          1260.8999999999799,
          1302.8999999999787,
          1295.5999999999785,
          1323.2999999999802,
          1267.9999999999777,
          1243.9999999999782,
          1230.599999999978,
          1151.1999999999782,
          1175.3999999999785,
          1231.7999999999786,
          1220.9999999999789,
          1289.2999999999788,
          1272.9999999999786,
          1274.0999999999792,
          1268.0999999999788,
          1239.0999999999785,
          1218.999999999978,
          1169.999999999977,
          1127.7999999999745,
          1106.7999999999724,
          1076.899999999973,
          1087.1999999999712,
          1175.4999999999693,
          1308.2999999999688,
          1294.8999999999699,
          1272.2999999999695,
          1312.899999999969,
          1300.5999999999683,
          1267.6999999999682,
          1316.2999999999702,
          1334.4999999999695,
          1323.899999999969,
          1282.0999999999694,
          1333.7999999999695,
          1393.199999999969,
          1390.6999999999684,
          1373.1999999999682,
          1528.6999999999662,
          1503.8999999999658,
          1434.499999999964,
          1380.099999999963,
          1291.0999999999617,
          1120.7999999999615,
          986.499999999961,
          936.0999999999606,
          915.5999999999608,
          848.6999999999622,
          815.8999999999619,
          813.0999999999613,
          727.0999999999611,
          377.9999999999588,
          239.49999999995654,
          243.89999999995428,
          124.49999999995367,
          158.39999999995354,
          39.89999999995217,
          11.699999999951103,
          -87.0000000000498,
          -131.60000000005172,
          -149.80000000005106,
          -159.40000000005065,
          -189.20000000005047,
          -206.6000000000512,
          -228.90000000005074,
          -423.80000000004986,
          -450.4000000000487,
          -493.2000000000471,
          -563.5000000000474,
          -591.7000000000501,
          -505.30000000005157,
          -575.5000000000496,
          -573.6000000000494,
          -584.8000000000494,
          -603.6000000000494,
          -551.700000000049,
          -601.3000000000497,
          49.699999999951615,
          427.8999999999527,
          338.799999999954,
          282.4999999999527,
          218.39999999995246,
          201.9999999999527,
          177.99999999995202,
          166.29999999995198,
          94.79999999995208,
          66.99999999995202,
          38.79999999995158,
          30.699999999951807,
          14.699999999951348,
          -30.200000000047478,
          -76.30000000004861,
          -91.90000000004866,
          -109.60000000004804,
          -105.40000000004717,
          -121.90000000004757,
          -166.90000000004594,
          -216.30000000004537,
          -280.7000000000454,
          -272.2000000000441,
          -280.0000000000441,
          -289.1000000000438,
          -220.10000000004374,
          -217.10000000004362,
          -234.90000000004366,
          -275.1000000000438,
          -310.500000000047,
          -309.70000000004956,
          -382.7000000000504,
          -394.9000000000504,
          -419.8000000000492,
          -437.900000000049,
          -440.9000000000498,
          -489.7000000000497,
          -555.1000000000494,
          -595.6000000000505,
          -607.200000000051,
          -685.4000000000492,
          -705.1000000000495,
          -740.8000000000479,
          -795.6000000000472,
          -806.6000000000471,
          -775.8000000000462,
          -797.800000000046,
          -781.2000000000461,
          -782.200000000046,
          -722.400000000046,
          -725.0000000000452,
          -569.200000000046,
          -323.40000000004613,
          -247.90000000004375,
          -256.50000000004457,
          -239.90000000004463,
          -264.1000000000444,
          -300.60000000004374,
          -287.0000000000434,
          -304.10000000004334,
          -316.7000000000437,
          -324.900000000043,
          -328.6000000000428,
          -400.7000000000422,
          -475.3000000000425,
          -493.000000000043,
          -577.1000000000452,
          -517.5000000000452,
          -525.8000000000441,
          -503.6000000000432,
          -490.8000000000418,
          -515.6000000000422,
          -574.6000000000402,
          -655.2000000000397,
          -679.0000000000402,
          -731.3000000000387,
          -743.6000000000394,
          -743.8000000000407,
          -756.8000000000415,
          -733.8000000000407,
          -544.6000000000402,
          -418.5000000000401,
          -417.8000000000399,
          -247.8000000000395,
          -271.00000000003683,
          -290.30000000003673,
          -284.3000000000374,
          -208.5000000000382,
          -256.70000000003813,
          -311.400000000039,
          -358.00000000003695,
          -385.100000000037,
          -265.30000000003804,
          -292.20000000003887,
          -334.6000000000413,
          -321.8000000000413,
          -155.2000000000385,
          -170.50000000003772,
          44.29999999996173,
          27.199999999961836,
          105.59999999996141,
          99.89999999996182,
          60.999999999962334,
          172.39999999996382,
          180.19999999996386,
          142.7999999999631,
          126.49999999996288,
          140.89999999996286,
          156.09999999996154,
          145.69999999996045,
          15.79999999995934,
          -37.20000000003926,
          -58.300000000040534,
          -108.60000000003922,
          -139.30000000003943,
          -148.10000000004166,
          -192.10000000004126,
          -248.5000000000434,
          -271.70000000004217,
          -337.7000000000429,
          -401.900000000046,
          -447.00000000004536,
          -475.80000000004503,
          -490.0000000000446,
          -505.8000000000433,
          -558.4000000000437,
          -571.0000000000442,
          -545.6000000000452,
          -524.8000000000443,
          -461.4000000000455,
          -477.40000000004517,
          -471.4000000000452,
          -444.90000000004375,
          -408.00000000004405,
          -440.80000000004355,
          -465.80000000004355,
          -547.0000000000448,
          -624.4000000000449,
          -641.8000000000434,
          -672.3000000000434,
          -685.6000000000415,
          -717.8000000000418,
          -731.2000000000407,
          -787.7000000000401,
          -896.4000000000383,
          -919.7000000000374,
          -909.8000000000401,
          -936.7000000000406,
          -904.7000000000409,
          -913.6000000000436,
          -928.5000000000437,
          -891.8000000000446,
          -884.1000000000441,
          -905.7000000000435,
          -932.5000000000437,
          -969.0000000000417,
          -985.2000000000423,
          -994.7000000000422,
          -1015.500000000042,
          -1090.10000000004,
          -1140.1000000000433,
          -1233.2000000000417,
          -1277.300000000042,
          -1302.7000000000426,
          -1452.2000000000417,
          -1461.8000000000413,
          -1618.700000000041,
          -1543.6000000000402,
          -1512.7000000000398,
          -1469.2000000000403,
          -1488.100000000041,
          -1465.9000000000378,
          -1463.3000000000386,
          -1465.6000000000429,
          -1482.0000000000416,
          -1512.400000000042,
          -1522.6000000000422,
          -1522.0000000000423,
          -1541.2000000000414,
          -1548.8000000000425,
          -1509.8000000000422,
          -1344.4000000000378,
          -1366.3000000000382,
          -1366.3000000000382,
          -1343.2000000000387,
          -1342.7000000000387,
          -1338.9000000000394,
          -1381.100000000039,
          -1460.900000000041,
          -1479.10000000004,
          -1494.7000000000392,
          -1505.8000000000397,
          -1524.1000000000397,
          -1546.600000000039,
          -1574.600000000038,
          -1765.0000000000366,
          -1835.2000000000376,
          -1933.4000000000374,
          -1955.7000000000373,
          -2088.5000000000377,
          -2107.5000000000377,
          -2172.300000000036,
          -2190.900000000036,
          -2199.3000000000357,
          -2223.3000000000366,
          -2245.900000000036,
          -2317.100000000035,
          -2499.600000000033,
          -2598.9000000000324,
          -2627.2000000000335,
          -2904.100000000035,
          -3030.3000000000347,
          -3037.600000000035,
          -3043.900000000036,
          -3068.3000000000407,
          -3093.7000000000407,
          -3113.2000000000407,
          -3128.2000000000403,
          -3205.9000000000397,
          -3269.900000000039,
          -3288.8000000000397,
          -3301.6000000000413,
          -3318.200000000041,
          -3338.8000000000407,
          -3345.8000000000397,
          -3415.4000000000383,
          -3359.600000000039,
          -3222.900000000043,
          -3222.1000000000417,
          -3284.1000000000417,
          -3280.200000000043,
          -3330.1000000000436,
          -3565.6000000000463,
          -3575.2000000000457,
          -3593.8000000000457,
          -3625.500000000047,
          -3744.6000000000454,
          -3815.1000000000445,
          -3818.3000000000434,
          -3818.900000000044,
          -3832.100000000043,
          -3760.100000000043,
          -3718.800000000043,
          -3684.900000000043,
          -3651.1000000000436,
          -3544.8000000000466,
          -3559.3000000000475,
          -3586.1000000000467,
          -3554.5000000000464,
          -3601.900000000047,
          -3602.5000000000477,
          -3618.7000000000485,
          -3570.300000000049,
          -3495.7000000000485,
          -3484.3000000000484,
          -3618.2000000000476,
          -3621.4000000000487,
          -3649.200000000048,
          -3654.400000000048,
          -3667.4000000000487,
          -3534.2000000000494,
          -3280.2000000000507,
          -3175.00000000005,
          -3065.6000000000504,
          -3052.800000000051,
          -3049.400000000051,
          -3068.3000000000507,
          -3093.7000000000507,
          -3193.700000000053,
          -3228.100000000053,
          -3229.500000000053,
          -3231.800000000053,
          -3242.500000000052,
          -3242.2000000000544,
          -3234.700000000054,
          -3232.400000000054,
          -3257.2000000000544,
          -3249.9000000000533,
          -3268.700000000053,
          -3303.5000000000523,
          -3307.1000000000527,
          -3296.1000000000513,
          -3322.200000000051,
          -3350.2000000000503,
          -3355.0000000000505,
          -3372.600000000051,
          -3380.7000000000507,
          -3398.900000000051,
          -3413.3000000000516,
          -3397.3000000000525,
          -3405.700000000053,
          -3379.100000000053,
          -3416.7000000000535,
          -3436.9000000000524,
          -3396.800000000054,
          -3416.700000000052,
          -3416.6000000000527,
          -3379.3000000000507,
          -3383.7000000000517,
          -3382.2000000000517,
          -3411.7000000000494,
          -3481.3000000000493,
          -3459.9000000000497,
          -3444.5000000000487,
          -3461.900000000049,
          -3499.700000000048,
          -3500.700000000048,
          -3544.100000000048,
          -3531.8000000000493,
          -3532.400000000049,
          -3553.1000000000486,
          -3563.700000000048,
          -3574.700000000048,
          -3605.200000000048,
          -3588.800000000047,
          -3617.900000000047,
          -3616.900000000044,
          -3686.700000000044,
          -3649.900000000043,
          -3693.4000000000433,
          -3735.600000000043,
          -3764.200000000044,
          -3759.7000000000444,
          -3785.3000000000443,
          -3881.500000000043,
          -3918.5000000000437,
          -3912.500000000043,
          -3941.7000000000435,
          -3919.1000000000436,
          -3956.2000000000426,
          -3810.7000000000426,
          -3790.5000000000427,
          -3780.600000000044,
          -3810.600000000045,
          -3829.500000000043,
          -3848.800000000043,
          -3847.400000000043,
          -3881.0000000000455,
          -3870.300000000045,
          -3794.0000000000437,
          -3633.6000000000454,
          -3555.600000000045,
          -3465.300000000045,
          -3511.200000000046,
          -3514.7000000000457,
          -3516.5000000000455,
          -3524.500000000046,
          -3528.400000000046,
          -3536.4000000000474,
          -3544.700000000047,
          -3597.200000000046,
          -3613.9000000000456,
          -3633.100000000045,
          -3633.5000000000455,
          -3635.7000000000467,
          -3581.7000000000457,
          -3484.300000000044,
          -3530.600000000043,
          -3500.7000000000403,
          -3510.600000000041,
          -3517.7000000000407,
          -3527.900000000041,
          -3545.00000000004,
          -3585.4000000000397,
          -3605.2000000000403,
          -3605.2000000000403,
          -3608.0000000000396,
          -3553.800000000042,
          -3587.6000000000413,
          -3610.100000000042,
          -3642.4000000000433,
          -3535.2000000000453,
          -3552.4000000000447,
          -3623.500000000043,
          -3664.5000000000455,
          -3658.100000000048,
          -3652.8000000000466,
          -3641.8000000000457,
          -3640.1000000000467,
          -3605.9000000000447,
          -3616.500000000043,
          -3606.6000000000427,
          -3615.1000000000386,
          -3562.700000000037,
          -3598.1000000000386,
          -3494.6000000000354,
          -3550.1000000000354,
          -3546.4000000000356,
          -3549.8000000000357,
          -3529.6000000000354,
          -3625.600000000034,
          -3688.2000000000357,
          -3677.400000000036,
          -3582.6000000000367,
          -3642.000000000039,
          -3634.700000000039,
          -3646.600000000039,
          -3639.2000000000394,
          -3644.8000000000384,
          -3668.200000000036,
          -3691.600000000037,
          -3734.200000000039,
          -3754.1000000000386,
          -3766.900000000038,
          -3796.9000000000374,
          -3808.5000000000373,
          -3796.2000000000367,
          -3822.400000000035,
          -3821.7000000000344,
          -3794.7000000000335,
          -3822.7000000000335,
          -3875.700000000033,
          -3883.4000000000333,
          -3874.300000000034,
          -3865.9000000000333,
          -4292.800000000033,
          -4445.300000000032,
          -4466.200000000033,
          -4512.400000000032,
          -4422.600000000035,
          -4402.200000000035,
          -4409.5000000000355,
          -4418.800000000036,
          -4520.500000000038,
          -4583.100000000039,
          -4563.1000000000395,
          -4598.100000000042,
          -4533.200000000043,
          -4545.300000000043,
          -4561.100000000043,
          -4569.000000000044,
          -4585.500000000044,
          -4559.7000000000435,
          -4494.500000000043,
          -4509.300000000042,
          -4519.800000000042,
          -4540.800000000042,
          -4558.4000000000415,
          -4557.9000000000415,
          -4554.200000000041,
          -4569.200000000042,
          -4570.100000000041,
          -4443.0000000000455,
          -4453.400000000046,
          -4462.800000000046,
          -4474.600000000045,
          -4425.200000000045,
          -4344.200000000045,
          -4344.100000000045,
          -4341.100000000045,
          -4304.5000000000455,
          -4207.400000000044,
          -4210.400000000044,
          -4233.7000000000435,
          -4317.000000000043,
          -4324.7000000000435,
          -4345.300000000044,
          -4343.800000000043,
          -4354.300000000043,
          -4365.500000000043,
          -4365.500000000043,
          -4365.300000000043,
          -4364.600000000043,
          -4365.100000000043,
          -4238.000000000044,
          -4231.000000000043,
          -4202.000000000044,
          -4212.300000000044,
          -4057.5000000000464,
          -4070.1000000000467,
          -4098.700000000046,
          -4066.100000000046,
          -4076.4000000000447,
          -4000.1000000000445,
          -3850.0000000000437,
          -3865.7000000000435,
          -3862.700000000044,
          -3876.100000000044,
          -3898.9000000000433,
          -3898.5000000000427,
          -3900.100000000042,
          -3944.5000000000423,
          -3955.300000000041,
          -3879.700000000041,
          -3872.4000000000406,
          -3884.20000000004,
          -3889.10000000004,
          -3870.4000000000397,
          -3874.400000000039,
          -3816.900000000038,
          -3794.8000000000375,
          -3836.700000000037,
          -3956.600000000039,
          -4060.40000000004,
          -4024.2000000000385,
          -4106.500000000039,
          -4230.600000000039,
          -4238.200000000038,
          -4254.700000000036,
          -4293.5000000000355,
          -4308.600000000036,
          -4365.300000000037,
          -4336.700000000035,
          -4300.800000000035,
          -4300.500000000035,
          -4307.000000000035,
          -4304.300000000035,
          -4301.100000000034,
          -4311.500000000034,
          -4305.800000000034,
          -4301.800000000033,
          -4261.400000000032,
          -4244.20000000003,
          -4255.40000000003,
          -4263.500000000029,
          -4275.200000000028,
          -4239.200000000028,
          -4162.000000000026,
          -4185.500000000025,
          -4185.400000000024,
          -4219.800000000024,
          -4228.000000000025,
          -4233.300000000024,
          -4287.300000000022,
          -4286.4000000000215,
          -4287.100000000021,
          -4356.300000000022,
          -4361.100000000022,
          -4394.600000000023,
          -4391.800000000025,
          -4423.800000000024,
          -4588.00000000002,
          -4612.800000000022,
          -4647.7000000000235,
          -4650.400000000023,
          -4660.800000000024,
          -4653.900000000028,
          -4684.000000000029,
          -4738.900000000029,
          -4617.100000000028,
          -4621.500000000027,
          -4677.900000000029,
          -4642.200000000029,
          -4751.700000000031,
          -4754.400000000031,
          -4774.300000000032,
          -4707.20000000003,
          -4715.400000000031,
          -4735.6000000000295,
          -4575.300000000031,
          -4587.4000000000315,
          -4610.600000000031,
          -4613.80000000003,
          -4614.90000000003,
          -4616.1000000000295,
          -4632.50000000003,
          -4660.40000000003,
          -4686.1000000000295,
          -4686.000000000029,
          -4722.200000000029,
          -4723.800000000028,
          -4738.000000000028,
          -4816.700000000029,
          -4704.00000000003,
          -4866.300000000031,
          -4953.300000000032,
          -5045.300000000031,
          -4986.300000000031,
          -4788.800000000032,
          -4617.100000000033,
          -4392.100000000032,
          -4401.400000000032,
          -4487.200000000032,
          -4581.900000000032,
          -4584.800000000033,
          -4546.400000000032,
          -4455.100000000033,
          -4390.400000000032,
          -4277.300000000031,
          -4254.700000000031,
          -4220.300000000031,
          -4217.700000000032,
          -4235.10000000003,
          -4265.20000000003,
          -4295.400000000029,
          -4482.500000000027,
          -4432.200000000026,
          -4306.100000000027,
          -4283.800000000026,
          -4243.2000000000235,
          -4075.3000000000247,
          -4046.3000000000256,
          -4054.3000000000247,
          -4043.1000000000245,
          -4050.500000000024,
          -4034.5000000000236,
          -4036.5000000000236,
          -4049.2000000000226,
          -4044.200000000023,
          -4052.2000000000216,
          -4056.200000000021,
          -4039.700000000022,
          -3947.500000000023,
          -3880.2000000000216,
          -3873.1000000000226,
          -3826.700000000023,
          -3836.600000000022,
          -3775.1000000000213,
          -3775.200000000022,
          -3782.1000000000217,
          -3863.400000000019,
          -3892.200000000019,
          -3930.0000000000177,
          -3928.8000000000175,
          -3908.400000000017,
          -3917.8000000000166,
          -3878.2000000000166,
          -3914.200000000017,
          -3847.200000000018,
          -3892.0000000000186,
          -3929.9000000000183,
          -3946.0000000000173,
          -3913.5000000000177,
          -3914.5000000000177,
          -3872.6000000000186,
          -3824.200000000019,
          -3766.2000000000185,
          -3679.1000000000186,
          -3673.400000000017,
          -3688.5000000000164,
          -3661.5000000000173,
          -3685.3000000000175,
          -3688.5000000000173,
          -3685.700000000018,
          -3672.200000000019,
          -3689.000000000017,
          -3685.000000000015,
          -3692.7000000000144,
          -3702.4000000000124,
          -3707.5000000000114,
          -3701.2000000000103,
          -3712.600000000011,
          -3726.9000000000115,
          -3732.4000000000124,
          -3750.1000000000154,
          -3772.8000000000175,
          -3836.7000000000166,
          -3828.600000000018,
          -3872.0000000000186,
          -3878.300000000018,
          -3884.400000000018,
          -3939.700000000017,
          -3936.500000000016,
          -3941.9000000000156,
          -3903.1000000000126,
          -3902.800000000012,
          -3922.400000000012,
          -3913.90000000001,
          -3847.1000000000076,
          -3849.000000000007,
          -3777.8000000000065,
          -3795.000000000006,
          -3826.6000000000067,
          -3750.900000000006,
          -3371.7000000000044,
          -3343.6000000000045,
          -3349.400000000005,
          -3359.5000000000045,
          -3400.900000000005,
          -3424.1000000000063,
          -3434.5000000000064,
          -3462.800000000005,
          -3463.2000000000044,
          -3497.400000000004,
          -3482.800000000004,
          -3488.600000000004,
          -3482.500000000004,
          -3537.5000000000036,
          -3592.9000000000037,
          -3626.2000000000044,
          -3555.300000000006,
          -3601.9000000000037,
          -3648.4000000000046,
          -3651.8000000000047,
          -3689.100000000004,
          -3699.9000000000015,
          -3702.200000000001,
          -3824.399999999999,
          -3866.6999999999966,
          -3830.1999999999957,
          -3815.599999999997,
          -3786.699999999997,
          -3760.6999999999966,
          -3723.699999999996,
          -3729.4999999999955,
          -3701.6999999999953,
          -3707.8999999999946,
          -3700.399999999992,
          -3732.69999999999,
          -3737.59999999999,
          -3766.2999999999906,
          -3755.5999999999904,
          -3764.1999999999903,
          -3759.69999999999,
          -3781.49999999999,
          -3796.4999999999905,
          -3803.89999999999,
          -3715.3999999999896,
          -3729.9999999999895,
          -3744.1999999999894,
          -3774.8999999999905,
          -3811.3999999999896,
          -3866.699999999992,
          -3932.599999999994,
          -4007.39999999999,
          -4079.4999999999905,
          -4145.099999999989,
          -4169.89999999999,
          -4175.49999999999,
          -4174.79999999999,
          -4175.99999999999,
          -4179.59999999999,
          -4183.3999999999905,
          -4206.59999999999,
          -4236.199999999991,
          -4243.099999999991,
          -4138.8999999999905,
          -4139.59999999999,
          -4281.899999999991,
          -4303.599999999991,
          -4324.799999999991,
          -4360.19999999999,
          -4364.199999999989,
          -4365.999999999989,
          -4373.5999999999885,
          -4349.299999999988,
          -4367.899999999989,
          -4317.2999999999865,
          -4303.2999999999865,
          -4364.099999999987,
          -4297.899999999986,
          -4190.299999999987,
          -4126.2999999999865,
          -4047.699999999985,
          -4065.7999999999843,
          -4100.199999999985,
          -4137.899999999986,
          -4144.299999999986,
          -4128.899999999985,
          -4130.599999999985,
          -4116.399999999986,
          -4125.599999999986,
          -4084.8999999999855,
          -4127.499999999985,
          -4166.399999999987,
          -4209.299999999987,
          -4235.7999999999865,
          -4206.499999999985,
          -4249.899999999985,
          -4252.099999999985,
          -4266.299999999985,
          -4275.299999999985,
          -4257.599999999984,
          -4260.999999999984,
          -4257.999999999984,
          -4260.999999999985,
          -4297.599999999986,
          -4296.399999999986,
          -4329.199999999985,
          -4329.9999999999845,
          -4371.9999999999845,
          -4408.199999999984,
          -4413.199999999985,
          -4299.899999999985,
          -4317.199999999985,
          -4356.9999999999845,
          -4425.199999999984,
          -4429.899999999984,
          -4369.999999999983,
          -4406.999999999984,
          -4480.799999999983,
          -4494.399999999983,
          -4502.099999999984,
          -4498.899999999984,
          -4586.599999999986,
          -4683.499999999987,
          -4735.099999999987,
          -4723.699999999986,
          -4704.2999999999865,
          -4744.9999999999845,
          -4750.499999999985,
          -4887.799999999985,
          -4922.599999999986,
          -4879.199999999985,
          -4803.9999999999845,
          -4924.299999999985,
          -4890.699999999986,
          -4775.999999999987,
          -4757.699999999987,
          -4717.499999999987,
          -4710.899999999988,
          -4777.499999999986,
          -4801.2999999999865,
          -4802.399999999987,
          -4803.699999999986,
          -4730.899999999987,
          -4541.099999999988,
          -4544.699999999988,
          -4547.199999999989,
          -4393.799999999987,
          -4426.39999999999,
          -4464.199999999991,
          -4479.899999999991,
          -4163.199999999992,
          -4137.699999999993,
          -4175.299999999994,
          -4058.4999999999923,
          -3961.099999999993,
          -3946.299999999994,
          -3941.599999999994,
          -3953.9999999999936,
          -3982.399999999993,
          -4016.3999999999937,
          -4035.5999999999945,
          -4069.3999999999937,
          -4087.899999999995,
          -4110.399999999994,
          -4141.199999999995,
          -4030.399999999995,
          -3963.099999999995,
          -3973.3999999999937,
          -3990.9999999999936,
          -4033.3999999999937,
          -4043.9999999999945,
          -4115.099999999994,
          -4116.799999999994,
          -4149.9999999999945,
          -4130.199999999996,
          -4143.399999999996,
          -4164.399999999997,
          -4217.899999999997,
          -4219.199999999998,
          -4233.999999999998,
          -4251.099999999998,
          -4261.099999999997,
          -4246.799999999997,
          -4250.099999999997,
          -4236.399999999996,
          -4250.899999999998,
          -4294.299999999998,
          -4244.599999999999,
          -4159.800000000001,
          -4173.700000000001,
          -4192.9,
          -4194.699999999999,
          -4210.099999999998,
          -4498.4999999999945,
          -4623.999999999996,
          -4644.699999999996,
          -4604.199999999995,
          -4446.699999999993,
          -4440.699999999994,
          -4363.299999999996,
          -4356.899999999996,
          -4339.499999999995,
          -4362.699999999995,
          -4637.399999999994,
          -4652.599999999995,
          -4664.299999999995,
          -4670.899999999995,
          -4399.699999999996,
          -4402.499999999995,
          -4405.899999999994,
          -4414.799999999995,
          -4423.199999999994,
          -4413.799999999994,
          -4434.399999999996,
          -4595.399999999996,
          -4617.699999999995,
          -3948.2999999999956,
          -3855.8999999999965,
          -3474.699999999997,
          -3331.8999999999965,
          -3290.3999999999965,
          -3317.1999999999966,
          -3297.399999999997,
          -3297.6999999999966,
          -3308.1999999999966,
          -3335.699999999997,
          -3315.7999999999965,
          -3323.999999999997,
          -3325.699999999998,
          -3152.5999999999985,
          -2835.799999999998,
          -2436.0999999999995,
          -2352.700000000002,
          -2323.900000000001,
          -2329.4000000000005,
          -2342.4,
          -2331.3000000000006,
          -2338.800000000001,
          -2348.7000000000016,
          -2391.0000000000055,
          -2401.2000000000057,
          -2415.6000000000067,
          -2426.800000000007,
          -2357.800000000008,
          -2361.000000000009,
          -2340.9000000000106,
          -2318.300000000011,
          -2323.700000000012,
          -2314.300000000013,
          -2311.5000000000123,
          -2344.1000000000126,
          -2369.1000000000126,
          -2421.400000000015,
          -2426.2000000000153,
          -2430.500000000016,
          -2187.8000000000166,
          -2078.5000000000177,
          -2078.100000000017,
          -2086.1000000000176,
          -2076.800000000021,
          -2063.1000000000213,
          -2081.4000000000215,
          -2095.400000000022,
          -2101.500000000022,
          -2103.4000000000233,
          -2112.4000000000246,
          -2132.600000000025,
          -2137.500000000026,
          -2137.8000000000256,
          -2137.700000000025,
          -2140.900000000026,
          -2141.9000000000283,
          -2188.20000000003,
          -2243.8000000000297,
          -2241.1000000000286,
          -2245.700000000029,
          -2287.5000000000296,
          -2330.500000000029,
          -2352.3000000000297,
          -2360.2000000000303,
          -2399.0000000000296,
          -2403.000000000029,
          -2352.4000000000306,
          -2347.100000000031,
          -2291.300000000031,
          -2296.1000000000304,
          -2228.700000000031,
          -2235.2000000000317,
          -2144.2000000000317,
          -2142.6000000000313,
          -2143.7000000000307,
          -2045.10000000003,
          -2076.1000000000286,
          -1960.9000000000287,
          -1967.1000000000295,
          -2054.800000000029,
          -2029.3000000000304,
          -2013.600000000032,
          -1971.5000000000316,
          -1816.3000000000318,
          -1816.2000000000312,
          -1800.8000000000313,
          -1803.4000000000306,
          -1811.5000000000302,
          -1786.9000000000308,
          -1826.5000000000305,
          -1836.400000000031,
          -1857.6000000000313,
          -1900.3000000000306,
          -1980.0000000000318,
          -1988.7000000000332,
          -1792.3000000000345,
          -1705.4000000000362,
          -1461.900000000036,
          -1443.0000000000357,
          -1383.3000000000354,
          -1399.500000000035,
          -1447.3000000000359,
          -1319.8000000000354,
          -1271.2000000000369,
          -1285.7000000000364,
          -1352.0000000000377,
          -1342.400000000037,
          -1364.6000000000377,
          -1400.3000000000372,
          -1470.0000000000382,
          -1483.5000000000387,
          -1481.3000000000397,
          -1487.5000000000405,
          -1531.7000000000412,
          -1536.900000000042,
          -1575.100000000041,
          -1618.4000000000403,
          -1605.3000000000402,
          -1611.3000000000395,
          -1625.500000000039,
          -1671.400000000039,
          -1667.000000000039,
          -1737.6000000000397,
          -1819.2000000000405,
          -1830.0000000000396,
          -1857.6000000000406,
          -1874.4000000000397,
          -1899.40000000004,
          -1904.5000000000402,
          -1910.8000000000404,
          -1980.10000000004,
          -1976.1000000000404,
          -1971.7000000000394,
          -1966.60000000004,
          -1995.600000000039,
          -1997.1000000000388,
          -2004.7000000000398,
          -2035.1000000000392,
          -2088.300000000038,
          -2103.0000000000377,
          -2150.0000000000377,
          -2187.200000000036,
          -2210.000000000034,
          -2251.0000000000355,
          -2274.300000000037,
          -2249.500000000035,
          -2166.800000000035,
          -2091.5000000000355,
          -2069.900000000035,
          -2031.100000000036,
          -2030.100000000036,
          -2040.5000000000355,
          -2053.3000000000347,
          -2042.7000000000342,
          -2008.100000000034,
          -1970.500000000034,
          -1965.2000000000337,
          -1875.000000000035,
          -1777.8000000000354,
          -1792.800000000036,
          -1642.300000000036,
          -1652.0000000000352,
          -1601.800000000036,
          -1596.5000000000368,
          -1540.5000000000364,
          -1547.900000000036,
          -1575.300000000038,
          -1578.9000000000383,
          -1522.5000000000375,
          -1520.1000000000374,
          -1528.500000000039,
          -1552.0000000000398,
          -1517.2000000000398,
          -1555.100000000038,
          -1562.900000000038,
          -1531.8000000000375,
          -1534.4000000000385,
          -1562.500000000039,
          -1563.3000000000388,
          -1571.9000000000385,
          -1677.0000000000375,
          -1693.000000000038,
          -1712.200000000037,
          -1795.3000000000359,
          -1894.8000000000327,
          -1937.9000000000308,
          -1842.1000000000308,
          -1840.2000000000294,
          -1823.9000000000292,
          -1848.5000000000286,
          -1867.1000000000295,
          -1710.6000000000256,
          -1647.2000000000255,
          -1656.0000000000255,
          -1658.2000000000255,
          -1691.7000000000235,
          -1852.5000000000214,
          -1885.7000000000212,
          -1914.5000000000211,
          -1927.000000000021,
          -1838.900000000021,
          -1758.1000000000213,
          -1774.1000000000217,
          -1704.3000000000218,
          -1614.1000000000226,
          -1629.7000000000216,
          -1567.600000000021,
          -1677.4000000000196,
          -1621.600000000019,
          -1643.0000000000202,
          -1680.2000000000216,
          -1622.00000000002,
          -1629.3000000000202,
          -1715.7000000000207,
          -1812.5000000000211,
          -2006.90000000002,
          -2183.3000000000193,
          -2177.3000000000197,
          -2503.6000000000186,
          -2496.7000000000176,
          -2506.600000000018,
          -2496.0000000000177,
          -2466.000000000018,
          -2487.20000000002,
          -2563.2000000000166,
          -2565.300000000017,
          -2565.400000000018,
          -2579.9000000000183,
          -2562.600000000018,
          -2581.0000000000164,
          -2602.100000000017,
          -2554.2000000000176,
          -2575.0000000000186,
          -2615.900000000018,
          -2635.800000000017,
          -2598.400000000016,
          -2615.600000000016,
          -2665.2000000000166,
          -2677.7000000000157,
          -2668.800000000016,
          -2681.400000000014,
          -2636.2000000000135,
          -2616.100000000015,
          -2636.0000000000164,
          -2683.600000000015,
          -2560.600000000013,
          -2582.800000000012,
          -2543.6000000000117,
          -2516.1000000000113,
          -2522.200000000011,
          -2503.8000000000097,
          -2524.400000000009,
          -2507.8000000000093,
          -2498.800000000009,
          -2506.2000000000094,
          -2521.1000000000095,
          -2585.800000000007,
          -2519.900000000005,
          -2550.300000000005,
          -2604.1000000000063,
          -2603.3000000000056,
          -2605.0000000000055,
          -2680.6000000000045,
          -2683.5000000000045,
          -2685.5000000000045,
          -2708.600000000005,
          -2722.2000000000053,
          -2723.8000000000056,
          -2796.3000000000056,
          -2860.5000000000055,
          -2884.0000000000064,
          -2923.3000000000065,
          -2920.200000000006,
          -2925.5000000000055,
          -2943.3000000000043,
          -3006.7000000000057,
          -2996.5000000000055
         ]
        }
       ],
       "layout": {
        "font": {
         "color": "#e1e1e1",
         "size": 10
        },
        "height": 400,
        "margin": {
         "b": 10,
         "l": 15,
         "r": 15
        },
        "paper_bgcolor": "#1e1e1e",
        "plot_bgcolor": "#1e1e1e",
        "template": {
         "data": {
          "bar": [
           {
            "error_x": {
             "color": "#2a3f5f"
            },
            "error_y": {
             "color": "#2a3f5f"
            },
            "marker": {
             "line": {
              "color": "#E5ECF6",
              "width": 0.5
             },
             "pattern": {
              "fillmode": "overlay",
              "size": 10,
              "solidity": 0.2
             }
            },
            "type": "bar"
           }
          ],
          "barpolar": [
           {
            "marker": {
             "line": {
              "color": "#E5ECF6",
              "width": 0.5
             },
             "pattern": {
              "fillmode": "overlay",
              "size": 10,
              "solidity": 0.2
             }
            },
            "type": "barpolar"
           }
          ],
          "carpet": [
           {
            "aaxis": {
             "endlinecolor": "#2a3f5f",
             "gridcolor": "white",
             "linecolor": "white",
             "minorgridcolor": "white",
             "startlinecolor": "#2a3f5f"
            },
            "baxis": {
             "endlinecolor": "#2a3f5f",
             "gridcolor": "white",
             "linecolor": "white",
             "minorgridcolor": "white",
             "startlinecolor": "#2a3f5f"
            },
            "type": "carpet"
           }
          ],
          "choropleth": [
           {
            "colorbar": {
             "outlinewidth": 0,
             "ticks": ""
            },
            "type": "choropleth"
           }
          ],
          "contour": [
           {
            "colorbar": {
             "outlinewidth": 0,
             "ticks": ""
            },
            "colorscale": [
             [
              0,
              "#0d0887"
             ],
             [
              0.1111111111111111,
              "#46039f"
             ],
             [
              0.2222222222222222,
              "#7201a8"
             ],
             [
              0.3333333333333333,
              "#9c179e"
             ],
             [
              0.4444444444444444,
              "#bd3786"
             ],
             [
              0.5555555555555556,
              "#d8576b"
             ],
             [
              0.6666666666666666,
              "#ed7953"
             ],
             [
              0.7777777777777778,
              "#fb9f3a"
             ],
             [
              0.8888888888888888,
              "#fdca26"
             ],
             [
              1,
              "#f0f921"
             ]
            ],
            "type": "contour"
           }
          ],
          "contourcarpet": [
           {
            "colorbar": {
             "outlinewidth": 0,
             "ticks": ""
            },
            "type": "contourcarpet"
           }
          ],
          "heatmap": [
           {
            "colorbar": {
             "outlinewidth": 0,
             "ticks": ""
            },
            "colorscale": [
             [
              0,
              "#0d0887"
             ],
             [
              0.1111111111111111,
              "#46039f"
             ],
             [
              0.2222222222222222,
              "#7201a8"
             ],
             [
              0.3333333333333333,
              "#9c179e"
             ],
             [
              0.4444444444444444,
              "#bd3786"
             ],
             [
              0.5555555555555556,
              "#d8576b"
             ],
             [
              0.6666666666666666,
              "#ed7953"
             ],
             [
              0.7777777777777778,
              "#fb9f3a"
             ],
             [
              0.8888888888888888,
              "#fdca26"
             ],
             [
              1,
              "#f0f921"
             ]
            ],
            "type": "heatmap"
           }
          ],
          "heatmapgl": [
           {
            "colorbar": {
             "outlinewidth": 0,
             "ticks": ""
            },
            "colorscale": [
             [
              0,
              "#0d0887"
             ],
             [
              0.1111111111111111,
              "#46039f"
             ],
             [
              0.2222222222222222,
              "#7201a8"
             ],
             [
              0.3333333333333333,
              "#9c179e"
             ],
             [
              0.4444444444444444,
              "#bd3786"
             ],
             [
              0.5555555555555556,
              "#d8576b"
             ],
             [
              0.6666666666666666,
              "#ed7953"
             ],
             [
              0.7777777777777778,
              "#fb9f3a"
             ],
             [
              0.8888888888888888,
              "#fdca26"
             ],
             [
              1,
              "#f0f921"
             ]
            ],
            "type": "heatmapgl"
           }
          ],
          "histogram": [
           {
            "marker": {
             "pattern": {
              "fillmode": "overlay",
              "size": 10,
              "solidity": 0.2
             }
            },
            "type": "histogram"
           }
          ],
          "histogram2d": [
           {
            "colorbar": {
             "outlinewidth": 0,
             "ticks": ""
            },
            "colorscale": [
             [
              0,
              "#0d0887"
             ],
             [
              0.1111111111111111,
              "#46039f"
             ],
             [
              0.2222222222222222,
              "#7201a8"
             ],
             [
              0.3333333333333333,
              "#9c179e"
             ],
             [
              0.4444444444444444,
              "#bd3786"
             ],
             [
              0.5555555555555556,
              "#d8576b"
             ],
             [
              0.6666666666666666,
              "#ed7953"
             ],
             [
              0.7777777777777778,
              "#fb9f3a"
             ],
             [
              0.8888888888888888,
              "#fdca26"
             ],
             [
              1,
              "#f0f921"
             ]
            ],
            "type": "histogram2d"
           }
          ],
          "histogram2dcontour": [
           {
            "colorbar": {
             "outlinewidth": 0,
             "ticks": ""
            },
            "colorscale": [
             [
              0,
              "#0d0887"
             ],
             [
              0.1111111111111111,
              "#46039f"
             ],
             [
              0.2222222222222222,
              "#7201a8"
             ],
             [
              0.3333333333333333,
              "#9c179e"
             ],
             [
              0.4444444444444444,
              "#bd3786"
             ],
             [
              0.5555555555555556,
              "#d8576b"
             ],
             [
              0.6666666666666666,
              "#ed7953"
             ],
             [
              0.7777777777777778,
              "#fb9f3a"
             ],
             [
              0.8888888888888888,
              "#fdca26"
             ],
             [
              1,
              "#f0f921"
             ]
            ],
            "type": "histogram2dcontour"
           }
          ],
          "mesh3d": [
           {
            "colorbar": {
             "outlinewidth": 0,
             "ticks": ""
            },
            "type": "mesh3d"
           }
          ],
          "parcoords": [
           {
            "line": {
             "colorbar": {
              "outlinewidth": 0,
              "ticks": ""
             }
            },
            "type": "parcoords"
           }
          ],
          "pie": [
           {
            "automargin": true,
            "type": "pie"
           }
          ],
          "scatter": [
           {
            "fillpattern": {
             "fillmode": "overlay",
             "size": 10,
             "solidity": 0.2
            },
            "type": "scatter"
           }
          ],
          "scatter3d": [
           {
            "line": {
             "colorbar": {
              "outlinewidth": 0,
              "ticks": ""
             }
            },
            "marker": {
             "colorbar": {
              "outlinewidth": 0,
              "ticks": ""
             }
            },
            "type": "scatter3d"
           }
          ],
          "scattercarpet": [
           {
            "marker": {
             "colorbar": {
              "outlinewidth": 0,
              "ticks": ""
             }
            },
            "type": "scattercarpet"
           }
          ],
          "scattergeo": [
           {
            "marker": {
             "colorbar": {
              "outlinewidth": 0,
              "ticks": ""
             }
            },
            "type": "scattergeo"
           }
          ],
          "scattergl": [
           {
            "marker": {
             "colorbar": {
              "outlinewidth": 0,
              "ticks": ""
             }
            },
            "type": "scattergl"
           }
          ],
          "scattermapbox": [
           {
            "marker": {
             "colorbar": {
              "outlinewidth": 0,
              "ticks": ""
             }
            },
            "type": "scattermapbox"
           }
          ],
          "scatterpolar": [
           {
            "marker": {
             "colorbar": {
              "outlinewidth": 0,
              "ticks": ""
             }
            },
            "type": "scatterpolar"
           }
          ],
          "scatterpolargl": [
           {
            "marker": {
             "colorbar": {
              "outlinewidth": 0,
              "ticks": ""
             }
            },
            "type": "scatterpolargl"
           }
          ],
          "scatterternary": [
           {
            "marker": {
             "colorbar": {
              "outlinewidth": 0,
              "ticks": ""
             }
            },
            "type": "scatterternary"
           }
          ],
          "surface": [
           {
            "colorbar": {
             "outlinewidth": 0,
             "ticks": ""
            },
            "colorscale": [
             [
              0,
              "#0d0887"
             ],
             [
              0.1111111111111111,
              "#46039f"
             ],
             [
              0.2222222222222222,
              "#7201a8"
             ],
             [
              0.3333333333333333,
              "#9c179e"
             ],
             [
              0.4444444444444444,
              "#bd3786"
             ],
             [
              0.5555555555555556,
              "#d8576b"
             ],
             [
              0.6666666666666666,
              "#ed7953"
             ],
             [
              0.7777777777777778,
              "#fb9f3a"
             ],
             [
              0.8888888888888888,
              "#fdca26"
             ],
             [
              1,
              "#f0f921"
             ]
            ],
            "type": "surface"
           }
          ],
          "table": [
           {
            "cells": {
             "fill": {
              "color": "#EBF0F8"
             },
             "line": {
              "color": "white"
             }
            },
            "header": {
             "fill": {
              "color": "#C8D4E3"
             },
             "line": {
              "color": "white"
             }
            },
            "type": "table"
           }
          ]
         },
         "layout": {
          "annotationdefaults": {
           "arrowcolor": "#2a3f5f",
           "arrowhead": 0,
           "arrowwidth": 1
          },
          "autotypenumbers": "strict",
          "coloraxis": {
           "colorbar": {
            "outlinewidth": 0,
            "ticks": ""
           }
          },
          "colorscale": {
           "diverging": [
            [
             0,
             "#8e0152"
            ],
            [
             0.1,
             "#c51b7d"
            ],
            [
             0.2,
             "#de77ae"
            ],
            [
             0.3,
             "#f1b6da"
            ],
            [
             0.4,
             "#fde0ef"
            ],
            [
             0.5,
             "#f7f7f7"
            ],
            [
             0.6,
             "#e6f5d0"
            ],
            [
             0.7,
             "#b8e186"
            ],
            [
             0.8,
             "#7fbc41"
            ],
            [
             0.9,
             "#4d9221"
            ],
            [
             1,
             "#276419"
            ]
           ],
           "sequential": [
            [
             0,
             "#0d0887"
            ],
            [
             0.1111111111111111,
             "#46039f"
            ],
            [
             0.2222222222222222,
             "#7201a8"
            ],
            [
             0.3333333333333333,
             "#9c179e"
            ],
            [
             0.4444444444444444,
             "#bd3786"
            ],
            [
             0.5555555555555556,
             "#d8576b"
            ],
            [
             0.6666666666666666,
             "#ed7953"
            ],
            [
             0.7777777777777778,
             "#fb9f3a"
            ],
            [
             0.8888888888888888,
             "#fdca26"
            ],
            [
             1,
             "#f0f921"
            ]
           ],
           "sequentialminus": [
            [
             0,
             "#0d0887"
            ],
            [
             0.1111111111111111,
             "#46039f"
            ],
            [
             0.2222222222222222,
             "#7201a8"
            ],
            [
             0.3333333333333333,
             "#9c179e"
            ],
            [
             0.4444444444444444,
             "#bd3786"
            ],
            [
             0.5555555555555556,
             "#d8576b"
            ],
            [
             0.6666666666666666,
             "#ed7953"
            ],
            [
             0.7777777777777778,
             "#fb9f3a"
            ],
            [
             0.8888888888888888,
             "#fdca26"
            ],
            [
             1,
             "#f0f921"
            ]
           ]
          },
          "colorway": [
           "#636efa",
           "#EF553B",
           "#00cc96",
           "#ab63fa",
           "#FFA15A",
           "#19d3f3",
           "#FF6692",
           "#B6E880",
           "#FF97FF",
           "#FECB52"
          ],
          "font": {
           "color": "#2a3f5f"
          },
          "geo": {
           "bgcolor": "white",
           "lakecolor": "white",
           "landcolor": "#E5ECF6",
           "showlakes": true,
           "showland": true,
           "subunitcolor": "white"
          },
          "hoverlabel": {
           "align": "left"
          },
          "hovermode": "closest",
          "mapbox": {
           "style": "light"
          },
          "paper_bgcolor": "white",
          "plot_bgcolor": "#E5ECF6",
          "polar": {
           "angularaxis": {
            "gridcolor": "white",
            "linecolor": "white",
            "ticks": ""
           },
           "bgcolor": "#E5ECF6",
           "radialaxis": {
            "gridcolor": "white",
            "linecolor": "white",
            "ticks": ""
           }
          },
          "scene": {
           "xaxis": {
            "backgroundcolor": "#E5ECF6",
            "gridcolor": "white",
            "gridwidth": 2,
            "linecolor": "white",
            "showbackground": true,
            "ticks": "",
            "zerolinecolor": "white"
           },
           "yaxis": {
            "backgroundcolor": "#E5ECF6",
            "gridcolor": "white",
            "gridwidth": 2,
            "linecolor": "white",
            "showbackground": true,
            "ticks": "",
            "zerolinecolor": "white"
           },
           "zaxis": {
            "backgroundcolor": "#E5ECF6",
            "gridcolor": "white",
            "gridwidth": 2,
            "linecolor": "white",
            "showbackground": true,
            "ticks": "",
            "zerolinecolor": "white"
           }
          },
          "shapedefaults": {
           "line": {
            "color": "#2a3f5f"
           }
          },
          "ternary": {
           "aaxis": {
            "gridcolor": "white",
            "linecolor": "white",
            "ticks": ""
           },
           "baxis": {
            "gridcolor": "white",
            "linecolor": "white",
            "ticks": ""
           },
           "bgcolor": "#E5ECF6",
           "caxis": {
            "gridcolor": "white",
            "linecolor": "white",
            "ticks": ""
           }
          },
          "title": {
           "x": 0.05
          },
          "xaxis": {
           "automargin": true,
           "gridcolor": "white",
           "linecolor": "white",
           "ticks": "",
           "title": {
            "standoff": 15
           },
           "zerolinecolor": "white",
           "zerolinewidth": 2
          },
          "yaxis": {
           "automargin": true,
           "gridcolor": "white",
           "linecolor": "white",
           "ticks": "",
           "title": {
            "standoff": 15
           },
           "zerolinecolor": "white",
           "zerolinewidth": 2
          }
         }
        },
        "title": {
         "text": "MA_8_32"
        },
        "width": 1000,
        "xaxis": {
         "linecolor": "#3a4a54",
         "linewidth": 1,
         "showgrid": false,
         "zeroline": false
        },
        "yaxis": {
         "linecolor": "#3a4a54",
         "linewidth": 1,
         "showgrid": false,
         "zeroline": false
        }
       }
      }
     },
     "metadata": {},
     "output_type": "display_data"
    },
    {
     "ename": "",
     "evalue": "",
     "output_type": "error",
     "traceback": [
      "\u001b[1;31mThe Kernel crashed while executing code in the current cell or a previous cell. \n",
      "\u001b[1;31mPlease review the code in the cell(s) to identify a possible cause of the failure. \n",
      "\u001b[1;31mClick <a href='https://aka.ms/vscodeJupyterKernelCrash'>here</a> for more info. \n",
      "\u001b[1;31mView Jupyter <a href='command:jupyter.viewOutput'>log</a> for further details."
     ]
    }
   ],
   "source": [
    "for c in crosses: \n",
    "    temp_df = all_trades[(all_trades.CROSS==c)].copy()    \n",
    "    temp_df = temp_df.groupby(by=\"time\", as_index=False).sum()\n",
    "    temp_df['CUM_GAIN'] = temp_df.GAIN.cumsum()\n",
    "    plot_line(temp_df, c) "
   ]
  }
 ],
 "metadata": {
  "kernelspec": {
   "display_name": "venv",
   "language": "python",
   "name": "python3"
  },
  "language_info": {
   "codemirror_mode": {
    "name": "ipython",
    "version": 3
   },
   "file_extension": ".py",
   "mimetype": "text/x-python",
   "name": "python",
   "nbconvert_exporter": "python",
   "pygments_lexer": "ipython3",
   "version": "3.9.13"
  }
 },
 "nbformat": 4,
 "nbformat_minor": 2
}
