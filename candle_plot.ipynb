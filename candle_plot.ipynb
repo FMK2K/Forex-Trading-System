{
 "cells": [
  {
   "cell_type": "code",
   "execution_count": 14,
   "metadata": {},
   "outputs": [],
   "source": [
    "import pandas as pd\n",
    "import utils\n",
    "import plotly.graph_objects as go\n",
    "import instrument"
   ]
  },
  {
   "cell_type": "code",
   "execution_count": 15,
   "metadata": {},
   "outputs": [],
   "source": [
    "pair = 'EUR_CAD'\n",
    "granularity = 'H1'\n",
    "ma_list = [16,64]\n",
    "i_pair = instrument.Instrument.get_instrument_by_name(\"EUR_USD\")"
   ]
  },
  {
   "cell_type": "code",
   "execution_count": 3,
   "metadata": {},
   "outputs": [],
   "source": [
    "#df = pd.read_pickle(utils.get_his_data_filename(pair, granularity))\n",
    "\n",
    "df = pd.read_pickle(utils.get_his_data_filename(pair, granularity))\n",
    "non_cols = ['time', 'volume']\n",
    "mod_cols = [x for x in df.columns if x not in non_cols]\n",
    "df[mod_cols] = df[mod_cols].apply(pd.to_numeric)"
   ]
  },
  {
   "cell_type": "code",
   "execution_count": 4,
   "metadata": {},
   "outputs": [
    {
     "name": "stdout",
     "output_type": "stream",
     "text": [
      "<class 'pandas.core.frame.DataFrame'>\n",
      "RangeIndex: 3999 entries, 0 to 3998\n",
      "Data columns (total 14 columns):\n",
      " #   Column  Non-Null Count  Dtype \n",
      "---  ------  --------------  ----- \n",
      " 0   time    3999 non-null   object\n",
      " 1   volume  3999 non-null   int64 \n",
      " 2   mid_o   3999 non-null   object\n",
      " 3   mid_h   3999 non-null   object\n",
      " 4   mid_l   3999 non-null   object\n",
      " 5   mid_c   3999 non-null   object\n",
      " 6   bid_o   3999 non-null   object\n",
      " 7   bid_h   3999 non-null   object\n",
      " 8   bid_l   3999 non-null   object\n",
      " 9   bid_c   3999 non-null   object\n",
      " 10  ask_o   3999 non-null   object\n",
      " 11  ask_h   3999 non-null   object\n",
      " 12  ask_l   3999 non-null   object\n",
      " 13  ask_c   3999 non-null   object\n",
      "dtypes: int64(1), object(13)\n",
      "memory usage: 437.5+ KB\n"
     ]
    }
   ],
   "source": [
    "#df.head()\n",
    "df.info()"
   ]
  },
  {
   "cell_type": "code",
   "execution_count": 5,
   "metadata": {},
   "outputs": [],
   "source": [
    "non_cols = ['time', 'volume']\n",
    "mod_cols = [x for x in df.columns if x not in non_cols]"
   ]
  },
  {
   "cell_type": "code",
   "execution_count": 6,
   "metadata": {},
   "outputs": [],
   "source": [
    "#to convert the data that isnt our time or vol into ints/floats\n",
    "df[mod_cols] = df[mod_cols].apply(pd.to_numeric)"
   ]
  },
  {
   "cell_type": "code",
   "execution_count": 7,
   "metadata": {},
   "outputs": [
    {
     "name": "stdout",
     "output_type": "stream",
     "text": [
      "<class 'pandas.core.frame.DataFrame'>\n",
      "RangeIndex: 3999 entries, 0 to 3998\n",
      "Data columns (total 14 columns):\n",
      " #   Column  Non-Null Count  Dtype  \n",
      "---  ------  --------------  -----  \n",
      " 0   time    3999 non-null   object \n",
      " 1   volume  3999 non-null   int64  \n",
      " 2   mid_o   3999 non-null   float64\n",
      " 3   mid_h   3999 non-null   float64\n",
      " 4   mid_l   3999 non-null   float64\n",
      " 5   mid_c   3999 non-null   float64\n",
      " 6   bid_o   3999 non-null   float64\n",
      " 7   bid_h   3999 non-null   float64\n",
      " 8   bid_l   3999 non-null   float64\n",
      " 9   bid_c   3999 non-null   float64\n",
      " 10  ask_o   3999 non-null   float64\n",
      " 11  ask_h   3999 non-null   float64\n",
      " 12  ask_l   3999 non-null   float64\n",
      " 13  ask_c   3999 non-null   float64\n",
      "dtypes: float64(12), int64(1), object(1)\n",
      "memory usage: 437.5+ KB\n"
     ]
    }
   ],
   "source": [
    "df.info()"
   ]
  },
  {
   "cell_type": "code",
   "execution_count": 8,
   "metadata": {},
   "outputs": [
    {
     "data": {
      "text/plain": [
       "(100, 14)"
      ]
     },
     "execution_count": 8,
     "metadata": {},
     "output_type": "execute_result"
    }
   ],
   "source": [
    "df_plot = df.iloc[-100:].copy()#take the last 100\n",
    "df_plot.shape"
   ]
  },
  {
   "cell_type": "code",
   "execution_count": 9,
   "metadata": {},
   "outputs": [
    {
     "data": {
      "application/vnd.plotly.v1+json": {
       "config": {
        "plotlyServerURL": "https://plot.ly"
       },
       "data": [
        {
         "close": [
          1.48846,
          1.48854,
          1.48876,
          1.48874,
          1.48834,
          1.48923,
          1.48949,
          1.48908,
          1.48883,
          1.4887,
          1.48886,
          1.4894,
          1.49002,
          1.49026,
          1.49031,
          1.49011,
          1.48642,
          1.48526,
          1.48557,
          1.4858,
          1.48518,
          1.4857,
          1.48524,
          1.48591,
          1.48702,
          1.4828,
          1.48312,
          1.48304,
          1.4834,
          1.48281,
          1.48212,
          1.48114,
          1.48047,
          1.4799,
          1.48022,
          1.48166,
          1.48198,
          1.48024,
          1.47918,
          1.48048,
          1.47898,
          1.4794,
          1.47864,
          1.47874,
          1.48015,
          1.48044,
          1.48088,
          1.48113,
          1.48106,
          1.48101,
          1.48134,
          1.48114,
          1.48144,
          1.48197,
          1.48251,
          1.48244,
          1.48232,
          1.48136,
          1.48184,
          1.48138,
          1.47938,
          1.48088,
          1.47906,
          1.47845,
          1.47814,
          1.4781,
          1.47685,
          1.47746,
          1.47758,
          1.47804,
          1.47756,
          1.47721,
          1.47762,
          1.47779,
          1.4775,
          1.47728,
          1.47724,
          1.47679,
          1.47686,
          1.47679,
          1.47662,
          1.47714,
          1.47721,
          1.47688,
          1.47766,
          1.47814,
          1.479,
          1.4793,
          1.48222,
          1.48312,
          1.48508,
          1.48454,
          1.48395,
          1.48544,
          1.48298,
          1.48333,
          1.48338,
          1.48328,
          1.48332,
          1.48364
         ],
         "high": [
          1.48903,
          1.48898,
          1.48883,
          1.4889,
          1.48873,
          1.4893,
          1.48956,
          1.48964,
          1.48912,
          1.48905,
          1.48934,
          1.48976,
          1.49004,
          1.49081,
          1.49064,
          1.49076,
          1.49113,
          1.48648,
          1.48592,
          1.48662,
          1.48666,
          1.48578,
          1.48602,
          1.48604,
          1.4871,
          1.48359,
          1.48386,
          1.48344,
          1.48374,
          1.48378,
          1.48288,
          1.48216,
          1.48114,
          1.48062,
          1.4808,
          1.48204,
          1.48275,
          1.48205,
          1.4804,
          1.48065,
          1.48086,
          1.48028,
          1.47954,
          1.47908,
          1.48076,
          1.48099,
          1.48092,
          1.48147,
          1.48124,
          1.4812,
          1.48136,
          1.4815,
          1.48152,
          1.4821,
          1.48256,
          1.48258,
          1.4826,
          1.48234,
          1.48227,
          1.4824,
          1.48155,
          1.48121,
          1.48137,
          1.47978,
          1.47862,
          1.47925,
          1.4785,
          1.4778,
          1.47857,
          1.4783,
          1.47811,
          1.47812,
          1.47774,
          1.47808,
          1.47786,
          1.47762,
          1.4773,
          1.47734,
          1.47722,
          1.47701,
          1.47685,
          1.47718,
          1.47738,
          1.47746,
          1.47838,
          1.47838,
          1.47904,
          1.4795,
          1.48324,
          1.48342,
          1.4851,
          1.48592,
          1.48496,
          1.48544,
          1.48628,
          1.48436,
          1.48354,
          1.48374,
          1.48384,
          1.48398
         ],
         "line": {
          "width": 1
         },
         "low": [
          1.48832,
          1.48798,
          1.48842,
          1.48864,
          1.48821,
          1.4882,
          1.4892,
          1.48906,
          1.48883,
          1.48859,
          1.48824,
          1.48879,
          1.48886,
          1.4898,
          1.49004,
          1.4898,
          1.48596,
          1.48441,
          1.48452,
          1.4855,
          1.48514,
          1.48512,
          1.48512,
          1.4851,
          1.4859,
          1.48144,
          1.48209,
          1.48279,
          1.48282,
          1.48276,
          1.48206,
          1.48109,
          1.48013,
          1.4796,
          1.47898,
          1.47972,
          1.48166,
          1.4801,
          1.47863,
          1.47914,
          1.47886,
          1.4788,
          1.47864,
          1.47818,
          1.47869,
          1.47994,
          1.48008,
          1.48084,
          1.48081,
          1.48018,
          1.48088,
          1.48105,
          1.4811,
          1.48126,
          1.48197,
          1.48224,
          1.48222,
          1.48127,
          1.4813,
          1.48132,
          1.47934,
          1.47912,
          1.47874,
          1.4779,
          1.47742,
          1.47683,
          1.47632,
          1.4767,
          1.47744,
          1.47751,
          1.47733,
          1.47721,
          1.47712,
          1.47744,
          1.47739,
          1.47712,
          1.47676,
          1.47676,
          1.47672,
          1.47674,
          1.47646,
          1.47647,
          1.47653,
          1.47637,
          1.47687,
          1.47728,
          1.47798,
          1.47875,
          1.47866,
          1.48136,
          1.48141,
          1.48454,
          1.48384,
          1.4839,
          1.48298,
          1.48298,
          1.48286,
          1.48238,
          1.4832,
          1.48326
         ],
         "opacity": 1,
         "open": [
          1.48854,
          1.4885,
          1.48855,
          1.48878,
          1.48873,
          1.48829,
          1.48924,
          1.48949,
          1.48907,
          1.48884,
          1.4887,
          1.48888,
          1.4894,
          1.49,
          1.49026,
          1.49032,
          1.4901,
          1.48642,
          1.48528,
          1.48558,
          1.48584,
          1.48517,
          1.48569,
          1.48522,
          1.48592,
          1.48219,
          1.48285,
          1.4832,
          1.48306,
          1.48346,
          1.48282,
          1.48212,
          1.48114,
          1.48048,
          1.47987,
          1.48022,
          1.4817,
          1.482,
          1.48024,
          1.47919,
          1.48052,
          1.47896,
          1.47942,
          1.47866,
          1.47872,
          1.48018,
          1.48042,
          1.48086,
          1.48112,
          1.48096,
          1.48102,
          1.48136,
          1.4811,
          1.48144,
          1.48198,
          1.48252,
          1.48246,
          1.48232,
          1.48135,
          1.48184,
          1.48139,
          1.47938,
          1.48087,
          1.4791,
          1.47848,
          1.47812,
          1.47812,
          1.47682,
          1.47746,
          1.47758,
          1.47802,
          1.47756,
          1.47722,
          1.47748,
          1.47784,
          1.4775,
          1.47726,
          1.47724,
          1.47678,
          1.47684,
          1.47678,
          1.47658,
          1.47716,
          1.4772,
          1.47689,
          1.47768,
          1.47816,
          1.47903,
          1.47931,
          1.48221,
          1.48312,
          1.48508,
          1.48455,
          1.48394,
          1.4857,
          1.48302,
          1.48332,
          1.48306,
          1.48327,
          1.48332
         ],
         "type": "candlestick",
         "x": [
          "2024-06-06T20:00:00.000000000Z",
          "2024-06-06T21:00:00.000000000Z",
          "2024-06-06T22:00:00.000000000Z",
          "2024-06-06T23:00:00.000000000Z",
          "2024-06-07T00:00:00.000000000Z",
          "2024-06-07T01:00:00.000000000Z",
          "2024-06-07T02:00:00.000000000Z",
          "2024-06-07T03:00:00.000000000Z",
          "2024-06-07T04:00:00.000000000Z",
          "2024-06-07T05:00:00.000000000Z",
          "2024-06-07T06:00:00.000000000Z",
          "2024-06-07T07:00:00.000000000Z",
          "2024-06-07T08:00:00.000000000Z",
          "2024-06-07T09:00:00.000000000Z",
          "2024-06-07T10:00:00.000000000Z",
          "2024-06-07T11:00:00.000000000Z",
          "2024-06-07T12:00:00.000000000Z",
          "2024-06-07T13:00:00.000000000Z",
          "2024-06-07T14:00:00.000000000Z",
          "2024-06-07T15:00:00.000000000Z",
          "2024-06-07T16:00:00.000000000Z",
          "2024-06-07T17:00:00.000000000Z",
          "2024-06-07T18:00:00.000000000Z",
          "2024-06-07T19:00:00.000000000Z",
          "2024-06-07T20:00:00.000000000Z",
          "2024-06-09T21:00:00.000000000Z",
          "2024-06-09T22:00:00.000000000Z",
          "2024-06-09T23:00:00.000000000Z",
          "2024-06-10T00:00:00.000000000Z",
          "2024-06-10T01:00:00.000000000Z",
          "2024-06-10T02:00:00.000000000Z",
          "2024-06-10T03:00:00.000000000Z",
          "2024-06-10T04:00:00.000000000Z",
          "2024-06-10T05:00:00.000000000Z",
          "2024-06-10T06:00:00.000000000Z",
          "2024-06-10T07:00:00.000000000Z",
          "2024-06-10T08:00:00.000000000Z",
          "2024-06-10T09:00:00.000000000Z",
          "2024-06-10T10:00:00.000000000Z",
          "2024-06-10T11:00:00.000000000Z",
          "2024-06-10T12:00:00.000000000Z",
          "2024-06-10T13:00:00.000000000Z",
          "2024-06-10T14:00:00.000000000Z",
          "2024-06-10T15:00:00.000000000Z",
          "2024-06-10T16:00:00.000000000Z",
          "2024-06-10T17:00:00.000000000Z",
          "2024-06-10T18:00:00.000000000Z",
          "2024-06-10T19:00:00.000000000Z",
          "2024-06-10T20:00:00.000000000Z",
          "2024-06-10T21:00:00.000000000Z",
          "2024-06-10T22:00:00.000000000Z",
          "2024-06-10T23:00:00.000000000Z",
          "2024-06-11T00:00:00.000000000Z",
          "2024-06-11T01:00:00.000000000Z",
          "2024-06-11T02:00:00.000000000Z",
          "2024-06-11T03:00:00.000000000Z",
          "2024-06-11T04:00:00.000000000Z",
          "2024-06-11T05:00:00.000000000Z",
          "2024-06-11T06:00:00.000000000Z",
          "2024-06-11T07:00:00.000000000Z",
          "2024-06-11T08:00:00.000000000Z",
          "2024-06-11T09:00:00.000000000Z",
          "2024-06-11T10:00:00.000000000Z",
          "2024-06-11T11:00:00.000000000Z",
          "2024-06-11T12:00:00.000000000Z",
          "2024-06-11T13:00:00.000000000Z",
          "2024-06-11T14:00:00.000000000Z",
          "2024-06-11T15:00:00.000000000Z",
          "2024-06-11T16:00:00.000000000Z",
          "2024-06-11T17:00:00.000000000Z",
          "2024-06-11T18:00:00.000000000Z",
          "2024-06-11T19:00:00.000000000Z",
          "2024-06-11T20:00:00.000000000Z",
          "2024-06-11T21:00:00.000000000Z",
          "2024-06-11T22:00:00.000000000Z",
          "2024-06-11T23:00:00.000000000Z",
          "2024-06-12T00:00:00.000000000Z",
          "2024-06-12T01:00:00.000000000Z",
          "2024-06-12T02:00:00.000000000Z",
          "2024-06-12T03:00:00.000000000Z",
          "2024-06-12T04:00:00.000000000Z",
          "2024-06-12T05:00:00.000000000Z",
          "2024-06-12T06:00:00.000000000Z",
          "2024-06-12T07:00:00.000000000Z",
          "2024-06-12T08:00:00.000000000Z",
          "2024-06-12T09:00:00.000000000Z",
          "2024-06-12T10:00:00.000000000Z",
          "2024-06-12T11:00:00.000000000Z",
          "2024-06-12T12:00:00.000000000Z",
          "2024-06-12T13:00:00.000000000Z",
          "2024-06-12T14:00:00.000000000Z",
          "2024-06-12T15:00:00.000000000Z",
          "2024-06-12T16:00:00.000000000Z",
          "2024-06-12T17:00:00.000000000Z",
          "2024-06-12T18:00:00.000000000Z",
          "2024-06-12T19:00:00.000000000Z",
          "2024-06-12T20:00:00.000000000Z",
          "2024-06-12T21:00:00.000000000Z",
          "2024-06-12T22:00:00.000000000Z",
          "2024-06-12T23:00:00.000000000Z"
         ]
        }
       ],
       "layout": {
        "font": {
         "color": "#e1e1e1",
         "size": 10
        },
        "height": 300,
        "margin": {
         "b": 10,
         "l": 10,
         "r": 10,
         "t": 10
        },
        "paper_bgcolor": "#0d1117",
        "plot_bgcolor": "#0d1117",
        "template": {
         "data": {
          "bar": [
           {
            "error_x": {
             "color": "#2a3f5f"
            },
            "error_y": {
             "color": "#2a3f5f"
            },
            "marker": {
             "line": {
              "color": "#E5ECF6",
              "width": 0.5
             },
             "pattern": {
              "fillmode": "overlay",
              "size": 10,
              "solidity": 0.2
             }
            },
            "type": "bar"
           }
          ],
          "barpolar": [
           {
            "marker": {
             "line": {
              "color": "#E5ECF6",
              "width": 0.5
             },
             "pattern": {
              "fillmode": "overlay",
              "size": 10,
              "solidity": 0.2
             }
            },
            "type": "barpolar"
           }
          ],
          "carpet": [
           {
            "aaxis": {
             "endlinecolor": "#2a3f5f",
             "gridcolor": "white",
             "linecolor": "white",
             "minorgridcolor": "white",
             "startlinecolor": "#2a3f5f"
            },
            "baxis": {
             "endlinecolor": "#2a3f5f",
             "gridcolor": "white",
             "linecolor": "white",
             "minorgridcolor": "white",
             "startlinecolor": "#2a3f5f"
            },
            "type": "carpet"
           }
          ],
          "choropleth": [
           {
            "colorbar": {
             "outlinewidth": 0,
             "ticks": ""
            },
            "type": "choropleth"
           }
          ],
          "contour": [
           {
            "colorbar": {
             "outlinewidth": 0,
             "ticks": ""
            },
            "colorscale": [
             [
              0,
              "#0d0887"
             ],
             [
              0.1111111111111111,
              "#46039f"
             ],
             [
              0.2222222222222222,
              "#7201a8"
             ],
             [
              0.3333333333333333,
              "#9c179e"
             ],
             [
              0.4444444444444444,
              "#bd3786"
             ],
             [
              0.5555555555555556,
              "#d8576b"
             ],
             [
              0.6666666666666666,
              "#ed7953"
             ],
             [
              0.7777777777777778,
              "#fb9f3a"
             ],
             [
              0.8888888888888888,
              "#fdca26"
             ],
             [
              1,
              "#f0f921"
             ]
            ],
            "type": "contour"
           }
          ],
          "contourcarpet": [
           {
            "colorbar": {
             "outlinewidth": 0,
             "ticks": ""
            },
            "type": "contourcarpet"
           }
          ],
          "heatmap": [
           {
            "colorbar": {
             "outlinewidth": 0,
             "ticks": ""
            },
            "colorscale": [
             [
              0,
              "#0d0887"
             ],
             [
              0.1111111111111111,
              "#46039f"
             ],
             [
              0.2222222222222222,
              "#7201a8"
             ],
             [
              0.3333333333333333,
              "#9c179e"
             ],
             [
              0.4444444444444444,
              "#bd3786"
             ],
             [
              0.5555555555555556,
              "#d8576b"
             ],
             [
              0.6666666666666666,
              "#ed7953"
             ],
             [
              0.7777777777777778,
              "#fb9f3a"
             ],
             [
              0.8888888888888888,
              "#fdca26"
             ],
             [
              1,
              "#f0f921"
             ]
            ],
            "type": "heatmap"
           }
          ],
          "heatmapgl": [
           {
            "colorbar": {
             "outlinewidth": 0,
             "ticks": ""
            },
            "colorscale": [
             [
              0,
              "#0d0887"
             ],
             [
              0.1111111111111111,
              "#46039f"
             ],
             [
              0.2222222222222222,
              "#7201a8"
             ],
             [
              0.3333333333333333,
              "#9c179e"
             ],
             [
              0.4444444444444444,
              "#bd3786"
             ],
             [
              0.5555555555555556,
              "#d8576b"
             ],
             [
              0.6666666666666666,
              "#ed7953"
             ],
             [
              0.7777777777777778,
              "#fb9f3a"
             ],
             [
              0.8888888888888888,
              "#fdca26"
             ],
             [
              1,
              "#f0f921"
             ]
            ],
            "type": "heatmapgl"
           }
          ],
          "histogram": [
           {
            "marker": {
             "pattern": {
              "fillmode": "overlay",
              "size": 10,
              "solidity": 0.2
             }
            },
            "type": "histogram"
           }
          ],
          "histogram2d": [
           {
            "colorbar": {
             "outlinewidth": 0,
             "ticks": ""
            },
            "colorscale": [
             [
              0,
              "#0d0887"
             ],
             [
              0.1111111111111111,
              "#46039f"
             ],
             [
              0.2222222222222222,
              "#7201a8"
             ],
             [
              0.3333333333333333,
              "#9c179e"
             ],
             [
              0.4444444444444444,
              "#bd3786"
             ],
             [
              0.5555555555555556,
              "#d8576b"
             ],
             [
              0.6666666666666666,
              "#ed7953"
             ],
             [
              0.7777777777777778,
              "#fb9f3a"
             ],
             [
              0.8888888888888888,
              "#fdca26"
             ],
             [
              1,
              "#f0f921"
             ]
            ],
            "type": "histogram2d"
           }
          ],
          "histogram2dcontour": [
           {
            "colorbar": {
             "outlinewidth": 0,
             "ticks": ""
            },
            "colorscale": [
             [
              0,
              "#0d0887"
             ],
             [
              0.1111111111111111,
              "#46039f"
             ],
             [
              0.2222222222222222,
              "#7201a8"
             ],
             [
              0.3333333333333333,
              "#9c179e"
             ],
             [
              0.4444444444444444,
              "#bd3786"
             ],
             [
              0.5555555555555556,
              "#d8576b"
             ],
             [
              0.6666666666666666,
              "#ed7953"
             ],
             [
              0.7777777777777778,
              "#fb9f3a"
             ],
             [
              0.8888888888888888,
              "#fdca26"
             ],
             [
              1,
              "#f0f921"
             ]
            ],
            "type": "histogram2dcontour"
           }
          ],
          "mesh3d": [
           {
            "colorbar": {
             "outlinewidth": 0,
             "ticks": ""
            },
            "type": "mesh3d"
           }
          ],
          "parcoords": [
           {
            "line": {
             "colorbar": {
              "outlinewidth": 0,
              "ticks": ""
             }
            },
            "type": "parcoords"
           }
          ],
          "pie": [
           {
            "automargin": true,
            "type": "pie"
           }
          ],
          "scatter": [
           {
            "fillpattern": {
             "fillmode": "overlay",
             "size": 10,
             "solidity": 0.2
            },
            "type": "scatter"
           }
          ],
          "scatter3d": [
           {
            "line": {
             "colorbar": {
              "outlinewidth": 0,
              "ticks": ""
             }
            },
            "marker": {
             "colorbar": {
              "outlinewidth": 0,
              "ticks": ""
             }
            },
            "type": "scatter3d"
           }
          ],
          "scattercarpet": [
           {
            "marker": {
             "colorbar": {
              "outlinewidth": 0,
              "ticks": ""
             }
            },
            "type": "scattercarpet"
           }
          ],
          "scattergeo": [
           {
            "marker": {
             "colorbar": {
              "outlinewidth": 0,
              "ticks": ""
             }
            },
            "type": "scattergeo"
           }
          ],
          "scattergl": [
           {
            "marker": {
             "colorbar": {
              "outlinewidth": 0,
              "ticks": ""
             }
            },
            "type": "scattergl"
           }
          ],
          "scattermapbox": [
           {
            "marker": {
             "colorbar": {
              "outlinewidth": 0,
              "ticks": ""
             }
            },
            "type": "scattermapbox"
           }
          ],
          "scatterpolar": [
           {
            "marker": {
             "colorbar": {
              "outlinewidth": 0,
              "ticks": ""
             }
            },
            "type": "scatterpolar"
           }
          ],
          "scatterpolargl": [
           {
            "marker": {
             "colorbar": {
              "outlinewidth": 0,
              "ticks": ""
             }
            },
            "type": "scatterpolargl"
           }
          ],
          "scatterternary": [
           {
            "marker": {
             "colorbar": {
              "outlinewidth": 0,
              "ticks": ""
             }
            },
            "type": "scatterternary"
           }
          ],
          "surface": [
           {
            "colorbar": {
             "outlinewidth": 0,
             "ticks": ""
            },
            "colorscale": [
             [
              0,
              "#0d0887"
             ],
             [
              0.1111111111111111,
              "#46039f"
             ],
             [
              0.2222222222222222,
              "#7201a8"
             ],
             [
              0.3333333333333333,
              "#9c179e"
             ],
             [
              0.4444444444444444,
              "#bd3786"
             ],
             [
              0.5555555555555556,
              "#d8576b"
             ],
             [
              0.6666666666666666,
              "#ed7953"
             ],
             [
              0.7777777777777778,
              "#fb9f3a"
             ],
             [
              0.8888888888888888,
              "#fdca26"
             ],
             [
              1,
              "#f0f921"
             ]
            ],
            "type": "surface"
           }
          ],
          "table": [
           {
            "cells": {
             "fill": {
              "color": "#EBF0F8"
             },
             "line": {
              "color": "white"
             }
            },
            "header": {
             "fill": {
              "color": "#C8D4E3"
             },
             "line": {
              "color": "white"
             }
            },
            "type": "table"
           }
          ]
         },
         "layout": {
          "annotationdefaults": {
           "arrowcolor": "#2a3f5f",
           "arrowhead": 0,
           "arrowwidth": 1
          },
          "autotypenumbers": "strict",
          "coloraxis": {
           "colorbar": {
            "outlinewidth": 0,
            "ticks": ""
           }
          },
          "colorscale": {
           "diverging": [
            [
             0,
             "#8e0152"
            ],
            [
             0.1,
             "#c51b7d"
            ],
            [
             0.2,
             "#de77ae"
            ],
            [
             0.3,
             "#f1b6da"
            ],
            [
             0.4,
             "#fde0ef"
            ],
            [
             0.5,
             "#f7f7f7"
            ],
            [
             0.6,
             "#e6f5d0"
            ],
            [
             0.7,
             "#b8e186"
            ],
            [
             0.8,
             "#7fbc41"
            ],
            [
             0.9,
             "#4d9221"
            ],
            [
             1,
             "#276419"
            ]
           ],
           "sequential": [
            [
             0,
             "#0d0887"
            ],
            [
             0.1111111111111111,
             "#46039f"
            ],
            [
             0.2222222222222222,
             "#7201a8"
            ],
            [
             0.3333333333333333,
             "#9c179e"
            ],
            [
             0.4444444444444444,
             "#bd3786"
            ],
            [
             0.5555555555555556,
             "#d8576b"
            ],
            [
             0.6666666666666666,
             "#ed7953"
            ],
            [
             0.7777777777777778,
             "#fb9f3a"
            ],
            [
             0.8888888888888888,
             "#fdca26"
            ],
            [
             1,
             "#f0f921"
            ]
           ],
           "sequentialminus": [
            [
             0,
             "#0d0887"
            ],
            [
             0.1111111111111111,
             "#46039f"
            ],
            [
             0.2222222222222222,
             "#7201a8"
            ],
            [
             0.3333333333333333,
             "#9c179e"
            ],
            [
             0.4444444444444444,
             "#bd3786"
            ],
            [
             0.5555555555555556,
             "#d8576b"
            ],
            [
             0.6666666666666666,
             "#ed7953"
            ],
            [
             0.7777777777777778,
             "#fb9f3a"
            ],
            [
             0.8888888888888888,
             "#fdca26"
            ],
            [
             1,
             "#f0f921"
            ]
           ]
          },
          "colorway": [
           "#636efa",
           "#EF553B",
           "#00cc96",
           "#ab63fa",
           "#FFA15A",
           "#19d3f3",
           "#FF6692",
           "#B6E880",
           "#FF97FF",
           "#FECB52"
          ],
          "font": {
           "color": "#2a3f5f"
          },
          "geo": {
           "bgcolor": "white",
           "lakecolor": "white",
           "landcolor": "#E5ECF6",
           "showlakes": true,
           "showland": true,
           "subunitcolor": "white"
          },
          "hoverlabel": {
           "align": "left"
          },
          "hovermode": "closest",
          "mapbox": {
           "style": "light"
          },
          "paper_bgcolor": "white",
          "plot_bgcolor": "#E5ECF6",
          "polar": {
           "angularaxis": {
            "gridcolor": "white",
            "linecolor": "white",
            "ticks": ""
           },
           "bgcolor": "#E5ECF6",
           "radialaxis": {
            "gridcolor": "white",
            "linecolor": "white",
            "ticks": ""
           }
          },
          "scene": {
           "xaxis": {
            "backgroundcolor": "#E5ECF6",
            "gridcolor": "white",
            "gridwidth": 2,
            "linecolor": "white",
            "showbackground": true,
            "ticks": "",
            "zerolinecolor": "white"
           },
           "yaxis": {
            "backgroundcolor": "#E5ECF6",
            "gridcolor": "white",
            "gridwidth": 2,
            "linecolor": "white",
            "showbackground": true,
            "ticks": "",
            "zerolinecolor": "white"
           },
           "zaxis": {
            "backgroundcolor": "#E5ECF6",
            "gridcolor": "white",
            "gridwidth": 2,
            "linecolor": "white",
            "showbackground": true,
            "ticks": "",
            "zerolinecolor": "white"
           }
          },
          "shapedefaults": {
           "line": {
            "color": "#2a3f5f"
           }
          },
          "ternary": {
           "aaxis": {
            "gridcolor": "white",
            "linecolor": "white",
            "ticks": ""
           },
           "baxis": {
            "gridcolor": "white",
            "linecolor": "white",
            "ticks": ""
           },
           "bgcolor": "#E5ECF6",
           "caxis": {
            "gridcolor": "white",
            "linecolor": "white",
            "ticks": ""
           }
          },
          "title": {
           "x": 0.05
          },
          "xaxis": {
           "automargin": true,
           "gridcolor": "white",
           "linecolor": "white",
           "ticks": "",
           "title": {
            "standoff": 15
           },
           "zerolinecolor": "white",
           "zerolinewidth": 2
          },
          "yaxis": {
           "automargin": true,
           "gridcolor": "white",
           "linecolor": "white",
           "ticks": "",
           "title": {
            "standoff": 15
           },
           "zerolinecolor": "white",
           "zerolinewidth": 2
          }
         }
        },
        "width": 1000,
        "xaxis": {
         "fixedrange": true,
         "gridcolor": "#1f292f",
         "rangeslider": {
          "visible": false
         },
         "showgrid": true
        },
        "yaxis": {
         "gridcolor": "#1f292f",
         "showgrid": true
        }
       }
      }
     },
     "metadata": {},
     "output_type": "display_data"
    }
   ],
   "source": [
    "#ploting & formatting a candlestick plot with plotly\n",
    "fig = go.Figure()\n",
    "fig.add_trace(go.Candlestick(\n",
    "    x=df_plot.time, open=df_plot.mid_o, high=df_plot.mid_h, low=df_plot.mid_l, close=df_plot.mid_c, \n",
    "    line=dict(width=1), opacity=1\n",
    "))\n",
    "fig.update_layout(width=1000, height=300,#formating the size of our plot\n",
    "    margin=dict(l=10,r=10,t=10,b=10),\n",
    "    font=dict(size=10, color='#e1e1e1'),                \n",
    "    paper_bgcolor=\"#0d1117\", plot_bgcolor=\"#0d1117\"#formating background color \n",
    "    )\n",
    "fig.update_xaxes(\n",
    "    gridcolor ='#1f292f',\n",
    "    showgrid=True,fixedrange=True,rangeslider=dict(visible=False)\n",
    ")\n",
    "fig.update_yaxes(\n",
    "    gridcolor ='#1f292f', showgrid=True\n",
    "    )\n",
    "fig.show()"
   ]
  },
  {
   "cell_type": "code",
   "execution_count": 16,
   "metadata": {},
   "outputs": [],
   "source": [
    "#DATA ANALYSIS: Moving Averages\n",
    "df_ma = df[['time', 'mid_o', 'mid_h', 'mid_l', 'mid_c']].copy()\n",
    "for ma in ma_list:  \n",
    "    df_ma[f'MA_{ma}'] = df_ma.mid_c.rolling(window=ma).mean()\n",
    "\n",
    "df_ma.dropna(inplace=True)\n",
    "df_ma.reset_index(drop=True, inplace=True)"
   ]
  },
  {
   "cell_type": "code",
   "execution_count": 17,
   "metadata": {},
   "outputs": [
    {
     "data": {
      "text/plain": [
       "<bound method NDFrame.head of                                 time    mid_o    mid_h    mid_l    mid_c  \\\n",
       "0     2023-10-24T22:00:00.000000000Z  1.45561  1.45588  1.45534  1.45584   \n",
       "1     2023-10-24T23:00:00.000000000Z  1.45584  1.45602  1.45567  1.45601   \n",
       "2     2023-10-25T00:00:00.000000000Z  1.45602  1.45626  1.45507  1.45521   \n",
       "3     2023-10-25T01:00:00.000000000Z  1.45522  1.45582  1.45482  1.45570   \n",
       "4     2023-10-25T02:00:00.000000000Z  1.45572  1.45698  1.45560  1.45685   \n",
       "...                              ...      ...      ...      ...      ...   \n",
       "3931  2024-06-12T19:00:00.000000000Z  1.48302  1.48436  1.48298  1.48333   \n",
       "3932  2024-06-12T20:00:00.000000000Z  1.48332  1.48354  1.48286  1.48338   \n",
       "3933  2024-06-12T21:00:00.000000000Z  1.48306  1.48374  1.48238  1.48328   \n",
       "3934  2024-06-12T22:00:00.000000000Z  1.48327  1.48384  1.48320  1.48332   \n",
       "3935  2024-06-12T23:00:00.000000000Z  1.48332  1.48398  1.48326  1.48364   \n",
       "\n",
       "         MA_16     MA_64  \n",
       "0     1.455768  1.454783  \n",
       "1     1.455610  1.454874  \n",
       "2     1.455436  1.454959  \n",
       "3     1.455410  1.455044  \n",
       "4     1.455513  1.455150  \n",
       "...        ...       ...  \n",
       "3931  1.480788  1.479867  \n",
       "3932  1.481211  1.479912  \n",
       "3933  1.481594  1.479965  \n",
       "3934  1.481976  1.480014  \n",
       "3935  1.482399  1.480045  \n",
       "\n",
       "[3936 rows x 7 columns]>"
      ]
     },
     "execution_count": 17,
     "metadata": {},
     "output_type": "execute_result"
    }
   ],
   "source": [
    "df_ma.head"
   ]
  },
  {
   "cell_type": "code",
   "execution_count": 18,
   "metadata": {},
   "outputs": [],
   "source": [
    "df_ma['MA_8'] = df_ma.mid_c.rolling(window=8).mean() #calculate our rolling/moving average"
   ]
  },
  {
   "cell_type": "code",
   "execution_count": 19,
   "metadata": {},
   "outputs": [
    {
     "data": {
      "text/html": [
       "<div>\n",
       "<style scoped>\n",
       "    .dataframe tbody tr th:only-of-type {\n",
       "        vertical-align: middle;\n",
       "    }\n",
       "\n",
       "    .dataframe tbody tr th {\n",
       "        vertical-align: top;\n",
       "    }\n",
       "\n",
       "    .dataframe thead th {\n",
       "        text-align: right;\n",
       "    }\n",
       "</style>\n",
       "<table border=\"1\" class=\"dataframe\">\n",
       "  <thead>\n",
       "    <tr style=\"text-align: right;\">\n",
       "      <th></th>\n",
       "      <th>time</th>\n",
       "      <th>mid_o</th>\n",
       "      <th>mid_h</th>\n",
       "      <th>mid_l</th>\n",
       "      <th>mid_c</th>\n",
       "      <th>MA_16</th>\n",
       "      <th>MA_64</th>\n",
       "      <th>MA_8</th>\n",
       "    </tr>\n",
       "  </thead>\n",
       "  <tbody>\n",
       "    <tr>\n",
       "      <th>0</th>\n",
       "      <td>2023-10-24T22:00:00.000000000Z</td>\n",
       "      <td>1.45561</td>\n",
       "      <td>1.45588</td>\n",
       "      <td>1.45534</td>\n",
       "      <td>1.45584</td>\n",
       "      <td>1.455768</td>\n",
       "      <td>1.454783</td>\n",
       "      <td>NaN</td>\n",
       "    </tr>\n",
       "    <tr>\n",
       "      <th>1</th>\n",
       "      <td>2023-10-24T23:00:00.000000000Z</td>\n",
       "      <td>1.45584</td>\n",
       "      <td>1.45602</td>\n",
       "      <td>1.45567</td>\n",
       "      <td>1.45601</td>\n",
       "      <td>1.455610</td>\n",
       "      <td>1.454874</td>\n",
       "      <td>NaN</td>\n",
       "    </tr>\n",
       "    <tr>\n",
       "      <th>2</th>\n",
       "      <td>2023-10-25T00:00:00.000000000Z</td>\n",
       "      <td>1.45602</td>\n",
       "      <td>1.45626</td>\n",
       "      <td>1.45507</td>\n",
       "      <td>1.45521</td>\n",
       "      <td>1.455436</td>\n",
       "      <td>1.454959</td>\n",
       "      <td>NaN</td>\n",
       "    </tr>\n",
       "    <tr>\n",
       "      <th>3</th>\n",
       "      <td>2023-10-25T01:00:00.000000000Z</td>\n",
       "      <td>1.45522</td>\n",
       "      <td>1.45582</td>\n",
       "      <td>1.45482</td>\n",
       "      <td>1.45570</td>\n",
       "      <td>1.455410</td>\n",
       "      <td>1.455044</td>\n",
       "      <td>NaN</td>\n",
       "    </tr>\n",
       "    <tr>\n",
       "      <th>4</th>\n",
       "      <td>2023-10-25T02:00:00.000000000Z</td>\n",
       "      <td>1.45572</td>\n",
       "      <td>1.45698</td>\n",
       "      <td>1.45560</td>\n",
       "      <td>1.45685</td>\n",
       "      <td>1.455513</td>\n",
       "      <td>1.455150</td>\n",
       "      <td>NaN</td>\n",
       "    </tr>\n",
       "  </tbody>\n",
       "</table>\n",
       "</div>"
      ],
      "text/plain": [
       "                             time    mid_o    mid_h    mid_l    mid_c  \\\n",
       "0  2023-10-24T22:00:00.000000000Z  1.45561  1.45588  1.45534  1.45584   \n",
       "1  2023-10-24T23:00:00.000000000Z  1.45584  1.45602  1.45567  1.45601   \n",
       "2  2023-10-25T00:00:00.000000000Z  1.45602  1.45626  1.45507  1.45521   \n",
       "3  2023-10-25T01:00:00.000000000Z  1.45522  1.45582  1.45482  1.45570   \n",
       "4  2023-10-25T02:00:00.000000000Z  1.45572  1.45698  1.45560  1.45685   \n",
       "\n",
       "      MA_16     MA_64  MA_8  \n",
       "0  1.455768  1.454783   NaN  \n",
       "1  1.455610  1.454874   NaN  \n",
       "2  1.455436  1.454959   NaN  \n",
       "3  1.455410  1.455044   NaN  \n",
       "4  1.455513  1.455150   NaN  "
      ]
     },
     "execution_count": 19,
     "metadata": {},
     "output_type": "execute_result"
    }
   ],
   "source": [
    "df_ma.head()"
   ]
  },
  {
   "cell_type": "code",
   "execution_count": 21,
   "metadata": {},
   "outputs": [
    {
     "data": {
      "text/plain": [
       "\" ERROR HERE \\nprint(len(df_plot_ma['mid_c']))  # Check length of the column\\nprint(type(df_plot_ma['mid_c']))  # Check type of the column\""
      ]
     },
     "execution_count": 21,
     "metadata": {},
     "output_type": "execute_result"
    }
   ],
   "source": [
    "''' ERROR HERE \n",
    "print(len(df_plot_ma['mid_c']))  # Check length of the column\n",
    "print(type(df_plot_ma['mid_c']))  # Check type of the column'''"
   ]
  },
  {
   "cell_type": "code",
   "execution_count": 22,
   "metadata": {},
   "outputs": [],
   "source": [
    "def is_trade(row):\n",
    "    if row.DIFF >= 0 and row.DIFF_PREV < 0:\n",
    "        return True\n",
    "    if row.DIFF <= 0 and row.DIFF_PREV > 0:\n",
    "        return True\n",
    "    return False"
   ]
  },
  {
   "cell_type": "code",
   "execution_count": 23,
   "metadata": {},
   "outputs": [],
   "source": [
    "#df_ma.dropna(inplace=True)\n",
    "df_ma['DIFF'] = df_ma.MA_16 - df_ma.MA_64\n",
    "df_ma['DIFF_PREV'] = df_ma.DIFF.shift(1)\n",
    "df_ma['IS_TRADE'] = df_ma.apply(is_trade, axis=1)\n",
    "df_trades = df_ma[df_ma.IS_TRADE==True].copy()"
   ]
  },
  {
   "cell_type": "code",
   "execution_count": 24,
   "metadata": {},
   "outputs": [
    {
     "data": {
      "text/html": [
       "<div>\n",
       "<style scoped>\n",
       "    .dataframe tbody tr th:only-of-type {\n",
       "        vertical-align: middle;\n",
       "    }\n",
       "\n",
       "    .dataframe tbody tr th {\n",
       "        vertical-align: top;\n",
       "    }\n",
       "\n",
       "    .dataframe thead th {\n",
       "        text-align: right;\n",
       "    }\n",
       "</style>\n",
       "<table border=\"1\" class=\"dataframe\">\n",
       "  <thead>\n",
       "    <tr style=\"text-align: right;\">\n",
       "      <th></th>\n",
       "      <th>time</th>\n",
       "      <th>mid_o</th>\n",
       "      <th>mid_h</th>\n",
       "      <th>mid_l</th>\n",
       "      <th>mid_c</th>\n",
       "      <th>MA_16</th>\n",
       "      <th>MA_64</th>\n",
       "      <th>MA_8</th>\n",
       "      <th>DIFF</th>\n",
       "      <th>DIFF_PREV</th>\n",
       "      <th>IS_TRADE</th>\n",
       "    </tr>\n",
       "  </thead>\n",
       "  <tbody>\n",
       "    <tr>\n",
       "      <th>33</th>\n",
       "      <td>2023-10-26T07:00:00.000000000Z</td>\n",
       "      <td>1.45614</td>\n",
       "      <td>1.45685</td>\n",
       "      <td>1.45516</td>\n",
       "      <td>1.45593</td>\n",
       "      <td>1.457383</td>\n",
       "      <td>1.457465</td>\n",
       "      <td>1.456779</td>\n",
       "      <td>-0.000082</td>\n",
       "      <td>0.000027</td>\n",
       "      <td>True</td>\n",
       "    </tr>\n",
       "    <tr>\n",
       "      <th>45</th>\n",
       "      <td>2023-10-26T19:00:00.000000000Z</td>\n",
       "      <td>1.45894</td>\n",
       "      <td>1.46007</td>\n",
       "      <td>1.45854</td>\n",
       "      <td>1.45998</td>\n",
       "      <td>1.456882</td>\n",
       "      <td>1.456872</td>\n",
       "      <td>1.458055</td>\n",
       "      <td>0.000010</td>\n",
       "      <td>-0.000198</td>\n",
       "      <td>True</td>\n",
       "    </tr>\n",
       "    <tr>\n",
       "      <th>131</th>\n",
       "      <td>2023-11-01T09:00:00.000000000Z</td>\n",
       "      <td>1.46601</td>\n",
       "      <td>1.46619</td>\n",
       "      <td>1.46449</td>\n",
       "      <td>1.46511</td>\n",
       "      <td>1.467010</td>\n",
       "      <td>1.467073</td>\n",
       "      <td>1.466498</td>\n",
       "      <td>-0.000063</td>\n",
       "      <td>0.000092</td>\n",
       "      <td>True</td>\n",
       "    </tr>\n",
       "    <tr>\n",
       "      <th>189</th>\n",
       "      <td>2023-11-03T19:00:00.000000000Z</td>\n",
       "      <td>1.46645</td>\n",
       "      <td>1.46680</td>\n",
       "      <td>1.46560</td>\n",
       "      <td>1.46603</td>\n",
       "      <td>1.464102</td>\n",
       "      <td>1.464097</td>\n",
       "      <td>1.467029</td>\n",
       "      <td>0.000006</td>\n",
       "      <td>-0.000374</td>\n",
       "      <td>True</td>\n",
       "    </tr>\n",
       "    <tr>\n",
       "      <th>293</th>\n",
       "      <td>2023-11-10T04:00:00.000000000Z</td>\n",
       "      <td>1.47274</td>\n",
       "      <td>1.47280</td>\n",
       "      <td>1.47187</td>\n",
       "      <td>1.47229</td>\n",
       "      <td>1.473532</td>\n",
       "      <td>1.473660</td>\n",
       "      <td>1.472906</td>\n",
       "      <td>-0.000128</td>\n",
       "      <td>0.000044</td>\n",
       "      <td>True</td>\n",
       "    </tr>\n",
       "  </tbody>\n",
       "</table>\n",
       "</div>"
      ],
      "text/plain": [
       "                               time    mid_o    mid_h    mid_l    mid_c  \\\n",
       "33   2023-10-26T07:00:00.000000000Z  1.45614  1.45685  1.45516  1.45593   \n",
       "45   2023-10-26T19:00:00.000000000Z  1.45894  1.46007  1.45854  1.45998   \n",
       "131  2023-11-01T09:00:00.000000000Z  1.46601  1.46619  1.46449  1.46511   \n",
       "189  2023-11-03T19:00:00.000000000Z  1.46645  1.46680  1.46560  1.46603   \n",
       "293  2023-11-10T04:00:00.000000000Z  1.47274  1.47280  1.47187  1.47229   \n",
       "\n",
       "        MA_16     MA_64      MA_8      DIFF  DIFF_PREV  IS_TRADE  \n",
       "33   1.457383  1.457465  1.456779 -0.000082   0.000027      True  \n",
       "45   1.456882  1.456872  1.458055  0.000010  -0.000198      True  \n",
       "131  1.467010  1.467073  1.466498 -0.000063   0.000092      True  \n",
       "189  1.464102  1.464097  1.467029  0.000006  -0.000374      True  \n",
       "293  1.473532  1.473660  1.472906 -0.000128   0.000044      True  "
      ]
     },
     "execution_count": 24,
     "metadata": {},
     "output_type": "execute_result"
    }
   ],
   "source": [
    "df_trades.head()"
   ]
  },
  {
   "cell_type": "code",
   "execution_count": 25,
   "metadata": {},
   "outputs": [],
   "source": [
    "#df_plot_ma = df_ma.iloc[-100].copy()\n",
    "df_plot = df_ma.iloc[0:24].copy()"
   ]
  },
  {
   "cell_type": "code",
   "execution_count": 26,
   "metadata": {},
   "outputs": [
    {
     "data": {
      "text/plain": [
       "(24, 11)"
      ]
     },
     "execution_count": 26,
     "metadata": {},
     "output_type": "execute_result"
    }
   ],
   "source": [
    "df_plot.shape"
   ]
  },
  {
   "cell_type": "code",
   "execution_count": 27,
   "metadata": {},
   "outputs": [
    {
     "data": {
      "text/plain": [
       "'\\n#   ERROR LOOKBACK TO VIDEO 16\\n\\n# Plotting & formatting a candlestick plot with Plotly\\nfig2 = go.Figure()\\n\\n# Add candlestick trace\\nfig2.add_trace(go.Candlestick(\\n    x=df_plot_ma.time,\\n    open=df_plot_ma.mid_o,\\n    high=df_plot_ma.mid_h,\\n    low=df_plot_ma.mid_l,\\n    close=df_plot_ma.mid_c,\\n    line=dict(width=1),\\n    opacity=1\\n))\\n\\n# Add a scatter for moving averages\\nfig2.add_trace(go.Scatter(\\n    x=df_plot_ma.time,\\n    y=df_plot_ma[\\'MA_8\\'],\\n    line=dict(color=\\'#027FC3\\', width=2),\\n    line_shape=\\'spline\\',\\n    name=\\'MA_8\\'\\n))\\n\\n# Formatting the size of our plot\\nfig2.update_layout(\\n    width=1000,\\n    height=300,\\n    margin=dict(l=10, r=10, t=10, b=10),\\n    font=dict(size=10, color=\\'#e1e1e1\\'),\\n    paper_bgcolor=\"#0d1117\",\\n    plot_bgcolor=\"#0d1117\"\\n)\\n\\n# Update x-axis properties\\nfig2.update_xaxes(\\n    gridcolor=\\'#1f292f\\',\\n    showgrid=True,\\n    fixedrange=True,\\n    rangeslider=dict(visible=False)\\n)\\n\\n# Update y-axis properties\\nfig2.update_yaxes(\\n    gridcolor=\\'#1f292f\\',\\n    showgrid=True\\n)\\n\\n# Show the figure\\nfig2.show()\\n'"
      ]
     },
     "execution_count": 27,
     "metadata": {},
     "output_type": "execute_result"
    }
   ],
   "source": [
    "'''\n",
    "#   ERROR LOOKBACK TO VIDEO 16\n",
    "\n",
    "# Plotting & formatting a candlestick plot with Plotly\n",
    "fig2 = go.Figure()\n",
    "\n",
    "# Add candlestick trace\n",
    "fig2.add_trace(go.Candlestick(\n",
    "    x=df_plot_ma.time,\n",
    "    open=df_plot_ma.mid_o,\n",
    "    high=df_plot_ma.mid_h,\n",
    "    low=df_plot_ma.mid_l,\n",
    "    close=df_plot_ma.mid_c,\n",
    "    line=dict(width=1),\n",
    "    opacity=1\n",
    "))\n",
    "\n",
    "# Add a scatter for moving averages\n",
    "fig2.add_trace(go.Scatter(\n",
    "    x=df_plot_ma.time,\n",
    "    y=df_plot_ma['MA_8'],\n",
    "    line=dict(color='#027FC3', width=2),\n",
    "    line_shape='spline',\n",
    "    name='MA_8'\n",
    "))\n",
    "\n",
    "# Formatting the size of our plot\n",
    "fig2.update_layout(\n",
    "    width=1000,\n",
    "    height=300,\n",
    "    margin=dict(l=10, r=10, t=10, b=10),\n",
    "    font=dict(size=10, color='#e1e1e1'),\n",
    "    paper_bgcolor=\"#0d1117\",\n",
    "    plot_bgcolor=\"#0d1117\"\n",
    ")\n",
    "\n",
    "# Update x-axis properties\n",
    "fig2.update_xaxes(\n",
    "    gridcolor='#1f292f',\n",
    "    showgrid=True,\n",
    "    fixedrange=True,\n",
    "    rangeslider=dict(visible=False)\n",
    ")\n",
    "\n",
    "# Update y-axis properties\n",
    "fig2.update_yaxes(\n",
    "    gridcolor='#1f292f',\n",
    "    showgrid=True\n",
    ")\n",
    "\n",
    "# Show the figure\n",
    "fig2.show()\n",
    "'''"
   ]
  },
  {
   "cell_type": "code",
   "execution_count": 28,
   "metadata": {},
   "outputs": [
    {
     "data": {
      "application/vnd.plotly.v1+json": {
       "config": {
        "plotlyServerURL": "https://plot.ly"
       },
       "data": [
        {
         "close": [
          1.45584,
          1.45601,
          1.45521,
          1.4557,
          1.45685,
          1.45702,
          1.45747,
          1.45741,
          1.45687,
          1.45634,
          1.4566,
          1.45611,
          1.4569,
          1.45516,
          1.45627,
          1.45714,
          1.45892,
          1.45771,
          1.45776,
          1.45787,
          1.45794,
          1.4577,
          1.45808,
          1.45794
         ],
         "decreasing": {
          "fillcolor": "#CC2E3C",
          "line": {
           "color": "#FF3A4C"
          }
         },
         "high": [
          1.45588,
          1.45602,
          1.45626,
          1.45582,
          1.45698,
          1.45741,
          1.4575,
          1.45747,
          1.45746,
          1.4573,
          1.45764,
          1.45709,
          1.45759,
          1.45748,
          1.4565,
          1.45824,
          1.46039,
          1.45976,
          1.45876,
          1.45828,
          1.45824,
          1.458,
          1.45821,
          1.4586
         ],
         "increasing": {
          "fillcolor": "#24A06B",
          "line": {
           "color": "#2EC886"
          }
         },
         "line": {
          "width": 1
         },
         "low": [
          1.45534,
          1.45567,
          1.45507,
          1.45482,
          1.4556,
          1.45667,
          1.45699,
          1.45692,
          1.45678,
          1.456,
          1.45624,
          1.45518,
          1.45581,
          1.45478,
          1.45394,
          1.45532,
          1.45709,
          1.45764,
          1.45758,
          1.4571,
          1.45728,
          1.45721,
          1.45758,
          1.4575
         ],
         "opacity": 1,
         "open": [
          1.45561,
          1.45584,
          1.45602,
          1.45522,
          1.45572,
          1.45683,
          1.45702,
          1.45746,
          1.45738,
          1.45686,
          1.4564,
          1.45662,
          1.45611,
          1.45688,
          1.45518,
          1.45628,
          1.45718,
          1.45891,
          1.4577,
          1.45782,
          1.45788,
          1.45798,
          1.45769,
          1.45798
         ],
         "type": "candlestick",
         "x": [
          "2023-10-24T22:00:00.000000000Z",
          "2023-10-24T23:00:00.000000000Z",
          "2023-10-25T00:00:00.000000000Z",
          "2023-10-25T01:00:00.000000000Z",
          "2023-10-25T02:00:00.000000000Z",
          "2023-10-25T03:00:00.000000000Z",
          "2023-10-25T04:00:00.000000000Z",
          "2023-10-25T05:00:00.000000000Z",
          "2023-10-25T06:00:00.000000000Z",
          "2023-10-25T07:00:00.000000000Z",
          "2023-10-25T08:00:00.000000000Z",
          "2023-10-25T09:00:00.000000000Z",
          "2023-10-25T10:00:00.000000000Z",
          "2023-10-25T11:00:00.000000000Z",
          "2023-10-25T12:00:00.000000000Z",
          "2023-10-25T13:00:00.000000000Z",
          "2023-10-25T14:00:00.000000000Z",
          "2023-10-25T15:00:00.000000000Z",
          "2023-10-25T16:00:00.000000000Z",
          "2023-10-25T17:00:00.000000000Z",
          "2023-10-25T18:00:00.000000000Z",
          "2023-10-25T19:00:00.000000000Z",
          "2023-10-25T20:00:00.000000000Z",
          "2023-10-25T21:00:00.000000000Z"
         ]
        },
        {
         "line": {
          "shape": "spline",
          "width": 2
         },
         "name": "MA_16",
         "type": "scatter",
         "x": [
          "2023-10-24T22:00:00.000000000Z",
          "2023-10-24T23:00:00.000000000Z",
          "2023-10-25T00:00:00.000000000Z",
          "2023-10-25T01:00:00.000000000Z",
          "2023-10-25T02:00:00.000000000Z",
          "2023-10-25T03:00:00.000000000Z",
          "2023-10-25T04:00:00.000000000Z",
          "2023-10-25T05:00:00.000000000Z",
          "2023-10-25T06:00:00.000000000Z",
          "2023-10-25T07:00:00.000000000Z",
          "2023-10-25T08:00:00.000000000Z",
          "2023-10-25T09:00:00.000000000Z",
          "2023-10-25T10:00:00.000000000Z",
          "2023-10-25T11:00:00.000000000Z",
          "2023-10-25T12:00:00.000000000Z",
          "2023-10-25T13:00:00.000000000Z",
          "2023-10-25T14:00:00.000000000Z",
          "2023-10-25T15:00:00.000000000Z",
          "2023-10-25T16:00:00.000000000Z",
          "2023-10-25T17:00:00.000000000Z",
          "2023-10-25T18:00:00.000000000Z",
          "2023-10-25T19:00:00.000000000Z",
          "2023-10-25T20:00:00.000000000Z",
          "2023-10-25T21:00:00.000000000Z"
         ],
         "y": [
          1.455768125,
          1.45561,
          1.45543625,
          1.4554099999999999,
          1.4555131250000002,
          1.45555125,
          1.4557099999999998,
          1.4557718750000002,
          1.455871875,
          1.455879375,
          1.455928125,
          1.4560275,
          1.4562225,
          1.4562700000000002,
          1.4563293750000001,
          1.45643125,
          1.4566237499999999,
          1.4567299999999999,
          1.4568893749999998,
          1.457025,
          1.4570931249999999,
          1.4571356249999998,
          1.4571737500000002,
          1.457206875
         ]
        },
        {
         "line": {
          "shape": "spline",
          "width": 2
         },
         "name": "MA_64",
         "type": "scatter",
         "x": [
          "2023-10-24T22:00:00.000000000Z",
          "2023-10-24T23:00:00.000000000Z",
          "2023-10-25T00:00:00.000000000Z",
          "2023-10-25T01:00:00.000000000Z",
          "2023-10-25T02:00:00.000000000Z",
          "2023-10-25T03:00:00.000000000Z",
          "2023-10-25T04:00:00.000000000Z",
          "2023-10-25T05:00:00.000000000Z",
          "2023-10-25T06:00:00.000000000Z",
          "2023-10-25T07:00:00.000000000Z",
          "2023-10-25T08:00:00.000000000Z",
          "2023-10-25T09:00:00.000000000Z",
          "2023-10-25T10:00:00.000000000Z",
          "2023-10-25T11:00:00.000000000Z",
          "2023-10-25T12:00:00.000000000Z",
          "2023-10-25T13:00:00.000000000Z",
          "2023-10-25T14:00:00.000000000Z",
          "2023-10-25T15:00:00.000000000Z",
          "2023-10-25T16:00:00.000000000Z",
          "2023-10-25T17:00:00.000000000Z",
          "2023-10-25T18:00:00.000000000Z",
          "2023-10-25T19:00:00.000000000Z",
          "2023-10-25T20:00:00.000000000Z",
          "2023-10-25T21:00:00.000000000Z"
         ],
         "y": [
          1.45478265625,
          1.454874375,
          1.45495921875,
          1.45504390625,
          1.4551496875,
          1.45525609375,
          1.4553959375,
          1.45556390625,
          1.45567625,
          1.4557715624999998,
          1.4558740625,
          1.45594453125,
          1.45602984375,
          1.4560739062499999,
          1.45612375,
          1.4561928124999999,
          1.45630484375,
          1.4564040625,
          1.45650140625,
          1.456611875,
          1.4567259375000001,
          1.4568340625,
          1.4569496875,
          1.4570637499999999
         ]
        }
       ],
       "layout": {
        "font": {
         "color": "#e1e1e1",
         "size": 10
        },
        "height": 400,
        "margin": {
         "b": 10,
         "l": 10,
         "r": 10,
         "t": 10
        },
        "paper_bgcolor": "#1e1e1e",
        "plot_bgcolor": "#1e1e1e",
        "template": {
         "data": {
          "bar": [
           {
            "error_x": {
             "color": "#2a3f5f"
            },
            "error_y": {
             "color": "#2a3f5f"
            },
            "marker": {
             "line": {
              "color": "#E5ECF6",
              "width": 0.5
             },
             "pattern": {
              "fillmode": "overlay",
              "size": 10,
              "solidity": 0.2
             }
            },
            "type": "bar"
           }
          ],
          "barpolar": [
           {
            "marker": {
             "line": {
              "color": "#E5ECF6",
              "width": 0.5
             },
             "pattern": {
              "fillmode": "overlay",
              "size": 10,
              "solidity": 0.2
             }
            },
            "type": "barpolar"
           }
          ],
          "carpet": [
           {
            "aaxis": {
             "endlinecolor": "#2a3f5f",
             "gridcolor": "white",
             "linecolor": "white",
             "minorgridcolor": "white",
             "startlinecolor": "#2a3f5f"
            },
            "baxis": {
             "endlinecolor": "#2a3f5f",
             "gridcolor": "white",
             "linecolor": "white",
             "minorgridcolor": "white",
             "startlinecolor": "#2a3f5f"
            },
            "type": "carpet"
           }
          ],
          "choropleth": [
           {
            "colorbar": {
             "outlinewidth": 0,
             "ticks": ""
            },
            "type": "choropleth"
           }
          ],
          "contour": [
           {
            "colorbar": {
             "outlinewidth": 0,
             "ticks": ""
            },
            "colorscale": [
             [
              0,
              "#0d0887"
             ],
             [
              0.1111111111111111,
              "#46039f"
             ],
             [
              0.2222222222222222,
              "#7201a8"
             ],
             [
              0.3333333333333333,
              "#9c179e"
             ],
             [
              0.4444444444444444,
              "#bd3786"
             ],
             [
              0.5555555555555556,
              "#d8576b"
             ],
             [
              0.6666666666666666,
              "#ed7953"
             ],
             [
              0.7777777777777778,
              "#fb9f3a"
             ],
             [
              0.8888888888888888,
              "#fdca26"
             ],
             [
              1,
              "#f0f921"
             ]
            ],
            "type": "contour"
           }
          ],
          "contourcarpet": [
           {
            "colorbar": {
             "outlinewidth": 0,
             "ticks": ""
            },
            "type": "contourcarpet"
           }
          ],
          "heatmap": [
           {
            "colorbar": {
             "outlinewidth": 0,
             "ticks": ""
            },
            "colorscale": [
             [
              0,
              "#0d0887"
             ],
             [
              0.1111111111111111,
              "#46039f"
             ],
             [
              0.2222222222222222,
              "#7201a8"
             ],
             [
              0.3333333333333333,
              "#9c179e"
             ],
             [
              0.4444444444444444,
              "#bd3786"
             ],
             [
              0.5555555555555556,
              "#d8576b"
             ],
             [
              0.6666666666666666,
              "#ed7953"
             ],
             [
              0.7777777777777778,
              "#fb9f3a"
             ],
             [
              0.8888888888888888,
              "#fdca26"
             ],
             [
              1,
              "#f0f921"
             ]
            ],
            "type": "heatmap"
           }
          ],
          "heatmapgl": [
           {
            "colorbar": {
             "outlinewidth": 0,
             "ticks": ""
            },
            "colorscale": [
             [
              0,
              "#0d0887"
             ],
             [
              0.1111111111111111,
              "#46039f"
             ],
             [
              0.2222222222222222,
              "#7201a8"
             ],
             [
              0.3333333333333333,
              "#9c179e"
             ],
             [
              0.4444444444444444,
              "#bd3786"
             ],
             [
              0.5555555555555556,
              "#d8576b"
             ],
             [
              0.6666666666666666,
              "#ed7953"
             ],
             [
              0.7777777777777778,
              "#fb9f3a"
             ],
             [
              0.8888888888888888,
              "#fdca26"
             ],
             [
              1,
              "#f0f921"
             ]
            ],
            "type": "heatmapgl"
           }
          ],
          "histogram": [
           {
            "marker": {
             "pattern": {
              "fillmode": "overlay",
              "size": 10,
              "solidity": 0.2
             }
            },
            "type": "histogram"
           }
          ],
          "histogram2d": [
           {
            "colorbar": {
             "outlinewidth": 0,
             "ticks": ""
            },
            "colorscale": [
             [
              0,
              "#0d0887"
             ],
             [
              0.1111111111111111,
              "#46039f"
             ],
             [
              0.2222222222222222,
              "#7201a8"
             ],
             [
              0.3333333333333333,
              "#9c179e"
             ],
             [
              0.4444444444444444,
              "#bd3786"
             ],
             [
              0.5555555555555556,
              "#d8576b"
             ],
             [
              0.6666666666666666,
              "#ed7953"
             ],
             [
              0.7777777777777778,
              "#fb9f3a"
             ],
             [
              0.8888888888888888,
              "#fdca26"
             ],
             [
              1,
              "#f0f921"
             ]
            ],
            "type": "histogram2d"
           }
          ],
          "histogram2dcontour": [
           {
            "colorbar": {
             "outlinewidth": 0,
             "ticks": ""
            },
            "colorscale": [
             [
              0,
              "#0d0887"
             ],
             [
              0.1111111111111111,
              "#46039f"
             ],
             [
              0.2222222222222222,
              "#7201a8"
             ],
             [
              0.3333333333333333,
              "#9c179e"
             ],
             [
              0.4444444444444444,
              "#bd3786"
             ],
             [
              0.5555555555555556,
              "#d8576b"
             ],
             [
              0.6666666666666666,
              "#ed7953"
             ],
             [
              0.7777777777777778,
              "#fb9f3a"
             ],
             [
              0.8888888888888888,
              "#fdca26"
             ],
             [
              1,
              "#f0f921"
             ]
            ],
            "type": "histogram2dcontour"
           }
          ],
          "mesh3d": [
           {
            "colorbar": {
             "outlinewidth": 0,
             "ticks": ""
            },
            "type": "mesh3d"
           }
          ],
          "parcoords": [
           {
            "line": {
             "colorbar": {
              "outlinewidth": 0,
              "ticks": ""
             }
            },
            "type": "parcoords"
           }
          ],
          "pie": [
           {
            "automargin": true,
            "type": "pie"
           }
          ],
          "scatter": [
           {
            "fillpattern": {
             "fillmode": "overlay",
             "size": 10,
             "solidity": 0.2
            },
            "type": "scatter"
           }
          ],
          "scatter3d": [
           {
            "line": {
             "colorbar": {
              "outlinewidth": 0,
              "ticks": ""
             }
            },
            "marker": {
             "colorbar": {
              "outlinewidth": 0,
              "ticks": ""
             }
            },
            "type": "scatter3d"
           }
          ],
          "scattercarpet": [
           {
            "marker": {
             "colorbar": {
              "outlinewidth": 0,
              "ticks": ""
             }
            },
            "type": "scattercarpet"
           }
          ],
          "scattergeo": [
           {
            "marker": {
             "colorbar": {
              "outlinewidth": 0,
              "ticks": ""
             }
            },
            "type": "scattergeo"
           }
          ],
          "scattergl": [
           {
            "marker": {
             "colorbar": {
              "outlinewidth": 0,
              "ticks": ""
             }
            },
            "type": "scattergl"
           }
          ],
          "scattermapbox": [
           {
            "marker": {
             "colorbar": {
              "outlinewidth": 0,
              "ticks": ""
             }
            },
            "type": "scattermapbox"
           }
          ],
          "scatterpolar": [
           {
            "marker": {
             "colorbar": {
              "outlinewidth": 0,
              "ticks": ""
             }
            },
            "type": "scatterpolar"
           }
          ],
          "scatterpolargl": [
           {
            "marker": {
             "colorbar": {
              "outlinewidth": 0,
              "ticks": ""
             }
            },
            "type": "scatterpolargl"
           }
          ],
          "scatterternary": [
           {
            "marker": {
             "colorbar": {
              "outlinewidth": 0,
              "ticks": ""
             }
            },
            "type": "scatterternary"
           }
          ],
          "surface": [
           {
            "colorbar": {
             "outlinewidth": 0,
             "ticks": ""
            },
            "colorscale": [
             [
              0,
              "#0d0887"
             ],
             [
              0.1111111111111111,
              "#46039f"
             ],
             [
              0.2222222222222222,
              "#7201a8"
             ],
             [
              0.3333333333333333,
              "#9c179e"
             ],
             [
              0.4444444444444444,
              "#bd3786"
             ],
             [
              0.5555555555555556,
              "#d8576b"
             ],
             [
              0.6666666666666666,
              "#ed7953"
             ],
             [
              0.7777777777777778,
              "#fb9f3a"
             ],
             [
              0.8888888888888888,
              "#fdca26"
             ],
             [
              1,
              "#f0f921"
             ]
            ],
            "type": "surface"
           }
          ],
          "table": [
           {
            "cells": {
             "fill": {
              "color": "#EBF0F8"
             },
             "line": {
              "color": "white"
             }
            },
            "header": {
             "fill": {
              "color": "#C8D4E3"
             },
             "line": {
              "color": "white"
             }
            },
            "type": "table"
           }
          ]
         },
         "layout": {
          "annotationdefaults": {
           "arrowcolor": "#2a3f5f",
           "arrowhead": 0,
           "arrowwidth": 1
          },
          "autotypenumbers": "strict",
          "coloraxis": {
           "colorbar": {
            "outlinewidth": 0,
            "ticks": ""
           }
          },
          "colorscale": {
           "diverging": [
            [
             0,
             "#8e0152"
            ],
            [
             0.1,
             "#c51b7d"
            ],
            [
             0.2,
             "#de77ae"
            ],
            [
             0.3,
             "#f1b6da"
            ],
            [
             0.4,
             "#fde0ef"
            ],
            [
             0.5,
             "#f7f7f7"
            ],
            [
             0.6,
             "#e6f5d0"
            ],
            [
             0.7,
             "#b8e186"
            ],
            [
             0.8,
             "#7fbc41"
            ],
            [
             0.9,
             "#4d9221"
            ],
            [
             1,
             "#276419"
            ]
           ],
           "sequential": [
            [
             0,
             "#0d0887"
            ],
            [
             0.1111111111111111,
             "#46039f"
            ],
            [
             0.2222222222222222,
             "#7201a8"
            ],
            [
             0.3333333333333333,
             "#9c179e"
            ],
            [
             0.4444444444444444,
             "#bd3786"
            ],
            [
             0.5555555555555556,
             "#d8576b"
            ],
            [
             0.6666666666666666,
             "#ed7953"
            ],
            [
             0.7777777777777778,
             "#fb9f3a"
            ],
            [
             0.8888888888888888,
             "#fdca26"
            ],
            [
             1,
             "#f0f921"
            ]
           ],
           "sequentialminus": [
            [
             0,
             "#0d0887"
            ],
            [
             0.1111111111111111,
             "#46039f"
            ],
            [
             0.2222222222222222,
             "#7201a8"
            ],
            [
             0.3333333333333333,
             "#9c179e"
            ],
            [
             0.4444444444444444,
             "#bd3786"
            ],
            [
             0.5555555555555556,
             "#d8576b"
            ],
            [
             0.6666666666666666,
             "#ed7953"
            ],
            [
             0.7777777777777778,
             "#fb9f3a"
            ],
            [
             0.8888888888888888,
             "#fdca26"
            ],
            [
             1,
             "#f0f921"
            ]
           ]
          },
          "colorway": [
           "#636efa",
           "#EF553B",
           "#00cc96",
           "#ab63fa",
           "#FFA15A",
           "#19d3f3",
           "#FF6692",
           "#B6E880",
           "#FF97FF",
           "#FECB52"
          ],
          "font": {
           "color": "#2a3f5f"
          },
          "geo": {
           "bgcolor": "white",
           "lakecolor": "white",
           "landcolor": "#E5ECF6",
           "showlakes": true,
           "showland": true,
           "subunitcolor": "white"
          },
          "hoverlabel": {
           "align": "left"
          },
          "hovermode": "closest",
          "mapbox": {
           "style": "light"
          },
          "paper_bgcolor": "white",
          "plot_bgcolor": "#E5ECF6",
          "polar": {
           "angularaxis": {
            "gridcolor": "white",
            "linecolor": "white",
            "ticks": ""
           },
           "bgcolor": "#E5ECF6",
           "radialaxis": {
            "gridcolor": "white",
            "linecolor": "white",
            "ticks": ""
           }
          },
          "scene": {
           "xaxis": {
            "backgroundcolor": "#E5ECF6",
            "gridcolor": "white",
            "gridwidth": 2,
            "linecolor": "white",
            "showbackground": true,
            "ticks": "",
            "zerolinecolor": "white"
           },
           "yaxis": {
            "backgroundcolor": "#E5ECF6",
            "gridcolor": "white",
            "gridwidth": 2,
            "linecolor": "white",
            "showbackground": true,
            "ticks": "",
            "zerolinecolor": "white"
           },
           "zaxis": {
            "backgroundcolor": "#E5ECF6",
            "gridcolor": "white",
            "gridwidth": 2,
            "linecolor": "white",
            "showbackground": true,
            "ticks": "",
            "zerolinecolor": "white"
           }
          },
          "shapedefaults": {
           "line": {
            "color": "#2a3f5f"
           }
          },
          "ternary": {
           "aaxis": {
            "gridcolor": "white",
            "linecolor": "white",
            "ticks": ""
           },
           "baxis": {
            "gridcolor": "white",
            "linecolor": "white",
            "ticks": ""
           },
           "bgcolor": "#E5ECF6",
           "caxis": {
            "gridcolor": "white",
            "linecolor": "white",
            "ticks": ""
           }
          },
          "title": {
           "x": 0.05
          },
          "xaxis": {
           "automargin": true,
           "gridcolor": "white",
           "linecolor": "white",
           "ticks": "",
           "title": {
            "standoff": 15
           },
           "zerolinecolor": "white",
           "zerolinewidth": 2
          },
          "yaxis": {
           "automargin": true,
           "gridcolor": "white",
           "linecolor": "white",
           "ticks": "",
           "title": {
            "standoff": 15
           },
           "zerolinecolor": "white",
           "zerolinewidth": 2
          }
         }
        },
        "width": 1000,
        "xaxis": {
         "fixedrange": true,
         "gridcolor": "#1f292f",
         "rangeslider": {
          "visible": false
         },
         "showgrid": true
        },
        "yaxis": {
         "gridcolor": "#1f292f",
         "showgrid": true
        }
       }
      }
     },
     "metadata": {},
     "output_type": "display_data"
    }
   ],
   "source": [
    "fig = go.Figure()\n",
    "fig.add_trace(go.Candlestick(\n",
    "    x=df_plot.time, open=df_plot.mid_o, high=df_plot.mid_h, low=df_plot.mid_l, close=df_plot.mid_c,\n",
    "    line=dict(width=1), opacity=1,\n",
    "    increasing_fillcolor='#24A06B',\n",
    "    decreasing_fillcolor=\"#CC2E3C\",\n",
    "    increasing_line_color='#2EC886',  \n",
    "    decreasing_line_color='#FF3A4C'\n",
    "))\n",
    "for ma in ma_list:  \n",
    "    col = f\"MA_{ma}\"\n",
    "    fig.add_trace(go.Scatter(x=df_plot.time, \n",
    "        y=df_plot[col],\n",
    "        line=dict(width=2),\n",
    "        line_shape='spline',\n",
    "        name=col\n",
    "        ))\n",
    "fig.update_layout(width=1000,height=400,\n",
    "    margin=dict(l=10,r=10,b=10,t=10),\n",
    "    font=dict(size=10,color=\"#e1e1e1\"),\n",
    "    paper_bgcolor=\"#1e1e1e\",\n",
    "    plot_bgcolor=\"#1e1e1e\")\n",
    "fig.update_xaxes(\n",
    "    gridcolor=\"#1f292f\",\n",
    "    showgrid=True,fixedrange=True,rangeslider=dict(visible=False)\n",
    ")\n",
    "fig.update_yaxes(\n",
    "    gridcolor=\"#1f292f\",\n",
    "    showgrid=True\n",
    ")\n",
    "fig.show()"
   ]
  }
 ],
 "metadata": {
  "kernelspec": {
   "display_name": "venv",
   "language": "python",
   "name": "python3"
  },
  "language_info": {
   "codemirror_mode": {
    "name": "ipython",
    "version": 3
   },
   "file_extension": ".py",
   "mimetype": "text/x-python",
   "name": "python",
   "nbconvert_exporter": "python",
   "pygments_lexer": "ipython3",
   "version": "3.9.13"
  }
 },
 "nbformat": 4,
 "nbformat_minor": 2
}
