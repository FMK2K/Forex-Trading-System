{
 "cells": [
  {
   "cell_type": "code",
   "execution_count": 76,
   "metadata": {},
   "outputs": [],
   "source": [
    "import pandas as pd\n",
    "import utils\n",
    "import datetime as dt\n",
    "from dateutil.parser import *"
   ]
  },
  {
   "cell_type": "code",
   "execution_count": 77,
   "metadata": {},
   "outputs": [],
   "source": [
    "df_trades =  pd.read_pickle(\"USD_JPY_H4_trades.pkl\")"
   ]
  },
  {
   "cell_type": "code",
   "execution_count": 78,
   "metadata": {},
   "outputs": [],
   "source": [
    "pair = 'USD_JPY'"
   ]
  },
  {
   "cell_type": "code",
   "execution_count": 79,
   "metadata": {},
   "outputs": [],
   "source": [
    "df_raw = pd.read_pickle(utils.get_his_data_filename(pair, \"M5\"))"
   ]
  },
  {
   "cell_type": "code",
   "execution_count": 80,
   "metadata": {},
   "outputs": [
    {
     "data": {
      "text/plain": [
       "(416683, 14)"
      ]
     },
     "execution_count": 80,
     "metadata": {},
     "output_type": "execute_result"
    }
   ],
   "source": [
    "df_raw.shape"
   ]
  },
  {
   "cell_type": "code",
   "execution_count": 81,
   "metadata": {},
   "outputs": [],
   "source": [
    "non_cols = ['time', 'volume']\n",
    "mod_cols = [x for x in df_raw.columns if x not in non_cols]\n",
    "df_raw[mod_cols] = df_raw[mod_cols].apply(pd.to_numeric)"
   ]
  },
  {
   "cell_type": "code",
   "execution_count": 82,
   "metadata": {},
   "outputs": [],
   "source": [
    "df_trades[\"time\"] = [parse(x) for x in df_trades.time]\n",
    "df_raw[\"time\"] = [parse(x) for x in df_raw.time]"
   ]
  },
  {
   "cell_type": "code",
   "execution_count": 83,
   "metadata": {},
   "outputs": [],
   "source": [
    "#df_trades.head()\n",
    "df_trades['next'] = df_trades['time'].shift(-1)"
   ]
  },
  {
   "cell_type": "code",
   "execution_count": 84,
   "metadata": {},
   "outputs": [],
   "source": [
    "df_trades['trade_end'] = df_trades.next + dt.timedelta(hours=3, minutes=55)\n",
    "df_trades['trade_start'] = df_trades.time + dt.timedelta(hours=4)"
   ]
  },
  {
   "cell_type": "code",
   "execution_count": 85,
   "metadata": {},
   "outputs": [
    {
     "data": {
      "text/html": [
       "<div>\n",
       "<style scoped>\n",
       "    .dataframe tbody tr th:only-of-type {\n",
       "        vertical-align: middle;\n",
       "    }\n",
       "\n",
       "    .dataframe tbody tr th {\n",
       "        vertical-align: top;\n",
       "    }\n",
       "\n",
       "    .dataframe thead th {\n",
       "        text-align: right;\n",
       "    }\n",
       "</style>\n",
       "<table border=\"1\" class=\"dataframe\">\n",
       "  <thead>\n",
       "    <tr style=\"text-align: right;\">\n",
       "      <th></th>\n",
       "      <th>time</th>\n",
       "      <th>next</th>\n",
       "      <th>trade_start</th>\n",
       "      <th>trade_end</th>\n",
       "    </tr>\n",
       "  </thead>\n",
       "  <tbody>\n",
       "    <tr>\n",
       "      <th>2</th>\n",
       "      <td>2019-01-02 10:00:00+00:00</td>\n",
       "      <td>2019-01-03 02:00:00+00:00</td>\n",
       "      <td>2019-01-02 14:00:00+00:00</td>\n",
       "      <td>2019-01-03 05:55:00+00:00</td>\n",
       "    </tr>\n",
       "    <tr>\n",
       "      <th>6</th>\n",
       "      <td>2019-01-03 02:00:00+00:00</td>\n",
       "      <td>2019-01-03 18:00:00+00:00</td>\n",
       "      <td>2019-01-03 06:00:00+00:00</td>\n",
       "      <td>2019-01-03 21:55:00+00:00</td>\n",
       "    </tr>\n",
       "    <tr>\n",
       "      <th>10</th>\n",
       "      <td>2019-01-03 18:00:00+00:00</td>\n",
       "      <td>2019-01-03 22:00:00+00:00</td>\n",
       "      <td>2019-01-03 22:00:00+00:00</td>\n",
       "      <td>2019-01-04 01:55:00+00:00</td>\n",
       "    </tr>\n",
       "    <tr>\n",
       "      <th>11</th>\n",
       "      <td>2019-01-03 22:00:00+00:00</td>\n",
       "      <td>2019-01-04 06:00:00+00:00</td>\n",
       "      <td>2019-01-04 02:00:00+00:00</td>\n",
       "      <td>2019-01-04 09:55:00+00:00</td>\n",
       "    </tr>\n",
       "    <tr>\n",
       "      <th>13</th>\n",
       "      <td>2019-01-04 06:00:00+00:00</td>\n",
       "      <td>2019-01-04 18:00:00+00:00</td>\n",
       "      <td>2019-01-04 10:00:00+00:00</td>\n",
       "      <td>2019-01-04 21:55:00+00:00</td>\n",
       "    </tr>\n",
       "  </tbody>\n",
       "</table>\n",
       "</div>"
      ],
      "text/plain": [
       "                        time                      next  \\\n",
       "2  2019-01-02 10:00:00+00:00 2019-01-03 02:00:00+00:00   \n",
       "6  2019-01-03 02:00:00+00:00 2019-01-03 18:00:00+00:00   \n",
       "10 2019-01-03 18:00:00+00:00 2019-01-03 22:00:00+00:00   \n",
       "11 2019-01-03 22:00:00+00:00 2019-01-04 06:00:00+00:00   \n",
       "13 2019-01-04 06:00:00+00:00 2019-01-04 18:00:00+00:00   \n",
       "\n",
       "                 trade_start                 trade_end  \n",
       "2  2019-01-02 14:00:00+00:00 2019-01-03 05:55:00+00:00  \n",
       "6  2019-01-03 06:00:00+00:00 2019-01-03 21:55:00+00:00  \n",
       "10 2019-01-03 22:00:00+00:00 2019-01-04 01:55:00+00:00  \n",
       "11 2019-01-04 02:00:00+00:00 2019-01-04 09:55:00+00:00  \n",
       "13 2019-01-04 10:00:00+00:00 2019-01-04 21:55:00+00:00  "
      ]
     },
     "execution_count": 85,
     "metadata": {},
     "output_type": "execute_result"
    }
   ],
   "source": [
    "df_trades[['time', 'next', 'trade_start', 'trade_end']].head()"
   ]
  },
  {
   "cell_type": "code",
   "execution_count": 86,
   "metadata": {},
   "outputs": [],
   "source": [
    "df_trades.dropna(inplace=True)\n",
    "df_trades.reset_index(drop=True, inplace=True)"
   ]
  },
  {
   "cell_type": "code",
   "execution_count": 90,
   "metadata": {},
   "outputs": [],
   "source": [
    "def signal_text(signal):\n",
    "    if signal == 1:\n",
    "        return 'BUY'\n",
    "    elif signal == -1:\n",
    "        return 'SELL'\n",
    "    return 'NONE'\n",
    "\n",
    "def triggered(direction, current_price, signal_price):\n",
    "    if direction == 1 and current_price > signal_price:\n",
    "        return True\n",
    "    elif direction == -1 and current_price < signal_price:\n",
    "        return True\n",
    "    return False\n",
    "\n",
    "def end_hit_calc(direction, SL, price, start_price):\n",
    "    # STOP LOSS price @100, ENTRY PRICE @200, CURRENT PRICE @150, TAKEPROFIT $400\n",
    "    '''CHANGE IN PRICE WHEN HIT STOP LOSS = -100 = -1.0'''\n",
    "    #-50 CHANGE IN PRICE = -0.5\n",
    "\n",
    "    delta = price - start_price\n",
    "    full_delta = start_price - SL\n",
    "    fraction = abs(delta/full_delta)\n",
    "    \n",
    "    if direction == 1 and price>=start_price: \n",
    "        '''BUY'''\n",
    "        #we're winning\n",
    "        return fraction\n",
    "    elif direction == 1 and price<start_price: \n",
    "        '''BUY'''\n",
    "        #we're losing as we're below our start price\n",
    "        return -fraction\n",
    "    elif direction == -1 and price<=start_price: \n",
    "        '''SELL'''\n",
    "        #we're winning\n",
    "        return fraction\n",
    "    elif direction == -1 and price>start_price: \n",
    "        '''SELL'''\n",
    "        #we're losing \n",
    "        return -fraction\n",
    "\n",
    "def process_buy(start_index, TP, SL, prices, start_price):\n",
    "    for price in prices[start_index:]:\n",
    "        if price >= TP:\n",
    "            return 2.0\n",
    "        elif price <= SL:\n",
    "            return -1.0\n",
    "    return 0.0\n",
    "\n",
    "def process_sell(start_index, TP, SL, prices, start_price):\n",
    "    for price in prices[start_index:]:\n",
    "        if price <= TP:\n",
    "            return 2.0\n",
    "        elif price >= SL:\n",
    "            return -1.0\n",
    "    return 0.0\n",
    "\n",
    "def process_trade(start_index, direction, TP, SL, prices, start_price):\n",
    "    if direction == 1:\n",
    "        return process_buy(start_index, TP, SL, prices, start_price)\n",
    "    else:\n",
    "        return process_sell(start_index, TP, SL, prices, start_price)\n",
    "\n",
    "\n",
    "def process_m5(m5_df, row):\n",
    "    result = 0.0\n",
    "    for index, price in enumerate(m5_df.mid_c.values):\n",
    "        if triggered(row.SIGNAL, price, row.ENTRY) == True:\n",
    "            #print(f\"Signal at {index} {price:.2f} {row.ENTRY:.2f} {row.SIGNAL:.2f}\")\n",
    "            result = process_trade(index, row.SIGNAL, row.TAKEPROFIT, row.STOPLOSS, m5_df.mid_c.values, row.ENTRY)\n",
    "            break\n",
    "    return result"
   ]
  },
  {
   "cell_type": "code",
   "execution_count": 91,
   "metadata": {},
   "outputs": [
    {
     "name": "stdout",
     "output_type": "stream",
     "text": [
      "199.0\n"
     ]
    }
   ],
   "source": [
    "total = 0\n",
    "for index, row in df_trades.iterrows():\n",
    "    m5_data = df_raw[(df_raw.time >= row.time) & (df_raw.time <= row.trade_end)]\n",
    "   #CHECK\n",
    "    #print(f\"{row.time} {signal_test(row.SIGNAL)} {row.ENTRY:.2f} {m5_data.shape}\")\n",
    "    total += process_m5(m5_data, row)\n",
    "    #if index>20:\n",
    "    #    break\n",
    "print(total)"
   ]
  },
  {
   "cell_type": "code",
   "execution_count": null,
   "metadata": {},
   "outputs": [],
   "source": []
  },
  {
   "cell_type": "code",
   "execution_count": null,
   "metadata": {},
   "outputs": [],
   "source": []
  },
  {
   "cell_type": "code",
   "execution_count": null,
   "metadata": {},
   "outputs": [],
   "source": []
  },
  {
   "cell_type": "code",
   "execution_count": null,
   "metadata": {},
   "outputs": [],
   "source": []
  }
 ],
 "metadata": {
  "kernelspec": {
   "display_name": "venv",
   "language": "python",
   "name": "python3"
  },
  "language_info": {
   "codemirror_mode": {
    "name": "ipython",
    "version": 3
   },
   "file_extension": ".py",
   "mimetype": "text/x-python",
   "name": "python",
   "nbconvert_exporter": "python",
   "pygments_lexer": "ipython3",
   "version": "3.9.13"
  }
 },
 "nbformat": 4,
 "nbformat_minor": 2
}
