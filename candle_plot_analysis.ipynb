{
 "cells": [
  {
   "cell_type": "code",
   "execution_count": 1,
   "metadata": {},
   "outputs": [],
   "source": [
    "import pandas as pd\n",
    "import utils\n",
    "import plotly.graph_objects as go\n",
    "import instrument"
   ]
  },
  {
   "cell_type": "code",
   "execution_count": 2,
   "metadata": {},
   "outputs": [
    {
     "name": "stdout",
     "output_type": "stream",
     "text": [
      "NZD_HKD {'name': 'NZD_HKD', 'ins_type': 'CURRENCY', 'displayName': 'NZD/HKD', 'pipLocation': 0.0001, 'marginRate': '0.1'}\n",
      "CAD_SGD {'name': 'CAD_SGD', 'ins_type': 'CURRENCY', 'displayName': 'CAD/SGD', 'pipLocation': 0.0001, 'marginRate': '0.05'}\n",
      "AUD_NZD {'name': 'AUD_NZD', 'ins_type': 'CURRENCY', 'displayName': 'AUD/NZD', 'pipLocation': 0.0001, 'marginRate': '0.03'}\n",
      "CAD_CHF {'name': 'CAD_CHF', 'ins_type': 'CURRENCY', 'displayName': 'CAD/CHF', 'pipLocation': 0.0001, 'marginRate': '0.04'}\n",
      "GBP_USD {'name': 'GBP_USD', 'ins_type': 'CURRENCY', 'displayName': 'GBP/USD', 'pipLocation': 0.0001, 'marginRate': '0.05'}\n",
      "USD_MXN {'name': 'USD_MXN', 'ins_type': 'CURRENCY', 'displayName': 'USD/MXN', 'pipLocation': 0.0001, 'marginRate': '0.10'}\n",
      "AUD_CAD {'name': 'AUD_CAD', 'ins_type': 'CURRENCY', 'displayName': 'AUD/CAD', 'pipLocation': 0.0001, 'marginRate': '0.03'}\n",
      "EUR_DKK {'name': 'EUR_DKK', 'ins_type': 'CURRENCY', 'displayName': 'EUR/DKK', 'pipLocation': 0.0001, 'marginRate': '0.1'}\n",
      "EUR_CAD {'name': 'EUR_CAD', 'ins_type': 'CURRENCY', 'displayName': 'EUR/CAD', 'pipLocation': 0.0001, 'marginRate': '0.02'}\n",
      "USD_HUF {'name': 'USD_HUF', 'ins_type': 'CURRENCY', 'displayName': 'USD/HUF', 'pipLocation': 0.01, 'marginRate': '0.05'}\n",
      "USD_SEK {'name': 'USD_SEK', 'ins_type': 'CURRENCY', 'displayName': 'USD/SEK', 'pipLocation': 0.0001, 'marginRate': '0.03'}\n",
      "GBP_SGD {'name': 'GBP_SGD', 'ins_type': 'CURRENCY', 'displayName': 'GBP/SGD', 'pipLocation': 0.0001, 'marginRate': '0.05'}\n",
      "AUD_JPY {'name': 'AUD_JPY', 'ins_type': 'CURRENCY', 'displayName': 'AUD/JPY', 'pipLocation': 0.01, 'marginRate': '0.05'}\n",
      "ZAR_JPY {'name': 'ZAR_JPY', 'ins_type': 'CURRENCY', 'displayName': 'ZAR/JPY', 'pipLocation': 0.01, 'marginRate': '0.07'}\n",
      "SGD_JPY {'name': 'SGD_JPY', 'ins_type': 'CURRENCY', 'displayName': 'SGD/JPY', 'pipLocation': 0.01, 'marginRate': '0.05'}\n",
      "GBP_ZAR {'name': 'GBP_ZAR', 'ins_type': 'CURRENCY', 'displayName': 'GBP/ZAR', 'pipLocation': 0.0001, 'marginRate': '0.07'}\n",
      "USD_JPY {'name': 'USD_JPY', 'ins_type': 'CURRENCY', 'displayName': 'USD/JPY', 'pipLocation': 0.01, 'marginRate': '0.05'}\n",
      "EUR_TRY {'name': 'EUR_TRY', 'ins_type': 'CURRENCY', 'displayName': 'EUR/TRY', 'pipLocation': 0.0001, 'marginRate': '0.25'}\n",
      "EUR_JPY {'name': 'EUR_JPY', 'ins_type': 'CURRENCY', 'displayName': 'EUR/JPY', 'pipLocation': 0.01, 'marginRate': '0.05'}\n",
      "AUD_SGD {'name': 'AUD_SGD', 'ins_type': 'CURRENCY', 'displayName': 'AUD/SGD', 'pipLocation': 0.0001, 'marginRate': '0.05'}\n",
      "EUR_NZD {'name': 'EUR_NZD', 'ins_type': 'CURRENCY', 'displayName': 'EUR/NZD', 'pipLocation': 0.0001, 'marginRate': '0.03'}\n",
      "GBP_HKD {'name': 'GBP_HKD', 'ins_type': 'CURRENCY', 'displayName': 'GBP/HKD', 'pipLocation': 0.0001, 'marginRate': '0.1'}\n",
      "CHF_JPY {'name': 'CHF_JPY', 'ins_type': 'CURRENCY', 'displayName': 'CHF/JPY', 'pipLocation': 0.01, 'marginRate': '0.05'}\n",
      "EUR_HKD {'name': 'EUR_HKD', 'ins_type': 'CURRENCY', 'displayName': 'EUR/HKD', 'pipLocation': 0.0001, 'marginRate': '0.1'}\n",
      "GBP_CAD {'name': 'GBP_CAD', 'ins_type': 'CURRENCY', 'displayName': 'GBP/CAD', 'pipLocation': 0.0001, 'marginRate': '0.05'}\n",
      "USD_THB {'name': 'USD_THB', 'ins_type': 'CURRENCY', 'displayName': 'USD/THB', 'pipLocation': 0.01, 'marginRate': '0.05'}\n",
      "GBP_CHF {'name': 'GBP_CHF', 'ins_type': 'CURRENCY', 'displayName': 'GBP/CHF', 'pipLocation': 0.0001, 'marginRate': '0.05'}\n",
      "AUD_CHF {'name': 'AUD_CHF', 'ins_type': 'CURRENCY', 'displayName': 'AUD/CHF', 'pipLocation': 0.0001, 'marginRate': '0.04'}\n",
      "NZD_CHF {'name': 'NZD_CHF', 'ins_type': 'CURRENCY', 'displayName': 'NZD/CHF', 'pipLocation': 0.0001, 'marginRate': '0.04'}\n",
      "AUD_HKD {'name': 'AUD_HKD', 'ins_type': 'CURRENCY', 'displayName': 'AUD/HKD', 'pipLocation': 0.0001, 'marginRate': '0.1'}\n",
      "USD_CHF {'name': 'USD_CHF', 'ins_type': 'CURRENCY', 'displayName': 'USD/CHF', 'pipLocation': 0.0001, 'marginRate': '0.04'}\n",
      "CAD_HKD {'name': 'CAD_HKD', 'ins_type': 'CURRENCY', 'displayName': 'CAD/HKD', 'pipLocation': 0.0001, 'marginRate': '0.1'}\n",
      "EUR_PLN {'name': 'EUR_PLN', 'ins_type': 'CURRENCY', 'displayName': 'EUR/PLN', 'pipLocation': 0.0001, 'marginRate': '0.05'}\n",
      "HKD_JPY {'name': 'HKD_JPY', 'ins_type': 'CURRENCY', 'displayName': 'HKD/JPY', 'pipLocation': 0.0001, 'marginRate': '0.1'}\n",
      "EUR_HUF {'name': 'EUR_HUF', 'ins_type': 'CURRENCY', 'displayName': 'EUR/HUF', 'pipLocation': 0.01, 'marginRate': '0.05'}\n",
      "GBP_PLN {'name': 'GBP_PLN', 'ins_type': 'CURRENCY', 'displayName': 'GBP/PLN', 'pipLocation': 0.0001, 'marginRate': '0.05'}\n",
      "USD_SGD {'name': 'USD_SGD', 'ins_type': 'CURRENCY', 'displayName': 'USD/SGD', 'pipLocation': 0.0001, 'marginRate': '0.05'}\n",
      "EUR_SEK {'name': 'EUR_SEK', 'ins_type': 'CURRENCY', 'displayName': 'EUR/SEK', 'pipLocation': 0.0001, 'marginRate': '0.03'}\n",
      "GBP_NZD {'name': 'GBP_NZD', 'ins_type': 'CURRENCY', 'displayName': 'GBP/NZD', 'pipLocation': 0.0001, 'marginRate': '0.05'}\n",
      "USD_CZK {'name': 'USD_CZK', 'ins_type': 'CURRENCY', 'displayName': 'USD/CZK', 'pipLocation': 0.0001, 'marginRate': '0.05'}\n",
      "EUR_NOK {'name': 'EUR_NOK', 'ins_type': 'CURRENCY', 'displayName': 'EUR/NOK', 'pipLocation': 0.0001, 'marginRate': '0.07'}\n",
      "EUR_GBP {'name': 'EUR_GBP', 'ins_type': 'CURRENCY', 'displayName': 'EUR/GBP', 'pipLocation': 0.0001, 'marginRate': '0.05'}\n",
      "CHF_HKD {'name': 'CHF_HKD', 'ins_type': 'CURRENCY', 'displayName': 'CHF/HKD', 'pipLocation': 0.0001, 'marginRate': '0.1'}\n",
      "NZD_JPY {'name': 'NZD_JPY', 'ins_type': 'CURRENCY', 'displayName': 'NZD/JPY', 'pipLocation': 0.01, 'marginRate': '0.05'}\n",
      "EUR_CZK {'name': 'EUR_CZK', 'ins_type': 'CURRENCY', 'displayName': 'EUR/CZK', 'pipLocation': 0.0001, 'marginRate': '0.05'}\n",
      "SGD_CHF {'name': 'SGD_CHF', 'ins_type': 'CURRENCY', 'displayName': 'SGD/CHF', 'pipLocation': 0.0001, 'marginRate': '0.05'}\n",
      "EUR_CHF {'name': 'EUR_CHF', 'ins_type': 'CURRENCY', 'displayName': 'EUR/CHF', 'pipLocation': 0.0001, 'marginRate': '0.04'}\n",
      "NZD_CAD {'name': 'NZD_CAD', 'ins_type': 'CURRENCY', 'displayName': 'NZD/CAD', 'pipLocation': 0.0001, 'marginRate': '0.03'}\n",
      "USD_CNH {'name': 'USD_CNH', 'ins_type': 'CURRENCY', 'displayName': 'USD/CNH', 'pipLocation': 0.0001, 'marginRate': '0.05'}\n",
      "USD_TRY {'name': 'USD_TRY', 'ins_type': 'CURRENCY', 'displayName': 'USD/TRY', 'pipLocation': 0.0001, 'marginRate': '0.25'}\n",
      "GBP_JPY {'name': 'GBP_JPY', 'ins_type': 'CURRENCY', 'displayName': 'GBP/JPY', 'pipLocation': 0.01, 'marginRate': '0.05'}\n",
      "EUR_SGD {'name': 'EUR_SGD', 'ins_type': 'CURRENCY', 'displayName': 'EUR/SGD', 'pipLocation': 0.0001, 'marginRate': '0.05'}\n",
      "AUD_USD {'name': 'AUD_USD', 'ins_type': 'CURRENCY', 'displayName': 'AUD/USD', 'pipLocation': 0.0001, 'marginRate': '0.03'}\n",
      "USD_NOK {'name': 'USD_NOK', 'ins_type': 'CURRENCY', 'displayName': 'USD/NOK', 'pipLocation': 0.0001, 'marginRate': '0.07'}\n",
      "NZD_SGD {'name': 'NZD_SGD', 'ins_type': 'CURRENCY', 'displayName': 'NZD/SGD', 'pipLocation': 0.0001, 'marginRate': '0.05'}\n",
      "USD_CAD {'name': 'USD_CAD', 'ins_type': 'CURRENCY', 'displayName': 'USD/CAD', 'pipLocation': 0.0001, 'marginRate': '0.02'}\n",
      "EUR_AUD {'name': 'EUR_AUD', 'ins_type': 'CURRENCY', 'displayName': 'EUR/AUD', 'pipLocation': 0.0001, 'marginRate': '0.03'}\n",
      "TRY_JPY {'name': 'TRY_JPY', 'ins_type': 'CURRENCY', 'displayName': 'TRY/JPY', 'pipLocation': 0.01, 'marginRate': '0.25'}\n",
      "CAD_JPY {'name': 'CAD_JPY', 'ins_type': 'CURRENCY', 'displayName': 'CAD/JPY', 'pipLocation': 0.01, 'marginRate': '0.05'}\n",
      "USD_ZAR {'name': 'USD_ZAR', 'ins_type': 'CURRENCY', 'displayName': 'USD/ZAR', 'pipLocation': 0.0001, 'marginRate': '0.07'}\n",
      "USD_DKK {'name': 'USD_DKK', 'ins_type': 'CURRENCY', 'displayName': 'USD/DKK', 'pipLocation': 0.0001, 'marginRate': '0.02'}\n",
      "EUR_ZAR {'name': 'EUR_ZAR', 'ins_type': 'CURRENCY', 'displayName': 'EUR/ZAR', 'pipLocation': 0.0001, 'marginRate': '0.07'}\n",
      "USD_PLN {'name': 'USD_PLN', 'ins_type': 'CURRENCY', 'displayName': 'USD/PLN', 'pipLocation': 0.0001, 'marginRate': '0.05'}\n",
      "GBP_AUD {'name': 'GBP_AUD', 'ins_type': 'CURRENCY', 'displayName': 'GBP/AUD', 'pipLocation': 0.0001, 'marginRate': '0.05'}\n",
      "NZD_USD {'name': 'NZD_USD', 'ins_type': 'CURRENCY', 'displayName': 'NZD/USD', 'pipLocation': 0.0001, 'marginRate': '0.03'}\n",
      "USD_HKD {'name': 'USD_HKD', 'ins_type': 'CURRENCY', 'displayName': 'USD/HKD', 'pipLocation': 0.0001, 'marginRate': '0.1'}\n",
      "CHF_ZAR {'name': 'CHF_ZAR', 'ins_type': 'CURRENCY', 'displayName': 'CHF/ZAR', 'pipLocation': 0.0001, 'marginRate': '0.07'}\n",
      "EUR_USD {'name': 'EUR_USD', 'ins_type': 'CURRENCY', 'displayName': 'EUR/USD', 'pipLocation': 0.0001, 'marginRate': '0.02'}\n"
     ]
    }
   ],
   "source": [
    "#instruments dictionary test\n",
    "instrument_dict = instrument.Instrument.get_instruments_dict()\n",
    "for k, v in instrument_dict.items():\n",
    "    print(k, v)\n"
   ]
  },
  {
   "cell_type": "code",
   "execution_count": 9,
   "metadata": {},
   "outputs": [],
   "source": [
    "pair = 'EUR_GBP'\n",
    "granularity = 'H1'\n",
    "#ma_list = [8,16,32,64,128,256]\n",
    "ma_list = [16,64]\n",
    "i_pair = instrument.Instrument.get_instrument_by_name(pair)\n"
   ]
  },
  {
   "cell_type": "code",
   "execution_count": 10,
   "metadata": {},
   "outputs": [],
   "source": [
    "df = pd.read_pickle(utils.get_his_data_filename(pair, granularity))"
   ]
  },
  {
   "cell_type": "code",
   "execution_count": 11,
   "metadata": {},
   "outputs": [],
   "source": [
    "non_cols = ['time', 'volume']\n",
    "mod_cols = [x for x in df.columns if x not in non_cols]"
   ]
  },
  {
   "cell_type": "code",
   "execution_count": 12,
   "metadata": {},
   "outputs": [],
   "source": [
    "#to convert the data that isnt our time or vol into ints/floats\n",
    "df[mod_cols] = df[mod_cols].apply(pd.to_numeric)"
   ]
  },
  {
   "cell_type": "code",
   "execution_count": 13,
   "metadata": {},
   "outputs": [
    {
     "data": {
      "text/html": [
       "<div>\n",
       "<style scoped>\n",
       "    .dataframe tbody tr th:only-of-type {\n",
       "        vertical-align: middle;\n",
       "    }\n",
       "\n",
       "    .dataframe tbody tr th {\n",
       "        vertical-align: top;\n",
       "    }\n",
       "\n",
       "    .dataframe thead th {\n",
       "        text-align: right;\n",
       "    }\n",
       "</style>\n",
       "<table border=\"1\" class=\"dataframe\">\n",
       "  <thead>\n",
       "    <tr style=\"text-align: right;\">\n",
       "      <th></th>\n",
       "      <th>time</th>\n",
       "      <th>volume</th>\n",
       "      <th>mid_o</th>\n",
       "      <th>mid_h</th>\n",
       "      <th>mid_l</th>\n",
       "      <th>mid_c</th>\n",
       "      <th>bid_o</th>\n",
       "      <th>bid_h</th>\n",
       "      <th>bid_l</th>\n",
       "      <th>bid_c</th>\n",
       "      <th>ask_o</th>\n",
       "      <th>ask_h</th>\n",
       "      <th>ask_l</th>\n",
       "      <th>ask_c</th>\n",
       "    </tr>\n",
       "  </thead>\n",
       "  <tbody>\n",
       "    <tr>\n",
       "      <th>0</th>\n",
       "      <td>2023-10-20T07:00:00.000000000Z</td>\n",
       "      <td>2205</td>\n",
       "      <td>0.87320</td>\n",
       "      <td>0.87341</td>\n",
       "      <td>0.87258</td>\n",
       "      <td>0.87334</td>\n",
       "      <td>0.87314</td>\n",
       "      <td>0.87335</td>\n",
       "      <td>0.87251</td>\n",
       "      <td>0.87327</td>\n",
       "      <td>0.87327</td>\n",
       "      <td>0.87348</td>\n",
       "      <td>0.87265</td>\n",
       "      <td>0.87340</td>\n",
       "    </tr>\n",
       "    <tr>\n",
       "      <th>1</th>\n",
       "      <td>2023-10-20T08:00:00.000000000Z</td>\n",
       "      <td>2547</td>\n",
       "      <td>0.87334</td>\n",
       "      <td>0.87406</td>\n",
       "      <td>0.87321</td>\n",
       "      <td>0.87329</td>\n",
       "      <td>0.87327</td>\n",
       "      <td>0.87400</td>\n",
       "      <td>0.87315</td>\n",
       "      <td>0.87322</td>\n",
       "      <td>0.87341</td>\n",
       "      <td>0.87412</td>\n",
       "      <td>0.87327</td>\n",
       "      <td>0.87336</td>\n",
       "    </tr>\n",
       "    <tr>\n",
       "      <th>2</th>\n",
       "      <td>2023-10-20T09:00:00.000000000Z</td>\n",
       "      <td>1450</td>\n",
       "      <td>0.87332</td>\n",
       "      <td>0.87380</td>\n",
       "      <td>0.87279</td>\n",
       "      <td>0.87333</td>\n",
       "      <td>0.87325</td>\n",
       "      <td>0.87374</td>\n",
       "      <td>0.87273</td>\n",
       "      <td>0.87327</td>\n",
       "      <td>0.87340</td>\n",
       "      <td>0.87387</td>\n",
       "      <td>0.87285</td>\n",
       "      <td>0.87339</td>\n",
       "    </tr>\n",
       "    <tr>\n",
       "      <th>3</th>\n",
       "      <td>2023-10-20T10:00:00.000000000Z</td>\n",
       "      <td>1750</td>\n",
       "      <td>0.87332</td>\n",
       "      <td>0.87351</td>\n",
       "      <td>0.87274</td>\n",
       "      <td>0.87315</td>\n",
       "      <td>0.87325</td>\n",
       "      <td>0.87344</td>\n",
       "      <td>0.87267</td>\n",
       "      <td>0.87309</td>\n",
       "      <td>0.87338</td>\n",
       "      <td>0.87358</td>\n",
       "      <td>0.87282</td>\n",
       "      <td>0.87321</td>\n",
       "    </tr>\n",
       "    <tr>\n",
       "      <th>4</th>\n",
       "      <td>2023-10-20T11:00:00.000000000Z</td>\n",
       "      <td>2034</td>\n",
       "      <td>0.87316</td>\n",
       "      <td>0.87322</td>\n",
       "      <td>0.87217</td>\n",
       "      <td>0.87236</td>\n",
       "      <td>0.87309</td>\n",
       "      <td>0.87315</td>\n",
       "      <td>0.87210</td>\n",
       "      <td>0.87229</td>\n",
       "      <td>0.87323</td>\n",
       "      <td>0.87329</td>\n",
       "      <td>0.87224</td>\n",
       "      <td>0.87242</td>\n",
       "    </tr>\n",
       "  </tbody>\n",
       "</table>\n",
       "</div>"
      ],
      "text/plain": [
       "                             time  volume    mid_o    mid_h    mid_l    mid_c  \\\n",
       "0  2023-10-20T07:00:00.000000000Z    2205  0.87320  0.87341  0.87258  0.87334   \n",
       "1  2023-10-20T08:00:00.000000000Z    2547  0.87334  0.87406  0.87321  0.87329   \n",
       "2  2023-10-20T09:00:00.000000000Z    1450  0.87332  0.87380  0.87279  0.87333   \n",
       "3  2023-10-20T10:00:00.000000000Z    1750  0.87332  0.87351  0.87274  0.87315   \n",
       "4  2023-10-20T11:00:00.000000000Z    2034  0.87316  0.87322  0.87217  0.87236   \n",
       "\n",
       "     bid_o    bid_h    bid_l    bid_c    ask_o    ask_h    ask_l    ask_c  \n",
       "0  0.87314  0.87335  0.87251  0.87327  0.87327  0.87348  0.87265  0.87340  \n",
       "1  0.87327  0.87400  0.87315  0.87322  0.87341  0.87412  0.87327  0.87336  \n",
       "2  0.87325  0.87374  0.87273  0.87327  0.87340  0.87387  0.87285  0.87339  \n",
       "3  0.87325  0.87344  0.87267  0.87309  0.87338  0.87358  0.87282  0.87321  \n",
       "4  0.87309  0.87315  0.87210  0.87229  0.87323  0.87329  0.87224  0.87242  "
      ]
     },
     "execution_count": 13,
     "metadata": {},
     "output_type": "execute_result"
    }
   ],
   "source": [
    "df.head()"
   ]
  },
  {
   "cell_type": "code",
   "execution_count": null,
   "metadata": {},
   "outputs": [
    {
     "data": {
      "text/plain": [
       "(100, 14)"
      ]
     },
     "execution_count": 53,
     "metadata": {},
     "output_type": "execute_result"
    }
   ],
   "source": [
    "df_plot = df.iloc[-100:].copy()#take the last 100\n",
    "df_plot.shape"
   ]
  },
  {
   "cell_type": "code",
   "execution_count": null,
   "metadata": {},
   "outputs": [
    {
     "data": {
      "application/vnd.plotly.v1+json": {
       "config": {
        "plotlyServerURL": "https://plot.ly"
       },
       "data": [
        {
         "close": [
          1.48846,
          1.48854,
          1.48876,
          1.48874,
          1.48834,
          1.48923,
          1.48949,
          1.48908,
          1.48883,
          1.4887,
          1.48886,
          1.4894,
          1.49002,
          1.49026,
          1.49031,
          1.49011,
          1.48642,
          1.48526,
          1.48557,
          1.4858,
          1.48518,
          1.4857,
          1.48524,
          1.48591,
          1.48702,
          1.4828,
          1.48312,
          1.48304,
          1.4834,
          1.48281,
          1.48212,
          1.48114,
          1.48047,
          1.4799,
          1.48022,
          1.48166,
          1.48198,
          1.48024,
          1.47918,
          1.48048,
          1.47898,
          1.4794,
          1.47864,
          1.47874,
          1.48015,
          1.48044,
          1.48088,
          1.48113,
          1.48106,
          1.48101,
          1.48134,
          1.48114,
          1.48144,
          1.48197,
          1.48251,
          1.48244,
          1.48232,
          1.48136,
          1.48184,
          1.48138,
          1.47938,
          1.48088,
          1.47906,
          1.47845,
          1.47814,
          1.4781,
          1.47685,
          1.47746,
          1.47758,
          1.47804,
          1.47756,
          1.47721,
          1.47762,
          1.47779,
          1.4775,
          1.47728,
          1.47724,
          1.47679,
          1.47686,
          1.47679,
          1.47662,
          1.47714,
          1.47721,
          1.47688,
          1.47766,
          1.47814,
          1.479,
          1.4793,
          1.48222,
          1.48312,
          1.48508,
          1.48454,
          1.48395,
          1.48544,
          1.48298,
          1.48333,
          1.48338,
          1.48328,
          1.48332,
          1.48364
         ],
         "high": [
          1.48903,
          1.48898,
          1.48883,
          1.4889,
          1.48873,
          1.4893,
          1.48956,
          1.48964,
          1.48912,
          1.48905,
          1.48934,
          1.48976,
          1.49004,
          1.49081,
          1.49064,
          1.49076,
          1.49113,
          1.48648,
          1.48592,
          1.48662,
          1.48666,
          1.48578,
          1.48602,
          1.48604,
          1.4871,
          1.48359,
          1.48386,
          1.48344,
          1.48374,
          1.48378,
          1.48288,
          1.48216,
          1.48114,
          1.48062,
          1.4808,
          1.48204,
          1.48275,
          1.48205,
          1.4804,
          1.48065,
          1.48086,
          1.48028,
          1.47954,
          1.47908,
          1.48076,
          1.48099,
          1.48092,
          1.48147,
          1.48124,
          1.4812,
          1.48136,
          1.4815,
          1.48152,
          1.4821,
          1.48256,
          1.48258,
          1.4826,
          1.48234,
          1.48227,
          1.4824,
          1.48155,
          1.48121,
          1.48137,
          1.47978,
          1.47862,
          1.47925,
          1.4785,
          1.4778,
          1.47857,
          1.4783,
          1.47811,
          1.47812,
          1.47774,
          1.47808,
          1.47786,
          1.47762,
          1.4773,
          1.47734,
          1.47722,
          1.47701,
          1.47685,
          1.47718,
          1.47738,
          1.47746,
          1.47838,
          1.47838,
          1.47904,
          1.4795,
          1.48324,
          1.48342,
          1.4851,
          1.48592,
          1.48496,
          1.48544,
          1.48628,
          1.48436,
          1.48354,
          1.48374,
          1.48384,
          1.48398
         ],
         "line": {
          "width": 1
         },
         "low": [
          1.48832,
          1.48798,
          1.48842,
          1.48864,
          1.48821,
          1.4882,
          1.4892,
          1.48906,
          1.48883,
          1.48859,
          1.48824,
          1.48879,
          1.48886,
          1.4898,
          1.49004,
          1.4898,
          1.48596,
          1.48441,
          1.48452,
          1.4855,
          1.48514,
          1.48512,
          1.48512,
          1.4851,
          1.4859,
          1.48144,
          1.48209,
          1.48279,
          1.48282,
          1.48276,
          1.48206,
          1.48109,
          1.48013,
          1.4796,
          1.47898,
          1.47972,
          1.48166,
          1.4801,
          1.47863,
          1.47914,
          1.47886,
          1.4788,
          1.47864,
          1.47818,
          1.47869,
          1.47994,
          1.48008,
          1.48084,
          1.48081,
          1.48018,
          1.48088,
          1.48105,
          1.4811,
          1.48126,
          1.48197,
          1.48224,
          1.48222,
          1.48127,
          1.4813,
          1.48132,
          1.47934,
          1.47912,
          1.47874,
          1.4779,
          1.47742,
          1.47683,
          1.47632,
          1.4767,
          1.47744,
          1.47751,
          1.47733,
          1.47721,
          1.47712,
          1.47744,
          1.47739,
          1.47712,
          1.47676,
          1.47676,
          1.47672,
          1.47674,
          1.47646,
          1.47647,
          1.47653,
          1.47637,
          1.47687,
          1.47728,
          1.47798,
          1.47875,
          1.47866,
          1.48136,
          1.48141,
          1.48454,
          1.48384,
          1.4839,
          1.48298,
          1.48298,
          1.48286,
          1.48238,
          1.4832,
          1.48326
         ],
         "opacity": 1,
         "open": [
          1.48854,
          1.4885,
          1.48855,
          1.48878,
          1.48873,
          1.48829,
          1.48924,
          1.48949,
          1.48907,
          1.48884,
          1.4887,
          1.48888,
          1.4894,
          1.49,
          1.49026,
          1.49032,
          1.4901,
          1.48642,
          1.48528,
          1.48558,
          1.48584,
          1.48517,
          1.48569,
          1.48522,
          1.48592,
          1.48219,
          1.48285,
          1.4832,
          1.48306,
          1.48346,
          1.48282,
          1.48212,
          1.48114,
          1.48048,
          1.47987,
          1.48022,
          1.4817,
          1.482,
          1.48024,
          1.47919,
          1.48052,
          1.47896,
          1.47942,
          1.47866,
          1.47872,
          1.48018,
          1.48042,
          1.48086,
          1.48112,
          1.48096,
          1.48102,
          1.48136,
          1.4811,
          1.48144,
          1.48198,
          1.48252,
          1.48246,
          1.48232,
          1.48135,
          1.48184,
          1.48139,
          1.47938,
          1.48087,
          1.4791,
          1.47848,
          1.47812,
          1.47812,
          1.47682,
          1.47746,
          1.47758,
          1.47802,
          1.47756,
          1.47722,
          1.47748,
          1.47784,
          1.4775,
          1.47726,
          1.47724,
          1.47678,
          1.47684,
          1.47678,
          1.47658,
          1.47716,
          1.4772,
          1.47689,
          1.47768,
          1.47816,
          1.47903,
          1.47931,
          1.48221,
          1.48312,
          1.48508,
          1.48455,
          1.48394,
          1.4857,
          1.48302,
          1.48332,
          1.48306,
          1.48327,
          1.48332
         ],
         "type": "candlestick",
         "x": [
          "2024-06-06T20:00:00.000000000Z",
          "2024-06-06T21:00:00.000000000Z",
          "2024-06-06T22:00:00.000000000Z",
          "2024-06-06T23:00:00.000000000Z",
          "2024-06-07T00:00:00.000000000Z",
          "2024-06-07T01:00:00.000000000Z",
          "2024-06-07T02:00:00.000000000Z",
          "2024-06-07T03:00:00.000000000Z",
          "2024-06-07T04:00:00.000000000Z",
          "2024-06-07T05:00:00.000000000Z",
          "2024-06-07T06:00:00.000000000Z",
          "2024-06-07T07:00:00.000000000Z",
          "2024-06-07T08:00:00.000000000Z",
          "2024-06-07T09:00:00.000000000Z",
          "2024-06-07T10:00:00.000000000Z",
          "2024-06-07T11:00:00.000000000Z",
          "2024-06-07T12:00:00.000000000Z",
          "2024-06-07T13:00:00.000000000Z",
          "2024-06-07T14:00:00.000000000Z",
          "2024-06-07T15:00:00.000000000Z",
          "2024-06-07T16:00:00.000000000Z",
          "2024-06-07T17:00:00.000000000Z",
          "2024-06-07T18:00:00.000000000Z",
          "2024-06-07T19:00:00.000000000Z",
          "2024-06-07T20:00:00.000000000Z",
          "2024-06-09T21:00:00.000000000Z",
          "2024-06-09T22:00:00.000000000Z",
          "2024-06-09T23:00:00.000000000Z",
          "2024-06-10T00:00:00.000000000Z",
          "2024-06-10T01:00:00.000000000Z",
          "2024-06-10T02:00:00.000000000Z",
          "2024-06-10T03:00:00.000000000Z",
          "2024-06-10T04:00:00.000000000Z",
          "2024-06-10T05:00:00.000000000Z",
          "2024-06-10T06:00:00.000000000Z",
          "2024-06-10T07:00:00.000000000Z",
          "2024-06-10T08:00:00.000000000Z",
          "2024-06-10T09:00:00.000000000Z",
          "2024-06-10T10:00:00.000000000Z",
          "2024-06-10T11:00:00.000000000Z",
          "2024-06-10T12:00:00.000000000Z",
          "2024-06-10T13:00:00.000000000Z",
          "2024-06-10T14:00:00.000000000Z",
          "2024-06-10T15:00:00.000000000Z",
          "2024-06-10T16:00:00.000000000Z",
          "2024-06-10T17:00:00.000000000Z",
          "2024-06-10T18:00:00.000000000Z",
          "2024-06-10T19:00:00.000000000Z",
          "2024-06-10T20:00:00.000000000Z",
          "2024-06-10T21:00:00.000000000Z",
          "2024-06-10T22:00:00.000000000Z",
          "2024-06-10T23:00:00.000000000Z",
          "2024-06-11T00:00:00.000000000Z",
          "2024-06-11T01:00:00.000000000Z",
          "2024-06-11T02:00:00.000000000Z",
          "2024-06-11T03:00:00.000000000Z",
          "2024-06-11T04:00:00.000000000Z",
          "2024-06-11T05:00:00.000000000Z",
          "2024-06-11T06:00:00.000000000Z",
          "2024-06-11T07:00:00.000000000Z",
          "2024-06-11T08:00:00.000000000Z",
          "2024-06-11T09:00:00.000000000Z",
          "2024-06-11T10:00:00.000000000Z",
          "2024-06-11T11:00:00.000000000Z",
          "2024-06-11T12:00:00.000000000Z",
          "2024-06-11T13:00:00.000000000Z",
          "2024-06-11T14:00:00.000000000Z",
          "2024-06-11T15:00:00.000000000Z",
          "2024-06-11T16:00:00.000000000Z",
          "2024-06-11T17:00:00.000000000Z",
          "2024-06-11T18:00:00.000000000Z",
          "2024-06-11T19:00:00.000000000Z",
          "2024-06-11T20:00:00.000000000Z",
          "2024-06-11T21:00:00.000000000Z",
          "2024-06-11T22:00:00.000000000Z",
          "2024-06-11T23:00:00.000000000Z",
          "2024-06-12T00:00:00.000000000Z",
          "2024-06-12T01:00:00.000000000Z",
          "2024-06-12T02:00:00.000000000Z",
          "2024-06-12T03:00:00.000000000Z",
          "2024-06-12T04:00:00.000000000Z",
          "2024-06-12T05:00:00.000000000Z",
          "2024-06-12T06:00:00.000000000Z",
          "2024-06-12T07:00:00.000000000Z",
          "2024-06-12T08:00:00.000000000Z",
          "2024-06-12T09:00:00.000000000Z",
          "2024-06-12T10:00:00.000000000Z",
          "2024-06-12T11:00:00.000000000Z",
          "2024-06-12T12:00:00.000000000Z",
          "2024-06-12T13:00:00.000000000Z",
          "2024-06-12T14:00:00.000000000Z",
          "2024-06-12T15:00:00.000000000Z",
          "2024-06-12T16:00:00.000000000Z",
          "2024-06-12T17:00:00.000000000Z",
          "2024-06-12T18:00:00.000000000Z",
          "2024-06-12T19:00:00.000000000Z",
          "2024-06-12T20:00:00.000000000Z",
          "2024-06-12T21:00:00.000000000Z",
          "2024-06-12T22:00:00.000000000Z",
          "2024-06-12T23:00:00.000000000Z"
         ]
        }
       ],
       "layout": {
        "font": {
         "color": "#e1e1e1",
         "size": 10
        },
        "height": 300,
        "margin": {
         "b": 10,
         "l": 10,
         "r": 10,
         "t": 10
        },
        "paper_bgcolor": "#0d1117",
        "plot_bgcolor": "#0d1117",
        "template": {
         "data": {
          "bar": [
           {
            "error_x": {
             "color": "#2a3f5f"
            },
            "error_y": {
             "color": "#2a3f5f"
            },
            "marker": {
             "line": {
              "color": "#E5ECF6",
              "width": 0.5
             },
             "pattern": {
              "fillmode": "overlay",
              "size": 10,
              "solidity": 0.2
             }
            },
            "type": "bar"
           }
          ],
          "barpolar": [
           {
            "marker": {
             "line": {
              "color": "#E5ECF6",
              "width": 0.5
             },
             "pattern": {
              "fillmode": "overlay",
              "size": 10,
              "solidity": 0.2
             }
            },
            "type": "barpolar"
           }
          ],
          "carpet": [
           {
            "aaxis": {
             "endlinecolor": "#2a3f5f",
             "gridcolor": "white",
             "linecolor": "white",
             "minorgridcolor": "white",
             "startlinecolor": "#2a3f5f"
            },
            "baxis": {
             "endlinecolor": "#2a3f5f",
             "gridcolor": "white",
             "linecolor": "white",
             "minorgridcolor": "white",
             "startlinecolor": "#2a3f5f"
            },
            "type": "carpet"
           }
          ],
          "choropleth": [
           {
            "colorbar": {
             "outlinewidth": 0,
             "ticks": ""
            },
            "type": "choropleth"
           }
          ],
          "contour": [
           {
            "colorbar": {
             "outlinewidth": 0,
             "ticks": ""
            },
            "colorscale": [
             [
              0,
              "#0d0887"
             ],
             [
              0.1111111111111111,
              "#46039f"
             ],
             [
              0.2222222222222222,
              "#7201a8"
             ],
             [
              0.3333333333333333,
              "#9c179e"
             ],
             [
              0.4444444444444444,
              "#bd3786"
             ],
             [
              0.5555555555555556,
              "#d8576b"
             ],
             [
              0.6666666666666666,
              "#ed7953"
             ],
             [
              0.7777777777777778,
              "#fb9f3a"
             ],
             [
              0.8888888888888888,
              "#fdca26"
             ],
             [
              1,
              "#f0f921"
             ]
            ],
            "type": "contour"
           }
          ],
          "contourcarpet": [
           {
            "colorbar": {
             "outlinewidth": 0,
             "ticks": ""
            },
            "type": "contourcarpet"
           }
          ],
          "heatmap": [
           {
            "colorbar": {
             "outlinewidth": 0,
             "ticks": ""
            },
            "colorscale": [
             [
              0,
              "#0d0887"
             ],
             [
              0.1111111111111111,
              "#46039f"
             ],
             [
              0.2222222222222222,
              "#7201a8"
             ],
             [
              0.3333333333333333,
              "#9c179e"
             ],
             [
              0.4444444444444444,
              "#bd3786"
             ],
             [
              0.5555555555555556,
              "#d8576b"
             ],
             [
              0.6666666666666666,
              "#ed7953"
             ],
             [
              0.7777777777777778,
              "#fb9f3a"
             ],
             [
              0.8888888888888888,
              "#fdca26"
             ],
             [
              1,
              "#f0f921"
             ]
            ],
            "type": "heatmap"
           }
          ],
          "heatmapgl": [
           {
            "colorbar": {
             "outlinewidth": 0,
             "ticks": ""
            },
            "colorscale": [
             [
              0,
              "#0d0887"
             ],
             [
              0.1111111111111111,
              "#46039f"
             ],
             [
              0.2222222222222222,
              "#7201a8"
             ],
             [
              0.3333333333333333,
              "#9c179e"
             ],
             [
              0.4444444444444444,
              "#bd3786"
             ],
             [
              0.5555555555555556,
              "#d8576b"
             ],
             [
              0.6666666666666666,
              "#ed7953"
             ],
             [
              0.7777777777777778,
              "#fb9f3a"
             ],
             [
              0.8888888888888888,
              "#fdca26"
             ],
             [
              1,
              "#f0f921"
             ]
            ],
            "type": "heatmapgl"
           }
          ],
          "histogram": [
           {
            "marker": {
             "pattern": {
              "fillmode": "overlay",
              "size": 10,
              "solidity": 0.2
             }
            },
            "type": "histogram"
           }
          ],
          "histogram2d": [
           {
            "colorbar": {
             "outlinewidth": 0,
             "ticks": ""
            },
            "colorscale": [
             [
              0,
              "#0d0887"
             ],
             [
              0.1111111111111111,
              "#46039f"
             ],
             [
              0.2222222222222222,
              "#7201a8"
             ],
             [
              0.3333333333333333,
              "#9c179e"
             ],
             [
              0.4444444444444444,
              "#bd3786"
             ],
             [
              0.5555555555555556,
              "#d8576b"
             ],
             [
              0.6666666666666666,
              "#ed7953"
             ],
             [
              0.7777777777777778,
              "#fb9f3a"
             ],
             [
              0.8888888888888888,
              "#fdca26"
             ],
             [
              1,
              "#f0f921"
             ]
            ],
            "type": "histogram2d"
           }
          ],
          "histogram2dcontour": [
           {
            "colorbar": {
             "outlinewidth": 0,
             "ticks": ""
            },
            "colorscale": [
             [
              0,
              "#0d0887"
             ],
             [
              0.1111111111111111,
              "#46039f"
             ],
             [
              0.2222222222222222,
              "#7201a8"
             ],
             [
              0.3333333333333333,
              "#9c179e"
             ],
             [
              0.4444444444444444,
              "#bd3786"
             ],
             [
              0.5555555555555556,
              "#d8576b"
             ],
             [
              0.6666666666666666,
              "#ed7953"
             ],
             [
              0.7777777777777778,
              "#fb9f3a"
             ],
             [
              0.8888888888888888,
              "#fdca26"
             ],
             [
              1,
              "#f0f921"
             ]
            ],
            "type": "histogram2dcontour"
           }
          ],
          "mesh3d": [
           {
            "colorbar": {
             "outlinewidth": 0,
             "ticks": ""
            },
            "type": "mesh3d"
           }
          ],
          "parcoords": [
           {
            "line": {
             "colorbar": {
              "outlinewidth": 0,
              "ticks": ""
             }
            },
            "type": "parcoords"
           }
          ],
          "pie": [
           {
            "automargin": true,
            "type": "pie"
           }
          ],
          "scatter": [
           {
            "fillpattern": {
             "fillmode": "overlay",
             "size": 10,
             "solidity": 0.2
            },
            "type": "scatter"
           }
          ],
          "scatter3d": [
           {
            "line": {
             "colorbar": {
              "outlinewidth": 0,
              "ticks": ""
             }
            },
            "marker": {
             "colorbar": {
              "outlinewidth": 0,
              "ticks": ""
             }
            },
            "type": "scatter3d"
           }
          ],
          "scattercarpet": [
           {
            "marker": {
             "colorbar": {
              "outlinewidth": 0,
              "ticks": ""
             }
            },
            "type": "scattercarpet"
           }
          ],
          "scattergeo": [
           {
            "marker": {
             "colorbar": {
              "outlinewidth": 0,
              "ticks": ""
             }
            },
            "type": "scattergeo"
           }
          ],
          "scattergl": [
           {
            "marker": {
             "colorbar": {
              "outlinewidth": 0,
              "ticks": ""
             }
            },
            "type": "scattergl"
           }
          ],
          "scattermapbox": [
           {
            "marker": {
             "colorbar": {
              "outlinewidth": 0,
              "ticks": ""
             }
            },
            "type": "scattermapbox"
           }
          ],
          "scatterpolar": [
           {
            "marker": {
             "colorbar": {
              "outlinewidth": 0,
              "ticks": ""
             }
            },
            "type": "scatterpolar"
           }
          ],
          "scatterpolargl": [
           {
            "marker": {
             "colorbar": {
              "outlinewidth": 0,
              "ticks": ""
             }
            },
            "type": "scatterpolargl"
           }
          ],
          "scatterternary": [
           {
            "marker": {
             "colorbar": {
              "outlinewidth": 0,
              "ticks": ""
             }
            },
            "type": "scatterternary"
           }
          ],
          "surface": [
           {
            "colorbar": {
             "outlinewidth": 0,
             "ticks": ""
            },
            "colorscale": [
             [
              0,
              "#0d0887"
             ],
             [
              0.1111111111111111,
              "#46039f"
             ],
             [
              0.2222222222222222,
              "#7201a8"
             ],
             [
              0.3333333333333333,
              "#9c179e"
             ],
             [
              0.4444444444444444,
              "#bd3786"
             ],
             [
              0.5555555555555556,
              "#d8576b"
             ],
             [
              0.6666666666666666,
              "#ed7953"
             ],
             [
              0.7777777777777778,
              "#fb9f3a"
             ],
             [
              0.8888888888888888,
              "#fdca26"
             ],
             [
              1,
              "#f0f921"
             ]
            ],
            "type": "surface"
           }
          ],
          "table": [
           {
            "cells": {
             "fill": {
              "color": "#EBF0F8"
             },
             "line": {
              "color": "white"
             }
            },
            "header": {
             "fill": {
              "color": "#C8D4E3"
             },
             "line": {
              "color": "white"
             }
            },
            "type": "table"
           }
          ]
         },
         "layout": {
          "annotationdefaults": {
           "arrowcolor": "#2a3f5f",
           "arrowhead": 0,
           "arrowwidth": 1
          },
          "autotypenumbers": "strict",
          "coloraxis": {
           "colorbar": {
            "outlinewidth": 0,
            "ticks": ""
           }
          },
          "colorscale": {
           "diverging": [
            [
             0,
             "#8e0152"
            ],
            [
             0.1,
             "#c51b7d"
            ],
            [
             0.2,
             "#de77ae"
            ],
            [
             0.3,
             "#f1b6da"
            ],
            [
             0.4,
             "#fde0ef"
            ],
            [
             0.5,
             "#f7f7f7"
            ],
            [
             0.6,
             "#e6f5d0"
            ],
            [
             0.7,
             "#b8e186"
            ],
            [
             0.8,
             "#7fbc41"
            ],
            [
             0.9,
             "#4d9221"
            ],
            [
             1,
             "#276419"
            ]
           ],
           "sequential": [
            [
             0,
             "#0d0887"
            ],
            [
             0.1111111111111111,
             "#46039f"
            ],
            [
             0.2222222222222222,
             "#7201a8"
            ],
            [
             0.3333333333333333,
             "#9c179e"
            ],
            [
             0.4444444444444444,
             "#bd3786"
            ],
            [
             0.5555555555555556,
             "#d8576b"
            ],
            [
             0.6666666666666666,
             "#ed7953"
            ],
            [
             0.7777777777777778,
             "#fb9f3a"
            ],
            [
             0.8888888888888888,
             "#fdca26"
            ],
            [
             1,
             "#f0f921"
            ]
           ],
           "sequentialminus": [
            [
             0,
             "#0d0887"
            ],
            [
             0.1111111111111111,
             "#46039f"
            ],
            [
             0.2222222222222222,
             "#7201a8"
            ],
            [
             0.3333333333333333,
             "#9c179e"
            ],
            [
             0.4444444444444444,
             "#bd3786"
            ],
            [
             0.5555555555555556,
             "#d8576b"
            ],
            [
             0.6666666666666666,
             "#ed7953"
            ],
            [
             0.7777777777777778,
             "#fb9f3a"
            ],
            [
             0.8888888888888888,
             "#fdca26"
            ],
            [
             1,
             "#f0f921"
            ]
           ]
          },
          "colorway": [
           "#636efa",
           "#EF553B",
           "#00cc96",
           "#ab63fa",
           "#FFA15A",
           "#19d3f3",
           "#FF6692",
           "#B6E880",
           "#FF97FF",
           "#FECB52"
          ],
          "font": {
           "color": "#2a3f5f"
          },
          "geo": {
           "bgcolor": "white",
           "lakecolor": "white",
           "landcolor": "#E5ECF6",
           "showlakes": true,
           "showland": true,
           "subunitcolor": "white"
          },
          "hoverlabel": {
           "align": "left"
          },
          "hovermode": "closest",
          "mapbox": {
           "style": "light"
          },
          "paper_bgcolor": "white",
          "plot_bgcolor": "#E5ECF6",
          "polar": {
           "angularaxis": {
            "gridcolor": "white",
            "linecolor": "white",
            "ticks": ""
           },
           "bgcolor": "#E5ECF6",
           "radialaxis": {
            "gridcolor": "white",
            "linecolor": "white",
            "ticks": ""
           }
          },
          "scene": {
           "xaxis": {
            "backgroundcolor": "#E5ECF6",
            "gridcolor": "white",
            "gridwidth": 2,
            "linecolor": "white",
            "showbackground": true,
            "ticks": "",
            "zerolinecolor": "white"
           },
           "yaxis": {
            "backgroundcolor": "#E5ECF6",
            "gridcolor": "white",
            "gridwidth": 2,
            "linecolor": "white",
            "showbackground": true,
            "ticks": "",
            "zerolinecolor": "white"
           },
           "zaxis": {
            "backgroundcolor": "#E5ECF6",
            "gridcolor": "white",
            "gridwidth": 2,
            "linecolor": "white",
            "showbackground": true,
            "ticks": "",
            "zerolinecolor": "white"
           }
          },
          "shapedefaults": {
           "line": {
            "color": "#2a3f5f"
           }
          },
          "ternary": {
           "aaxis": {
            "gridcolor": "white",
            "linecolor": "white",
            "ticks": ""
           },
           "baxis": {
            "gridcolor": "white",
            "linecolor": "white",
            "ticks": ""
           },
           "bgcolor": "#E5ECF6",
           "caxis": {
            "gridcolor": "white",
            "linecolor": "white",
            "ticks": ""
           }
          },
          "title": {
           "x": 0.05
          },
          "xaxis": {
           "automargin": true,
           "gridcolor": "white",
           "linecolor": "white",
           "ticks": "",
           "title": {
            "standoff": 15
           },
           "zerolinecolor": "white",
           "zerolinewidth": 2
          },
          "yaxis": {
           "automargin": true,
           "gridcolor": "white",
           "linecolor": "white",
           "ticks": "",
           "title": {
            "standoff": 15
           },
           "zerolinecolor": "white",
           "zerolinewidth": 2
          }
         }
        },
        "width": 1000,
        "xaxis": {
         "fixedrange": true,
         "gridcolor": "#1f292f",
         "rangeslider": {
          "visible": false
         },
         "showgrid": true
        },
        "yaxis": {
         "gridcolor": "#1f292f",
         "showgrid": true
        }
       }
      }
     },
     "metadata": {},
     "output_type": "display_data"
    }
   ],
   "source": [
    "#ploting & formatting a candlestick plot with plotly\n",
    "fig = go.Figure()\n",
    "fig.add_trace(go.Candlestick(\n",
    "    x=df_plot.time, open=df_plot.mid_o, high=df_plot.mid_h, low=df_plot.mid_l, close=df_plot.mid_c, \n",
    "    line=dict(width=1), opacity=1\n",
    "))\n",
    "fig.update_layout(width=1000, height=300,#formating the size of our plot\n",
    "    margin=dict(l=10,r=10,t=10,b=10),\n",
    "    font=dict(size=10, color='#e1e1e1'),                \n",
    "    paper_bgcolor=\"#0d1117\", plot_bgcolor=\"#0d1117\"#formating background color \n",
    "    )\n",
    "fig.update_xaxes(\n",
    "    gridcolor ='#1f292f',\n",
    "    showgrid=True,fixedrange=True,rangeslider=dict(visible=False)\n",
    ")\n",
    "fig.update_yaxes(\n",
    "    gridcolor ='#1f292f', showgrid=True\n",
    "    )\n",
    "fig.show()"
   ]
  },
  {
   "cell_type": "code",
   "execution_count": 14,
   "metadata": {},
   "outputs": [
    {
     "data": {
      "text/html": [
       "<div>\n",
       "<style scoped>\n",
       "    .dataframe tbody tr th:only-of-type {\n",
       "        vertical-align: middle;\n",
       "    }\n",
       "\n",
       "    .dataframe tbody tr th {\n",
       "        vertical-align: top;\n",
       "    }\n",
       "\n",
       "    .dataframe thead th {\n",
       "        text-align: right;\n",
       "    }\n",
       "</style>\n",
       "<table border=\"1\" class=\"dataframe\">\n",
       "  <thead>\n",
       "    <tr style=\"text-align: right;\">\n",
       "      <th></th>\n",
       "      <th>time</th>\n",
       "      <th>mid_o</th>\n",
       "      <th>mid_h</th>\n",
       "      <th>mid_l</th>\n",
       "      <th>mid_c</th>\n",
       "    </tr>\n",
       "  </thead>\n",
       "  <tbody>\n",
       "    <tr>\n",
       "      <th>0</th>\n",
       "      <td>2023-10-20T07:00:00.000000000Z</td>\n",
       "      <td>0.87320</td>\n",
       "      <td>0.87341</td>\n",
       "      <td>0.87258</td>\n",
       "      <td>0.87334</td>\n",
       "    </tr>\n",
       "    <tr>\n",
       "      <th>1</th>\n",
       "      <td>2023-10-20T08:00:00.000000000Z</td>\n",
       "      <td>0.87334</td>\n",
       "      <td>0.87406</td>\n",
       "      <td>0.87321</td>\n",
       "      <td>0.87329</td>\n",
       "    </tr>\n",
       "    <tr>\n",
       "      <th>2</th>\n",
       "      <td>2023-10-20T09:00:00.000000000Z</td>\n",
       "      <td>0.87332</td>\n",
       "      <td>0.87380</td>\n",
       "      <td>0.87279</td>\n",
       "      <td>0.87333</td>\n",
       "    </tr>\n",
       "    <tr>\n",
       "      <th>3</th>\n",
       "      <td>2023-10-20T10:00:00.000000000Z</td>\n",
       "      <td>0.87332</td>\n",
       "      <td>0.87351</td>\n",
       "      <td>0.87274</td>\n",
       "      <td>0.87315</td>\n",
       "    </tr>\n",
       "    <tr>\n",
       "      <th>4</th>\n",
       "      <td>2023-10-20T11:00:00.000000000Z</td>\n",
       "      <td>0.87316</td>\n",
       "      <td>0.87322</td>\n",
       "      <td>0.87217</td>\n",
       "      <td>0.87236</td>\n",
       "    </tr>\n",
       "  </tbody>\n",
       "</table>\n",
       "</div>"
      ],
      "text/plain": [
       "                             time    mid_o    mid_h    mid_l    mid_c\n",
       "0  2023-10-20T07:00:00.000000000Z  0.87320  0.87341  0.87258  0.87334\n",
       "1  2023-10-20T08:00:00.000000000Z  0.87334  0.87406  0.87321  0.87329\n",
       "2  2023-10-20T09:00:00.000000000Z  0.87332  0.87380  0.87279  0.87333\n",
       "3  2023-10-20T10:00:00.000000000Z  0.87332  0.87351  0.87274  0.87315\n",
       "4  2023-10-20T11:00:00.000000000Z  0.87316  0.87322  0.87217  0.87236"
      ]
     },
     "execution_count": 14,
     "metadata": {},
     "output_type": "execute_result"
    }
   ],
   "source": [
    "#DATA ANALYSIS: Moving Averages\n",
    "df_ma = df[['time','mid_o','mid_h','mid_l','mid_c']].copy()\n",
    "df_ma.head()"
   ]
  },
  {
   "cell_type": "code",
   "execution_count": 15,
   "metadata": {},
   "outputs": [],
   "source": [
    "for ma in ma_list:\n",
    "    df_ma[f'MA_{ma}'] = df_ma.mid_c.rolling(window=ma).mean() #calculate our rolling/moving average\n"
   ]
  },
  {
   "cell_type": "code",
   "execution_count": 16,
   "metadata": {},
   "outputs": [],
   "source": [
    "df_ma.dropna(inplace=True)"
   ]
  },
  {
   "cell_type": "code",
   "execution_count": 17,
   "metadata": {},
   "outputs": [],
   "source": [
    "df_ma.reset_index(drop=True, inplace=True)"
   ]
  },
  {
   "cell_type": "code",
   "execution_count": 18,
   "metadata": {},
   "outputs": [
    {
     "data": {
      "text/html": [
       "<div>\n",
       "<style scoped>\n",
       "    .dataframe tbody tr th:only-of-type {\n",
       "        vertical-align: middle;\n",
       "    }\n",
       "\n",
       "    .dataframe tbody tr th {\n",
       "        vertical-align: top;\n",
       "    }\n",
       "\n",
       "    .dataframe thead th {\n",
       "        text-align: right;\n",
       "    }\n",
       "</style>\n",
       "<table border=\"1\" class=\"dataframe\">\n",
       "  <thead>\n",
       "    <tr style=\"text-align: right;\">\n",
       "      <th></th>\n",
       "      <th>time</th>\n",
       "      <th>mid_o</th>\n",
       "      <th>mid_h</th>\n",
       "      <th>mid_l</th>\n",
       "      <th>mid_c</th>\n",
       "      <th>MA_16</th>\n",
       "      <th>MA_64</th>\n",
       "    </tr>\n",
       "  </thead>\n",
       "  <tbody>\n",
       "    <tr>\n",
       "      <th>0</th>\n",
       "      <td>2023-10-24T22:00:00.000000000Z</td>\n",
       "      <td>0.87094</td>\n",
       "      <td>0.87128</td>\n",
       "      <td>0.87085</td>\n",
       "      <td>0.87113</td>\n",
       "      <td>0.870314</td>\n",
       "      <td>0.871012</td>\n",
       "    </tr>\n",
       "    <tr>\n",
       "      <th>1</th>\n",
       "      <td>2023-10-24T23:00:00.000000000Z</td>\n",
       "      <td>0.87116</td>\n",
       "      <td>0.87126</td>\n",
       "      <td>0.87107</td>\n",
       "      <td>0.87116</td>\n",
       "      <td>0.870415</td>\n",
       "      <td>0.870978</td>\n",
       "    </tr>\n",
       "    <tr>\n",
       "      <th>2</th>\n",
       "      <td>2023-10-25T00:00:00.000000000Z</td>\n",
       "      <td>0.87116</td>\n",
       "      <td>0.87117</td>\n",
       "      <td>0.87060</td>\n",
       "      <td>0.87068</td>\n",
       "      <td>0.870556</td>\n",
       "      <td>0.870937</td>\n",
       "    </tr>\n",
       "    <tr>\n",
       "      <th>3</th>\n",
       "      <td>2023-10-25T01:00:00.000000000Z</td>\n",
       "      <td>0.87068</td>\n",
       "      <td>0.87086</td>\n",
       "      <td>0.87056</td>\n",
       "      <td>0.87060</td>\n",
       "      <td>0.870657</td>\n",
       "      <td>0.870895</td>\n",
       "    </tr>\n",
       "    <tr>\n",
       "      <th>4</th>\n",
       "      <td>2023-10-25T02:00:00.000000000Z</td>\n",
       "      <td>0.87061</td>\n",
       "      <td>0.87117</td>\n",
       "      <td>0.87061</td>\n",
       "      <td>0.87111</td>\n",
       "      <td>0.870719</td>\n",
       "      <td>0.870863</td>\n",
       "    </tr>\n",
       "  </tbody>\n",
       "</table>\n",
       "</div>"
      ],
      "text/plain": [
       "                             time    mid_o    mid_h    mid_l    mid_c  \\\n",
       "0  2023-10-24T22:00:00.000000000Z  0.87094  0.87128  0.87085  0.87113   \n",
       "1  2023-10-24T23:00:00.000000000Z  0.87116  0.87126  0.87107  0.87116   \n",
       "2  2023-10-25T00:00:00.000000000Z  0.87116  0.87117  0.87060  0.87068   \n",
       "3  2023-10-25T01:00:00.000000000Z  0.87068  0.87086  0.87056  0.87060   \n",
       "4  2023-10-25T02:00:00.000000000Z  0.87061  0.87117  0.87061  0.87111   \n",
       "\n",
       "      MA_16     MA_64  \n",
       "0  0.870314  0.871012  \n",
       "1  0.870415  0.870978  \n",
       "2  0.870556  0.870937  \n",
       "3  0.870657  0.870895  \n",
       "4  0.870719  0.870863  "
      ]
     },
     "execution_count": 18,
     "metadata": {},
     "output_type": "execute_result"
    }
   ],
   "source": [
    "df_ma.head()"
   ]
  },
  {
   "cell_type": "code",
   "execution_count": 21,
   "metadata": {},
   "outputs": [],
   "source": [
    "df_ma['DIFF'] = df_ma.MA_16 -df_ma.MA_64\n",
    "df_ma['DIFF_PREV'] = df_ma.DIFF.shift(1)"
   ]
  },
  {
   "cell_type": "code",
   "execution_count": 19,
   "metadata": {},
   "outputs": [],
   "source": [
    "#Moving avergage cross strategy\n",
    "def is_trade(row):\n",
    "    if row.DIFF >= 0 and row.DIFF_PREV < 0:\n",
    "        return 1    #BUY\n",
    "    if row.DIFF <= 0 and row.DIFF_PREV > 0:\n",
    "        return -1   #SELL\n",
    "    return 0    #NTHN"
   ]
  },
  {
   "cell_type": "code",
   "execution_count": 38,
   "metadata": {},
   "outputs": [],
   "source": [
    "df_ma['IS_TRADE'] = df_ma.apply(is_trade, axis=1)"
   ]
  },
  {
   "cell_type": "code",
   "execution_count": 37,
   "metadata": {},
   "outputs": [
    {
     "data": {
      "text/html": [
       "<div>\n",
       "<style scoped>\n",
       "    .dataframe tbody tr th:only-of-type {\n",
       "        vertical-align: middle;\n",
       "    }\n",
       "\n",
       "    .dataframe tbody tr th {\n",
       "        vertical-align: top;\n",
       "    }\n",
       "\n",
       "    .dataframe thead th {\n",
       "        text-align: right;\n",
       "    }\n",
       "</style>\n",
       "<table border=\"1\" class=\"dataframe\">\n",
       "  <thead>\n",
       "    <tr style=\"text-align: right;\">\n",
       "      <th></th>\n",
       "      <th>time</th>\n",
       "      <th>mid_o</th>\n",
       "      <th>mid_h</th>\n",
       "      <th>mid_l</th>\n",
       "      <th>mid_c</th>\n",
       "      <th>MA_16</th>\n",
       "      <th>MA_64</th>\n",
       "      <th>DIFF</th>\n",
       "      <th>DIFF_PREV</th>\n",
       "      <th>IS_TRADE</th>\n",
       "    </tr>\n",
       "  </thead>\n",
       "  <tbody>\n",
       "    <tr>\n",
       "      <th>0</th>\n",
       "      <td>2023-10-24T22:00:00.000000000Z</td>\n",
       "      <td>0.87094</td>\n",
       "      <td>0.87128</td>\n",
       "      <td>0.87085</td>\n",
       "      <td>0.87113</td>\n",
       "      <td>0.870314</td>\n",
       "      <td>0.871012</td>\n",
       "      <td>-0.000698</td>\n",
       "      <td>NaN</td>\n",
       "      <td>0</td>\n",
       "    </tr>\n",
       "    <tr>\n",
       "      <th>1</th>\n",
       "      <td>2023-10-24T23:00:00.000000000Z</td>\n",
       "      <td>0.87116</td>\n",
       "      <td>0.87126</td>\n",
       "      <td>0.87107</td>\n",
       "      <td>0.87116</td>\n",
       "      <td>0.870415</td>\n",
       "      <td>0.870978</td>\n",
       "      <td>-0.000563</td>\n",
       "      <td>-0.000698</td>\n",
       "      <td>0</td>\n",
       "    </tr>\n",
       "    <tr>\n",
       "      <th>2</th>\n",
       "      <td>2023-10-25T00:00:00.000000000Z</td>\n",
       "      <td>0.87116</td>\n",
       "      <td>0.87117</td>\n",
       "      <td>0.87060</td>\n",
       "      <td>0.87068</td>\n",
       "      <td>0.870556</td>\n",
       "      <td>0.870937</td>\n",
       "      <td>-0.000382</td>\n",
       "      <td>-0.000563</td>\n",
       "      <td>0</td>\n",
       "    </tr>\n",
       "    <tr>\n",
       "      <th>3</th>\n",
       "      <td>2023-10-25T01:00:00.000000000Z</td>\n",
       "      <td>0.87068</td>\n",
       "      <td>0.87086</td>\n",
       "      <td>0.87056</td>\n",
       "      <td>0.87060</td>\n",
       "      <td>0.870657</td>\n",
       "      <td>0.870895</td>\n",
       "      <td>-0.000238</td>\n",
       "      <td>-0.000382</td>\n",
       "      <td>0</td>\n",
       "    </tr>\n",
       "    <tr>\n",
       "      <th>4</th>\n",
       "      <td>2023-10-25T02:00:00.000000000Z</td>\n",
       "      <td>0.87061</td>\n",
       "      <td>0.87117</td>\n",
       "      <td>0.87061</td>\n",
       "      <td>0.87111</td>\n",
       "      <td>0.870719</td>\n",
       "      <td>0.870863</td>\n",
       "      <td>-0.000143</td>\n",
       "      <td>-0.000238</td>\n",
       "      <td>0</td>\n",
       "    </tr>\n",
       "  </tbody>\n",
       "</table>\n",
       "</div>"
      ],
      "text/plain": [
       "                             time    mid_o    mid_h    mid_l    mid_c  \\\n",
       "0  2023-10-24T22:00:00.000000000Z  0.87094  0.87128  0.87085  0.87113   \n",
       "1  2023-10-24T23:00:00.000000000Z  0.87116  0.87126  0.87107  0.87116   \n",
       "2  2023-10-25T00:00:00.000000000Z  0.87116  0.87117  0.87060  0.87068   \n",
       "3  2023-10-25T01:00:00.000000000Z  0.87068  0.87086  0.87056  0.87060   \n",
       "4  2023-10-25T02:00:00.000000000Z  0.87061  0.87117  0.87061  0.87111   \n",
       "\n",
       "      MA_16     MA_64      DIFF  DIFF_PREV  IS_TRADE  \n",
       "0  0.870314  0.871012 -0.000698        NaN         0  \n",
       "1  0.870415  0.870978 -0.000563  -0.000698         0  \n",
       "2  0.870556  0.870937 -0.000382  -0.000563         0  \n",
       "3  0.870657  0.870895 -0.000238  -0.000382         0  \n",
       "4  0.870719  0.870863 -0.000143  -0.000238         0  "
      ]
     },
     "execution_count": 37,
     "metadata": {},
     "output_type": "execute_result"
    }
   ],
   "source": [
    "df_ma.head()"
   ]
  },
  {
   "cell_type": "code",
   "execution_count": 24,
   "metadata": {},
   "outputs": [],
   "source": [
    "df_trades = df_ma[df_ma.IS_TRADE!=0].copy()"
   ]
  },
  {
   "cell_type": "code",
   "execution_count": 35,
   "metadata": {},
   "outputs": [
    {
     "data": {
      "text/html": [
       "<div>\n",
       "<style scoped>\n",
       "    .dataframe tbody tr th:only-of-type {\n",
       "        vertical-align: middle;\n",
       "    }\n",
       "\n",
       "    .dataframe tbody tr th {\n",
       "        vertical-align: top;\n",
       "    }\n",
       "\n",
       "    .dataframe thead th {\n",
       "        text-align: right;\n",
       "    }\n",
       "</style>\n",
       "<table border=\"1\" class=\"dataframe\">\n",
       "  <thead>\n",
       "    <tr style=\"text-align: right;\">\n",
       "      <th></th>\n",
       "      <th>time</th>\n",
       "      <th>mid_o</th>\n",
       "      <th>mid_h</th>\n",
       "      <th>mid_l</th>\n",
       "      <th>mid_c</th>\n",
       "      <th>MA_16</th>\n",
       "      <th>MA_64</th>\n",
       "      <th>DIFF</th>\n",
       "      <th>DIFF_PREV</th>\n",
       "      <th>IS_TRADE</th>\n",
       "      <th>DELTA</th>\n",
       "      <th>TRADE</th>\n",
       "      <th>GAIN</th>\n",
       "    </tr>\n",
       "  </thead>\n",
       "  <tbody>\n",
       "    <tr>\n",
       "      <th>6</th>\n",
       "      <td>2023-10-25T04:00:00.000000000Z</td>\n",
       "      <td>0.87108</td>\n",
       "      <td>0.87116</td>\n",
       "      <td>0.87094</td>\n",
       "      <td>0.87114</td>\n",
       "      <td>0.870840</td>\n",
       "      <td>0.870833</td>\n",
       "      <td>0.000007</td>\n",
       "      <td>-0.000080</td>\n",
       "      <td>1</td>\n",
       "      <td>-1.9</td>\n",
       "      <td>-1.9</td>\n",
       "      <td>-1.9</td>\n",
       "    </tr>\n",
       "    <tr>\n",
       "      <th>46</th>\n",
       "      <td>2023-10-26T20:00:00.000000000Z</td>\n",
       "      <td>0.87090</td>\n",
       "      <td>0.87112</td>\n",
       "      <td>0.87067</td>\n",
       "      <td>0.87095</td>\n",
       "      <td>0.871220</td>\n",
       "      <td>0.871339</td>\n",
       "      <td>-0.000119</td>\n",
       "      <td>0.000013</td>\n",
       "      <td>-1</td>\n",
       "      <td>10.3</td>\n",
       "      <td>-10.3</td>\n",
       "      <td>-10.3</td>\n",
       "    </tr>\n",
       "    <tr>\n",
       "      <th>76</th>\n",
       "      <td>2023-10-30T02:00:00.000000000Z</td>\n",
       "      <td>0.87204</td>\n",
       "      <td>0.87218</td>\n",
       "      <td>0.87193</td>\n",
       "      <td>0.87198</td>\n",
       "      <td>0.871623</td>\n",
       "      <td>0.871562</td>\n",
       "      <td>0.000062</td>\n",
       "      <td>-0.000024</td>\n",
       "      <td>1</td>\n",
       "      <td>-9.4</td>\n",
       "      <td>-9.4</td>\n",
       "      <td>-9.4</td>\n",
       "    </tr>\n",
       "    <tr>\n",
       "      <th>122</th>\n",
       "      <td>2023-11-01T00:00:00.000000000Z</td>\n",
       "      <td>0.87061</td>\n",
       "      <td>0.87110</td>\n",
       "      <td>0.87059</td>\n",
       "      <td>0.87104</td>\n",
       "      <td>0.872043</td>\n",
       "      <td>0.872205</td>\n",
       "      <td>-0.000163</td>\n",
       "      <td>0.000061</td>\n",
       "      <td>-1</td>\n",
       "      <td>11.6</td>\n",
       "      <td>-11.6</td>\n",
       "      <td>-11.6</td>\n",
       "    </tr>\n",
       "    <tr>\n",
       "      <th>161</th>\n",
       "      <td>2023-11-02T15:00:00.000000000Z</td>\n",
       "      <td>0.87336</td>\n",
       "      <td>0.87355</td>\n",
       "      <td>0.87219</td>\n",
       "      <td>0.87220</td>\n",
       "      <td>0.871121</td>\n",
       "      <td>0.871101</td>\n",
       "      <td>0.000021</td>\n",
       "      <td>-0.000179</td>\n",
       "      <td>1</td>\n",
       "      <td>-49.0</td>\n",
       "      <td>-49.0</td>\n",
       "      <td>-49.0</td>\n",
       "    </tr>\n",
       "  </tbody>\n",
       "</table>\n",
       "</div>"
      ],
      "text/plain": [
       "                               time    mid_o    mid_h    mid_l    mid_c  \\\n",
       "6    2023-10-25T04:00:00.000000000Z  0.87108  0.87116  0.87094  0.87114   \n",
       "46   2023-10-26T20:00:00.000000000Z  0.87090  0.87112  0.87067  0.87095   \n",
       "76   2023-10-30T02:00:00.000000000Z  0.87204  0.87218  0.87193  0.87198   \n",
       "122  2023-11-01T00:00:00.000000000Z  0.87061  0.87110  0.87059  0.87104   \n",
       "161  2023-11-02T15:00:00.000000000Z  0.87336  0.87355  0.87219  0.87220   \n",
       "\n",
       "        MA_16     MA_64      DIFF  DIFF_PREV  IS_TRADE  DELTA  TRADE  GAIN  \n",
       "6    0.870840  0.870833  0.000007  -0.000080         1   -1.9   -1.9  -1.9  \n",
       "46   0.871220  0.871339 -0.000119   0.000013        -1   10.3  -10.3 -10.3  \n",
       "76   0.871623  0.871562  0.000062  -0.000024         1   -9.4   -9.4  -9.4  \n",
       "122  0.872043  0.872205 -0.000163   0.000061        -1   11.6  -11.6 -11.6  \n",
       "161  0.871121  0.871101  0.000021  -0.000179         1  -49.0  -49.0 -49.0  "
      ]
     },
     "execution_count": 35,
     "metadata": {},
     "output_type": "execute_result"
    }
   ],
   "source": [
    "df_trades.head()\n",
    "#df_trades.shape"
   ]
  },
  {
   "cell_type": "code",
   "execution_count": 34,
   "metadata": {},
   "outputs": [],
   "source": [
    "#ASSESING GAINS (IGNORING SPREAD)\n",
    "df_trades[\"DELTA\"] = (df_trades.mid_c.diff()/i_pair.pipLocation).shift(-1)#converted to pips\n",
    "df_trades['GAIN'] = df_trades['DELTA'] * df_trades['IS_TRADE']"
   ]
  },
  {
   "cell_type": "code",
   "execution_count": 42,
   "metadata": {},
   "outputs": [],
   "source": [
    "'''To get the duration of our trades we need to \n",
    "convert to datetime type'''\n",
    "from dateutil.parser import *\n",
    "df_trades['time'] = [parse(x) for x in df_trades.time]"
   ]
  },
  {
   "cell_type": "code",
   "execution_count": 49,
   "metadata": {},
   "outputs": [
    {
     "data": {
      "text/html": [
       "<div>\n",
       "<style scoped>\n",
       "    .dataframe tbody tr th:only-of-type {\n",
       "        vertical-align: middle;\n",
       "    }\n",
       "\n",
       "    .dataframe tbody tr th {\n",
       "        vertical-align: top;\n",
       "    }\n",
       "\n",
       "    .dataframe thead th {\n",
       "        text-align: right;\n",
       "    }\n",
       "</style>\n",
       "<table border=\"1\" class=\"dataframe\">\n",
       "  <thead>\n",
       "    <tr style=\"text-align: right;\">\n",
       "      <th></th>\n",
       "      <th>time</th>\n",
       "      <th>DURATION</th>\n",
       "    </tr>\n",
       "  </thead>\n",
       "  <tbody>\n",
       "    <tr>\n",
       "      <th>6</th>\n",
       "      <td>2023-10-25 04:00:00+00:00</td>\n",
       "      <td>40.0</td>\n",
       "    </tr>\n",
       "    <tr>\n",
       "      <th>46</th>\n",
       "      <td>2023-10-26 20:00:00+00:00</td>\n",
       "      <td>78.0</td>\n",
       "    </tr>\n",
       "    <tr>\n",
       "      <th>76</th>\n",
       "      <td>2023-10-30 02:00:00+00:00</td>\n",
       "      <td>46.0</td>\n",
       "    </tr>\n",
       "    <tr>\n",
       "      <th>122</th>\n",
       "      <td>2023-11-01 00:00:00+00:00</td>\n",
       "      <td>39.0</td>\n",
       "    </tr>\n",
       "    <tr>\n",
       "      <th>161</th>\n",
       "      <td>2023-11-02 15:00:00+00:00</td>\n",
       "      <td>25.0</td>\n",
       "    </tr>\n",
       "  </tbody>\n",
       "</table>\n",
       "</div>"
      ],
      "text/plain": [
       "                         time  DURATION\n",
       "6   2023-10-25 04:00:00+00:00      40.0\n",
       "46  2023-10-26 20:00:00+00:00      78.0\n",
       "76  2023-10-30 02:00:00+00:00      46.0\n",
       "122 2023-11-01 00:00:00+00:00      39.0\n",
       "161 2023-11-02 15:00:00+00:00      25.0"
      ]
     },
     "execution_count": 49,
     "metadata": {},
     "output_type": "execute_result"
    }
   ],
   "source": [
    "df_trades['DURATION'] = df_trades.time.diff().shift(-1)\n",
    "df_trades['DURATION'] = [x.total_seconds()/3600 for x in df_trades.DURATION]\n",
    "\n",
    "df_trades[['time','DURATION']].head()"
   ]
  },
  {
   "cell_type": "code",
   "execution_count": 46,
   "metadata": {},
   "outputs": [
    {
     "name": "stdout",
     "output_type": "stream",
     "text": [
      "<class 'pandas.core.frame.DataFrame'>\n",
      "Index: 64 entries, 6 to 3856\n",
      "Data columns (total 14 columns):\n",
      " #   Column     Non-Null Count  Dtype                  \n",
      "---  ------     --------------  -----                  \n",
      " 0   time       64 non-null     datetime64[ns, tzutc()]\n",
      " 1   mid_o      64 non-null     float64                \n",
      " 2   mid_h      64 non-null     float64                \n",
      " 3   mid_l      64 non-null     float64                \n",
      " 4   mid_c      64 non-null     float64                \n",
      " 5   MA_16      64 non-null     float64                \n",
      " 6   MA_64      64 non-null     float64                \n",
      " 7   DIFF       64 non-null     float64                \n",
      " 8   DIFF_PREV  64 non-null     float64                \n",
      " 9   IS_TRADE   64 non-null     int64                  \n",
      " 10  DELTA      63 non-null     float64                \n",
      " 11  TRADE      63 non-null     float64                \n",
      " 12  GAIN       63 non-null     float64                \n",
      " 13  DURATION   63 non-null     timedelta64[ns]        \n",
      "dtypes: datetime64[ns, tzutc()](1), float64(11), int64(1), timedelta64[ns](1)\n",
      "memory usage: 7.5 KB\n"
     ]
    }
   ],
   "source": [
    "df_trades.info()"
   ]
  },
  {
   "cell_type": "code",
   "execution_count": 51,
   "metadata": {},
   "outputs": [],
   "source": [
    "df_all = pd.read_pickle(\"all_trades.pkl\")"
   ]
  },
  {
   "cell_type": "code",
   "execution_count": 53,
   "metadata": {},
   "outputs": [
    {
     "data": {
      "text/html": [
       "<div>\n",
       "<style scoped>\n",
       "    .dataframe tbody tr th:only-of-type {\n",
       "        vertical-align: middle;\n",
       "    }\n",
       "\n",
       "    .dataframe tbody tr th {\n",
       "        vertical-align: top;\n",
       "    }\n",
       "\n",
       "    .dataframe thead th {\n",
       "        text-align: right;\n",
       "    }\n",
       "</style>\n",
       "<table border=\"1\" class=\"dataframe\">\n",
       "  <thead>\n",
       "    <tr style=\"text-align: right;\">\n",
       "      <th></th>\n",
       "      <th>mid_c</th>\n",
       "      <th>DIFF</th>\n",
       "      <th>DIFF_PREV</th>\n",
       "      <th>IS_TRADE</th>\n",
       "      <th>DELTA</th>\n",
       "      <th>GAIN</th>\n",
       "      <th>MASHORT</th>\n",
       "      <th>MALONG</th>\n",
       "      <th>DURATION</th>\n",
       "    </tr>\n",
       "  </thead>\n",
       "  <tbody>\n",
       "    <tr>\n",
       "      <th>count</th>\n",
       "      <td>15862.000000</td>\n",
       "      <td>1.586200e+04</td>\n",
       "      <td>1.586200e+04</td>\n",
       "      <td>15862.000000</td>\n",
       "      <td>15862.000000</td>\n",
       "      <td>15862.000000</td>\n",
       "      <td>15862.000000</td>\n",
       "      <td>15862.00000</td>\n",
       "      <td>15862.000000</td>\n",
       "    </tr>\n",
       "    <tr>\n",
       "      <th>mean</th>\n",
       "      <td>46.771610</td>\n",
       "      <td>-1.780936e-04</td>\n",
       "      <td>1.805024e-04</td>\n",
       "      <td>-0.002396</td>\n",
       "      <td>6.173320</td>\n",
       "      <td>-4.624448</td>\n",
       "      <td>19.791199</td>\n",
       "      <td>93.88980</td>\n",
       "      <td>84.452780</td>\n",
       "    </tr>\n",
       "    <tr>\n",
       "      <th>std</th>\n",
       "      <td>69.801977</td>\n",
       "      <td>1.796836e-02</td>\n",
       "      <td>1.885600e-02</td>\n",
       "      <td>1.000029</td>\n",
       "      <td>78.081357</td>\n",
       "      <td>78.188386</td>\n",
       "      <td>16.408221</td>\n",
       "      <td>65.34222</td>\n",
       "      <td>107.436983</td>\n",
       "    </tr>\n",
       "    <tr>\n",
       "      <th>min</th>\n",
       "      <td>0.519320</td>\n",
       "      <td>-4.543437e-01</td>\n",
       "      <td>-2.530586e-01</td>\n",
       "      <td>-1.000000</td>\n",
       "      <td>-596.800000</td>\n",
       "      <td>-415.700000</td>\n",
       "      <td>8.000000</td>\n",
       "      <td>32.00000</td>\n",
       "      <td>1.000000</td>\n",
       "    </tr>\n",
       "    <tr>\n",
       "      <th>25%</th>\n",
       "      <td>0.856390</td>\n",
       "      <td>-1.516406e-04</td>\n",
       "      <td>-1.359961e-04</td>\n",
       "      <td>-1.000000</td>\n",
       "      <td>-25.300000</td>\n",
       "      <td>-38.200000</td>\n",
       "      <td>8.000000</td>\n",
       "      <td>32.00000</td>\n",
       "      <td>17.000000</td>\n",
       "    </tr>\n",
       "    <tr>\n",
       "      <th>50%</th>\n",
       "      <td>1.711950</td>\n",
       "      <td>-3.125000e-07</td>\n",
       "      <td>3.906250e-07</td>\n",
       "      <td>-1.000000</td>\n",
       "      <td>3.500000</td>\n",
       "      <td>-13.900000</td>\n",
       "      <td>16.000000</td>\n",
       "      <td>64.00000</td>\n",
       "      <td>47.000000</td>\n",
       "    </tr>\n",
       "    <tr>\n",
       "      <th>75%</th>\n",
       "      <td>107.295250</td>\n",
       "      <td>1.387500e-04</td>\n",
       "      <td>1.493262e-04</td>\n",
       "      <td>1.000000</td>\n",
       "      <td>33.800000</td>\n",
       "      <td>9.000000</td>\n",
       "      <td>32.000000</td>\n",
       "      <td>128.00000</td>\n",
       "      <td>112.000000</td>\n",
       "    </tr>\n",
       "    <tr>\n",
       "      <th>max</th>\n",
       "      <td>200.586000</td>\n",
       "      <td>2.371875e-01</td>\n",
       "      <td>4.288437e-01</td>\n",
       "      <td>1.000000</td>\n",
       "      <td>673.700000</td>\n",
       "      <td>673.700000</td>\n",
       "      <td>64.000000</td>\n",
       "      <td>256.00000</td>\n",
       "      <td>1613.000000</td>\n",
       "    </tr>\n",
       "  </tbody>\n",
       "</table>\n",
       "</div>"
      ],
      "text/plain": [
       "              mid_c          DIFF     DIFF_PREV      IS_TRADE         DELTA  \\\n",
       "count  15862.000000  1.586200e+04  1.586200e+04  15862.000000  15862.000000   \n",
       "mean      46.771610 -1.780936e-04  1.805024e-04     -0.002396      6.173320   \n",
       "std       69.801977  1.796836e-02  1.885600e-02      1.000029     78.081357   \n",
       "min        0.519320 -4.543437e-01 -2.530586e-01     -1.000000   -596.800000   \n",
       "25%        0.856390 -1.516406e-04 -1.359961e-04     -1.000000    -25.300000   \n",
       "50%        1.711950 -3.125000e-07  3.906250e-07     -1.000000      3.500000   \n",
       "75%      107.295250  1.387500e-04  1.493262e-04      1.000000     33.800000   \n",
       "max      200.586000  2.371875e-01  4.288437e-01      1.000000    673.700000   \n",
       "\n",
       "               GAIN       MASHORT       MALONG      DURATION  \n",
       "count  15862.000000  15862.000000  15862.00000  15862.000000  \n",
       "mean      -4.624448     19.791199     93.88980     84.452780  \n",
       "std       78.188386     16.408221     65.34222    107.436983  \n",
       "min     -415.700000      8.000000     32.00000      1.000000  \n",
       "25%      -38.200000      8.000000     32.00000     17.000000  \n",
       "50%      -13.900000     16.000000     64.00000     47.000000  \n",
       "75%        9.000000     32.000000    128.00000    112.000000  \n",
       "max      673.700000     64.000000    256.00000   1613.000000  "
      ]
     },
     "execution_count": 53,
     "metadata": {},
     "output_type": "execute_result"
    }
   ],
   "source": [
    "#df_all.head()\n",
    "df_all.describe()"
   ]
  },
  {
   "cell_type": "code",
   "execution_count": 36,
   "metadata": {},
   "outputs": [
    {
     "data": {
      "text/plain": [
       "32.50000000000307"
      ]
     },
     "execution_count": 36,
     "metadata": {},
     "output_type": "execute_result"
    }
   ],
   "source": [
    "df_trades['GAIN'].sum()"
   ]
  },
  {
   "cell_type": "code",
   "execution_count": 41,
   "metadata": {},
   "outputs": [
    {
     "data": {
      "application/vnd.plotly.v1+json": {
       "config": {
        "plotlyServerURL": "https://plot.ly"
       },
       "data": [
        {
         "close": [
          0.87266,
          0.8724,
          0.87261,
          0.87244,
          0.87324,
          0.87374,
          0.87458,
          0.87516,
          0.8743,
          0.8749,
          0.87376,
          0.87368,
          0.87356,
          0.87092,
          0.8709,
          0.87053,
          0.8709,
          0.87064,
          0.87051,
          0.87056,
          0.8707,
          0.87062,
          0.87104,
          0.87085,
          0.8706,
          0.87038,
          0.87062,
          0.87078,
          0.87052,
          0.86936,
          0.8694,
          0.86904,
          0.869,
          0.86948,
          0.86938,
          0.8698,
          0.86882,
          0.86896,
          0.86902,
          0.86969,
          0.86908,
          0.86989,
          0.86982,
          0.86962,
          0.86946,
          0.8691,
          0.86945,
          0.86928,
          0.86916,
          0.86941,
          0.8701,
          0.86988,
          0.87026,
          0.8713,
          0.8715,
          0.87184,
          0.87233,
          0.87206,
          0.873,
          0.87282,
          0.87335,
          0.8722,
          0.8716,
          0.87108,
          0.87063,
          0.87016,
          0.87041,
          0.87049,
          0.87046,
          0.87089,
          0.8711,
          0.87129,
          0.87083,
          0.87095,
          0.87098,
          0.87068,
          0.871,
          0.87128,
          0.87152,
          0.87176,
          0.87083,
          0.8708,
          0.86979,
          0.86906,
          0.86858,
          0.86748,
          0.8673,
          0.86695,
          0.86715,
          0.86676,
          0.8664,
          0.86712,
          0.86738,
          0.86714,
          0.86736,
          0.86741,
          0.86741,
          0.86765,
          0.86732,
          0.86677,
          0.86678,
          0.86614,
          0.86682,
          0.86572,
          0.8654,
          0.867,
          0.86698,
          0.86666,
          0.86714,
          0.86735,
          0.86778,
          0.86803,
          0.86824,
          0.86845,
          0.86825,
          0.8684,
          0.86833,
          0.86831,
          0.86806,
          0.86799,
          0.86826,
          0.86844,
          0.86839,
          0.86858,
          0.8686,
          0.86832,
          0.86836,
          0.86866,
          0.86859,
          0.86851,
          0.86795,
          0.86814,
          0.86882,
          0.86927,
          0.8701,
          0.86993,
          0.86984,
          0.86998,
          0.86994,
          0.8698,
          0.8702,
          0.87012,
          0.87032,
          0.87014,
          0.8705,
          0.87048,
          0.87056,
          0.87036,
          0.87028,
          0.87052
         ],
         "high": [
          0.87292,
          0.87286,
          0.87266,
          0.87282,
          0.87332,
          0.87393,
          0.87458,
          0.87542,
          0.87516,
          0.8753,
          0.8751,
          0.87407,
          0.87379,
          0.87363,
          0.87128,
          0.87096,
          0.87099,
          0.87107,
          0.87098,
          0.8708,
          0.8707,
          0.87076,
          0.8711,
          0.87126,
          0.87087,
          0.87062,
          0.87069,
          0.87098,
          0.87089,
          0.8707,
          0.86954,
          0.86943,
          0.86938,
          0.8696,
          0.86961,
          0.87005,
          0.86992,
          0.86913,
          0.86939,
          0.86969,
          0.86974,
          0.86996,
          0.87034,
          0.87044,
          0.86994,
          0.86958,
          0.86956,
          0.86949,
          0.86942,
          0.8695,
          0.87014,
          0.87018,
          0.87038,
          0.87158,
          0.87174,
          0.87195,
          0.87241,
          0.8724,
          0.87306,
          0.87354,
          0.87359,
          0.87355,
          0.87242,
          0.87173,
          0.87124,
          0.87074,
          0.87056,
          0.87068,
          0.8706,
          0.8709,
          0.87123,
          0.8713,
          0.87128,
          0.87108,
          0.87111,
          0.87106,
          0.8712,
          0.87141,
          0.87185,
          0.87215,
          0.87174,
          0.8713,
          0.87118,
          0.87016,
          0.8693,
          0.8687,
          0.8679,
          0.86745,
          0.86736,
          0.86722,
          0.8669,
          0.86712,
          0.8674,
          0.86737,
          0.86748,
          0.86752,
          0.86753,
          0.86766,
          0.86767,
          0.86732,
          0.86708,
          0.86722,
          0.86684,
          0.86689,
          0.86586,
          0.86709,
          0.86707,
          0.86699,
          0.8673,
          0.86746,
          0.86779,
          0.86811,
          0.86824,
          0.86865,
          0.86863,
          0.8685,
          0.86852,
          0.86838,
          0.86832,
          0.86812,
          0.86826,
          0.86846,
          0.8685,
          0.86867,
          0.86871,
          0.8686,
          0.86887,
          0.86907,
          0.86913,
          0.86886,
          0.86869,
          0.86841,
          0.86924,
          0.86928,
          0.8704,
          0.87026,
          0.87,
          0.87,
          0.87008,
          0.87008,
          0.87032,
          0.87032,
          0.87041,
          0.87035,
          0.87052,
          0.87054,
          0.8706,
          0.87064,
          0.87048,
          0.87057
         ],
         "line": {
          "width": 1
         },
         "low": [
          0.87246,
          0.87234,
          0.87217,
          0.87237,
          0.87236,
          0.87297,
          0.87374,
          0.87318,
          0.87415,
          0.87412,
          0.87364,
          0.87321,
          0.87305,
          0.8709,
          0.87044,
          0.87006,
          0.87046,
          0.87054,
          0.87048,
          0.87016,
          0.87016,
          0.8706,
          0.87059,
          0.87084,
          0.87041,
          0.8703,
          0.87031,
          0.8706,
          0.87038,
          0.86906,
          0.8685,
          0.86894,
          0.86872,
          0.86877,
          0.86896,
          0.86905,
          0.86862,
          0.86828,
          0.86885,
          0.86895,
          0.86876,
          0.86892,
          0.86979,
          0.86941,
          0.86906,
          0.86902,
          0.86898,
          0.86924,
          0.86896,
          0.8691,
          0.8694,
          0.86984,
          0.86984,
          0.87031,
          0.87092,
          0.8711,
          0.87157,
          0.87175,
          0.87078,
          0.87241,
          0.87256,
          0.87219,
          0.87124,
          0.87108,
          0.87062,
          0.87006,
          0.87,
          0.8699,
          0.87028,
          0.87046,
          0.87083,
          0.87102,
          0.8708,
          0.87078,
          0.8709,
          0.87068,
          0.87068,
          0.87048,
          0.87118,
          0.87139,
          0.87072,
          0.87066,
          0.86977,
          0.86877,
          0.86772,
          0.86738,
          0.8669,
          0.86668,
          0.86686,
          0.86661,
          0.86638,
          0.86655,
          0.86662,
          0.867,
          0.86688,
          0.86694,
          0.86726,
          0.86718,
          0.86732,
          0.86671,
          0.86652,
          0.86606,
          0.86554,
          0.86563,
          0.86511,
          0.86498,
          0.86623,
          0.86643,
          0.86662,
          0.8668,
          0.86696,
          0.86765,
          0.86752,
          0.86808,
          0.86818,
          0.86768,
          0.86824,
          0.86794,
          0.8679,
          0.86796,
          0.86796,
          0.86816,
          0.86813,
          0.86818,
          0.86819,
          0.86794,
          0.86797,
          0.8683,
          0.86852,
          0.86838,
          0.86776,
          0.86786,
          0.86779,
          0.86846,
          0.86915,
          0.86979,
          0.86962,
          0.86968,
          0.86988,
          0.86971,
          0.86975,
          0.8701,
          0.87007,
          0.87002,
          0.87014,
          0.8703,
          0.87034,
          0.87034,
          0.87016,
          0.86997
         ],
         "opacity": 1,
         "open": [
          0.87281,
          0.87268,
          0.87239,
          0.87263,
          0.87244,
          0.87323,
          0.87374,
          0.87456,
          0.87516,
          0.8743,
          0.8749,
          0.87376,
          0.87362,
          0.87353,
          0.87091,
          0.8709,
          0.87052,
          0.87087,
          0.87065,
          0.8703,
          0.87052,
          0.87073,
          0.87061,
          0.87104,
          0.87087,
          0.8706,
          0.87039,
          0.87062,
          0.87081,
          0.87054,
          0.86935,
          0.86939,
          0.86902,
          0.869,
          0.86946,
          0.86944,
          0.86986,
          0.86884,
          0.86899,
          0.86902,
          0.86972,
          0.86908,
          0.8699,
          0.87022,
          0.86966,
          0.86945,
          0.8691,
          0.86944,
          0.86928,
          0.86916,
          0.8694,
          0.87011,
          0.8699,
          0.87032,
          0.87126,
          0.87152,
          0.87183,
          0.87231,
          0.87206,
          0.873,
          0.8728,
          0.87336,
          0.87223,
          0.87162,
          0.87106,
          0.87064,
          0.87017,
          0.8699,
          0.87046,
          0.87046,
          0.8709,
          0.87109,
          0.87126,
          0.8708,
          0.87096,
          0.87098,
          0.8707,
          0.87102,
          0.87128,
          0.8715,
          0.87174,
          0.87082,
          0.8708,
          0.86979,
          0.86904,
          0.8686,
          0.86751,
          0.8673,
          0.86696,
          0.86714,
          0.86679,
          0.86669,
          0.86711,
          0.86737,
          0.86716,
          0.86732,
          0.86742,
          0.8674,
          0.86766,
          0.8673,
          0.86679,
          0.86682,
          0.86612,
          0.86682,
          0.86571,
          0.86542,
          0.86697,
          0.86698,
          0.86666,
          0.86714,
          0.86736,
          0.8678,
          0.86806,
          0.86824,
          0.86847,
          0.86768,
          0.86835,
          0.86834,
          0.86829,
          0.86804,
          0.86797,
          0.86824,
          0.86846,
          0.86839,
          0.86857,
          0.86858,
          0.86828,
          0.86837,
          0.86868,
          0.86862,
          0.8685,
          0.86792,
          0.86816,
          0.86879,
          0.86924,
          0.8701,
          0.86993,
          0.86984,
          0.86998,
          0.87002,
          0.8698,
          0.8702,
          0.87014,
          0.87033,
          0.87014,
          0.87048,
          0.87048,
          0.87057,
          0.87036,
          0.87025
         ],
         "type": "candlestick",
         "x": [
          "2023-10-31T02:00:00.000000000Z",
          "2023-10-31T03:00:00.000000000Z",
          "2023-10-31T04:00:00.000000000Z",
          "2023-10-31T05:00:00.000000000Z",
          "2023-10-31T06:00:00.000000000Z",
          "2023-10-31T07:00:00.000000000Z",
          "2023-10-31T08:00:00.000000000Z",
          "2023-10-31T09:00:00.000000000Z",
          "2023-10-31T10:00:00.000000000Z",
          "2023-10-31T11:00:00.000000000Z",
          "2023-10-31T12:00:00.000000000Z",
          "2023-10-31T13:00:00.000000000Z",
          "2023-10-31T14:00:00.000000000Z",
          "2023-10-31T15:00:00.000000000Z",
          "2023-10-31T16:00:00.000000000Z",
          "2023-10-31T17:00:00.000000000Z",
          "2023-10-31T18:00:00.000000000Z",
          "2023-10-31T19:00:00.000000000Z",
          "2023-10-31T20:00:00.000000000Z",
          "2023-10-31T21:00:00.000000000Z",
          "2023-10-31T22:00:00.000000000Z",
          "2023-10-31T23:00:00.000000000Z",
          "2023-11-01T00:00:00.000000000Z",
          "2023-11-01T01:00:00.000000000Z",
          "2023-11-01T02:00:00.000000000Z",
          "2023-11-01T03:00:00.000000000Z",
          "2023-11-01T04:00:00.000000000Z",
          "2023-11-01T05:00:00.000000000Z",
          "2023-11-01T06:00:00.000000000Z",
          "2023-11-01T07:00:00.000000000Z",
          "2023-11-01T08:00:00.000000000Z",
          "2023-11-01T09:00:00.000000000Z",
          "2023-11-01T10:00:00.000000000Z",
          "2023-11-01T11:00:00.000000000Z",
          "2023-11-01T12:00:00.000000000Z",
          "2023-11-01T13:00:00.000000000Z",
          "2023-11-01T14:00:00.000000000Z",
          "2023-11-01T15:00:00.000000000Z",
          "2023-11-01T16:00:00.000000000Z",
          "2023-11-01T17:00:00.000000000Z",
          "2023-11-01T18:00:00.000000000Z",
          "2023-11-01T19:00:00.000000000Z",
          "2023-11-01T20:00:00.000000000Z",
          "2023-11-01T21:00:00.000000000Z",
          "2023-11-01T22:00:00.000000000Z",
          "2023-11-01T23:00:00.000000000Z",
          "2023-11-02T00:00:00.000000000Z",
          "2023-11-02T01:00:00.000000000Z",
          "2023-11-02T02:00:00.000000000Z",
          "2023-11-02T03:00:00.000000000Z",
          "2023-11-02T04:00:00.000000000Z",
          "2023-11-02T05:00:00.000000000Z",
          "2023-11-02T06:00:00.000000000Z",
          "2023-11-02T07:00:00.000000000Z",
          "2023-11-02T08:00:00.000000000Z",
          "2023-11-02T09:00:00.000000000Z",
          "2023-11-02T10:00:00.000000000Z",
          "2023-11-02T11:00:00.000000000Z",
          "2023-11-02T12:00:00.000000000Z",
          "2023-11-02T13:00:00.000000000Z",
          "2023-11-02T14:00:00.000000000Z",
          "2023-11-02T15:00:00.000000000Z",
          "2023-11-02T16:00:00.000000000Z",
          "2023-11-02T17:00:00.000000000Z",
          "2023-11-02T18:00:00.000000000Z",
          "2023-11-02T19:00:00.000000000Z",
          "2023-11-02T20:00:00.000000000Z",
          "2023-11-02T21:00:00.000000000Z",
          "2023-11-02T22:00:00.000000000Z",
          "2023-11-02T23:00:00.000000000Z",
          "2023-11-03T00:00:00.000000000Z",
          "2023-11-03T01:00:00.000000000Z",
          "2023-11-03T02:00:00.000000000Z",
          "2023-11-03T03:00:00.000000000Z",
          "2023-11-03T04:00:00.000000000Z",
          "2023-11-03T05:00:00.000000000Z",
          "2023-11-03T06:00:00.000000000Z",
          "2023-11-03T07:00:00.000000000Z",
          "2023-11-03T08:00:00.000000000Z",
          "2023-11-03T09:00:00.000000000Z",
          "2023-11-03T10:00:00.000000000Z",
          "2023-11-03T11:00:00.000000000Z",
          "2023-11-03T12:00:00.000000000Z",
          "2023-11-03T13:00:00.000000000Z",
          "2023-11-03T14:00:00.000000000Z",
          "2023-11-03T15:00:00.000000000Z",
          "2023-11-03T16:00:00.000000000Z",
          "2023-11-03T17:00:00.000000000Z",
          "2023-11-03T18:00:00.000000000Z",
          "2023-11-03T19:00:00.000000000Z",
          "2023-11-03T20:00:00.000000000Z",
          "2023-11-05T22:00:00.000000000Z",
          "2023-11-05T23:00:00.000000000Z",
          "2023-11-06T00:00:00.000000000Z",
          "2023-11-06T01:00:00.000000000Z",
          "2023-11-06T02:00:00.000000000Z",
          "2023-11-06T03:00:00.000000000Z",
          "2023-11-06T04:00:00.000000000Z",
          "2023-11-06T05:00:00.000000000Z",
          "2023-11-06T06:00:00.000000000Z",
          "2023-11-06T07:00:00.000000000Z",
          "2023-11-06T08:00:00.000000000Z",
          "2023-11-06T09:00:00.000000000Z",
          "2023-11-06T10:00:00.000000000Z",
          "2023-11-06T11:00:00.000000000Z",
          "2023-11-06T12:00:00.000000000Z",
          "2023-11-06T13:00:00.000000000Z",
          "2023-11-06T14:00:00.000000000Z",
          "2023-11-06T15:00:00.000000000Z",
          "2023-11-06T16:00:00.000000000Z",
          "2023-11-06T17:00:00.000000000Z",
          "2023-11-06T18:00:00.000000000Z",
          "2023-11-06T19:00:00.000000000Z",
          "2023-11-06T20:00:00.000000000Z",
          "2023-11-06T21:00:00.000000000Z",
          "2023-11-06T22:00:00.000000000Z",
          "2023-11-06T23:00:00.000000000Z",
          "2023-11-07T00:00:00.000000000Z",
          "2023-11-07T01:00:00.000000000Z",
          "2023-11-07T02:00:00.000000000Z",
          "2023-11-07T03:00:00.000000000Z",
          "2023-11-07T04:00:00.000000000Z",
          "2023-11-07T05:00:00.000000000Z",
          "2023-11-07T06:00:00.000000000Z",
          "2023-11-07T07:00:00.000000000Z",
          "2023-11-07T08:00:00.000000000Z",
          "2023-11-07T09:00:00.000000000Z",
          "2023-11-07T10:00:00.000000000Z",
          "2023-11-07T11:00:00.000000000Z",
          "2023-11-07T12:00:00.000000000Z",
          "2023-11-07T13:00:00.000000000Z",
          "2023-11-07T14:00:00.000000000Z",
          "2023-11-07T15:00:00.000000000Z",
          "2023-11-07T16:00:00.000000000Z",
          "2023-11-07T17:00:00.000000000Z",
          "2023-11-07T18:00:00.000000000Z",
          "2023-11-07T19:00:00.000000000Z",
          "2023-11-07T20:00:00.000000000Z",
          "2023-11-07T21:00:00.000000000Z",
          "2023-11-07T22:00:00.000000000Z",
          "2023-11-07T23:00:00.000000000Z",
          "2023-11-08T00:00:00.000000000Z",
          "2023-11-08T01:00:00.000000000Z",
          "2023-11-08T02:00:00.000000000Z",
          "2023-11-08T03:00:00.000000000Z",
          "2023-11-08T04:00:00.000000000Z",
          "2023-11-08T05:00:00.000000000Z",
          "2023-11-08T06:00:00.000000000Z",
          "2023-11-08T07:00:00.000000000Z",
          "2023-11-08T08:00:00.000000000Z"
         ]
        },
        {
         "line": {
          "shape": "spline",
          "width": 2
         },
         "name": "MA_16",
         "type": "scatter",
         "x": [
          "2023-10-31T02:00:00.000000000Z",
          "2023-10-31T03:00:00.000000000Z",
          "2023-10-31T04:00:00.000000000Z",
          "2023-10-31T05:00:00.000000000Z",
          "2023-10-31T06:00:00.000000000Z",
          "2023-10-31T07:00:00.000000000Z",
          "2023-10-31T08:00:00.000000000Z",
          "2023-10-31T09:00:00.000000000Z",
          "2023-10-31T10:00:00.000000000Z",
          "2023-10-31T11:00:00.000000000Z",
          "2023-10-31T12:00:00.000000000Z",
          "2023-10-31T13:00:00.000000000Z",
          "2023-10-31T14:00:00.000000000Z",
          "2023-10-31T15:00:00.000000000Z",
          "2023-10-31T16:00:00.000000000Z",
          "2023-10-31T17:00:00.000000000Z",
          "2023-10-31T18:00:00.000000000Z",
          "2023-10-31T19:00:00.000000000Z",
          "2023-10-31T20:00:00.000000000Z",
          "2023-10-31T21:00:00.000000000Z",
          "2023-10-31T22:00:00.000000000Z",
          "2023-10-31T23:00:00.000000000Z",
          "2023-11-01T00:00:00.000000000Z",
          "2023-11-01T01:00:00.000000000Z",
          "2023-11-01T02:00:00.000000000Z",
          "2023-11-01T03:00:00.000000000Z",
          "2023-11-01T04:00:00.000000000Z",
          "2023-11-01T05:00:00.000000000Z",
          "2023-11-01T06:00:00.000000000Z",
          "2023-11-01T07:00:00.000000000Z",
          "2023-11-01T08:00:00.000000000Z",
          "2023-11-01T09:00:00.000000000Z",
          "2023-11-01T10:00:00.000000000Z",
          "2023-11-01T11:00:00.000000000Z",
          "2023-11-01T12:00:00.000000000Z",
          "2023-11-01T13:00:00.000000000Z",
          "2023-11-01T14:00:00.000000000Z",
          "2023-11-01T15:00:00.000000000Z",
          "2023-11-01T16:00:00.000000000Z",
          "2023-11-01T17:00:00.000000000Z",
          "2023-11-01T18:00:00.000000000Z",
          "2023-11-01T19:00:00.000000000Z",
          "2023-11-01T20:00:00.000000000Z",
          "2023-11-01T21:00:00.000000000Z",
          "2023-11-01T22:00:00.000000000Z",
          "2023-11-01T23:00:00.000000000Z",
          "2023-11-02T00:00:00.000000000Z",
          "2023-11-02T01:00:00.000000000Z",
          "2023-11-02T02:00:00.000000000Z",
          "2023-11-02T03:00:00.000000000Z",
          "2023-11-02T04:00:00.000000000Z",
          "2023-11-02T05:00:00.000000000Z",
          "2023-11-02T06:00:00.000000000Z",
          "2023-11-02T07:00:00.000000000Z",
          "2023-11-02T08:00:00.000000000Z",
          "2023-11-02T09:00:00.000000000Z",
          "2023-11-02T10:00:00.000000000Z",
          "2023-11-02T11:00:00.000000000Z",
          "2023-11-02T12:00:00.000000000Z",
          "2023-11-02T13:00:00.000000000Z",
          "2023-11-02T14:00:00.000000000Z",
          "2023-11-02T15:00:00.000000000Z",
          "2023-11-02T16:00:00.000000000Z",
          "2023-11-02T17:00:00.000000000Z",
          "2023-11-02T18:00:00.000000000Z",
          "2023-11-02T19:00:00.000000000Z",
          "2023-11-02T20:00:00.000000000Z",
          "2023-11-02T21:00:00.000000000Z",
          "2023-11-02T22:00:00.000000000Z",
          "2023-11-02T23:00:00.000000000Z",
          "2023-11-03T00:00:00.000000000Z",
          "2023-11-03T01:00:00.000000000Z",
          "2023-11-03T02:00:00.000000000Z",
          "2023-11-03T03:00:00.000000000Z",
          "2023-11-03T04:00:00.000000000Z",
          "2023-11-03T05:00:00.000000000Z",
          "2023-11-03T06:00:00.000000000Z",
          "2023-11-03T07:00:00.000000000Z",
          "2023-11-03T08:00:00.000000000Z",
          "2023-11-03T09:00:00.000000000Z",
          "2023-11-03T10:00:00.000000000Z",
          "2023-11-03T11:00:00.000000000Z",
          "2023-11-03T12:00:00.000000000Z",
          "2023-11-03T13:00:00.000000000Z",
          "2023-11-03T14:00:00.000000000Z",
          "2023-11-03T15:00:00.000000000Z",
          "2023-11-03T16:00:00.000000000Z",
          "2023-11-03T17:00:00.000000000Z",
          "2023-11-03T18:00:00.000000000Z",
          "2023-11-03T19:00:00.000000000Z",
          "2023-11-03T20:00:00.000000000Z",
          "2023-11-05T22:00:00.000000000Z",
          "2023-11-05T23:00:00.000000000Z",
          "2023-11-06T00:00:00.000000000Z",
          "2023-11-06T01:00:00.000000000Z",
          "2023-11-06T02:00:00.000000000Z",
          "2023-11-06T03:00:00.000000000Z",
          "2023-11-06T04:00:00.000000000Z",
          "2023-11-06T05:00:00.000000000Z",
          "2023-11-06T06:00:00.000000000Z",
          "2023-11-06T07:00:00.000000000Z",
          "2023-11-06T08:00:00.000000000Z",
          "2023-11-06T09:00:00.000000000Z",
          "2023-11-06T10:00:00.000000000Z",
          "2023-11-06T11:00:00.000000000Z",
          "2023-11-06T12:00:00.000000000Z",
          "2023-11-06T13:00:00.000000000Z",
          "2023-11-06T14:00:00.000000000Z",
          "2023-11-06T15:00:00.000000000Z",
          "2023-11-06T16:00:00.000000000Z",
          "2023-11-06T17:00:00.000000000Z",
          "2023-11-06T18:00:00.000000000Z",
          "2023-11-06T19:00:00.000000000Z",
          "2023-11-06T20:00:00.000000000Z",
          "2023-11-06T21:00:00.000000000Z",
          "2023-11-06T22:00:00.000000000Z",
          "2023-11-06T23:00:00.000000000Z",
          "2023-11-07T00:00:00.000000000Z",
          "2023-11-07T01:00:00.000000000Z",
          "2023-11-07T02:00:00.000000000Z",
          "2023-11-07T03:00:00.000000000Z",
          "2023-11-07T04:00:00.000000000Z",
          "2023-11-07T05:00:00.000000000Z",
          "2023-11-07T06:00:00.000000000Z",
          "2023-11-07T07:00:00.000000000Z",
          "2023-11-07T08:00:00.000000000Z",
          "2023-11-07T09:00:00.000000000Z",
          "2023-11-07T10:00:00.000000000Z",
          "2023-11-07T11:00:00.000000000Z",
          "2023-11-07T12:00:00.000000000Z",
          "2023-11-07T13:00:00.000000000Z",
          "2023-11-07T14:00:00.000000000Z",
          "2023-11-07T15:00:00.000000000Z",
          "2023-11-07T16:00:00.000000000Z",
          "2023-11-07T17:00:00.000000000Z",
          "2023-11-07T18:00:00.000000000Z",
          "2023-11-07T19:00:00.000000000Z",
          "2023-11-07T20:00:00.000000000Z",
          "2023-11-07T21:00:00.000000000Z",
          "2023-11-07T22:00:00.000000000Z",
          "2023-11-07T23:00:00.000000000Z",
          "2023-11-08T00:00:00.000000000Z",
          "2023-11-08T01:00:00.000000000Z",
          "2023-11-08T02:00:00.000000000Z",
          "2023-11-08T03:00:00.000000000Z",
          "2023-11-08T04:00:00.000000000Z",
          "2023-11-08T05:00:00.000000000Z",
          "2023-11-08T06:00:00.000000000Z",
          "2023-11-08T07:00:00.000000000Z",
          "2023-11-08T08:00:00.000000000Z"
         ],
         "y": [
          0.8729224999999999,
          0.872885625,
          0.87283,
          0.8727287499999999,
          0.872711875,
          0.872720625,
          0.872815,
          0.8729500000000001,
          0.87302875,
          0.873200625,
          0.873290625,
          0.873365625,
          0.873443125,
          0.8733393749999999,
          0.873228125,
          0.8730862500000001,
          0.87297625,
          0.87286625,
          0.872735,
          0.8726175,
          0.87245875,
          0.87226375,
          0.8720425,
          0.8717731249999999,
          0.8715418749999999,
          0.8712593750000001,
          0.871063125,
          0.870881875,
          0.870691875,
          0.870594375,
          0.870500625,
          0.8704075,
          0.87028875,
          0.87021625,
          0.8701456249999999,
          0.8700981250000001,
          0.8699806250000001,
          0.869876875,
          0.869750625,
          0.8696781250000001,
          0.869583125,
          0.8695525,
          0.8695025,
          0.8694299999999999,
          0.86936375,
          0.8693475,
          0.8693506249999999,
          0.8693656249999999,
          0.869375625,
          0.86937125,
          0.86941625,
          0.8694212499999999,
          0.86951125,
          0.8696575,
          0.8698125,
          0.8699468749999999,
          0.8701500000000001,
          0.8702856250000001,
          0.870484375,
          0.8706843750000001,
          0.8709275000000001,
          0.87112125,
          0.8712556250000001,
          0.871368125,
          0.87146,
          0.871506875,
          0.8715262500000001,
          0.8715643750000001,
          0.871576875,
          0.87155125,
          0.87152625,
          0.871491875,
          0.8713981249999999,
          0.87132875,
          0.8712025,
          0.87106875,
          0.870921875,
          0.870864375,
          0.870859375,
          0.870901875,
          0.870914375,
          0.870954375,
          0.870915625,
          0.87082625,
          0.87070875,
          0.870495625,
          0.870258125,
          0.869986875,
          0.869756875,
          0.869495,
          0.8692087500000001,
          0.8689862500000001,
          0.86876,
          0.86850125,
          0.86824125,
          0.8679693749999999,
          0.8677556249999999,
          0.86755875,
          0.867404375,
          0.86726125,
          0.86714875,
          0.8670650000000001,
          0.867035,
          0.866958125,
          0.8668487500000001,
          0.86686375,
          0.8669,
          0.86687125,
          0.86685625,
          0.8668693749999999,
          0.866895625,
          0.866934375,
          0.8669862500000001,
          0.86703625,
          0.867094375,
          0.86719625,
          0.867293125,
          0.86742875,
          0.86750625,
          0.867648125,
          0.867826875,
          0.8679168749999999,
          0.8680049999999999,
          0.868125,
          0.86821625,
          0.8682768750000001,
          0.868313125,
          0.8683525,
          0.868374375,
          0.868378125,
          0.868359375,
          0.868343125,
          0.8683737499999999,
          0.86843375,
          0.8685612500000001,
          0.8686825,
          0.8687812500000001,
          0.8688775000000001,
          0.8689743750000001,
          0.869050625,
          0.8691506250000001,
          0.869263125,
          0.869385625,
          0.869478125,
          0.8695974999999999,
          0.869720625,
          0.8698837500000001,
          0.8700225,
          0.87011375,
          0.8701918750000001
         ]
        },
        {
         "line": {
          "shape": "spline",
          "width": 2
         },
         "name": "MA_64",
         "type": "scatter",
         "x": [
          "2023-10-31T02:00:00.000000000Z",
          "2023-10-31T03:00:00.000000000Z",
          "2023-10-31T04:00:00.000000000Z",
          "2023-10-31T05:00:00.000000000Z",
          "2023-10-31T06:00:00.000000000Z",
          "2023-10-31T07:00:00.000000000Z",
          "2023-10-31T08:00:00.000000000Z",
          "2023-10-31T09:00:00.000000000Z",
          "2023-10-31T10:00:00.000000000Z",
          "2023-10-31T11:00:00.000000000Z",
          "2023-10-31T12:00:00.000000000Z",
          "2023-10-31T13:00:00.000000000Z",
          "2023-10-31T14:00:00.000000000Z",
          "2023-10-31T15:00:00.000000000Z",
          "2023-10-31T16:00:00.000000000Z",
          "2023-10-31T17:00:00.000000000Z",
          "2023-10-31T18:00:00.000000000Z",
          "2023-10-31T19:00:00.000000000Z",
          "2023-10-31T20:00:00.000000000Z",
          "2023-10-31T21:00:00.000000000Z",
          "2023-10-31T22:00:00.000000000Z",
          "2023-10-31T23:00:00.000000000Z",
          "2023-11-01T00:00:00.000000000Z",
          "2023-11-01T01:00:00.000000000Z",
          "2023-11-01T02:00:00.000000000Z",
          "2023-11-01T03:00:00.000000000Z",
          "2023-11-01T04:00:00.000000000Z",
          "2023-11-01T05:00:00.000000000Z",
          "2023-11-01T06:00:00.000000000Z",
          "2023-11-01T07:00:00.000000000Z",
          "2023-11-01T08:00:00.000000000Z",
          "2023-11-01T09:00:00.000000000Z",
          "2023-11-01T10:00:00.000000000Z",
          "2023-11-01T11:00:00.000000000Z",
          "2023-11-01T12:00:00.000000000Z",
          "2023-11-01T13:00:00.000000000Z",
          "2023-11-01T14:00:00.000000000Z",
          "2023-11-01T15:00:00.000000000Z",
          "2023-11-01T16:00:00.000000000Z",
          "2023-11-01T17:00:00.000000000Z",
          "2023-11-01T18:00:00.000000000Z",
          "2023-11-01T19:00:00.000000000Z",
          "2023-11-01T20:00:00.000000000Z",
          "2023-11-01T21:00:00.000000000Z",
          "2023-11-01T22:00:00.000000000Z",
          "2023-11-01T23:00:00.000000000Z",
          "2023-11-02T00:00:00.000000000Z",
          "2023-11-02T01:00:00.000000000Z",
          "2023-11-02T02:00:00.000000000Z",
          "2023-11-02T03:00:00.000000000Z",
          "2023-11-02T04:00:00.000000000Z",
          "2023-11-02T05:00:00.000000000Z",
          "2023-11-02T06:00:00.000000000Z",
          "2023-11-02T07:00:00.000000000Z",
          "2023-11-02T08:00:00.000000000Z",
          "2023-11-02T09:00:00.000000000Z",
          "2023-11-02T10:00:00.000000000Z",
          "2023-11-02T11:00:00.000000000Z",
          "2023-11-02T12:00:00.000000000Z",
          "2023-11-02T13:00:00.000000000Z",
          "2023-11-02T14:00:00.000000000Z",
          "2023-11-02T15:00:00.000000000Z",
          "2023-11-02T16:00:00.000000000Z",
          "2023-11-02T17:00:00.000000000Z",
          "2023-11-02T18:00:00.000000000Z",
          "2023-11-02T19:00:00.000000000Z",
          "2023-11-02T20:00:00.000000000Z",
          "2023-11-02T21:00:00.000000000Z",
          "2023-11-02T22:00:00.000000000Z",
          "2023-11-02T23:00:00.000000000Z",
          "2023-11-03T00:00:00.000000000Z",
          "2023-11-03T01:00:00.000000000Z",
          "2023-11-03T02:00:00.000000000Z",
          "2023-11-03T03:00:00.000000000Z",
          "2023-11-03T04:00:00.000000000Z",
          "2023-11-03T05:00:00.000000000Z",
          "2023-11-03T06:00:00.000000000Z",
          "2023-11-03T07:00:00.000000000Z",
          "2023-11-03T08:00:00.000000000Z",
          "2023-11-03T09:00:00.000000000Z",
          "2023-11-03T10:00:00.000000000Z",
          "2023-11-03T11:00:00.000000000Z",
          "2023-11-03T12:00:00.000000000Z",
          "2023-11-03T13:00:00.000000000Z",
          "2023-11-03T14:00:00.000000000Z",
          "2023-11-03T15:00:00.000000000Z",
          "2023-11-03T16:00:00.000000000Z",
          "2023-11-03T17:00:00.000000000Z",
          "2023-11-03T18:00:00.000000000Z",
          "2023-11-03T19:00:00.000000000Z",
          "2023-11-03T20:00:00.000000000Z",
          "2023-11-05T22:00:00.000000000Z",
          "2023-11-05T23:00:00.000000000Z",
          "2023-11-06T00:00:00.000000000Z",
          "2023-11-06T01:00:00.000000000Z",
          "2023-11-06T02:00:00.000000000Z",
          "2023-11-06T03:00:00.000000000Z",
          "2023-11-06T04:00:00.000000000Z",
          "2023-11-06T05:00:00.000000000Z",
          "2023-11-06T06:00:00.000000000Z",
          "2023-11-06T07:00:00.000000000Z",
          "2023-11-06T08:00:00.000000000Z",
          "2023-11-06T09:00:00.000000000Z",
          "2023-11-06T10:00:00.000000000Z",
          "2023-11-06T11:00:00.000000000Z",
          "2023-11-06T12:00:00.000000000Z",
          "2023-11-06T13:00:00.000000000Z",
          "2023-11-06T14:00:00.000000000Z",
          "2023-11-06T15:00:00.000000000Z",
          "2023-11-06T16:00:00.000000000Z",
          "2023-11-06T17:00:00.000000000Z",
          "2023-11-06T18:00:00.000000000Z",
          "2023-11-06T19:00:00.000000000Z",
          "2023-11-06T20:00:00.000000000Z",
          "2023-11-06T21:00:00.000000000Z",
          "2023-11-06T22:00:00.000000000Z",
          "2023-11-06T23:00:00.000000000Z",
          "2023-11-07T00:00:00.000000000Z",
          "2023-11-07T01:00:00.000000000Z",
          "2023-11-07T02:00:00.000000000Z",
          "2023-11-07T03:00:00.000000000Z",
          "2023-11-07T04:00:00.000000000Z",
          "2023-11-07T05:00:00.000000000Z",
          "2023-11-07T06:00:00.000000000Z",
          "2023-11-07T07:00:00.000000000Z",
          "2023-11-07T08:00:00.000000000Z",
          "2023-11-07T09:00:00.000000000Z",
          "2023-11-07T10:00:00.000000000Z",
          "2023-11-07T11:00:00.000000000Z",
          "2023-11-07T12:00:00.000000000Z",
          "2023-11-07T13:00:00.000000000Z",
          "2023-11-07T14:00:00.000000000Z",
          "2023-11-07T15:00:00.000000000Z",
          "2023-11-07T16:00:00.000000000Z",
          "2023-11-07T17:00:00.000000000Z",
          "2023-11-07T18:00:00.000000000Z",
          "2023-11-07T19:00:00.000000000Z",
          "2023-11-07T20:00:00.000000000Z",
          "2023-11-07T21:00:00.000000000Z",
          "2023-11-07T22:00:00.000000000Z",
          "2023-11-07T23:00:00.000000000Z",
          "2023-11-08T00:00:00.000000000Z",
          "2023-11-08T01:00:00.000000000Z",
          "2023-11-08T02:00:00.000000000Z",
          "2023-11-08T03:00:00.000000000Z",
          "2023-11-08T04:00:00.000000000Z",
          "2023-11-08T05:00:00.000000000Z",
          "2023-11-08T06:00:00.000000000Z",
          "2023-11-08T07:00:00.000000000Z",
          "2023-11-08T08:00:00.000000000Z"
         ],
         "y": [
          0.87158640625,
          0.8715960937499999,
          0.8716231249999999,
          0.87165984375,
          0.87172046875,
          0.8717846874999999,
          0.871859375,
          0.8719414062499999,
          0.87200421875,
          0.87206671875,
          0.872110625,
          0.87215625,
          0.8722021875,
          0.8722096875,
          0.872214375,
          0.8722146875000001,
          0.8722215625,
          0.872221875,
          0.87222046875,
          0.8722154687500001,
          0.8722125000000001,
          0.8722028125,
          0.8722053125,
          0.8722107812500001,
          0.87220953125,
          0.8722121875,
          0.872219375,
          0.8722146875000001,
          0.8722062500000001,
          0.872169375,
          0.87212359375,
          0.87207890625,
          0.8720267187499999,
          0.8719853125,
          0.8719481250000001,
          0.8719221875,
          0.8718787499999999,
          0.87183171875,
          0.87178203125,
          0.8717448437499999,
          0.87169953125,
          0.8716775,
          0.8716493750000001,
          0.871614375,
          0.87159078125,
          0.8715365625,
          0.8714906250000001,
          0.8714396875,
          0.87139078125,
          0.87133484375,
          0.87128171875,
          0.8712164062500001,
          0.8711656249999999,
          0.8711296875000001,
          0.87110515625,
          0.87108703125,
          0.8710759375,
          0.87107453125,
          0.87108515625,
          0.87109046875,
          0.8711065625,
          0.871100625,
          0.8710837499999999,
          0.871056875,
          0.87102515625,
          0.8709901562500001,
          0.8709557812500001,
          0.8709253124999999,
          0.870881875,
          0.8708373437500001,
          0.87078296875,
          0.8707225000000001,
          0.8706682812500001,
          0.8706065625,
          0.870563125,
          0.87051625,
          0.87047625,
          0.870481875,
          0.8704915625,
          0.8705107812499999,
          0.8705096875,
          0.8705121874999999,
          0.8705009375,
          0.8704774999999999,
          0.8704443749999999,
          0.8703953125,
          0.870336875,
          0.8702759375,
          0.87022203125,
          0.87016546875,
          0.8700995312500001,
          0.87004234375,
          0.86999328125,
          0.86995859375,
          0.8699267187499999,
          0.8699012500000001,
          0.8698764062500001,
          0.8698478125,
          0.869815625,
          0.86976828125,
          0.86973640625,
          0.86969234375,
          0.86965796875,
          0.8695959375000001,
          0.8695384375,
          0.86949328125,
          0.8694489062499999,
          0.86940265625,
          0.8693664062500001,
          0.8693390625,
          0.86931296875,
          0.8692934375,
          0.8692790625,
          0.8692640625,
          0.86923515625,
          0.8692120312499999,
          0.869181875,
          0.8691351562499999,
          0.86908140625,
          0.86902125,
          0.8689576562500001,
          0.86890109375,
          0.8688290625,
          0.8687628125000001,
          0.8686885937500001,
          0.86862796875,
          0.8685773437500001,
          0.86853953125,
          0.86850765625,
          0.868481875,
          0.8684434375,
          0.86840671875,
          0.86838109375,
          0.86835578125,
          0.8683401562499999,
          0.86831890625,
          0.8683034374999999,
          0.86828828125,
          0.8682720312500001,
          0.86825828125,
          0.86824578125,
          0.86822765625,
          0.8682089062499999,
          0.8681835937500001,
          0.8681784375,
          0.8681734375000001,
          0.86818546875,
          0.86820578125,
          0.86823234375,
          0.86827984375
         ]
        }
       ],
       "layout": {
        "font": {
         "color": "#e1e1e1",
         "size": 10
        },
        "height": 300,
        "margin": {
         "b": 10,
         "l": 10,
         "r": 10,
         "t": 10
        },
        "paper_bgcolor": "#0d1117",
        "plot_bgcolor": "#0d1117",
        "template": {
         "data": {
          "bar": [
           {
            "error_x": {
             "color": "#2a3f5f"
            },
            "error_y": {
             "color": "#2a3f5f"
            },
            "marker": {
             "line": {
              "color": "#E5ECF6",
              "width": 0.5
             },
             "pattern": {
              "fillmode": "overlay",
              "size": 10,
              "solidity": 0.2
             }
            },
            "type": "bar"
           }
          ],
          "barpolar": [
           {
            "marker": {
             "line": {
              "color": "#E5ECF6",
              "width": 0.5
             },
             "pattern": {
              "fillmode": "overlay",
              "size": 10,
              "solidity": 0.2
             }
            },
            "type": "barpolar"
           }
          ],
          "carpet": [
           {
            "aaxis": {
             "endlinecolor": "#2a3f5f",
             "gridcolor": "white",
             "linecolor": "white",
             "minorgridcolor": "white",
             "startlinecolor": "#2a3f5f"
            },
            "baxis": {
             "endlinecolor": "#2a3f5f",
             "gridcolor": "white",
             "linecolor": "white",
             "minorgridcolor": "white",
             "startlinecolor": "#2a3f5f"
            },
            "type": "carpet"
           }
          ],
          "choropleth": [
           {
            "colorbar": {
             "outlinewidth": 0,
             "ticks": ""
            },
            "type": "choropleth"
           }
          ],
          "contour": [
           {
            "colorbar": {
             "outlinewidth": 0,
             "ticks": ""
            },
            "colorscale": [
             [
              0,
              "#0d0887"
             ],
             [
              0.1111111111111111,
              "#46039f"
             ],
             [
              0.2222222222222222,
              "#7201a8"
             ],
             [
              0.3333333333333333,
              "#9c179e"
             ],
             [
              0.4444444444444444,
              "#bd3786"
             ],
             [
              0.5555555555555556,
              "#d8576b"
             ],
             [
              0.6666666666666666,
              "#ed7953"
             ],
             [
              0.7777777777777778,
              "#fb9f3a"
             ],
             [
              0.8888888888888888,
              "#fdca26"
             ],
             [
              1,
              "#f0f921"
             ]
            ],
            "type": "contour"
           }
          ],
          "contourcarpet": [
           {
            "colorbar": {
             "outlinewidth": 0,
             "ticks": ""
            },
            "type": "contourcarpet"
           }
          ],
          "heatmap": [
           {
            "colorbar": {
             "outlinewidth": 0,
             "ticks": ""
            },
            "colorscale": [
             [
              0,
              "#0d0887"
             ],
             [
              0.1111111111111111,
              "#46039f"
             ],
             [
              0.2222222222222222,
              "#7201a8"
             ],
             [
              0.3333333333333333,
              "#9c179e"
             ],
             [
              0.4444444444444444,
              "#bd3786"
             ],
             [
              0.5555555555555556,
              "#d8576b"
             ],
             [
              0.6666666666666666,
              "#ed7953"
             ],
             [
              0.7777777777777778,
              "#fb9f3a"
             ],
             [
              0.8888888888888888,
              "#fdca26"
             ],
             [
              1,
              "#f0f921"
             ]
            ],
            "type": "heatmap"
           }
          ],
          "heatmapgl": [
           {
            "colorbar": {
             "outlinewidth": 0,
             "ticks": ""
            },
            "colorscale": [
             [
              0,
              "#0d0887"
             ],
             [
              0.1111111111111111,
              "#46039f"
             ],
             [
              0.2222222222222222,
              "#7201a8"
             ],
             [
              0.3333333333333333,
              "#9c179e"
             ],
             [
              0.4444444444444444,
              "#bd3786"
             ],
             [
              0.5555555555555556,
              "#d8576b"
             ],
             [
              0.6666666666666666,
              "#ed7953"
             ],
             [
              0.7777777777777778,
              "#fb9f3a"
             ],
             [
              0.8888888888888888,
              "#fdca26"
             ],
             [
              1,
              "#f0f921"
             ]
            ],
            "type": "heatmapgl"
           }
          ],
          "histogram": [
           {
            "marker": {
             "pattern": {
              "fillmode": "overlay",
              "size": 10,
              "solidity": 0.2
             }
            },
            "type": "histogram"
           }
          ],
          "histogram2d": [
           {
            "colorbar": {
             "outlinewidth": 0,
             "ticks": ""
            },
            "colorscale": [
             [
              0,
              "#0d0887"
             ],
             [
              0.1111111111111111,
              "#46039f"
             ],
             [
              0.2222222222222222,
              "#7201a8"
             ],
             [
              0.3333333333333333,
              "#9c179e"
             ],
             [
              0.4444444444444444,
              "#bd3786"
             ],
             [
              0.5555555555555556,
              "#d8576b"
             ],
             [
              0.6666666666666666,
              "#ed7953"
             ],
             [
              0.7777777777777778,
              "#fb9f3a"
             ],
             [
              0.8888888888888888,
              "#fdca26"
             ],
             [
              1,
              "#f0f921"
             ]
            ],
            "type": "histogram2d"
           }
          ],
          "histogram2dcontour": [
           {
            "colorbar": {
             "outlinewidth": 0,
             "ticks": ""
            },
            "colorscale": [
             [
              0,
              "#0d0887"
             ],
             [
              0.1111111111111111,
              "#46039f"
             ],
             [
              0.2222222222222222,
              "#7201a8"
             ],
             [
              0.3333333333333333,
              "#9c179e"
             ],
             [
              0.4444444444444444,
              "#bd3786"
             ],
             [
              0.5555555555555556,
              "#d8576b"
             ],
             [
              0.6666666666666666,
              "#ed7953"
             ],
             [
              0.7777777777777778,
              "#fb9f3a"
             ],
             [
              0.8888888888888888,
              "#fdca26"
             ],
             [
              1,
              "#f0f921"
             ]
            ],
            "type": "histogram2dcontour"
           }
          ],
          "mesh3d": [
           {
            "colorbar": {
             "outlinewidth": 0,
             "ticks": ""
            },
            "type": "mesh3d"
           }
          ],
          "parcoords": [
           {
            "line": {
             "colorbar": {
              "outlinewidth": 0,
              "ticks": ""
             }
            },
            "type": "parcoords"
           }
          ],
          "pie": [
           {
            "automargin": true,
            "type": "pie"
           }
          ],
          "scatter": [
           {
            "fillpattern": {
             "fillmode": "overlay",
             "size": 10,
             "solidity": 0.2
            },
            "type": "scatter"
           }
          ],
          "scatter3d": [
           {
            "line": {
             "colorbar": {
              "outlinewidth": 0,
              "ticks": ""
             }
            },
            "marker": {
             "colorbar": {
              "outlinewidth": 0,
              "ticks": ""
             }
            },
            "type": "scatter3d"
           }
          ],
          "scattercarpet": [
           {
            "marker": {
             "colorbar": {
              "outlinewidth": 0,
              "ticks": ""
             }
            },
            "type": "scattercarpet"
           }
          ],
          "scattergeo": [
           {
            "marker": {
             "colorbar": {
              "outlinewidth": 0,
              "ticks": ""
             }
            },
            "type": "scattergeo"
           }
          ],
          "scattergl": [
           {
            "marker": {
             "colorbar": {
              "outlinewidth": 0,
              "ticks": ""
             }
            },
            "type": "scattergl"
           }
          ],
          "scattermapbox": [
           {
            "marker": {
             "colorbar": {
              "outlinewidth": 0,
              "ticks": ""
             }
            },
            "type": "scattermapbox"
           }
          ],
          "scatterpolar": [
           {
            "marker": {
             "colorbar": {
              "outlinewidth": 0,
              "ticks": ""
             }
            },
            "type": "scatterpolar"
           }
          ],
          "scatterpolargl": [
           {
            "marker": {
             "colorbar": {
              "outlinewidth": 0,
              "ticks": ""
             }
            },
            "type": "scatterpolargl"
           }
          ],
          "scatterternary": [
           {
            "marker": {
             "colorbar": {
              "outlinewidth": 0,
              "ticks": ""
             }
            },
            "type": "scatterternary"
           }
          ],
          "surface": [
           {
            "colorbar": {
             "outlinewidth": 0,
             "ticks": ""
            },
            "colorscale": [
             [
              0,
              "#0d0887"
             ],
             [
              0.1111111111111111,
              "#46039f"
             ],
             [
              0.2222222222222222,
              "#7201a8"
             ],
             [
              0.3333333333333333,
              "#9c179e"
             ],
             [
              0.4444444444444444,
              "#bd3786"
             ],
             [
              0.5555555555555556,
              "#d8576b"
             ],
             [
              0.6666666666666666,
              "#ed7953"
             ],
             [
              0.7777777777777778,
              "#fb9f3a"
             ],
             [
              0.8888888888888888,
              "#fdca26"
             ],
             [
              1,
              "#f0f921"
             ]
            ],
            "type": "surface"
           }
          ],
          "table": [
           {
            "cells": {
             "fill": {
              "color": "#EBF0F8"
             },
             "line": {
              "color": "white"
             }
            },
            "header": {
             "fill": {
              "color": "#C8D4E3"
             },
             "line": {
              "color": "white"
             }
            },
            "type": "table"
           }
          ]
         },
         "layout": {
          "annotationdefaults": {
           "arrowcolor": "#2a3f5f",
           "arrowhead": 0,
           "arrowwidth": 1
          },
          "autotypenumbers": "strict",
          "coloraxis": {
           "colorbar": {
            "outlinewidth": 0,
            "ticks": ""
           }
          },
          "colorscale": {
           "diverging": [
            [
             0,
             "#8e0152"
            ],
            [
             0.1,
             "#c51b7d"
            ],
            [
             0.2,
             "#de77ae"
            ],
            [
             0.3,
             "#f1b6da"
            ],
            [
             0.4,
             "#fde0ef"
            ],
            [
             0.5,
             "#f7f7f7"
            ],
            [
             0.6,
             "#e6f5d0"
            ],
            [
             0.7,
             "#b8e186"
            ],
            [
             0.8,
             "#7fbc41"
            ],
            [
             0.9,
             "#4d9221"
            ],
            [
             1,
             "#276419"
            ]
           ],
           "sequential": [
            [
             0,
             "#0d0887"
            ],
            [
             0.1111111111111111,
             "#46039f"
            ],
            [
             0.2222222222222222,
             "#7201a8"
            ],
            [
             0.3333333333333333,
             "#9c179e"
            ],
            [
             0.4444444444444444,
             "#bd3786"
            ],
            [
             0.5555555555555556,
             "#d8576b"
            ],
            [
             0.6666666666666666,
             "#ed7953"
            ],
            [
             0.7777777777777778,
             "#fb9f3a"
            ],
            [
             0.8888888888888888,
             "#fdca26"
            ],
            [
             1,
             "#f0f921"
            ]
           ],
           "sequentialminus": [
            [
             0,
             "#0d0887"
            ],
            [
             0.1111111111111111,
             "#46039f"
            ],
            [
             0.2222222222222222,
             "#7201a8"
            ],
            [
             0.3333333333333333,
             "#9c179e"
            ],
            [
             0.4444444444444444,
             "#bd3786"
            ],
            [
             0.5555555555555556,
             "#d8576b"
            ],
            [
             0.6666666666666666,
             "#ed7953"
            ],
            [
             0.7777777777777778,
             "#fb9f3a"
            ],
            [
             0.8888888888888888,
             "#fdca26"
            ],
            [
             1,
             "#f0f921"
            ]
           ]
          },
          "colorway": [
           "#636efa",
           "#EF553B",
           "#00cc96",
           "#ab63fa",
           "#FFA15A",
           "#19d3f3",
           "#FF6692",
           "#B6E880",
           "#FF97FF",
           "#FECB52"
          ],
          "font": {
           "color": "#2a3f5f"
          },
          "geo": {
           "bgcolor": "white",
           "lakecolor": "white",
           "landcolor": "#E5ECF6",
           "showlakes": true,
           "showland": true,
           "subunitcolor": "white"
          },
          "hoverlabel": {
           "align": "left"
          },
          "hovermode": "closest",
          "mapbox": {
           "style": "light"
          },
          "paper_bgcolor": "white",
          "plot_bgcolor": "#E5ECF6",
          "polar": {
           "angularaxis": {
            "gridcolor": "white",
            "linecolor": "white",
            "ticks": ""
           },
           "bgcolor": "#E5ECF6",
           "radialaxis": {
            "gridcolor": "white",
            "linecolor": "white",
            "ticks": ""
           }
          },
          "scene": {
           "xaxis": {
            "backgroundcolor": "#E5ECF6",
            "gridcolor": "white",
            "gridwidth": 2,
            "linecolor": "white",
            "showbackground": true,
            "ticks": "",
            "zerolinecolor": "white"
           },
           "yaxis": {
            "backgroundcolor": "#E5ECF6",
            "gridcolor": "white",
            "gridwidth": 2,
            "linecolor": "white",
            "showbackground": true,
            "ticks": "",
            "zerolinecolor": "white"
           },
           "zaxis": {
            "backgroundcolor": "#E5ECF6",
            "gridcolor": "white",
            "gridwidth": 2,
            "linecolor": "white",
            "showbackground": true,
            "ticks": "",
            "zerolinecolor": "white"
           }
          },
          "shapedefaults": {
           "line": {
            "color": "#2a3f5f"
           }
          },
          "ternary": {
           "aaxis": {
            "gridcolor": "white",
            "linecolor": "white",
            "ticks": ""
           },
           "baxis": {
            "gridcolor": "white",
            "linecolor": "white",
            "ticks": ""
           },
           "bgcolor": "#E5ECF6",
           "caxis": {
            "gridcolor": "white",
            "linecolor": "white",
            "ticks": ""
           }
          },
          "title": {
           "x": 0.05
          },
          "xaxis": {
           "automargin": true,
           "gridcolor": "white",
           "linecolor": "white",
           "ticks": "",
           "title": {
            "standoff": 15
           },
           "zerolinecolor": "white",
           "zerolinewidth": 2
          },
          "yaxis": {
           "automargin": true,
           "gridcolor": "white",
           "linecolor": "white",
           "ticks": "",
           "title": {
            "standoff": 15
           },
           "zerolinecolor": "white",
           "zerolinewidth": 2
          }
         }
        },
        "width": 1000,
        "xaxis": {
         "fixedrange": true,
         "gridcolor": "#1f292f",
         "rangeslider": {
          "visible": false
         },
         "showgrid": true
        },
        "yaxis": {
         "gridcolor": "#1f292f",
         "showgrid": true
        }
       }
      }
     },
     "metadata": {},
     "output_type": "display_data"
    }
   ],
   "source": [
    "df_plot_trades = df_ma.iloc[100:250].copy()\n",
    "#df_plot_trades.shape\n",
    "\n",
    "''' Plotting & formatting a candlestick plot to show the\n",
    " issues with the moving average cross strategy'''\n",
    "fig2 = go.Figure()\n",
    "\n",
    "# Add candlestick trace\n",
    "fig2.add_trace(go.Candlestick(\n",
    "    x=df_plot_trades.time,\n",
    "    open=df_plot_trades.mid_o,\n",
    "    high=df_plot_trades.mid_h,\n",
    "    low=df_plot_trades.mid_l,\n",
    "    close=df_plot_trades.mid_c,\n",
    "    line=dict(width=1),\n",
    "    opacity=1\n",
    "))\n",
    "\n",
    "# Add a scatter for moving averages\n",
    "for ma in ma_list:\n",
    "    col = f\"MA_{ma}\"\n",
    "    fig2.add_trace(go.Scatter(\n",
    "        x=df_plot_trades.time,\n",
    "        y=df_plot_trades[col],\n",
    "        line=dict( width=2),\n",
    "        line_shape='spline',\n",
    "        name=col\n",
    "    ))\n",
    "\n",
    "# Formatting the size of our plot\n",
    "fig2.update_layout(\n",
    "    width=1000,\n",
    "    height=300,\n",
    "    margin=dict(l=10, r=10, t=10, b=10),\n",
    "    font=dict(size=10, color='#e1e1e1'),\n",
    "    paper_bgcolor=\"#0d1117\",\n",
    "    plot_bgcolor=\"#0d1117\"\n",
    ")\n",
    "\n",
    "# Update x-axis properties\n",
    "fig2.update_xaxes(\n",
    "    gridcolor='#1f292f',\n",
    "    showgrid=True,\n",
    "    fixedrange=True,\n",
    "    rangeslider=dict(visible=False)\n",
    ")\n",
    "\n",
    "# Update y-axis properties\n",
    "fig2.update_yaxes(\n",
    "    gridcolor='#1f292f',\n",
    "    showgrid=True\n",
    ")\n",
    "\n",
    "# Show the figure\n",
    "fig2.show()\n"
   ]
  },
  {
   "cell_type": "code",
   "execution_count": null,
   "metadata": {},
   "outputs": [
    {
     "data": {
      "text/plain": [
       "(50, 14)"
      ]
     },
     "execution_count": 88,
     "metadata": {},
     "output_type": "execute_result"
    }
   ],
   "source": [
    "df_plot_ma = df_ma.iloc[75:125].copy()\n",
    "df_plot_ma.shape"
   ]
  },
  {
   "cell_type": "code",
   "execution_count": null,
   "metadata": {},
   "outputs": [
    {
     "data": {
      "application/vnd.plotly.v1+json": {
       "config": {
        "plotlyServerURL": "https://plot.ly"
       },
       "data": [
        {
         "close": [
          1.47692,
          1.47688,
          1.47687,
          1.4764,
          1.47592,
          1.47636,
          1.47607,
          1.4752,
          1.4735,
          1.47366,
          1.47392,
          1.47568,
          1.47593,
          1.47332,
          1.47452,
          1.47403,
          1.47396,
          1.47336,
          1.47246,
          1.47312,
          1.47296,
          1.47304,
          1.47316,
          1.47308,
          1.47286,
          1.47274,
          1.47229,
          1.47226,
          1.47186,
          1.47144,
          1.47312,
          1.47422,
          1.4758,
          1.47512,
          1.47539,
          1.47739,
          1.47668,
          1.4764,
          1.47531,
          1.47484,
          1.4745,
          1.47485,
          1.47432,
          1.47444,
          1.47462,
          1.47504,
          1.47529,
          1.47569,
          1.4759,
          1.47624
         ],
         "high": [
          1.47742,
          1.47708,
          1.47716,
          1.47708,
          1.4767,
          1.47662,
          1.47752,
          1.4761,
          1.47534,
          1.47456,
          1.47424,
          1.47568,
          1.47612,
          1.47616,
          1.47499,
          1.4751,
          1.4744,
          1.47434,
          1.47406,
          1.47345,
          1.47341,
          1.47343,
          1.47332,
          1.47364,
          1.47346,
          1.47308,
          1.4728,
          1.47247,
          1.47248,
          1.47198,
          1.47368,
          1.4746,
          1.47599,
          1.47652,
          1.476,
          1.47786,
          1.47761,
          1.4784,
          1.47674,
          1.47571,
          1.47511,
          1.4751,
          1.47493,
          1.47458,
          1.47471,
          1.47528,
          1.47532,
          1.47592,
          1.47591,
          1.47633
         ],
         "line": {
          "width": 1
         },
         "low": [
          1.47677,
          1.47676,
          1.47679,
          1.47637,
          1.47579,
          1.4759,
          1.4759,
          1.475,
          1.47299,
          1.47342,
          1.47334,
          1.47324,
          1.4739,
          1.47272,
          1.47328,
          1.47356,
          1.4721,
          1.47234,
          1.47242,
          1.47244,
          1.47261,
          1.47295,
          1.47274,
          1.47298,
          1.47274,
          1.47261,
          1.47187,
          1.47198,
          1.47145,
          1.47086,
          1.47144,
          1.47296,
          1.47376,
          1.47468,
          1.47431,
          1.47508,
          1.47594,
          1.47578,
          1.47507,
          1.47424,
          1.47428,
          1.47417,
          1.47418,
          1.47402,
          1.47312,
          1.47422,
          1.4747,
          1.4753,
          1.47508,
          1.4758
         ],
         "opacity": 1,
         "open": [
          1.47699,
          1.47692,
          1.47687,
          1.47686,
          1.47638,
          1.47592,
          1.47634,
          1.47605,
          1.47522,
          1.47348,
          1.47366,
          1.47394,
          1.4757,
          1.4759,
          1.4733,
          1.47451,
          1.47405,
          1.4739,
          1.47337,
          1.47247,
          1.47276,
          1.47303,
          1.47308,
          1.47322,
          1.47308,
          1.47285,
          1.47274,
          1.4723,
          1.47226,
          1.47184,
          1.47149,
          1.47311,
          1.47421,
          1.4758,
          1.47514,
          1.4754,
          1.47744,
          1.47638,
          1.47641,
          1.47529,
          1.47484,
          1.47449,
          1.47484,
          1.47432,
          1.47434,
          1.47462,
          1.47502,
          1.4753,
          1.47571,
          1.47589
         ],
         "type": "candlestick",
         "x": [
          "2023-11-09T02:00:00.000000000Z",
          "2023-11-09T03:00:00.000000000Z",
          "2023-11-09T04:00:00.000000000Z",
          "2023-11-09T05:00:00.000000000Z",
          "2023-11-09T06:00:00.000000000Z",
          "2023-11-09T07:00:00.000000000Z",
          "2023-11-09T08:00:00.000000000Z",
          "2023-11-09T09:00:00.000000000Z",
          "2023-11-09T10:00:00.000000000Z",
          "2023-11-09T11:00:00.000000000Z",
          "2023-11-09T12:00:00.000000000Z",
          "2023-11-09T13:00:00.000000000Z",
          "2023-11-09T14:00:00.000000000Z",
          "2023-11-09T15:00:00.000000000Z",
          "2023-11-09T16:00:00.000000000Z",
          "2023-11-09T17:00:00.000000000Z",
          "2023-11-09T18:00:00.000000000Z",
          "2023-11-09T19:00:00.000000000Z",
          "2023-11-09T20:00:00.000000000Z",
          "2023-11-09T21:00:00.000000000Z",
          "2023-11-09T22:00:00.000000000Z",
          "2023-11-09T23:00:00.000000000Z",
          "2023-11-10T00:00:00.000000000Z",
          "2023-11-10T01:00:00.000000000Z",
          "2023-11-10T02:00:00.000000000Z",
          "2023-11-10T03:00:00.000000000Z",
          "2023-11-10T04:00:00.000000000Z",
          "2023-11-10T05:00:00.000000000Z",
          "2023-11-10T06:00:00.000000000Z",
          "2023-11-10T07:00:00.000000000Z",
          "2023-11-10T08:00:00.000000000Z",
          "2023-11-10T09:00:00.000000000Z",
          "2023-11-10T10:00:00.000000000Z",
          "2023-11-10T11:00:00.000000000Z",
          "2023-11-10T12:00:00.000000000Z",
          "2023-11-10T13:00:00.000000000Z",
          "2023-11-10T14:00:00.000000000Z",
          "2023-11-10T15:00:00.000000000Z",
          "2023-11-10T16:00:00.000000000Z",
          "2023-11-10T17:00:00.000000000Z",
          "2023-11-10T18:00:00.000000000Z",
          "2023-11-10T19:00:00.000000000Z",
          "2023-11-10T20:00:00.000000000Z",
          "2023-11-10T21:00:00.000000000Z",
          "2023-11-12T22:00:00.000000000Z",
          "2023-11-12T23:00:00.000000000Z",
          "2023-11-13T00:00:00.000000000Z",
          "2023-11-13T01:00:00.000000000Z",
          "2023-11-13T02:00:00.000000000Z",
          "2023-11-13T03:00:00.000000000Z"
         ]
        },
        {
         "line": {
          "shape": "spline",
          "width": 2
         },
         "name": "MA_8",
         "type": "scatter",
         "x": [
          "2023-11-09T02:00:00.000000000Z",
          "2023-11-09T03:00:00.000000000Z",
          "2023-11-09T04:00:00.000000000Z",
          "2023-11-09T05:00:00.000000000Z",
          "2023-11-09T06:00:00.000000000Z",
          "2023-11-09T07:00:00.000000000Z",
          "2023-11-09T08:00:00.000000000Z",
          "2023-11-09T09:00:00.000000000Z",
          "2023-11-09T10:00:00.000000000Z",
          "2023-11-09T11:00:00.000000000Z",
          "2023-11-09T12:00:00.000000000Z",
          "2023-11-09T13:00:00.000000000Z",
          "2023-11-09T14:00:00.000000000Z",
          "2023-11-09T15:00:00.000000000Z",
          "2023-11-09T16:00:00.000000000Z",
          "2023-11-09T17:00:00.000000000Z",
          "2023-11-09T18:00:00.000000000Z",
          "2023-11-09T19:00:00.000000000Z",
          "2023-11-09T20:00:00.000000000Z",
          "2023-11-09T21:00:00.000000000Z",
          "2023-11-09T22:00:00.000000000Z",
          "2023-11-09T23:00:00.000000000Z",
          "2023-11-10T00:00:00.000000000Z",
          "2023-11-10T01:00:00.000000000Z",
          "2023-11-10T02:00:00.000000000Z",
          "2023-11-10T03:00:00.000000000Z",
          "2023-11-10T04:00:00.000000000Z",
          "2023-11-10T05:00:00.000000000Z",
          "2023-11-10T06:00:00.000000000Z",
          "2023-11-10T07:00:00.000000000Z",
          "2023-11-10T08:00:00.000000000Z",
          "2023-11-10T09:00:00.000000000Z",
          "2023-11-10T10:00:00.000000000Z",
          "2023-11-10T11:00:00.000000000Z",
          "2023-11-10T12:00:00.000000000Z",
          "2023-11-10T13:00:00.000000000Z",
          "2023-11-10T14:00:00.000000000Z",
          "2023-11-10T15:00:00.000000000Z",
          "2023-11-10T16:00:00.000000000Z",
          "2023-11-10T17:00:00.000000000Z",
          "2023-11-10T18:00:00.000000000Z",
          "2023-11-10T19:00:00.000000000Z",
          "2023-11-10T20:00:00.000000000Z",
          "2023-11-10T21:00:00.000000000Z",
          "2023-11-12T22:00:00.000000000Z",
          "2023-11-12T23:00:00.000000000Z",
          "2023-11-13T00:00:00.000000000Z",
          "2023-11-13T01:00:00.000000000Z",
          "2023-11-13T02:00:00.000000000Z",
          "2023-11-13T03:00:00.000000000Z"
         ],
         "y": [
          1.47705,
          1.4770124999999998,
          1.47693125,
          1.4768575,
          1.47672875,
          1.47662875,
          1.4765525,
          1.4763275,
          1.4759,
          1.4754975000000001,
          1.47512875,
          1.47503875,
          1.47504,
          1.47466,
          1.47446625,
          1.4743199999999999,
          1.4743775,
          1.47434,
          1.4741575,
          1.4738375,
          1.47346625,
          1.47343125,
          1.47326125,
          1.4731425,
          1.4730050000000001,
          1.4729275,
          1.4729062499999999,
          1.47279875,
          1.4726612499999998,
          1.47246125,
          1.47245625,
          1.47259875,
          1.47296625,
          1.47326375,
          1.47365125,
          1.4742925,
          1.474895,
          1.475515,
          1.47578875,
          1.4758662500000002,
          1.4757037499999999,
          1.47567,
          1.47553625,
          1.4751675,
          1.47491,
          1.47474,
          1.4747375,
          1.4748437499999998,
          1.47501875,
          1.4751925
         ]
        },
        {
         "line": {
          "shape": "spline",
          "width": 2
         },
         "name": "MA_16",
         "type": "scatter",
         "x": [
          "2023-11-09T02:00:00.000000000Z",
          "2023-11-09T03:00:00.000000000Z",
          "2023-11-09T04:00:00.000000000Z",
          "2023-11-09T05:00:00.000000000Z",
          "2023-11-09T06:00:00.000000000Z",
          "2023-11-09T07:00:00.000000000Z",
          "2023-11-09T08:00:00.000000000Z",
          "2023-11-09T09:00:00.000000000Z",
          "2023-11-09T10:00:00.000000000Z",
          "2023-11-09T11:00:00.000000000Z",
          "2023-11-09T12:00:00.000000000Z",
          "2023-11-09T13:00:00.000000000Z",
          "2023-11-09T14:00:00.000000000Z",
          "2023-11-09T15:00:00.000000000Z",
          "2023-11-09T16:00:00.000000000Z",
          "2023-11-09T17:00:00.000000000Z",
          "2023-11-09T18:00:00.000000000Z",
          "2023-11-09T19:00:00.000000000Z",
          "2023-11-09T20:00:00.000000000Z",
          "2023-11-09T21:00:00.000000000Z",
          "2023-11-09T22:00:00.000000000Z",
          "2023-11-09T23:00:00.000000000Z",
          "2023-11-10T00:00:00.000000000Z",
          "2023-11-10T01:00:00.000000000Z",
          "2023-11-10T02:00:00.000000000Z",
          "2023-11-10T03:00:00.000000000Z",
          "2023-11-10T04:00:00.000000000Z",
          "2023-11-10T05:00:00.000000000Z",
          "2023-11-10T06:00:00.000000000Z",
          "2023-11-10T07:00:00.000000000Z",
          "2023-11-10T08:00:00.000000000Z",
          "2023-11-10T09:00:00.000000000Z",
          "2023-11-10T10:00:00.000000000Z",
          "2023-11-10T11:00:00.000000000Z",
          "2023-11-10T12:00:00.000000000Z",
          "2023-11-10T13:00:00.000000000Z",
          "2023-11-10T14:00:00.000000000Z",
          "2023-11-10T15:00:00.000000000Z",
          "2023-11-10T16:00:00.000000000Z",
          "2023-11-10T17:00:00.000000000Z",
          "2023-11-10T18:00:00.000000000Z",
          "2023-11-10T19:00:00.000000000Z",
          "2023-11-10T20:00:00.000000000Z",
          "2023-11-10T21:00:00.000000000Z",
          "2023-11-12T22:00:00.000000000Z",
          "2023-11-12T23:00:00.000000000Z",
          "2023-11-13T00:00:00.000000000Z",
          "2023-11-13T01:00:00.000000000Z",
          "2023-11-13T02:00:00.000000000Z",
          "2023-11-13T03:00:00.000000000Z"
         ],
         "y": [
          1.4759231250000002,
          1.47631625,
          1.476691875,
          1.4769875,
          1.477135,
          1.47708,
          1.476925,
          1.4767312499999998,
          1.476475,
          1.4762549999999999,
          1.47603,
          1.475948125,
          1.4758843750000001,
          1.475644375,
          1.475509375,
          1.4753237499999998,
          1.47513875,
          1.47491875,
          1.4746431249999998,
          1.474438125,
          1.474253125,
          1.474045625,
          1.47386375,
          1.4737312500000002,
          1.47369125,
          1.47363375,
          1.4735318750000002,
          1.473318125,
          1.47306375,
          1.4729462500000001,
          1.4728587499999999,
          1.472870625,
          1.472985625,
          1.473095625,
          1.47327875,
          1.473545625,
          1.473778125,
          1.4739881250000002,
          1.4741224999999998,
          1.4742324999999998,
          1.4743350000000002,
          1.474466875,
          1.47459375,
          1.47473,
          1.4749025,
          1.4751275,
          1.4752631250000001,
          1.475355,
          1.47536125,
          1.47543125
         ]
        },
        {
         "line": {
          "shape": "spline",
          "width": 2
         },
         "name": "MA_32",
         "type": "scatter",
         "x": [
          "2023-11-09T02:00:00.000000000Z",
          "2023-11-09T03:00:00.000000000Z",
          "2023-11-09T04:00:00.000000000Z",
          "2023-11-09T05:00:00.000000000Z",
          "2023-11-09T06:00:00.000000000Z",
          "2023-11-09T07:00:00.000000000Z",
          "2023-11-09T08:00:00.000000000Z",
          "2023-11-09T09:00:00.000000000Z",
          "2023-11-09T10:00:00.000000000Z",
          "2023-11-09T11:00:00.000000000Z",
          "2023-11-09T12:00:00.000000000Z",
          "2023-11-09T13:00:00.000000000Z",
          "2023-11-09T14:00:00.000000000Z",
          "2023-11-09T15:00:00.000000000Z",
          "2023-11-09T16:00:00.000000000Z",
          "2023-11-09T17:00:00.000000000Z",
          "2023-11-09T18:00:00.000000000Z",
          "2023-11-09T19:00:00.000000000Z",
          "2023-11-09T20:00:00.000000000Z",
          "2023-11-09T21:00:00.000000000Z",
          "2023-11-09T22:00:00.000000000Z",
          "2023-11-09T23:00:00.000000000Z",
          "2023-11-10T00:00:00.000000000Z",
          "2023-11-10T01:00:00.000000000Z",
          "2023-11-10T02:00:00.000000000Z",
          "2023-11-10T03:00:00.000000000Z",
          "2023-11-10T04:00:00.000000000Z",
          "2023-11-10T05:00:00.000000000Z",
          "2023-11-10T06:00:00.000000000Z",
          "2023-11-10T07:00:00.000000000Z",
          "2023-11-10T08:00:00.000000000Z",
          "2023-11-10T09:00:00.000000000Z",
          "2023-11-10T10:00:00.000000000Z",
          "2023-11-10T11:00:00.000000000Z",
          "2023-11-10T12:00:00.000000000Z",
          "2023-11-10T13:00:00.000000000Z",
          "2023-11-10T14:00:00.000000000Z",
          "2023-11-10T15:00:00.000000000Z",
          "2023-11-10T16:00:00.000000000Z",
          "2023-11-10T17:00:00.000000000Z",
          "2023-11-10T18:00:00.000000000Z",
          "2023-11-10T19:00:00.000000000Z",
          "2023-11-10T20:00:00.000000000Z",
          "2023-11-10T21:00:00.000000000Z",
          "2023-11-12T22:00:00.000000000Z",
          "2023-11-12T23:00:00.000000000Z",
          "2023-11-13T00:00:00.000000000Z",
          "2023-11-13T01:00:00.000000000Z",
          "2023-11-13T02:00:00.000000000Z",
          "2023-11-13T03:00:00.000000000Z"
         ],
         "y": [
          1.4738396875000002,
          1.4740009375,
          1.4741475,
          1.474255,
          1.4743600000000001,
          1.474475,
          1.4745915625000001,
          1.4746871875,
          1.4747440625000001,
          1.4747934375,
          1.474848125,
          1.4749509375,
          1.4750825,
          1.475160625,
          1.4753025,
          1.4754128125,
          1.4755309374999999,
          1.4756174999999998,
          1.4756675000000001,
          1.4757128124999999,
          1.4756940625,
          1.4755628125,
          1.475394375,
          1.47523125,
          1.475083125,
          1.474944375,
          1.4747809374999998,
          1.474633125,
          1.4744740625000001,
          1.4742953124999998,
          1.4741840625,
          1.4740971875,
          1.4740621875,
          1.4740071874999998,
          1.4739609375,
          1.473991875,
          1.474015625,
          1.474016875,
          1.473993125,
          1.473981875,
          1.4740131250000001,
          1.4740503125,
          1.4740628125,
          1.4740240624999998,
          1.473983125,
          1.474036875,
          1.4740609375,
          1.4741128125,
          1.4741734375,
          1.4742634375
         ]
        },
        {
         "line": {
          "shape": "spline",
          "width": 2
         },
         "name": "MA_64",
         "type": "scatter",
         "x": [
          "2023-11-09T02:00:00.000000000Z",
          "2023-11-09T03:00:00.000000000Z",
          "2023-11-09T04:00:00.000000000Z",
          "2023-11-09T05:00:00.000000000Z",
          "2023-11-09T06:00:00.000000000Z",
          "2023-11-09T07:00:00.000000000Z",
          "2023-11-09T08:00:00.000000000Z",
          "2023-11-09T09:00:00.000000000Z",
          "2023-11-09T10:00:00.000000000Z",
          "2023-11-09T11:00:00.000000000Z",
          "2023-11-09T12:00:00.000000000Z",
          "2023-11-09T13:00:00.000000000Z",
          "2023-11-09T14:00:00.000000000Z",
          "2023-11-09T15:00:00.000000000Z",
          "2023-11-09T16:00:00.000000000Z",
          "2023-11-09T17:00:00.000000000Z",
          "2023-11-09T18:00:00.000000000Z",
          "2023-11-09T19:00:00.000000000Z",
          "2023-11-09T20:00:00.000000000Z",
          "2023-11-09T21:00:00.000000000Z",
          "2023-11-09T22:00:00.000000000Z",
          "2023-11-09T23:00:00.000000000Z",
          "2023-11-10T00:00:00.000000000Z",
          "2023-11-10T01:00:00.000000000Z",
          "2023-11-10T02:00:00.000000000Z",
          "2023-11-10T03:00:00.000000000Z",
          "2023-11-10T04:00:00.000000000Z",
          "2023-11-10T05:00:00.000000000Z",
          "2023-11-10T06:00:00.000000000Z",
          "2023-11-10T07:00:00.000000000Z",
          "2023-11-10T08:00:00.000000000Z",
          "2023-11-10T09:00:00.000000000Z",
          "2023-11-10T10:00:00.000000000Z",
          "2023-11-10T11:00:00.000000000Z",
          "2023-11-10T12:00:00.000000000Z",
          "2023-11-10T13:00:00.000000000Z",
          "2023-11-10T14:00:00.000000000Z",
          "2023-11-10T15:00:00.000000000Z",
          "2023-11-10T16:00:00.000000000Z",
          "2023-11-10T17:00:00.000000000Z",
          "2023-11-10T18:00:00.000000000Z",
          "2023-11-10T19:00:00.000000000Z",
          "2023-11-10T20:00:00.000000000Z",
          "2023-11-10T21:00:00.000000000Z",
          "2023-11-12T22:00:00.000000000Z",
          "2023-11-12T23:00:00.000000000Z",
          "2023-11-13T00:00:00.000000000Z",
          "2023-11-13T01:00:00.000000000Z",
          "2023-11-13T02:00:00.000000000Z",
          "2023-11-13T03:00:00.000000000Z"
         ],
         "y": [
          1.4712328125,
          1.4713884375,
          1.4715446875,
          1.471691875,
          1.4718134375,
          1.4719240625,
          1.47204671875,
          1.47216109375,
          1.47223359375,
          1.47232140625,
          1.47241015625,
          1.4725256249999998,
          1.47264703125,
          1.47272703125,
          1.472834375,
          1.47293078125,
          1.47302796875,
          1.4731085937500001,
          1.4731610937500002,
          1.47321703125,
          1.47327375,
          1.4733284375,
          1.4733834375000001,
          1.47344828125,
          1.4735148437499999,
          1.473589375,
          1.47366,
          1.473721875,
          1.4737728125,
          1.4738084375,
          1.4738321875,
          1.4738815625,
          1.4739509375,
          1.4740040625000002,
          1.4740542187499999,
          1.4741234374999999,
          1.4741878124999999,
          1.4742459374999999,
          1.47429234375,
          1.47433453125,
          1.4743785937499998,
          1.474421875,
          1.47445546875,
          1.4744875000000002,
          1.4745328125000001,
          1.47459875,
          1.47468171875,
          1.4747628125,
          1.4748521875,
          1.47494046875
         ]
        },
        {
         "line": {
          "shape": "spline",
          "width": 2
         },
         "name": "MA_128",
         "type": "scatter",
         "x": [
          "2023-11-09T02:00:00.000000000Z",
          "2023-11-09T03:00:00.000000000Z",
          "2023-11-09T04:00:00.000000000Z",
          "2023-11-09T05:00:00.000000000Z",
          "2023-11-09T06:00:00.000000000Z",
          "2023-11-09T07:00:00.000000000Z",
          "2023-11-09T08:00:00.000000000Z",
          "2023-11-09T09:00:00.000000000Z",
          "2023-11-09T10:00:00.000000000Z",
          "2023-11-09T11:00:00.000000000Z",
          "2023-11-09T12:00:00.000000000Z",
          "2023-11-09T13:00:00.000000000Z",
          "2023-11-09T14:00:00.000000000Z",
          "2023-11-09T15:00:00.000000000Z",
          "2023-11-09T16:00:00.000000000Z",
          "2023-11-09T17:00:00.000000000Z",
          "2023-11-09T18:00:00.000000000Z",
          "2023-11-09T19:00:00.000000000Z",
          "2023-11-09T20:00:00.000000000Z",
          "2023-11-09T21:00:00.000000000Z",
          "2023-11-09T22:00:00.000000000Z",
          "2023-11-09T23:00:00.000000000Z",
          "2023-11-10T00:00:00.000000000Z",
          "2023-11-10T01:00:00.000000000Z",
          "2023-11-10T02:00:00.000000000Z",
          "2023-11-10T03:00:00.000000000Z",
          "2023-11-10T04:00:00.000000000Z",
          "2023-11-10T05:00:00.000000000Z",
          "2023-11-10T06:00:00.000000000Z",
          "2023-11-10T07:00:00.000000000Z",
          "2023-11-10T08:00:00.000000000Z",
          "2023-11-10T09:00:00.000000000Z",
          "2023-11-10T10:00:00.000000000Z",
          "2023-11-10T11:00:00.000000000Z",
          "2023-11-10T12:00:00.000000000Z",
          "2023-11-10T13:00:00.000000000Z",
          "2023-11-10T14:00:00.000000000Z",
          "2023-11-10T15:00:00.000000000Z",
          "2023-11-10T16:00:00.000000000Z",
          "2023-11-10T17:00:00.000000000Z",
          "2023-11-10T18:00:00.000000000Z",
          "2023-11-10T19:00:00.000000000Z",
          "2023-11-10T20:00:00.000000000Z",
          "2023-11-10T21:00:00.000000000Z",
          "2023-11-12T22:00:00.000000000Z",
          "2023-11-12T23:00:00.000000000Z",
          "2023-11-13T00:00:00.000000000Z",
          "2023-11-13T01:00:00.000000000Z",
          "2023-11-13T02:00:00.000000000Z",
          "2023-11-13T03:00:00.000000000Z"
         ],
         "y": [
          1.467816484375,
          1.467920390625,
          1.46801390625,
          1.468107109375,
          1.468200703125,
          1.468291015625,
          1.46838015625,
          1.468450859375,
          1.4685099218750002,
          1.468577734375,
          1.468639921875,
          1.468716015625,
          1.46879375,
          1.4688478125,
          1.46890296875,
          1.468963046875,
          1.4690183593750001,
          1.4690571875,
          1.46909140625,
          1.46911140625,
          1.469164296875,
          1.46920890625,
          1.46928015625,
          1.4693592187500002,
          1.469446796875,
          1.469535703125,
          1.469635703125,
          1.469737734375,
          1.469834609375,
          1.469930859375,
          1.470037734375,
          1.470142734375,
          1.470258984375,
          1.470375546875,
          1.4704940625,
          1.470629765625,
          1.4707602343750001,
          1.470884921875,
          1.47100828125,
          1.47111921875,
          1.4712057812500001,
          1.471302265625,
          1.4713915624999998,
          1.4714528125,
          1.4715197656249999,
          1.47156984375,
          1.471631640625,
          1.4717028124999998,
          1.4717606250000002,
          1.47183703125
         ]
        },
        {
         "line": {
          "shape": "spline",
          "width": 2
         },
         "name": "MA_256",
         "type": "scatter",
         "x": [
          "2023-11-09T02:00:00.000000000Z",
          "2023-11-09T03:00:00.000000000Z",
          "2023-11-09T04:00:00.000000000Z",
          "2023-11-09T05:00:00.000000000Z",
          "2023-11-09T06:00:00.000000000Z",
          "2023-11-09T07:00:00.000000000Z",
          "2023-11-09T08:00:00.000000000Z",
          "2023-11-09T09:00:00.000000000Z",
          "2023-11-09T10:00:00.000000000Z",
          "2023-11-09T11:00:00.000000000Z",
          "2023-11-09T12:00:00.000000000Z",
          "2023-11-09T13:00:00.000000000Z",
          "2023-11-09T14:00:00.000000000Z",
          "2023-11-09T15:00:00.000000000Z",
          "2023-11-09T16:00:00.000000000Z",
          "2023-11-09T17:00:00.000000000Z",
          "2023-11-09T18:00:00.000000000Z",
          "2023-11-09T19:00:00.000000000Z",
          "2023-11-09T20:00:00.000000000Z",
          "2023-11-09T21:00:00.000000000Z",
          "2023-11-09T22:00:00.000000000Z",
          "2023-11-09T23:00:00.000000000Z",
          "2023-11-10T00:00:00.000000000Z",
          "2023-11-10T01:00:00.000000000Z",
          "2023-11-10T02:00:00.000000000Z",
          "2023-11-10T03:00:00.000000000Z",
          "2023-11-10T04:00:00.000000000Z",
          "2023-11-10T05:00:00.000000000Z",
          "2023-11-10T06:00:00.000000000Z",
          "2023-11-10T07:00:00.000000000Z",
          "2023-11-10T08:00:00.000000000Z",
          "2023-11-10T09:00:00.000000000Z",
          "2023-11-10T10:00:00.000000000Z",
          "2023-11-10T11:00:00.000000000Z",
          "2023-11-10T12:00:00.000000000Z",
          "2023-11-10T13:00:00.000000000Z",
          "2023-11-10T14:00:00.000000000Z",
          "2023-11-10T15:00:00.000000000Z",
          "2023-11-10T16:00:00.000000000Z",
          "2023-11-10T17:00:00.000000000Z",
          "2023-11-10T18:00:00.000000000Z",
          "2023-11-10T19:00:00.000000000Z",
          "2023-11-10T20:00:00.000000000Z",
          "2023-11-10T21:00:00.000000000Z",
          "2023-11-12T22:00:00.000000000Z",
          "2023-11-12T23:00:00.000000000Z",
          "2023-11-13T00:00:00.000000000Z",
          "2023-11-13T01:00:00.000000000Z",
          "2023-11-13T02:00:00.000000000Z",
          "2023-11-13T03:00:00.000000000Z"
         ],
         "y": [
          1.46544734375,
          1.4655253906249999,
          1.4656101953125,
          1.465688828125,
          1.4657621875,
          1.4658303124999998,
          1.46590203125,
          1.46597015625,
          1.4660312109375,
          1.4660926171875,
          1.4661559765625,
          1.4662247265625,
          1.466295,
          1.4663541015625,
          1.4664169921874999,
          1.4664785546875,
          1.4665436328124999,
          1.4666093359374999,
          1.4666705859375,
          1.4667337109375,
          1.46679875,
          1.466864765625,
          1.4669320703125,
          1.4670033984375,
          1.4670744140624998,
          1.4671433203125002,
          1.4672079687500001,
          1.46726140625,
          1.4673150000000001,
          1.46737375,
          1.4674377734375,
          1.4675044921875,
          1.4675719921875,
          1.4676351562499999,
          1.4676953515625,
          1.46775890625,
          1.4678228125,
          1.4678864062499999,
          1.4679478515625,
          1.4680073046875,
          1.4680674999999999,
          1.4681296484375,
          1.4681899609375,
          1.4682509375,
          1.468309921875,
          1.4683735156250002,
          1.4684396484375,
          1.468509765625,
          1.468580625,
          1.46865328125
         ]
        }
       ],
       "layout": {
        "font": {
         "color": "#e1e1e1",
         "size": 10
        },
        "height": 300,
        "margin": {
         "b": 10,
         "l": 10,
         "r": 10,
         "t": 10
        },
        "paper_bgcolor": "#0d1117",
        "plot_bgcolor": "#0d1117",
        "template": {
         "data": {
          "bar": [
           {
            "error_x": {
             "color": "#2a3f5f"
            },
            "error_y": {
             "color": "#2a3f5f"
            },
            "marker": {
             "line": {
              "color": "#E5ECF6",
              "width": 0.5
             },
             "pattern": {
              "fillmode": "overlay",
              "size": 10,
              "solidity": 0.2
             }
            },
            "type": "bar"
           }
          ],
          "barpolar": [
           {
            "marker": {
             "line": {
              "color": "#E5ECF6",
              "width": 0.5
             },
             "pattern": {
              "fillmode": "overlay",
              "size": 10,
              "solidity": 0.2
             }
            },
            "type": "barpolar"
           }
          ],
          "carpet": [
           {
            "aaxis": {
             "endlinecolor": "#2a3f5f",
             "gridcolor": "white",
             "linecolor": "white",
             "minorgridcolor": "white",
             "startlinecolor": "#2a3f5f"
            },
            "baxis": {
             "endlinecolor": "#2a3f5f",
             "gridcolor": "white",
             "linecolor": "white",
             "minorgridcolor": "white",
             "startlinecolor": "#2a3f5f"
            },
            "type": "carpet"
           }
          ],
          "choropleth": [
           {
            "colorbar": {
             "outlinewidth": 0,
             "ticks": ""
            },
            "type": "choropleth"
           }
          ],
          "contour": [
           {
            "colorbar": {
             "outlinewidth": 0,
             "ticks": ""
            },
            "colorscale": [
             [
              0,
              "#0d0887"
             ],
             [
              0.1111111111111111,
              "#46039f"
             ],
             [
              0.2222222222222222,
              "#7201a8"
             ],
             [
              0.3333333333333333,
              "#9c179e"
             ],
             [
              0.4444444444444444,
              "#bd3786"
             ],
             [
              0.5555555555555556,
              "#d8576b"
             ],
             [
              0.6666666666666666,
              "#ed7953"
             ],
             [
              0.7777777777777778,
              "#fb9f3a"
             ],
             [
              0.8888888888888888,
              "#fdca26"
             ],
             [
              1,
              "#f0f921"
             ]
            ],
            "type": "contour"
           }
          ],
          "contourcarpet": [
           {
            "colorbar": {
             "outlinewidth": 0,
             "ticks": ""
            },
            "type": "contourcarpet"
           }
          ],
          "heatmap": [
           {
            "colorbar": {
             "outlinewidth": 0,
             "ticks": ""
            },
            "colorscale": [
             [
              0,
              "#0d0887"
             ],
             [
              0.1111111111111111,
              "#46039f"
             ],
             [
              0.2222222222222222,
              "#7201a8"
             ],
             [
              0.3333333333333333,
              "#9c179e"
             ],
             [
              0.4444444444444444,
              "#bd3786"
             ],
             [
              0.5555555555555556,
              "#d8576b"
             ],
             [
              0.6666666666666666,
              "#ed7953"
             ],
             [
              0.7777777777777778,
              "#fb9f3a"
             ],
             [
              0.8888888888888888,
              "#fdca26"
             ],
             [
              1,
              "#f0f921"
             ]
            ],
            "type": "heatmap"
           }
          ],
          "heatmapgl": [
           {
            "colorbar": {
             "outlinewidth": 0,
             "ticks": ""
            },
            "colorscale": [
             [
              0,
              "#0d0887"
             ],
             [
              0.1111111111111111,
              "#46039f"
             ],
             [
              0.2222222222222222,
              "#7201a8"
             ],
             [
              0.3333333333333333,
              "#9c179e"
             ],
             [
              0.4444444444444444,
              "#bd3786"
             ],
             [
              0.5555555555555556,
              "#d8576b"
             ],
             [
              0.6666666666666666,
              "#ed7953"
             ],
             [
              0.7777777777777778,
              "#fb9f3a"
             ],
             [
              0.8888888888888888,
              "#fdca26"
             ],
             [
              1,
              "#f0f921"
             ]
            ],
            "type": "heatmapgl"
           }
          ],
          "histogram": [
           {
            "marker": {
             "pattern": {
              "fillmode": "overlay",
              "size": 10,
              "solidity": 0.2
             }
            },
            "type": "histogram"
           }
          ],
          "histogram2d": [
           {
            "colorbar": {
             "outlinewidth": 0,
             "ticks": ""
            },
            "colorscale": [
             [
              0,
              "#0d0887"
             ],
             [
              0.1111111111111111,
              "#46039f"
             ],
             [
              0.2222222222222222,
              "#7201a8"
             ],
             [
              0.3333333333333333,
              "#9c179e"
             ],
             [
              0.4444444444444444,
              "#bd3786"
             ],
             [
              0.5555555555555556,
              "#d8576b"
             ],
             [
              0.6666666666666666,
              "#ed7953"
             ],
             [
              0.7777777777777778,
              "#fb9f3a"
             ],
             [
              0.8888888888888888,
              "#fdca26"
             ],
             [
              1,
              "#f0f921"
             ]
            ],
            "type": "histogram2d"
           }
          ],
          "histogram2dcontour": [
           {
            "colorbar": {
             "outlinewidth": 0,
             "ticks": ""
            },
            "colorscale": [
             [
              0,
              "#0d0887"
             ],
             [
              0.1111111111111111,
              "#46039f"
             ],
             [
              0.2222222222222222,
              "#7201a8"
             ],
             [
              0.3333333333333333,
              "#9c179e"
             ],
             [
              0.4444444444444444,
              "#bd3786"
             ],
             [
              0.5555555555555556,
              "#d8576b"
             ],
             [
              0.6666666666666666,
              "#ed7953"
             ],
             [
              0.7777777777777778,
              "#fb9f3a"
             ],
             [
              0.8888888888888888,
              "#fdca26"
             ],
             [
              1,
              "#f0f921"
             ]
            ],
            "type": "histogram2dcontour"
           }
          ],
          "mesh3d": [
           {
            "colorbar": {
             "outlinewidth": 0,
             "ticks": ""
            },
            "type": "mesh3d"
           }
          ],
          "parcoords": [
           {
            "line": {
             "colorbar": {
              "outlinewidth": 0,
              "ticks": ""
             }
            },
            "type": "parcoords"
           }
          ],
          "pie": [
           {
            "automargin": true,
            "type": "pie"
           }
          ],
          "scatter": [
           {
            "fillpattern": {
             "fillmode": "overlay",
             "size": 10,
             "solidity": 0.2
            },
            "type": "scatter"
           }
          ],
          "scatter3d": [
           {
            "line": {
             "colorbar": {
              "outlinewidth": 0,
              "ticks": ""
             }
            },
            "marker": {
             "colorbar": {
              "outlinewidth": 0,
              "ticks": ""
             }
            },
            "type": "scatter3d"
           }
          ],
          "scattercarpet": [
           {
            "marker": {
             "colorbar": {
              "outlinewidth": 0,
              "ticks": ""
             }
            },
            "type": "scattercarpet"
           }
          ],
          "scattergeo": [
           {
            "marker": {
             "colorbar": {
              "outlinewidth": 0,
              "ticks": ""
             }
            },
            "type": "scattergeo"
           }
          ],
          "scattergl": [
           {
            "marker": {
             "colorbar": {
              "outlinewidth": 0,
              "ticks": ""
             }
            },
            "type": "scattergl"
           }
          ],
          "scattermapbox": [
           {
            "marker": {
             "colorbar": {
              "outlinewidth": 0,
              "ticks": ""
             }
            },
            "type": "scattermapbox"
           }
          ],
          "scatterpolar": [
           {
            "marker": {
             "colorbar": {
              "outlinewidth": 0,
              "ticks": ""
             }
            },
            "type": "scatterpolar"
           }
          ],
          "scatterpolargl": [
           {
            "marker": {
             "colorbar": {
              "outlinewidth": 0,
              "ticks": ""
             }
            },
            "type": "scatterpolargl"
           }
          ],
          "scatterternary": [
           {
            "marker": {
             "colorbar": {
              "outlinewidth": 0,
              "ticks": ""
             }
            },
            "type": "scatterternary"
           }
          ],
          "surface": [
           {
            "colorbar": {
             "outlinewidth": 0,
             "ticks": ""
            },
            "colorscale": [
             [
              0,
              "#0d0887"
             ],
             [
              0.1111111111111111,
              "#46039f"
             ],
             [
              0.2222222222222222,
              "#7201a8"
             ],
             [
              0.3333333333333333,
              "#9c179e"
             ],
             [
              0.4444444444444444,
              "#bd3786"
             ],
             [
              0.5555555555555556,
              "#d8576b"
             ],
             [
              0.6666666666666666,
              "#ed7953"
             ],
             [
              0.7777777777777778,
              "#fb9f3a"
             ],
             [
              0.8888888888888888,
              "#fdca26"
             ],
             [
              1,
              "#f0f921"
             ]
            ],
            "type": "surface"
           }
          ],
          "table": [
           {
            "cells": {
             "fill": {
              "color": "#EBF0F8"
             },
             "line": {
              "color": "white"
             }
            },
            "header": {
             "fill": {
              "color": "#C8D4E3"
             },
             "line": {
              "color": "white"
             }
            },
            "type": "table"
           }
          ]
         },
         "layout": {
          "annotationdefaults": {
           "arrowcolor": "#2a3f5f",
           "arrowhead": 0,
           "arrowwidth": 1
          },
          "autotypenumbers": "strict",
          "coloraxis": {
           "colorbar": {
            "outlinewidth": 0,
            "ticks": ""
           }
          },
          "colorscale": {
           "diverging": [
            [
             0,
             "#8e0152"
            ],
            [
             0.1,
             "#c51b7d"
            ],
            [
             0.2,
             "#de77ae"
            ],
            [
             0.3,
             "#f1b6da"
            ],
            [
             0.4,
             "#fde0ef"
            ],
            [
             0.5,
             "#f7f7f7"
            ],
            [
             0.6,
             "#e6f5d0"
            ],
            [
             0.7,
             "#b8e186"
            ],
            [
             0.8,
             "#7fbc41"
            ],
            [
             0.9,
             "#4d9221"
            ],
            [
             1,
             "#276419"
            ]
           ],
           "sequential": [
            [
             0,
             "#0d0887"
            ],
            [
             0.1111111111111111,
             "#46039f"
            ],
            [
             0.2222222222222222,
             "#7201a8"
            ],
            [
             0.3333333333333333,
             "#9c179e"
            ],
            [
             0.4444444444444444,
             "#bd3786"
            ],
            [
             0.5555555555555556,
             "#d8576b"
            ],
            [
             0.6666666666666666,
             "#ed7953"
            ],
            [
             0.7777777777777778,
             "#fb9f3a"
            ],
            [
             0.8888888888888888,
             "#fdca26"
            ],
            [
             1,
             "#f0f921"
            ]
           ],
           "sequentialminus": [
            [
             0,
             "#0d0887"
            ],
            [
             0.1111111111111111,
             "#46039f"
            ],
            [
             0.2222222222222222,
             "#7201a8"
            ],
            [
             0.3333333333333333,
             "#9c179e"
            ],
            [
             0.4444444444444444,
             "#bd3786"
            ],
            [
             0.5555555555555556,
             "#d8576b"
            ],
            [
             0.6666666666666666,
             "#ed7953"
            ],
            [
             0.7777777777777778,
             "#fb9f3a"
            ],
            [
             0.8888888888888888,
             "#fdca26"
            ],
            [
             1,
             "#f0f921"
            ]
           ]
          },
          "colorway": [
           "#636efa",
           "#EF553B",
           "#00cc96",
           "#ab63fa",
           "#FFA15A",
           "#19d3f3",
           "#FF6692",
           "#B6E880",
           "#FF97FF",
           "#FECB52"
          ],
          "font": {
           "color": "#2a3f5f"
          },
          "geo": {
           "bgcolor": "white",
           "lakecolor": "white",
           "landcolor": "#E5ECF6",
           "showlakes": true,
           "showland": true,
           "subunitcolor": "white"
          },
          "hoverlabel": {
           "align": "left"
          },
          "hovermode": "closest",
          "mapbox": {
           "style": "light"
          },
          "paper_bgcolor": "white",
          "plot_bgcolor": "#E5ECF6",
          "polar": {
           "angularaxis": {
            "gridcolor": "white",
            "linecolor": "white",
            "ticks": ""
           },
           "bgcolor": "#E5ECF6",
           "radialaxis": {
            "gridcolor": "white",
            "linecolor": "white",
            "ticks": ""
           }
          },
          "scene": {
           "xaxis": {
            "backgroundcolor": "#E5ECF6",
            "gridcolor": "white",
            "gridwidth": 2,
            "linecolor": "white",
            "showbackground": true,
            "ticks": "",
            "zerolinecolor": "white"
           },
           "yaxis": {
            "backgroundcolor": "#E5ECF6",
            "gridcolor": "white",
            "gridwidth": 2,
            "linecolor": "white",
            "showbackground": true,
            "ticks": "",
            "zerolinecolor": "white"
           },
           "zaxis": {
            "backgroundcolor": "#E5ECF6",
            "gridcolor": "white",
            "gridwidth": 2,
            "linecolor": "white",
            "showbackground": true,
            "ticks": "",
            "zerolinecolor": "white"
           }
          },
          "shapedefaults": {
           "line": {
            "color": "#2a3f5f"
           }
          },
          "ternary": {
           "aaxis": {
            "gridcolor": "white",
            "linecolor": "white",
            "ticks": ""
           },
           "baxis": {
            "gridcolor": "white",
            "linecolor": "white",
            "ticks": ""
           },
           "bgcolor": "#E5ECF6",
           "caxis": {
            "gridcolor": "white",
            "linecolor": "white",
            "ticks": ""
           }
          },
          "title": {
           "x": 0.05
          },
          "xaxis": {
           "automargin": true,
           "gridcolor": "white",
           "linecolor": "white",
           "ticks": "",
           "title": {
            "standoff": 15
           },
           "zerolinecolor": "white",
           "zerolinewidth": 2
          },
          "yaxis": {
           "automargin": true,
           "gridcolor": "white",
           "linecolor": "white",
           "ticks": "",
           "title": {
            "standoff": 15
           },
           "zerolinecolor": "white",
           "zerolinewidth": 2
          }
         }
        },
        "width": 1000,
        "xaxis": {
         "fixedrange": true,
         "gridcolor": "#1f292f",
         "rangeslider": {
          "visible": false
         },
         "showgrid": true
        },
        "yaxis": {
         "gridcolor": "#1f292f",
         "showgrid": true
        }
       }
      }
     },
     "metadata": {},
     "output_type": "display_data"
    }
   ],
   "source": [
    "#   ERROR LOOKBACK TO VIDEO 16 --> ERROR ADDRESSED\n",
    "\n",
    "# Plotting & formatting a candlestick plot with Plotly\n",
    "fig2 = go.Figure()\n",
    "\n",
    "# Add candlestick trace\n",
    "fig2.add_trace(go.Candlestick(\n",
    "    x=df_plot_ma.time,\n",
    "    open=df_plot_ma.mid_o,\n",
    "    high=df_plot_ma.mid_h,\n",
    "    low=df_plot_ma.mid_l,\n",
    "    close=df_plot_ma.mid_c,\n",
    "    line=dict(width=1),\n",
    "    opacity=1\n",
    "))\n",
    "\n",
    "# Add a scatter for moving averages\n",
    "for ma in ma_list:\n",
    "    col = f\"MA_{ma}\"\n",
    "    fig2.add_trace(go.Scatter(\n",
    "        x=df_plot_ma.time,\n",
    "        y=df_plot_ma[col],\n",
    "        line=dict( width=2),\n",
    "        line_shape='spline',\n",
    "        name=col\n",
    "    ))\n",
    "\n",
    "# Formatting the size of our plot\n",
    "fig2.update_layout(\n",
    "    width=1000,\n",
    "    height=300,\n",
    "    margin=dict(l=10, r=10, t=10, b=10),\n",
    "    font=dict(size=10, color='#e1e1e1'),\n",
    "    paper_bgcolor=\"#0d1117\",\n",
    "    plot_bgcolor=\"#0d1117\"\n",
    ")\n",
    "\n",
    "# Update x-axis properties\n",
    "fig2.update_xaxes(\n",
    "    gridcolor='#1f292f',\n",
    "    showgrid=True,\n",
    "    fixedrange=True,\n",
    "    rangeslider=dict(visible=False)\n",
    ")\n",
    "\n",
    "# Update y-axis properties\n",
    "fig2.update_yaxes(\n",
    "    gridcolor='#1f292f',\n",
    "    showgrid=True\n",
    ")\n",
    "\n",
    "# Show the figure\n",
    "fig2.show()\n"
   ]
  },
  {
   "cell_type": "code",
   "execution_count": null,
   "metadata": {},
   "outputs": [],
   "source": []
  }
 ],
 "metadata": {
  "kernelspec": {
   "display_name": "venv",
   "language": "python",
   "name": "python3"
  },
  "language_info": {
   "codemirror_mode": {
    "name": "ipython",
    "version": 3
   },
   "file_extension": ".py",
   "mimetype": "text/x-python",
   "name": "python",
   "nbconvert_exporter": "python",
   "pygments_lexer": "ipython3",
   "version": "3.9.13"
  }
 },
 "nbformat": 4,
 "nbformat_minor": 2
}
