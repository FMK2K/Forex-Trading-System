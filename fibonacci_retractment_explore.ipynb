{
 "cells": [
  {
   "cell_type": "code",
   "execution_count": 83,
   "metadata": {},
   "outputs": [],
   "source": [
    "'''\n",
    "Refrenced the following:\n",
    "https://www.youtube.com/watch?v=3rmw0UFgYmQ\n",
    "\n",
    "code @  https://colab.research.google.com/drive/1dZJg4NlMAuEHQXseWco52Mr5_dcmkpnf?authuser=1#scrollTo=mCET0BKTcep8\n",
    "'''\n",
    "import pandas as pd\n",
    "\n",
    "import plotly.graph_objects as go\n",
    "import utils"
   ]
  },
  {
   "cell_type": "code",
   "execution_count": 84,
   "metadata": {},
   "outputs": [
    {
     "name": "stdout",
     "output_type": "stream",
     "text": [
      "0.3.14b0\n"
     ]
    }
   ],
   "source": [
    "import pandas_ta as ta\n",
    "print(ta.version)"
   ]
  },
  {
   "cell_type": "code",
   "execution_count": 85,
   "metadata": {},
   "outputs": [
    {
     "data": {
      "text/html": [
       "<div>\n",
       "<style scoped>\n",
       "    .dataframe tbody tr th:only-of-type {\n",
       "        vertical-align: middle;\n",
       "    }\n",
       "\n",
       "    .dataframe tbody tr th {\n",
       "        vertical-align: top;\n",
       "    }\n",
       "\n",
       "    .dataframe thead th {\n",
       "        text-align: right;\n",
       "    }\n",
       "</style>\n",
       "<table border=\"1\" class=\"dataframe\">\n",
       "  <thead>\n",
       "    <tr style=\"text-align: right;\">\n",
       "      <th></th>\n",
       "      <th>time</th>\n",
       "      <th>volume</th>\n",
       "      <th>mid_o</th>\n",
       "      <th>mid_h</th>\n",
       "      <th>mid_l</th>\n",
       "      <th>mid_c</th>\n",
       "      <th>bid_o</th>\n",
       "      <th>bid_h</th>\n",
       "      <th>bid_l</th>\n",
       "      <th>bid_c</th>\n",
       "      <th>ask_o</th>\n",
       "      <th>ask_h</th>\n",
       "      <th>ask_l</th>\n",
       "      <th>ask_c</th>\n",
       "    </tr>\n",
       "  </thead>\n",
       "  <tbody>\n",
       "    <tr>\n",
       "      <th>0</th>\n",
       "      <td>2019-01-01T22:00:00.000000000Z</td>\n",
       "      <td>8344</td>\n",
       "      <td>1.27583</td>\n",
       "      <td>1.27583</td>\n",
       "      <td>1.27340</td>\n",
       "      <td>1.27450</td>\n",
       "      <td>1.27553</td>\n",
       "      <td>1.27553</td>\n",
       "      <td>1.27310</td>\n",
       "      <td>1.27439</td>\n",
       "      <td>1.27613</td>\n",
       "      <td>1.27613</td>\n",
       "      <td>1.27370</td>\n",
       "      <td>1.27460</td>\n",
       "    </tr>\n",
       "    <tr>\n",
       "      <th>1</th>\n",
       "      <td>2019-01-02T02:00:00.000000000Z</td>\n",
       "      <td>8698</td>\n",
       "      <td>1.27448</td>\n",
       "      <td>1.27581</td>\n",
       "      <td>1.27228</td>\n",
       "      <td>1.27566</td>\n",
       "      <td>1.27437</td>\n",
       "      <td>1.27569</td>\n",
       "      <td>1.27216</td>\n",
       "      <td>1.27553</td>\n",
       "      <td>1.27460</td>\n",
       "      <td>1.27594</td>\n",
       "      <td>1.27240</td>\n",
       "      <td>1.27578</td>\n",
       "    </tr>\n",
       "    <tr>\n",
       "      <th>2</th>\n",
       "      <td>2019-01-02T06:00:00.000000000Z</td>\n",
       "      <td>24026</td>\n",
       "      <td>1.27566</td>\n",
       "      <td>1.27739</td>\n",
       "      <td>1.26878</td>\n",
       "      <td>1.26888</td>\n",
       "      <td>1.27553</td>\n",
       "      <td>1.27725</td>\n",
       "      <td>1.26867</td>\n",
       "      <td>1.26879</td>\n",
       "      <td>1.27578</td>\n",
       "      <td>1.27756</td>\n",
       "      <td>1.26890</td>\n",
       "      <td>1.26898</td>\n",
       "    </tr>\n",
       "    <tr>\n",
       "      <th>3</th>\n",
       "      <td>2019-01-02T10:00:00.000000000Z</td>\n",
       "      <td>23578</td>\n",
       "      <td>1.26890</td>\n",
       "      <td>1.27034</td>\n",
       "      <td>1.26035</td>\n",
       "      <td>1.26098</td>\n",
       "      <td>1.26879</td>\n",
       "      <td>1.27024</td>\n",
       "      <td>1.26022</td>\n",
       "      <td>1.26088</td>\n",
       "      <td>1.26901</td>\n",
       "      <td>1.27045</td>\n",
       "      <td>1.26046</td>\n",
       "      <td>1.26108</td>\n",
       "    </tr>\n",
       "    <tr>\n",
       "      <th>4</th>\n",
       "      <td>2019-01-02T14:00:00.000000000Z</td>\n",
       "      <td>27827</td>\n",
       "      <td>1.26098</td>\n",
       "      <td>1.26260</td>\n",
       "      <td>1.25812</td>\n",
       "      <td>1.25864</td>\n",
       "      <td>1.26088</td>\n",
       "      <td>1.26250</td>\n",
       "      <td>1.25799</td>\n",
       "      <td>1.25855</td>\n",
       "      <td>1.26107</td>\n",
       "      <td>1.26271</td>\n",
       "      <td>1.25824</td>\n",
       "      <td>1.25873</td>\n",
       "    </tr>\n",
       "  </tbody>\n",
       "</table>\n",
       "</div>"
      ],
      "text/plain": [
       "                             time  volume    mid_o    mid_h    mid_l    mid_c  \\\n",
       "0  2019-01-01T22:00:00.000000000Z    8344  1.27583  1.27583  1.27340  1.27450   \n",
       "1  2019-01-02T02:00:00.000000000Z    8698  1.27448  1.27581  1.27228  1.27566   \n",
       "2  2019-01-02T06:00:00.000000000Z   24026  1.27566  1.27739  1.26878  1.26888   \n",
       "3  2019-01-02T10:00:00.000000000Z   23578  1.26890  1.27034  1.26035  1.26098   \n",
       "4  2019-01-02T14:00:00.000000000Z   27827  1.26098  1.26260  1.25812  1.25864   \n",
       "\n",
       "     bid_o    bid_h    bid_l    bid_c    ask_o    ask_h    ask_l    ask_c  \n",
       "0  1.27553  1.27553  1.27310  1.27439  1.27613  1.27613  1.27370  1.27460  \n",
       "1  1.27437  1.27569  1.27216  1.27553  1.27460  1.27594  1.27240  1.27578  \n",
       "2  1.27553  1.27725  1.26867  1.26879  1.27578  1.27756  1.26890  1.26898  \n",
       "3  1.26879  1.27024  1.26022  1.26088  1.26901  1.27045  1.26046  1.26108  \n",
       "4  1.26088  1.26250  1.25799  1.25855  1.26107  1.26271  1.25824  1.25873  "
      ]
     },
     "execution_count": 85,
     "metadata": {},
     "output_type": "execute_result"
    }
   ],
   "source": [
    "pair = \"GBP_USD\" #Profit is worse with volatile currency as strategy is conservative\n",
    "granularity = \"H4\" #Profit is worse with large candle time window\n",
    "df = pd.read_pickle(utils.get_his_data_filename(pair, granularity))\n",
    "\n",
    "df.head()"
   ]
  },
  {
   "cell_type": "code",
   "execution_count": 86,
   "metadata": {},
   "outputs": [],
   "source": [
    "#Filter out days when market was closed\n",
    "df=df[df['volume']!=0]\n",
    "df.reset_index(drop=True, inplace=True)\n",
    "df.isna().sum()\n",
    "\n",
    "df=df[0:2000]"
   ]
  },
  {
   "cell_type": "code",
   "execution_count": 87,
   "metadata": {},
   "outputs": [
    {
     "name": "stdout",
     "output_type": "stream",
     "text": [
      "object\n"
     ]
    },
    {
     "name": "stderr",
     "output_type": "stream",
     "text": [
      "C:\\Users\\FeisalK\\AppData\\Local\\Temp\\ipykernel_29608\\154202485.py:6: FutureWarning:\n",
      "\n",
      "Series.fillna with 'method' is deprecated and will raise in a future version. Use obj.ffill() or obj.bfill() instead.\n",
      "\n"
     ]
    }
   ],
   "source": [
    "#df.tail()\n",
    "print(df.ask_c.dtype)\n",
    "\n",
    "#Make the CLOSE numeric not object, filling off NaN values\n",
    "df['bid_c'] = pd.to_numeric(df['bid_c'], errors='coerce')\n",
    "df['bid_c'] = df['bid_c'].fillna(method='ffill')\n"
   ]
  },
  {
   "cell_type": "code",
   "execution_count": 88,
   "metadata": {},
   "outputs": [
    {
     "data": {
      "text/html": [
       "<div>\n",
       "<style scoped>\n",
       "    .dataframe tbody tr th:only-of-type {\n",
       "        vertical-align: middle;\n",
       "    }\n",
       "\n",
       "    .dataframe tbody tr th {\n",
       "        vertical-align: top;\n",
       "    }\n",
       "\n",
       "    .dataframe thead th {\n",
       "        text-align: right;\n",
       "    }\n",
       "</style>\n",
       "<table border=\"1\" class=\"dataframe\">\n",
       "  <thead>\n",
       "    <tr style=\"text-align: right;\">\n",
       "      <th></th>\n",
       "      <th>time</th>\n",
       "      <th>volume</th>\n",
       "      <th>mid_o</th>\n",
       "      <th>mid_h</th>\n",
       "      <th>mid_l</th>\n",
       "      <th>mid_c</th>\n",
       "      <th>bid_o</th>\n",
       "      <th>bid_h</th>\n",
       "      <th>bid_l</th>\n",
       "      <th>bid_c</th>\n",
       "      <th>ask_o</th>\n",
       "      <th>ask_h</th>\n",
       "      <th>ask_l</th>\n",
       "      <th>ask_c</th>\n",
       "    </tr>\n",
       "  </thead>\n",
       "  <tbody>\n",
       "    <tr>\n",
       "      <th>1995</th>\n",
       "      <td>2020-04-13T13:00:00.000000000Z</td>\n",
       "      <td>7518</td>\n",
       "      <td>1.24862</td>\n",
       "      <td>1.25261</td>\n",
       "      <td>1.24838</td>\n",
       "      <td>1.25187</td>\n",
       "      <td>1.24850</td>\n",
       "      <td>1.25251</td>\n",
       "      <td>1.24826</td>\n",
       "      <td>1.25178</td>\n",
       "      <td>1.24875</td>\n",
       "      <td>1.25271</td>\n",
       "      <td>1.24851</td>\n",
       "      <td>1.25196</td>\n",
       "    </tr>\n",
       "    <tr>\n",
       "      <th>1996</th>\n",
       "      <td>2020-04-13T17:00:00.000000000Z</td>\n",
       "      <td>4290</td>\n",
       "      <td>1.25184</td>\n",
       "      <td>1.25322</td>\n",
       "      <td>1.25021</td>\n",
       "      <td>1.25031</td>\n",
       "      <td>1.25174</td>\n",
       "      <td>1.25313</td>\n",
       "      <td>1.24991</td>\n",
       "      <td>1.25001</td>\n",
       "      <td>1.25194</td>\n",
       "      <td>1.25333</td>\n",
       "      <td>1.25051</td>\n",
       "      <td>1.25061</td>\n",
       "    </tr>\n",
       "    <tr>\n",
       "      <th>1997</th>\n",
       "      <td>2020-04-13T21:00:00.000000000Z</td>\n",
       "      <td>2268</td>\n",
       "      <td>1.25031</td>\n",
       "      <td>1.25328</td>\n",
       "      <td>1.25002</td>\n",
       "      <td>1.25281</td>\n",
       "      <td>1.25001</td>\n",
       "      <td>1.25313</td>\n",
       "      <td>1.24972</td>\n",
       "      <td>1.25267</td>\n",
       "      <td>1.25061</td>\n",
       "      <td>1.25343</td>\n",
       "      <td>1.25032</td>\n",
       "      <td>1.25295</td>\n",
       "    </tr>\n",
       "    <tr>\n",
       "      <th>1998</th>\n",
       "      <td>2020-04-14T01:00:00.000000000Z</td>\n",
       "      <td>3356</td>\n",
       "      <td>1.25284</td>\n",
       "      <td>1.25709</td>\n",
       "      <td>1.25238</td>\n",
       "      <td>1.25637</td>\n",
       "      <td>1.25272</td>\n",
       "      <td>1.25694</td>\n",
       "      <td>1.25226</td>\n",
       "      <td>1.25620</td>\n",
       "      <td>1.25296</td>\n",
       "      <td>1.25724</td>\n",
       "      <td>1.25251</td>\n",
       "      <td>1.25654</td>\n",
       "    </tr>\n",
       "    <tr>\n",
       "      <th>1999</th>\n",
       "      <td>2020-04-14T05:00:00.000000000Z</td>\n",
       "      <td>8521</td>\n",
       "      <td>1.25634</td>\n",
       "      <td>1.25769</td>\n",
       "      <td>1.25378</td>\n",
       "      <td>1.25610</td>\n",
       "      <td>1.25618</td>\n",
       "      <td>1.25758</td>\n",
       "      <td>1.25367</td>\n",
       "      <td>1.25601</td>\n",
       "      <td>1.25650</td>\n",
       "      <td>1.25780</td>\n",
       "      <td>1.25390</td>\n",
       "      <td>1.25618</td>\n",
       "    </tr>\n",
       "  </tbody>\n",
       "</table>\n",
       "</div>"
      ],
      "text/plain": [
       "                                time  volume    mid_o    mid_h    mid_l  \\\n",
       "1995  2020-04-13T13:00:00.000000000Z    7518  1.24862  1.25261  1.24838   \n",
       "1996  2020-04-13T17:00:00.000000000Z    4290  1.25184  1.25322  1.25021   \n",
       "1997  2020-04-13T21:00:00.000000000Z    2268  1.25031  1.25328  1.25002   \n",
       "1998  2020-04-14T01:00:00.000000000Z    3356  1.25284  1.25709  1.25238   \n",
       "1999  2020-04-14T05:00:00.000000000Z    8521  1.25634  1.25769  1.25378   \n",
       "\n",
       "        mid_c    bid_o    bid_h    bid_l    bid_c    ask_o    ask_h    ask_l  \\\n",
       "1995  1.25187  1.24850  1.25251  1.24826  1.25178  1.24875  1.25271  1.24851   \n",
       "1996  1.25031  1.25174  1.25313  1.24991  1.25001  1.25194  1.25333  1.25051   \n",
       "1997  1.25281  1.25001  1.25313  1.24972  1.25267  1.25061  1.25343  1.25032   \n",
       "1998  1.25637  1.25272  1.25694  1.25226  1.25620  1.25296  1.25724  1.25251   \n",
       "1999  1.25610  1.25618  1.25758  1.25367  1.25601  1.25650  1.25780  1.25390   \n",
       "\n",
       "        ask_c  \n",
       "1995  1.25196  \n",
       "1996  1.25061  \n",
       "1997  1.25295  \n",
       "1998  1.25654  \n",
       "1999  1.25618  "
      ]
     },
     "execution_count": 88,
     "metadata": {},
     "output_type": "execute_result"
    }
   ],
   "source": [
    "df.tail()"
   ]
  },
  {
   "cell_type": "code",
   "execution_count": 89,
   "metadata": {},
   "outputs": [
    {
     "data": {
      "text/html": [
       "<div>\n",
       "<style scoped>\n",
       "    .dataframe tbody tr th:only-of-type {\n",
       "        vertical-align: middle;\n",
       "    }\n",
       "\n",
       "    .dataframe tbody tr th {\n",
       "        vertical-align: top;\n",
       "    }\n",
       "\n",
       "    .dataframe thead th {\n",
       "        text-align: right;\n",
       "    }\n",
       "</style>\n",
       "<table border=\"1\" class=\"dataframe\">\n",
       "  <thead>\n",
       "    <tr style=\"text-align: right;\">\n",
       "      <th></th>\n",
       "      <th>time</th>\n",
       "      <th>volume</th>\n",
       "      <th>mid_o</th>\n",
       "      <th>mid_h</th>\n",
       "      <th>mid_l</th>\n",
       "      <th>mid_c</th>\n",
       "      <th>bid_o</th>\n",
       "      <th>bid_h</th>\n",
       "      <th>bid_l</th>\n",
       "      <th>bid_c</th>\n",
       "      <th>ask_o</th>\n",
       "      <th>ask_h</th>\n",
       "      <th>ask_l</th>\n",
       "      <th>ask_c</th>\n",
       "      <th>RSI</th>\n",
       "      <th>EMA</th>\n",
       "    </tr>\n",
       "  </thead>\n",
       "  <tbody>\n",
       "    <tr>\n",
       "      <th>1995</th>\n",
       "      <td>2020-04-13T13:00:00.000000000Z</td>\n",
       "      <td>7518</td>\n",
       "      <td>1.24862</td>\n",
       "      <td>1.25261</td>\n",
       "      <td>1.24838</td>\n",
       "      <td>1.25187</td>\n",
       "      <td>1.24850</td>\n",
       "      <td>1.25251</td>\n",
       "      <td>1.24826</td>\n",
       "      <td>1.25178</td>\n",
       "      <td>1.24875</td>\n",
       "      <td>1.25271</td>\n",
       "      <td>1.24851</td>\n",
       "      <td>1.25196</td>\n",
       "      <td>66.316454</td>\n",
       "      <td>50.005431</td>\n",
       "    </tr>\n",
       "    <tr>\n",
       "      <th>1996</th>\n",
       "      <td>2020-04-13T17:00:00.000000000Z</td>\n",
       "      <td>4290</td>\n",
       "      <td>1.25184</td>\n",
       "      <td>1.25322</td>\n",
       "      <td>1.25021</td>\n",
       "      <td>1.25031</td>\n",
       "      <td>1.25174</td>\n",
       "      <td>1.25313</td>\n",
       "      <td>1.24991</td>\n",
       "      <td>1.25001</td>\n",
       "      <td>1.25194</td>\n",
       "      <td>1.25333</td>\n",
       "      <td>1.25051</td>\n",
       "      <td>1.25061</td>\n",
       "      <td>61.928333</td>\n",
       "      <td>49.824468</td>\n",
       "    </tr>\n",
       "    <tr>\n",
       "      <th>1997</th>\n",
       "      <td>2020-04-13T21:00:00.000000000Z</td>\n",
       "      <td>2268</td>\n",
       "      <td>1.25031</td>\n",
       "      <td>1.25328</td>\n",
       "      <td>1.25002</td>\n",
       "      <td>1.25281</td>\n",
       "      <td>1.25001</td>\n",
       "      <td>1.25313</td>\n",
       "      <td>1.24972</td>\n",
       "      <td>1.25267</td>\n",
       "      <td>1.25061</td>\n",
       "      <td>1.25343</td>\n",
       "      <td>1.25032</td>\n",
       "      <td>1.25295</td>\n",
       "      <td>65.654204</td>\n",
       "      <td>50.097684</td>\n",
       "    </tr>\n",
       "    <tr>\n",
       "      <th>1998</th>\n",
       "      <td>2020-04-14T01:00:00.000000000Z</td>\n",
       "      <td>3356</td>\n",
       "      <td>1.25284</td>\n",
       "      <td>1.25709</td>\n",
       "      <td>1.25238</td>\n",
       "      <td>1.25637</td>\n",
       "      <td>1.25272</td>\n",
       "      <td>1.25694</td>\n",
       "      <td>1.25226</td>\n",
       "      <td>1.25620</td>\n",
       "      <td>1.25296</td>\n",
       "      <td>1.25724</td>\n",
       "      <td>1.25251</td>\n",
       "      <td>1.25654</td>\n",
       "      <td>69.916434</td>\n",
       "      <td>50.458084</td>\n",
       "    </tr>\n",
       "    <tr>\n",
       "      <th>1999</th>\n",
       "      <td>2020-04-14T05:00:00.000000000Z</td>\n",
       "      <td>8521</td>\n",
       "      <td>1.25634</td>\n",
       "      <td>1.25769</td>\n",
       "      <td>1.25378</td>\n",
       "      <td>1.25610</td>\n",
       "      <td>1.25618</td>\n",
       "      <td>1.25758</td>\n",
       "      <td>1.25367</td>\n",
       "      <td>1.25601</td>\n",
       "      <td>1.25650</td>\n",
       "      <td>1.25780</td>\n",
       "      <td>1.25390</td>\n",
       "      <td>1.25618</td>\n",
       "      <td>69.410660</td>\n",
       "      <td>50.438346</td>\n",
       "    </tr>\n",
       "  </tbody>\n",
       "</table>\n",
       "</div>"
      ],
      "text/plain": [
       "                                time  volume    mid_o    mid_h    mid_l  \\\n",
       "1995  2020-04-13T13:00:00.000000000Z    7518  1.24862  1.25261  1.24838   \n",
       "1996  2020-04-13T17:00:00.000000000Z    4290  1.25184  1.25322  1.25021   \n",
       "1997  2020-04-13T21:00:00.000000000Z    2268  1.25031  1.25328  1.25002   \n",
       "1998  2020-04-14T01:00:00.000000000Z    3356  1.25284  1.25709  1.25238   \n",
       "1999  2020-04-14T05:00:00.000000000Z    8521  1.25634  1.25769  1.25378   \n",
       "\n",
       "        mid_c    bid_o    bid_h    bid_l    bid_c    ask_o    ask_h    ask_l  \\\n",
       "1995  1.25187  1.24850  1.25251  1.24826  1.25178  1.24875  1.25271  1.24851   \n",
       "1996  1.25031  1.25174  1.25313  1.24991  1.25001  1.25194  1.25333  1.25051   \n",
       "1997  1.25281  1.25001  1.25313  1.24972  1.25267  1.25061  1.25343  1.25032   \n",
       "1998  1.25637  1.25272  1.25694  1.25226  1.25620  1.25296  1.25724  1.25251   \n",
       "1999  1.25610  1.25618  1.25758  1.25367  1.25601  1.25650  1.25780  1.25390   \n",
       "\n",
       "        ask_c        RSI        EMA  \n",
       "1995  1.25196  66.316454  50.005431  \n",
       "1996  1.25061  61.928333  49.824468  \n",
       "1997  1.25295  65.654204  50.097684  \n",
       "1998  1.25654  69.916434  50.458084  \n",
       "1999  1.25618  69.410660  50.438346  "
      ]
     },
     "execution_count": 89,
     "metadata": {},
     "output_type": "execute_result"
    }
   ],
   "source": [
    "#Calculate RSI and EMA\n",
    "df['RSI'] = ta.rsi(close=df.bid_c, length=12)\n",
    "df['EMA'] = ta.rsi(close=df.bid_c, length=150)\n",
    "df.tail()"
   ]
  },
  {
   "cell_type": "code",
   "execution_count": 90,
   "metadata": {},
   "outputs": [
    {
     "name": "stderr",
     "output_type": "stream",
     "text": [
      "C:\\Users\\FeisalK\\AppData\\Local\\Temp\\ipykernel_29608\\2146593177.py:2: FutureWarning:\n",
      "\n",
      "Series.fillna with 'method' is deprecated and will raise in a future version. Use obj.ffill() or obj.bfill() instead.\n",
      "\n"
     ]
    }
   ],
   "source": [
    "df['bid_o'] = pd.to_numeric(df['bid_o'], errors='coerce')\n",
    "df['bid_o'] = df['bid_o'].fillna(method='ffill')\n",
    "\n",
    "'''DETECTING THE TREND, Buy on uptrend and sell on downtrend'''\n",
    "# Initialize flags for uptrend (upt) and downtrend (dnt)\n",
    "EMAsignal = [0]*len(df)\n",
    "backcandles = 35\n",
    "\n",
    "for row in range(backcandles, len(df)):\n",
    "    upt = 1\n",
    "    dnt = 1\n",
    "    for i in range(row-backcandles, row+1):\n",
    "        #If last 15 backcandles above Moving AVRG\n",
    "        if max(df.bid_o[i], df.bid_c[i])>=df.EMA[i]:\n",
    "            dnt=0 #Not downtrend but uptrend\n",
    "        #If last 15 backcandles below Moving AVRG\n",
    "        if min(df.bid_o[i], df.bid_c[i])<=df.EMA[i]:\n",
    "            upt=0 #Not uptrend but downtrend\n",
    "    if upt==1 and dnt==1:\n",
    "        EMAsignal[row]=3 #Unclear-trend signal\n",
    "    elif upt==1:\n",
    "        EMAsignal[row]=2 #Uptrend signal\n",
    "    elif dnt==1:\n",
    "        EMAsignal[row]=1 #Downtrend signal\n",
    "\n",
    "df['EMASignal'] = EMAsignal"
   ]
  },
  {
   "cell_type": "code",
   "execution_count": 91,
   "metadata": {},
   "outputs": [
    {
     "name": "stderr",
     "output_type": "stream",
     "text": [
      "C:\\Users\\FeisalK\\AppData\\Local\\Temp\\ipykernel_29608\\3784806406.py:3: FutureWarning:\n",
      "\n",
      "Series.fillna with 'method' is deprecated and will raise in a future version. Use obj.ffill() or obj.bfill() instead.\n",
      "\n",
      "C:\\Users\\FeisalK\\AppData\\Local\\Temp\\ipykernel_29608\\3784806406.py:6: FutureWarning:\n",
      "\n",
      "Series.fillna with 'method' is deprecated and will raise in a future version. Use obj.ffill() or obj.bfill() instead.\n",
      "\n"
     ]
    }
   ],
   "source": [
    "#High\n",
    "df['bid_h'] = pd.to_numeric(df['bid_h'], errors='coerce')\n",
    "df['bid_h'] = df['bid_h'].fillna(method='ffill')\n",
    "#Low\n",
    "df['bid_l'] = pd.to_numeric(df['bid_l'], errors='coerce')\n",
    "df['bid_l'] = df['bid_l'].fillna(method='ffill')\n",
    "\n",
    "def generate_signal(df,l,backcandles, gap, zone_threshold, price_diff_threshold):\n",
    "    max_price = df.bid_h[l-backcandles:l-gap].max()\n",
    "    min_price = df.bid_l[l-backcandles:l-gap].min()\n",
    "    index_max = df.bid_h[l-backcandles:l-gap].idxmax()\n",
    "    index_min = df.bid_l[l-backcandles:l-gap].idxmin()\n",
    "    price_diff = max_price - min_price\n",
    "\n",
    "    if (df.EMASignal[l] == 2 \n",
    "        and (index_min < index_max) \n",
    "        and price_diff>price_diff_threshold):\n",
    "        l1 = max_price - 0.62 * price_diff # position entry 0.62\n",
    "        l2 = max_price - 0.78 * price_diff # SL 0.78\n",
    "        l3 = max_price - 0. * price_diff # TP\n",
    "        if abs(df.bid_c[l]-l1) < zone_threshold and df.bid_h[l-gap:l].min()>l1:\n",
    "            return (2, l2, l3, index_min, index_max)\n",
    "            #Mark our trade\n",
    "        else:\n",
    "            return (0,0,0,0,0)\n",
    "        \n",
    "    elif (df.EMASignal[l] == 1 \n",
    "          and (index_min > index_max) \n",
    "          and price_diff>price_diff_threshold): \n",
    "        l1 = min_price + 0.62 * price_diff # position entry 0.62\n",
    "        l2 = min_price + 0.78 * price_diff # SL 0.78\n",
    "        l3 = min_price + 0. * price_diff # TP\n",
    "        if abs(df.bid_c[l]-l1) < zone_threshold and df.bid_l[l-gap:l].max()<l1:\n",
    "            return (1, l2, l3, index_min, index_max)\n",
    "            #Mark our trade\n",
    "        else:\n",
    "            return (0,0,0,0,0)\n",
    "    \n",
    "    else:\n",
    "        return (0,0,0,0,0)\n",
    "\n",
    "\n",
    "gap_candles = 5 #Candles to the last pivot point\n",
    "backcandles = 40\n",
    "signal = [0 for i in range(len(df))]\n",
    "TP = [0 for i in range(len(df))]\n",
    "SL = [0 for i in range(len(df))]\n",
    "MinSwing = [0 for i in range(len(df))]\n",
    "MaxSwing = [0 for i in range(len(df))]\n",
    "\n",
    "for row in range(backcandles, len(df)):\n",
    "    gen_sig = generate_signal(df, row, backcandles=backcandles, gap=gap_candles, zone_threshold=0.001, price_diff_threshold=0.01)\n",
    "    signal[row] = gen_sig[0]\n",
    "    SL[row] = gen_sig[1]\n",
    "    TP[row] = gen_sig[2]\n",
    "    MinSwing[row] = gen_sig[3]\n",
    "    MaxSwing[row] = gen_sig[4]\n",
    "    \n",
    "df['signal'] = signal\n",
    "df['SL'] = SL\n",
    "df['TP'] = TP\n",
    "df['MinSwing'] = MinSwing\n",
    "df['MaxSwing'] = MaxSwing"
   ]
  },
  {
   "cell_type": "code",
   "execution_count": 92,
   "metadata": {},
   "outputs": [
    {
     "data": {
      "text/html": [
       "<div>\n",
       "<style scoped>\n",
       "    .dataframe tbody tr th:only-of-type {\n",
       "        vertical-align: middle;\n",
       "    }\n",
       "\n",
       "    .dataframe tbody tr th {\n",
       "        vertical-align: top;\n",
       "    }\n",
       "\n",
       "    .dataframe thead th {\n",
       "        text-align: right;\n",
       "    }\n",
       "</style>\n",
       "<table border=\"1\" class=\"dataframe\">\n",
       "  <thead>\n",
       "    <tr style=\"text-align: right;\">\n",
       "      <th></th>\n",
       "      <th>time</th>\n",
       "      <th>volume</th>\n",
       "      <th>mid_o</th>\n",
       "      <th>mid_h</th>\n",
       "      <th>mid_l</th>\n",
       "      <th>mid_c</th>\n",
       "      <th>bid_o</th>\n",
       "      <th>bid_h</th>\n",
       "      <th>bid_l</th>\n",
       "      <th>bid_c</th>\n",
       "      <th>...</th>\n",
       "      <th>ask_l</th>\n",
       "      <th>ask_c</th>\n",
       "      <th>RSI</th>\n",
       "      <th>EMA</th>\n",
       "      <th>EMASignal</th>\n",
       "      <th>signal</th>\n",
       "      <th>SL</th>\n",
       "      <th>TP</th>\n",
       "      <th>MinSwing</th>\n",
       "      <th>MaxSwing</th>\n",
       "    </tr>\n",
       "  </thead>\n",
       "  <tbody>\n",
       "    <tr>\n",
       "      <th>198</th>\n",
       "      <td>2019-02-17T22:00:00.000000000Z</td>\n",
       "      <td>634</td>\n",
       "      <td>1.29104</td>\n",
       "      <td>1.29114</td>\n",
       "      <td>1.29000</td>\n",
       "      <td>1.29102</td>\n",
       "      <td>1.29050</td>\n",
       "      <td>1.29104</td>\n",
       "      <td>1.28988</td>\n",
       "      <td>1.29090</td>\n",
       "      <td>...</td>\n",
       "      <td>1.29012</td>\n",
       "      <td>1.29113</td>\n",
       "      <td>62.919175</td>\n",
       "      <td>50.704408</td>\n",
       "      <td>1</td>\n",
       "      <td>1</td>\n",
       "      <td>1.294655</td>\n",
       "      <td>1.27723</td>\n",
       "      <td>190</td>\n",
       "      <td>160</td>\n",
       "    </tr>\n",
       "    <tr>\n",
       "      <th>199</th>\n",
       "      <td>2019-02-18T02:00:00.000000000Z</td>\n",
       "      <td>798</td>\n",
       "      <td>1.29105</td>\n",
       "      <td>1.29204</td>\n",
       "      <td>1.29068</td>\n",
       "      <td>1.29086</td>\n",
       "      <td>1.29094</td>\n",
       "      <td>1.29194</td>\n",
       "      <td>1.29058</td>\n",
       "      <td>1.29075</td>\n",
       "      <td>...</td>\n",
       "      <td>1.29078</td>\n",
       "      <td>1.29097</td>\n",
       "      <td>62.442576</td>\n",
       "      <td>50.667505</td>\n",
       "      <td>1</td>\n",
       "      <td>1</td>\n",
       "      <td>1.294655</td>\n",
       "      <td>1.27723</td>\n",
       "      <td>190</td>\n",
       "      <td>160</td>\n",
       "    </tr>\n",
       "    <tr>\n",
       "      <th>200</th>\n",
       "      <td>2019-02-18T06:00:00.000000000Z</td>\n",
       "      <td>3948</td>\n",
       "      <td>1.29086</td>\n",
       "      <td>1.29266</td>\n",
       "      <td>1.28918</td>\n",
       "      <td>1.29138</td>\n",
       "      <td>1.29075</td>\n",
       "      <td>1.29257</td>\n",
       "      <td>1.28908</td>\n",
       "      <td>1.29127</td>\n",
       "      <td>...</td>\n",
       "      <td>1.28928</td>\n",
       "      <td>1.29148</td>\n",
       "      <td>63.488501</td>\n",
       "      <td>50.792490</td>\n",
       "      <td>1</td>\n",
       "      <td>1</td>\n",
       "      <td>1.294655</td>\n",
       "      <td>1.27723</td>\n",
       "      <td>190</td>\n",
       "      <td>160</td>\n",
       "    </tr>\n",
       "    <tr>\n",
       "      <th>347</th>\n",
       "      <td>2019-03-22T17:00:00.000000000Z</td>\n",
       "      <td>2277</td>\n",
       "      <td>1.31886</td>\n",
       "      <td>1.32196</td>\n",
       "      <td>1.31787</td>\n",
       "      <td>1.32098</td>\n",
       "      <td>1.31875</td>\n",
       "      <td>1.32186</td>\n",
       "      <td>1.31778</td>\n",
       "      <td>1.32043</td>\n",
       "      <td>...</td>\n",
       "      <td>1.31796</td>\n",
       "      <td>1.32152</td>\n",
       "      <td>54.110928</td>\n",
       "      <td>52.397738</td>\n",
       "      <td>1</td>\n",
       "      <td>1</td>\n",
       "      <td>1.325806</td>\n",
       "      <td>1.30030</td>\n",
       "      <td>340</td>\n",
       "      <td>308</td>\n",
       "    </tr>\n",
       "    <tr>\n",
       "      <th>349</th>\n",
       "      <td>2019-03-25T01:00:00.000000000Z</td>\n",
       "      <td>615</td>\n",
       "      <td>1.31849</td>\n",
       "      <td>1.31989</td>\n",
       "      <td>1.31842</td>\n",
       "      <td>1.31904</td>\n",
       "      <td>1.31838</td>\n",
       "      <td>1.31977</td>\n",
       "      <td>1.31831</td>\n",
       "      <td>1.31895</td>\n",
       "      <td>...</td>\n",
       "      <td>1.31854</td>\n",
       "      <td>1.31914</td>\n",
       "      <td>51.765073</td>\n",
       "      <td>52.134722</td>\n",
       "      <td>1</td>\n",
       "      <td>1</td>\n",
       "      <td>1.324238</td>\n",
       "      <td>1.30030</td>\n",
       "      <td>340</td>\n",
       "      <td>327</td>\n",
       "    </tr>\n",
       "    <tr>\n",
       "      <th>353</th>\n",
       "      <td>2019-03-25T17:00:00.000000000Z</td>\n",
       "      <td>2560</td>\n",
       "      <td>1.31782</td>\n",
       "      <td>1.32026</td>\n",
       "      <td>1.31657</td>\n",
       "      <td>1.31984</td>\n",
       "      <td>1.31774</td>\n",
       "      <td>1.32014</td>\n",
       "      <td>1.31648</td>\n",
       "      <td>1.31954</td>\n",
       "      <td>...</td>\n",
       "      <td>1.31666</td>\n",
       "      <td>1.32014</td>\n",
       "      <td>51.685752</td>\n",
       "      <td>52.156329</td>\n",
       "      <td>1</td>\n",
       "      <td>1</td>\n",
       "      <td>1.324238</td>\n",
       "      <td>1.30030</td>\n",
       "      <td>340</td>\n",
       "      <td>327</td>\n",
       "    </tr>\n",
       "    <tr>\n",
       "      <th>354</th>\n",
       "      <td>2019-03-25T21:00:00.000000000Z</td>\n",
       "      <td>1341</td>\n",
       "      <td>1.31979</td>\n",
       "      <td>1.32230</td>\n",
       "      <td>1.31872</td>\n",
       "      <td>1.31998</td>\n",
       "      <td>1.31949</td>\n",
       "      <td>1.32196</td>\n",
       "      <td>1.31842</td>\n",
       "      <td>1.31986</td>\n",
       "      <td>...</td>\n",
       "      <td>1.31902</td>\n",
       "      <td>1.32009</td>\n",
       "      <td>52.210721</td>\n",
       "      <td>52.206800</td>\n",
       "      <td>1</td>\n",
       "      <td>1</td>\n",
       "      <td>1.324238</td>\n",
       "      <td>1.30030</td>\n",
       "      <td>340</td>\n",
       "      <td>327</td>\n",
       "    </tr>\n",
       "    <tr>\n",
       "      <th>355</th>\n",
       "      <td>2019-03-26T01:00:00.000000000Z</td>\n",
       "      <td>629</td>\n",
       "      <td>1.32001</td>\n",
       "      <td>1.32052</td>\n",
       "      <td>1.31828</td>\n",
       "      <td>1.31850</td>\n",
       "      <td>1.31988</td>\n",
       "      <td>1.32042</td>\n",
       "      <td>1.31818</td>\n",
       "      <td>1.31839</td>\n",
       "      <td>...</td>\n",
       "      <td>1.31839</td>\n",
       "      <td>1.31862</td>\n",
       "      <td>49.514552</td>\n",
       "      <td>51.953345</td>\n",
       "      <td>1</td>\n",
       "      <td>1</td>\n",
       "      <td>1.324238</td>\n",
       "      <td>1.30030</td>\n",
       "      <td>340</td>\n",
       "      <td>327</td>\n",
       "    </tr>\n",
       "    <tr>\n",
       "      <th>356</th>\n",
       "      <td>2019-03-26T05:00:00.000000000Z</td>\n",
       "      <td>3515</td>\n",
       "      <td>1.31848</td>\n",
       "      <td>1.32230</td>\n",
       "      <td>1.31770</td>\n",
       "      <td>1.31876</td>\n",
       "      <td>1.31836</td>\n",
       "      <td>1.32220</td>\n",
       "      <td>1.31758</td>\n",
       "      <td>1.31864</td>\n",
       "      <td>...</td>\n",
       "      <td>1.31781</td>\n",
       "      <td>1.31888</td>\n",
       "      <td>49.993649</td>\n",
       "      <td>51.993248</td>\n",
       "      <td>1</td>\n",
       "      <td>1</td>\n",
       "      <td>1.324238</td>\n",
       "      <td>1.30030</td>\n",
       "      <td>340</td>\n",
       "      <td>327</td>\n",
       "    </tr>\n",
       "    <tr>\n",
       "      <th>367</th>\n",
       "      <td>2019-03-28T01:00:00.000000000Z</td>\n",
       "      <td>959</td>\n",
       "      <td>1.31808</td>\n",
       "      <td>1.31949</td>\n",
       "      <td>1.31750</td>\n",
       "      <td>1.31940</td>\n",
       "      <td>1.31796</td>\n",
       "      <td>1.31937</td>\n",
       "      <td>1.31738</td>\n",
       "      <td>1.31928</td>\n",
       "      <td>...</td>\n",
       "      <td>1.31762</td>\n",
       "      <td>1.31951</td>\n",
       "      <td>49.060488</td>\n",
       "      <td>51.918529</td>\n",
       "      <td>1</td>\n",
       "      <td>1</td>\n",
       "      <td>1.324238</td>\n",
       "      <td>1.30030</td>\n",
       "      <td>340</td>\n",
       "      <td>327</td>\n",
       "    </tr>\n",
       "    <tr>\n",
       "      <th>395</th>\n",
       "      <td>2019-04-03T17:00:00.000000000Z</td>\n",
       "      <td>2185</td>\n",
       "      <td>1.31698</td>\n",
       "      <td>1.31796</td>\n",
       "      <td>1.31428</td>\n",
       "      <td>1.31571</td>\n",
       "      <td>1.31688</td>\n",
       "      <td>1.31786</td>\n",
       "      <td>1.31418</td>\n",
       "      <td>1.31541</td>\n",
       "      <td>...</td>\n",
       "      <td>1.31437</td>\n",
       "      <td>1.31601</td>\n",
       "      <td>57.822889</td>\n",
       "      <td>51.174143</td>\n",
       "      <td>1</td>\n",
       "      <td>1</td>\n",
       "      <td>1.320385</td>\n",
       "      <td>1.29757</td>\n",
       "      <td>376</td>\n",
       "      <td>365</td>\n",
       "    </tr>\n",
       "    <tr>\n",
       "      <th>424</th>\n",
       "      <td>2019-04-10T13:00:00.000000000Z</td>\n",
       "      <td>4754</td>\n",
       "      <td>1.30754</td>\n",
       "      <td>1.31157</td>\n",
       "      <td>1.30554</td>\n",
       "      <td>1.31126</td>\n",
       "      <td>1.30744</td>\n",
       "      <td>1.31146</td>\n",
       "      <td>1.30541</td>\n",
       "      <td>1.31117</td>\n",
       "      <td>...</td>\n",
       "      <td>1.30565</td>\n",
       "      <td>1.31134</td>\n",
       "      <td>60.380291</td>\n",
       "      <td>50.539930</td>\n",
       "      <td>1</td>\n",
       "      <td>1</td>\n",
       "      <td>1.314924</td>\n",
       "      <td>1.29863</td>\n",
       "      <td>406</td>\n",
       "      <td>392</td>\n",
       "    </tr>\n",
       "    <tr>\n",
       "      <th>435</th>\n",
       "      <td>2019-04-12T09:00:00.000000000Z</td>\n",
       "      <td>3917</td>\n",
       "      <td>1.30702</td>\n",
       "      <td>1.31272</td>\n",
       "      <td>1.30639</td>\n",
       "      <td>1.31208</td>\n",
       "      <td>1.30691</td>\n",
       "      <td>1.31261</td>\n",
       "      <td>1.30628</td>\n",
       "      <td>1.31198</td>\n",
       "      <td>...</td>\n",
       "      <td>1.30649</td>\n",
       "      <td>1.31218</td>\n",
       "      <td>61.561675</td>\n",
       "      <td>50.681248</td>\n",
       "      <td>1</td>\n",
       "      <td>1</td>\n",
       "      <td>1.314519</td>\n",
       "      <td>1.29863</td>\n",
       "      <td>406</td>\n",
       "      <td>398</td>\n",
       "    </tr>\n",
       "    <tr>\n",
       "      <th>439</th>\n",
       "      <td>2019-04-15T01:00:00.000000000Z</td>\n",
       "      <td>815</td>\n",
       "      <td>1.30909</td>\n",
       "      <td>1.31028</td>\n",
       "      <td>1.30861</td>\n",
       "      <td>1.30940</td>\n",
       "      <td>1.30897</td>\n",
       "      <td>1.31016</td>\n",
       "      <td>1.30850</td>\n",
       "      <td>1.30929</td>\n",
       "      <td>...</td>\n",
       "      <td>1.30872</td>\n",
       "      <td>1.30951</td>\n",
       "      <td>53.560964</td>\n",
       "      <td>50.234267</td>\n",
       "      <td>1</td>\n",
       "      <td>1</td>\n",
       "      <td>1.312452</td>\n",
       "      <td>1.29863</td>\n",
       "      <td>406</td>\n",
       "      <td>399</td>\n",
       "    </tr>\n",
       "    <tr>\n",
       "      <th>655</th>\n",
       "      <td>2019-06-03T21:00:00.000000000Z</td>\n",
       "      <td>510</td>\n",
       "      <td>1.26641</td>\n",
       "      <td>1.26683</td>\n",
       "      <td>1.26585</td>\n",
       "      <td>1.26668</td>\n",
       "      <td>1.26611</td>\n",
       "      <td>1.26675</td>\n",
       "      <td>1.26555</td>\n",
       "      <td>1.26659</td>\n",
       "      <td>...</td>\n",
       "      <td>1.26615</td>\n",
       "      <td>1.26676</td>\n",
       "      <td>60.462258</td>\n",
       "      <td>45.091818</td>\n",
       "      <td>1</td>\n",
       "      <td>1</td>\n",
       "      <td>1.270529</td>\n",
       "      <td>1.25581</td>\n",
       "      <td>646</td>\n",
       "      <td>621</td>\n",
       "    </tr>\n",
       "    <tr>\n",
       "      <th>658</th>\n",
       "      <td>2019-06-04T09:00:00.000000000Z</td>\n",
       "      <td>4543</td>\n",
       "      <td>1.26522</td>\n",
       "      <td>1.26944</td>\n",
       "      <td>1.26504</td>\n",
       "      <td>1.26832</td>\n",
       "      <td>1.26497</td>\n",
       "      <td>1.26937</td>\n",
       "      <td>1.26490</td>\n",
       "      <td>1.26824</td>\n",
       "      <td>...</td>\n",
       "      <td>1.26517</td>\n",
       "      <td>1.26840</td>\n",
       "      <td>63.034597</td>\n",
       "      <td>45.568654</td>\n",
       "      <td>1</td>\n",
       "      <td>1</td>\n",
       "      <td>1.270529</td>\n",
       "      <td>1.25581</td>\n",
       "      <td>646</td>\n",
       "      <td>621</td>\n",
       "    </tr>\n",
       "    <tr>\n",
       "      <th>824</th>\n",
       "      <td>2019-07-11T21:00:00.000000000Z</td>\n",
       "      <td>590</td>\n",
       "      <td>1.25224</td>\n",
       "      <td>1.25334</td>\n",
       "      <td>1.25204</td>\n",
       "      <td>1.25310</td>\n",
       "      <td>1.25194</td>\n",
       "      <td>1.25325</td>\n",
       "      <td>1.25188</td>\n",
       "      <td>1.25300</td>\n",
       "      <td>...</td>\n",
       "      <td>1.25214</td>\n",
       "      <td>1.25319</td>\n",
       "      <td>53.525465</td>\n",
       "      <td>45.684721</td>\n",
       "      <td>1</td>\n",
       "      <td>1</td>\n",
       "      <td>1.255715</td>\n",
       "      <td>1.24389</td>\n",
       "      <td>809</td>\n",
       "      <td>785</td>\n",
       "    </tr>\n",
       "    <tr>\n",
       "      <th>825</th>\n",
       "      <td>2019-07-12T01:00:00.000000000Z</td>\n",
       "      <td>599</td>\n",
       "      <td>1.25313</td>\n",
       "      <td>1.25446</td>\n",
       "      <td>1.25313</td>\n",
       "      <td>1.25425</td>\n",
       "      <td>1.25304</td>\n",
       "      <td>1.25436</td>\n",
       "      <td>1.25304</td>\n",
       "      <td>1.25417</td>\n",
       "      <td>...</td>\n",
       "      <td>1.25322</td>\n",
       "      <td>1.25433</td>\n",
       "      <td>56.811671</td>\n",
       "      <td>45.995702</td>\n",
       "      <td>1</td>\n",
       "      <td>1</td>\n",
       "      <td>1.255715</td>\n",
       "      <td>1.24389</td>\n",
       "      <td>809</td>\n",
       "      <td>785</td>\n",
       "    </tr>\n",
       "    <tr>\n",
       "      <th>826</th>\n",
       "      <td>2019-07-12T05:00:00.000000000Z</td>\n",
       "      <td>2208</td>\n",
       "      <td>1.25422</td>\n",
       "      <td>1.25538</td>\n",
       "      <td>1.25314</td>\n",
       "      <td>1.25406</td>\n",
       "      <td>1.25414</td>\n",
       "      <td>1.25531</td>\n",
       "      <td>1.25305</td>\n",
       "      <td>1.25398</td>\n",
       "      <td>...</td>\n",
       "      <td>1.25322</td>\n",
       "      <td>1.25413</td>\n",
       "      <td>56.108814</td>\n",
       "      <td>45.952690</td>\n",
       "      <td>1</td>\n",
       "      <td>1</td>\n",
       "      <td>1.255699</td>\n",
       "      <td>1.24389</td>\n",
       "      <td>809</td>\n",
       "      <td>789</td>\n",
       "    </tr>\n",
       "    <tr>\n",
       "      <th>827</th>\n",
       "      <td>2019-07-12T09:00:00.000000000Z</td>\n",
       "      <td>3145</td>\n",
       "      <td>1.25409</td>\n",
       "      <td>1.25444</td>\n",
       "      <td>1.25216</td>\n",
       "      <td>1.25385</td>\n",
       "      <td>1.25401</td>\n",
       "      <td>1.25436</td>\n",
       "      <td>1.25209</td>\n",
       "      <td>1.25376</td>\n",
       "      <td>...</td>\n",
       "      <td>1.25224</td>\n",
       "      <td>1.25394</td>\n",
       "      <td>55.245470</td>\n",
       "      <td>45.902653</td>\n",
       "      <td>1</td>\n",
       "      <td>1</td>\n",
       "      <td>1.255699</td>\n",
       "      <td>1.24389</td>\n",
       "      <td>809</td>\n",
       "      <td>789</td>\n",
       "    </tr>\n",
       "    <tr>\n",
       "      <th>973</th>\n",
       "      <td>2019-08-15T09:00:00.000000000Z</td>\n",
       "      <td>8135</td>\n",
       "      <td>1.20828</td>\n",
       "      <td>1.21508</td>\n",
       "      <td>1.20812</td>\n",
       "      <td>1.21253</td>\n",
       "      <td>1.20820</td>\n",
       "      <td>1.21494</td>\n",
       "      <td>1.20802</td>\n",
       "      <td>1.21245</td>\n",
       "      <td>...</td>\n",
       "      <td>1.20823</td>\n",
       "      <td>1.21261</td>\n",
       "      <td>65.751712</td>\n",
       "      <td>43.679308</td>\n",
       "      <td>1</td>\n",
       "      <td>1</td>\n",
       "      <td>1.215128</td>\n",
       "      <td>1.20140</td>\n",
       "      <td>952</td>\n",
       "      <td>934</td>\n",
       "    </tr>\n",
       "    <tr>\n",
       "      <th>1057</th>\n",
       "      <td>2019-09-04T09:00:00.000000000Z</td>\n",
       "      <td>6486</td>\n",
       "      <td>1.21528</td>\n",
       "      <td>1.22200</td>\n",
       "      <td>1.21484</td>\n",
       "      <td>1.21822</td>\n",
       "      <td>1.21519</td>\n",
       "      <td>1.22190</td>\n",
       "      <td>1.21476</td>\n",
       "      <td>1.21813</td>\n",
       "      <td>...</td>\n",
       "      <td>1.21493</td>\n",
       "      <td>1.21831</td>\n",
       "      <td>61.956260</td>\n",
       "      <td>47.522716</td>\n",
       "      <td>1</td>\n",
       "      <td>1</td>\n",
       "      <td>1.223166</td>\n",
       "      <td>1.19578</td>\n",
       "      <td>1050</td>\n",
       "      <td>1022</td>\n",
       "    </tr>\n",
       "    <tr>\n",
       "      <th>1301</th>\n",
       "      <td>2019-10-30T21:00:00.000000000Z</td>\n",
       "      <td>718</td>\n",
       "      <td>1.29031</td>\n",
       "      <td>1.29156</td>\n",
       "      <td>1.28960</td>\n",
       "      <td>1.29148</td>\n",
       "      <td>1.29001</td>\n",
       "      <td>1.29146</td>\n",
       "      <td>1.28930</td>\n",
       "      <td>1.29135</td>\n",
       "      <td>...</td>\n",
       "      <td>1.28990</td>\n",
       "      <td>1.29160</td>\n",
       "      <td>65.450516</td>\n",
       "      <td>56.093372</td>\n",
       "      <td>1</td>\n",
       "      <td>1</td>\n",
       "      <td>1.295303</td>\n",
       "      <td>1.27879</td>\n",
       "      <td>1275</td>\n",
       "      <td>1264</td>\n",
       "    </tr>\n",
       "    <tr>\n",
       "      <th>1302</th>\n",
       "      <td>2019-10-31T01:00:00.000000000Z</td>\n",
       "      <td>948</td>\n",
       "      <td>1.29152</td>\n",
       "      <td>1.29347</td>\n",
       "      <td>1.29127</td>\n",
       "      <td>1.29278</td>\n",
       "      <td>1.29140</td>\n",
       "      <td>1.29337</td>\n",
       "      <td>1.29116</td>\n",
       "      <td>1.29269</td>\n",
       "      <td>...</td>\n",
       "      <td>1.29138</td>\n",
       "      <td>1.29288</td>\n",
       "      <td>68.327225</td>\n",
       "      <td>56.289172</td>\n",
       "      <td>1</td>\n",
       "      <td>1</td>\n",
       "      <td>1.295303</td>\n",
       "      <td>1.27879</td>\n",
       "      <td>1275</td>\n",
       "      <td>1264</td>\n",
       "    </tr>\n",
       "    <tr>\n",
       "      <th>1357</th>\n",
       "      <td>2019-11-13T06:00:00.000000000Z</td>\n",
       "      <td>3060</td>\n",
       "      <td>1.28497</td>\n",
       "      <td>1.28584</td>\n",
       "      <td>1.28234</td>\n",
       "      <td>1.28533</td>\n",
       "      <td>1.28488</td>\n",
       "      <td>1.28573</td>\n",
       "      <td>1.28218</td>\n",
       "      <td>1.28524</td>\n",
       "      <td>...</td>\n",
       "      <td>1.28244</td>\n",
       "      <td>1.28542</td>\n",
       "      <td>54.097679</td>\n",
       "      <td>53.975329</td>\n",
       "      <td>1</td>\n",
       "      <td>1</td>\n",
       "      <td>1.288668</td>\n",
       "      <td>1.27682</td>\n",
       "      <td>1342</td>\n",
       "      <td>1317</td>\n",
       "    </tr>\n",
       "    <tr>\n",
       "      <th>1363</th>\n",
       "      <td>2019-11-14T06:00:00.000000000Z</td>\n",
       "      <td>3182</td>\n",
       "      <td>1.28286</td>\n",
       "      <td>1.28670</td>\n",
       "      <td>1.28252</td>\n",
       "      <td>1.28502</td>\n",
       "      <td>1.28275</td>\n",
       "      <td>1.28659</td>\n",
       "      <td>1.28243</td>\n",
       "      <td>1.28486</td>\n",
       "      <td>...</td>\n",
       "      <td>1.28261</td>\n",
       "      <td>1.28517</td>\n",
       "      <td>52.704774</td>\n",
       "      <td>53.807135</td>\n",
       "      <td>1</td>\n",
       "      <td>1</td>\n",
       "      <td>1.287061</td>\n",
       "      <td>1.27682</td>\n",
       "      <td>1342</td>\n",
       "      <td>1323</td>\n",
       "    </tr>\n",
       "    <tr>\n",
       "      <th>1364</th>\n",
       "      <td>2019-11-14T10:00:00.000000000Z</td>\n",
       "      <td>3176</td>\n",
       "      <td>1.28505</td>\n",
       "      <td>1.28653</td>\n",
       "      <td>1.28336</td>\n",
       "      <td>1.28400</td>\n",
       "      <td>1.28489</td>\n",
       "      <td>1.28644</td>\n",
       "      <td>1.28326</td>\n",
       "      <td>1.28393</td>\n",
       "      <td>...</td>\n",
       "      <td>1.28344</td>\n",
       "      <td>1.28408</td>\n",
       "      <td>49.038432</td>\n",
       "      <td>53.610117</td>\n",
       "      <td>1</td>\n",
       "      <td>1</td>\n",
       "      <td>1.286827</td>\n",
       "      <td>1.27682</td>\n",
       "      <td>1342</td>\n",
       "      <td>1328</td>\n",
       "    </tr>\n",
       "    <tr>\n",
       "      <th>1420</th>\n",
       "      <td>2019-11-27T18:00:00.000000000Z</td>\n",
       "      <td>2996</td>\n",
       "      <td>1.28832</td>\n",
       "      <td>1.29188</td>\n",
       "      <td>1.28826</td>\n",
       "      <td>1.29110</td>\n",
       "      <td>1.28824</td>\n",
       "      <td>1.29158</td>\n",
       "      <td>1.28817</td>\n",
       "      <td>1.29080</td>\n",
       "      <td>...</td>\n",
       "      <td>1.28834</td>\n",
       "      <td>1.29140</td>\n",
       "      <td>60.495295</td>\n",
       "      <td>53.797414</td>\n",
       "      <td>1</td>\n",
       "      <td>1</td>\n",
       "      <td>1.293671</td>\n",
       "      <td>1.28208</td>\n",
       "      <td>1401</td>\n",
       "      <td>1394</td>\n",
       "    </tr>\n",
       "    <tr>\n",
       "      <th>1543</th>\n",
       "      <td>2019-12-27T06:00:00.000000000Z</td>\n",
       "      <td>4696</td>\n",
       "      <td>1.29950</td>\n",
       "      <td>1.30756</td>\n",
       "      <td>1.29929</td>\n",
       "      <td>1.30706</td>\n",
       "      <td>1.29940</td>\n",
       "      <td>1.30746</td>\n",
       "      <td>1.29919</td>\n",
       "      <td>1.30697</td>\n",
       "      <td>...</td>\n",
       "      <td>1.29939</td>\n",
       "      <td>1.30714</td>\n",
       "      <td>63.864910</td>\n",
       "      <td>52.466434</td>\n",
       "      <td>1</td>\n",
       "      <td>1</td>\n",
       "      <td>1.311388</td>\n",
       "      <td>1.29039</td>\n",
       "      <td>1526</td>\n",
       "      <td>1503</td>\n",
       "    </tr>\n",
       "    <tr>\n",
       "      <th>1626</th>\n",
       "      <td>2020-01-17T02:00:00.000000000Z</td>\n",
       "      <td>1213</td>\n",
       "      <td>1.30680</td>\n",
       "      <td>1.30806</td>\n",
       "      <td>1.30680</td>\n",
       "      <td>1.30750</td>\n",
       "      <td>1.30668</td>\n",
       "      <td>1.30794</td>\n",
       "      <td>1.30668</td>\n",
       "      <td>1.30740</td>\n",
       "      <td>...</td>\n",
       "      <td>1.30691</td>\n",
       "      <td>1.30759</td>\n",
       "      <td>61.293968</td>\n",
       "      <td>51.509176</td>\n",
       "      <td>1</td>\n",
       "      <td>1</td>\n",
       "      <td>1.309787</td>\n",
       "      <td>1.29538</td>\n",
       "      <td>1609</td>\n",
       "      <td>1587</td>\n",
       "    </tr>\n",
       "    <tr>\n",
       "      <th>1682</th>\n",
       "      <td>2020-01-30T10:00:00.000000000Z</td>\n",
       "      <td>16906</td>\n",
       "      <td>1.30165</td>\n",
       "      <td>1.31090</td>\n",
       "      <td>1.30083</td>\n",
       "      <td>1.30983</td>\n",
       "      <td>1.30157</td>\n",
       "      <td>1.31082</td>\n",
       "      <td>1.30075</td>\n",
       "      <td>1.30974</td>\n",
       "      <td>...</td>\n",
       "      <td>1.30090</td>\n",
       "      <td>1.30992</td>\n",
       "      <td>65.112514</td>\n",
       "      <td>51.690037</td>\n",
       "      <td>1</td>\n",
       "      <td>1</td>\n",
       "      <td>1.312530</td>\n",
       "      <td>1.29746</td>\n",
       "      <td>1671</td>\n",
       "      <td>1657</td>\n",
       "    </tr>\n",
       "    <tr>\n",
       "      <th>1683</th>\n",
       "      <td>2020-01-30T14:00:00.000000000Z</td>\n",
       "      <td>7770</td>\n",
       "      <td>1.30980</td>\n",
       "      <td>1.31102</td>\n",
       "      <td>1.30752</td>\n",
       "      <td>1.30948</td>\n",
       "      <td>1.30972</td>\n",
       "      <td>1.31094</td>\n",
       "      <td>1.30745</td>\n",
       "      <td>1.30940</td>\n",
       "      <td>...</td>\n",
       "      <td>1.30760</td>\n",
       "      <td>1.30955</td>\n",
       "      <td>63.988378</td>\n",
       "      <td>51.619392</td>\n",
       "      <td>1</td>\n",
       "      <td>1</td>\n",
       "      <td>1.312530</td>\n",
       "      <td>1.29746</td>\n",
       "      <td>1671</td>\n",
       "      <td>1657</td>\n",
       "    </tr>\n",
       "    <tr>\n",
       "      <th>1684</th>\n",
       "      <td>2020-01-30T18:00:00.000000000Z</td>\n",
       "      <td>2861</td>\n",
       "      <td>1.30950</td>\n",
       "      <td>1.30960</td>\n",
       "      <td>1.30799</td>\n",
       "      <td>1.30931</td>\n",
       "      <td>1.30942</td>\n",
       "      <td>1.30953</td>\n",
       "      <td>1.30791</td>\n",
       "      <td>1.30901</td>\n",
       "      <td>...</td>\n",
       "      <td>1.30806</td>\n",
       "      <td>1.30961</td>\n",
       "      <td>62.635223</td>\n",
       "      <td>51.538055</td>\n",
       "      <td>1</td>\n",
       "      <td>1</td>\n",
       "      <td>1.312530</td>\n",
       "      <td>1.29746</td>\n",
       "      <td>1671</td>\n",
       "      <td>1657</td>\n",
       "    </tr>\n",
       "    <tr>\n",
       "      <th>1685</th>\n",
       "      <td>2020-01-30T22:00:00.000000000Z</td>\n",
       "      <td>940</td>\n",
       "      <td>1.30925</td>\n",
       "      <td>1.31056</td>\n",
       "      <td>1.30844</td>\n",
       "      <td>1.30968</td>\n",
       "      <td>1.30895</td>\n",
       "      <td>1.31045</td>\n",
       "      <td>1.30817</td>\n",
       "      <td>1.30959</td>\n",
       "      <td>...</td>\n",
       "      <td>1.30852</td>\n",
       "      <td>1.30978</td>\n",
       "      <td>63.874621</td>\n",
       "      <td>51.652113</td>\n",
       "      <td>1</td>\n",
       "      <td>1</td>\n",
       "      <td>1.312530</td>\n",
       "      <td>1.29746</td>\n",
       "      <td>1671</td>\n",
       "      <td>1657</td>\n",
       "    </tr>\n",
       "    <tr>\n",
       "      <th>1686</th>\n",
       "      <td>2020-01-31T02:00:00.000000000Z</td>\n",
       "      <td>829</td>\n",
       "      <td>1.30970</td>\n",
       "      <td>1.31038</td>\n",
       "      <td>1.30933</td>\n",
       "      <td>1.30969</td>\n",
       "      <td>1.30961</td>\n",
       "      <td>1.31028</td>\n",
       "      <td>1.30923</td>\n",
       "      <td>1.30960</td>\n",
       "      <td>...</td>\n",
       "      <td>1.30943</td>\n",
       "      <td>1.30978</td>\n",
       "      <td>63.897145</td>\n",
       "      <td>51.654087</td>\n",
       "      <td>1</td>\n",
       "      <td>1</td>\n",
       "      <td>1.312530</td>\n",
       "      <td>1.29746</td>\n",
       "      <td>1671</td>\n",
       "      <td>1657</td>\n",
       "    </tr>\n",
       "    <tr>\n",
       "      <th>1790</th>\n",
       "      <td>2020-02-25T10:00:00.000000000Z</td>\n",
       "      <td>10260</td>\n",
       "      <td>1.29943</td>\n",
       "      <td>1.29943</td>\n",
       "      <td>1.29526</td>\n",
       "      <td>1.29696</td>\n",
       "      <td>1.29936</td>\n",
       "      <td>1.29936</td>\n",
       "      <td>1.29518</td>\n",
       "      <td>1.29688</td>\n",
       "      <td>...</td>\n",
       "      <td>1.29534</td>\n",
       "      <td>1.29703</td>\n",
       "      <td>56.082294</td>\n",
       "      <td>49.456792</td>\n",
       "      <td>1</td>\n",
       "      <td>1</td>\n",
       "      <td>1.300809</td>\n",
       "      <td>1.28478</td>\n",
       "      <td>1772</td>\n",
       "      <td>1751</td>\n",
       "    </tr>\n",
       "    <tr>\n",
       "      <th>1970</th>\n",
       "      <td>2020-04-07T09:00:00.000000000Z</td>\n",
       "      <td>19460</td>\n",
       "      <td>1.23280</td>\n",
       "      <td>1.23844</td>\n",
       "      <td>1.22826</td>\n",
       "      <td>1.23694</td>\n",
       "      <td>1.23265</td>\n",
       "      <td>1.23833</td>\n",
       "      <td>1.22811</td>\n",
       "      <td>1.23683</td>\n",
       "      <td>...</td>\n",
       "      <td>1.22841</td>\n",
       "      <td>1.23705</td>\n",
       "      <td>58.413329</td>\n",
       "      <td>48.403901</td>\n",
       "      <td>1</td>\n",
       "      <td>1</td>\n",
       "      <td>1.242241</td>\n",
       "      <td>1.22037</td>\n",
       "      <td>1959</td>\n",
       "      <td>1930</td>\n",
       "    </tr>\n",
       "  </tbody>\n",
       "</table>\n",
       "<p>37 rows × 22 columns</p>\n",
       "</div>"
      ],
      "text/plain": [
       "                                time  volume    mid_o    mid_h    mid_l  \\\n",
       "198   2019-02-17T22:00:00.000000000Z     634  1.29104  1.29114  1.29000   \n",
       "199   2019-02-18T02:00:00.000000000Z     798  1.29105  1.29204  1.29068   \n",
       "200   2019-02-18T06:00:00.000000000Z    3948  1.29086  1.29266  1.28918   \n",
       "347   2019-03-22T17:00:00.000000000Z    2277  1.31886  1.32196  1.31787   \n",
       "349   2019-03-25T01:00:00.000000000Z     615  1.31849  1.31989  1.31842   \n",
       "353   2019-03-25T17:00:00.000000000Z    2560  1.31782  1.32026  1.31657   \n",
       "354   2019-03-25T21:00:00.000000000Z    1341  1.31979  1.32230  1.31872   \n",
       "355   2019-03-26T01:00:00.000000000Z     629  1.32001  1.32052  1.31828   \n",
       "356   2019-03-26T05:00:00.000000000Z    3515  1.31848  1.32230  1.31770   \n",
       "367   2019-03-28T01:00:00.000000000Z     959  1.31808  1.31949  1.31750   \n",
       "395   2019-04-03T17:00:00.000000000Z    2185  1.31698  1.31796  1.31428   \n",
       "424   2019-04-10T13:00:00.000000000Z    4754  1.30754  1.31157  1.30554   \n",
       "435   2019-04-12T09:00:00.000000000Z    3917  1.30702  1.31272  1.30639   \n",
       "439   2019-04-15T01:00:00.000000000Z     815  1.30909  1.31028  1.30861   \n",
       "655   2019-06-03T21:00:00.000000000Z     510  1.26641  1.26683  1.26585   \n",
       "658   2019-06-04T09:00:00.000000000Z    4543  1.26522  1.26944  1.26504   \n",
       "824   2019-07-11T21:00:00.000000000Z     590  1.25224  1.25334  1.25204   \n",
       "825   2019-07-12T01:00:00.000000000Z     599  1.25313  1.25446  1.25313   \n",
       "826   2019-07-12T05:00:00.000000000Z    2208  1.25422  1.25538  1.25314   \n",
       "827   2019-07-12T09:00:00.000000000Z    3145  1.25409  1.25444  1.25216   \n",
       "973   2019-08-15T09:00:00.000000000Z    8135  1.20828  1.21508  1.20812   \n",
       "1057  2019-09-04T09:00:00.000000000Z    6486  1.21528  1.22200  1.21484   \n",
       "1301  2019-10-30T21:00:00.000000000Z     718  1.29031  1.29156  1.28960   \n",
       "1302  2019-10-31T01:00:00.000000000Z     948  1.29152  1.29347  1.29127   \n",
       "1357  2019-11-13T06:00:00.000000000Z    3060  1.28497  1.28584  1.28234   \n",
       "1363  2019-11-14T06:00:00.000000000Z    3182  1.28286  1.28670  1.28252   \n",
       "1364  2019-11-14T10:00:00.000000000Z    3176  1.28505  1.28653  1.28336   \n",
       "1420  2019-11-27T18:00:00.000000000Z    2996  1.28832  1.29188  1.28826   \n",
       "1543  2019-12-27T06:00:00.000000000Z    4696  1.29950  1.30756  1.29929   \n",
       "1626  2020-01-17T02:00:00.000000000Z    1213  1.30680  1.30806  1.30680   \n",
       "1682  2020-01-30T10:00:00.000000000Z   16906  1.30165  1.31090  1.30083   \n",
       "1683  2020-01-30T14:00:00.000000000Z    7770  1.30980  1.31102  1.30752   \n",
       "1684  2020-01-30T18:00:00.000000000Z    2861  1.30950  1.30960  1.30799   \n",
       "1685  2020-01-30T22:00:00.000000000Z     940  1.30925  1.31056  1.30844   \n",
       "1686  2020-01-31T02:00:00.000000000Z     829  1.30970  1.31038  1.30933   \n",
       "1790  2020-02-25T10:00:00.000000000Z   10260  1.29943  1.29943  1.29526   \n",
       "1970  2020-04-07T09:00:00.000000000Z   19460  1.23280  1.23844  1.22826   \n",
       "\n",
       "        mid_c    bid_o    bid_h    bid_l    bid_c  ...    ask_l    ask_c  \\\n",
       "198   1.29102  1.29050  1.29104  1.28988  1.29090  ...  1.29012  1.29113   \n",
       "199   1.29086  1.29094  1.29194  1.29058  1.29075  ...  1.29078  1.29097   \n",
       "200   1.29138  1.29075  1.29257  1.28908  1.29127  ...  1.28928  1.29148   \n",
       "347   1.32098  1.31875  1.32186  1.31778  1.32043  ...  1.31796  1.32152   \n",
       "349   1.31904  1.31838  1.31977  1.31831  1.31895  ...  1.31854  1.31914   \n",
       "353   1.31984  1.31774  1.32014  1.31648  1.31954  ...  1.31666  1.32014   \n",
       "354   1.31998  1.31949  1.32196  1.31842  1.31986  ...  1.31902  1.32009   \n",
       "355   1.31850  1.31988  1.32042  1.31818  1.31839  ...  1.31839  1.31862   \n",
       "356   1.31876  1.31836  1.32220  1.31758  1.31864  ...  1.31781  1.31888   \n",
       "367   1.31940  1.31796  1.31937  1.31738  1.31928  ...  1.31762  1.31951   \n",
       "395   1.31571  1.31688  1.31786  1.31418  1.31541  ...  1.31437  1.31601   \n",
       "424   1.31126  1.30744  1.31146  1.30541  1.31117  ...  1.30565  1.31134   \n",
       "435   1.31208  1.30691  1.31261  1.30628  1.31198  ...  1.30649  1.31218   \n",
       "439   1.30940  1.30897  1.31016  1.30850  1.30929  ...  1.30872  1.30951   \n",
       "655   1.26668  1.26611  1.26675  1.26555  1.26659  ...  1.26615  1.26676   \n",
       "658   1.26832  1.26497  1.26937  1.26490  1.26824  ...  1.26517  1.26840   \n",
       "824   1.25310  1.25194  1.25325  1.25188  1.25300  ...  1.25214  1.25319   \n",
       "825   1.25425  1.25304  1.25436  1.25304  1.25417  ...  1.25322  1.25433   \n",
       "826   1.25406  1.25414  1.25531  1.25305  1.25398  ...  1.25322  1.25413   \n",
       "827   1.25385  1.25401  1.25436  1.25209  1.25376  ...  1.25224  1.25394   \n",
       "973   1.21253  1.20820  1.21494  1.20802  1.21245  ...  1.20823  1.21261   \n",
       "1057  1.21822  1.21519  1.22190  1.21476  1.21813  ...  1.21493  1.21831   \n",
       "1301  1.29148  1.29001  1.29146  1.28930  1.29135  ...  1.28990  1.29160   \n",
       "1302  1.29278  1.29140  1.29337  1.29116  1.29269  ...  1.29138  1.29288   \n",
       "1357  1.28533  1.28488  1.28573  1.28218  1.28524  ...  1.28244  1.28542   \n",
       "1363  1.28502  1.28275  1.28659  1.28243  1.28486  ...  1.28261  1.28517   \n",
       "1364  1.28400  1.28489  1.28644  1.28326  1.28393  ...  1.28344  1.28408   \n",
       "1420  1.29110  1.28824  1.29158  1.28817  1.29080  ...  1.28834  1.29140   \n",
       "1543  1.30706  1.29940  1.30746  1.29919  1.30697  ...  1.29939  1.30714   \n",
       "1626  1.30750  1.30668  1.30794  1.30668  1.30740  ...  1.30691  1.30759   \n",
       "1682  1.30983  1.30157  1.31082  1.30075  1.30974  ...  1.30090  1.30992   \n",
       "1683  1.30948  1.30972  1.31094  1.30745  1.30940  ...  1.30760  1.30955   \n",
       "1684  1.30931  1.30942  1.30953  1.30791  1.30901  ...  1.30806  1.30961   \n",
       "1685  1.30968  1.30895  1.31045  1.30817  1.30959  ...  1.30852  1.30978   \n",
       "1686  1.30969  1.30961  1.31028  1.30923  1.30960  ...  1.30943  1.30978   \n",
       "1790  1.29696  1.29936  1.29936  1.29518  1.29688  ...  1.29534  1.29703   \n",
       "1970  1.23694  1.23265  1.23833  1.22811  1.23683  ...  1.22841  1.23705   \n",
       "\n",
       "            RSI        EMA  EMASignal  signal        SL       TP  MinSwing  \\\n",
       "198   62.919175  50.704408          1       1  1.294655  1.27723       190   \n",
       "199   62.442576  50.667505          1       1  1.294655  1.27723       190   \n",
       "200   63.488501  50.792490          1       1  1.294655  1.27723       190   \n",
       "347   54.110928  52.397738          1       1  1.325806  1.30030       340   \n",
       "349   51.765073  52.134722          1       1  1.324238  1.30030       340   \n",
       "353   51.685752  52.156329          1       1  1.324238  1.30030       340   \n",
       "354   52.210721  52.206800          1       1  1.324238  1.30030       340   \n",
       "355   49.514552  51.953345          1       1  1.324238  1.30030       340   \n",
       "356   49.993649  51.993248          1       1  1.324238  1.30030       340   \n",
       "367   49.060488  51.918529          1       1  1.324238  1.30030       340   \n",
       "395   57.822889  51.174143          1       1  1.320385  1.29757       376   \n",
       "424   60.380291  50.539930          1       1  1.314924  1.29863       406   \n",
       "435   61.561675  50.681248          1       1  1.314519  1.29863       406   \n",
       "439   53.560964  50.234267          1       1  1.312452  1.29863       406   \n",
       "655   60.462258  45.091818          1       1  1.270529  1.25581       646   \n",
       "658   63.034597  45.568654          1       1  1.270529  1.25581       646   \n",
       "824   53.525465  45.684721          1       1  1.255715  1.24389       809   \n",
       "825   56.811671  45.995702          1       1  1.255715  1.24389       809   \n",
       "826   56.108814  45.952690          1       1  1.255699  1.24389       809   \n",
       "827   55.245470  45.902653          1       1  1.255699  1.24389       809   \n",
       "973   65.751712  43.679308          1       1  1.215128  1.20140       952   \n",
       "1057  61.956260  47.522716          1       1  1.223166  1.19578      1050   \n",
       "1301  65.450516  56.093372          1       1  1.295303  1.27879      1275   \n",
       "1302  68.327225  56.289172          1       1  1.295303  1.27879      1275   \n",
       "1357  54.097679  53.975329          1       1  1.288668  1.27682      1342   \n",
       "1363  52.704774  53.807135          1       1  1.287061  1.27682      1342   \n",
       "1364  49.038432  53.610117          1       1  1.286827  1.27682      1342   \n",
       "1420  60.495295  53.797414          1       1  1.293671  1.28208      1401   \n",
       "1543  63.864910  52.466434          1       1  1.311388  1.29039      1526   \n",
       "1626  61.293968  51.509176          1       1  1.309787  1.29538      1609   \n",
       "1682  65.112514  51.690037          1       1  1.312530  1.29746      1671   \n",
       "1683  63.988378  51.619392          1       1  1.312530  1.29746      1671   \n",
       "1684  62.635223  51.538055          1       1  1.312530  1.29746      1671   \n",
       "1685  63.874621  51.652113          1       1  1.312530  1.29746      1671   \n",
       "1686  63.897145  51.654087          1       1  1.312530  1.29746      1671   \n",
       "1790  56.082294  49.456792          1       1  1.300809  1.28478      1772   \n",
       "1970  58.413329  48.403901          1       1  1.242241  1.22037      1959   \n",
       "\n",
       "      MaxSwing  \n",
       "198        160  \n",
       "199        160  \n",
       "200        160  \n",
       "347        308  \n",
       "349        327  \n",
       "353        327  \n",
       "354        327  \n",
       "355        327  \n",
       "356        327  \n",
       "367        327  \n",
       "395        365  \n",
       "424        392  \n",
       "435        398  \n",
       "439        399  \n",
       "655        621  \n",
       "658        621  \n",
       "824        785  \n",
       "825        785  \n",
       "826        789  \n",
       "827        789  \n",
       "973        934  \n",
       "1057      1022  \n",
       "1301      1264  \n",
       "1302      1264  \n",
       "1357      1317  \n",
       "1363      1323  \n",
       "1364      1328  \n",
       "1420      1394  \n",
       "1543      1503  \n",
       "1626      1587  \n",
       "1682      1657  \n",
       "1683      1657  \n",
       "1684      1657  \n",
       "1685      1657  \n",
       "1686      1657  \n",
       "1790      1751  \n",
       "1970      1930  \n",
       "\n",
       "[37 rows x 22 columns]"
      ]
     },
     "execution_count": 92,
     "metadata": {},
     "output_type": "execute_result"
    }
   ],
   "source": [
    "#df.head(50)\n",
    "# df[df.signal !=0].shape\n",
    "df[df.signal !=0].head(100)\n"
   ]
  },
  {
   "cell_type": "code",
   "execution_count": 93,
   "metadata": {},
   "outputs": [],
   "source": [
    "import numpy as np\n",
    "def pointpos(x):\n",
    "    if x['signal']==1:\n",
    "        return x['bid_h']+1e-4\n",
    "    elif x['signal']==2:\n",
    "        return x['bid_l']-1e-4\n",
    "    else:\n",
    "        return np.nan\n",
    "\n",
    "df['pointpos'] = df.apply(lambda row: pointpos(row), axis=1)"
   ]
  },
  {
   "cell_type": "code",
   "execution_count": 94,
   "metadata": {},
   "outputs": [
    {
     "data": {
      "application/vnd.plotly.v1+json": {
       "config": {
        "plotlyServerURL": "https://plot.ly"
       },
       "data": [
        {
         "close": [],
         "high": [],
         "low": [],
         "open": [],
         "type": "candlestick",
         "x": []
        },
        {
         "marker": {
          "color": "#00bfbf",
          "size": 12
         },
         "mode": "markers",
         "name": "Signal",
         "type": "scatter",
         "x": [],
         "y": []
        }
       ],
       "layout": {
        "autosize": false,
        "height": 800,
        "paper_bgcolor": "black",
        "plot_bgcolor": "black",
        "template": {
         "data": {
          "bar": [
           {
            "error_x": {
             "color": "#2a3f5f"
            },
            "error_y": {
             "color": "#2a3f5f"
            },
            "marker": {
             "line": {
              "color": "#E5ECF6",
              "width": 0.5
             },
             "pattern": {
              "fillmode": "overlay",
              "size": 10,
              "solidity": 0.2
             }
            },
            "type": "bar"
           }
          ],
          "barpolar": [
           {
            "marker": {
             "line": {
              "color": "#E5ECF6",
              "width": 0.5
             },
             "pattern": {
              "fillmode": "overlay",
              "size": 10,
              "solidity": 0.2
             }
            },
            "type": "barpolar"
           }
          ],
          "carpet": [
           {
            "aaxis": {
             "endlinecolor": "#2a3f5f",
             "gridcolor": "white",
             "linecolor": "white",
             "minorgridcolor": "white",
             "startlinecolor": "#2a3f5f"
            },
            "baxis": {
             "endlinecolor": "#2a3f5f",
             "gridcolor": "white",
             "linecolor": "white",
             "minorgridcolor": "white",
             "startlinecolor": "#2a3f5f"
            },
            "type": "carpet"
           }
          ],
          "choropleth": [
           {
            "colorbar": {
             "outlinewidth": 0,
             "ticks": ""
            },
            "type": "choropleth"
           }
          ],
          "contour": [
           {
            "colorbar": {
             "outlinewidth": 0,
             "ticks": ""
            },
            "colorscale": [
             [
              0,
              "#0d0887"
             ],
             [
              0.1111111111111111,
              "#46039f"
             ],
             [
              0.2222222222222222,
              "#7201a8"
             ],
             [
              0.3333333333333333,
              "#9c179e"
             ],
             [
              0.4444444444444444,
              "#bd3786"
             ],
             [
              0.5555555555555556,
              "#d8576b"
             ],
             [
              0.6666666666666666,
              "#ed7953"
             ],
             [
              0.7777777777777778,
              "#fb9f3a"
             ],
             [
              0.8888888888888888,
              "#fdca26"
             ],
             [
              1,
              "#f0f921"
             ]
            ],
            "type": "contour"
           }
          ],
          "contourcarpet": [
           {
            "colorbar": {
             "outlinewidth": 0,
             "ticks": ""
            },
            "type": "contourcarpet"
           }
          ],
          "heatmap": [
           {
            "colorbar": {
             "outlinewidth": 0,
             "ticks": ""
            },
            "colorscale": [
             [
              0,
              "#0d0887"
             ],
             [
              0.1111111111111111,
              "#46039f"
             ],
             [
              0.2222222222222222,
              "#7201a8"
             ],
             [
              0.3333333333333333,
              "#9c179e"
             ],
             [
              0.4444444444444444,
              "#bd3786"
             ],
             [
              0.5555555555555556,
              "#d8576b"
             ],
             [
              0.6666666666666666,
              "#ed7953"
             ],
             [
              0.7777777777777778,
              "#fb9f3a"
             ],
             [
              0.8888888888888888,
              "#fdca26"
             ],
             [
              1,
              "#f0f921"
             ]
            ],
            "type": "heatmap"
           }
          ],
          "heatmapgl": [
           {
            "colorbar": {
             "outlinewidth": 0,
             "ticks": ""
            },
            "colorscale": [
             [
              0,
              "#0d0887"
             ],
             [
              0.1111111111111111,
              "#46039f"
             ],
             [
              0.2222222222222222,
              "#7201a8"
             ],
             [
              0.3333333333333333,
              "#9c179e"
             ],
             [
              0.4444444444444444,
              "#bd3786"
             ],
             [
              0.5555555555555556,
              "#d8576b"
             ],
             [
              0.6666666666666666,
              "#ed7953"
             ],
             [
              0.7777777777777778,
              "#fb9f3a"
             ],
             [
              0.8888888888888888,
              "#fdca26"
             ],
             [
              1,
              "#f0f921"
             ]
            ],
            "type": "heatmapgl"
           }
          ],
          "histogram": [
           {
            "marker": {
             "pattern": {
              "fillmode": "overlay",
              "size": 10,
              "solidity": 0.2
             }
            },
            "type": "histogram"
           }
          ],
          "histogram2d": [
           {
            "colorbar": {
             "outlinewidth": 0,
             "ticks": ""
            },
            "colorscale": [
             [
              0,
              "#0d0887"
             ],
             [
              0.1111111111111111,
              "#46039f"
             ],
             [
              0.2222222222222222,
              "#7201a8"
             ],
             [
              0.3333333333333333,
              "#9c179e"
             ],
             [
              0.4444444444444444,
              "#bd3786"
             ],
             [
              0.5555555555555556,
              "#d8576b"
             ],
             [
              0.6666666666666666,
              "#ed7953"
             ],
             [
              0.7777777777777778,
              "#fb9f3a"
             ],
             [
              0.8888888888888888,
              "#fdca26"
             ],
             [
              1,
              "#f0f921"
             ]
            ],
            "type": "histogram2d"
           }
          ],
          "histogram2dcontour": [
           {
            "colorbar": {
             "outlinewidth": 0,
             "ticks": ""
            },
            "colorscale": [
             [
              0,
              "#0d0887"
             ],
             [
              0.1111111111111111,
              "#46039f"
             ],
             [
              0.2222222222222222,
              "#7201a8"
             ],
             [
              0.3333333333333333,
              "#9c179e"
             ],
             [
              0.4444444444444444,
              "#bd3786"
             ],
             [
              0.5555555555555556,
              "#d8576b"
             ],
             [
              0.6666666666666666,
              "#ed7953"
             ],
             [
              0.7777777777777778,
              "#fb9f3a"
             ],
             [
              0.8888888888888888,
              "#fdca26"
             ],
             [
              1,
              "#f0f921"
             ]
            ],
            "type": "histogram2dcontour"
           }
          ],
          "mesh3d": [
           {
            "colorbar": {
             "outlinewidth": 0,
             "ticks": ""
            },
            "type": "mesh3d"
           }
          ],
          "parcoords": [
           {
            "line": {
             "colorbar": {
              "outlinewidth": 0,
              "ticks": ""
             }
            },
            "type": "parcoords"
           }
          ],
          "pie": [
           {
            "automargin": true,
            "type": "pie"
           }
          ],
          "scatter": [
           {
            "fillpattern": {
             "fillmode": "overlay",
             "size": 10,
             "solidity": 0.2
            },
            "type": "scatter"
           }
          ],
          "scatter3d": [
           {
            "line": {
             "colorbar": {
              "outlinewidth": 0,
              "ticks": ""
             }
            },
            "marker": {
             "colorbar": {
              "outlinewidth": 0,
              "ticks": ""
             }
            },
            "type": "scatter3d"
           }
          ],
          "scattercarpet": [
           {
            "marker": {
             "colorbar": {
              "outlinewidth": 0,
              "ticks": ""
             }
            },
            "type": "scattercarpet"
           }
          ],
          "scattergeo": [
           {
            "marker": {
             "colorbar": {
              "outlinewidth": 0,
              "ticks": ""
             }
            },
            "type": "scattergeo"
           }
          ],
          "scattergl": [
           {
            "marker": {
             "colorbar": {
              "outlinewidth": 0,
              "ticks": ""
             }
            },
            "type": "scattergl"
           }
          ],
          "scattermapbox": [
           {
            "marker": {
             "colorbar": {
              "outlinewidth": 0,
              "ticks": ""
             }
            },
            "type": "scattermapbox"
           }
          ],
          "scatterpolar": [
           {
            "marker": {
             "colorbar": {
              "outlinewidth": 0,
              "ticks": ""
             }
            },
            "type": "scatterpolar"
           }
          ],
          "scatterpolargl": [
           {
            "marker": {
             "colorbar": {
              "outlinewidth": 0,
              "ticks": ""
             }
            },
            "type": "scatterpolargl"
           }
          ],
          "scatterternary": [
           {
            "marker": {
             "colorbar": {
              "outlinewidth": 0,
              "ticks": ""
             }
            },
            "type": "scatterternary"
           }
          ],
          "surface": [
           {
            "colorbar": {
             "outlinewidth": 0,
             "ticks": ""
            },
            "colorscale": [
             [
              0,
              "#0d0887"
             ],
             [
              0.1111111111111111,
              "#46039f"
             ],
             [
              0.2222222222222222,
              "#7201a8"
             ],
             [
              0.3333333333333333,
              "#9c179e"
             ],
             [
              0.4444444444444444,
              "#bd3786"
             ],
             [
              0.5555555555555556,
              "#d8576b"
             ],
             [
              0.6666666666666666,
              "#ed7953"
             ],
             [
              0.7777777777777778,
              "#fb9f3a"
             ],
             [
              0.8888888888888888,
              "#fdca26"
             ],
             [
              1,
              "#f0f921"
             ]
            ],
            "type": "surface"
           }
          ],
          "table": [
           {
            "cells": {
             "fill": {
              "color": "#EBF0F8"
             },
             "line": {
              "color": "white"
             }
            },
            "header": {
             "fill": {
              "color": "#C8D4E3"
             },
             "line": {
              "color": "white"
             }
            },
            "type": "table"
           }
          ]
         },
         "layout": {
          "annotationdefaults": {
           "arrowcolor": "#2a3f5f",
           "arrowhead": 0,
           "arrowwidth": 1
          },
          "autotypenumbers": "strict",
          "coloraxis": {
           "colorbar": {
            "outlinewidth": 0,
            "ticks": ""
           }
          },
          "colorscale": {
           "diverging": [
            [
             0,
             "#8e0152"
            ],
            [
             0.1,
             "#c51b7d"
            ],
            [
             0.2,
             "#de77ae"
            ],
            [
             0.3,
             "#f1b6da"
            ],
            [
             0.4,
             "#fde0ef"
            ],
            [
             0.5,
             "#f7f7f7"
            ],
            [
             0.6,
             "#e6f5d0"
            ],
            [
             0.7,
             "#b8e186"
            ],
            [
             0.8,
             "#7fbc41"
            ],
            [
             0.9,
             "#4d9221"
            ],
            [
             1,
             "#276419"
            ]
           ],
           "sequential": [
            [
             0,
             "#0d0887"
            ],
            [
             0.1111111111111111,
             "#46039f"
            ],
            [
             0.2222222222222222,
             "#7201a8"
            ],
            [
             0.3333333333333333,
             "#9c179e"
            ],
            [
             0.4444444444444444,
             "#bd3786"
            ],
            [
             0.5555555555555556,
             "#d8576b"
            ],
            [
             0.6666666666666666,
             "#ed7953"
            ],
            [
             0.7777777777777778,
             "#fb9f3a"
            ],
            [
             0.8888888888888888,
             "#fdca26"
            ],
            [
             1,
             "#f0f921"
            ]
           ],
           "sequentialminus": [
            [
             0,
             "#0d0887"
            ],
            [
             0.1111111111111111,
             "#46039f"
            ],
            [
             0.2222222222222222,
             "#7201a8"
            ],
            [
             0.3333333333333333,
             "#9c179e"
            ],
            [
             0.4444444444444444,
             "#bd3786"
            ],
            [
             0.5555555555555556,
             "#d8576b"
            ],
            [
             0.6666666666666666,
             "#ed7953"
            ],
            [
             0.7777777777777778,
             "#fb9f3a"
            ],
            [
             0.8888888888888888,
             "#fdca26"
            ],
            [
             1,
             "#f0f921"
            ]
           ]
          },
          "colorway": [
           "#636efa",
           "#EF553B",
           "#00cc96",
           "#ab63fa",
           "#FFA15A",
           "#19d3f3",
           "#FF6692",
           "#B6E880",
           "#FF97FF",
           "#FECB52"
          ],
          "font": {
           "color": "#2a3f5f"
          },
          "geo": {
           "bgcolor": "white",
           "lakecolor": "white",
           "landcolor": "#E5ECF6",
           "showlakes": true,
           "showland": true,
           "subunitcolor": "white"
          },
          "hoverlabel": {
           "align": "left"
          },
          "hovermode": "closest",
          "mapbox": {
           "style": "light"
          },
          "paper_bgcolor": "white",
          "plot_bgcolor": "#E5ECF6",
          "polar": {
           "angularaxis": {
            "gridcolor": "white",
            "linecolor": "white",
            "ticks": ""
           },
           "bgcolor": "#E5ECF6",
           "radialaxis": {
            "gridcolor": "white",
            "linecolor": "white",
            "ticks": ""
           }
          },
          "scene": {
           "xaxis": {
            "backgroundcolor": "#E5ECF6",
            "gridcolor": "white",
            "gridwidth": 2,
            "linecolor": "white",
            "showbackground": true,
            "ticks": "",
            "zerolinecolor": "white"
           },
           "yaxis": {
            "backgroundcolor": "#E5ECF6",
            "gridcolor": "white",
            "gridwidth": 2,
            "linecolor": "white",
            "showbackground": true,
            "ticks": "",
            "zerolinecolor": "white"
           },
           "zaxis": {
            "backgroundcolor": "#E5ECF6",
            "gridcolor": "white",
            "gridwidth": 2,
            "linecolor": "white",
            "showbackground": true,
            "ticks": "",
            "zerolinecolor": "white"
           }
          },
          "shapedefaults": {
           "line": {
            "color": "#2a3f5f"
           }
          },
          "ternary": {
           "aaxis": {
            "gridcolor": "white",
            "linecolor": "white",
            "ticks": ""
           },
           "baxis": {
            "gridcolor": "white",
            "linecolor": "white",
            "ticks": ""
           },
           "bgcolor": "#E5ECF6",
           "caxis": {
            "gridcolor": "white",
            "linecolor": "white",
            "ticks": ""
           }
          },
          "title": {
           "x": 0.05
          },
          "xaxis": {
           "automargin": true,
           "gridcolor": "white",
           "linecolor": "white",
           "ticks": "",
           "title": {
            "standoff": 15
           },
           "zerolinecolor": "white",
           "zerolinewidth": 2
          },
          "yaxis": {
           "automargin": true,
           "gridcolor": "white",
           "linecolor": "white",
           "ticks": "",
           "title": {
            "standoff": 15
           },
           "zerolinecolor": "white",
           "zerolinewidth": 2
          }
         }
        },
        "width": 1000,
        "xaxis": {
         "gridcolor": "black"
        },
        "yaxis": {
         "gridcolor": "black"
        }
       }
      }
     },
     "metadata": {},
     "output_type": "display_data"
    }
   ],
   "source": [
    "dfpl = df[40700:41000]\n",
    "import plotly.graph_objects as go\n",
    "\n",
    "fig = go.Figure(data=[go.Candlestick(x=dfpl.index,\n",
    "                open=dfpl['bid_o'],\n",
    "                high=dfpl['bid_h'],\n",
    "                low=dfpl['bid_l'],\n",
    "                close=dfpl['bid_c'])])\n",
    "\n",
    "fig.update_layout(\n",
    "    autosize=False,\n",
    "    width=1000,\n",
    "    height=800, \n",
    "    paper_bgcolor='black',\n",
    "    plot_bgcolor='black')\n",
    "fig.update_xaxes(gridcolor='black')\n",
    "fig.update_yaxes(gridcolor='black')\n",
    "fig.add_scatter(x=dfpl.index, y=dfpl['pointpos'], mode=\"markers\",\n",
    "                marker=dict(size=12, color=\"#00bfbf\"),\n",
    "                name=\"Signal\")\n",
    "fig.show()"
   ]
  },
  {
   "cell_type": "code",
   "execution_count": 95,
   "metadata": {},
   "outputs": [],
   "source": [
    "'''RISK PARAMETERS'''\n",
    "account_balance = 10000  \n",
    "risk_per_trade = 0.01  # 1% risk per trade\n",
    "\n",
    "'''Tracking trades'''\n",
    "open_trades = []\n",
    "closed_trades = []\n",
    "profit = 0\n",
    "position = None\n",
    "Trade_Size = 1  # Default trade size if not dynamically calculated\n"
   ]
  },
  {
   "cell_type": "code",
   "execution_count": 96,
   "metadata": {},
   "outputs": [
    {
     "name": "stderr",
     "output_type": "stream",
     "text": [
      "C:\\Users\\FeisalK\\AppData\\Local\\Temp\\ipykernel_29608\\1255771673.py:3: FutureWarning:\n",
      "\n",
      "Series.fillna with 'method' is deprecated and will raise in a future version. Use obj.ffill() or obj.bfill() instead.\n",
      "\n",
      "C:\\Users\\FeisalK\\AppData\\Local\\Temp\\ipykernel_29608\\1255771673.py:6: FutureWarning:\n",
      "\n",
      "Series.fillna with 'method' is deprecated and will raise in a future version. Use obj.ffill() or obj.bfill() instead.\n",
      "\n"
     ]
    }
   ],
   "source": [
    "#Short Position: Sell at bid price, buy at ask price\n",
    "df['bid_c'] = pd.to_numeric(df['bid_c'], errors='coerce')\n",
    "df['bid_c'] = df['bid_c'].fillna(method='ffill') #Sell\n",
    "\n",
    "df['ask_c'] = pd.to_numeric(df['ask_c'], errors='coerce')\n",
    "df['ask_c'] = df['ask_c'].fillna(method='ffill') #Buy\n",
    "#Long Position: Buy at ask price, sell at bid price\n"
   ]
  },
  {
   "cell_type": "code",
   "execution_count": 97,
   "metadata": {},
   "outputs": [
    {
     "name": "stdout",
     "output_type": "stream",
     "text": [
      "Total Profit: -1380.1052276711637\n",
      "Closed Trades: [{'type': 'short', 'entry_price': 1.29543, 'stop_loss_price': 0, 'take_profit_price': 0, 'position_size': 77.19444508773148, 'entry_time': 150, 'entry_bid': 1.29543, 'entry_ask': 1.29564, 'exit_price': 1.29564, 'exit_time': 150, 'profit': -0.016210833468409826}, {'type': 'short', 'entry_price': 1.29533, 'stop_loss_price': 0, 'take_profit_price': 0, 'position_size': 77.20040453011973, 'entry_time': 151, 'entry_bid': 1.29533, 'entry_ask': 1.29556, 'exit_price': 1.29556, 'exit_time': 151, 'profit': -0.017756093041923868}, {'type': 'short', 'entry_price': 1.2964, 'stop_loss_price': 0, 'take_profit_price': 0, 'position_size': 77.13668620796051, 'entry_time': 152, 'entry_bid': 1.2964, 'entry_ask': 1.29657, 'exit_price': 1.29657, 'exit_time': 152, 'profit': -0.013113236655353555}, {'type': 'short', 'entry_price': 1.29613, 'stop_loss_price': 0, 'take_profit_price': 0, 'position_size': 77.15275473910796, 'entry_time': 153, 'entry_bid': 1.29613, 'entry_ask': 1.29631, 'exit_price': 1.29631, 'exit_time': 153, 'profit': -0.013887495853044756}, {'type': 'short', 'entry_price': 1.29511, 'stop_loss_price': 0, 'take_profit_price': 0, 'position_size': 77.21351854282648, 'entry_time': 154, 'entry_bid': 1.29511, 'entry_ask': 1.29529, 'exit_price': 1.29529, 'exit_time': 154, 'profit': -0.013898433337714093}, {'type': 'short', 'entry_price': 1.29277, 'stop_loss_price': 0, 'take_profit_price': 0, 'position_size': 77.35328016584543, 'entry_time': 155, 'entry_bid': 1.29277, 'entry_ask': 1.29337, 'exit_price': 1.29337, 'exit_time': 155, 'profit': -0.04641196809950215}, {'type': 'short', 'entry_price': 1.29292, 'stop_loss_price': 0, 'take_profit_price': 0, 'position_size': 77.34430591219873, 'entry_time': 156, 'entry_bid': 1.29292, 'entry_ask': 1.29313, 'exit_price': 1.29313, 'exit_time': 156, 'profit': -0.016242304241547923}, {'type': 'short', 'entry_price': 1.29315, 'stop_loss_price': 0, 'take_profit_price': 0, 'position_size': 77.33054943355373, 'entry_time': 157, 'entry_bid': 1.29315, 'entry_ask': 1.29337, 'exit_price': 1.29337, 'exit_time': 157, 'profit': -0.017012720875373078}, {'type': 'short', 'entry_price': 1.29066, 'stop_loss_price': 0, 'take_profit_price': 0, 'position_size': 77.47973904823888, 'entry_time': 158, 'entry_bid': 1.29066, 'entry_ask': 1.29085, 'exit_price': 1.29085, 'exit_time': 158, 'profit': -0.01472115041917581}, {'type': 'short', 'entry_price': 1.29687, 'stop_loss_price': 0, 'take_profit_price': 0, 'position_size': 77.10873102161358, 'entry_time': 159, 'entry_bid': 1.29687, 'entry_ask': 1.29707, 'exit_price': 1.29707, 'exit_time': 159, 'profit': -0.015421746204321017}, {'type': 'short', 'entry_price': 1.29629, 'stop_loss_price': 0, 'take_profit_price': 0, 'position_size': 77.14323183855464, 'entry_time': 160, 'entry_bid': 1.29629, 'entry_ask': 1.29646, 'exit_price': 1.29646, 'exit_time': 160, 'profit': -0.013114349412554557}, {'type': 'short', 'entry_price': 1.29487, 'stop_loss_price': 0, 'take_profit_price': 0, 'position_size': 77.22782982075421, 'entry_time': 161, 'entry_bid': 1.29487, 'entry_ask': 1.29547, 'exit_price': 1.29547, 'exit_time': 161, 'profit': -0.046336697892447425}, {'type': 'short', 'entry_price': 1.29456, 'stop_loss_price': 0, 'take_profit_price': 0, 'position_size': 77.24632307502164, 'entry_time': 162, 'entry_bid': 1.29456, 'entry_ask': 1.29476, 'exit_price': 1.29476, 'exit_time': 162, 'profit': -0.015449264615002626}, {'type': 'short', 'entry_price': 1.29493, 'stop_loss_price': 0, 'take_profit_price': 0, 'position_size': 77.2242515039423, 'entry_time': 163, 'entry_bid': 1.29493, 'entry_ask': 1.29513, 'exit_price': 1.29513, 'exit_time': 163, 'profit': -0.015444850300786758}, {'type': 'short', 'entry_price': 1.29311, 'stop_loss_price': 0, 'take_profit_price': 0, 'position_size': 77.33294151309633, 'entry_time': 164, 'entry_bid': 1.29311, 'entry_ask': 1.29329, 'exit_price': 1.29329, 'exit_time': 164, 'profit': -0.013919929472362674}, {'type': 'short', 'entry_price': 1.29645, 'stop_loss_price': 0, 'take_profit_price': 0, 'position_size': 77.13371128851864, 'entry_time': 165, 'entry_bid': 1.29645, 'entry_ask': 1.29664, 'exit_price': 1.29664, 'exit_time': 165, 'profit': -0.014655405144811789}, {'type': 'short', 'entry_price': 1.29294, 'stop_loss_price': 0, 'take_profit_price': 0, 'position_size': 77.34310950237443, 'entry_time': 166, 'entry_bid': 1.29294, 'entry_ask': 1.29312, 'exit_price': 1.29312, 'exit_time': 166, 'profit': -0.013921759710432734}, {'type': 'short', 'entry_price': 1.29369, 'stop_loss_price': 0, 'take_profit_price': 0, 'position_size': 77.29827083768136, 'entry_time': 167, 'entry_bid': 1.29369, 'entry_ask': 1.29478, 'exit_price': 1.29478, 'exit_time': 167, 'profit': -0.08425511521307541}, {'type': 'short', 'entry_price': 1.29344, 'stop_loss_price': 0, 'take_profit_price': 0, 'position_size': 77.3132112815438, 'entry_time': 168, 'entry_bid': 1.29344, 'entry_ask': 1.29363, 'exit_price': 1.29363, 'exit_time': 168, 'profit': -0.01468951014350372}, {'type': 'short', 'entry_price': 1.29315, 'stop_loss_price': 0, 'take_profit_price': 0, 'position_size': 77.33054943355373, 'entry_time': 169, 'entry_bid': 1.29315, 'entry_ask': 1.29338, 'exit_price': 1.29338, 'exit_time': 169, 'profit': -0.01778602636971368}, {'type': 'short', 'entry_price': 1.28989, 'stop_loss_price': 0, 'take_profit_price': 0, 'position_size': 77.52599058834474, 'entry_time': 170, 'entry_bid': 1.28989, 'entry_ask': 1.29011, 'exit_price': 1.29011, 'exit_time': 170, 'profit': -0.017055717929444294}, {'type': 'short', 'entry_price': 1.289, 'stop_loss_price': 0, 'take_profit_price': 0, 'position_size': 77.57951900698217, 'entry_time': 171, 'entry_bid': 1.289, 'entry_ask': 1.2892, 'exit_price': 1.2892, 'exit_time': 171, 'profit': -0.015515903801394724}, {'type': 'short', 'entry_price': 1.285, 'stop_loss_price': 0, 'take_profit_price': 0, 'position_size': 77.82101167315176, 'entry_time': 172, 'entry_bid': 1.285, 'entry_ask': 1.28519, 'exit_price': 1.28519, 'exit_time': 172, 'profit': -0.014785992217909301}, {'type': 'short', 'entry_price': 1.28577, 'stop_loss_price': 0, 'take_profit_price': 0, 'position_size': 77.77440755345046, 'entry_time': 173, 'entry_bid': 1.28577, 'entry_ask': 1.28637, 'exit_price': 1.28637, 'exit_time': 173, 'profit': -0.04666464453206513}, {'type': 'short', 'entry_price': 1.28673, 'stop_loss_price': 0, 'take_profit_price': 0, 'position_size': 77.71638183612724, 'entry_time': 174, 'entry_bid': 1.28673, 'entry_ask': 1.287, 'exit_price': 1.287, 'exit_time': 174, 'profit': -0.02098342309575377}, {'type': 'short', 'entry_price': 1.28613, 'stop_loss_price': 0, 'take_profit_price': 0, 'position_size': 77.75263775823595, 'entry_time': 175, 'entry_bid': 1.28613, 'entry_ask': 1.28636, 'exit_price': 1.28636, 'exit_time': 175, 'profit': -0.01788310668439057}, {'type': 'short', 'entry_price': 1.28464, 'stop_loss_price': 0, 'take_profit_price': 0, 'position_size': 77.84281977830365, 'entry_time': 176, 'entry_bid': 1.28464, 'entry_ask': 1.28487, 'exit_price': 1.28487, 'exit_time': 176, 'profit': -0.01790384854900614}, {'type': 'short', 'entry_price': 1.28793, 'stop_loss_price': 0, 'take_profit_price': 0, 'position_size': 77.64397133384578, 'entry_time': 177, 'entry_bid': 1.28793, 'entry_ask': 1.28809, 'exit_price': 1.28809, 'exit_time': 177, 'profit': -0.01242303541341051}, {'type': 'short', 'entry_price': 1.28877, 'stop_loss_price': 0, 'take_profit_price': 0, 'position_size': 77.59336421549229, 'entry_time': 178, 'entry_bid': 1.28877, 'entry_ask': 1.28895, 'exit_price': 1.28895, 'exit_time': 178, 'profit': -0.013966805558793965}, {'type': 'short', 'entry_price': 1.28908, 'stop_loss_price': 0, 'take_profit_price': 0, 'position_size': 77.57470444037608, 'entry_time': 179, 'entry_bid': 1.28908, 'entry_ask': 1.28968, 'exit_price': 1.28968, 'exit_time': 179, 'profit': -0.046544822664220525}, {'type': 'short', 'entry_price': 1.28979, 'stop_loss_price': 0, 'take_profit_price': 0, 'position_size': 77.53200133355043, 'entry_time': 180, 'entry_bid': 1.28979, 'entry_ask': 1.29002, 'exit_price': 1.29002, 'exit_time': 180, 'profit': -0.017832360306712914}, {'type': 'short', 'entry_price': 1.29145, 'stop_loss_price': 0, 'take_profit_price': 0, 'position_size': 77.43234348987572, 'entry_time': 181, 'entry_bid': 1.29145, 'entry_ask': 1.29165, 'exit_price': 1.29165, 'exit_time': 181, 'profit': -0.01548646869797344}, {'type': 'short', 'entry_price': 1.28851, 'stop_loss_price': 0, 'take_profit_price': 0, 'position_size': 77.60902127263273, 'entry_time': 182, 'entry_bid': 1.28851, 'entry_ask': 1.2887, 'exit_price': 1.2887, 'exit_time': 182, 'profit': -0.014745714041793425}, {'type': 'short', 'entry_price': 1.28946, 'stop_loss_price': 0, 'take_profit_price': 0, 'position_size': 77.55184340731779, 'entry_time': 183, 'entry_bid': 1.28946, 'entry_ask': 1.28962, 'exit_price': 1.28962, 'exit_time': 183, 'profit': -0.012408294945166036}, {'type': 'short', 'entry_price': 1.28544, 'stop_loss_price': 0, 'take_profit_price': 0, 'position_size': 77.79437391087878, 'entry_time': 184, 'entry_bid': 1.28544, 'entry_ask': 1.28561, 'exit_price': 1.28561, 'exit_time': 184, 'profit': -0.013225043564849662}, {'type': 'short', 'entry_price': 1.28429, 'stop_loss_price': 0, 'take_profit_price': 0, 'position_size': 77.8640338241363, 'entry_time': 185, 'entry_bid': 1.28429, 'entry_ask': 1.28489, 'exit_price': 1.28489, 'exit_time': 185, 'profit': -0.046718420294493926}, {'type': 'short', 'entry_price': 1.28519, 'stop_loss_price': 0, 'take_profit_price': 0, 'position_size': 77.80950676553661, 'entry_time': 186, 'entry_bid': 1.28519, 'entry_ask': 1.2854, 'exit_price': 1.2854, 'exit_time': 186, 'profit': -0.01633999642076607}, {'type': 'short', 'entry_price': 1.28674, 'stop_loss_price': 0, 'take_profit_price': 0, 'position_size': 77.71577785722057, 'entry_time': 187, 'entry_bid': 1.28674, 'entry_ask': 1.28697, 'exit_price': 1.28697, 'exit_time': 187, 'profit': -0.017874628907157037}, {'type': 'short', 'entry_price': 1.28322, 'stop_loss_price': 0, 'take_profit_price': 0, 'position_size': 77.92895996010037, 'entry_time': 188, 'entry_bid': 1.28322, 'entry_ask': 1.28353, 'exit_price': 1.28353, 'exit_time': 188, 'profit': -0.024157977587633647}, {'type': 'short', 'entry_price': 1.28269, 'stop_loss_price': 0, 'take_profit_price': 0, 'position_size': 77.96115975021243, 'entry_time': 189, 'entry_bid': 1.28269, 'entry_ask': 1.28289, 'exit_price': 1.28289, 'exit_time': 189, 'profit': -0.01559223195004077}, {'type': 'short', 'entry_price': 1.28039, 'stop_loss_price': 0, 'take_profit_price': 0, 'position_size': 78.10120353954655, 'entry_time': 190, 'entry_bid': 1.28039, 'entry_ask': 1.28056, 'exit_price': 1.28056, 'exit_time': 190, 'profit': -0.013277204601723184}, {'type': 'short', 'entry_price': 1.27978, 'stop_loss_price': 0, 'take_profit_price': 0, 'position_size': 78.13843004266359, 'entry_time': 191, 'entry_bid': 1.27978, 'entry_ask': 1.28038, 'exit_price': 1.28038, 'exit_time': 191, 'profit': -0.04688305802561034}, {'type': 'short', 'entry_price': 1.27924, 'stop_loss_price': 0, 'take_profit_price': 0, 'position_size': 78.17141427722711, 'entry_time': 192, 'entry_bid': 1.27924, 'entry_ask': 1.27943, 'exit_price': 1.27943, 'exit_time': 192, 'profit': -0.014852568712683666}, {'type': 'short', 'entry_price': 1.27987, 'stop_loss_price': 0, 'take_profit_price': 0, 'position_size': 78.13293537624915, 'entry_time': 193, 'entry_bid': 1.27987, 'entry_ask': 1.28008, 'exit_price': 1.28008, 'exit_time': 193, 'profit': -0.01640791642901572}, {'type': 'short', 'entry_price': 1.28111, 'stop_loss_price': 0, 'take_profit_price': 0, 'position_size': 78.05730967676469, 'entry_time': 194, 'entry_bid': 1.28111, 'entry_ask': 1.28131, 'exit_price': 1.28131, 'exit_time': 194, 'profit': -0.015611461935351218}, {'type': 'short', 'entry_price': 1.28079, 'stop_loss_price': 0, 'take_profit_price': 0, 'position_size': 78.07681196761374, 'entry_time': 195, 'entry_bid': 1.28079, 'entry_ask': 1.28098, 'exit_price': 1.28098, 'exit_time': 195, 'profit': -0.014834594273839775}, {'type': 'short', 'entry_price': 1.28683, 'stop_loss_price': 0, 'take_profit_price': 0, 'position_size': 77.71034246947927, 'entry_time': 196, 'entry_bid': 1.28683, 'entry_ask': 1.28701, 'exit_price': 1.28701, 'exit_time': 196, 'profit': -0.01398786164451163}, {'type': 'short', 'entry_price': 1.28853, 'stop_loss_price': 0, 'take_profit_price': 0, 'position_size': 77.60781665929393, 'entry_time': 197, 'entry_bid': 1.28853, 'entry_ask': 1.2893, 'exit_price': 1.2893, 'exit_time': 197, 'profit': -0.05975801882765147}, {'type': 'short', 'entry_price': 1.2909, 'stop_loss_price': 1.2946552, 'take_profit_price': 1.27723, 'position_size': 26629.740093736193, 'entry_time': 198, 'entry_bid': 1.2909, 'entry_ask': 1.29113, 'exit_price': 1.29524, 'exit_time': 207, 'profit': -115.57307200681535}, {'type': 'short', 'entry_price': 1.30599, 'stop_loss_price': 0, 'take_profit_price': 0, 'position_size': 76.57026470340509, 'entry_time': 208, 'entry_bid': 1.30599, 'entry_ask': 1.30615, 'exit_price': 1.30615, 'exit_time': 208, 'profit': -0.012251242352540064}, {'type': 'short', 'entry_price': 1.30604, 'stop_loss_price': 0, 'take_profit_price': 0, 'position_size': 76.56733331291537, 'entry_time': 209, 'entry_bid': 1.30604, 'entry_ask': 1.30664, 'exit_price': 1.30664, 'exit_time': 209, 'profit': -0.04594039998774416}, {'type': 'short', 'entry_price': 1.3074, 'stop_loss_price': 0, 'take_profit_price': 0, 'position_size': 76.4876854826373, 'entry_time': 210, 'entry_bid': 1.3074, 'entry_ask': 1.3076, 'exit_price': 1.3076, 'exit_time': 210, 'profit': -0.01529753709654276}, {'type': 'short', 'entry_price': 1.30533, 'stop_loss_price': 0, 'take_profit_price': 0, 'position_size': 76.60898010464786, 'entry_time': 211, 'entry_bid': 1.30533, 'entry_ask': 1.30555, 'exit_price': 1.30555, 'exit_time': 211, 'profit': -0.016853975623013866}, {'type': 'short', 'entry_price': 1.30386, 'stop_loss_price': 0, 'take_profit_price': 0, 'position_size': 76.69535072783887, 'entry_time': 212, 'entry_bid': 1.30386, 'entry_ask': 1.30404, 'exit_price': 1.30404, 'exit_time': 212, 'profit': -0.013805163131016289}, {'type': 'short', 'entry_price': 1.30355, 'stop_loss_price': 0, 'take_profit_price': 0, 'position_size': 76.71358981243527, 'entry_time': 213, 'entry_bid': 1.30355, 'entry_ask': 1.30372, 'exit_price': 1.30372, 'exit_time': 213, 'profit': -0.013041310268114264}, {'type': 'short', 'entry_price': 1.30864, 'stop_loss_price': 0, 'take_profit_price': 0, 'position_size': 76.41520968333538, 'entry_time': 214, 'entry_bid': 1.30864, 'entry_ask': 1.30883, 'exit_price': 1.30883, 'exit_time': 214, 'profit': -0.014518889839827033}, {'type': 'short', 'entry_price': 1.30471, 'stop_loss_price': 0, 'take_profit_price': 0, 'position_size': 76.64538479815438, 'entry_time': 215, 'entry_bid': 1.30471, 'entry_ask': 1.30531, 'exit_price': 1.30531, 'exit_time': 215, 'profit': -0.045987230878887564}, {'type': 'short', 'entry_price': 1.30305, 'stop_loss_price': 0, 'take_profit_price': 0, 'position_size': 76.74302597751429, 'entry_time': 216, 'entry_bid': 1.30305, 'entry_ask': 1.30328, 'exit_price': 1.30328, 'exit_time': 216, 'profit': -0.01765089597482464}, {'type': 'short', 'entry_price': 1.30297, 'stop_loss_price': 0, 'take_profit_price': 0, 'position_size': 76.74773786042657, 'entry_time': 217, 'entry_bid': 1.30297, 'entry_ask': 1.30318, 'exit_price': 1.30318, 'exit_time': 217, 'profit': -0.016117024950692917}, {'type': 'short', 'entry_price': 1.3066, 'stop_loss_price': 0, 'take_profit_price': 0, 'position_size': 76.53451706719731, 'entry_time': 218, 'entry_bid': 1.3066, 'entry_ask': 1.30678, 'exit_price': 1.30678, 'exit_time': 218, 'profit': -0.013776213072100797}, {'type': 'short', 'entry_price': 1.30865, 'stop_loss_price': 0, 'take_profit_price': 0, 'position_size': 76.41462575937034, 'entry_time': 219, 'entry_bid': 1.30865, 'entry_ask': 1.30882, 'exit_price': 1.30882, 'exit_time': 219, 'profit': -0.012990486379093223}, {'type': 'short', 'entry_price': 1.30365, 'stop_loss_price': 0, 'take_profit_price': 0, 'position_size': 76.70770528899628, 'entry_time': 220, 'entry_bid': 1.30365, 'entry_ask': 1.30386, 'exit_price': 1.30386, 'exit_time': 220, 'profit': -0.016108618110692554}, {'type': 'short', 'entry_price': 1.30365, 'stop_loss_price': 0, 'take_profit_price': 0, 'position_size': 76.70770528899628, 'entry_time': 221, 'entry_bid': 1.30365, 'entry_ask': 1.30425, 'exit_price': 1.30425, 'exit_time': 221, 'profit': -0.0460246231733927}, {'type': 'short', 'entry_price': 1.3036, 'stop_loss_price': 0, 'take_profit_price': 0, 'position_size': 76.71064743786437, 'entry_time': 222, 'entry_bid': 1.3036, 'entry_ask': 1.30381, 'exit_price': 1.30381, 'exit_time': 222, 'profit': -0.01610923596193782}, {'type': 'short', 'entry_price': 1.30329, 'stop_loss_price': 0, 'take_profit_price': 0, 'position_size': 76.72889379953808, 'entry_time': 223, 'entry_bid': 1.30329, 'entry_ask': 1.3035, 'exit_price': 1.3035, 'exit_time': 223, 'profit': -0.016113067697906335}, {'type': 'short', 'entry_price': 1.30178, 'stop_loss_price': 0, 'take_profit_price': 0, 'position_size': 76.81789549693497, 'entry_time': 224, 'entry_bid': 1.30178, 'entry_ask': 1.30206, 'exit_price': 1.30206, 'exit_time': 224, 'profit': -0.021509010739146243}, {'type': 'short', 'entry_price': 1.29935, 'stop_loss_price': 0, 'take_profit_price': 0, 'position_size': 76.96155770192789, 'entry_time': 225, 'entry_bid': 1.29935, 'entry_ask': 1.29953, 'exit_price': 1.29953, 'exit_time': 225, 'profit': -0.013853080386352329}, {'type': 'short', 'entry_price': 1.3067, 'stop_loss_price': 0, 'take_profit_price': 0, 'position_size': 76.52865998316369, 'entry_time': 226, 'entry_bid': 1.3067, 'entry_ask': 1.30687, 'exit_price': 1.30687, 'exit_time': 226, 'profit': -0.013009872197138094}, {'type': 'short', 'entry_price': 1.30507, 'stop_loss_price': 0, 'take_profit_price': 0, 'position_size': 76.6242423778035, 'entry_time': 227, 'entry_bid': 1.30507, 'entry_ask': 1.30616, 'exit_price': 1.30616, 'exit_time': 227, 'profit': -0.08352042419180852}, {'type': 'short', 'entry_price': 1.30668, 'stop_loss_price': 0, 'take_profit_price': 0, 'position_size': 76.52983132825175, 'entry_time': 228, 'entry_bid': 1.30668, 'entry_ask': 1.30689, 'exit_price': 1.30689, 'exit_time': 228, 'profit': -0.016071264578936196}, {'type': 'short', 'entry_price': 1.30697, 'stop_loss_price': 0, 'take_profit_price': 0, 'position_size': 76.51285033321346, 'entry_time': 229, 'entry_bid': 1.30697, 'entry_ask': 1.30718, 'exit_price': 1.30718, 'exit_time': 229, 'profit': -0.016067698569978153}, {'type': 'short', 'entry_price': 1.30807, 'stop_loss_price': 0, 'take_profit_price': 0, 'position_size': 76.44850810736428, 'entry_time': 230, 'entry_bid': 1.30807, 'entry_ask': 1.30829, 'exit_price': 1.30829, 'exit_time': 230, 'profit': -0.0168186717836115}, {'type': 'short', 'entry_price': 1.30661, 'stop_loss_price': 0, 'take_profit_price': 0, 'position_size': 76.53393131845003, 'entry_time': 231, 'entry_bid': 1.30661, 'entry_ask': 1.3068, 'exit_price': 1.3068, 'exit_time': 231, 'profit': -0.014541446950498806}, {'type': 'short', 'entry_price': 1.30822, 'stop_loss_price': 0, 'take_profit_price': 0, 'position_size': 76.43974255094709, 'entry_time': 232, 'entry_bid': 1.30822, 'entry_ask': 1.30841, 'exit_price': 1.30841, 'exit_time': 232, 'profit': -0.014523551084690228}, {'type': 'short', 'entry_price': 1.30933, 'stop_loss_price': 0, 'take_profit_price': 0, 'position_size': 76.37493985473486, 'entry_time': 233, 'entry_bid': 1.30933, 'entry_ask': 1.30993, 'exit_price': 1.30993, 'exit_time': 233, 'profit': -0.04582496391283587}, {'type': 'short', 'entry_price': 1.3128, 'stop_loss_price': 0, 'take_profit_price': 0, 'position_size': 76.17306520414381, 'entry_time': 234, 'entry_bid': 1.3128, 'entry_ask': 1.31303, 'exit_price': 1.31303, 'exit_time': 234, 'profit': -0.017519804996949457}, {'type': 'short', 'entry_price': 1.31284, 'stop_loss_price': 0, 'take_profit_price': 0, 'position_size': 76.17074434051369, 'entry_time': 235, 'entry_bid': 1.31284, 'entry_ask': 1.31303, 'exit_price': 1.31303, 'exit_time': 235, 'profit': -0.014472441424690934}, {'type': 'short', 'entry_price': 1.31812, 'stop_loss_price': 0, 'take_profit_price': 0, 'position_size': 75.86562680180865, 'entry_time': 236, 'entry_bid': 1.31812, 'entry_ask': 1.31829, 'exit_price': 1.31829, 'exit_time': 236, 'profit': -0.012897156556307734}, {'type': 'short', 'entry_price': 1.31797, 'stop_loss_price': 0, 'take_profit_price': 0, 'position_size': 75.87426117438181, 'entry_time': 237, 'entry_bid': 1.31797, 'entry_ask': 1.31817, 'exit_price': 1.31817, 'exit_time': 237, 'profit': -0.015174852234874692}, {'type': 'short', 'entry_price': 1.32505, 'stop_loss_price': 0, 'take_profit_price': 0, 'position_size': 75.46885023206671, 'entry_time': 238, 'entry_bid': 1.32505, 'entry_ask': 1.32526, 'exit_price': 1.32526, 'exit_time': 238, 'profit': -0.01584845854873729}, {'type': 'short', 'entry_price': 1.32491, 'stop_loss_price': 0, 'take_profit_price': 0, 'position_size': 75.4768248409326, 'entry_time': 239, 'entry_bid': 1.32491, 'entry_ask': 1.32551, 'exit_price': 1.32551, 'exit_time': 239, 'profit': -0.04528609490455457}, {'type': 'short', 'entry_price': 1.32476, 'stop_loss_price': 0, 'take_profit_price': 0, 'position_size': 75.48537093511278, 'entry_time': 240, 'entry_bid': 1.32476, 'entry_ask': 1.32503, 'exit_price': 1.32503, 'exit_time': 240, 'profit': -0.020381050152479884}, {'type': 'short', 'entry_price': 1.32461, 'stop_loss_price': 0, 'take_profit_price': 0, 'position_size': 75.49391896482737, 'entry_time': 241, 'entry_bid': 1.32461, 'entry_ask': 1.32483, 'exit_price': 1.32483, 'exit_time': 241, 'profit': -0.01660866217225349}, {'type': 'short', 'entry_price': 1.32809, 'stop_loss_price': 0, 'take_profit_price': 0, 'position_size': 75.29610192080357, 'entry_time': 242, 'entry_bid': 1.32809, 'entry_ask': 1.32828, 'exit_price': 1.32828, 'exit_time': 242, 'profit': -0.014306259364946085}, {'type': 'short', 'entry_price': 1.33143, 'stop_loss_price': 0, 'take_profit_price': 0, 'position_size': 75.1072155501979, 'entry_time': 243, 'entry_bid': 1.33143, 'entry_ask': 1.33162, 'exit_price': 1.33162, 'exit_time': 243, 'profit': -0.014270370954547704}, {'type': 'short', 'entry_price': 1.33007, 'stop_loss_price': 0, 'take_profit_price': 0, 'position_size': 75.184012871503, 'entry_time': 244, 'entry_bid': 1.33007, 'entry_ask': 1.33027, 'exit_price': 1.33027, 'exit_time': 244, 'profit': -0.015036802574298944}, {'type': 'short', 'entry_price': 1.33065, 'stop_loss_price': 0, 'take_profit_price': 0, 'position_size': 75.15124187427196, 'entry_time': 245, 'entry_bid': 1.33065, 'entry_ask': 1.33125, 'exit_price': 1.33125, 'exit_time': 245, 'profit': -0.04509074512455821}, {'type': 'short', 'entry_price': 1.33105, 'stop_loss_price': 0, 'take_profit_price': 0, 'position_size': 75.12865782652793, 'entry_time': 246, 'entry_bid': 1.33105, 'entry_ask': 1.33125, 'exit_price': 1.33125, 'exit_time': 246, 'profit': -0.015025731565303931}, {'type': 'short', 'entry_price': 1.33044, 'stop_loss_price': 0, 'take_profit_price': 0, 'position_size': 75.16310393554012, 'entry_time': 247, 'entry_bid': 1.33044, 'entry_ask': 1.33065, 'exit_price': 1.33065, 'exit_time': 247, 'profit': -0.015784251826466693}, {'type': 'short', 'entry_price': 1.33004, 'stop_loss_price': 0, 'take_profit_price': 0, 'position_size': 75.18570870049022, 'entry_time': 248, 'entry_bid': 1.33004, 'entry_ask': 1.33025, 'exit_price': 1.33025, 'exit_time': 248, 'profit': -0.015788998827106215}, {'type': 'short', 'entry_price': 1.32849, 'stop_loss_price': 0, 'take_profit_price': 0, 'position_size': 75.27343073715271, 'entry_time': 249, 'entry_bid': 1.32849, 'entry_ask': 1.32866, 'exit_price': 1.32866, 'exit_time': 249, 'profit': -0.012796483225316223}, {'type': 'short', 'entry_price': 1.32645, 'stop_loss_price': 0, 'take_profit_price': 0, 'position_size': 75.38919672810887, 'entry_time': 250, 'entry_bid': 1.32645, 'entry_ask': 1.32664, 'exit_price': 1.32664, 'exit_time': 250, 'profit': -0.014323947378350826}, {'type': 'short', 'entry_price': 1.32592, 'stop_loss_price': 0, 'take_profit_price': 0, 'position_size': 75.41933148304574, 'entry_time': 251, 'entry_bid': 1.32592, 'entry_ask': 1.32652, 'exit_price': 1.32652, 'exit_time': 251, 'profit': -0.045251598889822456}, {'type': 'short', 'entry_price': 1.32632, 'stop_loss_price': 0, 'take_profit_price': 0, 'position_size': 75.39658604258399, 'entry_time': 252, 'entry_bid': 1.32632, 'entry_ask': 1.32651, 'exit_price': 1.32651, 'exit_time': 252, 'profit': -0.0143253513481011}, {'type': 'short', 'entry_price': 1.32548, 'stop_loss_price': 0, 'take_profit_price': 0, 'position_size': 75.44436732353563, 'entry_time': 253, 'entry_bid': 1.32548, 'entry_ask': 1.32571, 'exit_price': 1.32571, 'exit_time': 253, 'profit': -0.01735220448440961}, {'type': 'short', 'entry_price': 1.32422, 'stop_loss_price': 0, 'take_profit_price': 0, 'position_size': 75.51615290510641, 'entry_time': 254, 'entry_bid': 1.32422, 'entry_ask': 1.32447, 'exit_price': 1.32447, 'exit_time': 254, 'profit': -0.018879038226282906}, {'type': 'short', 'entry_price': 1.32273, 'stop_loss_price': 0, 'take_profit_price': 0, 'position_size': 75.60121869164531, 'entry_time': 255, 'entry_bid': 1.32273, 'entry_ask': 1.32291, 'exit_price': 1.32291, 'exit_time': 255, 'profit': -0.013608219364501373}, {'type': 'short', 'entry_price': 1.32042, 'stop_loss_price': 0, 'take_profit_price': 0, 'position_size': 75.73347874161252, 'entry_time': 256, 'entry_bid': 1.32042, 'entry_ask': 1.32061, 'exit_price': 1.32061, 'exit_time': 256, 'profit': -0.014389360960916564}, {'type': 'short', 'entry_price': 1.31997, 'stop_loss_price': 0, 'take_profit_price': 0, 'position_size': 75.75929755979303, 'entry_time': 257, 'entry_bid': 1.31997, 'entry_ask': 1.32106, 'exit_price': 1.32106, 'exit_time': 257, 'profit': -0.08257763434016026}, {'type': 'short', 'entry_price': 1.32359, 'stop_loss_price': 0, 'take_profit_price': 0, 'position_size': 75.5520969484508, 'entry_time': 258, 'entry_bid': 1.32359, 'entry_ask': 1.32383, 'exit_price': 1.32383, 'exit_time': 258, 'profit': -0.018132503267629548}, {'type': 'short', 'entry_price': 1.32282, 'stop_loss_price': 0, 'take_profit_price': 0, 'position_size': 75.5960750517833, 'entry_time': 259, 'entry_bid': 1.32282, 'entry_ask': 1.32302, 'exit_price': 1.32302, 'exit_time': 259, 'profit': -0.015119215010354995}, {'type': 'short', 'entry_price': 1.3242, 'stop_loss_price': 0, 'take_profit_price': 0, 'position_size': 75.51729346020238, 'entry_time': 260, 'entry_bid': 1.3242, 'entry_ask': 1.32441, 'exit_price': 1.32441, 'exit_time': 260, 'profit': -0.015858631626645785}, {'type': 'short', 'entry_price': 1.32087, 'stop_loss_price': 0, 'take_profit_price': 0, 'position_size': 75.70767751557686, 'entry_time': 261, 'entry_bid': 1.32087, 'entry_ask': 1.32105, 'exit_price': 1.32105, 'exit_time': 261, 'profit': -0.013627381952809058}, {'type': 'short', 'entry_price': 1.31811, 'stop_loss_price': 0, 'take_profit_price': 0, 'position_size': 75.8662023655082, 'entry_time': 262, 'entry_bid': 1.31811, 'entry_ask': 1.31831, 'exit_price': 1.31831, 'exit_time': 262, 'profit': -0.015173240473116814}, {'type': 'short', 'entry_price': 1.31776, 'stop_loss_price': 0, 'take_profit_price': 0, 'position_size': 75.88635259834871, 'entry_time': 263, 'entry_bid': 1.31776, 'entry_ask': 1.31836, 'exit_price': 1.31836, 'exit_time': 263, 'profit': -0.04553181155900421}, {'type': 'short', 'entry_price': 1.31705, 'stop_loss_price': 0, 'take_profit_price': 0, 'position_size': 75.92726168330739, 'entry_time': 264, 'entry_bid': 1.31705, 'entry_ask': 1.31726, 'exit_price': 1.31726, 'exit_time': 264, 'profit': -0.015944724953497854}, {'type': 'short', 'entry_price': 1.31602, 'stop_loss_price': 0, 'take_profit_price': 0, 'position_size': 75.9866871324144, 'entry_time': 265, 'entry_bid': 1.31602, 'entry_ask': 1.31621, 'exit_price': 1.31621, 'exit_time': 265, 'profit': -0.014437470555168957}, {'type': 'short', 'entry_price': 1.31859, 'stop_loss_price': 0, 'take_profit_price': 0, 'position_size': 75.83858515535535, 'entry_time': 266, 'entry_bid': 1.31859, 'entry_ask': 1.31878, 'exit_price': 1.31878, 'exit_time': 266, 'profit': -0.014409331179527717}, {'type': 'short', 'entry_price': 1.31167, 'stop_loss_price': 0, 'take_profit_price': 0, 'position_size': 76.23868808465545, 'entry_time': 267, 'entry_bid': 1.31167, 'entry_ask': 1.31188, 'exit_price': 1.31188, 'exit_time': 267, 'profit': -0.01601012449778096}, {'type': 'short', 'entry_price': 1.31511, 'stop_loss_price': 0, 'take_profit_price': 0, 'position_size': 76.03926667731217, 'entry_time': 268, 'entry_bid': 1.31511, 'entry_ask': 1.31532, 'exit_price': 1.31532, 'exit_time': 268, 'profit': -0.015968246002238864}, {'type': 'short', 'entry_price': 1.31751, 'stop_loss_price': 0, 'take_profit_price': 0, 'position_size': 75.90075217645408, 'entry_time': 269, 'entry_bid': 1.31751, 'entry_ask': 1.31811, 'exit_price': 1.31811, 'exit_time': 269, 'profit': -0.04554045130586743}, {'type': 'short', 'entry_price': 1.31494, 'stop_loss_price': 0, 'take_profit_price': 0, 'position_size': 76.04909729721508, 'entry_time': 270, 'entry_bid': 1.31494, 'entry_ask': 1.31517, 'exit_price': 1.31517, 'exit_time': 270, 'profit': -0.017491292378355856}, {'type': 'short', 'entry_price': 1.31355, 'stop_loss_price': 0, 'take_profit_price': 0, 'position_size': 76.12957253245023, 'entry_time': 271, 'entry_bid': 1.31355, 'entry_ask': 1.31375, 'exit_price': 1.31375, 'exit_time': 271, 'profit': -0.015225914506488369}, {'type': 'short', 'entry_price': 1.31466, 'stop_loss_price': 0, 'take_profit_price': 0, 'position_size': 76.06529444875481, 'entry_time': 272, 'entry_bid': 1.31466, 'entry_ask': 1.31483, 'exit_price': 1.31483, 'exit_time': 272, 'profit': -0.012931100056288582}, {'type': 'short', 'entry_price': 1.31363, 'stop_loss_price': 0, 'take_profit_price': 0, 'position_size': 76.12493624536589, 'entry_time': 273, 'entry_bid': 1.31363, 'entry_ask': 1.31378, 'exit_price': 1.31378, 'exit_time': 273, 'profit': -0.011418740436795175}, {'type': 'short', 'entry_price': 1.31642, 'stop_loss_price': 0, 'take_profit_price': 0, 'position_size': 75.96359824372162, 'entry_time': 274, 'entry_bid': 1.31642, 'entry_ask': 1.31662, 'exit_price': 1.31662, 'exit_time': 274, 'profit': -0.01519271964874265}, {'type': 'short', 'entry_price': 1.31676, 'stop_loss_price': 0, 'take_profit_price': 0, 'position_size': 75.9439837176099, 'entry_time': 275, 'entry_bid': 1.31676, 'entry_ask': 1.31739, 'exit_price': 1.31739, 'exit_time': 275, 'profit': -0.04784470974210414}, {'type': 'short', 'entry_price': 1.31752, 'stop_loss_price': 0, 'take_profit_price': 0, 'position_size': 75.90017608840853, 'entry_time': 276, 'entry_bid': 1.31752, 'entry_ask': 1.31771, 'exit_price': 1.31771, 'exit_time': 276, 'profit': -0.014421033456790976}, {'type': 'short', 'entry_price': 1.31807, 'stop_loss_price': 0, 'take_profit_price': 0, 'position_size': 75.86850470764071, 'entry_time': 277, 'entry_bid': 1.31807, 'entry_ask': 1.3183, 'exit_price': 1.3183, 'exit_time': 277, 'profit': -0.017449756082753756}, {'type': 'short', 'entry_price': 1.31641, 'stop_loss_price': 0, 'take_profit_price': 0, 'position_size': 75.96417529493091, 'entry_time': 278, 'entry_bid': 1.31641, 'entry_ask': 1.31663, 'exit_price': 1.31663, 'exit_time': 278, 'profit': -0.016712118564876213}, {'type': 'short', 'entry_price': 1.3117, 'stop_loss_price': 0, 'take_profit_price': 0, 'position_size': 76.23694442326752, 'entry_time': 279, 'entry_bid': 1.3117, 'entry_ask': 1.31189, 'exit_price': 1.31189, 'exit_time': 279, 'profit': -0.014485019440414155}, {'type': 'short', 'entry_price': 1.31279, 'stop_loss_price': 0, 'take_profit_price': 0, 'position_size': 76.17364544214993, 'entry_time': 280, 'entry_bid': 1.31279, 'entry_ask': 1.31298, 'exit_price': 1.31298, 'exit_time': 280, 'profit': -0.014472992634018734}, {'type': 'short', 'entry_price': 1.30812, 'stop_loss_price': 0, 'take_profit_price': 0, 'position_size': 76.44558603186252, 'entry_time': 281, 'entry_bid': 1.30812, 'entry_ask': 1.30872, 'exit_price': 1.30872, 'exit_time': 281, 'profit': -0.045867351619129436}, {'type': 'short', 'entry_price': 1.30856, 'stop_loss_price': 0, 'take_profit_price': 0, 'position_size': 76.41988139634408, 'entry_time': 282, 'entry_bid': 1.30856, 'entry_ask': 1.30875, 'exit_price': 1.30875, 'exit_time': 282, 'profit': -0.014519777465315655}, {'type': 'short', 'entry_price': 1.30886, 'stop_loss_price': 0, 'take_profit_price': 0, 'position_size': 76.40236541723333, 'entry_time': 283, 'entry_bid': 1.30886, 'entry_ask': 1.30905, 'exit_price': 1.30905, 'exit_time': 283, 'profit': -0.014516449429284609}, {'type': 'short', 'entry_price': 1.30869, 'stop_loss_price': 0, 'take_profit_price': 0, 'position_size': 76.41229015274817, 'entry_time': 284, 'entry_bid': 1.30869, 'entry_ask': 1.30889, 'exit_price': 1.30889, 'exit_time': 284, 'profit': -0.015282458030564917}, {'type': 'short', 'entry_price': 1.30726, 'stop_loss_price': 0, 'take_profit_price': 0, 'position_size': 76.49587687223658, 'entry_time': 285, 'entry_bid': 1.30726, 'entry_ask': 1.30748, 'exit_price': 1.30748, 'exit_time': 285, 'profit': -0.0168290929118834}, {'type': 'short', 'entry_price': 1.3009, 'stop_loss_price': 0, 'take_profit_price': 0, 'position_size': 76.86985932815743, 'entry_time': 286, 'entry_bid': 1.3009, 'entry_ask': 1.30109, 'exit_price': 1.30109, 'exit_time': 286, 'profit': -0.014605273272360251}, {'type': 'short', 'entry_price': 1.30103, 'stop_loss_price': 0, 'take_profit_price': 0, 'position_size': 76.86217842786101, 'entry_time': 287, 'entry_bid': 1.30103, 'entry_ask': 1.30212, 'exit_price': 1.30212, 'exit_time': 287, 'profit': -0.08377977448637122}, {'type': 'short', 'entry_price': 1.29664, 'stop_loss_price': 0, 'take_profit_price': 0, 'position_size': 77.12240868706812, 'entry_time': 288, 'entry_bid': 1.29664, 'entry_ask': 1.29689, 'exit_price': 1.29689, 'exit_time': 288, 'profit': -0.019280602171773468}, {'type': 'short', 'entry_price': 1.29778, 'stop_loss_price': 0, 'take_profit_price': 0, 'position_size': 77.05466257763257, 'entry_time': 289, 'entry_bid': 1.29778, 'entry_ask': 1.29799, 'exit_price': 1.29799, 'exit_time': 289, 'profit': -0.01618147914130619}, {'type': 'short', 'entry_price': 1.29985, 'stop_loss_price': 0, 'take_profit_price': 0, 'position_size': 76.93195368696388, 'entry_time': 290, 'entry_bid': 1.29985, 'entry_ask': 1.30003, 'exit_price': 1.30003, 'exit_time': 290, 'profit': -0.013847751663658807}, {'type': 'short', 'entry_price': 1.30474, 'stop_loss_price': 0, 'take_profit_price': 0, 'position_size': 76.6436224841731, 'entry_time': 291, 'entry_bid': 1.30474, 'entry_ask': 1.30496, 'exit_price': 1.30496, 'exit_time': 291, 'profit': -0.016861596946509416}, {'type': 'short', 'entry_price': 1.313, 'stop_loss_price': 0, 'take_profit_price': 0, 'position_size': 76.16146230007617, 'entry_time': 292, 'entry_bid': 1.313, 'entry_ask': 1.31319, 'exit_price': 1.31319, 'exit_time': 292, 'profit': -0.014470677837024716}, {'type': 'short', 'entry_price': 1.3148, 'stop_loss_price': 0, 'take_profit_price': 0, 'position_size': 76.05719501064802, 'entry_time': 293, 'entry_bid': 1.3148, 'entry_ask': 1.3154, 'exit_price': 1.3154, 'exit_time': 293, 'profit': -0.04563431700638378}, {'type': 'short', 'entry_price': 1.32215, 'stop_loss_price': 0, 'take_profit_price': 0, 'position_size': 75.63438339068941, 'entry_time': 294, 'entry_bid': 1.32215, 'entry_ask': 1.32235, 'exit_price': 1.32235, 'exit_time': 294, 'profit': -0.015126876678136215}, {'type': 'short', 'entry_price': 1.32041, 'stop_loss_price': 0, 'take_profit_price': 0, 'position_size': 75.73405230193652, 'entry_time': 295, 'entry_bid': 1.32041, 'entry_ask': 1.32064, 'exit_price': 1.32064, 'exit_time': 295, 'profit': -0.0174188320294418}, {'type': 'short', 'entry_price': 1.32213, 'stop_loss_price': 0, 'take_profit_price': 0, 'position_size': 75.63552751998668, 'entry_time': 296, 'entry_bid': 1.32213, 'entry_ask': 1.32233, 'exit_price': 1.32233, 'exit_time': 296, 'profit': -0.01512710550399567}, {'type': 'short', 'entry_price': 1.30901, 'stop_loss_price': 0, 'take_profit_price': 0, 'position_size': 76.39361043842293, 'entry_time': 297, 'entry_bid': 1.30901, 'entry_ask': 1.30924, 'exit_price': 1.30924, 'exit_time': 297, 'profit': -0.01757053040083364}, {'type': 'short', 'entry_price': 1.30758, 'stop_loss_price': 0, 'take_profit_price': 0, 'position_size': 76.47715627342113, 'entry_time': 298, 'entry_bid': 1.30758, 'entry_ask': 1.30781, 'exit_price': 1.30781, 'exit_time': 298, 'profit': -0.017589745942883223}, {'type': 'short', 'entry_price': 1.30734, 'stop_loss_price': 0, 'take_profit_price': 0, 'position_size': 76.49119586335613, 'entry_time': 299, 'entry_bid': 1.30734, 'entry_ask': 1.30794, 'exit_price': 1.30794, 'exit_time': 299, 'profit': -0.0458947175180256}, {'type': 'short', 'entry_price': 1.30724, 'stop_loss_price': 0, 'take_profit_price': 0, 'position_size': 76.49704721397754, 'entry_time': 300, 'entry_bid': 1.30724, 'entry_ask': 1.30744, 'exit_price': 1.30744, 'exit_time': 300, 'profit': -0.015299409442793822}, {'type': 'short', 'entry_price': 1.3085, 'stop_loss_price': 0, 'take_profit_price': 0, 'position_size': 76.42338555598013, 'entry_time': 301, 'entry_bid': 1.3085, 'entry_ask': 1.30869, 'exit_price': 1.30869, 'exit_time': 301, 'profit': -0.014520443255629536}, {'type': 'short', 'entry_price': 1.31509, 'stop_loss_price': 0, 'take_profit_price': 0, 'position_size': 76.04042308891407, 'entry_time': 302, 'entry_bid': 1.31509, 'entry_ask': 1.31528, 'exit_price': 1.31528, 'exit_time': 302, 'profit': -0.014447680386887016}, {'type': 'short', 'entry_price': 1.3168, 'stop_loss_price': 0, 'take_profit_price': 0, 'position_size': 75.94167679222357, 'entry_time': 303, 'entry_bid': 1.3168, 'entry_ask': 1.31702, 'exit_price': 1.31702, 'exit_time': 303, 'profit': -0.016707168894297464}, {'type': 'short', 'entry_price': 1.32129, 'stop_loss_price': 0, 'take_profit_price': 0, 'position_size': 75.68361222744439, 'entry_time': 304, 'entry_bid': 1.32129, 'entry_ask': 1.32149, 'exit_price': 1.32149, 'exit_time': 304, 'profit': -0.01513672244548721}, {'type': 'short', 'entry_price': 1.33333, 'stop_loss_price': 0, 'take_profit_price': 0, 'position_size': 75.00018750046875, 'entry_time': 305, 'entry_bid': 1.33333, 'entry_ask': 1.33433, 'exit_price': 1.33433, 'exit_time': 305, 'profit': -0.07500018750047714}, {'type': 'short', 'entry_price': 1.32826, 'stop_loss_price': 0, 'take_profit_price': 0, 'position_size': 75.28646499932242, 'entry_time': 306, 'entry_bid': 1.32826, 'entry_ask': 1.32848, 'exit_price': 1.32848, 'exit_time': 306, 'profit': -0.016563022299859138}, {'type': 'short', 'entry_price': 1.32403, 'stop_loss_price': 0, 'take_profit_price': 0, 'position_size': 75.52698956972274, 'entry_time': 307, 'entry_bid': 1.32403, 'entry_ask': 1.32425, 'exit_price': 1.32425, 'exit_time': 307, 'profit': -0.016615937705330465}, {'type': 'short', 'entry_price': 1.33058, 'stop_loss_price': 0, 'take_profit_price': 0, 'position_size': 75.15519547866343, 'entry_time': 308, 'entry_bid': 1.33058, 'entry_ask': 1.33083, 'exit_price': 1.33083, 'exit_time': 308, 'profit': -0.018788798869655444}, {'type': 'short', 'entry_price': 1.32746, 'stop_loss_price': 0, 'take_profit_price': 0, 'position_size': 75.33183674084341, 'entry_time': 309, 'entry_bid': 1.32746, 'entry_ask': 1.3277, 'exit_price': 1.3277, 'exit_time': 309, 'profit': -0.018079640817803774}, {'type': 'short', 'entry_price': 1.32683, 'stop_loss_price': 0, 'take_profit_price': 0, 'position_size': 75.36760549580579, 'entry_time': 310, 'entry_bid': 1.32683, 'entry_ask': 1.32707, 'exit_price': 1.32707, 'exit_time': 310, 'profit': -0.018088225318994743}, {'type': 'short', 'entry_price': 1.32384, 'stop_loss_price': 0, 'take_profit_price': 0, 'position_size': 75.53782934493594, 'entry_time': 311, 'entry_bid': 1.32384, 'entry_ask': 1.32444, 'exit_price': 1.32444, 'exit_time': 311, 'profit': -0.04532269760697335}, {'type': 'short', 'entry_price': 1.32413, 'stop_loss_price': 0, 'take_profit_price': 0, 'position_size': 75.52128567436732, 'entry_time': 312, 'entry_bid': 1.32413, 'entry_ask': 1.32434, 'exit_price': 1.32434, 'exit_time': 312, 'profit': -0.015859469991620422}, {'type': 'short', 'entry_price': 1.32431, 'stop_loss_price': 0, 'take_profit_price': 0, 'position_size': 75.51102083349065, 'entry_time': 313, 'entry_bid': 1.32431, 'entry_ask': 1.32453, 'exit_price': 1.32453, 'exit_time': 313, 'profit': -0.016612424583359407}, {'type': 'short', 'entry_price': 1.32444, 'stop_loss_price': 0, 'take_profit_price': 0, 'position_size': 75.50360907251367, 'entry_time': 314, 'entry_bid': 1.32444, 'entry_ask': 1.32466, 'exit_price': 1.32466, 'exit_time': 314, 'profit': -0.01661079399594447}, {'type': 'short', 'entry_price': 1.32342, 'stop_loss_price': 0, 'take_profit_price': 0, 'position_size': 75.56180199785405, 'entry_time': 315, 'entry_bid': 1.32342, 'entry_ask': 1.32363, 'exit_price': 1.32363, 'exit_time': 315, 'profit': -0.015867978419552637}, {'type': 'short', 'entry_price': 1.32919, 'stop_loss_price': 0, 'take_profit_price': 0, 'position_size': 75.23378899931537, 'entry_time': 316, 'entry_bid': 1.32919, 'entry_ask': 1.32935, 'exit_price': 1.32935, 'exit_time': 316, 'profit': -0.012037406239885792}, {'type': 'short', 'entry_price': 1.32863, 'stop_loss_price': 0, 'take_profit_price': 0, 'position_size': 75.26549904789144, 'entry_time': 317, 'entry_bid': 1.32863, 'entry_ask': 1.32972, 'exit_price': 1.32972, 'exit_time': 317, 'profit': -0.08203939396220433}, {'type': 'short', 'entry_price': 1.32894, 'stop_loss_price': 0, 'take_profit_price': 0, 'position_size': 75.24794196878716, 'entry_time': 318, 'entry_bid': 1.32894, 'entry_ask': 1.32916, 'exit_price': 1.32916, 'exit_time': 318, 'profit': -0.016554547233124668}, {'type': 'short', 'entry_price': 1.32873, 'stop_loss_price': 0, 'take_profit_price': 0, 'position_size': 75.2598345788836, 'entry_time': 319, 'entry_bid': 1.32873, 'entry_ask': 1.32895, 'exit_price': 1.32895, 'exit_time': 319, 'profit': -0.016557163607362594}, {'type': 'short', 'entry_price': 1.32618, 'stop_loss_price': 0, 'take_profit_price': 0, 'position_size': 75.40454538599587, 'entry_time': 320, 'entry_bid': 1.32618, 'entry_ask': 1.32636, 'exit_price': 1.32636, 'exit_time': 320, 'profit': -0.01357281816948446}, {'type': 'short', 'entry_price': 1.32416, 'stop_loss_price': 0, 'take_profit_price': 0, 'position_size': 75.51957467375544, 'entry_time': 321, 'entry_bid': 1.32416, 'entry_ask': 1.32435, 'exit_price': 1.32435, 'exit_time': 321, 'profit': -0.014348719188006924}, {'type': 'short', 'entry_price': 1.32265, 'stop_loss_price': 0, 'take_profit_price': 0, 'position_size': 75.60579140362151, 'entry_time': 322, 'entry_bid': 1.32265, 'entry_ask': 1.32282, 'exit_price': 1.32282, 'exit_time': 322, 'profit': -0.01285298453861592}, {'type': 'short', 'entry_price': 1.32513, 'stop_loss_price': 0, 'take_profit_price': 0, 'position_size': 75.46429406926113, 'entry_time': 323, 'entry_bid': 1.32513, 'entry_ask': 1.32573, 'exit_price': 1.32573, 'exit_time': 323, 'profit': -0.04527857644156845}, {'type': 'short', 'entry_price': 1.32616, 'stop_loss_price': 0, 'take_profit_price': 0, 'position_size': 75.40568257223865, 'entry_time': 324, 'entry_bid': 1.32616, 'entry_ask': 1.3264, 'exit_price': 1.3264, 'exit_time': 324, 'profit': -0.01809736381733863}, {'type': 'short', 'entry_price': 1.32737, 'stop_loss_price': 0, 'take_profit_price': 0, 'position_size': 75.33694448420562, 'entry_time': 325, 'entry_bid': 1.32737, 'entry_ask': 1.32759, 'exit_price': 1.32759, 'exit_time': 325, 'profit': -0.016574127786533447}, {'type': 'short', 'entry_price': 1.32615, 'stop_loss_price': 0, 'take_profit_price': 0, 'position_size': 75.40625117822267, 'entry_time': 326, 'entry_bid': 1.32615, 'entry_ask': 1.32633, 'exit_price': 1.32633, 'exit_time': 326, 'profit': -0.013573125212085283}, {'type': 'short', 'entry_price': 1.32701, 'stop_loss_price': 0, 'take_profit_price': 0, 'position_size': 75.35738238596544, 'entry_time': 327, 'entry_bid': 1.32701, 'entry_ask': 1.32722, 'exit_price': 1.32722, 'exit_time': 327, 'profit': -0.015825050301056017}, {'type': 'short', 'entry_price': 1.32746, 'stop_loss_price': 0, 'take_profit_price': 0, 'position_size': 75.33183674084341, 'entry_time': 328, 'entry_bid': 1.32746, 'entry_ask': 1.32762, 'exit_price': 1.32762, 'exit_time': 328, 'profit': -0.012053093878530274}, {'type': 'short', 'entry_price': 1.32626, 'stop_loss_price': 0, 'take_profit_price': 0, 'position_size': 75.39999698400013, 'entry_time': 329, 'entry_bid': 1.32626, 'entry_ask': 1.32686, 'exit_price': 1.32686, 'exit_time': 329, 'profit': -0.04523999819039509}, {'type': 'short', 'entry_price': 1.32533, 'stop_loss_price': 0, 'take_profit_price': 0, 'position_size': 75.45290606867724, 'entry_time': 330, 'entry_bid': 1.32533, 'entry_ask': 1.32553, 'exit_price': 1.32553, 'exit_time': 330, 'profit': -0.015090581213750539}, {'type': 'short', 'entry_price': 1.32545, 'stop_loss_price': 0, 'take_profit_price': 0, 'position_size': 75.44607491795239, 'entry_time': 331, 'entry_bid': 1.32545, 'entry_ask': 1.32565, 'exit_price': 1.32565, 'exit_time': 331, 'profit': -0.015089214983588816}, {'type': 'short', 'entry_price': 1.32193, 'stop_loss_price': 0, 'take_profit_price': 0, 'position_size': 75.64697071705763, 'entry_time': 332, 'entry_bid': 1.32193, 'entry_ask': 1.32213, 'exit_price': 1.32213, 'exit_time': 332, 'profit': -0.01512939414340986}, {'type': 'short', 'entry_price': 1.31487, 'stop_loss_price': 0, 'take_profit_price': 0, 'position_size': 76.05314593838175, 'entry_time': 333, 'entry_bid': 1.31487, 'entry_ask': 1.31504, 'exit_price': 1.31504, 'exit_time': 333, 'profit': -0.012929034809525161}, {'type': 'short', 'entry_price': 1.31831, 'stop_loss_price': 0, 'take_profit_price': 0, 'position_size': 75.85469275056701, 'entry_time': 334, 'entry_bid': 1.31831, 'entry_ask': 1.31857, 'exit_price': 1.31857, 'exit_time': 334, 'profit': -0.01972222011514188}, {'type': 'short', 'entry_price': 1.31907, 'stop_loss_price': 0, 'take_profit_price': 0, 'position_size': 75.81098804460719, 'entry_time': 335, 'entry_bid': 1.31907, 'entry_ask': 1.31967, 'exit_price': 1.31967, 'exit_time': 335, 'profit': -0.0454865928267593}, {'type': 'short', 'entry_price': 1.32173, 'stop_loss_price': 0, 'take_profit_price': 0, 'position_size': 75.6584173772253, 'entry_time': 336, 'entry_bid': 1.32173, 'entry_ask': 1.32195, 'exit_price': 1.32195, 'exit_time': 336, 'profit': -0.016644851822981015}, {'type': 'short', 'entry_price': 1.32142, 'stop_loss_price': 0, 'take_profit_price': 0, 'position_size': 75.67616654810733, 'entry_time': 337, 'entry_bid': 1.32142, 'entry_ask': 1.32165, 'exit_price': 1.32165, 'exit_time': 337, 'profit': -0.017405518306061088}, {'type': 'short', 'entry_price': 1.31608, 'stop_loss_price': 0, 'take_profit_price': 0, 'position_size': 75.98322290438271, 'entry_time': 338, 'entry_bid': 1.31608, 'entry_ask': 1.31629, 'exit_price': 1.31629, 'exit_time': 338, 'profit': -0.015956476809923674}, {'type': 'short', 'entry_price': 1.31278, 'stop_loss_price': 0, 'take_profit_price': 0, 'position_size': 76.17422568899586, 'entry_time': 339, 'entry_bid': 1.31278, 'entry_ask': 1.31295, 'exit_price': 1.31295, 'exit_time': 339, 'profit': -0.012949618367129562}, {'type': 'short', 'entry_price': 1.30471, 'stop_loss_price': 0, 'take_profit_price': 0, 'position_size': 76.64538479815438, 'entry_time': 340, 'entry_bid': 1.30471, 'entry_ask': 1.30491, 'exit_price': 1.30491, 'exit_time': 340, 'profit': -0.015329076959629187}, {'type': 'short', 'entry_price': 1.31057, 'stop_loss_price': 0, 'take_profit_price': 0, 'position_size': 76.3026774609521, 'entry_time': 341, 'entry_bid': 1.31057, 'entry_ask': 1.31117, 'exit_price': 1.31117, 'exit_time': 341, 'profit': -0.04578160647656622}, {'type': 'short', 'entry_price': 1.31208, 'stop_loss_price': 0, 'take_profit_price': 0, 'position_size': 76.21486494725931, 'entry_time': 342, 'entry_bid': 1.31208, 'entry_ask': 1.31229, 'exit_price': 1.31229, 'exit_time': 342, 'profit': -0.01600512163892777}, {'type': 'short', 'entry_price': 1.31325, 'stop_loss_price': 0, 'take_profit_price': 0, 'position_size': 76.14696363982486, 'entry_time': 343, 'entry_bid': 1.31325, 'entry_ask': 1.31347, 'exit_price': 1.31347, 'exit_time': 343, 'profit': -0.01675233200075286}, {'type': 'short', 'entry_price': 1.31025, 'stop_loss_price': 0, 'take_profit_price': 0, 'position_size': 76.3213127265789, 'entry_time': 344, 'entry_bid': 1.31025, 'entry_ask': 1.311, 'exit_price': 1.311, 'exit_time': 344, 'profit': -0.05724098454493634}, {'type': 'short', 'entry_price': 1.31589, 'stop_loss_price': 0, 'take_profit_price': 0, 'position_size': 75.99419404357506, 'entry_time': 345, 'entry_bid': 1.31589, 'entry_ask': 1.31608, 'exit_price': 1.31608, 'exit_time': 345, 'profit': -0.01443889686827261}, {'type': 'short', 'entry_price': 1.3188, 'stop_loss_price': 0, 'take_profit_price': 0, 'position_size': 75.82650894752805, 'entry_time': 346, 'entry_bid': 1.3188, 'entry_ask': 1.31899, 'exit_price': 1.31899, 'exit_time': 346, 'profit': -0.014407036700040529}, {'type': 'short', 'entry_price': 1.32043, 'stop_loss_price': 1.325806, 'take_profit_price': 1.3003, 'position_size': 18601.190476190313, 'entry_time': 347, 'entry_bid': 1.32043, 'entry_ask': 1.32152, 'exit_price': 1.29817, 'exit_time': 460, 'profit': 414.0624999999954}, {'type': 'short', 'entry_price': 1.29844, 'stop_loss_price': 0, 'take_profit_price': 0, 'position_size': 77.01549551769816, 'entry_time': 461, 'entry_bid': 1.29844, 'entry_ask': 1.29904, 'exit_price': 1.29904, 'exit_time': 461, 'profit': -0.0462092973106138}, {'type': 'short', 'entry_price': 1.29905, 'stop_loss_price': 0, 'take_profit_price': 0, 'position_size': 76.97933104961318, 'entry_time': 462, 'entry_bid': 1.29905, 'entry_ask': 1.29946, 'exit_price': 1.29946, 'exit_time': 462, 'profit': -0.03156152573034306}, {'type': 'short', 'entry_price': 1.29968, 'stop_loss_price': 0, 'take_profit_price': 0, 'position_size': 76.94201649636834, 'entry_time': 463, 'entry_bid': 1.29968, 'entry_ask': 1.30067, 'exit_price': 1.30067, 'exit_time': 463, 'profit': -0.07617259633140823}, {'type': 'short', 'entry_price': 1.29991, 'stop_loss_price': 0, 'take_profit_price': 0, 'position_size': 76.92840273557401, 'entry_time': 464, 'entry_bid': 1.29991, 'entry_ask': 1.30023, 'exit_price': 1.30023, 'exit_time': 464, 'profit': -0.02461708887539122}, {'type': 'short', 'entry_price': 1.29939, 'stop_loss_price': 0, 'take_profit_price': 0, 'position_size': 76.95918854231601, 'entry_time': 465, 'entry_bid': 1.29939, 'entry_ask': 1.29989, 'exit_price': 1.29989, 'exit_time': 465, 'profit': -0.03847959427115377}, {'type': 'short', 'entry_price': 1.29965, 'stop_loss_price': 0, 'take_profit_price': 0, 'position_size': 76.94379255953527, 'entry_time': 466, 'entry_bid': 1.29965, 'entry_ask': 1.30034, 'exit_price': 1.30034, 'exit_time': 466, 'profit': -0.05309121686608545}, {'type': 'short', 'entry_price': 1.29877, 'stop_loss_price': 0, 'take_profit_price': 0, 'position_size': 76.99592691546617, 'entry_time': 467, 'entry_bid': 1.29877, 'entry_ask': 1.29986, 'exit_price': 1.29986, 'exit_time': 467, 'profit': -0.08392556033786085}, {'type': 'short', 'entry_price': 1.29905, 'stop_loss_price': 0, 'take_profit_price': 0, 'position_size': 76.97933104961318, 'entry_time': 468, 'entry_bid': 1.29905, 'entry_ask': 1.30014, 'exit_price': 1.30014, 'exit_time': 468, 'profit': -0.0839074708440811}, {'type': 'short', 'entry_price': 1.29864, 'stop_loss_price': 0, 'take_profit_price': 0, 'position_size': 77.00363457155177, 'entry_time': 469, 'entry_bid': 1.29864, 'entry_ask': 1.29887, 'exit_price': 1.29887, 'exit_time': 469, 'profit': -0.017710835951453247}, {'type': 'short', 'entry_price': 1.29926, 'stop_loss_price': 0, 'take_profit_price': 0, 'position_size': 76.96688884441913, 'entry_time': 470, 'entry_bid': 1.29926, 'entry_ask': 1.29948, 'exit_price': 1.29948, 'exit_time': 470, 'profit': -0.016932715545763508}, {'type': 'short', 'entry_price': 1.29894, 'stop_loss_price': 0, 'take_profit_price': 0, 'position_size': 76.98585000076986, 'entry_time': 471, 'entry_bid': 1.29894, 'entry_ask': 1.29916, 'exit_price': 1.29916, 'exit_time': 471, 'profit': -0.016936887000177762}, {'type': 'short', 'entry_price': 1.29781, 'stop_loss_price': 0, 'take_profit_price': 0, 'position_size': 77.05288139249967, 'entry_time': 472, 'entry_bid': 1.29781, 'entry_ask': 1.29798, 'exit_price': 1.29798, 'exit_time': 472, 'profit': -0.013098989836725212}, {'type': 'short', 'entry_price': 1.29839, 'stop_loss_price': 0, 'take_profit_price': 0, 'position_size': 77.01846132517964, 'entry_time': 473, 'entry_bid': 1.29839, 'entry_ask': 1.29856, 'exit_price': 1.29856, 'exit_time': 473, 'profit': -0.013093138425280808}, {'type': 'short', 'entry_price': 1.29777, 'stop_loss_price': 0, 'take_profit_price': 0, 'position_size': 77.05525632431016, 'entry_time': 474, 'entry_bid': 1.29777, 'entry_ask': 1.29837, 'exit_price': 1.29837, 'exit_time': 474, 'profit': -0.046233153794581004}, {'type': 'short', 'entry_price': 1.29808, 'stop_loss_price': 0, 'take_profit_price': 0, 'position_size': 77.03685443115987, 'entry_time': 475, 'entry_bid': 1.29808, 'entry_ask': 1.2983, 'exit_price': 1.2983, 'exit_time': 475, 'profit': -0.01694810797486357}, {'type': 'short', 'entry_price': 1.29868, 'stop_loss_price': 0, 'take_profit_price': 0, 'position_size': 77.00126282071025, 'entry_time': 476, 'entry_bid': 1.29868, 'entry_ask': 1.2989, 'exit_price': 1.2989, 'exit_time': 476, 'profit': -0.01694027782054755}, {'type': 'short', 'entry_price': 1.29906, 'stop_loss_price': 0, 'take_profit_price': 0, 'position_size': 76.9787384724339, 'entry_time': 477, 'entry_bid': 1.29906, 'entry_ask': 1.29926, 'exit_price': 1.29926, 'exit_time': 477, 'profit': -0.015395747694485085}, {'type': 'short', 'entry_price': 1.29562, 'stop_loss_price': 0, 'take_profit_price': 0, 'position_size': 77.18312468161962, 'entry_time': 478, 'entry_bid': 1.29562, 'entry_ask': 1.29586, 'exit_price': 1.29586, 'exit_time': 478, 'profit': -0.018523949923590095}, {'type': 'short', 'entry_price': 1.29458, 'stop_loss_price': 0, 'take_profit_price': 0, 'position_size': 77.24512969457275, 'entry_time': 479, 'entry_bid': 1.29458, 'entry_ask': 1.29474, 'exit_price': 1.29474, 'exit_time': 479, 'profit': -0.012359220751126849}, {'type': 'short', 'entry_price': 1.29346, 'stop_loss_price': 0, 'take_profit_price': 0, 'position_size': 77.31201583350084, 'entry_time': 480, 'entry_bid': 1.29346, 'entry_ask': 1.29406, 'exit_price': 1.29406, 'exit_time': 480, 'profit': -0.046387209500095394}, {'type': 'short', 'entry_price': 1.29405, 'stop_loss_price': 0, 'take_profit_price': 0, 'position_size': 77.2767667400796, 'entry_time': 481, 'entry_bid': 1.29405, 'entry_ask': 1.29425, 'exit_price': 1.29425, 'exit_time': 481, 'profit': -0.015455353348014216}, {'type': 'short', 'entry_price': 1.29364, 'stop_loss_price': 0, 'take_profit_price': 0, 'position_size': 77.3012584644878, 'entry_time': 482, 'entry_bid': 1.29364, 'entry_ask': 1.29384, 'exit_price': 1.29384, 'exit_time': 482, 'profit': -0.015460251692913022}, {'type': 'short', 'entry_price': 1.29331, 'stop_loss_price': 0, 'take_profit_price': 0, 'position_size': 77.32098259504681, 'entry_time': 483, 'entry_bid': 1.29331, 'entry_ask': 1.29349, 'exit_price': 1.29349, 'exit_time': 483, 'profit': -0.01391777686711376}, {'type': 'short', 'entry_price': 1.29537, 'stop_loss_price': 0, 'take_profit_price': 0, 'position_size': 77.19802064275072, 'entry_time': 484, 'entry_bid': 1.29537, 'entry_ask': 1.29554, 'exit_price': 1.29554, 'exit_time': 484, 'profit': -0.01312366350926789}, {'type': 'short', 'entry_price': 1.29214, 'stop_loss_price': 0, 'take_profit_price': 0, 'position_size': 77.39099478384695, 'entry_time': 485, 'entry_bid': 1.29214, 'entry_ask': 1.29232, 'exit_price': 1.29232, 'exit_time': 485, 'profit': -0.013930379061080606}, {'type': 'short', 'entry_price': 1.28983, 'stop_loss_price': 0, 'take_profit_price': 0, 'position_size': 77.52959692362559, 'entry_time': 486, 'entry_bid': 1.28983, 'entry_ask': 1.29043, 'exit_price': 1.29043, 'exit_time': 486, 'profit': -0.04651775815417023}, {'type': 'short', 'entry_price': 1.29041, 'stop_loss_price': 0, 'take_profit_price': 0, 'position_size': 77.49474973070573, 'entry_time': 487, 'entry_bid': 1.29041, 'entry_ask': 1.29063, 'exit_price': 1.29063, 'exit_time': 487, 'profit': -0.017048844940746502}, {'type': 'short', 'entry_price': 1.29041, 'stop_loss_price': 0, 'take_profit_price': 0, 'position_size': 77.49474973070573, 'entry_time': 488, 'entry_bid': 1.29041, 'entry_ask': 1.29062, 'exit_price': 1.29062, 'exit_time': 488, 'profit': -0.016273897443451573}, {'type': 'short', 'entry_price': 1.28881, 'stop_loss_price': 0, 'take_profit_price': 0, 'position_size': 77.59095599816885, 'entry_time': 489, 'entry_bid': 1.28881, 'entry_ask': 1.28897, 'exit_price': 1.28897, 'exit_time': 489, 'profit': -0.012414552959702204}, {'type': 'short', 'entry_price': 1.28852, 'stop_loss_price': 0, 'take_profit_price': 0, 'position_size': 77.60841896128892, 'entry_time': 490, 'entry_bid': 1.28852, 'entry_ask': 1.28871, 'exit_price': 1.28871, 'exit_time': 490, 'profit': -0.0147455996026381}, {'type': 'short', 'entry_price': 1.29006, 'stop_loss_price': 0, 'take_profit_price': 0, 'position_size': 77.51577446010263, 'entry_time': 491, 'entry_bid': 1.29006, 'entry_ask': 1.29023, 'exit_price': 1.29023, 'exit_time': 491, 'profit': -0.013177681658217718}, {'type': 'short', 'entry_price': 1.28953, 'stop_loss_price': 0, 'take_profit_price': 0, 'position_size': 77.54763363395966, 'entry_time': 492, 'entry_bid': 1.28953, 'entry_ask': 1.29013, 'exit_price': 1.29013, 'exit_time': 492, 'profit': -0.04652858018037068}, {'type': 'short', 'entry_price': 1.28896, 'stop_loss_price': 0, 'take_profit_price': 0, 'position_size': 77.5819265143992, 'entry_time': 493, 'entry_bid': 1.28896, 'entry_ask': 1.28915, 'exit_price': 1.28915, 'exit_time': 493, 'profit': -0.014740566037729056}, {'type': 'short', 'entry_price': 1.2901, 'stop_loss_price': 0, 'take_profit_price': 0, 'position_size': 77.51337105650724, 'entry_time': 494, 'entry_bid': 1.2901, 'entry_ask': 1.29032, 'exit_price': 1.29032, 'exit_time': 494, 'profit': -0.01705294163242283}, {'type': 'short', 'entry_price': 1.29087, 'stop_loss_price': 0, 'take_profit_price': 0, 'position_size': 77.46713456815947, 'entry_time': 495, 'entry_bid': 1.29087, 'entry_ask': 1.29105, 'exit_price': 1.29105, 'exit_time': 495, 'profit': -0.013944084222274049}, {'type': 'short', 'entry_price': 1.2917, 'stop_loss_price': 0, 'take_profit_price': 0, 'position_size': 77.417356971433, 'entry_time': 496, 'entry_bid': 1.2917, 'entry_ask': 1.29187, 'exit_price': 1.29187, 'exit_time': 496, 'profit': -0.013160950685143879}, {'type': 'short', 'entry_price': 1.29314, 'stop_loss_price': 0, 'take_profit_price': 0, 'position_size': 77.33114743956571, 'entry_time': 497, 'entry_bid': 1.29314, 'entry_ask': 1.29332, 'exit_price': 1.29332, 'exit_time': 497, 'profit': -0.013919606539127164}, {'type': 'short', 'entry_price': 1.29103, 'stop_loss_price': 0, 'take_profit_price': 0, 'position_size': 77.45753390703547, 'entry_time': 498, 'entry_bid': 1.29103, 'entry_ask': 1.29212, 'exit_price': 1.29212, 'exit_time': 498, 'profit': -0.0844287119586714}, {'type': 'short', 'entry_price': 1.29192, 'stop_loss_price': 0, 'take_profit_price': 0, 'position_size': 77.40417363304229, 'entry_time': 499, 'entry_bid': 1.29192, 'entry_ask': 1.29214, 'exit_price': 1.29214, 'exit_time': 499, 'profit': -0.01702891819927774}, {'type': 'short', 'entry_price': 1.29343, 'stop_loss_price': 0, 'take_profit_price': 0, 'position_size': 77.31380901942896, 'entry_time': 500, 'entry_bid': 1.29343, 'entry_ask': 1.29364, 'exit_price': 1.29364, 'exit_time': 500, 'profit': -0.016235899894066277}, {'type': 'short', 'entry_price': 1.29422, 'stop_loss_price': 0, 'take_profit_price': 0, 'position_size': 77.26661618581076, 'entry_time': 501, 'entry_bid': 1.29422, 'entry_ask': 1.29441, 'exit_price': 1.29441, 'exit_time': 501, 'profit': -0.014680657075314437}, {'type': 'short', 'entry_price': 1.29162, 'stop_loss_price': 0, 'take_profit_price': 0, 'position_size': 77.42215202613772, 'entry_time': 502, 'entry_bid': 1.29162, 'entry_ask': 1.29181, 'exit_price': 1.29181, 'exit_time': 502, 'profit': -0.01471020888495939}, {'type': 'short', 'entry_price': 1.29322, 'stop_loss_price': 0, 'take_profit_price': 0, 'position_size': 77.32636365042298, 'entry_time': 503, 'entry_bid': 1.29322, 'entry_ask': 1.29339, 'exit_price': 1.29339, 'exit_time': 503, 'profit': -0.013145481820572175}, {'type': 'short', 'entry_price': 1.29297, 'stop_loss_price': 0, 'take_profit_price': 0, 'position_size': 77.3413149570369, 'entry_time': 504, 'entry_bid': 1.29297, 'entry_ask': 1.29357, 'exit_price': 1.29357, 'exit_time': 504, 'profit': -0.0464047889742342}, {'type': 'short', 'entry_price': 1.2938, 'stop_loss_price': 0, 'take_profit_price': 0, 'position_size': 77.29169887154119, 'entry_time': 505, 'entry_bid': 1.2938, 'entry_ask': 1.29408, 'exit_price': 1.29408, 'exit_time': 505, 'profit': -0.02164167568401885}, {'type': 'short', 'entry_price': 1.29397, 'stop_loss_price': 0, 'take_profit_price': 0, 'position_size': 77.28154439438318, 'entry_time': 506, 'entry_bid': 1.29397, 'entry_ask': 1.29419, 'exit_price': 1.29419, 'exit_time': 506, 'profit': -0.017001939766755562}, {'type': 'short', 'entry_price': 1.29716, 'stop_loss_price': 0, 'take_profit_price': 0, 'position_size': 77.09149218292269, 'entry_time': 507, 'entry_bid': 1.29716, 'entry_ask': 1.29736, 'exit_price': 1.29736, 'exit_time': 507, 'profit': -0.01541829843658284}, {'type': 'short', 'entry_price': 1.30203, 'stop_loss_price': 0, 'take_profit_price': 0, 'position_size': 76.8031458568543, 'entry_time': 508, 'entry_bid': 1.30203, 'entry_ask': 1.30219, 'exit_price': 1.30219, 'exit_time': 508, 'profit': -0.012288503337091923}, {'type': 'short', 'entry_price': 1.30406, 'stop_loss_price': 0, 'take_profit_price': 0, 'position_size': 76.68358817845805, 'entry_time': 509, 'entry_bid': 1.30406, 'entry_ask': 1.30423, 'exit_price': 1.30423, 'exit_time': 509, 'profit': -0.013036209990338136}, {'type': 'short', 'entry_price': 1.30314, 'stop_loss_price': 0, 'take_profit_price': 0, 'position_size': 76.73772580075817, 'entry_time': 510, 'entry_bid': 1.30314, 'entry_ask': 1.30374, 'exit_price': 1.30374, 'exit_time': 510, 'profit': -0.04604263548044983}, {'type': 'short', 'entry_price': 1.30422, 'stop_loss_price': 0, 'take_profit_price': 0, 'position_size': 76.67418073637883, 'entry_time': 511, 'entry_bid': 1.30422, 'entry_ask': 1.30442, 'exit_price': 1.30442, 'exit_time': 511, 'profit': -0.015334836147274078}, {'type': 'short', 'entry_price': 1.30401, 'stop_loss_price': 0, 'take_profit_price': 0, 'position_size': 76.68652847754235, 'entry_time': 512, 'entry_bid': 1.30401, 'entry_ask': 1.30421, 'exit_price': 1.30421, 'exit_time': 512, 'profit': -0.01533730569552381}, {'type': 'short', 'entry_price': 1.30597, 'stop_loss_price': 0, 'take_profit_price': 0, 'position_size': 76.57143732244998, 'entry_time': 513, 'entry_bid': 1.30597, 'entry_ask': 1.30613, 'exit_price': 1.30613, 'exit_time': 513, 'profit': -0.012251429971587248}, {'type': 'short', 'entry_price': 1.30632, 'stop_loss_price': 0, 'take_profit_price': 0, 'position_size': 76.55092167309695, 'entry_time': 514, 'entry_bid': 1.30632, 'entry_ask': 1.30651, 'exit_price': 1.30651, 'exit_time': 514, 'profit': -0.014544675117898717}, {'type': 'short', 'entry_price': 1.30799, 'stop_loss_price': 0, 'take_profit_price': 0, 'position_size': 76.45318389284321, 'entry_time': 515, 'entry_bid': 1.30799, 'entry_ask': 1.30817, 'exit_price': 1.30817, 'exit_time': 515, 'profit': -0.013761573100717054}, {'type': 'short', 'entry_price': 1.30462, 'stop_loss_price': 0, 'take_profit_price': 0, 'position_size': 76.65067222639543, 'entry_time': 516, 'entry_bid': 1.30462, 'entry_ask': 1.30522, 'exit_price': 1.30522, 'exit_time': 516, 'profit': -0.04599040333584921}, {'type': 'short', 'entry_price': 1.30555, 'stop_loss_price': 0, 'take_profit_price': 0, 'position_size': 76.59607062157711, 'entry_time': 517, 'entry_bid': 1.30555, 'entry_ask': 1.30579, 'exit_price': 1.30579, 'exit_time': 517, 'profit': -0.018383056949179882}, {'type': 'short', 'entry_price': 1.30514, 'stop_loss_price': 0, 'take_profit_price': 0, 'position_size': 76.62013270606985, 'entry_time': 518, 'entry_bid': 1.30514, 'entry_ask': 1.30537, 'exit_price': 1.30537, 'exit_time': 518, 'profit': -0.017622630522392425}, {'type': 'short', 'entry_price': 1.30546, 'stop_loss_price': 0, 'take_profit_price': 0, 'position_size': 76.601351247836, 'entry_time': 519, 'entry_bid': 1.30546, 'entry_ask': 1.30562, 'exit_price': 1.30562, 'exit_time': 519, 'profit': -0.01225621619964901}, {'type': 'short', 'entry_price': 1.3041, 'stop_loss_price': 0, 'take_profit_price': 0, 'position_size': 76.68123610152595, 'entry_time': 520, 'entry_bid': 1.3041, 'entry_ask': 1.30426, 'exit_price': 1.30426, 'exit_time': 520, 'profit': -0.012268997776239396}, {'type': 'short', 'entry_price': 1.30233, 'stop_loss_price': 0, 'take_profit_price': 0, 'position_size': 76.78545376363901, 'entry_time': 521, 'entry_bid': 1.30233, 'entry_ask': 1.3025, 'exit_price': 1.3025, 'exit_time': 521, 'profit': -0.0130535271398189}, {'type': 'short', 'entry_price': 1.30292, 'stop_loss_price': 0, 'take_profit_price': 0, 'position_size': 76.75068308107942, 'entry_time': 522, 'entry_bid': 1.30292, 'entry_ask': 1.30352, 'exit_price': 1.30352, 'exit_time': 522, 'profit': -0.04605040984864258}, {'type': 'short', 'entry_price': 1.30381, 'stop_loss_price': 0, 'take_profit_price': 0, 'position_size': 76.69829192903875, 'entry_time': 523, 'entry_bid': 1.30381, 'entry_ask': 1.30404, 'exit_price': 1.30404, 'exit_time': 523, 'profit': -0.017640607143692297}, {'type': 'short', 'entry_price': 1.30325, 'stop_loss_price': 0, 'take_profit_price': 0, 'position_size': 76.73124880107423, 'entry_time': 524, 'entry_bid': 1.30325, 'entry_ask': 1.30347, 'exit_price': 1.30347, 'exit_time': 524, 'profit': -0.016880874736227656}, {'type': 'short', 'entry_price': 1.30178, 'stop_loss_price': 0, 'take_profit_price': 0, 'position_size': 76.81789549693497, 'entry_time': 525, 'entry_bid': 1.30178, 'entry_ask': 1.30196, 'exit_price': 1.30196, 'exit_time': 525, 'profit': -0.013827221189453594}, {'type': 'short', 'entry_price': 1.30298, 'stop_loss_price': 0, 'take_profit_price': 0, 'position_size': 76.74714884342046, 'entry_time': 526, 'entry_bid': 1.30298, 'entry_ask': 1.30316, 'exit_price': 1.30316, 'exit_time': 526, 'profit': -0.013814486791820978}, {'type': 'short', 'entry_price': 1.31465, 'stop_loss_price': 0, 'take_profit_price': 0, 'position_size': 76.06587304605787, 'entry_time': 527, 'entry_bid': 1.31465, 'entry_ask': 1.31481, 'exit_price': 1.31481, 'exit_time': 527, 'profit': -0.012170539687364541}, {'type': 'short', 'entry_price': 1.31692, 'stop_loss_price': 0, 'take_profit_price': 0, 'position_size': 75.93475685690854, 'entry_time': 528, 'entry_bid': 1.31692, 'entry_ask': 1.31801, 'exit_price': 1.31801, 'exit_time': 528, 'profit': -0.08276888497401613}, {'type': 'short', 'entry_price': 1.31454, 'stop_loss_price': 0, 'take_profit_price': 0, 'position_size': 76.07223819739224, 'entry_time': 529, 'entry_bid': 1.31454, 'entry_ask': 1.31476, 'exit_price': 1.31476, 'exit_time': 529, 'profit': -0.016735892403417694}, {'type': 'short', 'entry_price': 1.31191, 'stop_loss_price': 0, 'take_profit_price': 0, 'position_size': 76.22474102644237, 'entry_time': 530, 'entry_bid': 1.31191, 'entry_ask': 1.31211, 'exit_price': 1.31211, 'exit_time': 530, 'profit': -0.015244948205303721}, {'type': 'short', 'entry_price': 1.31063, 'stop_loss_price': 0, 'take_profit_price': 0, 'position_size': 76.29918436171917, 'entry_time': 531, 'entry_bid': 1.31063, 'entry_ask': 1.31083, 'exit_price': 1.31083, 'exit_time': 531, 'profit': -0.015259836872342154}, {'type': 'short', 'entry_price': 1.3087, 'stop_loss_price': 0, 'take_profit_price': 0, 'position_size': 76.41170627340108, 'entry_time': 532, 'entry_bid': 1.3087, 'entry_ask': 1.30889, 'exit_price': 1.30889, 'exit_time': 532, 'profit': -0.014518224191956483}, {'type': 'short', 'entry_price': 1.30975, 'stop_loss_price': 0, 'take_profit_price': 0, 'position_size': 76.35044855888529, 'entry_time': 533, 'entry_bid': 1.30975, 'entry_ask': 1.30993, 'exit_price': 1.30993, 'exit_time': 533, 'profit': -0.01374308074060462}, {'type': 'short', 'entry_price': 1.30932, 'stop_loss_price': 0, 'take_profit_price': 0, 'position_size': 76.37552317233373, 'entry_time': 534, 'entry_bid': 1.30932, 'entry_ask': 1.30992, 'exit_price': 1.30992, 'exit_time': 534, 'profit': -0.04582531390339519}, {'type': 'short', 'entry_price': 1.31037, 'stop_loss_price': 0, 'take_profit_price': 0, 'position_size': 76.31432343536558, 'entry_time': 535, 'entry_bid': 1.31037, 'entry_ask': 1.31058, 'exit_price': 1.31058, 'exit_time': 535, 'profit': -0.01602600792143009}, {'type': 'short', 'entry_price': 1.31224, 'stop_loss_price': 0, 'take_profit_price': 0, 'position_size': 76.2055721514357, 'entry_time': 536, 'entry_bid': 1.31224, 'entry_ask': 1.31245, 'exit_price': 1.31245, 'exit_time': 536, 'profit': -0.016003170151787892}, {'type': 'short', 'entry_price': 1.30944, 'stop_loss_price': 0, 'take_profit_price': 0, 'position_size': 76.36852394916912, 'entry_time': 537, 'entry_bid': 1.30944, 'entry_ask': 1.30962, 'exit_price': 1.30962, 'exit_time': 537, 'profit': -0.01374633431085571}, {'type': 'short', 'entry_price': 1.30507, 'stop_loss_price': 0, 'take_profit_price': 0, 'position_size': 76.6242423778035, 'entry_time': 538, 'entry_bid': 1.30507, 'entry_ask': 1.30524, 'exit_price': 1.30524, 'exit_time': 538, 'profit': -0.013026121204226861}, {'type': 'short', 'entry_price': 1.30571, 'stop_loss_price': 0, 'take_profit_price': 0, 'position_size': 76.58668463900867, 'entry_time': 539, 'entry_bid': 1.30571, 'entry_ask': 1.30589, 'exit_price': 1.30589, 'exit_time': 539, 'profit': -0.013785603235026844}, {'type': 'short', 'entry_price': 1.30701, 'stop_loss_price': 0, 'take_profit_price': 0, 'position_size': 76.51050871837246, 'entry_time': 540, 'entry_bid': 1.30701, 'entry_ask': 1.30761, 'exit_price': 1.30761, 'exit_time': 540, 'profit': -0.04590630523101842}, {'type': 'short', 'entry_price': 1.30733, 'stop_loss_price': 0, 'take_profit_price': 0, 'position_size': 76.49178095813605, 'entry_time': 541, 'entry_bid': 1.30733, 'entry_ask': 1.30754, 'exit_price': 1.30754, 'exit_time': 541, 'profit': -0.01606327400119491}, {'type': 'short', 'entry_price': 1.30727, 'stop_loss_price': 0, 'take_profit_price': 0, 'position_size': 76.49529171479496, 'entry_time': 542, 'entry_bid': 1.30727, 'entry_ask': 1.30746, 'exit_price': 1.30746, 'exit_time': 542, 'profit': -0.014534105425821332}, {'type': 'short', 'entry_price': 1.30415, 'stop_loss_price': 0, 'take_profit_price': 0, 'position_size': 76.67829620825826, 'entry_time': 543, 'entry_bid': 1.30415, 'entry_ask': 1.30433, 'exit_price': 1.30433, 'exit_time': 543, 'profit': -0.013802093317491777}, {'type': 'short', 'entry_price': 1.30056, 'stop_loss_price': 0, 'take_profit_price': 0, 'position_size': 76.88995509626622, 'entry_time': 544, 'entry_bid': 1.30056, 'entry_ask': 1.30075, 'exit_price': 1.30075, 'exit_time': 544, 'profit': -0.014609091468300923}, {'type': 'short', 'entry_price': 1.30047, 'stop_loss_price': 0, 'take_profit_price': 0, 'position_size': 76.89527632317547, 'entry_time': 545, 'entry_bid': 1.30047, 'entry_ask': 1.30069, 'exit_price': 1.30069, 'exit_time': 545, 'profit': -0.01691696079108991}, {'type': 'short', 'entry_price': 1.3004, 'stop_loss_price': 0, 'take_profit_price': 0, 'position_size': 76.89941556444171, 'entry_time': 546, 'entry_bid': 1.3004, 'entry_ask': 1.301, 'exit_price': 1.301, 'exit_time': 546, 'profit': -0.046139649338659945}, {'type': 'short', 'entry_price': 1.30116, 'stop_loss_price': 0, 'take_profit_price': 0, 'position_size': 76.85449906237511, 'entry_time': 547, 'entry_bid': 1.30116, 'entry_ask': 1.30136, 'exit_price': 1.30136, 'exit_time': 547, 'profit': -0.01537089981247333}, {'type': 'short', 'entry_price': 1.30115, 'stop_loss_price': 0, 'take_profit_price': 0, 'position_size': 76.85508972831725, 'entry_time': 548, 'entry_bid': 1.30115, 'entry_ask': 1.30135, 'exit_price': 1.30135, 'exit_time': 548, 'profit': -0.015371017945661758}, {'type': 'short', 'entry_price': 1.29907, 'stop_loss_price': 0, 'take_profit_price': 0, 'position_size': 76.97814590437775, 'entry_time': 549, 'entry_bid': 1.29907, 'entry_ask': 1.29925, 'exit_price': 1.29925, 'exit_time': 549, 'profit': -0.013856066262793306}, {'type': 'short', 'entry_price': 1.29897, 'stop_loss_price': 0, 'take_profit_price': 0, 'position_size': 76.98407199550414, 'entry_time': 550, 'entry_bid': 1.29897, 'entry_ask': 1.29915, 'exit_price': 1.29915, 'exit_time': 550, 'profit': -0.013857132959196057}, {'type': 'short', 'entry_price': 1.30207, 'stop_loss_price': 0, 'take_profit_price': 0, 'position_size': 76.80078644005314, 'entry_time': 551, 'entry_bid': 1.30207, 'entry_ask': 1.30222, 'exit_price': 1.30222, 'exit_time': 551, 'profit': -0.011520117965998177}, {'type': 'short', 'entry_price': 1.3003, 'stop_loss_price': 0, 'take_profit_price': 0, 'position_size': 76.90532953933707, 'entry_time': 552, 'entry_bid': 1.3003, 'entry_ask': 1.3009, 'exit_price': 1.3009, 'exit_time': 552, 'profit': -0.046143197723597165}, {'type': 'short', 'entry_price': 1.3008, 'stop_loss_price': 0, 'take_profit_price': 0, 'position_size': 76.87576875768758, 'entry_time': 553, 'entry_bid': 1.3008, 'entry_ask': 1.30099, 'exit_price': 1.30099, 'exit_time': 553, 'profit': -0.01460639606397098}, {'type': 'short', 'entry_price': 1.3005, 'stop_loss_price': 0, 'take_profit_price': 0, 'position_size': 76.89350249903883, 'entry_time': 554, 'entry_bid': 1.3005, 'entry_ask': 1.3007, 'exit_price': 1.3007, 'exit_time': 554, 'profit': -0.015378700499806072}, {'type': 'short', 'entry_price': 1.30064, 'stop_loss_price': 0, 'take_profit_price': 0, 'position_size': 76.88522573502276, 'entry_time': 555, 'entry_bid': 1.30064, 'entry_ask': 1.30081, 'exit_price': 1.30081, 'exit_time': 555, 'profit': -0.013070488374954137}, {'type': 'short', 'entry_price': 1.30244, 'stop_loss_price': 0, 'take_profit_price': 0, 'position_size': 76.77896870489235, 'entry_time': 556, 'entry_bid': 1.30244, 'entry_ask': 1.30261, 'exit_price': 1.30261, 'exit_time': 556, 'profit': -0.013052424679831967}, {'type': 'short', 'entry_price': 1.30258, 'stop_loss_price': 0, 'take_profit_price': 0, 'position_size': 76.77071657786853, 'entry_time': 557, 'entry_bid': 1.30258, 'entry_ask': 1.30276, 'exit_price': 1.30276, 'exit_time': 557, 'profit': -0.013818728984004585}, {'type': 'short', 'entry_price': 1.29944, 'stop_loss_price': 0, 'take_profit_price': 0, 'position_size': 76.95622729791295, 'entry_time': 558, 'entry_bid': 1.29944, 'entry_ask': 1.30053, 'exit_price': 1.30053, 'exit_time': 558, 'profit': -0.08388228775472784}, {'type': 'short', 'entry_price': 1.30075, 'stop_loss_price': 0, 'take_profit_price': 0, 'position_size': 76.87872381318469, 'entry_time': 559, 'entry_bid': 1.30075, 'entry_ask': 1.30096, 'exit_price': 1.30096, 'exit_time': 559, 'profit': -0.01614453200075506}, {'type': 'short', 'entry_price': 1.30074, 'stop_loss_price': 0, 'take_profit_price': 0, 'position_size': 76.87931485154604, 'entry_time': 560, 'entry_bid': 1.30074, 'entry_ask': 1.30094, 'exit_price': 1.30094, 'exit_time': 560, 'profit': -0.015375862970307515}, {'type': 'short', 'entry_price': 1.3008, 'stop_loss_price': 0, 'take_profit_price': 0, 'position_size': 76.87576875768758, 'entry_time': 561, 'entry_bid': 1.3008, 'entry_ask': 1.30097, 'exit_price': 1.30097, 'exit_time': 561, 'profit': -0.013068880688807157}, {'type': 'short', 'entry_price': 1.30315, 'stop_loss_price': 0, 'take_profit_price': 0, 'position_size': 76.73713693742086, 'entry_time': 562, 'entry_bid': 1.30315, 'entry_ask': 1.30332, 'exit_price': 1.30332, 'exit_time': 562, 'profit': -0.013045313279361813}, {'type': 'short', 'entry_price': 1.29467, 'stop_loss_price': 0, 'take_profit_price': 0, 'position_size': 77.23975993882611, 'entry_time': 563, 'entry_bid': 1.29467, 'entry_ask': 1.29484, 'exit_price': 1.29484, 'exit_time': 563, 'profit': -0.013130759189600707}, {'type': 'short', 'entry_price': 1.29549, 'stop_loss_price': 0, 'take_profit_price': 0, 'position_size': 77.1908698639125, 'entry_time': 564, 'entry_bid': 1.29549, 'entry_ask': 1.29609, 'exit_price': 1.29609, 'exit_time': 564, 'profit': -0.0463145219183424}, {'type': 'short', 'entry_price': 1.29657, 'stop_loss_price': 0, 'take_profit_price': 0, 'position_size': 77.12657241799518, 'entry_time': 565, 'entry_bid': 1.29657, 'entry_ask': 1.2968, 'exit_price': 1.2968, 'exit_time': 565, 'profit': -0.017739111656135224}, {'type': 'short', 'entry_price': 1.2958, 'stop_loss_price': 0, 'take_profit_price': 0, 'position_size': 77.17240314863405, 'entry_time': 566, 'entry_bid': 1.2958, 'entry_ask': 1.29601, 'exit_price': 1.29601, 'exit_time': 566, 'profit': -0.016206204661216507}, {'type': 'short', 'entry_price': 1.29481, 'stop_loss_price': 0, 'take_profit_price': 0, 'position_size': 77.23140846919625, 'entry_time': 567, 'entry_bid': 1.29481, 'entry_ask': 1.29507, 'exit_price': 1.29507, 'exit_time': 567, 'profit': -0.020080166201985383}, {'type': 'short', 'entry_price': 1.2928, 'stop_loss_price': 0, 'take_profit_price': 0, 'position_size': 77.35148514851485, 'entry_time': 568, 'entry_bid': 1.2928, 'entry_ask': 1.29298, 'exit_price': 1.29298, 'exit_time': 568, 'profit': -0.013923267326738011}, {'type': 'short', 'entry_price': 1.29156, 'stop_loss_price': 0, 'take_profit_price': 0, 'position_size': 77.42574870698999, 'entry_time': 569, 'entry_bid': 1.29156, 'entry_ask': 1.29173, 'exit_price': 1.29173, 'exit_time': 569, 'profit': -0.013162377280188568}, {'type': 'short', 'entry_price': 1.29023, 'stop_loss_price': 0, 'take_profit_price': 0, 'position_size': 77.50556102400347, 'entry_time': 570, 'entry_bid': 1.29023, 'entry_ask': 1.29083, 'exit_price': 1.29083, 'exit_time': 570, 'profit': -0.04650333661439696}, {'type': 'short', 'entry_price': 1.29106, 'stop_loss_price': 0, 'take_profit_price': 0, 'position_size': 77.45573404799157, 'entry_time': 571, 'entry_bid': 1.29106, 'entry_ask': 1.29126, 'exit_price': 1.29126, 'exit_time': 571, 'profit': -0.015491146809596608}, {'type': 'short', 'entry_price': 1.29118, 'stop_loss_price': 0, 'take_profit_price': 0, 'position_size': 77.44853544819468, 'entry_time': 572, 'entry_bid': 1.29118, 'entry_ask': 1.29138, 'exit_price': 1.29138, 'exit_time': 572, 'profit': -0.01548970708963723}, {'type': 'short', 'entry_price': 1.2913, 'stop_loss_price': 0, 'take_profit_price': 0, 'position_size': 77.44133818632386, 'entry_time': 573, 'entry_bid': 1.2913, 'entry_ask': 1.2915, 'exit_price': 1.2915, 'exit_time': 573, 'profit': -0.015488267637280262}, {'type': 'short', 'entry_price': 1.28575, 'stop_loss_price': 0, 'take_profit_price': 0, 'position_size': 77.77561734396267, 'entry_time': 574, 'entry_bid': 1.28575, 'entry_ask': 1.28592, 'exit_price': 1.28592, 'exit_time': 574, 'profit': -0.013221854948473924}, {'type': 'short', 'entry_price': 1.28632, 'stop_loss_price': 0, 'take_profit_price': 0, 'position_size': 77.74115305678214, 'entry_time': 575, 'entry_bid': 1.28632, 'entry_ask': 1.28648, 'exit_price': 1.28648, 'exit_time': 575, 'profit': -0.012438584489097583}, {'type': 'short', 'entry_price': 1.28391, 'stop_loss_price': 0, 'take_profit_price': 0, 'position_size': 77.88707931241285, 'entry_time': 576, 'entry_bid': 1.28391, 'entry_ask': 1.28451, 'exit_price': 1.28451, 'exit_time': 576, 'profit': -0.046732247587442564}, {'type': 'short', 'entry_price': 1.28461, 'stop_loss_price': 0, 'take_profit_price': 0, 'position_size': 77.84463767213396, 'entry_time': 577, 'entry_bid': 1.28461, 'entry_ask': 1.28484, 'exit_price': 1.28484, 'exit_time': 577, 'profit': -0.01790426666458711}, {'type': 'short', 'entry_price': 1.28496, 'stop_loss_price': 0, 'take_profit_price': 0, 'position_size': 77.82343419250404, 'entry_time': 578, 'entry_bid': 1.28496, 'entry_ask': 1.28517, 'exit_price': 1.28517, 'exit_time': 578, 'profit': -0.016342921180411953}, {'type': 'short', 'entry_price': 1.28354, 'stop_loss_price': 0, 'take_profit_price': 0, 'position_size': 77.90953145207786, 'entry_time': 579, 'entry_bid': 1.28354, 'entry_ask': 1.28373, 'exit_price': 1.28373, 'exit_time': 579, 'profit': -0.014802810975905273}, {'type': 'short', 'entry_price': 1.27955, 'stop_loss_price': 0, 'take_profit_price': 0, 'position_size': 78.15247547966082, 'entry_time': 580, 'entry_bid': 1.27955, 'entry_ask': 1.27974, 'exit_price': 1.27974, 'exit_time': 580, 'profit': -0.014848970341146068}, {'type': 'short', 'entry_price': 1.27949, 'stop_loss_price': 0, 'take_profit_price': 0, 'position_size': 78.15614033716558, 'entry_time': 581, 'entry_bid': 1.27949, 'entry_ask': 1.27965, 'exit_price': 1.27965, 'exit_time': 581, 'profit': -0.012504982453941644}, {'type': 'short', 'entry_price': 1.27945, 'stop_loss_price': 0, 'take_profit_price': 0, 'position_size': 78.15858376646216, 'entry_time': 582, 'entry_bid': 1.27945, 'entry_ask': 1.28005, 'exit_price': 1.28005, 'exit_time': 582, 'profit': -0.04689515025987213}, {'type': 'short', 'entry_price': 1.27839, 'stop_loss_price': 0, 'take_profit_price': 0, 'position_size': 78.22339035818491, 'entry_time': 583, 'entry_bid': 1.27839, 'entry_ask': 1.27859, 'exit_price': 1.27859, 'exit_time': 583, 'profit': -0.01564467807163526}, {'type': 'short', 'entry_price': 1.2791, 'stop_loss_price': 0, 'take_profit_price': 0, 'position_size': 78.1799702916113, 'entry_time': 584, 'entry_bid': 1.2791, 'entry_ask': 1.27929, 'exit_price': 1.27929, 'exit_time': 584, 'profit': -0.014854194355416662}, {'type': 'short', 'entry_price': 1.27815, 'stop_loss_price': 0, 'take_profit_price': 0, 'position_size': 78.23807847279271, 'entry_time': 585, 'entry_bid': 1.27815, 'entry_ask': 1.27834, 'exit_price': 1.27834, 'exit_time': 585, 'profit': -0.014865234909841138}, {'type': 'short', 'entry_price': 1.2751, 'stop_loss_price': 0, 'take_profit_price': 0, 'position_size': 78.42522155125089, 'entry_time': 586, 'entry_bid': 1.2751, 'entry_ask': 1.27529, 'exit_price': 1.27529, 'exit_time': 586, 'profit': -0.014900792094748217}, {'type': 'short', 'entry_price': 1.27298, 'stop_loss_price': 0, 'take_profit_price': 0, 'position_size': 78.5558296281167, 'entry_time': 587, 'entry_bid': 1.27298, 'entry_ask': 1.27315, 'exit_price': 1.27315, 'exit_time': 587, 'profit': -0.013354491036780112}, {'type': 'short', 'entry_price': 1.27133, 'stop_loss_price': 0, 'take_profit_price': 0, 'position_size': 78.65778358097425, 'entry_time': 588, 'entry_bid': 1.27133, 'entry_ask': 1.27242, 'exit_price': 1.27242, 'exit_time': 588, 'profit': -0.08573698410326472}, {'type': 'short', 'entry_price': 1.27378, 'stop_loss_price': 0, 'take_profit_price': 0, 'position_size': 78.50649248692868, 'entry_time': 589, 'entry_bid': 1.27378, 'entry_ask': 1.27398, 'exit_price': 1.27398, 'exit_time': 589, 'profit': -0.015701298497384008}, {'type': 'short', 'entry_price': 1.2733, 'stop_loss_price': 0, 'take_profit_price': 0, 'position_size': 78.53608733212911, 'entry_time': 590, 'entry_bid': 1.2733, 'entry_ask': 1.27351, 'exit_price': 1.27351, 'exit_time': 590, 'profit': -0.01649257833973309}, {'type': 'short', 'entry_price': 1.2744, 'stop_loss_price': 0, 'take_profit_price': 0, 'position_size': 78.46829880728185, 'entry_time': 591, 'entry_bid': 1.2744, 'entry_ask': 1.27457, 'exit_price': 1.27457, 'exit_time': 591, 'profit': -0.013339610797238189}, {'type': 'short', 'entry_price': 1.2735, 'stop_loss_price': 0, 'take_profit_price': 0, 'position_size': 78.5237534354142, 'entry_time': 592, 'entry_bid': 1.2735, 'entry_ask': 1.27367, 'exit_price': 1.27367, 'exit_time': 592, 'profit': -0.013349038084020689}, {'type': 'short', 'entry_price': 1.2722, 'stop_loss_price': 0, 'take_profit_price': 0, 'position_size': 78.6039930828486, 'entry_time': 593, 'entry_bid': 1.2722, 'entry_ask': 1.27237, 'exit_price': 1.27237, 'exit_time': 593, 'profit': -0.013362678824084536}, {'type': 'short', 'entry_price': 1.27201, 'stop_loss_price': 0, 'take_profit_price': 0, 'position_size': 78.61573415303339, 'entry_time': 594, 'entry_bid': 1.27201, 'entry_ask': 1.27261, 'exit_price': 1.27261, 'exit_time': 594, 'profit': -0.04716944049181484}, {'type': 'short', 'entry_price': 1.27263, 'stop_loss_price': 0, 'take_profit_price': 0, 'position_size': 78.57743413246584, 'entry_time': 595, 'entry_bid': 1.27263, 'entry_ask': 1.27283, 'exit_price': 1.27283, 'exit_time': 595, 'profit': -0.01571548682649144}, {'type': 'short', 'entry_price': 1.27227, 'stop_loss_price': 0, 'take_profit_price': 0, 'position_size': 78.59966830939973, 'entry_time': 596, 'entry_bid': 1.27227, 'entry_ask': 1.27243, 'exit_price': 1.27243, 'exit_time': 596, 'profit': -0.012575946929499081}, {'type': 'short', 'entry_price': 1.26942, 'stop_loss_price': 0, 'take_profit_price': 0, 'position_size': 78.77613398244868, 'entry_time': 597, 'entry_bid': 1.26942, 'entry_ask': 1.26958, 'exit_price': 1.26958, 'exit_time': 597, 'profit': -0.012604181437186904}, {'type': 'short', 'entry_price': 1.27362, 'stop_loss_price': 0, 'take_profit_price': 0, 'position_size': 78.51635495673749, 'entry_time': 598, 'entry_bid': 1.27362, 'entry_ask': 1.27379, 'exit_price': 1.27379, 'exit_time': 598, 'profit': -0.013347780342645646}, {'type': 'short', 'entry_price': 1.27288, 'stop_loss_price': 0, 'take_profit_price': 0, 'position_size': 78.56200113129282, 'entry_time': 599, 'entry_bid': 1.27288, 'entry_ask': 1.27306, 'exit_price': 1.27306, 'exit_time': 599, 'profit': -0.014141160203638127}, {'type': 'short', 'entry_price': 1.27026, 'stop_loss_price': 0, 'take_profit_price': 0, 'position_size': 78.72404074756349, 'entry_time': 600, 'entry_bid': 1.27026, 'entry_ask': 1.27086, 'exit_price': 1.27086, 'exit_time': 600, 'profit': -0.047234424448550374}, {'type': 'short', 'entry_price': 1.27143, 'stop_loss_price': 0, 'take_profit_price': 0, 'position_size': 78.6515970206775, 'entry_time': 601, 'entry_bid': 1.27143, 'entry_ask': 1.27164, 'exit_price': 1.27164, 'exit_time': 601, 'profit': -0.016516835374345694}, {'type': 'short', 'entry_price': 1.27125, 'stop_loss_price': 0, 'take_profit_price': 0, 'position_size': 78.66273352999016, 'entry_time': 602, 'entry_bid': 1.27125, 'entry_ask': 1.27142, 'exit_price': 1.27142, 'exit_time': 602, 'profit': -0.013372664700098602}, {'type': 'short', 'entry_price': 1.26622, 'stop_loss_price': 0, 'take_profit_price': 0, 'position_size': 78.97521757672443, 'entry_time': 603, 'entry_bid': 1.26622, 'entry_ask': 1.2664, 'exit_price': 1.2664, 'exit_time': 603, 'profit': -0.014215539163815847}, {'type': 'short', 'entry_price': 1.26542, 'stop_loss_price': 0, 'take_profit_price': 0, 'position_size': 79.025145801394, 'entry_time': 604, 'entry_bid': 1.26542, 'entry_ask': 1.26558, 'exit_price': 1.26558, 'exit_time': 604, 'profit': -0.01264402332821814}, {'type': 'short', 'entry_price': 1.26742, 'stop_loss_price': 0, 'take_profit_price': 0, 'position_size': 78.90044342049202, 'entry_time': 605, 'entry_bid': 1.26742, 'entry_ask': 1.26758, 'exit_price': 1.26758, 'exit_time': 605, 'profit': -0.01262407094727383}, {'type': 'short', 'entry_price': 1.26583, 'stop_loss_price': 0, 'take_profit_price': 0, 'position_size': 78.9995497025667, 'entry_time': 606, 'entry_bid': 1.26583, 'entry_ask': 1.26643, 'exit_price': 1.26643, 'exit_time': 606, 'profit': -0.0473997298215348}, {'type': 'short', 'entry_price': 1.26536, 'stop_loss_price': 0, 'take_profit_price': 0, 'position_size': 79.02889296326737, 'entry_time': 607, 'entry_bid': 1.26536, 'entry_ask': 1.26555, 'exit_price': 1.26555, 'exit_time': 607, 'profit': -0.015015489663013882}, {'type': 'short', 'entry_price': 1.26447, 'stop_loss_price': 0, 'take_profit_price': 0, 'position_size': 79.08451762398475, 'entry_time': 608, 'entry_bid': 1.26447, 'entry_ask': 1.26465, 'exit_price': 1.26465, 'exit_time': 608, 'profit': -0.014235213172322712}, {'type': 'short', 'entry_price': 1.26246, 'stop_loss_price': 0, 'take_profit_price': 0, 'position_size': 79.21043042947896, 'entry_time': 609, 'entry_bid': 1.26246, 'entry_ask': 1.26264, 'exit_price': 1.26264, 'exit_time': 609, 'profit': -0.014257877477311678}, {'type': 'short', 'entry_price': 1.26421, 'stop_loss_price': 0, 'take_profit_price': 0, 'position_size': 79.10078230673702, 'entry_time': 610, 'entry_bid': 1.26421, 'entry_ask': 1.26436, 'exit_price': 1.26436, 'exit_time': 610, 'profit': -0.011865117346000464}, {'type': 'short', 'entry_price': 1.26769, 'stop_loss_price': 0, 'take_profit_price': 0, 'position_size': 78.88363874448801, 'entry_time': 611, 'entry_bid': 1.26769, 'entry_ask': 1.26784, 'exit_price': 1.26784, 'exit_time': 611, 'profit': -0.011832545811680657}, {'type': 'short', 'entry_price': 1.26555, 'stop_loss_price': 0, 'take_profit_price': 0, 'position_size': 79.01702816957055, 'entry_time': 612, 'entry_bid': 1.26555, 'entry_ask': 1.26615, 'exit_price': 1.26615, 'exit_time': 612, 'profit': -0.047410216901754655}, {'type': 'short', 'entry_price': 1.26604, 'stop_loss_price': 0, 'take_profit_price': 0, 'position_size': 78.98644592587911, 'entry_time': 613, 'entry_bid': 1.26604, 'entry_ask': 1.26624, 'exit_price': 1.26624, 'exit_time': 613, 'profit': -0.015797289185174083}, {'type': 'short', 'entry_price': 1.26596, 'stop_loss_price': 0, 'take_profit_price': 0, 'position_size': 78.99143732819363, 'entry_time': 614, 'entry_bid': 1.26596, 'entry_ask': 1.26613, 'exit_price': 1.26613, 'exit_time': 614, 'profit': -0.013428544345793192}, {'type': 'short', 'entry_price': 1.26879, 'stop_loss_price': 0, 'take_profit_price': 0, 'position_size': 78.81524917441025, 'entry_time': 615, 'entry_bid': 1.26879, 'entry_ask': 1.26899, 'exit_price': 1.26899, 'exit_time': 615, 'profit': -0.015763049834880315}, {'type': 'short', 'entry_price': 1.26697, 'stop_loss_price': 0, 'take_profit_price': 0, 'position_size': 78.92846713023987, 'entry_time': 616, 'entry_bid': 1.26697, 'entry_ask': 1.26714, 'exit_price': 1.26714, 'exit_time': 616, 'profit': -0.013417839412141051}, {'type': 'short', 'entry_price': 1.27134, 'stop_loss_price': 0, 'take_profit_price': 0, 'position_size': 78.65716488114903, 'entry_time': 617, 'entry_bid': 1.27134, 'entry_ask': 1.27152, 'exit_price': 1.27152, 'exit_time': 617, 'profit': -0.014158289678612252}, {'type': 'short', 'entry_price': 1.2709, 'stop_loss_price': 0, 'take_profit_price': 0, 'position_size': 78.6843968840979, 'entry_time': 618, 'entry_bid': 1.2709, 'entry_ask': 1.27171, 'exit_price': 1.27171, 'exit_time': 618, 'profit': -0.06373436147611751}, {'type': 'short', 'entry_price': 1.27266, 'stop_loss_price': 0, 'take_profit_price': 0, 'position_size': 78.57558185218362, 'entry_time': 619, 'entry_bid': 1.27266, 'entry_ask': 1.27285, 'exit_price': 1.27285, 'exit_time': 619, 'profit': -0.014929360551925456}, {'type': 'short', 'entry_price': 1.27302, 'stop_loss_price': 0, 'take_profit_price': 0, 'position_size': 78.55336129832995, 'entry_time': 620, 'entry_bid': 1.27302, 'entry_ask': 1.27323, 'exit_price': 1.27323, 'exit_time': 620, 'profit': -0.016496205872652703}, {'type': 'short', 'entry_price': 1.27053, 'stop_loss_price': 0, 'take_profit_price': 0, 'position_size': 78.70731112213014, 'entry_time': 621, 'entry_bid': 1.27053, 'entry_ask': 1.2707, 'exit_price': 1.2707, 'exit_time': 621, 'profit': -0.013380242890762397}, {'type': 'short', 'entry_price': 1.26765, 'stop_loss_price': 0, 'take_profit_price': 0, 'position_size': 78.88612787441329, 'entry_time': 622, 'entry_bid': 1.26765, 'entry_ask': 1.26786, 'exit_price': 1.26786, 'exit_time': 622, 'profit': -0.016566086853630223}, {'type': 'short', 'entry_price': 1.26804, 'stop_loss_price': 0, 'take_profit_price': 0, 'position_size': 78.86186555629159, 'entry_time': 623, 'entry_bid': 1.26804, 'entry_ask': 1.26823, 'exit_price': 1.26823, 'exit_time': 623, 'profit': -0.0149837544556885}, {'type': 'short', 'entry_price': 1.26778, 'stop_loss_price': 0, 'take_profit_price': 0, 'position_size': 78.87803877644387, 'entry_time': 624, 'entry_bid': 1.26778, 'entry_ask': 1.26838, 'exit_price': 1.26838, 'exit_time': 624, 'profit': -0.04732682326587863}, {'type': 'short', 'entry_price': 1.26792, 'stop_loss_price': 0, 'take_profit_price': 0, 'position_size': 78.86932929522368, 'entry_time': 625, 'entry_bid': 1.26792, 'entry_ask': 1.26811, 'exit_price': 1.26811, 'exit_time': 625, 'profit': -0.014985172566103107}, {'type': 'short', 'entry_price': 1.26721, 'stop_loss_price': 0, 'take_profit_price': 0, 'position_size': 78.9135186748842, 'entry_time': 626, 'entry_bid': 1.26721, 'entry_ask': 1.26739, 'exit_price': 1.26739, 'exit_time': 626, 'profit': -0.014204433361484602}, {'type': 'short', 'entry_price': 1.26702, 'stop_loss_price': 0, 'take_profit_price': 0, 'position_size': 78.92535240169848, 'entry_time': 627, 'entry_bid': 1.26702, 'entry_ask': 1.26719, 'exit_price': 1.26719, 'exit_time': 627, 'profit': -0.013417309908289016}, {'type': 'short', 'entry_price': 1.2669, 'stop_loss_price': 0, 'take_profit_price': 0, 'position_size': 78.9328281632331, 'entry_time': 628, 'entry_bid': 1.2669, 'entry_ask': 1.26709, 'exit_price': 1.26709, 'exit_time': 628, 'profit': -0.014997237351024905}, {'type': 'short', 'entry_price': 1.26651, 'stop_loss_price': 0, 'take_profit_price': 0, 'position_size': 78.9571341718581, 'entry_time': 629, 'entry_bid': 1.26651, 'entry_ask': 1.26668, 'exit_price': 1.26668, 'exit_time': 629, 'profit': -0.013422712809216152}, {'type': 'short', 'entry_price': 1.26495, 'stop_loss_price': 0, 'take_profit_price': 0, 'position_size': 79.05450808332346, 'entry_time': 630, 'entry_bid': 1.26495, 'entry_ask': 1.26555, 'exit_price': 1.26555, 'exit_time': 630, 'profit': -0.04743270484998885}, {'type': 'short', 'entry_price': 1.26566, 'stop_loss_price': 0, 'take_profit_price': 0, 'position_size': 79.01016070666688, 'entry_time': 631, 'entry_bid': 1.26566, 'entry_ask': 1.26582, 'exit_price': 1.26582, 'exit_time': 631, 'profit': -0.0126416257130618}, {'type': 'short', 'entry_price': 1.26578, 'stop_loss_price': 0, 'take_profit_price': 0, 'position_size': 79.00267029025582, 'entry_time': 632, 'entry_bid': 1.26578, 'entry_ask': 1.26596, 'exit_price': 1.26596, 'exit_time': 632, 'profit': -0.014220480652251498}, {'type': 'short', 'entry_price': 1.26416, 'stop_loss_price': 0, 'take_profit_price': 0, 'position_size': 79.10391089735477, 'entry_time': 633, 'entry_bid': 1.26416, 'entry_ask': 1.26433, 'exit_price': 1.26433, 'exit_time': 633, 'profit': -0.013447664852550585}, {'type': 'short', 'entry_price': 1.26548, 'stop_loss_price': 0, 'take_profit_price': 0, 'position_size': 79.02139899484781, 'entry_time': 634, 'entry_bid': 1.26548, 'entry_ask': 1.26566, 'exit_price': 1.26566, 'exit_time': 634, 'profit': -0.014223851819078058}, {'type': 'short', 'entry_price': 1.26186, 'stop_loss_price': 0, 'take_profit_price': 0, 'position_size': 79.24809408333729, 'entry_time': 635, 'entry_bid': 1.26186, 'entry_ask': 1.26202, 'exit_price': 1.26202, 'exit_time': 635, 'profit': -0.01267969505332905}, {'type': 'short', 'entry_price': 1.26235, 'stop_loss_price': 0, 'take_profit_price': 0, 'position_size': 79.21733275240622, 'entry_time': 636, 'entry_bid': 1.26235, 'entry_ask': 1.26295, 'exit_price': 1.26295, 'exit_time': 636, 'profit': -0.0475303996514385}, {'type': 'short', 'entry_price': 1.26243, 'stop_loss_price': 0, 'take_profit_price': 0, 'position_size': 79.21231276189572, 'entry_time': 637, 'entry_bid': 1.26243, 'entry_ask': 1.26263, 'exit_price': 1.26263, 'exit_time': 637, 'profit': -0.0158424625523774}, {'type': 'short', 'entry_price': 1.26339, 'stop_loss_price': 0, 'take_profit_price': 0, 'position_size': 79.15212246416388, 'entry_time': 638, 'entry_bid': 1.26339, 'entry_ask': 1.26357, 'exit_price': 1.26357, 'exit_time': 638, 'profit': -0.01424738204355496}, {'type': 'short', 'entry_price': 1.26262, 'stop_loss_price': 0, 'take_profit_price': 0, 'position_size': 79.20039283394846, 'entry_time': 639, 'entry_bid': 1.26262, 'entry_ask': 1.26277, 'exit_price': 1.26277, 'exit_time': 639, 'profit': -0.011880058925082168}, {'type': 'short', 'entry_price': 1.26184, 'stop_loss_price': 0, 'take_profit_price': 0, 'position_size': 79.24935015532873, 'entry_time': 640, 'entry_bid': 1.26184, 'entry_ask': 1.262, 'exit_price': 1.262, 'exit_time': 640, 'profit': -0.01267989602484768}, {'type': 'short', 'entry_price': 1.26108, 'stop_loss_price': 0, 'take_profit_price': 0, 'position_size': 79.29711041329654, 'entry_time': 641, 'entry_bid': 1.26108, 'entry_ask': 1.26123, 'exit_price': 1.26123, 'exit_time': 641, 'profit': -0.011894566562001975}, {'type': 'short', 'entry_price': 1.26055, 'stop_loss_price': 0, 'take_profit_price': 0, 'position_size': 79.3304509936139, 'entry_time': 642, 'entry_bid': 1.26055, 'entry_ask': 1.26115, 'exit_price': 1.26115, 'exit_time': 642, 'profit': -0.047598270596163096}, {'type': 'short', 'entry_price': 1.26084, 'stop_loss_price': 0, 'take_profit_price': 0, 'position_size': 79.312204562038, 'entry_time': 643, 'entry_bid': 1.26084, 'entry_ask': 1.26102, 'exit_price': 1.26102, 'exit_time': 643, 'profit': -0.014276196821172312}, {'type': 'short', 'entry_price': 1.2607, 'stop_loss_price': 0, 'take_profit_price': 0, 'position_size': 79.32101213611486, 'entry_time': 644, 'entry_bid': 1.2607, 'entry_ask': 1.26084, 'exit_price': 1.26084, 'exit_time': 644, 'profit': -0.011104941699058379}, {'type': 'short', 'entry_price': 1.26141, 'stop_loss_price': 0, 'take_profit_price': 0, 'position_size': 79.27636533720202, 'entry_time': 645, 'entry_bid': 1.26141, 'entry_ask': 1.26158, 'exit_price': 1.26158, 'exit_time': 645, 'profit': -0.01347698210732462}, {'type': 'short', 'entry_price': 1.25819, 'stop_loss_price': 0, 'take_profit_price': 0, 'position_size': 79.47925194128074, 'entry_time': 646, 'entry_bid': 1.25819, 'entry_ask': 1.25836, 'exit_price': 1.25836, 'exit_time': 646, 'profit': -0.013511472830018002}, {'type': 'short', 'entry_price': 1.26277, 'stop_loss_price': 0, 'take_profit_price': 0, 'position_size': 79.19098489827918, 'entry_time': 647, 'entry_bid': 1.26277, 'entry_ask': 1.26294, 'exit_price': 1.26294, 'exit_time': 647, 'profit': -0.013462467432707736}, {'type': 'short', 'entry_price': 1.26262, 'stop_loss_price': 0, 'take_profit_price': 0, 'position_size': 79.20039283394846, 'entry_time': 648, 'entry_bid': 1.26262, 'entry_ask': 1.26371, 'exit_price': 1.26371, 'exit_time': 648, 'profit': -0.08632842818900661}, {'type': 'short', 'entry_price': 1.26464, 'stop_loss_price': 0, 'take_profit_price': 0, 'position_size': 79.07388663967612, 'entry_time': 649, 'entry_bid': 1.26464, 'entry_ask': 1.26482, 'exit_price': 1.26482, 'exit_time': 649, 'profit': -0.014233299595147157}, {'type': 'short', 'entry_price': 1.26409, 'stop_loss_price': 0, 'take_profit_price': 0, 'position_size': 79.10829134001536, 'entry_time': 650, 'entry_bid': 1.26409, 'entry_ask': 1.26428, 'exit_price': 1.26428, 'exit_time': 650, 'profit': -0.015030575354613558}, {'type': 'short', 'entry_price': 1.26417, 'stop_loss_price': 0, 'take_profit_price': 0, 'position_size': 79.10328515943267, 'entry_time': 651, 'entry_bid': 1.26417, 'entry_ask': 1.26433, 'exit_price': 1.26433, 'exit_time': 651, 'profit': -0.01265652562550432}, {'type': 'short', 'entry_price': 1.26299, 'stop_loss_price': 0, 'take_profit_price': 0, 'position_size': 79.17719063492189, 'entry_time': 652, 'entry_bid': 1.26299, 'entry_ask': 1.26315, 'exit_price': 1.26315, 'exit_time': 652, 'profit': -0.01266835050158259}, {'type': 'short', 'entry_price': 1.26346, 'stop_loss_price': 0, 'take_profit_price': 0, 'position_size': 79.14773716619442, 'entry_time': 653, 'entry_bid': 1.26346, 'entry_ask': 1.26362, 'exit_price': 1.26362, 'exit_time': 653, 'profit': -0.012663637946586197}, {'type': 'short', 'entry_price': 1.26611, 'stop_loss_price': 0, 'take_profit_price': 0, 'position_size': 78.98207896628254, 'entry_time': 654, 'entry_bid': 1.26611, 'entry_ask': 1.26671, 'exit_price': 1.26671, 'exit_time': 654, 'profit': -0.047389247379764306}, {'type': 'short', 'entry_price': 1.26659, 'stop_loss_price': 1.2705286, 'take_profit_price': 1.25581, 'position_size': 25389.73239222121, 'entry_time': 655, 'entry_bid': 1.26659, 'entry_ask': 1.26676, 'exit_price': 1.27064, 'exit_time': 662, 'profit': -102.82841618849302}, {'type': 'short', 'entry_price': 1.27135, 'stop_loss_price': 0, 'take_profit_price': 0, 'position_size': 78.65654619105675, 'entry_time': 663, 'entry_bid': 1.27135, 'entry_ask': 1.27152, 'exit_price': 1.27152, 'exit_time': 663, 'profit': -0.013371612852479921}, {'type': 'short', 'entry_price': 1.27327, 'stop_loss_price': 0, 'take_profit_price': 0, 'position_size': 78.53793775083055, 'entry_time': 664, 'entry_bid': 1.27327, 'entry_ask': 1.27345, 'exit_price': 1.27345, 'exit_time': 664, 'profit': -0.014136828795154918}, {'type': 'short', 'entry_price': 1.26903, 'stop_loss_price': 0, 'take_profit_price': 0, 'position_size': 78.80034356949795, 'entry_time': 665, 'entry_bid': 1.26903, 'entry_ask': 1.26916, 'exit_price': 1.26916, 'exit_time': 665, 'profit': -0.010244044664031856}, {'type': 'short', 'entry_price': 1.26792, 'stop_loss_price': 0, 'take_profit_price': 0, 'position_size': 78.86932929522368, 'entry_time': 666, 'entry_bid': 1.26792, 'entry_ask': 1.26852, 'exit_price': 1.26852, 'exit_time': 666, 'profit': -0.04732159757714651}, {'type': 'short', 'entry_price': 1.2684, 'stop_loss_price': 0, 'take_profit_price': 0, 'position_size': 78.83948281299274, 'entry_time': 667, 'entry_bid': 1.2684, 'entry_ask': 1.26858, 'exit_price': 1.26858, 'exit_time': 667, 'profit': -0.014191106906344134}, {'type': 'short', 'entry_price': 1.26876, 'stop_loss_price': 0, 'take_profit_price': 0, 'position_size': 78.81711277152495, 'entry_time': 668, 'entry_bid': 1.26876, 'entry_ask': 1.26897, 'exit_price': 1.26897, 'exit_time': 668, 'profit': -0.016551593682006167}, {'type': 'short', 'entry_price': 1.26809, 'stop_loss_price': 0, 'take_profit_price': 0, 'position_size': 78.85875608198157, 'entry_time': 669, 'entry_bid': 1.26809, 'entry_ask': 1.26827, 'exit_price': 1.26827, 'exit_time': 669, 'profit': -0.014194576094762122}, {'type': 'short', 'entry_price': 1.27189, 'stop_loss_price': 0, 'take_profit_price': 0, 'position_size': 78.62315137315333, 'entry_time': 670, 'entry_bid': 1.27189, 'entry_ask': 1.27207, 'exit_price': 1.27207, 'exit_time': 670, 'profit': -0.014152167247173025}, {'type': 'short', 'entry_price': 1.27095, 'stop_loss_price': 0, 'take_profit_price': 0, 'position_size': 78.68130138872496, 'entry_time': 671, 'entry_bid': 1.27095, 'entry_ask': 1.27111, 'exit_price': 1.27111, 'exit_time': 671, 'profit': -0.012589008222191113}, {'type': 'short', 'entry_price': 1.26907, 'stop_loss_price': 0, 'take_profit_price': 0, 'position_size': 78.79785985012647, 'entry_time': 672, 'entry_bid': 1.26907, 'entry_ask': 1.26967, 'exit_price': 1.26967, 'exit_time': 672, 'profit': -0.04727871591008817}, {'type': 'short', 'entry_price': 1.26911, 'stop_loss_price': 0, 'take_profit_price': 0, 'position_size': 78.79537628731946, 'entry_time': 673, 'entry_bid': 1.26911, 'entry_ask': 1.26931, 'exit_price': 1.26931, 'exit_time': 673, 'profit': -0.015759075257462157}, {'type': 'short', 'entry_price': 1.26952, 'stop_loss_price': 0, 'take_profit_price': 0, 'position_size': 78.76992879198437, 'entry_time': 674, 'entry_bid': 1.26952, 'entry_ask': 1.26971, 'exit_price': 1.26971, 'exit_time': 674, 'profit': -0.014966286470470136}, {'type': 'short', 'entry_price': 1.2716, 'stop_loss_price': 0, 'take_profit_price': 0, 'position_size': 78.64108210128971, 'entry_time': 675, 'entry_bid': 1.2716, 'entry_ask': 1.27175, 'exit_price': 1.27175, 'exit_time': 675, 'profit': -0.011796162315183427}, {'type': 'short', 'entry_price': 1.27424, 'stop_loss_price': 0, 'take_profit_price': 0, 'position_size': 78.47815168257156, 'entry_time': 676, 'entry_bid': 1.27424, 'entry_ask': 1.27441, 'exit_price': 1.27441, 'exit_time': 676, 'profit': -0.01334128578603744}, {'type': 'short', 'entry_price': 1.27464, 'stop_loss_price': 0, 'take_profit_price': 0, 'position_size': 78.45352413230403, 'entry_time': 677, 'entry_bid': 1.27464, 'entry_ask': 1.27482, 'exit_price': 1.27482, 'exit_time': 677, 'profit': -0.014121634343820137}, {'type': 'short', 'entry_price': 1.2732, 'stop_loss_price': 0, 'take_profit_price': 0, 'position_size': 78.54225573358467, 'entry_time': 678, 'entry_bid': 1.2732, 'entry_ask': 1.27429, 'exit_price': 1.27429, 'exit_time': 678, 'profit': -0.08561105874959263}, {'type': 'short', 'entry_price': 1.27189, 'stop_loss_price': 0, 'take_profit_price': 0, 'position_size': 78.62315137315333, 'entry_time': 679, 'entry_bid': 1.27189, 'entry_ask': 1.2721, 'exit_price': 1.2721, 'exit_time': 679, 'profit': -0.016510861788365618}, {'type': 'short', 'entry_price': 1.2709, 'stop_loss_price': 0, 'take_profit_price': 0, 'position_size': 78.6843968840979, 'entry_time': 680, 'entry_bid': 1.2709, 'entry_ask': 1.27108, 'exit_price': 1.27108, 'exit_time': 680, 'profit': -0.014163191439143049}, {'type': 'short', 'entry_price': 1.26879, 'stop_loss_price': 0, 'take_profit_price': 0, 'position_size': 78.81524917441025, 'entry_time': 681, 'entry_bid': 1.26879, 'entry_ask': 1.26895, 'exit_price': 1.26895, 'exit_time': 681, 'profit': -0.012610439867900752}, {'type': 'short', 'entry_price': 1.26746, 'stop_loss_price': 0, 'take_profit_price': 0, 'position_size': 78.89795338708913, 'entry_time': 682, 'entry_bid': 1.26746, 'entry_ask': 1.26762, 'exit_price': 1.26762, 'exit_time': 682, 'profit': -0.012623672541929367}, {'type': 'short', 'entry_price': 1.26882, 'stop_loss_price': 0, 'take_profit_price': 0, 'position_size': 78.81338566542141, 'entry_time': 683, 'entry_bid': 1.26882, 'entry_ask': 1.26898, 'exit_price': 1.26898, 'exit_time': 683, 'profit': -0.012610141706462536}, {'type': 'short', 'entry_price': 1.26833, 'stop_loss_price': 0, 'take_profit_price': 0, 'position_size': 78.84383401796063, 'entry_time': 684, 'entry_bid': 1.26833, 'entry_ask': 1.26893, 'exit_price': 1.26893, 'exit_time': 684, 'profit': -0.04730630041077117}, {'type': 'short', 'entry_price': 1.26868, 'stop_loss_price': 0, 'take_profit_price': 0, 'position_size': 78.82208279471577, 'entry_time': 685, 'entry_bid': 1.26868, 'entry_ask': 1.26883, 'exit_price': 1.26883, 'exit_time': 685, 'profit': -0.011823312419197311}, {'type': 'short', 'entry_price': 1.2682, 'stop_loss_price': 0, 'take_profit_price': 0, 'position_size': 78.85191610156127, 'entry_time': 686, 'entry_bid': 1.2682, 'entry_ask': 1.26838, 'exit_price': 1.26838, 'exit_time': 686, 'profit': -0.01419334489828647}, {'type': 'short', 'entry_price': 1.27075, 'stop_loss_price': 0, 'take_profit_price': 0, 'position_size': 78.69368483179224, 'entry_time': 687, 'entry_bid': 1.27075, 'entry_ask': 1.27091, 'exit_price': 1.27091, 'exit_time': 687, 'profit': -0.012590989573081877}, {'type': 'short', 'entry_price': 1.27145, 'stop_loss_price': 0, 'take_profit_price': 0, 'position_size': 78.65035982539621, 'entry_time': 688, 'entry_bid': 1.27145, 'entry_ask': 1.27162, 'exit_price': 1.27162, 'exit_time': 688, 'profit': -0.01337056117031763}, {'type': 'short', 'entry_price': 1.27268, 'stop_loss_price': 0, 'take_profit_price': 0, 'position_size': 78.57434704717603, 'entry_time': 689, 'entry_bid': 1.27268, 'entry_ask': 1.27283, 'exit_price': 1.27283, 'exit_time': 689, 'profit': -0.011786152057066384}, {'type': 'short', 'entry_price': 1.27207, 'stop_loss_price': 0, 'take_profit_price': 0, 'position_size': 78.61202606774785, 'entry_time': 690, 'entry_bid': 1.27207, 'entry_ask': 1.27267, 'exit_price': 1.27267, 'exit_time': 690, 'profit': -0.047167215640643516}, {'type': 'short', 'entry_price': 1.27216, 'stop_loss_price': 0, 'take_profit_price': 0, 'position_size': 78.60646459564835, 'entry_time': 691, 'entry_bid': 1.27216, 'entry_ask': 1.27235, 'exit_price': 1.27235, 'exit_time': 691, 'profit': -0.014935228273183759}, {'type': 'short', 'entry_price': 1.27199, 'stop_loss_price': 0, 'take_profit_price': 0, 'position_size': 78.61697025920016, 'entry_time': 692, 'entry_bid': 1.27199, 'entry_ask': 1.27218, 'exit_price': 1.27218, 'exit_time': 692, 'profit': -0.014937224349258605}, {'type': 'short', 'entry_price': 1.27427, 'stop_loss_price': 0, 'take_profit_price': 0, 'position_size': 78.47630407998305, 'entry_time': 693, 'entry_bid': 1.27427, 'entry_ask': 1.27443, 'exit_price': 1.27443, 'exit_time': 693, 'profit': -0.01255620865279242}, {'type': 'short', 'entry_price': 1.27401, 'stop_loss_price': 0, 'take_profit_price': 0, 'position_size': 78.49231952653432, 'entry_time': 694, 'entry_bid': 1.27401, 'entry_ask': 1.27415, 'exit_price': 1.27415, 'exit_time': 694, 'profit': -0.01098892473369965}, {'type': 'short', 'entry_price': 1.26886, 'stop_loss_price': 0, 'take_profit_price': 0, 'position_size': 78.81090112384345, 'entry_time': 695, 'entry_bid': 1.26886, 'entry_ask': 1.26902, 'exit_price': 1.26902, 'exit_time': 695, 'profit': -0.012609744179810064}, {'type': 'short', 'entry_price': 1.26856, 'stop_loss_price': 0, 'take_profit_price': 0, 'position_size': 78.8295390048559, 'entry_time': 696, 'entry_bid': 1.26856, 'entry_ask': 1.26916, 'exit_price': 1.26916, 'exit_time': 696, 'profit': -0.04729772340292584}, {'type': 'short', 'entry_price': 1.26924, 'stop_loss_price': 0, 'take_profit_price': 0, 'position_size': 78.78730578929124, 'entry_time': 697, 'entry_bid': 1.26924, 'entry_ask': 1.26942, 'exit_price': 1.26942, 'exit_time': 697, 'profit': -0.01418171504207786}, {'type': 'short', 'entry_price': 1.26904, 'stop_loss_price': 0, 'take_profit_price': 0, 'position_size': 78.79972262497637, 'entry_time': 698, 'entry_bid': 1.26904, 'entry_ask': 1.26922, 'exit_price': 1.26922, 'exit_time': 698, 'profit': -0.014183950072501183}, {'type': 'short', 'entry_price': 1.26696, 'stop_loss_price': 0, 'take_profit_price': 0, 'position_size': 78.92909010544926, 'entry_time': 699, 'entry_bid': 1.26696, 'entry_ask': 1.26713, 'exit_price': 1.26713, 'exit_time': 699, 'profit': -0.013417945317926649}, {'type': 'short', 'entry_price': 1.26916, 'stop_loss_price': 0, 'take_profit_price': 0, 'position_size': 78.79227205395695, 'entry_time': 700, 'entry_bid': 1.26916, 'entry_ask': 1.26932, 'exit_price': 1.26932, 'exit_time': 700, 'profit': -0.012606763528628225}, {'type': 'short', 'entry_price': 1.26787, 'stop_loss_price': 0, 'take_profit_price': 0, 'position_size': 78.87243960342937, 'entry_time': 701, 'entry_bid': 1.26787, 'entry_ask': 1.26802, 'exit_price': 1.26802, 'exit_time': 701, 'profit': -0.011830865940504346}, {'type': 'short', 'entry_price': 1.2671, 'stop_loss_price': 0, 'take_profit_price': 0, 'position_size': 78.92036934732855, 'entry_time': 702, 'entry_bid': 1.2671, 'entry_ask': 1.2677, 'exit_price': 1.2677, 'exit_time': 702, 'profit': -0.047352221608409434}, {'type': 'short', 'entry_price': 1.26766, 'stop_loss_price': 0, 'take_profit_price': 0, 'position_size': 78.88550557720524, 'entry_time': 703, 'entry_bid': 1.26766, 'entry_ask': 1.26783, 'exit_price': 1.26783, 'exit_time': 703, 'profit': -0.013410535948125165}, {'type': 'short', 'entry_price': 1.2674, 'stop_loss_price': 0, 'take_profit_price': 0, 'position_size': 78.90168849613381, 'entry_time': 704, 'entry_bid': 1.2674, 'entry_ask': 1.2676, 'exit_price': 1.2676, 'exit_time': 704, 'profit': -0.015780337699225024}, {'type': 'short', 'entry_price': 1.26611, 'stop_loss_price': 0, 'take_profit_price': 0, 'position_size': 78.98207896628254, 'entry_time': 705, 'entry_bid': 1.26611, 'entry_ask': 1.26627, 'exit_price': 1.26627, 'exit_time': 705, 'profit': -0.012637132634600307}, {'type': 'short', 'entry_price': 1.26196, 'stop_loss_price': 0, 'take_profit_price': 0, 'position_size': 79.24181432058069, 'entry_time': 706, 'entry_bid': 1.26196, 'entry_ask': 1.26212, 'exit_price': 1.26212, 'exit_time': 706, 'profit': -0.012678690291287995}, {'type': 'short', 'entry_price': 1.25952, 'stop_loss_price': 0, 'take_profit_price': 0, 'position_size': 79.39532520325203, 'entry_time': 707, 'entry_bid': 1.25952, 'entry_ask': 1.25969, 'exit_price': 1.25969, 'exit_time': 707, 'profit': -0.01349720528455312}, {'type': 'short', 'entry_price': 1.25846, 'stop_loss_price': 0, 'take_profit_price': 0, 'position_size': 79.46219983154015, 'entry_time': 708, 'entry_bid': 1.25846, 'entry_ask': 1.25955, 'exit_price': 1.25955, 'exit_time': 708, 'profit': -0.08661379781638157}, {'type': 'short', 'entry_price': 1.25929, 'stop_loss_price': 0, 'take_profit_price': 0, 'position_size': 79.40982617189051, 'entry_time': 709, 'entry_bid': 1.25929, 'entry_ask': 1.25949, 'exit_price': 1.25949, 'exit_time': 709, 'profit': -0.015881965234376353}, {'type': 'short', 'entry_price': 1.25936, 'stop_loss_price': 0, 'take_profit_price': 0, 'position_size': 79.40541227290052, 'entry_time': 710, 'entry_bid': 1.25936, 'entry_ask': 1.25953, 'exit_price': 1.25953, 'exit_time': 710, 'profit': -0.013498920086393364}, {'type': 'short', 'entry_price': 1.25877, 'stop_loss_price': 0, 'take_profit_price': 0, 'position_size': 79.44263050438127, 'entry_time': 711, 'entry_bid': 1.25877, 'entry_ask': 1.25892, 'exit_price': 1.25892, 'exit_time': 711, 'profit': -0.011916394575664698}, {'type': 'short', 'entry_price': 1.26007, 'stop_loss_price': 0, 'take_profit_price': 0, 'position_size': 79.36067043894387, 'entry_time': 712, 'entry_bid': 1.26007, 'entry_ask': 1.26023, 'exit_price': 1.26023, 'exit_time': 712, 'profit': -0.012697707270226096}, {'type': 'short', 'entry_price': 1.25575, 'stop_loss_price': 0, 'take_profit_price': 0, 'position_size': 79.63368504877563, 'entry_time': 713, 'entry_bid': 1.25575, 'entry_ask': 1.25594, 'exit_price': 1.25594, 'exit_time': 713, 'profit': -0.01513040015927808}, {'type': 'short', 'entry_price': 1.25308, 'stop_loss_price': 0, 'take_profit_price': 0, 'position_size': 79.80336450984774, 'entry_time': 714, 'entry_bid': 1.25308, 'entry_ask': 1.25368, 'exit_price': 1.25368, 'exit_time': 714, 'profit': -0.04788201870590337}, {'type': 'short', 'entry_price': 1.25378, 'stop_loss_price': 0, 'take_profit_price': 0, 'position_size': 79.75880936049387, 'entry_time': 715, 'entry_bid': 1.25378, 'entry_ask': 1.25398, 'exit_price': 1.25398, 'exit_time': 715, 'profit': -0.015951761872114726}, {'type': 'short', 'entry_price': 1.25342, 'stop_loss_price': 0, 'take_profit_price': 0, 'position_size': 79.78171722168148, 'entry_time': 716, 'entry_bid': 1.25342, 'entry_ask': 1.2536, 'exit_price': 1.2536, 'exit_time': 716, 'profit': -0.01436070909990817}, {'type': 'short', 'entry_price': 1.25321, 'stop_loss_price': 0, 'take_profit_price': 0, 'position_size': 79.79508621859067, 'entry_time': 717, 'entry_bid': 1.25321, 'entry_ask': 1.25341, 'exit_price': 1.25341, 'exit_time': 717, 'profit': -0.015959017243716376}, {'type': 'short', 'entry_price': 1.25224, 'stop_loss_price': 0, 'take_profit_price': 0, 'position_size': 79.8568964415767, 'entry_time': 718, 'entry_bid': 1.25224, 'entry_ask': 1.25239, 'exit_price': 1.25239, 'exit_time': 718, 'profit': -0.011978534466226319}, {'type': 'short', 'entry_price': 1.25519, 'stop_loss_price': 0, 'take_profit_price': 0, 'position_size': 79.66921342585584, 'entry_time': 719, 'entry_bid': 1.25519, 'entry_ask': 1.25535, 'exit_price': 1.25535, 'exit_time': 719, 'profit': -0.012747074148131993}, {'type': 'short', 'entry_price': 1.25546, 'stop_loss_price': 0, 'take_profit_price': 0, 'position_size': 79.65207971580138, 'entry_time': 720, 'entry_bid': 1.25546, 'entry_ask': 1.25606, 'exit_price': 1.25606, 'exit_time': 720, 'profit': -0.04779124782947557}, {'type': 'short', 'entry_price': 1.2563, 'stop_loss_price': 0, 'take_profit_price': 0, 'position_size': 79.59882193743533, 'entry_time': 721, 'entry_bid': 1.2563, 'entry_ask': 1.25649, 'exit_price': 1.25649, 'exit_time': 721, 'profit': -0.01512377616812342}, {'type': 'short', 'entry_price': 1.25568, 'stop_loss_price': 0, 'take_profit_price': 0, 'position_size': 79.63812436289501, 'entry_time': 722, 'entry_bid': 1.25568, 'entry_ask': 1.25586, 'exit_price': 1.25586, 'exit_time': 722, 'profit': -0.014334862385326597}, {'type': 'short', 'entry_price': 1.25682, 'stop_loss_price': 0, 'take_profit_price': 0, 'position_size': 79.56588851227701, 'entry_time': 723, 'entry_bid': 1.25682, 'entry_ask': 1.25699, 'exit_price': 1.25699, 'exit_time': 723, 'profit': -0.013526201047087369}, {'type': 'short', 'entry_price': 1.25929, 'stop_loss_price': 0, 'take_profit_price': 0, 'position_size': 79.40982617189051, 'entry_time': 724, 'entry_bid': 1.25929, 'entry_ask': 1.25944, 'exit_price': 1.25944, 'exit_time': 724, 'profit': -0.01191147392577345}, {'type': 'short', 'entry_price': 1.26332, 'stop_loss_price': 0, 'take_profit_price': 0, 'position_size': 79.15650824810815, 'entry_time': 725, 'entry_bid': 1.26332, 'entry_ask': 1.26348, 'exit_price': 1.26348, 'exit_time': 725, 'profit': -0.012665041319692394}, {'type': 'short', 'entry_price': 1.26392, 'stop_loss_price': 0, 'take_profit_price': 0, 'position_size': 79.11893157794798, 'entry_time': 726, 'entry_bid': 1.26392, 'entry_ask': 1.26452, 'exit_price': 1.26452, 'exit_time': 726, 'profit': -0.047471358946781124}, {'type': 'short', 'entry_price': 1.26745, 'stop_loss_price': 0, 'take_profit_price': 0, 'position_size': 78.89857588070535, 'entry_time': 727, 'entry_bid': 1.26745, 'entry_ask': 1.26763, 'exit_price': 1.26763, 'exit_time': 727, 'profit': -0.014201743658532407}, {'type': 'short', 'entry_price': 1.26783, 'stop_loss_price': 0, 'take_profit_price': 0, 'position_size': 78.87492802662817, 'entry_time': 728, 'entry_bid': 1.26783, 'entry_ask': 1.26799, 'exit_price': 1.26799, 'exit_time': 728, 'profit': -0.012619988484255615}, {'type': 'short', 'entry_price': 1.27108, 'stop_loss_price': 0, 'take_profit_price': 0, 'position_size': 78.6732542404884, 'entry_time': 729, 'entry_bid': 1.27108, 'entry_ask': 1.27125, 'exit_price': 1.27125, 'exit_time': 729, 'profit': -0.013374453220883303}, {'type': 'short', 'entry_price': 1.26828, 'stop_loss_price': 0, 'take_profit_price': 0, 'position_size': 78.846942315577, 'entry_time': 730, 'entry_bid': 1.26828, 'entry_ask': 1.26844, 'exit_price': 1.26844, 'exit_time': 730, 'profit': -0.012615510770487429}, {'type': 'short', 'entry_price': 1.27033, 'stop_loss_price': 0, 'take_profit_price': 0, 'position_size': 78.7197027544024, 'entry_time': 731, 'entry_bid': 1.27033, 'entry_ask': 1.2705, 'exit_price': 1.2705, 'exit_time': 731, 'profit': -0.013382349468248683}, {'type': 'short', 'entry_price': 1.27012, 'stop_loss_price': 0, 'take_profit_price': 0, 'position_size': 78.73271816836206, 'entry_time': 732, 'entry_bid': 1.27012, 'entry_ask': 1.27072, 'exit_price': 1.27072, 'exit_time': 732, 'profit': -0.04723963090102951}, {'type': 'short', 'entry_price': 1.27089, 'stop_loss_price': 0, 'take_profit_price': 0, 'position_size': 78.68501601240075, 'entry_time': 733, 'entry_bid': 1.27089, 'entry_ask': 1.27106, 'exit_price': 1.27106, 'exit_time': 733, 'profit': -0.013376452722108401}, {'type': 'short', 'entry_price': 1.26999, 'stop_loss_price': 0, 'take_profit_price': 0, 'position_size': 78.7407774864369, 'entry_time': 734, 'entry_bid': 1.26999, 'entry_ask': 1.27018, 'exit_price': 1.27018, 'exit_time': 734, 'profit': -0.014960747722433602}, {'type': 'short', 'entry_price': 1.2675, 'stop_loss_price': 0, 'take_profit_price': 0, 'position_size': 78.89546351084812, 'entry_time': 735, 'entry_bid': 1.2675, 'entry_ask': 1.26765, 'exit_price': 1.26765, 'exit_time': 735, 'profit': -0.011834319526617156}, {'type': 'short', 'entry_price': 1.26634, 'stop_loss_price': 0, 'take_profit_price': 0, 'position_size': 78.96773378397586, 'entry_time': 736, 'entry_bid': 1.26634, 'entry_ask': 1.2665, 'exit_price': 1.2665, 'exit_time': 736, 'profit': -0.012634837405431238}, {'type': 'short', 'entry_price': 1.27059, 'stop_loss_price': 0, 'take_profit_price': 0, 'position_size': 78.70359439315592, 'entry_time': 737, 'entry_bid': 1.27059, 'entry_ask': 1.27074, 'exit_price': 1.27074, 'exit_time': 737, 'profit': -0.011805539158963351}, {'type': 'short', 'entry_price': 1.27385, 'stop_loss_price': 0, 'take_profit_price': 0, 'position_size': 78.50217843545158, 'entry_time': 738, 'entry_bid': 1.27385, 'entry_ask': 1.27494, 'exit_price': 1.27494, 'exit_time': 738, 'profit': -0.08556737449464501}, {'type': 'short', 'entry_price': 1.27395, 'stop_loss_price': 0, 'take_profit_price': 0, 'position_size': 78.4960163271714, 'entry_time': 739, 'entry_bid': 1.27395, 'entry_ask': 1.27504, 'exit_price': 1.27504, 'exit_time': 739, 'profit': -0.0855606577966196}, {'type': 'short', 'entry_price': 1.27453, 'stop_loss_price': 0, 'take_profit_price': 0, 'position_size': 78.46029516763042, 'entry_time': 740, 'entry_bid': 1.27453, 'entry_ask': 1.2747, 'exit_price': 1.2747, 'exit_time': 740, 'profit': -0.013338250178497445}, {'type': 'short', 'entry_price': 1.27494, 'stop_loss_price': 0, 'take_profit_price': 0, 'position_size': 78.4350636108366, 'entry_time': 741, 'entry_bid': 1.27494, 'entry_ask': 1.27511, 'exit_price': 1.27511, 'exit_time': 741, 'profit': -0.013333960813842494}, {'type': 'short', 'entry_price': 1.27282, 'stop_loss_price': 0, 'take_profit_price': 0, 'position_size': 78.56570449867223, 'entry_time': 742, 'entry_bid': 1.27282, 'entry_ask': 1.27298, 'exit_price': 1.27298, 'exit_time': 742, 'profit': -0.012570512719782684}, {'type': 'short', 'entry_price': 1.27247, 'stop_loss_price': 0, 'take_profit_price': 0, 'position_size': 78.58731443570379, 'entry_time': 743, 'entry_bid': 1.27247, 'entry_ask': 1.27264, 'exit_price': 1.27264, 'exit_time': 743, 'profit': -0.013359843454069919}, {'type': 'short', 'entry_price': 1.27363, 'stop_loss_price': 0, 'take_profit_price': 0, 'position_size': 78.51573847977826, 'entry_time': 744, 'entry_bid': 1.27363, 'entry_ask': 1.27379, 'exit_price': 1.27379, 'exit_time': 744, 'profit': -0.012562518156759652}, {'type': 'short', 'entry_price': 1.2738, 'stop_loss_price': 0, 'take_profit_price': 0, 'position_size': 78.5052598524101, 'entry_time': 745, 'entry_bid': 1.2738, 'entry_ask': 1.2744, 'exit_price': 1.2744, 'exit_time': 745, 'profit': -0.047103155911440875}, {'type': 'short', 'entry_price': 1.27421, 'stop_loss_price': 0, 'take_profit_price': 0, 'position_size': 78.47999937216, 'entry_time': 746, 'entry_bid': 1.27421, 'entry_ask': 1.27437, 'exit_price': 1.27437, 'exit_time': 746, 'profit': -0.01255679989954073}, {'type': 'short', 'entry_price': 1.27491, 'stop_loss_price': 0, 'take_profit_price': 0, 'position_size': 78.43690927202705, 'entry_time': 747, 'entry_bid': 1.27491, 'entry_ask': 1.27507, 'exit_price': 1.27507, 'exit_time': 747, 'profit': -0.012549905483519462}, {'type': 'short', 'entry_price': 1.2762, 'stop_loss_price': 0, 'take_profit_price': 0, 'position_size': 78.35762419683435, 'entry_time': 748, 'entry_bid': 1.2762, 'entry_ask': 1.27637, 'exit_price': 1.27637, 'exit_time': 748, 'profit': -0.013320796113462112}, {'type': 'short', 'entry_price': 1.27252, 'stop_loss_price': 0, 'take_profit_price': 0, 'position_size': 78.58422657404205, 'entry_time': 749, 'entry_bid': 1.27252, 'entry_ask': 1.2727, 'exit_price': 1.2727, 'exit_time': 749, 'profit': -0.014145160783315541}, {'type': 'short', 'entry_price': 1.26926, 'stop_loss_price': 0, 'take_profit_price': 0, 'position_size': 78.78606432094291, 'entry_time': 750, 'entry_bid': 1.26926, 'entry_ask': 1.26943, 'exit_price': 1.26943, 'exit_time': 750, 'profit': -0.01339363093456057}, {'type': 'short', 'entry_price': 1.26852, 'stop_loss_price': 0, 'take_profit_price': 0, 'position_size': 78.83202472172295, 'entry_time': 751, 'entry_bid': 1.26852, 'entry_ask': 1.26912, 'exit_price': 1.26912, 'exit_time': 751, 'profit': -0.047299214833028555}, {'type': 'short', 'entry_price': 1.26842, 'stop_loss_price': 0, 'take_profit_price': 0, 'position_size': 78.83823969978398, 'entry_time': 752, 'entry_bid': 1.26842, 'entry_ask': 1.26863, 'exit_price': 1.26863, 'exit_time': 752, 'profit': -0.016556030336940558}, {'type': 'short', 'entry_price': 1.2674, 'stop_loss_price': 0, 'take_profit_price': 0, 'position_size': 78.90168849613381, 'entry_time': 753, 'entry_bid': 1.2674, 'entry_ask': 1.26758, 'exit_price': 1.26758, 'exit_time': 753, 'profit': -0.01420230392929201}, {'type': 'short', 'entry_price': 1.26721, 'stop_loss_price': 0, 'take_profit_price': 0, 'position_size': 78.9135186748842, 'entry_time': 754, 'entry_bid': 1.26721, 'entry_ask': 1.26738, 'exit_price': 1.26738, 'exit_time': 754, 'profit': -0.013415298174730588}, {'type': 'short', 'entry_price': 1.26687, 'stop_loss_price': 0, 'take_profit_price': 0, 'position_size': 78.93469732490311, 'entry_time': 755, 'entry_bid': 1.26687, 'entry_ask': 1.26704, 'exit_price': 1.26704, 'exit_time': 755, 'profit': -0.013418898545233805}, {'type': 'short', 'entry_price': 1.26972, 'stop_loss_price': 0, 'take_profit_price': 0, 'position_size': 78.75752134328829, 'entry_time': 756, 'entry_bid': 1.26972, 'entry_ask': 1.26986, 'exit_price': 1.26986, 'exit_time': 756, 'profit': -0.011026052988062644}, {'type': 'short', 'entry_price': 1.2684, 'stop_loss_price': 0, 'take_profit_price': 0, 'position_size': 78.83948281299274, 'entry_time': 757, 'entry_bid': 1.2684, 'entry_ask': 1.269, 'exit_price': 1.269, 'exit_time': 757, 'profit': -0.04730368968779044}, {'type': 'short', 'entry_price': 1.26962, 'stop_loss_price': 0, 'take_profit_price': 0, 'position_size': 78.7637245790079, 'entry_time': 758, 'entry_bid': 1.26962, 'entry_ask': 1.26981, 'exit_price': 1.26981, 'exit_time': 758, 'profit': -0.014965107670022095}, {'type': 'short', 'entry_price': 1.26833, 'stop_loss_price': 0, 'take_profit_price': 0, 'position_size': 78.84383401796063, 'entry_time': 759, 'entry_bid': 1.26833, 'entry_ask': 1.26851, 'exit_price': 1.26851, 'exit_time': 759, 'profit': -0.014191890123238354}, {'type': 'short', 'entry_price': 1.26964, 'stop_loss_price': 0, 'take_profit_price': 0, 'position_size': 78.76248385369081, 'entry_time': 760, 'entry_bid': 1.26964, 'entry_ask': 1.26979, 'exit_price': 1.26979, 'exit_time': 760, 'profit': -0.011814372578043577}, {'type': 'short', 'entry_price': 1.27097, 'stop_loss_price': 0, 'take_profit_price': 0, 'position_size': 78.68006325877086, 'entry_time': 761, 'entry_bid': 1.27097, 'entry_ask': 1.27114, 'exit_price': 1.27114, 'exit_time': 761, 'profit': -0.01337561075399132}, {'type': 'short', 'entry_price': 1.26777, 'stop_loss_price': 0, 'take_profit_price': 0, 'position_size': 78.87866095585161, 'entry_time': 762, 'entry_bid': 1.26777, 'entry_ask': 1.26792, 'exit_price': 1.26792, 'exit_time': 762, 'profit': -0.011831799143367681}, {'type': 'short', 'entry_price': 1.26683, 'stop_loss_price': 0, 'take_profit_price': 0, 'position_size': 78.93718967817308, 'entry_time': 763, 'entry_bid': 1.26683, 'entry_ask': 1.26743, 'exit_price': 1.26743, 'exit_time': 763, 'profit': -0.04736231380691616}, {'type': 'short', 'entry_price': 1.26753, 'stop_loss_price': 0, 'take_profit_price': 0, 'position_size': 78.89359620679589, 'entry_time': 764, 'entry_bid': 1.26753, 'entry_ask': 1.2677, 'exit_price': 1.2677, 'exit_time': 764, 'profit': -0.013411911355155575}, {'type': 'short', 'entry_price': 1.26704, 'stop_loss_price': 0, 'take_profit_price': 0, 'position_size': 78.92410657911353, 'entry_time': 765, 'entry_bid': 1.26704, 'entry_ask': 1.26721, 'exit_price': 1.26721, 'exit_time': 765, 'profit': -0.013417098118449574}, {'type': 'short', 'entry_price': 1.26768, 'stop_loss_price': 0, 'take_profit_price': 0, 'position_size': 78.88426101224285, 'entry_time': 766, 'entry_bid': 1.26768, 'entry_ask': 1.26787, 'exit_price': 1.26787, 'exit_time': 766, 'profit': -0.014988009592336751}, {'type': 'short', 'entry_price': 1.27041, 'stop_loss_price': 0, 'take_profit_price': 0, 'position_size': 78.71474563329949, 'entry_time': 767, 'entry_bid': 1.27041, 'entry_ask': 1.27057, 'exit_price': 1.27057, 'exit_time': 767, 'profit': -0.012594359301323035}, {'type': 'short', 'entry_price': 1.26941, 'stop_loss_price': 0, 'take_profit_price': 0, 'position_size': 78.77675455526584, 'entry_time': 768, 'entry_bid': 1.26941, 'entry_ask': 1.26959, 'exit_price': 1.26959, 'exit_time': 768, 'profit': -0.014179815819953286}, {'type': 'short', 'entry_price': 1.26918, 'stop_loss_price': 0, 'take_profit_price': 0, 'position_size': 78.79103042909595, 'entry_time': 769, 'entry_bid': 1.26918, 'entry_ask': 1.27027, 'exit_price': 1.27027, 'exit_time': 769, 'profit': -0.08588222316771738}, {'type': 'short', 'entry_price': 1.26874, 'stop_loss_price': 0, 'take_profit_price': 0, 'position_size': 78.8183552185633, 'entry_time': 770, 'entry_bid': 1.26874, 'entry_ask': 1.26892, 'exit_price': 1.26892, 'exit_time': 770, 'profit': -0.014187303939346831}, {'type': 'short', 'entry_price': 1.26998, 'stop_loss_price': 0, 'take_profit_price': 0, 'position_size': 78.74139750232287, 'entry_time': 771, 'entry_bid': 1.26998, 'entry_ask': 1.27014, 'exit_price': 1.27014, 'exit_time': 771, 'profit': -0.012598623600366775}, {'type': 'short', 'entry_price': 1.26429, 'stop_loss_price': 0, 'take_profit_price': 0, 'position_size': 79.0957770764619, 'entry_time': 772, 'entry_bid': 1.26429, 'entry_ask': 1.2645, 'exit_price': 1.2645, 'exit_time': 772, 'profit': -0.016610113186060437}, {'type': 'short', 'entry_price': 1.2654, 'stop_loss_price': 0, 'take_profit_price': 0, 'position_size': 79.0263948158685, 'entry_time': 773, 'entry_bid': 1.2654, 'entry_ask': 1.26556, 'exit_price': 1.26556, 'exit_time': 773, 'profit': -0.012644223170534059}, {'type': 'short', 'entry_price': 1.26344, 'stop_loss_price': 0, 'take_profit_price': 0, 'position_size': 79.14899005888685, 'entry_time': 774, 'entry_bid': 1.26344, 'entry_ask': 1.26364, 'exit_price': 1.26364, 'exit_time': 774, 'profit': -0.0158297980117932}, {'type': 'short', 'entry_price': 1.26363, 'stop_loss_price': 0, 'take_profit_price': 0, 'position_size': 79.1370891795858, 'entry_time': 775, 'entry_bid': 1.26363, 'entry_ask': 1.26423, 'exit_price': 1.26423, 'exit_time': 775, 'profit': -0.04748225350774625}, {'type': 'short', 'entry_price': 1.26427, 'stop_loss_price': 0, 'take_profit_price': 0, 'position_size': 79.09702832464585, 'entry_time': 776, 'entry_bid': 1.26427, 'entry_ask': 1.26445, 'exit_price': 1.26445, 'exit_time': 776, 'profit': -0.01423746509844171}, {'type': 'short', 'entry_price': 1.2637, 'stop_loss_price': 0, 'take_profit_price': 0, 'position_size': 79.13270554720266, 'entry_time': 777, 'entry_bid': 1.2637, 'entry_ask': 1.26387, 'exit_price': 1.26387, 'exit_time': 777, 'profit': -0.013452559943024727}, {'type': 'short', 'entry_price': 1.26169, 'stop_loss_price': 0, 'take_profit_price': 0, 'position_size': 79.25877196458718, 'entry_time': 778, 'entry_bid': 1.26169, 'entry_ask': 1.26186, 'exit_price': 1.26186, 'exit_time': 778, 'profit': -0.013473991233980097}, {'type': 'short', 'entry_price': 1.26282, 'stop_loss_price': 0, 'take_profit_price': 0, 'position_size': 79.18784941638555, 'entry_time': 779, 'entry_bid': 1.26282, 'entry_ask': 1.26298, 'exit_price': 1.26298, 'exit_time': 779, 'profit': -0.012670055906616776}, {'type': 'short', 'entry_price': 1.26144, 'stop_loss_price': 0, 'take_profit_price': 0, 'position_size': 79.27447995941148, 'entry_time': 780, 'entry_bid': 1.26144, 'entry_ask': 1.26158, 'exit_price': 1.26158, 'exit_time': 780, 'profit': -0.011098427194319905}, {'type': 'short', 'entry_price': 1.25908, 'stop_loss_price': 0, 'take_profit_price': 0, 'position_size': 79.42307081360994, 'entry_time': 781, 'entry_bid': 1.25908, 'entry_ask': 1.25968, 'exit_price': 1.25968, 'exit_time': 781, 'profit': -0.047653842488160715}, {'type': 'short', 'entry_price': 1.2598, 'stop_loss_price': 0, 'take_profit_price': 0, 'position_size': 79.37767899666613, 'entry_time': 782, 'entry_bid': 1.2598, 'entry_ask': 1.25997, 'exit_price': 1.25997, 'exit_time': 782, 'profit': -0.013494205429433519}, {'type': 'short', 'entry_price': 1.25878, 'stop_loss_price': 0, 'take_profit_price': 0, 'position_size': 79.4419993962408, 'entry_time': 783, 'entry_bid': 1.25878, 'entry_ask': 1.25895, 'exit_price': 1.25895, 'exit_time': 783, 'profit': -0.013505139897361212}, {'type': 'short', 'entry_price': 1.25781, 'stop_loss_price': 0, 'take_profit_price': 0, 'position_size': 79.50326360897114, 'entry_time': 784, 'entry_bid': 1.25781, 'entry_ask': 1.25799, 'exit_price': 1.25799, 'exit_time': 784, 'profit': -0.014310587449602638}, {'type': 'short', 'entry_price': 1.25678, 'stop_loss_price': 0, 'take_profit_price': 0, 'position_size': 79.56842088511911, 'entry_time': 785, 'entry_bid': 1.25678, 'entry_ask': 1.25694, 'exit_price': 1.25694, 'exit_time': 785, 'profit': -0.012730947341614122}, {'type': 'short', 'entry_price': 1.25738, 'stop_loss_price': 0, 'take_profit_price': 0, 'position_size': 79.53045221015127, 'entry_time': 786, 'entry_bid': 1.25738, 'entry_ask': 1.25755, 'exit_price': 1.25755, 'exit_time': 786, 'profit': -0.013520176875725992}, {'type': 'short', 'entry_price': 1.25699, 'stop_loss_price': 0, 'take_profit_price': 0, 'position_size': 79.55512772575756, 'entry_time': 787, 'entry_bid': 1.25699, 'entry_ask': 1.25759, 'exit_price': 1.25759, 'exit_time': 787, 'profit': -0.047733076635449276}, {'type': 'short', 'entry_price': 1.25803, 'stop_loss_price': 0, 'take_profit_price': 0, 'position_size': 79.48936034911728, 'entry_time': 788, 'entry_bid': 1.25803, 'entry_ask': 1.25821, 'exit_price': 1.25821, 'exit_time': 788, 'profit': -0.014308084862846595}, {'type': 'short', 'entry_price': 1.25849, 'stop_loss_price': 0, 'take_profit_price': 0, 'position_size': 79.46030560433535, 'entry_time': 789, 'entry_bid': 1.25849, 'entry_ask': 1.25868, 'exit_price': 1.25868, 'exit_time': 789, 'profit': -0.01509745806481676}, {'type': 'short', 'entry_price': 1.2579, 'stop_loss_price': 0, 'take_profit_price': 0, 'position_size': 79.49757532395262, 'entry_time': 790, 'entry_bid': 1.2579, 'entry_ask': 1.25807, 'exit_price': 1.25807, 'exit_time': 790, 'profit': -0.013514587805072222}, {'type': 'short', 'entry_price': 1.25795, 'stop_loss_price': 0, 'take_profit_price': 0, 'position_size': 79.49441551730992, 'entry_time': 791, 'entry_bid': 1.25795, 'entry_ask': 1.2581, 'exit_price': 1.2581, 'exit_time': 791, 'profit': -0.011924162327604}, {'type': 'short', 'entry_price': 1.25818, 'stop_loss_price': 0, 'take_profit_price': 0, 'position_size': 79.47988364145034, 'entry_time': 792, 'entry_bid': 1.25818, 'entry_ask': 1.25855, 'exit_price': 1.25855, 'exit_time': 792, 'profit': -0.029407556947335153}, {'type': 'short', 'entry_price': 1.25761, 'stop_loss_price': 0, 'take_profit_price': 0, 'position_size': 79.5159071572268, 'entry_time': 793, 'entry_bid': 1.25761, 'entry_ask': 1.25821, 'exit_price': 1.25821, 'exit_time': 793, 'profit': -0.04770954429434848}, {'type': 'short', 'entry_price': 1.25756, 'stop_loss_price': 0, 'take_profit_price': 0, 'position_size': 79.5190686726677, 'entry_time': 794, 'entry_bid': 1.25756, 'entry_ask': 1.25774, 'exit_price': 1.25774, 'exit_time': 794, 'profit': -0.014313432361085673}, {'type': 'short', 'entry_price': 1.25816, 'stop_loss_price': 0, 'take_profit_price': 0, 'position_size': 79.48114707191455, 'entry_time': 795, 'entry_bid': 1.25816, 'entry_ask': 1.25834, 'exit_price': 1.25834, 'exit_time': 795, 'profit': -0.014306606472950102}, {'type': 'short', 'entry_price': 1.25546, 'stop_loss_price': 0, 'take_profit_price': 0, 'position_size': 79.65207971580138, 'entry_time': 796, 'entry_bid': 1.25546, 'entry_ask': 1.25563, 'exit_price': 1.25563, 'exit_time': 796, 'profit': -0.013540853551686511}, {'type': 'short', 'entry_price': 1.25228, 'stop_loss_price': 0, 'take_profit_price': 0, 'position_size': 79.85434567349155, 'entry_time': 797, 'entry_bid': 1.25228, 'entry_ask': 1.25246, 'exit_price': 1.25246, 'exit_time': 797, 'profit': -0.014373782221216257}, {'type': 'short', 'entry_price': 1.25106, 'stop_loss_price': 0, 'take_profit_price': 0, 'position_size': 79.93221747957732, 'entry_time': 798, 'entry_bid': 1.25106, 'entry_ask': 1.25121, 'exit_price': 1.25121, 'exit_time': 798, 'profit': -0.011989832621926403}, {'type': 'short', 'entry_price': 1.25205, 'stop_loss_price': 0, 'take_profit_price': 0, 'position_size': 79.86901481570224, 'entry_time': 799, 'entry_bid': 1.25205, 'entry_ask': 1.25314, 'exit_price': 1.25314, 'exit_time': 799, 'profit': -0.08705722614910054}, {'type': 'short', 'entry_price': 1.25251, 'stop_loss_price': 0, 'take_profit_price': 0, 'position_size': 79.83968191870723, 'entry_time': 800, 'entry_bid': 1.25251, 'entry_ask': 1.25268, 'exit_price': 1.25268, 'exit_time': 800, 'profit': -0.013572745926180506}, {'type': 'short', 'entry_price': 1.25291, 'stop_loss_price': 0, 'take_profit_price': 0, 'position_size': 79.81419255972096, 'entry_time': 801, 'entry_bid': 1.25291, 'entry_ask': 1.25311, 'exit_price': 1.25311, 'exit_time': 801, 'profit': -0.015962838511942436}, {'type': 'short', 'entry_price': 1.25325, 'stop_loss_price': 0, 'take_profit_price': 0, 'position_size': 79.79253939756633, 'entry_time': 802, 'entry_bid': 1.25325, 'entry_ask': 1.25342, 'exit_price': 1.25342, 'exit_time': 802, 'profit': -0.013564731697586555}, {'type': 'short', 'entry_price': 1.25234, 'stop_loss_price': 0, 'take_profit_price': 0, 'position_size': 79.85051982688407, 'entry_time': 803, 'entry_bid': 1.25234, 'entry_ask': 1.2525, 'exit_price': 1.2525, 'exit_time': 803, 'profit': -0.012776083172296497}, {'type': 'short', 'entry_price': 1.25163, 'stop_loss_price': 0, 'take_profit_price': 0, 'position_size': 79.89581585612362, 'entry_time': 804, 'entry_bid': 1.25163, 'entry_ask': 1.25179, 'exit_price': 1.25179, 'exit_time': 804, 'profit': -0.012783330536974823}, {'type': 'short', 'entry_price': 1.25144, 'stop_loss_price': 0, 'take_profit_price': 0, 'position_size': 79.90794604615482, 'entry_time': 805, 'entry_bid': 1.25144, 'entry_ask': 1.25204, 'exit_price': 1.25204, 'exit_time': 805, 'profit': -0.04794476762768761}, {'type': 'short', 'entry_price': 1.25139, 'stop_loss_price': 0, 'take_profit_price': 0, 'position_size': 79.91113881363923, 'entry_time': 806, 'entry_bid': 1.25139, 'entry_ask': 1.25156, 'exit_price': 1.25156, 'exit_time': 806, 'profit': -0.013584893598318947}, {'type': 'short', 'entry_price': 1.25114, 'stop_loss_price': 0, 'take_profit_price': 0, 'position_size': 79.92710647889126, 'entry_time': 807, 'entry_bid': 1.25114, 'entry_ask': 1.25133, 'exit_price': 1.25133, 'exit_time': 807, 'profit': -0.01518615023100009}, {'type': 'short', 'entry_price': 1.24696, 'stop_loss_price': 0, 'take_profit_price': 0, 'position_size': 80.19503432347469, 'entry_time': 808, 'entry_bid': 1.24696, 'entry_ask': 1.24713, 'exit_price': 1.24713, 'exit_time': 808, 'profit': -0.013633155834990977}, {'type': 'short', 'entry_price': 1.24495, 'stop_loss_price': 0, 'take_profit_price': 0, 'position_size': 80.32451102453913, 'entry_time': 809, 'entry_bid': 1.24495, 'entry_ask': 1.24512, 'exit_price': 1.24512, 'exit_time': 809, 'profit': -0.013655166874171933}, {'type': 'short', 'entry_price': 1.24666, 'stop_loss_price': 0, 'take_profit_price': 0, 'position_size': 80.21433269696628, 'entry_time': 810, 'entry_bid': 1.24666, 'entry_ask': 1.24682, 'exit_price': 1.24682, 'exit_time': 810, 'profit': -0.01283429323150963}, {'type': 'short', 'entry_price': 1.24591, 'stop_loss_price': 0, 'take_profit_price': 0, 'position_size': 80.26261929031791, 'entry_time': 811, 'entry_bid': 1.24591, 'entry_ask': 1.24651, 'exit_price': 1.24651, 'exit_time': 811, 'profit': -0.048157571574185445}, {'type': 'short', 'entry_price': 1.24568, 'stop_loss_price': 0, 'take_profit_price': 0, 'position_size': 80.27743882859161, 'entry_time': 812, 'entry_bid': 1.24568, 'entry_ask': 1.24586, 'exit_price': 1.24586, 'exit_time': 812, 'profit': -0.014449938989152028}, {'type': 'short', 'entry_price': 1.24541, 'stop_loss_price': 0, 'take_profit_price': 0, 'position_size': 80.2948426622558, 'entry_time': 813, 'entry_bid': 1.24541, 'entry_ask': 1.24557, 'exit_price': 1.24557, 'exit_time': 813, 'profit': -0.012847174825973777}, {'type': 'short', 'entry_price': 1.24795, 'stop_loss_price': 0, 'take_profit_price': 0, 'position_size': 80.1314155214552, 'entry_time': 814, 'entry_bid': 1.24795, 'entry_ask': 1.24815, 'exit_price': 1.24815, 'exit_time': 814, 'profit': -0.016026283104307065}, {'type': 'short', 'entry_price': 1.25154, 'stop_loss_price': 0, 'take_profit_price': 0, 'position_size': 79.90156127650734, 'entry_time': 815, 'entry_bid': 1.25154, 'entry_ask': 1.25169, 'exit_price': 1.25169, 'exit_time': 815, 'profit': -0.01198523419146591}, {'type': 'short', 'entry_price': 1.25129, 'stop_loss_price': 0, 'take_profit_price': 0, 'position_size': 79.91752511408227, 'entry_time': 816, 'entry_bid': 1.25129, 'entry_ask': 1.25144, 'exit_price': 1.25144, 'exit_time': 816, 'profit': -0.011987628767119892}, {'type': 'short', 'entry_price': 1.25026, 'stop_loss_price': 0, 'take_profit_price': 0, 'position_size': 79.98336346040024, 'entry_time': 817, 'entry_bid': 1.25026, 'entry_ask': 1.25086, 'exit_price': 1.25086, 'exit_time': 817, 'profit': -0.04799001807625262}, {'type': 'short', 'entry_price': 1.25093, 'stop_loss_price': 0, 'take_profit_price': 0, 'position_size': 79.94052424995803, 'entry_time': 818, 'entry_bid': 1.25093, 'entry_ask': 1.2511, 'exit_price': 1.2511, 'exit_time': 818, 'profit': -0.013589889122493143}, {'type': 'short', 'entry_price': 1.25346, 'stop_loss_price': 0, 'take_profit_price': 0, 'position_size': 79.77917125396901, 'entry_time': 819, 'entry_bid': 1.25346, 'entry_ask': 1.25362, 'exit_price': 1.25362, 'exit_time': 819, 'profit': -0.012764667400630094}, {'type': 'short', 'entry_price': 1.25337, 'stop_loss_price': 0, 'take_profit_price': 0, 'position_size': 79.78489990984306, 'entry_time': 820, 'entry_bid': 1.25337, 'entry_ask': 1.25354, 'exit_price': 1.25354, 'exit_time': 820, 'profit': -0.013563432984673598}, {'type': 'short', 'entry_price': 1.25615, 'stop_loss_price': 0, 'take_profit_price': 0, 'position_size': 79.60832703100743, 'entry_time': 821, 'entry_bid': 1.25615, 'entry_ask': 1.2563, 'exit_price': 1.2563, 'exit_time': 821, 'profit': -0.011941249054640961}, {'type': 'short', 'entry_price': 1.25195, 'stop_loss_price': 0, 'take_profit_price': 0, 'position_size': 79.87539438475979, 'entry_time': 822, 'entry_bid': 1.25195, 'entry_ask': 1.25213, 'exit_price': 1.25213, 'exit_time': 822, 'profit': -0.014377570989262272}, {'type': 'short', 'entry_price': 1.25229, 'stop_loss_price': 0, 'take_profit_price': 0, 'position_size': 79.85370800693131, 'entry_time': 823, 'entry_bid': 1.25229, 'entry_ask': 1.25289, 'exit_price': 1.25289, 'exit_time': 823, 'profit': -0.04791222480417124}, {'type': 'short', 'entry_price': 1.253, 'stop_loss_price': 1.2557148, 'take_profit_price': 1.24389, 'position_size': 36835.1259761291, 'entry_time': 824, 'entry_bid': 1.253, 'entry_ask': 1.25319, 'exit_price': 1.25678, 'exit_time': 828, 'profit': -139.23677618977229}, {'type': 'short', 'entry_price': 1.25693, 'stop_loss_price': 0, 'take_profit_price': 0, 'position_size': 79.5589253180368, 'entry_time': 829, 'entry_bid': 1.25693, 'entry_ask': 1.25802, 'exit_price': 1.25802, 'exit_time': 829, 'profit': -0.08671922859664526}, {'type': 'short', 'entry_price': 1.25678, 'stop_loss_price': 0, 'take_profit_price': 0, 'position_size': 79.56842088511911, 'entry_time': 830, 'entry_bid': 1.25678, 'entry_ask': 1.25697, 'exit_price': 1.25697, 'exit_time': 830, 'profit': -0.015117999968165666}, {'type': 'short', 'entry_price': 1.2566, 'stop_loss_price': 0, 'take_profit_price': 0, 'position_size': 79.57981855801368, 'entry_time': 831, 'entry_bid': 1.2566, 'entry_ask': 1.25679, 'exit_price': 1.25679, 'exit_time': 831, 'profit': -0.015120165526033303}, {'type': 'short', 'entry_price': 1.25514, 'stop_loss_price': 0, 'take_profit_price': 0, 'position_size': 79.67238714406362, 'entry_time': 832, 'entry_bid': 1.25514, 'entry_ask': 1.25531, 'exit_price': 1.25531, 'exit_time': 832, 'profit': -0.013544305814491092}, {'type': 'short', 'entry_price': 1.25311, 'stop_loss_price': 0, 'take_profit_price': 0, 'position_size': 79.80145398249157, 'entry_time': 833, 'entry_bid': 1.25311, 'entry_ask': 1.25327, 'exit_price': 1.25327, 'exit_time': 833, 'profit': -0.01276823263721142}, {'type': 'short', 'entry_price': 1.25109, 'stop_loss_price': 0, 'take_profit_price': 0, 'position_size': 79.93030077772183, 'entry_time': 834, 'entry_bid': 1.25109, 'entry_ask': 1.25125, 'exit_price': 1.25125, 'exit_time': 834, 'profit': -0.012788848124430534}, {'type': 'short', 'entry_price': 1.25132, 'stop_loss_price': 0, 'take_profit_price': 0, 'position_size': 79.91560911677269, 'entry_time': 835, 'entry_bid': 1.25132, 'entry_ask': 1.25192, 'exit_price': 1.25192, 'exit_time': 835, 'profit': -0.04794936547005833}, {'type': 'short', 'entry_price': 1.25143, 'stop_loss_price': 0, 'take_profit_price': 0, 'position_size': 79.90858457924135, 'entry_time': 836, 'entry_bid': 1.25143, 'entry_ask': 1.25161, 'exit_price': 1.25161, 'exit_time': 836, 'profit': -0.014383545224251212}, {'type': 'short', 'entry_price': 1.25153, 'stop_loss_price': 0, 'take_profit_price': 0, 'position_size': 79.90219970755794, 'entry_time': 837, 'entry_bid': 1.25153, 'entry_ask': 1.25168, 'exit_price': 1.25168, 'exit_time': 837, 'profit': -0.011985329956123501}, {'type': 'short', 'entry_price': 1.2467, 'stop_loss_price': 0, 'take_profit_price': 0, 'position_size': 80.21175904387584, 'entry_time': 838, 'entry_bid': 1.2467, 'entry_ask': 1.24696, 'exit_price': 1.24696, 'exit_time': 838, 'profit': -0.02085505735141967}, {'type': 'short', 'entry_price': 1.24259, 'stop_loss_price': 0, 'take_profit_price': 0, 'position_size': 80.47706805945646, 'entry_time': 839, 'entry_bid': 1.24259, 'entry_ask': 1.24275, 'exit_price': 1.24275, 'exit_time': 839, 'profit': -0.01287633088950804}, {'type': 'short', 'entry_price': 1.24167, 'stop_loss_price': 0, 'take_profit_price': 0, 'position_size': 80.53669654578108, 'entry_time': 840, 'entry_bid': 1.24167, 'entry_ask': 1.24188, 'exit_price': 1.24188, 'exit_time': 840, 'profit': -0.01691270627461753}, {'type': 'short', 'entry_price': 1.24033, 'stop_loss_price': 0, 'take_profit_price': 0, 'position_size': 80.62370498173874, 'entry_time': 841, 'entry_bid': 1.24033, 'entry_ask': 1.24093, 'exit_price': 1.24093, 'exit_time': 841, 'profit': -0.04837422298905582}, {'type': 'short', 'entry_price': 1.24073, 'stop_loss_price': 0, 'take_profit_price': 0, 'position_size': 80.59771263691536, 'entry_time': 842, 'entry_bid': 1.24073, 'entry_ask': 1.24094, 'exit_price': 1.24094, 'exit_time': 842, 'profit': -0.016925519653737835}, {'type': 'short', 'entry_price': 1.2419, 'stop_loss_price': 0, 'take_profit_price': 0, 'position_size': 80.52178114179885, 'entry_time': 843, 'entry_bid': 1.2419, 'entry_ask': 1.24209, 'exit_price': 1.24209, 'exit_time': 843, 'profit': -0.015299138416934734}, {'type': 'short', 'entry_price': 1.2402, 'stop_loss_price': 0, 'take_profit_price': 0, 'position_size': 80.63215610385421, 'entry_time': 844, 'entry_bid': 1.2402, 'entry_ask': 1.24038, 'exit_price': 1.24038, 'exit_time': 844, 'profit': -0.014513788098699321}, {'type': 'short', 'entry_price': 1.2407, 'stop_loss_price': 0, 'take_profit_price': 0, 'position_size': 80.59966148142179, 'entry_time': 845, 'entry_bid': 1.2407, 'entry_ask': 1.24087, 'exit_price': 1.24087, 'exit_time': 845, 'profit': -0.013701942451841986}, {'type': 'short', 'entry_price': 1.2448, 'stop_loss_price': 0, 'take_profit_price': 0, 'position_size': 80.33419023136247, 'entry_time': 846, 'entry_bid': 1.2448, 'entry_ask': 1.24493, 'exit_price': 1.24493, 'exit_time': 846, 'profit': -0.010443444730092025}, {'type': 'short', 'entry_price': 1.24296, 'stop_loss_price': 0, 'take_profit_price': 0, 'position_size': 80.4531119263693, 'entry_time': 847, 'entry_bid': 1.24296, 'entry_ask': 1.24356, 'exit_price': 1.24356, 'exit_time': 847, 'profit': -0.048271867155816266}, {'type': 'short', 'entry_price': 1.24326, 'stop_loss_price': 0, 'take_profit_price': 0, 'position_size': 80.43369850232453, 'entry_time': 848, 'entry_bid': 1.24326, 'entry_ask': 1.24343, 'exit_price': 1.24343, 'exit_time': 848, 'profit': -0.01367372874539545}, {'type': 'short', 'entry_price': 1.24373, 'stop_loss_price': 0, 'take_profit_price': 0, 'position_size': 80.40330296768592, 'entry_time': 849, 'entry_bid': 1.24373, 'entry_ask': 1.24393, 'exit_price': 1.24393, 'exit_time': 849, 'profit': -0.016080660593535412}, {'type': 'short', 'entry_price': 1.24793, 'stop_loss_price': 0, 'take_profit_price': 0, 'position_size': 80.13269975078731, 'entry_time': 850, 'entry_bid': 1.24793, 'entry_ask': 1.2481, 'exit_price': 1.2481, 'exit_time': 850, 'profit': -0.013622558957634121}, {'type': 'short', 'entry_price': 1.24753, 'stop_loss_price': 0, 'take_profit_price': 0, 'position_size': 80.15839298453744, 'entry_time': 851, 'entry_bid': 1.24753, 'entry_ask': 1.24769, 'exit_price': 1.24769, 'exit_time': 851, 'profit': -0.01282534287752102}, {'type': 'short', 'entry_price': 1.24785, 'stop_loss_price': 0, 'take_profit_price': 0, 'position_size': 80.13783707977723, 'entry_time': 852, 'entry_bid': 1.24785, 'entry_ask': 1.24798, 'exit_price': 1.24798, 'exit_time': 852, 'profit': -0.010417918820385907}, {'type': 'short', 'entry_price': 1.25457, 'stop_loss_price': 0, 'take_profit_price': 0, 'position_size': 79.7085854117347, 'entry_time': 853, 'entry_bid': 1.25457, 'entry_ask': 1.25517, 'exit_price': 1.25517, 'exit_time': 853, 'profit': -0.047825151247035555}, {'type': 'short', 'entry_price': 1.25472, 'stop_loss_price': 0, 'take_profit_price': 0, 'position_size': 79.69905636317266, 'entry_time': 854, 'entry_bid': 1.25472, 'entry_ask': 1.25488, 'exit_price': 1.25488, 'exit_time': 854, 'profit': -0.012751849018102682}, {'type': 'short', 'entry_price': 1.25369, 'stop_loss_price': 0, 'take_profit_price': 0, 'position_size': 79.76453509240721, 'entry_time': 855, 'entry_bid': 1.25369, 'entry_ask': 1.25387, 'exit_price': 1.25387, 'exit_time': 855, 'profit': -0.014357616316638802}, {'type': 'short', 'entry_price': 1.25134, 'stop_loss_price': 0, 'take_profit_price': 0, 'position_size': 79.91433183627153, 'entry_time': 856, 'entry_bid': 1.25134, 'entry_ask': 1.25149, 'exit_price': 1.25149, 'exit_time': 856, 'profit': -0.011987149775448281}, {'type': 'short', 'entry_price': 1.25132, 'stop_loss_price': 0, 'take_profit_price': 0, 'position_size': 79.91560911677269, 'entry_time': 857, 'entry_bid': 1.25132, 'entry_ask': 1.25149, 'exit_price': 1.25149, 'exit_time': 857, 'profit': -0.013585653549851634}, {'type': 'short', 'entry_price': 1.25023, 'stop_loss_price': 0, 'take_profit_price': 0, 'position_size': 79.98528270798174, 'entry_time': 858, 'entry_bid': 1.25023, 'entry_ask': 1.25039, 'exit_price': 1.25039, 'exit_time': 858, 'profit': -0.012797645233272117}, {'type': 'short', 'entry_price': 1.24979, 'stop_loss_price': 0, 'take_profit_price': 0, 'position_size': 80.01344225829939, 'entry_time': 859, 'entry_bid': 1.24979, 'entry_ask': 1.25088, 'exit_price': 1.25088, 'exit_time': 859, 'profit': -0.08721465206154917}, {'type': 'short', 'entry_price': 1.24986, 'stop_loss_price': 0, 'take_profit_price': 0, 'position_size': 80.00896100363241, 'entry_time': 860, 'entry_bid': 1.24986, 'entry_ask': 1.25095, 'exit_price': 1.25095, 'exit_time': 860, 'profit': -0.08720976749396216}, {'type': 'short', 'entry_price': 1.2502, 'stop_loss_price': 0, 'take_profit_price': 0, 'position_size': 79.98720204767237, 'entry_time': 861, 'entry_bid': 1.2502, 'entry_ask': 1.25037, 'exit_price': 1.25037, 'exit_time': 861, 'profit': -0.013597824348104581}, {'type': 'short', 'entry_price': 1.25026, 'stop_loss_price': 0, 'take_profit_price': 0, 'position_size': 79.98336346040024, 'entry_time': 862, 'entry_bid': 1.25026, 'entry_ask': 1.25044, 'exit_price': 1.25044, 'exit_time': 862, 'profit': -0.014397005422877562}, {'type': 'short', 'entry_price': 1.24642, 'stop_loss_price': 0, 'take_profit_price': 0, 'position_size': 80.22977808443382, 'entry_time': 863, 'entry_bid': 1.24642, 'entry_ask': 1.24657, 'exit_price': 1.24657, 'exit_time': 863, 'profit': -0.01203446671265484}, {'type': 'short', 'entry_price': 1.24706, 'stop_loss_price': 0, 'take_profit_price': 0, 'position_size': 80.18860359565699, 'entry_time': 864, 'entry_bid': 1.24706, 'entry_ask': 1.24722, 'exit_price': 1.24722, 'exit_time': 864, 'profit': -0.012830176575300143}, {'type': 'short', 'entry_price': 1.24804, 'stop_loss_price': 0, 'take_profit_price': 0, 'position_size': 80.12563699881414, 'entry_time': 865, 'entry_bid': 1.24804, 'entry_ask': 1.2482, 'exit_price': 1.2482, 'exit_time': 865, 'profit': -0.012820101919805293}, {'type': 'short', 'entry_price': 1.24738, 'stop_loss_price': 0, 'take_profit_price': 0, 'position_size': 80.16803219548173, 'entry_time': 866, 'entry_bid': 1.24738, 'entry_ask': 1.24798, 'exit_price': 1.24798, 'exit_time': 866, 'profit': -0.04810081931730154}, {'type': 'short', 'entry_price': 1.24713, 'stop_loss_price': 0, 'take_profit_price': 0, 'position_size': 80.18410269979873, 'entry_time': 867, 'entry_bid': 1.24713, 'entry_ask': 1.24732, 'exit_price': 1.24732, 'exit_time': 867, 'profit': -0.015234979512954739}, {'type': 'short', 'entry_price': 1.2457, 'stop_loss_price': 0, 'take_profit_price': 0, 'position_size': 80.27614995584811, 'entry_time': 868, 'entry_bid': 1.2457, 'entry_ask': 1.24586, 'exit_price': 1.24586, 'exit_time': 868, 'profit': -0.012844183992930719}, {'type': 'short', 'entry_price': 1.2428, 'stop_loss_price': 0, 'take_profit_price': 0, 'position_size': 80.46346958480851, 'entry_time': 869, 'entry_bid': 1.2428, 'entry_ask': 1.24296, 'exit_price': 1.24296, 'exit_time': 869, 'profit': -0.012874155133582237}, {'type': 'short', 'entry_price': 1.24464, 'stop_loss_price': 0, 'take_profit_price': 0, 'position_size': 80.34451729014012, 'entry_time': 870, 'entry_bid': 1.24464, 'entry_ask': 1.24481, 'exit_price': 1.24481, 'exit_time': 870, 'profit': -0.0136585679393241}, {'type': 'short', 'entry_price': 1.24385, 'stop_loss_price': 0, 'take_profit_price': 0, 'position_size': 80.3955460867468, 'entry_time': 871, 'entry_bid': 1.24385, 'entry_ask': 1.24399, 'exit_price': 1.24399, 'exit_time': 871, 'profit': -0.011255376452146883}, {'type': 'short', 'entry_price': 1.24366, 'stop_loss_price': 0, 'take_profit_price': 0, 'position_size': 80.40782850618336, 'entry_time': 872, 'entry_bid': 1.24366, 'entry_ask': 1.24426, 'exit_price': 1.24426, 'exit_time': 872, 'profit': -0.04824469710370471}, {'type': 'short', 'entry_price': 1.24389, 'stop_loss_price': 0, 'take_profit_price': 0, 'position_size': 80.39296079235302, 'entry_time': 873, 'entry_bid': 1.24389, 'entry_ask': 1.24407, 'exit_price': 1.24407, 'exit_time': 873, 'profit': -0.014470732942629091}, {'type': 'short', 'entry_price': 1.24354, 'stop_loss_price': 0, 'take_profit_price': 0, 'position_size': 80.41558775753091, 'entry_time': 874, 'entry_bid': 1.24354, 'entry_ask': 1.24371, 'exit_price': 1.24371, 'exit_time': 874, 'profit': -0.013670649918780536}, {'type': 'short', 'entry_price': 1.24641, 'stop_loss_price': 0, 'take_profit_price': 0, 'position_size': 80.23042177132724, 'entry_time': 875, 'entry_bid': 1.24641, 'entry_ask': 1.24657, 'exit_price': 1.24657, 'exit_time': 875, 'profit': -0.012836867483407382}, {'type': 'short', 'entry_price': 1.2484, 'stop_loss_price': 0, 'take_profit_price': 0, 'position_size': 80.10253123998719, 'entry_time': 876, 'entry_bid': 1.2484, 'entry_ask': 1.24857, 'exit_price': 1.24857, 'exit_time': 876, 'profit': -0.0136174303107981}, {'type': 'short', 'entry_price': 1.24986, 'stop_loss_price': 0, 'take_profit_price': 0, 'position_size': 80.00896100363241, 'entry_time': 877, 'entry_bid': 1.24986, 'entry_ask': 1.25005, 'exit_price': 1.25005, 'exit_time': 877, 'profit': -0.01520170259070092}, {'type': 'short', 'entry_price': 1.24814, 'stop_loss_price': 0, 'take_profit_price': 0, 'position_size': 80.11921739548448, 'entry_time': 878, 'entry_bid': 1.24814, 'entry_ask': 1.24874, 'exit_price': 1.24874, 'exit_time': 878, 'profit': -0.0480715304372854}, {'type': 'short', 'entry_price': 1.24834, 'stop_loss_price': 0, 'take_profit_price': 0, 'position_size': 80.1063812743323, 'entry_time': 879, 'entry_bid': 1.24834, 'entry_ask': 1.24853, 'exit_price': 1.24853, 'exit_time': 879, 'profit': -0.015220212442116125}, {'type': 'short', 'entry_price': 1.24737, 'stop_loss_price': 0, 'take_profit_price': 0, 'position_size': 80.1686748919727, 'entry_time': 880, 'entry_bid': 1.24737, 'entry_ask': 1.24756, 'exit_price': 1.24756, 'exit_time': 880, 'profit': -0.015232048229467795}, {'type': 'short', 'entry_price': 1.24699, 'stop_loss_price': 0, 'take_profit_price': 0, 'position_size': 80.19310499683237, 'entry_time': 881, 'entry_bid': 1.24699, 'entry_ask': 1.24716, 'exit_price': 1.24716, 'exit_time': 881, 'profit': -0.013632827849461782}, {'type': 'short', 'entry_price': 1.25035, 'stop_loss_price': 0, 'take_profit_price': 0, 'position_size': 79.97760627024432, 'entry_time': 882, 'entry_bid': 1.25035, 'entry_ask': 1.2505, 'exit_price': 1.2505, 'exit_time': 882, 'profit': -0.011996640940526448}, {'type': 'short', 'entry_price': 1.24436, 'stop_loss_price': 0, 'take_profit_price': 0, 'position_size': 80.36259603330227, 'entry_time': 883, 'entry_bid': 1.24436, 'entry_ask': 1.24455, 'exit_price': 1.24455, 'exit_time': 883, 'profit': -0.01526889324633824}, {'type': 'short', 'entry_price': 1.2453, 'stop_loss_price': 0, 'take_profit_price': 0, 'position_size': 80.30193527664017, 'entry_time': 884, 'entry_bid': 1.2453, 'entry_ask': 1.2459, 'exit_price': 1.2459, 'exit_time': 884, 'profit': -0.04818116116597879}, {'type': 'short', 'entry_price': 1.24527, 'stop_loss_price': 0, 'take_profit_price': 0, 'position_size': 80.30386984348775, 'entry_time': 885, 'entry_bid': 1.24527, 'entry_ask': 1.24548, 'exit_price': 1.24548, 'exit_time': 885, 'profit': -0.01686381266711809}, {'type': 'short', 'entry_price': 1.24469, 'stop_loss_price': 0, 'take_profit_price': 0, 'position_size': 80.34128979906643, 'entry_time': 886, 'entry_bid': 1.24469, 'entry_ask': 1.24486, 'exit_price': 1.24486, 'exit_time': 886, 'profit': -0.013658019265841573}, {'type': 'short', 'entry_price': 1.24395, 'stop_loss_price': 0, 'take_profit_price': 0, 'position_size': 80.38908316250654, 'entry_time': 887, 'entry_bid': 1.24395, 'entry_ask': 1.24409, 'exit_price': 1.24409, 'exit_time': 887, 'profit': -0.011254471642753245}, {'type': 'short', 'entry_price': 1.24167, 'stop_loss_price': 0, 'take_profit_price': 0, 'position_size': 80.53669654578108, 'entry_time': 888, 'entry_bid': 1.24167, 'entry_ask': 1.24184, 'exit_price': 1.24184, 'exit_time': 888, 'profit': -0.013691238412783064}, {'type': 'short', 'entry_price': 1.23819, 'stop_loss_price': 0, 'take_profit_price': 0, 'position_size': 80.763049289689, 'entry_time': 889, 'entry_bid': 1.23819, 'entry_ask': 1.23837, 'exit_price': 1.23837, 'exit_time': 889, 'profit': -0.01453734887214959}, {'type': 'short', 'entry_price': 1.23786, 'stop_loss_price': 0, 'take_profit_price': 0, 'position_size': 80.78457983940025, 'entry_time': 890, 'entry_bid': 1.23786, 'entry_ask': 1.23884, 'exit_price': 1.23884, 'exit_time': 890, 'profit': -0.0791688882426107}, {'type': 'short', 'entry_price': 1.2378, 'stop_loss_price': 0, 'take_profit_price': 0, 'position_size': 80.78849571820973, 'entry_time': 891, 'entry_bid': 1.2378, 'entry_ask': 1.23797, 'exit_price': 1.23797, 'exit_time': 891, 'profit': -0.013734044272095935}, {'type': 'short', 'entry_price': 1.23651, 'stop_loss_price': 0, 'take_profit_price': 0, 'position_size': 80.87277903130585, 'entry_time': 892, 'entry_bid': 1.23651, 'entry_ask': 1.23668, 'exit_price': 1.23668, 'exit_time': 892, 'profit': -0.013748372435322277}, {'type': 'short', 'entry_price': 1.23247, 'stop_loss_price': 0, 'take_profit_price': 0, 'position_size': 81.13787759539787, 'entry_time': 893, 'entry_bid': 1.23247, 'entry_ask': 1.23264, 'exit_price': 1.23264, 'exit_time': 893, 'profit': -0.01379343919121792}, {'type': 'short', 'entry_price': 1.22443, 'stop_loss_price': 0, 'take_profit_price': 0, 'position_size': 81.67065491698179, 'entry_time': 894, 'entry_bid': 1.22443, 'entry_ask': 1.22461, 'exit_price': 1.22461, 'exit_time': 894, 'profit': -0.014700717885062357}, {'type': 'short', 'entry_price': 1.2217, 'stop_loss_price': 0, 'take_profit_price': 0, 'position_size': 81.85315543914218, 'entry_time': 895, 'entry_bid': 1.2217, 'entry_ask': 1.22185, 'exit_price': 1.22185, 'exit_time': 895, 'profit': -0.012277973315879064}, {'type': 'short', 'entry_price': 1.22158, 'stop_loss_price': 0, 'take_profit_price': 0, 'position_size': 81.86119615579823, 'entry_time': 896, 'entry_bid': 1.22158, 'entry_ask': 1.22218, 'exit_price': 1.22218, 'exit_time': 896, 'profit': -0.049116717693473526}, {'type': 'short', 'entry_price': 1.22095, 'stop_loss_price': 0, 'take_profit_price': 0, 'position_size': 81.90343584913387, 'entry_time': 897, 'entry_bid': 1.22095, 'entry_ask': 1.22113, 'exit_price': 1.22113, 'exit_time': 897, 'profit': -0.014742618452849748}, {'type': 'short', 'entry_price': 1.21259, 'stop_loss_price': 0, 'take_profit_price': 0, 'position_size': 82.46810546021325, 'entry_time': 898, 'entry_bid': 1.21259, 'entry_ask': 1.21281, 'exit_price': 1.21281, 'exit_time': 898, 'profit': -0.018142983201237594}, {'type': 'short', 'entry_price': 1.21706, 'stop_loss_price': 0, 'take_profit_price': 0, 'position_size': 82.16521781999244, 'entry_time': 899, 'entry_bid': 1.21706, 'entry_ask': 1.21722, 'exit_price': 1.21722, 'exit_time': 899, 'profit': -0.013146434851193692}, {'type': 'short', 'entry_price': 1.21699, 'stop_loss_price': 0, 'take_profit_price': 0, 'position_size': 82.16994387792833, 'entry_time': 900, 'entry_bid': 1.21699, 'entry_ask': 1.21715, 'exit_price': 1.21715, 'exit_time': 900, 'profit': -0.013147191020463436}, {'type': 'short', 'entry_price': 1.21655, 'stop_loss_price': 0, 'take_profit_price': 0, 'position_size': 82.19966298138178, 'entry_time': 901, 'entry_bid': 1.21655, 'entry_ask': 1.21671, 'exit_price': 1.21671, 'exit_time': 901, 'profit': -0.013151946077015985}, {'type': 'short', 'entry_price': 1.21478, 'stop_loss_price': 0, 'take_profit_price': 0, 'position_size': 82.31943232519468, 'entry_time': 902, 'entry_bid': 1.21478, 'entry_ask': 1.21538, 'exit_price': 1.21538, 'exit_time': 902, 'profit': -0.04939165939511137}, {'type': 'short', 'entry_price': 1.21515, 'stop_loss_price': 0, 'take_profit_price': 0, 'position_size': 82.29436695058223, 'entry_time': 903, 'entry_bid': 1.21515, 'entry_ask': 1.21534, 'exit_price': 1.21534, 'exit_time': 903, 'profit': -0.015635929720621694}, {'type': 'short', 'entry_price': 1.21577, 'stop_loss_price': 0, 'take_profit_price': 0, 'position_size': 82.25239971376165, 'entry_time': 904, 'entry_bid': 1.21577, 'entry_ask': 1.21595, 'exit_price': 1.21595, 'exit_time': 904, 'profit': -0.014805431948482772}, {'type': 'short', 'entry_price': 1.21573, 'stop_loss_price': 0, 'take_profit_price': 0, 'position_size': 82.25510598570406, 'entry_time': 905, 'entry_bid': 1.21573, 'entry_ask': 1.21602, 'exit_price': 1.21602, 'exit_time': 905, 'profit': -0.023853980735864335}, {'type': 'short', 'entry_price': 1.21867, 'stop_loss_price': 0, 'take_profit_price': 0, 'position_size': 82.05666833515227, 'entry_time': 906, 'entry_bid': 1.21867, 'entry_ask': 1.21882, 'exit_price': 1.21882, 'exit_time': 906, 'profit': -0.012308500250280595}, {'type': 'short', 'entry_price': 1.22129, 'stop_loss_price': 0, 'take_profit_price': 0, 'position_size': 81.88063441115541, 'entry_time': 907, 'entry_bid': 1.22129, 'entry_ask': 1.22145, 'exit_price': 1.22145, 'exit_time': 907, 'profit': -0.013100901505779788}, {'type': 'short', 'entry_price': 1.2158, 'stop_loss_price': 0, 'take_profit_price': 0, 'position_size': 82.25037012666557, 'entry_time': 908, 'entry_bid': 1.2158, 'entry_ask': 1.2164, 'exit_price': 1.2164, 'exit_time': 908, 'profit': -0.04935022207599391}, {'type': 'short', 'entry_price': 1.21079, 'stop_loss_price': 0, 'take_profit_price': 0, 'position_size': 82.59070524203206, 'entry_time': 909, 'entry_bid': 1.21079, 'entry_ask': 1.21101, 'exit_price': 1.21101, 'exit_time': 909, 'profit': -0.018169955153237716}, {'type': 'short', 'entry_price': 1.2129, 'stop_loss_price': 0, 'take_profit_price': 0, 'position_size': 82.44702778464836, 'entry_time': 910, 'entry_bid': 1.2129, 'entry_ask': 1.21311, 'exit_price': 1.21311, 'exit_time': 910, 'profit': -0.017313875834761433}, {'type': 'short', 'entry_price': 1.21117, 'stop_loss_price': 0, 'take_profit_price': 0, 'position_size': 82.56479272108787, 'entry_time': 911, 'entry_bid': 1.21117, 'entry_ask': 1.21131, 'exit_price': 1.21131, 'exit_time': 911, 'profit': -0.011559070980954695}, {'type': 'short', 'entry_price': 1.20938, 'stop_loss_price': 0, 'take_profit_price': 0, 'position_size': 82.68699664290794, 'entry_time': 912, 'entry_bid': 1.20938, 'entry_ask': 1.20954, 'exit_price': 1.20954, 'exit_time': 912, 'profit': -0.013229919462878503}, {'type': 'short', 'entry_price': 1.21437, 'stop_loss_price': 0, 'take_profit_price': 0, 'position_size': 82.34722531024318, 'entry_time': 913, 'entry_bid': 1.21437, 'entry_ask': 1.21454, 'exit_price': 1.21454, 'exit_time': 913, 'profit': -0.013999028302741627}, {'type': 'short', 'entry_price': 1.21277, 'stop_loss_price': 0, 'take_profit_price': 0, 'position_size': 82.4558654979922, 'entry_time': 914, 'entry_bid': 1.21277, 'entry_ask': 1.21337, 'exit_price': 1.21337, 'exit_time': 914, 'profit': -0.04947351929880819}, {'type': 'short', 'entry_price': 1.21389, 'stop_loss_price': 0, 'take_profit_price': 0, 'position_size': 82.3797872953892, 'entry_time': 915, 'entry_bid': 1.21389, 'entry_ask': 1.21413, 'exit_price': 1.21413, 'exit_time': 915, 'profit': -0.01977114895089489}, {'type': 'short', 'entry_price': 1.21077, 'stop_loss_price': 0, 'take_profit_price': 0, 'position_size': 82.59206950948571, 'entry_time': 916, 'entry_bid': 1.21077, 'entry_ask': 1.21097, 'exit_price': 1.21097, 'exit_time': 916, 'profit': -0.01651841390191366}, {'type': 'short', 'entry_price': 1.21169, 'stop_loss_price': 0, 'take_profit_price': 0, 'position_size': 82.52935981975588, 'entry_time': 917, 'entry_bid': 1.21169, 'entry_ask': 1.21183, 'exit_price': 1.21183, 'exit_time': 917, 'profit': -0.011554110374768216}, {'type': 'short', 'entry_price': 1.21274, 'stop_loss_price': 0, 'take_profit_price': 0, 'position_size': 82.45790523937531, 'entry_time': 918, 'entry_bid': 1.21274, 'entry_ask': 1.21291, 'exit_price': 1.21291, 'exit_time': 918, 'profit': -0.01401784389069409}, {'type': 'short', 'entry_price': 1.21445, 'stop_loss_price': 0, 'take_profit_price': 0, 'position_size': 82.34180081518383, 'entry_time': 919, 'entry_bid': 1.21445, 'entry_ask': 1.21462, 'exit_price': 1.21462, 'exit_time': 919, 'profit': -0.013998106138581538}, {'type': 'short', 'entry_price': 1.21564, 'stop_loss_price': 0, 'take_profit_price': 0, 'position_size': 82.2611957487414, 'entry_time': 920, 'entry_bid': 1.21564, 'entry_ask': 1.21673, 'exit_price': 1.21673, 'exit_time': 920, 'profit': -0.08966470336613104}, {'type': 'short', 'entry_price': 1.21561, 'stop_loss_price': 0, 'take_profit_price': 0, 'position_size': 82.26322587013927, 'entry_time': 921, 'entry_bid': 1.21561, 'entry_ask': 1.2167, 'exit_price': 1.2167, 'exit_time': 921, 'profit': -0.08966691619843645}, {'type': 'short', 'entry_price': 1.2178, 'stop_loss_price': 0, 'take_profit_price': 0, 'position_size': 82.11528986697323, 'entry_time': 922, 'entry_bid': 1.2178, 'entry_ask': 1.21796, 'exit_price': 1.21796, 'exit_time': 922, 'profit': -0.013138446378710623}, {'type': 'short', 'entry_price': 1.21528, 'stop_loss_price': 0, 'take_profit_price': 0, 'position_size': 82.28556382068331, 'entry_time': 923, 'entry_bid': 1.21528, 'entry_ask': 1.21549, 'exit_price': 1.21549, 'exit_time': 923, 'profit': -0.017279968402347072}, {'type': 'short', 'entry_price': 1.21348, 'stop_loss_price': 0, 'take_profit_price': 0, 'position_size': 82.40762105679534, 'entry_time': 924, 'entry_bid': 1.21348, 'entry_ask': 1.21367, 'exit_price': 1.21367, 'exit_time': 924, 'profit': -0.0156574480008022}, {'type': 'short', 'entry_price': 1.21667, 'stop_loss_price': 0, 'take_profit_price': 0, 'position_size': 82.1915556395736, 'entry_time': 925, 'entry_bid': 1.21667, 'entry_ask': 1.21684, 'exit_price': 1.21684, 'exit_time': 925, 'profit': -0.013972564458727797}, {'type': 'short', 'entry_price': 1.21545, 'stop_loss_price': 0, 'take_profit_price': 0, 'position_size': 82.27405487679461, 'entry_time': 926, 'entry_bid': 1.21545, 'entry_ask': 1.21561, 'exit_price': 1.21561, 'exit_time': 926, 'profit': -0.013163848780300302}, {'type': 'short', 'entry_price': 1.21383, 'stop_loss_price': 0, 'take_profit_price': 0, 'position_size': 82.38385935427532, 'entry_time': 927, 'entry_bid': 1.21383, 'entry_ask': 1.21443, 'exit_price': 1.21443, 'exit_time': 927, 'profit': -0.04943031561255975}, {'type': 'short', 'entry_price': 1.21555, 'stop_loss_price': 0, 'take_profit_price': 0, 'position_size': 82.26728641355766, 'entry_time': 928, 'entry_bid': 1.21555, 'entry_ask': 1.21576, 'exit_price': 1.21576, 'exit_time': 928, 'profit': -0.017276130146850685}, {'type': 'short', 'entry_price': 1.21596, 'stop_loss_price': 0, 'take_profit_price': 0, 'position_size': 82.23954735353136, 'entry_time': 929, 'entry_bid': 1.21596, 'entry_ask': 1.21615, 'exit_price': 1.21615, 'exit_time': 929, 'profit': -0.01562551399718202}, {'type': 'short', 'entry_price': 1.21821, 'stop_loss_price': 0, 'take_profit_price': 0, 'position_size': 82.08765319608277, 'entry_time': 930, 'entry_bid': 1.21821, 'entry_ask': 1.21838, 'exit_price': 1.21838, 'exit_time': 930, 'profit': -0.013954901043334357}, {'type': 'short', 'entry_price': 1.21705, 'stop_loss_price': 0, 'take_profit_price': 0, 'position_size': 82.1658929378415, 'entry_time': 931, 'entry_bid': 1.21705, 'entry_ask': 1.21725, 'exit_price': 1.21725, 'exit_time': 931, 'profit': -0.01643317858756649}, {'type': 'short', 'entry_price': 1.21495, 'stop_loss_price': 0, 'take_profit_price': 0, 'position_size': 82.30791390592205, 'entry_time': 932, 'entry_bid': 1.21495, 'entry_ask': 1.21509, 'exit_price': 1.21509, 'exit_time': 932, 'profit': -0.011523107946831474}, {'type': 'short', 'entry_price': 1.21654, 'stop_loss_price': 0, 'take_profit_price': 0, 'position_size': 82.20033866539531, 'entry_time': 933, 'entry_bid': 1.21654, 'entry_ask': 1.21714, 'exit_price': 1.21714, 'exit_time': 933, 'profit': -0.049320203199250005}, {'type': 'short', 'entry_price': 1.21804, 'stop_loss_price': 0, 'take_profit_price': 0, 'position_size': 82.09911004564711, 'entry_time': 934, 'entry_bid': 1.21804, 'entry_ask': 1.21821, 'exit_price': 1.21821, 'exit_time': 934, 'profit': -0.013956848707760294}, {'type': 'short', 'entry_price': 1.21687, 'stop_loss_price': 0, 'take_profit_price': 0, 'position_size': 82.17804695653604, 'entry_time': 935, 'entry_bid': 1.21687, 'entry_ask': 1.21706, 'exit_price': 1.21706, 'exit_time': 935, 'profit': -0.015613828921752901}, {'type': 'short', 'entry_price': 1.21434, 'stop_loss_price': 0, 'take_profit_price': 0, 'position_size': 82.34925968015548, 'entry_time': 936, 'entry_bid': 1.21434, 'entry_ask': 1.21452, 'exit_price': 1.21452, 'exit_time': 936, 'profit': -0.014822866742433669}, {'type': 'short', 'entry_price': 1.21335, 'stop_loss_price': 0, 'take_profit_price': 0, 'position_size': 82.41645032348457, 'entry_time': 937, 'entry_bid': 1.21335, 'entry_ask': 1.2135, 'exit_price': 1.2135, 'exit_time': 937, 'profit': -0.012362467548530473}, {'type': 'short', 'entry_price': 1.21543, 'stop_loss_price': 0, 'take_profit_price': 0, 'position_size': 82.27540870309274, 'entry_time': 938, 'entry_bid': 1.21543, 'entry_ask': 1.21559, 'exit_price': 1.21559, 'exit_time': 938, 'profit': -0.013164065392489734}, {'type': 'short', 'entry_price': 1.21406, 'stop_loss_price': 0, 'take_profit_price': 0, 'position_size': 82.36825198095647, 'entry_time': 939, 'entry_bid': 1.21406, 'entry_ask': 1.21466, 'exit_price': 1.21466, 'exit_time': 939, 'profit': -0.04942095118858673}, {'type': 'short', 'entry_price': 1.21509, 'stop_loss_price': 0, 'take_profit_price': 0, 'position_size': 82.29843056892905, 'entry_time': 940, 'entry_bid': 1.21509, 'entry_ask': 1.21528, 'exit_price': 1.21528, 'exit_time': 940, 'profit': -0.015636701808089314}, {'type': 'short', 'entry_price': 1.21587, 'stop_loss_price': 0, 'take_profit_price': 0, 'position_size': 82.24563481293231, 'entry_time': 941, 'entry_bid': 1.21587, 'entry_ask': 1.21605, 'exit_price': 1.21605, 'exit_time': 941, 'profit': -0.01480421426633349}, {'type': 'short', 'entry_price': 1.21575, 'stop_loss_price': 0, 'take_profit_price': 0, 'position_size': 82.25375282747275, 'entry_time': 942, 'entry_bid': 1.21575, 'entry_ask': 1.21591, 'exit_price': 1.21591, 'exit_time': 942, 'profit': -0.013160600452390538}, {'type': 'short', 'entry_price': 1.21166, 'stop_loss_price': 0, 'take_profit_price': 0, 'position_size': 82.53140319891719, 'entry_time': 943, 'entry_bid': 1.21166, 'entry_ask': 1.21184, 'exit_price': 1.21184, 'exit_time': 943, 'profit': -0.014855652575810788}, {'type': 'short', 'entry_price': 1.21378, 'stop_loss_price': 0, 'take_profit_price': 0, 'position_size': 82.38725304420899, 'entry_time': 944, 'entry_bid': 1.21378, 'entry_ask': 1.21391, 'exit_price': 1.21391, 'exit_time': 944, 'profit': -0.01071034289574416}, {'type': 'short', 'entry_price': 1.2132, 'stop_loss_price': 0, 'take_profit_price': 0, 'position_size': 82.42664029014178, 'entry_time': 945, 'entry_bid': 1.2132, 'entry_ask': 1.2138, 'exit_price': 1.2138, 'exit_time': 945, 'profit': -0.04945598417407962}, {'type': 'short', 'entry_price': 1.21391, 'stop_loss_price': 0, 'take_profit_price': 0, 'position_size': 82.37843003188046, 'entry_time': 946, 'entry_bid': 1.21391, 'entry_ask': 1.2141, 'exit_price': 1.2141, 'exit_time': 946, 'profit': -0.015651901706050075}, {'type': 'short', 'entry_price': 1.21338, 'stop_loss_price': 0, 'take_profit_price': 0, 'position_size': 82.41441263248117, 'entry_time': 947, 'entry_bid': 1.21338, 'entry_ask': 1.21356, 'exit_price': 1.21356, 'exit_time': 947, 'profit': -0.014834594273852298}, {'type': 'short', 'entry_price': 1.21157, 'stop_loss_price': 0, 'take_profit_price': 0, 'position_size': 82.53753394356083, 'entry_time': 948, 'entry_bid': 1.21157, 'entry_ask': 1.21173, 'exit_price': 1.21173, 'exit_time': 948, 'profit': -0.013206005430964613}, {'type': 'short', 'entry_price': 1.20734, 'stop_loss_price': 0, 'take_profit_price': 0, 'position_size': 82.82670995742707, 'entry_time': 949, 'entry_bid': 1.20734, 'entry_ask': 1.2075, 'exit_price': 1.2075, 'exit_time': 949, 'profit': -0.013252273593183194}, {'type': 'short', 'entry_price': 1.20711, 'stop_loss_price': 0, 'take_profit_price': 0, 'position_size': 82.84249157077649, 'entry_time': 950, 'entry_bid': 1.20711, 'entry_ask': 1.2073, 'exit_price': 1.2073, 'exit_time': 950, 'profit': -0.015740073398458676}, {'type': 'short', 'entry_price': 1.20226, 'stop_loss_price': 0, 'take_profit_price': 0, 'position_size': 83.1766839119658, 'entry_time': 951, 'entry_bid': 1.20226, 'entry_ask': 1.20335, 'exit_price': 1.20335, 'exit_time': 951, 'profit': -0.0906625854640272}, {'type': 'short', 'entry_price': 1.203, 'stop_loss_price': 0, 'take_profit_price': 0, 'position_size': 83.12551953449709, 'entry_time': 952, 'entry_bid': 1.203, 'entry_ask': 1.20321, 'exit_price': 1.20321, 'exit_time': 952, 'profit': -0.017456359102229545}, {'type': 'short', 'entry_price': 1.20375, 'stop_loss_price': 0, 'take_profit_price': 0, 'position_size': 83.07372793354101, 'entry_time': 953, 'entry_bid': 1.20375, 'entry_ask': 1.20392, 'exit_price': 1.20392, 'exit_time': 953, 'profit': -0.014122533748702261}, {'type': 'short', 'entry_price': 1.20645, 'stop_loss_price': 0, 'take_profit_price': 0, 'position_size': 82.88781134734137, 'entry_time': 954, 'entry_bid': 1.20645, 'entry_ask': 1.20662, 'exit_price': 1.20662, 'exit_time': 954, 'profit': -0.01409092792904832}, {'type': 'short', 'entry_price': 1.20969, 'stop_loss_price': 0, 'take_profit_price': 0, 'position_size': 82.66580694227447, 'entry_time': 955, 'entry_bid': 1.20969, 'entry_ask': 1.20982, 'exit_price': 1.20982, 'exit_time': 955, 'profit': -0.010746554902492662}, {'type': 'short', 'entry_price': 1.20771, 'stop_loss_price': 0, 'take_profit_price': 0, 'position_size': 82.80133475751629, 'entry_time': 956, 'entry_bid': 1.20771, 'entry_ask': 1.20786, 'exit_price': 1.20786, 'exit_time': 956, 'profit': -0.012420200213616882}, {'type': 'short', 'entry_price': 1.20728, 'stop_loss_price': 0, 'take_profit_price': 0, 'position_size': 82.83082632032338, 'entry_time': 957, 'entry_bid': 1.20728, 'entry_ask': 1.20788, 'exit_price': 1.20788, 'exit_time': 957, 'profit': -0.04969849579220695}, {'type': 'short', 'entry_price': 1.2072, 'stop_loss_price': 0, 'take_profit_price': 0, 'position_size': 82.83631544068919, 'entry_time': 958, 'entry_bid': 1.2072, 'entry_ask': 1.2074, 'exit_price': 1.2074, 'exit_time': 958, 'profit': -0.016567263088136015}, {'type': 'short', 'entry_price': 1.20655, 'stop_loss_price': 0, 'take_profit_price': 0, 'position_size': 82.88094152749575, 'entry_time': 959, 'entry_bid': 1.20655, 'entry_ask': 1.20671, 'exit_price': 1.20671, 'exit_time': 959, 'profit': -0.01326095064439418}, {'type': 'short', 'entry_price': 1.20658, 'stop_loss_price': 0, 'take_profit_price': 0, 'position_size': 82.87888080359363, 'entry_time': 960, 'entry_bid': 1.20658, 'entry_ask': 1.2068, 'exit_price': 1.2068, 'exit_time': 960, 'profit': -0.018233353776799632}, {'type': 'short', 'entry_price': 1.20866, 'stop_loss_price': 0, 'take_profit_price': 0, 'position_size': 82.73625337150231, 'entry_time': 961, 'entry_bid': 1.20866, 'entry_ask': 1.20882, 'exit_price': 1.20882, 'exit_time': 961, 'profit': -0.013237800539435239}, {'type': 'short', 'entry_price': 1.20608, 'stop_loss_price': 0, 'take_profit_price': 0, 'position_size': 82.9132395860971, 'entry_time': 962, 'entry_bid': 1.20608, 'entry_ask': 1.20624, 'exit_price': 1.20624, 'exit_time': 962, 'profit': -0.013266118333770394}, {'type': 'short', 'entry_price': 1.20568, 'stop_loss_price': 0, 'take_profit_price': 0, 'position_size': 82.94074713025014, 'entry_time': 963, 'entry_bid': 1.20568, 'entry_ask': 1.20628, 'exit_price': 1.20628, 'exit_time': 963, 'profit': -0.04976444827814461}, {'type': 'short', 'entry_price': 1.20545, 'stop_loss_price': 0, 'take_profit_price': 0, 'position_size': 82.95657223443528, 'entry_time': 964, 'entry_bid': 1.20545, 'entry_ask': 1.20563, 'exit_price': 1.20563, 'exit_time': 964, 'profit': -0.014932183002204075}, {'type': 'short', 'entry_price': 1.20558, 'stop_loss_price': 0, 'take_profit_price': 0, 'position_size': 82.94762686839529, 'entry_time': 965, 'entry_bid': 1.20558, 'entry_ask': 1.20577, 'exit_price': 1.20577, 'exit_time': 965, 'profit': -0.015760049104987843}, {'type': 'short', 'entry_price': 1.20655, 'stop_loss_price': 0, 'take_profit_price': 0, 'position_size': 82.88094152749575, 'entry_time': 966, 'entry_bid': 1.20655, 'entry_ask': 1.20688, 'exit_price': 1.20688, 'exit_time': 966, 'profit': -0.027350710704068745}, {'type': 'short', 'entry_price': 1.20685, 'stop_loss_price': 0, 'take_profit_price': 0, 'position_size': 82.8603388987861, 'entry_time': 967, 'entry_bid': 1.20685, 'entry_ask': 1.20702, 'exit_price': 1.20702, 'exit_time': 967, 'profit': -0.014086257612793925}, {'type': 'short', 'entry_price': 1.20594, 'stop_loss_price': 0, 'take_profit_price': 0, 'position_size': 82.92286515083669, 'entry_time': 968, 'entry_bid': 1.20594, 'entry_ask': 1.2061, 'exit_price': 1.2061, 'exit_time': 968, 'profit': -0.013267658424128725}, {'type': 'short', 'entry_price': 1.20561, 'stop_loss_price': 0, 'take_profit_price': 0, 'position_size': 82.94556282711656, 'entry_time': 969, 'entry_bid': 1.20561, 'entry_ask': 1.20621, 'exit_price': 1.20621, 'exit_time': 969, 'profit': -0.04976733769626446}, {'type': 'short', 'entry_price': 1.20581, 'stop_loss_price': 0, 'take_profit_price': 0, 'position_size': 82.93180517660328, 'entry_time': 970, 'entry_bid': 1.20581, 'entry_ask': 1.20603, 'exit_price': 1.20603, 'exit_time': 970, 'profit': -0.018244997138843345}, {'type': 'short', 'entry_price': 1.20561, 'stop_loss_price': 0, 'take_profit_price': 0, 'position_size': 82.94556282711656, 'entry_time': 971, 'entry_bid': 1.20561, 'entry_ask': 1.20578, 'exit_price': 1.20578, 'exit_time': 971, 'profit': -0.014100745680610104}, {'type': 'short', 'entry_price': 1.20823, 'stop_loss_price': 0, 'take_profit_price': 0, 'position_size': 82.7656985838789, 'entry_time': 972, 'entry_bid': 1.20823, 'entry_ask': 1.20839, 'exit_price': 1.20839, 'exit_time': 972, 'profit': -0.013242511773433868}, {'type': 'short', 'entry_price': 1.21245, 'stop_loss_price': 1.215128, 'take_profit_price': 1.2014, 'position_size': 37341.29947722239, 'entry_time': 973, 'entry_bid': 1.21245, 'entry_ask': 1.21261, 'exit_price': 1.21683, 'exit_time': 979, 'profit': -163.55489171023595}, {'type': 'short', 'entry_price': 1.2155, 'stop_loss_price': 0, 'take_profit_price': 0, 'position_size': 82.27067050596462, 'entry_time': 980, 'entry_bid': 1.2155, 'entry_ask': 1.21564, 'exit_price': 1.21564, 'exit_time': 980, 'profit': -0.011517893870837431}, {'type': 'short', 'entry_price': 1.21406, 'stop_loss_price': 0, 'take_profit_price': 0, 'position_size': 82.36825198095647, 'entry_time': 981, 'entry_bid': 1.21406, 'entry_ask': 1.21515, 'exit_price': 1.21515, 'exit_time': 981, 'profit': -0.08978139465924546}, {'type': 'short', 'entry_price': 1.21421, 'stop_loss_price': 0, 'take_profit_price': 0, 'position_size': 82.35807644476655, 'entry_time': 982, 'entry_bid': 1.21421, 'entry_ask': 1.21437, 'exit_price': 1.21437, 'exit_time': 982, 'profit': -0.01317729223115754}, {'type': 'short', 'entry_price': 1.21554, 'stop_loss_price': 0, 'take_profit_price': 0, 'position_size': 82.26796320976685, 'entry_time': 983, 'entry_bid': 1.21554, 'entry_ask': 1.2157, 'exit_price': 1.2157, 'exit_time': 983, 'profit': -0.013162874113557592}, {'type': 'short', 'entry_price': 1.21241, 'stop_loss_price': 0, 'take_profit_price': 0, 'position_size': 82.48034905683721, 'entry_time': 984, 'entry_bid': 1.21241, 'entry_ask': 1.21264, 'exit_price': 1.21264, 'exit_time': 984, 'profit': -0.01897048028306864}, {'type': 'short', 'entry_price': 1.21106, 'stop_loss_price': 0, 'take_profit_price': 0, 'position_size': 82.57229204168249, 'entry_time': 985, 'entry_bid': 1.21106, 'entry_ask': 1.21123, 'exit_price': 1.21123, 'exit_time': 985, 'profit': -0.01403728964708631}, {'type': 'short', 'entry_price': 1.21363, 'stop_loss_price': 0, 'take_profit_price': 0, 'position_size': 82.39743579179816, 'entry_time': 986, 'entry_bid': 1.21363, 'entry_ask': 1.21378, 'exit_price': 1.21378, 'exit_time': 986, 'profit': -0.012359615368777511}, {'type': 'short', 'entry_price': 1.2123, 'stop_loss_price': 0, 'take_profit_price': 0, 'position_size': 82.48783304462592, 'entry_time': 987, 'entry_bid': 1.2123, 'entry_ask': 1.2129, 'exit_price': 1.2129, 'exit_time': 987, 'profit': -0.04949269982678842}, {'type': 'short', 'entry_price': 1.21292, 'stop_loss_price': 0, 'take_profit_price': 0, 'position_size': 82.44566830458727, 'entry_time': 988, 'entry_bid': 1.21292, 'entry_ask': 1.21309, 'exit_price': 1.21309, 'exit_time': 988, 'profit': -0.014015763611780124}, {'type': 'short', 'entry_price': 1.21294, 'stop_loss_price': 0, 'take_profit_price': 0, 'position_size': 82.44430886935875, 'entry_time': 989, 'entry_bid': 1.21294, 'entry_ask': 1.21313, 'exit_price': 1.21313, 'exit_time': 989, 'profit': -0.015664418685189252}, {'type': 'short', 'entry_price': 1.20916, 'stop_loss_price': 0, 'take_profit_price': 0, 'position_size': 82.70204108637401, 'entry_time': 990, 'entry_bid': 1.20916, 'entry_ask': 1.20932, 'exit_price': 1.20932, 'exit_time': 990, 'profit': -0.013232326573814712}, {'type': 'short', 'entry_price': 1.20967, 'stop_loss_price': 0, 'take_profit_price': 0, 'position_size': 82.66717369199864, 'entry_time': 991, 'entry_bid': 1.20967, 'entry_ask': 1.20983, 'exit_price': 1.20983, 'exit_time': 991, 'profit': -0.013226747790714654}, {'type': 'short', 'entry_price': 1.217, 'stop_loss_price': 0, 'take_profit_price': 0, 'position_size': 82.16926869350863, 'entry_time': 992, 'entry_bid': 1.217, 'entry_ask': 1.21715, 'exit_price': 1.21715, 'exit_time': 992, 'profit': -0.012325390304015815}, {'type': 'short', 'entry_price': 1.21668, 'stop_loss_price': 0, 'take_profit_price': 0, 'position_size': 82.19088009994411, 'entry_time': 993, 'entry_bid': 1.21668, 'entry_ask': 1.21728, 'exit_price': 1.21728, 'exit_time': 993, 'profit': -0.04931452805996103}, {'type': 'short', 'entry_price': 1.21619, 'stop_loss_price': 0, 'take_profit_price': 0, 'position_size': 82.22399460610595, 'entry_time': 994, 'entry_bid': 1.21619, 'entry_ask': 1.21639, 'exit_price': 1.21639, 'exit_time': 994, 'profit': -0.01644479892121938}, {'type': 'short', 'entry_price': 1.21525, 'stop_loss_price': 0, 'take_profit_price': 0, 'position_size': 82.28759514503189, 'entry_time': 995, 'entry_bid': 1.21525, 'entry_ask': 1.21542, 'exit_price': 1.21542, 'exit_time': 995, 'profit': -0.013988891174655706}, {'type': 'short', 'entry_price': 1.21453, 'stop_loss_price': 0, 'take_profit_price': 0, 'position_size': 82.33637703473771, 'entry_time': 996, 'entry_bid': 1.21453, 'entry_ask': 1.21469, 'exit_price': 1.21469, 'exit_time': 996, 'profit': -0.013173820325552926}, {'type': 'short', 'entry_price': 1.21353, 'stop_loss_price': 0, 'take_profit_price': 0, 'position_size': 82.40422568869332, 'entry_time': 997, 'entry_bid': 1.21353, 'entry_ask': 1.21368, 'exit_price': 1.21368, 'exit_time': 997, 'profit': -0.012360633853311785}, {'type': 'short', 'entry_price': 1.21432, 'stop_loss_price': 0, 'take_profit_price': 0, 'position_size': 82.35061598260755, 'entry_time': 998, 'entry_bid': 1.21432, 'entry_ask': 1.21448, 'exit_price': 1.21448, 'exit_time': 998, 'profit': -0.0131760985572121}, {'type': 'short', 'entry_price': 1.21196, 'stop_loss_price': 0, 'take_profit_price': 0, 'position_size': 82.51097395953663, 'entry_time': 999, 'entry_bid': 1.21196, 'entry_ask': 1.21256, 'exit_price': 1.21256, 'exit_time': 999, 'profit': -0.049506584375734845}, {'type': 'short', 'entry_price': 1.21273, 'stop_loss_price': 0, 'take_profit_price': 0, 'position_size': 82.45858517559554, 'entry_time': 1000, 'entry_bid': 1.21273, 'entry_ask': 1.2129, 'exit_price': 1.2129, 'exit_time': 1000, 'profit': -0.01401795947985153}, {'type': 'short', 'entry_price': 1.21182, 'stop_loss_price': 0, 'take_profit_price': 0, 'position_size': 82.52050634582694, 'entry_time': 1001, 'entry_bid': 1.21182, 'entry_ask': 1.21199, 'exit_price': 1.21199, 'exit_time': 1001, 'profit': -0.014028486078790868}, {'type': 'short', 'entry_price': 1.21474, 'stop_loss_price': 0, 'take_profit_price': 0, 'position_size': 82.32214301002683, 'entry_time': 1002, 'entry_bid': 1.21474, 'entry_ask': 1.21491, 'exit_price': 1.21491, 'exit_time': 1002, 'profit': -0.01399476431170485}, {'type': 'short', 'entry_price': 1.22229, 'stop_loss_price': 0, 'take_profit_price': 0, 'position_size': 81.81364487969303, 'entry_time': 1003, 'entry_bid': 1.22229, 'entry_ask': 1.22248, 'exit_price': 1.22248, 'exit_time': 1003, 'profit': -0.015544592527134514}, {'type': 'short', 'entry_price': 1.22529, 'stop_loss_price': 0, 'take_profit_price': 0, 'position_size': 81.61333235397335, 'entry_time': 1004, 'entry_bid': 1.22529, 'entry_ask': 1.22546, 'exit_price': 1.22546, 'exit_time': 1004, 'profit': -0.013874266500175753}, {'type': 'short', 'entry_price': 1.22512, 'stop_loss_price': 0, 'take_profit_price': 0, 'position_size': 81.62465717643985, 'entry_time': 1005, 'entry_bid': 1.22512, 'entry_ask': 1.22572, 'exit_price': 1.22572, 'exit_time': 1005, 'profit': -0.04897479430585852}, {'type': 'short', 'entry_price': 1.22446, 'stop_loss_price': 0, 'take_profit_price': 0, 'position_size': 81.6686539372458, 'entry_time': 1006, 'entry_bid': 1.22446, 'entry_ask': 1.22465, 'exit_price': 1.22465, 'exit_time': 1006, 'profit': -0.015517044248069552}, {'type': 'short', 'entry_price': 1.22291, 'stop_loss_price': 0, 'take_profit_price': 0, 'position_size': 81.77216639000417, 'entry_time': 1007, 'entry_bid': 1.22291, 'entry_ask': 1.22305, 'exit_price': 1.22305, 'exit_time': 1007, 'profit': -0.011448103294602954}, {'type': 'short', 'entry_price': 1.22053, 'stop_loss_price': 0, 'take_profit_price': 0, 'position_size': 81.93161987005645, 'entry_time': 1008, 'entry_bid': 1.22053, 'entry_ask': 1.22071, 'exit_price': 1.22071, 'exit_time': 1008, 'profit': -0.014747691576615814}, {'type': 'short', 'entry_price': 1.22277, 'stop_loss_price': 0, 'take_profit_price': 0, 'position_size': 81.78152882389983, 'entry_time': 1009, 'entry_bid': 1.22277, 'entry_ask': 1.22292, 'exit_price': 1.22292, 'exit_time': 1009, 'profit': -0.012267229323592704}, {'type': 'short', 'entry_price': 1.22675, 'stop_loss_price': 0, 'take_profit_price': 0, 'position_size': 81.51620134501732, 'entry_time': 1010, 'entry_bid': 1.22675, 'entry_ask': 1.22691, 'exit_price': 1.22691, 'exit_time': 1010, 'profit': -0.013042592215197714}, {'type': 'short', 'entry_price': 1.22835, 'stop_loss_price': 0, 'take_profit_price': 0, 'position_size': 81.41002157365571, 'entry_time': 1011, 'entry_bid': 1.22835, 'entry_ask': 1.22944, 'exit_price': 1.22944, 'exit_time': 1011, 'profit': -0.08873692351528761}, {'type': 'short', 'entry_price': 1.22666, 'stop_loss_price': 0, 'take_profit_price': 0, 'position_size': 81.52218218577275, 'entry_time': 1012, 'entry_bid': 1.22666, 'entry_ask': 1.22686, 'exit_price': 1.22686, 'exit_time': 1012, 'profit': -0.016304436437152754}, {'type': 'short', 'entry_price': 1.22655, 'stop_loss_price': 0, 'take_profit_price': 0, 'position_size': 81.52949329419917, 'entry_time': 1013, 'entry_bid': 1.22655, 'entry_ask': 1.22677, 'exit_price': 1.22677, 'exit_time': 1013, 'profit': -0.017936488524714602}, {'type': 'short', 'entry_price': 1.22408, 'stop_loss_price': 0, 'take_profit_price': 0, 'position_size': 81.69400692765178, 'entry_time': 1014, 'entry_bid': 1.22408, 'entry_ask': 1.22424, 'exit_price': 1.22424, 'exit_time': 1014, 'profit': -0.013071041108419218}, {'type': 'short', 'entry_price': 1.22326, 'stop_loss_price': 0, 'take_profit_price': 0, 'position_size': 81.7487696810163, 'entry_time': 1015, 'entry_bid': 1.22326, 'entry_ask': 1.22344, 'exit_price': 1.22344, 'exit_time': 1015, 'profit': -0.014714778542588574}, {'type': 'short', 'entry_price': 1.22302, 'stop_loss_price': 0, 'take_profit_price': 0, 'position_size': 81.76481169563867, 'entry_time': 1016, 'entry_bid': 1.22302, 'entry_ask': 1.2232, 'exit_price': 1.2232, 'exit_time': 1016, 'profit': -0.014717666105220602}, {'type': 'short', 'entry_price': 1.22145, 'stop_loss_price': 0, 'take_profit_price': 0, 'position_size': 81.86990871505179, 'entry_time': 1017, 'entry_bid': 1.22145, 'entry_ask': 1.22205, 'exit_price': 1.22205, 'exit_time': 1017, 'profit': -0.04912194522904385}, {'type': 'short', 'entry_price': 1.22131, 'stop_loss_price': 0, 'take_profit_price': 0, 'position_size': 81.8792935454553, 'entry_time': 1018, 'entry_bid': 1.22131, 'entry_ask': 1.22151, 'exit_price': 1.22151, 'exit_time': 1018, 'profit': -0.016375858709107436}, {'type': 'short', 'entry_price': 1.22163, 'stop_loss_price': 0, 'take_profit_price': 0, 'position_size': 81.85784566521778, 'entry_time': 1019, 'entry_bid': 1.22163, 'entry_ask': 1.2218, 'exit_price': 1.2218, 'exit_time': 1019, 'profit': -0.013915833763087308}, {'type': 'short', 'entry_price': 1.22539, 'stop_loss_price': 0, 'take_profit_price': 0, 'position_size': 81.60667216151593, 'entry_time': 1020, 'entry_bid': 1.22539, 'entry_ask': 1.22555, 'exit_price': 1.22555, 'exit_time': 1020, 'profit': -0.013057067545837487}, {'type': 'short', 'entry_price': 1.2277, 'stop_loss_price': 0, 'take_profit_price': 0, 'position_size': 81.45312372729494, 'entry_time': 1021, 'entry_bid': 1.2277, 'entry_ask': 1.22786, 'exit_price': 1.22786, 'exit_time': 1021, 'profit': -0.013032499796362137}, {'type': 'short', 'entry_price': 1.22959, 'stop_loss_price': 0, 'take_profit_price': 0, 'position_size': 81.3279223155686, 'entry_time': 1022, 'entry_bid': 1.22959, 'entry_ask': 1.22975, 'exit_price': 1.22975, 'exit_time': 1022, 'profit': -0.01301246757048593}, {'type': 'short', 'entry_price': 1.22858, 'stop_loss_price': 0, 'take_profit_price': 0, 'position_size': 81.39478096664442, 'entry_time': 1023, 'entry_bid': 1.22858, 'entry_ask': 1.22918, 'exit_price': 1.22918, 'exit_time': 1023, 'profit': -0.04883686857998127}, {'type': 'short', 'entry_price': 1.22782, 'stop_loss_price': 0, 'take_profit_price': 0, 'position_size': 81.44516297177111, 'entry_time': 1024, 'entry_bid': 1.22782, 'entry_ask': 1.22801, 'exit_price': 1.22801, 'exit_time': 1024, 'profit': -0.015474580964647466}, {'type': 'short', 'entry_price': 1.22799, 'stop_loss_price': 0, 'take_profit_price': 0, 'position_size': 81.43388789810993, 'entry_time': 1025, 'entry_bid': 1.22799, 'entry_ask': 1.22816, 'exit_price': 1.22816, 'exit_time': 1025, 'profit': -0.013843760942678971}, {'type': 'short', 'entry_price': 1.21898, 'stop_loss_price': 0, 'take_profit_price': 0, 'position_size': 82.03580042330474, 'entry_time': 1026, 'entry_bid': 1.21898, 'entry_ask': 1.21919, 'exit_price': 1.21919, 'exit_time': 1026, 'profit': -0.01722751808889756}, {'type': 'short', 'entry_price': 1.22086, 'stop_loss_price': 0, 'take_profit_price': 0, 'position_size': 81.90947364972233, 'entry_time': 1027, 'entry_bid': 1.22086, 'entry_ask': 1.22103, 'exit_price': 1.22103, 'exit_time': 1027, 'profit': -0.01392461052045308}, {'type': 'short', 'entry_price': 1.22341, 'stop_loss_price': 0, 'take_profit_price': 0, 'position_size': 81.73874661805935, 'entry_time': 1028, 'entry_bid': 1.22341, 'entry_ask': 1.22359, 'exit_price': 1.22359, 'exit_time': 1028, 'profit': -0.014712974391238174}, {'type': 'short', 'entry_price': 1.22074, 'stop_loss_price': 0, 'take_profit_price': 0, 'position_size': 81.91752543539165, 'entry_time': 1029, 'entry_bid': 1.22074, 'entry_ask': 1.22134, 'exit_price': 1.22134, 'exit_time': 1029, 'profit': -0.049150515261247765}, {'type': 'short', 'entry_price': 1.22146, 'stop_loss_price': 0, 'take_profit_price': 0, 'position_size': 81.86923845234392, 'entry_time': 1030, 'entry_bid': 1.22146, 'entry_ask': 1.22162, 'exit_price': 1.22162, 'exit_time': 1030, 'profit': -0.013099078152369948}, {'type': 'short', 'entry_price': 1.22034, 'stop_loss_price': 0, 'take_profit_price': 0, 'position_size': 81.94437615746432, 'entry_time': 1031, 'entry_bid': 1.22034, 'entry_ask': 1.22054, 'exit_price': 1.22054, 'exit_time': 1031, 'profit': -0.01638887523149106}, {'type': 'short', 'entry_price': 1.21956, 'stop_loss_price': 0, 'take_profit_price': 0, 'position_size': 81.99678572599954, 'entry_time': 1032, 'entry_bid': 1.21956, 'entry_ask': 1.21974, 'exit_price': 1.21974, 'exit_time': 1032, 'profit': -0.014759421430685576}, {'type': 'short', 'entry_price': 1.22034, 'stop_loss_price': 0, 'take_profit_price': 0, 'position_size': 81.94437615746432, 'entry_time': 1033, 'entry_bid': 1.22034, 'entry_ask': 1.22051, 'exit_price': 1.22051, 'exit_time': 1033, 'profit': -0.013930543946769219}, {'type': 'short', 'entry_price': 1.2197, 'stop_loss_price': 0, 'take_profit_price': 0, 'position_size': 81.98737394441255, 'entry_time': 1034, 'entry_bid': 1.2197, 'entry_ask': 1.21987, 'exit_price': 1.21987, 'exit_time': 1034, 'profit': -0.01393785357055042}, {'type': 'short', 'entry_price': 1.21793, 'stop_loss_price': 0, 'take_profit_price': 0, 'position_size': 82.1065250055422, 'entry_time': 1035, 'entry_bid': 1.21793, 'entry_ask': 1.21853, 'exit_price': 1.21853, 'exit_time': 1035, 'profit': -0.04926391500331989}, {'type': 'short', 'entry_price': 1.21802, 'stop_loss_price': 0, 'take_profit_price': 0, 'position_size': 82.10045812055631, 'entry_time': 1036, 'entry_bid': 1.21802, 'entry_ask': 1.21821, 'exit_price': 1.21821, 'exit_time': 1036, 'profit': -0.015599087042898512}, {'type': 'short', 'entry_price': 1.21822, 'stop_loss_price': 0, 'take_profit_price': 0, 'position_size': 82.08697936333338, 'entry_time': 1037, 'entry_bid': 1.21822, 'entry_ask': 1.21844, 'exit_price': 1.21844, 'exit_time': 1037, 'profit': -0.018059135459924065}, {'type': 'short', 'entry_price': 1.21682, 'stop_loss_price': 0, 'take_profit_price': 0, 'position_size': 82.18142371098436, 'entry_time': 1038, 'entry_bid': 1.21682, 'entry_ask': 1.21707, 'exit_price': 1.21707, 'exit_time': 1038, 'profit': -0.020545355927752952}, {'type': 'short', 'entry_price': 1.2189, 'stop_loss_price': 0, 'take_profit_price': 0, 'position_size': 82.0411846747067, 'entry_time': 1039, 'entry_bid': 1.2189, 'entry_ask': 1.21906, 'exit_price': 1.21906, 'exit_time': 1039, 'profit': -0.013126589547947983}, {'type': 'short', 'entry_price': 1.21646, 'stop_loss_price': 0, 'take_profit_price': 0, 'position_size': 82.20574453742827, 'entry_time': 1040, 'entry_bid': 1.21646, 'entry_ask': 1.21663, 'exit_price': 1.21663, 'exit_time': 1040, 'profit': -0.013974976571363092}, {'type': 'short', 'entry_price': 1.21583, 'stop_loss_price': 0, 'take_profit_price': 0, 'position_size': 82.2483406397276, 'entry_time': 1041, 'entry_bid': 1.21583, 'entry_ask': 1.21692, 'exit_price': 1.21692, 'exit_time': 1041, 'profit': -0.08965069129730599}, {'type': 'short', 'entry_price': 1.21479, 'stop_loss_price': 0, 'take_profit_price': 0, 'position_size': 82.31875468187917, 'entry_time': 1042, 'entry_bid': 1.21479, 'entry_ask': 1.21499, 'exit_price': 1.21499, 'exit_time': 1042, 'profit': -0.01646375093637402}, {'type': 'short', 'entry_price': 1.21582, 'stop_loss_price': 0, 'take_profit_price': 0, 'position_size': 82.24901712424537, 'entry_time': 1043, 'entry_bid': 1.21582, 'entry_ask': 1.21601, 'exit_price': 1.21601, 'exit_time': 1043, 'profit': -0.015627313253617683}, {'type': 'short', 'entry_price': 1.20839, 'stop_loss_price': 0, 'take_profit_price': 0, 'position_size': 82.75473977772076, 'entry_time': 1044, 'entry_bid': 1.20839, 'entry_ask': 1.20856, 'exit_price': 1.20856, 'exit_time': 1044, 'profit': -0.014068305762212817}, {'type': 'short', 'entry_price': 1.20705, 'stop_loss_price': 0, 'take_profit_price': 0, 'position_size': 82.84660950250611, 'entry_time': 1045, 'entry_bid': 1.20705, 'entry_ask': 1.20722, 'exit_price': 1.20722, 'exit_time': 1045, 'profit': -0.014083923615426328}, {'type': 'short', 'entry_price': 1.20753, 'stop_loss_price': 0, 'take_profit_price': 0, 'position_size': 82.81367750697706, 'entry_time': 1046, 'entry_bid': 1.20753, 'entry_ask': 1.20779, 'exit_price': 1.20779, 'exit_time': 1046, 'profit': -0.021531556151807987}, {'type': 'short', 'entry_price': 1.20626, 'stop_loss_price': 0, 'take_profit_price': 0, 'position_size': 82.90086714307031, 'entry_time': 1047, 'entry_bid': 1.20626, 'entry_ask': 1.20686, 'exit_price': 1.20686, 'exit_time': 1047, 'profit': -0.04974052028583671}, {'type': 'short', 'entry_price': 1.20578, 'stop_loss_price': 0, 'take_profit_price': 0, 'position_size': 82.93386853323159, 'entry_time': 1048, 'entry_bid': 1.20578, 'entry_ask': 1.20598, 'exit_price': 1.20598, 'exit_time': 1048, 'profit': -0.016586773706644492}, {'type': 'short', 'entry_price': 1.2038, 'stop_loss_price': 0, 'take_profit_price': 0, 'position_size': 83.0702774547267, 'entry_time': 1049, 'entry_bid': 1.2038, 'entry_ask': 1.20398, 'exit_price': 1.20398, 'exit_time': 1049, 'profit': -0.014952649941856539}, {'type': 'short', 'entry_price': 1.19908, 'stop_loss_price': 0, 'take_profit_price': 0, 'position_size': 83.397271241285, 'entry_time': 1050, 'entry_bid': 1.19908, 'entry_ask': 1.19929, 'exit_price': 1.19929, 'exit_time': 1050, 'profit': -0.017513426960673477}, {'type': 'short', 'entry_price': 1.20191, 'stop_loss_price': 0, 'take_profit_price': 0, 'position_size': 83.20090522584886, 'entry_time': 1051, 'entry_bid': 1.20191, 'entry_ask': 1.20206, 'exit_price': 1.20206, 'exit_time': 1051, 'profit': -0.012480135783866716}, {'type': 'short', 'entry_price': 1.20907, 'stop_loss_price': 0, 'take_profit_price': 0, 'position_size': 82.70819720942542, 'entry_time': 1052, 'entry_bid': 1.20907, 'entry_ask': 1.20929, 'exit_price': 1.20929, 'exit_time': 1052, 'profit': -0.018195803386064243}, {'type': 'short', 'entry_price': 1.2083, 'stop_loss_price': 0, 'take_profit_price': 0, 'position_size': 82.76090374906894, 'entry_time': 1053, 'entry_bid': 1.2083, 'entry_ask': 1.2089, 'exit_price': 1.2089, 'exit_time': 1053, 'profit': -0.049656542249454275}, {'type': 'short', 'entry_price': 1.20896, 'stop_loss_price': 0, 'take_profit_price': 0, 'position_size': 82.71572260455267, 'entry_time': 1054, 'entry_bid': 1.20896, 'entry_ask': 1.20918, 'exit_price': 1.20918, 'exit_time': 1054, 'profit': -0.018197458972992235}, {'type': 'short', 'entry_price': 1.21002, 'stop_loss_price': 0, 'take_profit_price': 0, 'position_size': 82.6432620948414, 'entry_time': 1055, 'entry_bid': 1.21002, 'entry_ask': 1.21021, 'exit_price': 1.21021, 'exit_time': 1055, 'profit': -0.01570221979801263}, {'type': 'short', 'entry_price': 1.21515, 'stop_loss_price': 0, 'take_profit_price': 0, 'position_size': 82.29436695058223, 'entry_time': 1056, 'entry_bid': 1.21515, 'entry_ask': 1.21534, 'exit_price': 1.21534, 'exit_time': 1056, 'profit': -0.015635929720621694}, {'type': 'short', 'entry_price': 1.21813, 'stop_loss_price': 1.2231658, 'take_profit_price': 1.19578, 'position_size': 19857.818022955063, 'entry_time': 1057, 'entry_bid': 1.21813, 'entry_ask': 1.21831, 'exit_price': 1.22561, 'exit_time': 1059, 'profit': -148.53647881170693}, {'type': 'short', 'entry_price': 1.22351, 'stop_loss_price': 0, 'take_profit_price': 0, 'position_size': 81.73206594143079, 'entry_time': 1060, 'entry_bid': 1.22351, 'entry_ask': 1.22372, 'exit_price': 1.22372, 'exit_time': 1060, 'profit': -0.017163733847685873}, {'type': 'short', 'entry_price': 1.22403, 'stop_loss_price': 0, 'take_profit_price': 0, 'position_size': 81.69734401934593, 'entry_time': 1061, 'entry_bid': 1.22403, 'entry_ask': 1.2242, 'exit_price': 1.2242, 'exit_time': 1061, 'profit': -0.013888548483289093}, {'type': 'short', 'entry_price': 1.22672, 'stop_loss_price': 0, 'take_profit_price': 0, 'position_size': 81.518194861093, 'entry_time': 1062, 'entry_bid': 1.22672, 'entry_ask': 1.2269, 'exit_price': 1.2269, 'exit_time': 1062, 'profit': -0.014673275075002363}, {'type': 'short', 'entry_price': 1.23308, 'stop_loss_price': 0, 'take_profit_price': 0, 'position_size': 81.09773899503682, 'entry_time': 1063, 'entry_bid': 1.23308, 'entry_ask': 1.23326, 'exit_price': 1.23326, 'exit_time': 1063, 'profit': -0.014597593019112223}, {'type': 'short', 'entry_price': 1.23153, 'stop_loss_price': 0, 'take_profit_price': 0, 'position_size': 81.19980836845225, 'entry_time': 1064, 'entry_bid': 1.23153, 'entry_ask': 1.23169, 'exit_price': 1.23169, 'exit_time': 1064, 'profit': -0.012991969338947324}, {'type': 'short', 'entry_price': 1.23287, 'stop_loss_price': 0, 'take_profit_price': 0, 'position_size': 81.1115527184537, 'entry_time': 1065, 'entry_bid': 1.23287, 'entry_ask': 1.23347, 'exit_price': 1.23347, 'exit_time': 1065, 'profit': -0.04866693163108487}, {'type': 'short', 'entry_price': 1.23225, 'stop_loss_price': 0, 'take_profit_price': 0, 'position_size': 81.15236356258876, 'entry_time': 1066, 'entry_bid': 1.23225, 'entry_ask': 1.23244, 'exit_price': 1.23244, 'exit_time': 1066, 'profit': -0.01541894907688476}, {'type': 'short', 'entry_price': 1.23272, 'stop_loss_price': 0, 'take_profit_price': 0, 'position_size': 81.12142254526574, 'entry_time': 1067, 'entry_bid': 1.23272, 'entry_ask': 1.23288, 'exit_price': 1.23288, 'exit_time': 1067, 'profit': -0.012979427607237488}, {'type': 'short', 'entry_price': 1.22974, 'stop_loss_price': 0, 'take_profit_price': 0, 'position_size': 81.31800217932245, 'entry_time': 1068, 'entry_bid': 1.22974, 'entry_ask': 1.22993, 'exit_price': 1.22993, 'exit_time': 1068, 'profit': -0.015450420414064147}, {'type': 'short', 'entry_price': 1.23061, 'stop_loss_price': 0, 'take_profit_price': 0, 'position_size': 81.26051307887958, 'entry_time': 1069, 'entry_bid': 1.23061, 'entry_ask': 1.23079, 'exit_price': 1.23079, 'exit_time': 1069, 'profit': -0.01462689235420393}, {'type': 'short', 'entry_price': 1.2288, 'stop_loss_price': 0, 'take_profit_price': 0, 'position_size': 81.38020833333334, 'entry_time': 1070, 'entry_bid': 1.2288, 'entry_ask': 1.22899, 'exit_price': 1.22899, 'exit_time': 1070, 'profit': -0.015462239583344282}, {'type': 'short', 'entry_price': 1.22808, 'stop_loss_price': 0, 'take_profit_price': 0, 'position_size': 81.42792000521138, 'entry_time': 1071, 'entry_bid': 1.22808, 'entry_ask': 1.22917, 'exit_price': 1.22917, 'exit_time': 1071, 'profit': -0.08875643280568328}, {'type': 'short', 'entry_price': 1.22791, 'stop_loss_price': 0, 'take_profit_price': 0, 'position_size': 81.4391934262283, 'entry_time': 1072, 'entry_bid': 1.22791, 'entry_ask': 1.2281, 'exit_price': 1.2281, 'exit_time': 1072, 'profit': -0.015473446750976248}, {'type': 'short', 'entry_price': 1.22762, 'stop_loss_price': 0, 'take_profit_price': 0, 'position_size': 81.45843176227172, 'entry_time': 1073, 'entry_bid': 1.22762, 'entry_ask': 1.22781, 'exit_price': 1.22781, 'exit_time': 1073, 'profit': -0.015477102034842583}, {'type': 'short', 'entry_price': 1.23138, 'stop_loss_price': 0, 'take_profit_price': 0, 'position_size': 81.20969968653057, 'entry_time': 1074, 'entry_bid': 1.23138, 'entry_ask': 1.23158, 'exit_price': 1.23158, 'exit_time': 1074, 'profit': -0.016241939937304325}, {'type': 'short', 'entry_price': 1.23621, 'stop_loss_price': 0, 'take_profit_price': 0, 'position_size': 80.8924050120934, 'entry_time': 1075, 'entry_bid': 1.23621, 'entry_ask': 1.23637, 'exit_price': 1.23637, 'exit_time': 1075, 'profit': -0.012942784801929928}, {'type': 'short', 'entry_price': 1.23467, 'stop_loss_price': 0, 'take_profit_price': 0, 'position_size': 80.99330185393669, 'entry_time': 1076, 'entry_bid': 1.23467, 'entry_ask': 1.23485, 'exit_price': 1.23485, 'exit_time': 1076, 'profit': -0.01457879433371419}, {'type': 'short', 'entry_price': 1.23421, 'stop_loss_price': 0, 'take_profit_price': 0, 'position_size': 81.02348870937685, 'entry_time': 1077, 'entry_bid': 1.23421, 'entry_ask': 1.23481, 'exit_price': 1.23481, 'exit_time': 1077, 'profit': -0.048614093225620755}, {'type': 'short', 'entry_price': 1.23414, 'stop_loss_price': 0, 'take_profit_price': 0, 'position_size': 81.02808433403017, 'entry_time': 1078, 'entry_bid': 1.23414, 'entry_ask': 1.23435, 'exit_price': 1.23435, 'exit_time': 1078, 'profit': -0.017015897710149858}, {'type': 'short', 'entry_price': 1.23386, 'stop_loss_price': 0, 'take_profit_price': 0, 'position_size': 81.04647204707179, 'entry_time': 1079, 'entry_bid': 1.23386, 'entry_ask': 1.23404, 'exit_price': 1.23404, 'exit_time': 1079, 'profit': -0.014588364968478514}, {'type': 'short', 'entry_price': 1.23243, 'stop_loss_price': 0, 'take_profit_price': 0, 'position_size': 81.14051102293843, 'entry_time': 1080, 'entry_bid': 1.23243, 'entry_ask': 1.23259, 'exit_price': 1.23259, 'exit_time': 1080, 'profit': -0.012982481763683131}, {'type': 'short', 'entry_price': 1.23713, 'stop_loss_price': 0, 'take_profit_price': 0, 'position_size': 80.83224883399481, 'entry_time': 1081, 'entry_bid': 1.23713, 'entry_ask': 1.23731, 'exit_price': 1.23731, 'exit_time': 1081, 'profit': -0.014549804790106695}, {'type': 'short', 'entry_price': 1.23444, 'stop_loss_price': 0, 'take_profit_price': 0, 'position_size': 81.00839246945984, 'entry_time': 1082, 'entry_bid': 1.23444, 'entry_ask': 1.2346, 'exit_price': 1.2346, 'exit_time': 1082, 'profit': -0.01296134279510855}, {'type': 'short', 'entry_price': 1.23549, 'stop_loss_price': 0, 'take_profit_price': 0, 'position_size': 80.93954625290371, 'entry_time': 1083, 'entry_bid': 1.23549, 'entry_ask': 1.23609, 'exit_price': 1.23609, 'exit_time': 1083, 'profit': -0.048563727751736875}, {'type': 'short', 'entry_price': 1.23499, 'stop_loss_price': 0, 'take_profit_price': 0, 'position_size': 80.97231556530822, 'entry_time': 1084, 'entry_bid': 1.23499, 'entry_ask': 1.23522, 'exit_price': 1.23522, 'exit_time': 1084, 'profit': -0.018623632580017042}, {'type': 'short', 'entry_price': 1.23574, 'stop_loss_price': 0, 'take_profit_price': 0, 'position_size': 80.92317154093902, 'entry_time': 1085, 'entry_bid': 1.23574, 'entry_ask': 1.23593, 'exit_price': 1.23593, 'exit_time': 1085, 'profit': -0.01537540259277133}, {'type': 'short', 'entry_price': 1.23585, 'stop_loss_price': 0, 'take_profit_price': 0, 'position_size': 80.91596876643607, 'entry_time': 1086, 'entry_bid': 1.23585, 'entry_ask': 1.23605, 'exit_price': 1.23605, 'exit_time': 1086, 'profit': -0.016183193753303397}, {'type': 'short', 'entry_price': 1.2335, 'stop_loss_price': 0, 'take_profit_price': 0, 'position_size': 81.07012565869476, 'entry_time': 1087, 'entry_bid': 1.2335, 'entry_ask': 1.23366, 'exit_price': 1.23366, 'exit_time': 1087, 'profit': -0.012971220105386134}, {'type': 'short', 'entry_price': 1.2317, 'stop_loss_price': 0, 'take_profit_price': 0, 'position_size': 81.1886011204027, 'entry_time': 1088, 'entry_bid': 1.2317, 'entry_ask': 1.23187, 'exit_price': 1.23187, 'exit_time': 1088, 'profit': -0.01380206219046874}, {'type': 'short', 'entry_price': 1.23273, 'stop_loss_price': 0, 'take_profit_price': 0, 'position_size': 81.12076448208447, 'entry_time': 1089, 'entry_bid': 1.23273, 'entry_ask': 1.23333, 'exit_price': 1.23333, 'exit_time': 1089, 'profit': -0.04867245868924532}, {'type': 'short', 'entry_price': 1.23309, 'stop_loss_price': 0, 'take_profit_price': 0, 'position_size': 81.09708131604343, 'entry_time': 1090, 'entry_bid': 1.23309, 'entry_ask': 1.23331, 'exit_price': 1.23331, 'exit_time': 1090, 'profit': -0.017841357889520387}, {'type': 'short', 'entry_price': 1.23289, 'stop_loss_price': 0, 'take_profit_price': 0, 'position_size': 81.11023692300205, 'entry_time': 1091, 'entry_bid': 1.23289, 'entry_ask': 1.23306, 'exit_price': 1.23306, 'exit_time': 1091, 'profit': -0.01378874027691063}, {'type': 'short', 'entry_price': 1.23217, 'stop_loss_price': 0, 'take_profit_price': 0, 'position_size': 81.1576324695456, 'entry_time': 1092, 'entry_bid': 1.23217, 'entry_ask': 1.23238, 'exit_price': 1.23238, 'exit_time': 1092, 'profit': -0.017043102818608106}, {'type': 'short', 'entry_price': 1.22897, 'stop_loss_price': 0, 'take_profit_price': 0, 'position_size': 81.36895123558753, 'entry_time': 1093, 'entry_bid': 1.22897, 'entry_ask': 1.22918, 'exit_price': 1.22918, 'exit_time': 1093, 'profit': -0.01708747975947692}, {'type': 'short', 'entry_price': 1.23486, 'stop_loss_price': 0, 'take_profit_price': 0, 'position_size': 80.98083993327178, 'entry_time': 1094, 'entry_bid': 1.23486, 'entry_ask': 1.23503, 'exit_price': 1.23503, 'exit_time': 1094, 'profit': -0.013766742788656484}, {'type': 'short', 'entry_price': 1.2328, 'stop_loss_price': 0, 'take_profit_price': 0, 'position_size': 81.11615833874109, 'entry_time': 1095, 'entry_bid': 1.2328, 'entry_ask': 1.2334, 'exit_price': 1.2334, 'exit_time': 1095, 'profit': -0.0486696950032573}, {'type': 'short', 'entry_price': 1.23311, 'stop_loss_price': 0, 'take_profit_price': 0, 'position_size': 81.09576599005766, 'entry_time': 1096, 'entry_bid': 1.23311, 'entry_ask': 1.2333, 'exit_price': 1.2333, 'exit_time': 1096, 'profit': -0.015408195538121863}, {'type': 'short', 'entry_price': 1.2348, 'stop_loss_price': 0, 'take_profit_price': 0, 'position_size': 80.98477486232589, 'entry_time': 1097, 'entry_bid': 1.2348, 'entry_ask': 1.235, 'exit_price': 1.235, 'exit_time': 1097, 'profit': -0.016196954972481376}, {'type': 'short', 'entry_price': 1.24485, 'stop_loss_price': 0, 'take_profit_price': 0, 'position_size': 80.33096356990802, 'entry_time': 1098, 'entry_bid': 1.24485, 'entry_ask': 1.24501, 'exit_price': 1.24501, 'exit_time': 1098, 'profit': -0.0128529541711803}, {'type': 'short', 'entry_price': 1.24543, 'stop_loss_price': 0, 'take_profit_price': 0, 'position_size': 80.29355323061111, 'entry_time': 1099, 'entry_bid': 1.24543, 'entry_ask': 1.24563, 'exit_price': 1.24563, 'exit_time': 1099, 'profit': -0.016058710646120453}, {'type': 'short', 'entry_price': 1.24659, 'stop_loss_price': 0, 'take_profit_price': 0, 'position_size': 80.21883698730136, 'entry_time': 1100, 'entry_bid': 1.24659, 'entry_ask': 1.24675, 'exit_price': 1.24675, 'exit_time': 1100, 'profit': -0.012835013917963241}, {'type': 'short', 'entry_price': 1.24963, 'stop_loss_price': 0, 'take_profit_price': 0, 'position_size': 80.02368701135536, 'entry_time': 1101, 'entry_bid': 1.24963, 'entry_ask': 1.25072, 'exit_price': 1.25072, 'exit_time': 1101, 'profit': -0.08722581884238018}, {'type': 'short', 'entry_price': 1.24871, 'stop_loss_price': 0, 'take_profit_price': 0, 'position_size': 80.08264528993922, 'entry_time': 1102, 'entry_bid': 1.24871, 'entry_ask': 1.24895, 'exit_price': 1.24895, 'exit_time': 1102, 'profit': -0.019219834869586852}, {'type': 'short', 'entry_price': 1.2468, 'stop_loss_price': 0, 'take_profit_price': 0, 'position_size': 80.20532563362208, 'entry_time': 1103, 'entry_bid': 1.2468, 'entry_ask': 1.247, 'exit_price': 1.247, 'exit_time': 1103, 'profit': -0.01604106512674046}, {'type': 'short', 'entry_price': 1.24252, 'stop_loss_price': 0, 'take_profit_price': 0, 'position_size': 80.48160190580433, 'entry_time': 1104, 'entry_bid': 1.24252, 'entry_ask': 1.24271, 'exit_price': 1.24271, 'exit_time': 1104, 'profit': -0.015291504362095776}, {'type': 'short', 'entry_price': 1.2447, 'stop_loss_price': 0, 'take_profit_price': 0, 'position_size': 80.34064433196755, 'entry_time': 1105, 'entry_bid': 1.2447, 'entry_ask': 1.24486, 'exit_price': 1.24486, 'exit_time': 1105, 'profit': -0.012854503093127663}, {'type': 'short', 'entry_price': 1.24252, 'stop_loss_price': 0, 'take_profit_price': 0, 'position_size': 80.48160190580433, 'entry_time': 1106, 'entry_bid': 1.24252, 'entry_ask': 1.24269, 'exit_price': 1.24269, 'exit_time': 1106, 'profit': -0.013681872323987015}, {'type': 'short', 'entry_price': 1.24263, 'stop_loss_price': 0, 'take_profit_price': 0, 'position_size': 80.47447751945471, 'entry_time': 1107, 'entry_bid': 1.24263, 'entry_ask': 1.24323, 'exit_price': 1.24323, 'exit_time': 1107, 'profit': -0.048284686511685375}, {'type': 'short', 'entry_price': 1.24186, 'stop_loss_price': 0, 'take_profit_price': 0, 'position_size': 80.52437472823024, 'entry_time': 1108, 'entry_bid': 1.24186, 'entry_ask': 1.24203, 'exit_price': 1.24203, 'exit_time': 1108, 'profit': -0.013689143703799422}, {'type': 'short', 'entry_price': 1.24165, 'stop_loss_price': 0, 'take_profit_price': 0, 'position_size': 80.53799379857448, 'entry_time': 1109, 'entry_bid': 1.24165, 'entry_ask': 1.24182, 'exit_price': 1.24182, 'exit_time': 1109, 'profit': -0.01369145894575794}, {'type': 'short', 'entry_price': 1.24029, 'stop_loss_price': 0, 'take_profit_price': 0, 'position_size': 80.62630513831444, 'entry_time': 1110, 'entry_bid': 1.24029, 'entry_ask': 1.2405, 'exit_price': 1.2405, 'exit_time': 1110, 'profit': -0.016931524079049538}, {'type': 'short', 'entry_price': 1.2422, 'stop_loss_price': 0, 'take_profit_price': 0, 'position_size': 80.50233456770246, 'entry_time': 1111, 'entry_bid': 1.2422, 'entry_ask': 1.24233, 'exit_price': 1.24233, 'exit_time': 1111, 'profit': -0.01046530349379838}, {'type': 'short', 'entry_price': 1.25021, 'stop_loss_price': 0, 'take_profit_price': 0, 'position_size': 79.98656225754073, 'entry_time': 1112, 'entry_bid': 1.25021, 'entry_ask': 1.25038, 'exit_price': 1.25038, 'exit_time': 1112, 'profit': -0.013597715583782201}, {'type': 'short', 'entry_price': 1.24971, 'stop_loss_price': 0, 'take_profit_price': 0, 'position_size': 80.0185643069192, 'entry_time': 1113, 'entry_bid': 1.24971, 'entry_ask': 1.25031, 'exit_price': 1.25031, 'exit_time': 1113, 'profit': -0.04801113858414623}, {'type': 'short', 'entry_price': 1.24866, 'stop_loss_price': 0, 'take_profit_price': 0, 'position_size': 80.08585203337978, 'entry_time': 1114, 'entry_bid': 1.24866, 'entry_ask': 1.24885, 'exit_price': 1.24885, 'exit_time': 1114, 'profit': -0.015216311886335147}, {'type': 'short', 'entry_price': 1.2485, 'stop_loss_price': 0, 'take_profit_price': 0, 'position_size': 80.0961153384061, 'entry_time': 1115, 'entry_bid': 1.2485, 'entry_ask': 1.24869, 'exit_price': 1.24869, 'exit_time': 1115, 'profit': -0.015218261914307932}, {'type': 'short', 'entry_price': 1.24479, 'stop_loss_price': 0, 'take_profit_price': 0, 'position_size': 80.33483559475896, 'entry_time': 1116, 'entry_bid': 1.24479, 'entry_ask': 1.24498, 'exit_price': 1.24498, 'exit_time': 1116, 'profit': -0.015263618762997169}, {'type': 'short', 'entry_price': 1.2464, 'stop_loss_price': 0, 'take_profit_price': 0, 'position_size': 80.23106546854943, 'entry_time': 1117, 'entry_bid': 1.2464, 'entry_ask': 1.24657, 'exit_price': 1.24657, 'exit_time': 1117, 'profit': -0.013639281129653683}, {'type': 'short', 'entry_price': 1.24785, 'stop_loss_price': 0, 'take_profit_price': 0, 'position_size': 80.13783707977723, 'entry_time': 1118, 'entry_bid': 1.24785, 'entry_ask': 1.24804, 'exit_price': 1.24804, 'exit_time': 1118, 'profit': -0.015226189045168452}, {'type': 'short', 'entry_price': 1.24682, 'stop_loss_price': 0, 'take_profit_price': 0, 'position_size': 80.20403907540783, 'entry_time': 1119, 'entry_bid': 1.24682, 'entry_ask': 1.24742, 'exit_price': 1.24742, 'exit_time': 1119, 'profit': -0.0481224234452394}, {'type': 'short', 'entry_price': 1.24656, 'stop_loss_price': 0, 'take_profit_price': 0, 'position_size': 80.22076755230395, 'entry_time': 1120, 'entry_bid': 1.24656, 'entry_ask': 1.24675, 'exit_price': 1.24675, 'exit_time': 1120, 'profit': -0.01524194583494854}, {'type': 'short', 'entry_price': 1.24777, 'stop_loss_price': 0, 'take_profit_price': 0, 'position_size': 80.14297506752045, 'entry_time': 1121, 'entry_bid': 1.24777, 'entry_ask': 1.24796, 'exit_price': 1.24796, 'exit_time': 1121, 'profit': -0.015227165262821871}, {'type': 'short', 'entry_price': 1.24941, 'stop_loss_price': 0, 'take_profit_price': 0, 'position_size': 80.0377778311363, 'entry_time': 1122, 'entry_bid': 1.24941, 'entry_ask': 1.24959, 'exit_price': 1.24959, 'exit_time': 1122, 'profit': -0.014406800009610055}, {'type': 'short', 'entry_price': 1.24821, 'stop_loss_price': 0, 'take_profit_price': 0, 'position_size': 80.11472428517637, 'entry_time': 1123, 'entry_bid': 1.24821, 'entry_ask': 1.24837, 'exit_price': 1.24837, 'exit_time': 1123, 'profit': -0.012818355885623248}, {'type': 'short', 'entry_price': 1.24896, 'stop_loss_price': 0, 'take_profit_price': 0, 'position_size': 80.06661542403279, 'entry_time': 1124, 'entry_bid': 1.24896, 'entry_ask': 1.24914, 'exit_price': 1.24914, 'exit_time': 1124, 'profit': -0.014411990776313648}, {'type': 'short', 'entry_price': 1.25211, 'stop_loss_price': 0, 'take_profit_price': 0, 'position_size': 79.865187563393, 'entry_time': 1125, 'entry_bid': 1.25211, 'entry_ask': 1.25271, 'exit_price': 1.25271, 'exit_time': 1125, 'profit': -0.047919112538030516}, {'type': 'short', 'entry_price': 1.25253, 'stop_loss_price': 0, 'take_profit_price': 0, 'position_size': 79.83840706410226, 'entry_time': 1126, 'entry_bid': 1.25253, 'entry_ask': 1.25272, 'exit_price': 1.25272, 'exit_time': 1126, 'profit': -0.015169297342190167}, {'type': 'short', 'entry_price': 1.25574, 'stop_loss_price': 0, 'take_profit_price': 0, 'position_size': 79.6343192062051, 'entry_time': 1127, 'entry_bid': 1.25574, 'entry_ask': 1.25591, 'exit_price': 1.25591, 'exit_time': 1127, 'profit': -0.013537834265055145}, {'type': 'short', 'entry_price': 1.25313, 'stop_loss_price': 0, 'take_profit_price': 0, 'position_size': 79.80018034840758, 'entry_time': 1128, 'entry_bid': 1.25313, 'entry_ask': 1.25329, 'exit_price': 1.25329, 'exit_time': 1128, 'profit': -0.012768028855740262}, {'type': 'short', 'entry_price': 1.24828, 'stop_loss_price': 0, 'take_profit_price': 0, 'position_size': 80.11023167879002, 'entry_time': 1129, 'entry_bid': 1.24828, 'entry_ask': 1.24845, 'exit_price': 1.24845, 'exit_time': 1129, 'profit': -0.013618739385394582}, {'type': 'short', 'entry_price': 1.2484, 'stop_loss_price': 0, 'take_profit_price': 0, 'position_size': 80.10253123998719, 'entry_time': 1130, 'entry_bid': 1.2484, 'entry_ask': 1.24859, 'exit_price': 1.24859, 'exit_time': 1130, 'profit': -0.01521948093560834}, {'type': 'short', 'entry_price': 1.24684, 'stop_loss_price': 0, 'take_profit_price': 0, 'position_size': 80.20275255846781, 'entry_time': 1131, 'entry_bid': 1.24684, 'entry_ask': 1.24793, 'exit_price': 1.24793, 'exit_time': 1131, 'profit': -0.08742100028873274}, {'type': 'short', 'entry_price': 1.24784, 'stop_loss_price': 0, 'take_profit_price': 0, 'position_size': 80.13847929221694, 'entry_time': 1132, 'entry_bid': 1.24784, 'entry_ask': 1.24806, 'exit_price': 1.24806, 'exit_time': 1132, 'profit': -0.017630465444278667}, {'type': 'short', 'entry_price': 1.24827, 'stop_loss_price': 0, 'take_profit_price': 0, 'position_size': 80.11087344885321, 'entry_time': 1133, 'entry_bid': 1.24827, 'entry_ask': 1.24845, 'exit_price': 1.24845, 'exit_time': 1133, 'profit': -0.014419957220799105}, {'type': 'short', 'entry_price': 1.24352, 'stop_loss_price': 0, 'take_profit_price': 0, 'position_size': 80.41688111168297, 'entry_time': 1134, 'entry_bid': 1.24352, 'entry_ask': 1.24369, 'exit_price': 1.24369, 'exit_time': 1134, 'profit': -0.013670869788986385}, {'type': 'short', 'entry_price': 1.24201, 'stop_loss_price': 0, 'take_profit_price': 0, 'position_size': 80.51464964050209, 'entry_time': 1135, 'entry_bid': 1.24201, 'entry_ask': 1.24218, 'exit_price': 1.24218, 'exit_time': 1135, 'profit': -0.013687490438885635}, {'type': 'short', 'entry_price': 1.24318, 'stop_loss_price': 0, 'take_profit_price': 0, 'position_size': 80.43887449926801, 'entry_time': 1136, 'entry_bid': 1.24318, 'entry_ask': 1.24333, 'exit_price': 1.24333, 'exit_time': 1136, 'profit': -0.012065831174897804}, {'type': 'short', 'entry_price': 1.24296, 'stop_loss_price': 0, 'take_profit_price': 0, 'position_size': 80.4531119263693, 'entry_time': 1137, 'entry_bid': 1.24296, 'entry_ask': 1.24356, 'exit_price': 1.24356, 'exit_time': 1137, 'profit': -0.048271867155816266}, {'type': 'short', 'entry_price': 1.24359, 'stop_loss_price': 0, 'take_profit_price': 0, 'position_size': 80.41235455415371, 'entry_time': 1138, 'entry_bid': 1.24359, 'entry_ask': 1.24379, 'exit_price': 1.24379, 'exit_time': 1138, 'profit': -0.01608247091082897}, {'type': 'short', 'entry_price': 1.24276, 'stop_loss_price': 0, 'take_profit_price': 0, 'position_size': 80.46605941613826, 'entry_time': 1139, 'entry_bid': 1.24276, 'entry_ask': 1.24295, 'exit_price': 1.24295, 'exit_time': 1139, 'profit': -0.015288551289059227}, {'type': 'short', 'entry_price': 1.24276, 'stop_loss_price': 0, 'take_profit_price': 0, 'position_size': 80.46605941613826, 'entry_time': 1140, 'entry_bid': 1.24276, 'entry_ask': 1.24295, 'exit_price': 1.24295, 'exit_time': 1140, 'profit': -0.015288551289059227}, {'type': 'short', 'entry_price': 1.24819, 'stop_loss_price': 0, 'take_profit_price': 0, 'position_size': 80.1160079795544, 'entry_time': 1141, 'entry_bid': 1.24819, 'entry_ask': 1.24838, 'exit_price': 1.24838, 'exit_time': 1141, 'profit': -0.015222041516126111}, {'type': 'short', 'entry_price': 1.24868, 'stop_loss_price': 0, 'take_profit_price': 0, 'position_size': 80.08456930518628, 'entry_time': 1142, 'entry_bid': 1.24868, 'entry_ask': 1.24884, 'exit_price': 1.24884, 'exit_time': 1142, 'profit': -0.012813531088824838}, {'type': 'short', 'entry_price': 1.24914, 'stop_loss_price': 0, 'take_profit_price': 0, 'position_size': 80.05507789359079, 'entry_time': 1143, 'entry_bid': 1.24914, 'entry_ask': 1.24974, 'exit_price': 1.24974, 'exit_time': 1143, 'profit': -0.048033046736166964}, {'type': 'short', 'entry_price': 1.2479, 'stop_loss_price': 0, 'take_profit_price': 0, 'position_size': 80.1346261719689, 'entry_time': 1144, 'entry_bid': 1.2479, 'entry_ask': 1.24808, 'exit_price': 1.24808, 'exit_time': 1144, 'profit': -0.014424232710959932}, {'type': 'short', 'entry_price': 1.24639, 'stop_loss_price': 0, 'take_profit_price': 0, 'position_size': 80.23170917610057, 'entry_time': 1145, 'entry_bid': 1.24639, 'entry_ask': 1.2466, 'exit_price': 1.2466, 'exit_time': 1145, 'profit': -0.016848658926966794}, {'type': 'short', 'entry_price': 1.24328, 'stop_loss_price': 0, 'take_profit_price': 0, 'position_size': 80.43240460716814, 'entry_time': 1146, 'entry_bid': 1.24328, 'entry_ask': 1.24346, 'exit_price': 1.24346, 'exit_time': 1146, 'profit': -0.014477832829295814}, {'type': 'short', 'entry_price': 1.23833, 'stop_loss_price': 0, 'take_profit_price': 0, 'position_size': 80.75391858389929, 'entry_time': 1147, 'entry_bid': 1.23833, 'entry_ask': 1.23849, 'exit_price': 1.23849, 'exit_time': 1147, 'profit': -0.012920626973436808}, {'type': 'short', 'entry_price': 1.23547, 'stop_loss_price': 0, 'take_profit_price': 0, 'position_size': 80.94085651614365, 'entry_time': 1148, 'entry_bid': 1.23547, 'entry_ask': 1.23563, 'exit_price': 1.23563, 'exit_time': 1148, 'profit': -0.012950537042577964}, {'type': 'short', 'entry_price': 1.23478, 'stop_loss_price': 0, 'take_profit_price': 0, 'position_size': 80.98608659032378, 'entry_time': 1149, 'entry_bid': 1.23478, 'entry_ask': 1.23538, 'exit_price': 1.23538, 'exit_time': 1149, 'profit': -0.048591651954188915}, {'type': 'short', 'entry_price': 1.23588, 'stop_loss_price': 0, 'take_profit_price': 0, 'position_size': 80.91400459591546, 'entry_time': 1150, 'entry_bid': 1.23588, 'entry_ask': 1.23605, 'exit_price': 1.23605, 'exit_time': 1150, 'profit': -0.01375538078130591}, {'type': 'short', 'entry_price': 1.23712, 'stop_loss_price': 0, 'take_profit_price': 0, 'position_size': 80.83290222452148, 'entry_time': 1151, 'entry_bid': 1.23712, 'entry_ask': 1.23729, 'exit_price': 1.23729, 'exit_time': 1151, 'profit': -0.013741593378168932}, {'type': 'short', 'entry_price': 1.23265, 'stop_loss_price': 0, 'take_profit_price': 0, 'position_size': 81.12602928649657, 'entry_time': 1152, 'entry_bid': 1.23265, 'entry_ask': 1.23281, 'exit_price': 1.23281, 'exit_time': 1152, 'profit': -0.01298016468583442}, {'type': 'short', 'entry_price': 1.23456, 'stop_loss_price': 0, 'take_profit_price': 0, 'position_size': 81.00051840331777, 'entry_time': 1153, 'entry_bid': 1.23456, 'entry_ask': 1.23471, 'exit_price': 1.23471, 'exit_time': 1153, 'profit': -0.012150077760487335}, {'type': 'short', 'entry_price': 1.23342, 'stop_loss_price': 0, 'take_profit_price': 0, 'position_size': 81.07538389194274, 'entry_time': 1154, 'entry_bid': 1.23342, 'entry_ask': 1.2336, 'exit_price': 1.2336, 'exit_time': 1154, 'profit': -0.014593569100555285}, {'type': 'short', 'entry_price': 1.23204, 'stop_loss_price': 0, 'take_profit_price': 0, 'position_size': 81.16619590273044, 'entry_time': 1155, 'entry_bid': 1.23204, 'entry_ask': 1.23264, 'exit_price': 1.23264, 'exit_time': 1155, 'profit': -0.0486997175416329}, {'type': 'short', 'entry_price': 1.23265, 'stop_loss_price': 0, 'take_profit_price': 0, 'position_size': 81.12602928649657, 'entry_time': 1156, 'entry_bid': 1.23265, 'entry_ask': 1.23283, 'exit_price': 1.23283, 'exit_time': 1156, 'profit': -0.01460268527157498}, {'type': 'short', 'entry_price': 1.23272, 'stop_loss_price': 0, 'take_profit_price': 0, 'position_size': 81.12142254526574, 'entry_time': 1157, 'entry_bid': 1.23272, 'entry_ask': 1.2329, 'exit_price': 1.2329, 'exit_time': 1157, 'profit': -0.014601856058153432}, {'type': 'short', 'entry_price': 1.22838, 'stop_loss_price': 0, 'take_profit_price': 0, 'position_size': 81.40803334473046, 'entry_time': 1158, 'entry_bid': 1.22838, 'entry_ask': 1.2286, 'exit_price': 1.2286, 'exit_time': 1158, 'profit': -0.017909767335831498}, {'type': 'short', 'entry_price': 1.23226, 'stop_loss_price': 0, 'take_profit_price': 0, 'position_size': 81.151704997322, 'entry_time': 1159, 'entry_bid': 1.23226, 'entry_ask': 1.23245, 'exit_price': 1.23245, 'exit_time': 1159, 'profit': -0.015418823949502095}, {'type': 'short', 'entry_price': 1.23104, 'stop_loss_price': 0, 'take_profit_price': 0, 'position_size': 81.23212893163505, 'entry_time': 1160, 'entry_bid': 1.23104, 'entry_ask': 1.23121, 'exit_price': 1.23121, 'exit_time': 1160, 'profit': -0.01380946191837824}, {'type': 'short', 'entry_price': 1.22834, 'stop_loss_price': 0, 'take_profit_price': 0, 'position_size': 81.41068433821255, 'entry_time': 1161, 'entry_bid': 1.22834, 'entry_ask': 1.22943, 'exit_price': 1.22943, 'exit_time': 1161, 'profit': -0.08873764592865456}, {'type': 'short', 'entry_price': 1.22905, 'stop_loss_price': 0, 'take_profit_price': 0, 'position_size': 81.36365485537611, 'entry_time': 1162, 'entry_bid': 1.22905, 'entry_ask': 1.22924, 'exit_price': 1.22924, 'exit_time': 1162, 'profit': -0.015459094422532405}, {'type': 'short', 'entry_price': 1.22919, 'stop_loss_price': 0, 'take_profit_price': 0, 'position_size': 81.35438784890863, 'entry_time': 1163, 'entry_bid': 1.22919, 'entry_ask': 1.22938, 'exit_price': 1.22938, 'exit_time': 1163, 'profit': -0.015457333691285519}, {'type': 'short', 'entry_price': 1.23271, 'stop_loss_price': 0, 'take_profit_price': 0, 'position_size': 81.12208061912372, 'entry_time': 1164, 'entry_bid': 1.23271, 'entry_ask': 1.23288, 'exit_price': 1.23288, 'exit_time': 1164, 'profit': -0.013790753705251315}, {'type': 'short', 'entry_price': 1.23064, 'stop_loss_price': 0, 'take_profit_price': 0, 'position_size': 81.25853214587532, 'entry_time': 1165, 'entry_bid': 1.23064, 'entry_ask': 1.23078, 'exit_price': 1.23078, 'exit_time': 1165, 'profit': -0.0113761945004249}, {'type': 'short', 'entry_price': 1.22894, 'stop_loss_price': 0, 'take_profit_price': 0, 'position_size': 81.37093755594252, 'entry_time': 1166, 'entry_bid': 1.22894, 'entry_ask': 1.22912, 'exit_price': 1.22912, 'exit_time': 1166, 'profit': -0.014646768760075268}, {'type': 'short', 'entry_price': 1.22924, 'stop_loss_price': 0, 'take_profit_price': 0, 'position_size': 81.35107871530376, 'entry_time': 1167, 'entry_bid': 1.22924, 'entry_ask': 1.22984, 'exit_price': 1.22984, 'exit_time': 1167, 'profit': -0.04881064722917688}, {'type': 'short', 'entry_price': 1.22796, 'stop_loss_price': 0, 'take_profit_price': 0, 'position_size': 81.435877390143, 'entry_time': 1168, 'entry_bid': 1.22796, 'entry_ask': 1.22816, 'exit_price': 1.22816, 'exit_time': 1168, 'profit': -0.016287175478026807}, {'type': 'short', 'entry_price': 1.22858, 'stop_loss_price': 0, 'take_profit_price': 0, 'position_size': 81.39478096664442, 'entry_time': 1169, 'entry_bid': 1.22858, 'entry_ask': 1.22876, 'exit_price': 1.22876, 'exit_time': 1169, 'profit': -0.01465106057400161}, {'type': 'short', 'entry_price': 1.22825, 'stop_loss_price': 0, 'take_profit_price': 0, 'position_size': 81.41664970486464, 'entry_time': 1170, 'entry_bid': 1.22825, 'entry_ask': 1.2286, 'exit_price': 1.2286, 'exit_time': 1170, 'profit': -0.028495827396690446}, {'type': 'short', 'entry_price': 1.22352, 'stop_loss_price': 0, 'take_profit_price': 0, 'position_size': 81.73139793383027, 'entry_time': 1171, 'entry_bid': 1.22352, 'entry_ask': 1.22367, 'exit_price': 1.22367, 'exit_time': 1171, 'profit': -0.012259709690082264}, {'type': 'short', 'entry_price': 1.23174, 'stop_loss_price': 0, 'take_profit_price': 0, 'position_size': 81.18596457044505, 'entry_time': 1172, 'entry_bid': 1.23174, 'entry_ask': 1.2319, 'exit_price': 1.2319, 'exit_time': 1172, 'profit': -0.012989754331266172}, {'type': 'short', 'entry_price': 1.2302, 'stop_loss_price': 0, 'take_profit_price': 0, 'position_size': 81.28759551292472, 'entry_time': 1173, 'entry_bid': 1.2302, 'entry_ask': 1.2308, 'exit_price': 1.2308, 'exit_time': 1173, 'profit': -0.048772557307749466}, {'type': 'short', 'entry_price': 1.22946, 'stop_loss_price': 0, 'take_profit_price': 0, 'position_size': 81.33652172498495, 'entry_time': 1174, 'entry_bid': 1.22946, 'entry_ask': 1.22967, 'exit_price': 1.22967, 'exit_time': 1174, 'profit': -0.017080669562250374}, {'type': 'short', 'entry_price': 1.22824, 'stop_loss_price': 0, 'take_profit_price': 0, 'position_size': 81.41731257734645, 'entry_time': 1175, 'entry_bid': 1.22824, 'entry_ask': 1.22842, 'exit_price': 1.22842, 'exit_time': 1175, 'profit': -0.014655116263927978}, {'type': 'short', 'entry_price': 1.22275, 'stop_loss_price': 0, 'take_profit_price': 0, 'position_size': 81.78286648947045, 'entry_time': 1176, 'entry_bid': 1.22275, 'entry_ask': 1.22293, 'exit_price': 1.22293, 'exit_time': 1176, 'profit': -0.014720915968110324}, {'type': 'short', 'entry_price': 1.22659, 'stop_loss_price': 0, 'take_profit_price': 0, 'position_size': 81.52683455759463, 'entry_time': 1177, 'entry_bid': 1.22659, 'entry_ask': 1.22678, 'exit_price': 1.22678, 'exit_time': 1177, 'profit': -0.015490098565935842}, {'type': 'short', 'entry_price': 1.23086, 'stop_loss_price': 0, 'take_profit_price': 0, 'position_size': 81.24400825439123, 'entry_time': 1178, 'entry_bid': 1.23086, 'entry_ask': 1.23103, 'exit_price': 1.23103, 'exit_time': 1178, 'profit': -0.013811481403246792}, {'type': 'short', 'entry_price': 1.22963, 'stop_loss_price': 0, 'take_profit_price': 0, 'position_size': 81.325276709254, 'entry_time': 1179, 'entry_bid': 1.22963, 'entry_ask': 1.23023, 'exit_price': 1.23023, 'exit_time': 1179, 'profit': -0.048795166025547024}, {'type': 'short', 'entry_price': 1.22975, 'stop_loss_price': 0, 'take_profit_price': 0, 'position_size': 81.31734092295183, 'entry_time': 1180, 'entry_bid': 1.22975, 'entry_ask': 1.22996, 'exit_price': 1.22996, 'exit_time': 1180, 'profit': -0.01707664159382342}, {'type': 'short', 'entry_price': 1.23027, 'stop_loss_price': 0, 'take_profit_price': 0, 'position_size': 81.28297040487048, 'entry_time': 1181, 'entry_bid': 1.23027, 'entry_ask': 1.23044, 'exit_price': 1.23044, 'exit_time': 1181, 'profit': -0.013818104968828265}, {'type': 'short', 'entry_price': 1.2314, 'stop_loss_price': 0, 'take_profit_price': 0, 'position_size': 81.20838070488874, 'entry_time': 1182, 'entry_bid': 1.2314, 'entry_ask': 1.23155, 'exit_price': 1.23155, 'exit_time': 1182, 'profit': -0.012181257105722954}, {'type': 'short', 'entry_price': 1.2376, 'stop_loss_price': 0, 'take_profit_price': 0, 'position_size': 80.80155138978668, 'entry_time': 1183, 'entry_bid': 1.2376, 'entry_ask': 1.23774, 'exit_price': 1.23774, 'exit_time': 1183, 'profit': -0.011312217194572477}, {'type': 'short', 'entry_price': 1.2372, 'stop_loss_price': 0, 'take_profit_price': 0, 'position_size': 80.82767539605561, 'entry_time': 1184, 'entry_bid': 1.2372, 'entry_ask': 1.23736, 'exit_price': 1.23736, 'exit_time': 1184, 'profit': -0.012932428063363885}, {'type': 'short', 'entry_price': 1.23265, 'stop_loss_price': 0, 'take_profit_price': 0, 'position_size': 81.12602928649657, 'entry_time': 1185, 'entry_bid': 1.23265, 'entry_ask': 1.23325, 'exit_price': 1.23325, 'exit_time': 1185, 'profit': -0.048675617571892586}, {'type': 'short', 'entry_price': 1.23475, 'stop_loss_price': 0, 'take_profit_price': 0, 'position_size': 80.98805426199635, 'entry_time': 1186, 'entry_bid': 1.23475, 'entry_ask': 1.23492, 'exit_price': 1.23492, 'exit_time': 1186, 'profit': -0.013767969224539663}, {'type': 'short', 'entry_price': 1.23342, 'stop_loss_price': 0, 'take_profit_price': 0, 'position_size': 81.07538389194274, 'entry_time': 1187, 'entry_bid': 1.23342, 'entry_ask': 1.2336, 'exit_price': 1.2336, 'exit_time': 1187, 'profit': -0.014593569100555285}, {'type': 'short', 'entry_price': 1.23283, 'stop_loss_price': 0, 'take_profit_price': 0, 'position_size': 81.11418443743257, 'entry_time': 1188, 'entry_bid': 1.23283, 'entry_ask': 1.23303, 'exit_price': 1.23303, 'exit_time': 1188, 'profit': -0.01622283688748473}, {'type': 'short', 'entry_price': 1.23075, 'stop_loss_price': 0, 'take_profit_price': 0, 'position_size': 81.25126955108674, 'entry_time': 1189, 'entry_bid': 1.23075, 'entry_ask': 1.23093, 'exit_price': 1.23093, 'exit_time': 1189, 'profit': -0.014625228519201219}, {'type': 'short', 'entry_price': 1.23282, 'stop_loss_price': 0, 'take_profit_price': 0, 'position_size': 81.11484239386122, 'entry_time': 1190, 'entry_bid': 1.23282, 'entry_ask': 1.23299, 'exit_price': 1.23299, 'exit_time': 1190, 'profit': -0.013789523206956691}, {'type': 'short', 'entry_price': 1.23275, 'stop_loss_price': 0, 'take_profit_price': 0, 'position_size': 81.11944838775096, 'entry_time': 1191, 'entry_bid': 1.23275, 'entry_ask': 1.23384, 'exit_price': 1.23384, 'exit_time': 1191, 'profit': -0.08842019874265142}, {'type': 'short', 'entry_price': 1.23325, 'stop_loss_price': 0, 'take_profit_price': 0, 'position_size': 81.08655990269614, 'entry_time': 1192, 'entry_bid': 1.23325, 'entry_ask': 1.23348, 'exit_price': 1.23348, 'exit_time': 1192, 'profit': -0.018649908777616256}, {'type': 'short', 'entry_price': 1.23272, 'stop_loss_price': 0, 'take_profit_price': 0, 'position_size': 81.12142254526574, 'entry_time': 1193, 'entry_bid': 1.23272, 'entry_ask': 1.23288, 'exit_price': 1.23288, 'exit_time': 1193, 'profit': -0.012979427607237488}, {'type': 'short', 'entry_price': 1.22967, 'stop_loss_price': 0, 'take_profit_price': 0, 'position_size': 81.32263127505753, 'entry_time': 1194, 'entry_bid': 1.22967, 'entry_ask': 1.22986, 'exit_price': 1.22986, 'exit_time': 1194, 'profit': -0.015451299942253811}, {'type': 'short', 'entry_price': 1.23212, 'stop_loss_price': 0, 'take_profit_price': 0, 'position_size': 81.16092588384248, 'entry_time': 1195, 'entry_bid': 1.23212, 'entry_ask': 1.23228, 'exit_price': 1.23228, 'exit_time': 1195, 'profit': -0.012985748141409762}, {'type': 'short', 'entry_price': 1.23151, 'stop_loss_price': 0, 'take_profit_price': 0, 'position_size': 81.20112707164375, 'entry_time': 1196, 'entry_bid': 1.23151, 'entry_ask': 1.23168, 'exit_price': 1.23168, 'exit_time': 1196, 'profit': -0.013804191602179721}, {'type': 'short', 'entry_price': 1.22871, 'stop_loss_price': 0, 'take_profit_price': 0, 'position_size': 81.38616923440031, 'entry_time': 1197, 'entry_bid': 1.22871, 'entry_ask': 1.22931, 'exit_price': 1.22931, 'exit_time': 1197, 'profit': -0.04883170154063481}, {'type': 'short', 'entry_price': 1.22883, 'stop_loss_price': 0, 'take_profit_price': 0, 'position_size': 81.37822156034602, 'entry_time': 1198, 'entry_bid': 1.22883, 'entry_ask': 1.22903, 'exit_price': 1.22903, 'exit_time': 1198, 'profit': -0.016275644312067412}, {'type': 'short', 'entry_price': 1.22949, 'stop_loss_price': 0, 'take_profit_price': 0, 'position_size': 81.33453708448218, 'entry_time': 1199, 'entry_bid': 1.22949, 'entry_ask': 1.22968, 'exit_price': 1.22968, 'exit_time': 1199, 'profit': -0.015453562046062554}, {'type': 'short', 'entry_price': 1.22717, 'stop_loss_price': 0, 'take_profit_price': 0, 'position_size': 81.48830235419705, 'entry_time': 1200, 'entry_bid': 1.22717, 'entry_ask': 1.22733, 'exit_price': 1.22733, 'exit_time': 1200, 'profit': -0.013038128376666472}, {'type': 'short', 'entry_price': 1.22091, 'stop_loss_price': 0, 'take_profit_price': 0, 'position_size': 81.9061192061659, 'entry_time': 1201, 'entry_bid': 1.22091, 'entry_ask': 1.22109, 'exit_price': 1.22109, 'exit_time': 1201, 'profit': -0.014743101457115512}, {'type': 'short', 'entry_price': 1.22135, 'stop_loss_price': 0, 'take_profit_price': 0, 'position_size': 81.87661194579769, 'entry_time': 1202, 'entry_bid': 1.22135, 'entry_ask': 1.22154, 'exit_price': 1.22154, 'exit_time': 1202, 'profit': -0.015556556269712574}, {'type': 'short', 'entry_price': 1.22161, 'stop_loss_price': 0, 'take_profit_price': 0, 'position_size': 81.85918582853775, 'entry_time': 1203, 'entry_bid': 1.22161, 'entry_ask': 1.22221, 'exit_price': 1.22221, 'exit_time': 1203, 'profit': -0.04911551149711724}, {'type': 'short', 'entry_price': 1.22142, 'stop_loss_price': 0, 'take_profit_price': 0, 'position_size': 81.87191956902622, 'entry_time': 1204, 'entry_bid': 1.22142, 'entry_ask': 1.2216, 'exit_price': 1.2216, 'exit_time': 1204, 'profit': -0.014736945522430368}, {'type': 'short', 'entry_price': 1.22101, 'stop_loss_price': 0, 'take_profit_price': 0, 'position_size': 81.89941114323389, 'entry_time': 1205, 'entry_bid': 1.22101, 'entry_ask': 1.22121, 'exit_price': 1.22121, 'exit_time': 1205, 'profit': -0.016379882228644973}, {'type': 'short', 'entry_price': 1.22406, 'stop_loss_price': 0, 'take_profit_price': 0, 'position_size': 81.69534173161446, 'entry_time': 1206, 'entry_bid': 1.22406, 'entry_ask': 1.22425, 'exit_price': 1.22425, 'exit_time': 1206, 'profit': -0.015522114929017736}, {'type': 'short', 'entry_price': 1.22163, 'stop_loss_price': 0, 'take_profit_price': 0, 'position_size': 81.85784566521778, 'entry_time': 1207, 'entry_bid': 1.22163, 'entry_ask': 1.22181, 'exit_price': 1.22181, 'exit_time': 1207, 'profit': -0.014734412219744848}, {'type': 'short', 'entry_price': 1.22022, 'stop_loss_price': 0, 'take_profit_price': 0, 'position_size': 81.9524348068381, 'entry_time': 1208, 'entry_bid': 1.22022, 'entry_ask': 1.22037, 'exit_price': 1.22037, 'exit_time': 1208, 'profit': -0.012292865221015262}, {'type': 'short', 'entry_price': 1.22018, 'stop_loss_price': 0, 'take_profit_price': 0, 'position_size': 81.95512137553476, 'entry_time': 1209, 'entry_bid': 1.22018, 'entry_ask': 1.22078, 'exit_price': 1.22078, 'exit_time': 1209, 'profit': -0.04917307282531544}, {'type': 'short', 'entry_price': 1.22108, 'stop_loss_price': 0, 'take_profit_price': 0, 'position_size': 81.89471615291382, 'entry_time': 1210, 'entry_bid': 1.22108, 'entry_ask': 1.22133, 'exit_price': 1.22133, 'exit_time': 1210, 'profit': -0.02047367903823529}, {'type': 'short', 'entry_price': 1.22258, 'stop_loss_price': 0, 'take_profit_price': 0, 'position_size': 81.79423841384613, 'entry_time': 1211, 'entry_bid': 1.22258, 'entry_ask': 1.22276, 'exit_price': 1.22276, 'exit_time': 1211, 'profit': -0.014722962914497947}, {'type': 'short', 'entry_price': 1.22281, 'stop_loss_price': 0, 'take_profit_price': 0, 'position_size': 81.7788536240299, 'entry_time': 1212, 'entry_bid': 1.22281, 'entry_ask': 1.223, 'exit_price': 1.223, 'exit_time': 1212, 'profit': -0.015537982188576683}, {'type': 'short', 'entry_price': 1.22319, 'stop_loss_price': 0, 'take_profit_price': 0, 'position_size': 81.75344795166737, 'entry_time': 1213, 'entry_bid': 1.22319, 'entry_ask': 1.22334, 'exit_price': 1.22334, 'exit_time': 1213, 'profit': -0.012263017192757832}, {'type': 'short', 'entry_price': 1.23951, 'stop_loss_price': 0, 'take_profit_price': 0, 'position_size': 80.6770417342337, 'entry_time': 1214, 'entry_bid': 1.23951, 'entry_ask': 1.2397, 'exit_price': 1.2397, 'exit_time': 1214, 'profit': -0.015328637929515254}, {'type': 'short', 'entry_price': 1.24385, 'stop_loss_price': 0, 'take_profit_price': 0, 'position_size': 80.3955460867468, 'entry_time': 1215, 'entry_bid': 1.24385, 'entry_ask': 1.24445, 'exit_price': 1.24445, 'exit_time': 1215, 'profit': -0.048237327652060624}, {'type': 'short', 'entry_price': 1.24331, 'stop_loss_price': 0, 'take_profit_price': 0, 'position_size': 80.43046384248498, 'entry_time': 1216, 'entry_bid': 1.24331, 'entry_ask': 1.24349, 'exit_price': 1.24349, 'exit_time': 1216, 'profit': -0.014477483491652846}, {'type': 'short', 'entry_price': 1.24485, 'stop_loss_price': 0, 'take_profit_price': 0, 'position_size': 80.33096356990802, 'entry_time': 1217, 'entry_bid': 1.24485, 'entry_ask': 1.24502, 'exit_price': 1.24502, 'exit_time': 1217, 'profit': -0.013656263806884644}, {'type': 'short', 'entry_price': 1.24983, 'stop_loss_price': 0, 'take_profit_price': 0, 'position_size': 80.01088147988126, 'entry_time': 1218, 'entry_bid': 1.24983, 'entry_ask': 1.25012, 'exit_price': 1.25012, 'exit_time': 1218, 'profit': -0.02320315562915768}, {'type': 'short', 'entry_price': 1.26217, 'stop_loss_price': 0, 'take_profit_price': 0, 'position_size': 79.22863005775767, 'entry_time': 1219, 'entry_bid': 1.26217, 'entry_ask': 1.26237, 'exit_price': 1.26237, 'exit_time': 1219, 'profit': -0.01584572601154979}, {'type': 'short', 'entry_price': 1.26656, 'stop_loss_price': 0, 'take_profit_price': 0, 'position_size': 78.95401718039415, 'entry_time': 1220, 'entry_bid': 1.26656, 'entry_ask': 1.26678, 'exit_price': 1.26678, 'exit_time': 1220, 'profit': -0.017369883779695318}, {'type': 'short', 'entry_price': 1.26438, 'stop_loss_price': 0, 'take_profit_price': 0, 'position_size': 79.09014694949303, 'entry_time': 1221, 'entry_bid': 1.26438, 'entry_ask': 1.26547, 'exit_price': 1.26547, 'exit_time': 1221, 'profit': -0.0862082601749502}, {'type': 'short', 'entry_price': 1.26055, 'stop_loss_price': 0, 'take_profit_price': 0, 'position_size': 79.3304509936139, 'entry_time': 1222, 'entry_bid': 1.26055, 'entry_ask': 1.26078, 'exit_price': 1.26078, 'exit_time': 1222, 'profit': -0.018246003728527426}, {'type': 'short', 'entry_price': 1.26072, 'stop_loss_price': 0, 'take_profit_price': 0, 'position_size': 79.31975379148423, 'entry_time': 1223, 'entry_bid': 1.26072, 'entry_ask': 1.26094, 'exit_price': 1.26094, 'exit_time': 1223, 'profit': -0.017450345834117566}, {'type': 'short', 'entry_price': 1.25777, 'stop_loss_price': 0, 'take_profit_price': 0, 'position_size': 79.50579199694697, 'entry_time': 1224, 'entry_bid': 1.25777, 'entry_ask': 1.25795, 'exit_price': 1.25795, 'exit_time': 1224, 'profit': -0.014311042559438285}, {'type': 'short', 'entry_price': 1.25603, 'stop_loss_price': 0, 'take_profit_price': 0, 'position_size': 79.61593274046002, 'entry_time': 1225, 'entry_bid': 1.25603, 'entry_ask': 1.25622, 'exit_price': 1.25622, 'exit_time': 1225, 'profit': -0.015127027220680435}, {'type': 'short', 'entry_price': 1.25685, 'stop_loss_price': 0, 'take_profit_price': 0, 'position_size': 79.56398933842543, 'entry_time': 1226, 'entry_bid': 1.25685, 'entry_ask': 1.25707, 'exit_price': 1.25707, 'exit_time': 1226, 'profit': -0.0175040776544446}, {'type': 'short', 'entry_price': 1.26019, 'stop_loss_price': 0, 'take_profit_price': 0, 'position_size': 79.35311341940502, 'entry_time': 1227, 'entry_bid': 1.26019, 'entry_ask': 1.26079, 'exit_price': 1.26079, 'exit_time': 1227, 'profit': -0.04761186805165539}, {'type': 'short', 'entry_price': 1.26045, 'stop_loss_price': 0, 'take_profit_price': 0, 'position_size': 79.3367448133603, 'entry_time': 1228, 'entry_bid': 1.26045, 'entry_ask': 1.26064, 'exit_price': 1.26064, 'exit_time': 1228, 'profit': -0.015073981514531511}, {'type': 'short', 'entry_price': 1.26324, 'stop_loss_price': 0, 'take_profit_price': 0, 'position_size': 79.16152116779077, 'entry_time': 1229, 'entry_bid': 1.26324, 'entry_ask': 1.26343, 'exit_price': 1.26343, 'exit_time': 1229, 'profit': -0.015040689021890893}, {'type': 'short', 'entry_price': 1.26497, 'stop_loss_price': 0, 'take_profit_price': 0, 'position_size': 79.0532581800359, 'entry_time': 1230, 'entry_bid': 1.26497, 'entry_ask': 1.26525, 'exit_price': 1.26525, 'exit_time': 1230, 'profit': -0.022134912290414633}, {'type': 'short', 'entry_price': 1.2654, 'stop_loss_price': 0, 'take_profit_price': 0, 'position_size': 79.0263948158685, 'entry_time': 1231, 'entry_bid': 1.2654, 'entry_ask': 1.26562, 'exit_price': 1.26562, 'exit_time': 1231, 'profit': -0.017385806859482135}, {'type': 'short', 'entry_price': 1.27546, 'stop_loss_price': 0, 'take_profit_price': 0, 'position_size': 78.4030859454628, 'entry_time': 1232, 'entry_bid': 1.27546, 'entry_ask': 1.27568, 'exit_price': 1.27568, 'exit_time': 1232, 'profit': -0.017248678907992955}, {'type': 'short', 'entry_price': 1.27816, 'stop_loss_price': 0, 'take_profit_price': 0, 'position_size': 78.23746635788947, 'entry_time': 1233, 'entry_bid': 1.27816, 'entry_ask': 1.27876, 'exit_price': 1.27876, 'exit_time': 1233, 'profit': -0.046942479814728516}, {'type': 'short', 'entry_price': 1.27489, 'stop_loss_price': 0, 'take_profit_price': 0, 'position_size': 78.43813976107742, 'entry_time': 1234, 'entry_bid': 1.27489, 'entry_ask': 1.2751, 'exit_price': 1.2751, 'exit_time': 1234, 'profit': -0.01647200934981225}, {'type': 'short', 'entry_price': 1.27546, 'stop_loss_price': 0, 'take_profit_price': 0, 'position_size': 78.4030859454628, 'entry_time': 1235, 'entry_bid': 1.27546, 'entry_ask': 1.27568, 'exit_price': 1.27568, 'exit_time': 1235, 'profit': -0.017248678907992955}, {'type': 'short', 'entry_price': 1.27407, 'stop_loss_price': 0, 'take_profit_price': 0, 'position_size': 78.48862307408541, 'entry_time': 1236, 'entry_bid': 1.27407, 'entry_ask': 1.27433, 'exit_price': 1.27433, 'exit_time': 1236, 'profit': -0.020407041999256473}, {'type': 'short', 'entry_price': 1.27902, 'stop_loss_price': 0, 'take_profit_price': 0, 'position_size': 78.18486028365467, 'entry_time': 1237, 'entry_bid': 1.27902, 'entry_ask': 1.27924, 'exit_price': 1.27924, 'exit_time': 1237, 'profit': -0.01720066926239519}, {'type': 'short', 'entry_price': 1.28462, 'stop_loss_price': 0, 'take_profit_price': 0, 'position_size': 77.84403169808971, 'entry_time': 1238, 'entry_bid': 1.28462, 'entry_ask': 1.28483, 'exit_price': 1.28483, 'exit_time': 1238, 'profit': -0.01634724665658494}, {'type': 'short', 'entry_price': 1.28272, 'stop_loss_price': 0, 'take_profit_price': 0, 'position_size': 77.95933641012847, 'entry_time': 1239, 'entry_bid': 1.28272, 'entry_ask': 1.28332, 'exit_price': 1.28332, 'exit_time': 1239, 'profit': -0.046775601846071935}, {'type': 'short', 'entry_price': 1.2827, 'stop_loss_price': 0, 'take_profit_price': 0, 'position_size': 77.96055196070789, 'entry_time': 1240, 'entry_bid': 1.2827, 'entry_ask': 1.28289, 'exit_price': 1.28289, 'exit_time': 1240, 'profit': -0.014812504872544985}, {'type': 'short', 'entry_price': 1.28178, 'stop_loss_price': 0, 'take_profit_price': 0, 'position_size': 78.01650829315484, 'entry_time': 1241, 'entry_bid': 1.28178, 'entry_ask': 1.28198, 'exit_price': 1.28198, 'exit_time': 1241, 'profit': -0.01560330165862925}, {'type': 'short', 'entry_price': 1.27996, 'stop_loss_price': 0, 'take_profit_price': 0, 'position_size': 78.12744148254633, 'entry_time': 1242, 'entry_bid': 1.27996, 'entry_ask': 1.2802, 'exit_price': 1.2802, 'exit_time': 1242, 'profit': -0.018750585955812523}, {'type': 'short', 'entry_price': 1.28114, 'stop_loss_price': 0, 'take_profit_price': 0, 'position_size': 78.05548183648938, 'entry_time': 1243, 'entry_bid': 1.28114, 'entry_ask': 1.28138, 'exit_price': 1.28138, 'exit_time': 1243, 'profit': -0.018733315640758853}, {'type': 'short', 'entry_price': 1.28484, 'stop_loss_price': 0, 'take_profit_price': 0, 'position_size': 77.83070265558358, 'entry_time': 1244, 'entry_bid': 1.28484, 'entry_ask': 1.28502, 'exit_price': 1.28502, 'exit_time': 1244, 'profit': -0.014009526478010414}, {'type': 'short', 'entry_price': 1.28887, 'stop_loss_price': 0, 'take_profit_price': 0, 'position_size': 77.58734395245448, 'entry_time': 1245, 'entry_bid': 1.28887, 'entry_ask': 1.28947, 'exit_price': 1.28947, 'exit_time': 1245, 'profit': -0.046552406371467556}, {'type': 'short', 'entry_price': 1.28638, 'stop_loss_price': 0, 'take_profit_price': 0, 'position_size': 77.73752701379063, 'entry_time': 1246, 'entry_bid': 1.28638, 'entry_ask': 1.28659, 'exit_price': 1.28659, 'exit_time': 1246, 'profit': -0.01632488067288215}, {'type': 'short', 'entry_price': 1.2844, 'stop_loss_price': 0, 'take_profit_price': 0, 'position_size': 77.85736530675803, 'entry_time': 1247, 'entry_bid': 1.2844, 'entry_ask': 1.28463, 'exit_price': 1.28463, 'exit_time': 1247, 'profit': -0.017907194020550646}, {'type': 'short', 'entry_price': 1.29002, 'stop_loss_price': 0, 'take_profit_price': 0, 'position_size': 77.51817801274399, 'entry_time': 1248, 'entry_bid': 1.29002, 'entry_ask': 1.29022, 'exit_price': 1.29022, 'exit_time': 1248, 'profit': -0.01550363560254709}, {'type': 'short', 'entry_price': 1.28877, 'stop_loss_price': 0, 'take_profit_price': 0, 'position_size': 77.59336421549229, 'entry_time': 1249, 'entry_bid': 1.28877, 'entry_ask': 1.28896, 'exit_price': 1.28896, 'exit_time': 1249, 'profit': -0.014742739200953972}, {'type': 'short', 'entry_price': 1.29293, 'stop_loss_price': 0, 'take_profit_price': 0, 'position_size': 77.34370770265986, 'entry_time': 1250, 'entry_bid': 1.29293, 'entry_ask': 1.29317, 'exit_price': 1.29317, 'exit_time': 1250, 'profit': -0.018562489848639757}, {'type': 'short', 'entry_price': 1.29777, 'stop_loss_price': 0, 'take_profit_price': 0, 'position_size': 77.05525632431016, 'entry_time': 1251, 'entry_bid': 1.29777, 'entry_ask': 1.29886, 'exit_price': 1.29886, 'exit_time': 1251, 'profit': -0.08399022939348369}, {'type': 'short', 'entry_price': 1.2979, 'stop_loss_price': 0, 'take_profit_price': 0, 'position_size': 77.04753833115032, 'entry_time': 1252, 'entry_bid': 1.2979, 'entry_ask': 1.29899, 'exit_price': 1.29899, 'exit_time': 1252, 'profit': -0.08398181678095658}, {'type': 'short', 'entry_price': 1.2979, 'stop_loss_price': 0, 'take_profit_price': 0, 'position_size': 77.04753833115032, 'entry_time': 1253, 'entry_bid': 1.2979, 'entry_ask': 1.299, 'exit_price': 1.299, 'exit_time': 1253, 'profit': -0.08475229216425602}, {'type': 'short', 'entry_price': 1.29033, 'stop_loss_price': 0, 'take_profit_price': 0, 'position_size': 77.49955437756233, 'entry_time': 1254, 'entry_bid': 1.29033, 'entry_ask': 1.29057, 'exit_price': 1.29057, 'exit_time': 1254, 'profit': -0.018599893050616354}, {'type': 'short', 'entry_price': 1.29769, 'stop_loss_price': 0, 'take_profit_price': 0, 'position_size': 77.06000662716058, 'entry_time': 1255, 'entry_bid': 1.29769, 'entry_ask': 1.29786, 'exit_price': 1.29786, 'exit_time': 1255, 'profit': -0.013100201126617566}, {'type': 'short', 'entry_price': 1.29907, 'stop_loss_price': 0, 'take_profit_price': 0, 'position_size': 76.97814590437775, 'entry_time': 1256, 'entry_bid': 1.29907, 'entry_ask': 1.29928, 'exit_price': 1.29928, 'exit_time': 1256, 'profit': -0.016165410639922675}, {'type': 'short', 'entry_price': 1.29752, 'stop_loss_price': 0, 'take_profit_price': 0, 'position_size': 77.07010296565757, 'entry_time': 1257, 'entry_bid': 1.29752, 'entry_ask': 1.29769, 'exit_price': 1.29769, 'exit_time': 1257, 'profit': -0.013101917504162055}, {'type': 'short', 'entry_price': 1.29571, 'stop_loss_price': 0, 'take_profit_price': 0, 'position_size': 77.17776354276806, 'entry_time': 1258, 'entry_bid': 1.29571, 'entry_ask': 1.29631, 'exit_price': 1.29631, 'exit_time': 1258, 'profit': -0.046306658125672875}, {'type': 'short', 'entry_price': 1.29702, 'stop_loss_price': 0, 'take_profit_price': 0, 'position_size': 77.09981341845152, 'entry_time': 1259, 'entry_bid': 1.29702, 'entry_ask': 1.29724, 'exit_price': 1.29724, 'exit_time': 1259, 'profit': -0.016961958952050618}, {'type': 'short', 'entry_price': 1.29805, 'stop_loss_price': 0, 'take_profit_price': 0, 'position_size': 77.03863487539002, 'entry_time': 1260, 'entry_bid': 1.29805, 'entry_ask': 1.29825, 'exit_price': 1.29825, 'exit_time': 1260, 'profit': -0.015407726975076306}, {'type': 'short', 'entry_price': 1.29395, 'stop_loss_price': 0, 'take_profit_price': 0, 'position_size': 77.28273890026664, 'entry_time': 1261, 'entry_bid': 1.29395, 'entry_ask': 1.29414, 'exit_price': 1.29414, 'exit_time': 1261, 'profit': -0.014683720391061056}, {'type': 'short', 'entry_price': 1.29065, 'stop_loss_price': 0, 'take_profit_price': 0, 'position_size': 77.48033936388642, 'entry_time': 1262, 'entry_bid': 1.29065, 'entry_ask': 1.29085, 'exit_price': 1.29085, 'exit_time': 1262, 'profit': -0.015496067872775576}, {'type': 'short', 'entry_price': 1.29491, 'stop_loss_price': 0, 'take_profit_price': 0, 'position_size': 77.22544423936799, 'entry_time': 1263, 'entry_bid': 1.29491, 'entry_ask': 1.29508, 'exit_price': 1.29508, 'exit_time': 1263, 'profit': -0.013128325520692827}, {'type': 'short', 'entry_price': 1.28698, 'stop_loss_price': 0, 'take_profit_price': 0, 'position_size': 77.70128517925687, 'entry_time': 1264, 'entry_bid': 1.28698, 'entry_ask': 1.28758, 'exit_price': 1.28758, 'exit_time': 1264, 'profit': -0.04662077110754899}, {'type': 'short', 'entry_price': 1.28696, 'stop_loss_price': 0, 'take_profit_price': 0, 'position_size': 77.70249269596567, 'entry_time': 1265, 'entry_bid': 1.28696, 'entry_ask': 1.28716, 'exit_price': 1.28716, 'exit_time': 1265, 'profit': -0.015540498539191424}, {'type': 'short', 'entry_price': 1.28587, 'stop_loss_price': 0, 'take_profit_price': 0, 'position_size': 77.76835916538997, 'entry_time': 1266, 'entry_bid': 1.28587, 'entry_ask': 1.28611, 'exit_price': 1.28611, 'exit_time': 1266, 'profit': -0.01866440619969499}, {'type': 'short', 'entry_price': 1.28514, 'stop_loss_price': 0, 'take_profit_price': 0, 'position_size': 77.81253404298364, 'entry_time': 1267, 'entry_bid': 1.28514, 'entry_ask': 1.28532, 'exit_price': 1.28532, 'exit_time': 1267, 'profit': -0.014006256127742424}, {'type': 'short', 'entry_price': 1.28804, 'stop_loss_price': 0, 'take_profit_price': 0, 'position_size': 77.63734045526536, 'entry_time': 1268, 'entry_bid': 1.28804, 'entry_ask': 1.28825, 'exit_price': 1.28825, 'exit_time': 1268, 'profit': -0.016303841495591862}, {'type': 'short', 'entry_price': 1.28735, 'stop_loss_price': 0, 'take_profit_price': 0, 'position_size': 77.67895288771507, 'entry_time': 1269, 'entry_bid': 1.28735, 'entry_ask': 1.28753, 'exit_price': 1.28753, 'exit_time': 1269, 'profit': -0.013982211519794072}, {'type': 'short', 'entry_price': 1.29118, 'stop_loss_price': 0, 'take_profit_price': 0, 'position_size': 77.44853544819468, 'entry_time': 1270, 'entry_bid': 1.29118, 'entry_ask': 1.29178, 'exit_price': 1.29178, 'exit_time': 1270, 'profit': -0.04646912126891169}, {'type': 'short', 'entry_price': 1.29137, 'stop_loss_price': 0, 'take_profit_price': 0, 'position_size': 77.43714040127927, 'entry_time': 1271, 'entry_bid': 1.29137, 'entry_ask': 1.29156, 'exit_price': 1.29156, 'exit_time': 1271, 'profit': -0.014713056676253475}, {'type': 'short', 'entry_price': 1.29155, 'stop_loss_price': 0, 'take_profit_price': 0, 'position_size': 77.4263481862878, 'entry_time': 1272, 'entry_bid': 1.29155, 'entry_ask': 1.29174, 'exit_price': 1.29174, 'exit_time': 1272, 'profit': -0.014711006155405095}, {'type': 'short', 'entry_price': 1.2887, 'stop_loss_price': 0, 'take_profit_price': 0, 'position_size': 77.59757895553659, 'entry_time': 1273, 'entry_bid': 1.2887, 'entry_ask': 1.28888, 'exit_price': 1.28888, 'exit_time': 1273, 'profit': -0.01396756421200194}, {'type': 'short', 'entry_price': 1.29128, 'stop_loss_price': 0, 'take_profit_price': 0, 'position_size': 77.44253763707329, 'entry_time': 1274, 'entry_bid': 1.29128, 'entry_ask': 1.29147, 'exit_price': 1.29147, 'exit_time': 1274, 'profit': -0.014714082151037144}, {'type': 'short', 'entry_price': 1.28497, 'stop_loss_price': 0, 'take_profit_price': 0, 'position_size': 77.82282854852643, 'entry_time': 1275, 'entry_bid': 1.28497, 'entry_ask': 1.28515, 'exit_price': 1.28515, 'exit_time': 1275, 'profit': -0.014008109138740127}, {'type': 'short', 'entry_price': 1.28481, 'stop_loss_price': 0, 'take_profit_price': 0, 'position_size': 77.83251998349951, 'entry_time': 1276, 'entry_bid': 1.28481, 'entry_ask': 1.28541, 'exit_price': 1.28541, 'exit_time': 1276, 'profit': -0.04669951199009456}, {'type': 'short', 'entry_price': 1.2844, 'stop_loss_price': 0, 'take_profit_price': 0, 'position_size': 77.85736530675803, 'entry_time': 1277, 'entry_bid': 1.2844, 'entry_ask': 1.2846, 'exit_price': 1.2846, 'exit_time': 1277, 'profit': -0.015571473061349891}, {'type': 'short', 'entry_price': 1.28405, 'stop_loss_price': 0, 'take_profit_price': 0, 'position_size': 77.87858728242671, 'entry_time': 1278, 'entry_bid': 1.28405, 'entry_ask': 1.28424, 'exit_price': 1.28424, 'exit_time': 1278, 'profit': -0.01479693158367155}, {'type': 'short', 'entry_price': 1.28365, 'stop_loss_price': 0, 'take_profit_price': 0, 'position_size': 77.90285513964088, 'entry_time': 1279, 'entry_bid': 1.28365, 'entry_ask': 1.28382, 'exit_price': 1.28382, 'exit_time': 1279, 'profit': -0.013243485373739221}, {'type': 'short', 'entry_price': 1.28123, 'stop_loss_price': 0, 'take_profit_price': 0, 'position_size': 78.04999882925001, 'entry_time': 1280, 'entry_bid': 1.28123, 'entry_ask': 1.28139, 'exit_price': 1.28139, 'exit_time': 1280, 'profit': -0.012487999812675161}, {'type': 'short', 'entry_price': 1.28177, 'stop_loss_price': 0, 'take_profit_price': 0, 'position_size': 78.01711695546003, 'entry_time': 1281, 'entry_bid': 1.28177, 'entry_ask': 1.28193, 'exit_price': 1.28193, 'exit_time': 1281, 'profit': -0.012482738712868764}, {'type': 'short', 'entry_price': 1.28234, 'stop_loss_price': 0, 'take_profit_price': 0, 'position_size': 77.98243835488248, 'entry_time': 1282, 'entry_bid': 1.28234, 'entry_ask': 1.28343, 'exit_price': 1.28343, 'exit_time': 1282, 'profit': -0.08500085780682466}, {'type': 'short', 'entry_price': 1.28173, 'stop_loss_price': 0, 'take_profit_price': 0, 'position_size': 78.01955169965593, 'entry_time': 1283, 'entry_bid': 1.28173, 'entry_ask': 1.28201, 'exit_price': 1.28201, 'exit_time': 1283, 'profit': -0.021845474475908185}, {'type': 'short', 'entry_price': 1.28148, 'stop_loss_price': 0, 'take_profit_price': 0, 'position_size': 78.03477229453445, 'entry_time': 1284, 'entry_bid': 1.28148, 'entry_ask': 1.28172, 'exit_price': 1.28172, 'exit_time': 1284, 'profit': -0.018728345350689672}, {'type': 'short', 'entry_price': 1.28253, 'stop_loss_price': 0, 'take_profit_price': 0, 'position_size': 77.97088567129035, 'entry_time': 1285, 'entry_bid': 1.28253, 'entry_ask': 1.28272, 'exit_price': 1.28272, 'exit_time': 1285, 'profit': -0.014814468277555653}, {'type': 'short', 'entry_price': 1.28326, 'stop_loss_price': 0, 'take_profit_price': 0, 'position_size': 77.92653086669887, 'entry_time': 1286, 'entry_bid': 1.28326, 'entry_ask': 1.28341, 'exit_price': 1.28341, 'exit_time': 1286, 'profit': -0.011688979629994892}, {'type': 'short', 'entry_price': 1.28558, 'stop_loss_price': 0, 'take_profit_price': 0, 'position_size': 77.78590208310646, 'entry_time': 1287, 'entry_bid': 1.28558, 'entry_ask': 1.28577, 'exit_price': 1.28577, 'exit_time': 1287, 'profit': -0.01477932139580069}, {'type': 'short', 'entry_price': 1.28563, 'stop_loss_price': 0, 'take_profit_price': 0, 'position_size': 77.78287687748418, 'entry_time': 1288, 'entry_bid': 1.28563, 'entry_ask': 1.28623, 'exit_price': 1.28623, 'exit_time': 1288, 'profit': -0.04666972612648537}, {'type': 'short', 'entry_price': 1.28496, 'stop_loss_price': 0, 'take_profit_price': 0, 'position_size': 77.82343419250404, 'entry_time': 1289, 'entry_bid': 1.28496, 'entry_ask': 1.2852, 'exit_price': 1.2852, 'exit_time': 1289, 'profit': -0.018677624206185087}, {'type': 'short', 'entry_price': 1.285, 'stop_loss_price': 0, 'take_profit_price': 0, 'position_size': 77.82101167315176, 'entry_time': 1290, 'entry_bid': 1.285, 'entry_ask': 1.28517, 'exit_price': 1.28517, 'exit_time': 1290, 'profit': -0.01322957198443607}, {'type': 'short', 'entry_price': 1.28282, 'stop_loss_price': 0, 'take_profit_price': 0, 'position_size': 77.95325922576822, 'entry_time': 1291, 'entry_bid': 1.28282, 'entry_ask': 1.28302, 'exit_price': 1.28302, 'exit_time': 1291, 'profit': -0.015590651845151926}, {'type': 'short', 'entry_price': 1.28564, 'stop_loss_price': 0, 'take_profit_price': 0, 'position_size': 77.78227186459662, 'entry_time': 1292, 'entry_bid': 1.28564, 'entry_ask': 1.28581, 'exit_price': 1.28581, 'exit_time': 1292, 'profit': -0.013222986216981697}, {'type': 'short', 'entry_price': 1.28804, 'stop_loss_price': 0, 'take_profit_price': 0, 'position_size': 77.63734045526536, 'entry_time': 1293, 'entry_bid': 1.28804, 'entry_ask': 1.28819, 'exit_price': 1.28819, 'exit_time': 1293, 'profit': -0.011645601068279901}, {'type': 'short', 'entry_price': 1.28667, 'stop_loss_price': 0, 'take_profit_price': 0, 'position_size': 77.72000590672044, 'entry_time': 1294, 'entry_bid': 1.28667, 'entry_ask': 1.28727, 'exit_price': 1.28727, 'exit_time': 1294, 'profit': -0.046632003544027134}, {'type': 'short', 'entry_price': 1.28645, 'stop_loss_price': 0, 'take_profit_price': 0, 'position_size': 77.7332970577947, 'entry_time': 1295, 'entry_bid': 1.28645, 'entry_ask': 1.28667, 'exit_price': 1.28667, 'exit_time': 1295, 'profit': -0.017101325352706045}, {'type': 'short', 'entry_price': 1.28648, 'stop_loss_price': 0, 'take_profit_price': 0, 'position_size': 77.73148436042534, 'entry_time': 1296, 'entry_bid': 1.28648, 'entry_ask': 1.28669, 'exit_price': 1.28669, 'exit_time': 1296, 'profit': -0.01632361171567544}, {'type': 'short', 'entry_price': 1.28781, 'stop_loss_price': 0, 'take_profit_price': 0, 'position_size': 77.65120631149006, 'entry_time': 1297, 'entry_bid': 1.28781, 'entry_ask': 1.28802, 'exit_price': 1.28802, 'exit_time': 1297, 'profit': -0.016306753325416288}, {'type': 'short', 'entry_price': 1.28835, 'stop_loss_price': 0, 'take_profit_price': 0, 'position_size': 77.61865952574999, 'entry_time': 1298, 'entry_bid': 1.28835, 'entry_ask': 1.28855, 'exit_price': 1.28855, 'exit_time': 1298, 'profit': -0.015523731905148289}, {'type': 'short', 'entry_price': 1.2873, 'stop_loss_price': 0, 'take_profit_price': 0, 'position_size': 77.68197001475957, 'entry_time': 1299, 'entry_bid': 1.2873, 'entry_ask': 1.28743, 'exit_price': 1.28743, 'exit_time': 1299, 'profit': -0.010098656101915907}, {'type': 'short', 'entry_price': 1.28962, 'stop_loss_price': 0, 'take_profit_price': 0, 'position_size': 77.54222173973729, 'entry_time': 1300, 'entry_bid': 1.28962, 'entry_ask': 1.29022, 'exit_price': 1.29022, 'exit_time': 1300, 'profit': -0.04652533304383725}, {'type': 'short', 'entry_price': 1.29135, 'stop_loss_price': 1.2953026, 'take_profit_price': 1.27879, 'position_size': 25299.802661538703, 'entry_time': 1301, 'entry_bid': 1.29135, 'entry_ask': 1.2916, 'exit_price': 1.29591, 'exit_time': 1304, 'profit': -115.36710013661389}, {'type': 'short', 'entry_price': 1.29456, 'stop_loss_price': 0, 'take_profit_price': 0, 'position_size': 77.24632307502164, 'entry_time': 1305, 'entry_bid': 1.29456, 'entry_ask': 1.29475, 'exit_price': 1.29475, 'exit_time': 1305, 'profit': -0.0146768013842645}, {'type': 'short', 'entry_price': 1.29381, 'stop_loss_price': 0, 'take_profit_price': 0, 'position_size': 77.29110147548714, 'entry_time': 1306, 'entry_bid': 1.29381, 'entry_ask': 1.29441, 'exit_price': 1.29441, 'exit_time': 1306, 'profit': -0.046374660885304335}, {'type': 'short', 'entry_price': 1.29526, 'stop_loss_price': 0, 'take_profit_price': 0, 'position_size': 77.20457668730602, 'entry_time': 1307, 'entry_bid': 1.29526, 'entry_ask': 1.29549, 'exit_price': 1.29549, 'exit_time': 1307, 'profit': -0.017757052638076715}, {'type': 'short', 'entry_price': 1.29593, 'stop_loss_price': 0, 'take_profit_price': 0, 'position_size': 77.1646616715409, 'entry_time': 1308, 'entry_bid': 1.29593, 'entry_ask': 1.29615, 'exit_price': 1.29615, 'exit_time': 1308, 'profit': -0.016976225567730274}, {'type': 'short', 'entry_price': 1.29578, 'stop_loss_price': 0, 'take_profit_price': 0, 'position_size': 77.17359428298013, 'entry_time': 1309, 'entry_bid': 1.29578, 'entry_ask': 1.29595, 'exit_price': 1.29595, 'exit_time': 1309, 'profit': -0.013119511028106892}, {'type': 'short', 'entry_price': 1.29396, 'stop_loss_price': 0, 'take_profit_price': 0, 'position_size': 77.2821416427092, 'entry_time': 1310, 'entry_bid': 1.29396, 'entry_ask': 1.29414, 'exit_price': 1.29414, 'exit_time': 1310, 'profit': -0.013910785495692989}, {'type': 'short', 'entry_price': 1.2934, 'stop_loss_price': 0, 'take_profit_price': 0, 'position_size': 77.31560228854183, 'entry_time': 1311, 'entry_bid': 1.2934, 'entry_ask': 1.29358, 'exit_price': 1.29358, 'exit_time': 1311, 'profit': -0.013916808411925696}, {'type': 'short', 'entry_price': 1.29343, 'stop_loss_price': 0, 'take_profit_price': 0, 'position_size': 77.31380901942896, 'entry_time': 1312, 'entry_bid': 1.29343, 'entry_ask': 1.29452, 'exit_price': 1.29452, 'exit_time': 1312, 'profit': -0.08427205183116314}, {'type': 'short', 'entry_price': 1.29329, 'stop_loss_price': 0, 'take_profit_price': 0, 'position_size': 77.32217832040764, 'entry_time': 1313, 'entry_bid': 1.29329, 'entry_ask': 1.29356, 'exit_price': 1.29356, 'exit_time': 1313, 'profit': -0.02087698814650948}, {'type': 'short', 'entry_price': 1.29328, 'stop_loss_price': 0, 'take_profit_price': 0, 'position_size': 77.32277619695658, 'entry_time': 1314, 'entry_bid': 1.29328, 'entry_ask': 1.29351, 'exit_price': 1.29351, 'exit_time': 1314, 'profit': -0.01778423852529634}, {'type': 'short', 'entry_price': 1.29197, 'stop_loss_price': 0, 'take_profit_price': 0, 'position_size': 77.40117804592985, 'entry_time': 1315, 'entry_bid': 1.29197, 'entry_ask': 1.29212, 'exit_price': 1.29212, 'exit_time': 1315, 'profit': -0.011610176706879607}, {'type': 'short', 'entry_price': 1.29129, 'stop_loss_price': 0, 'take_profit_price': 0, 'position_size': 77.44193790705418, 'entry_time': 1316, 'entry_bid': 1.29129, 'entry_ask': 1.29149, 'exit_price': 1.29149, 'exit_time': 1316, 'profit': -0.01548838758140913}, {'type': 'short', 'entry_price': 1.28988, 'stop_loss_price': 0, 'take_profit_price': 0, 'position_size': 77.52659162092598, 'entry_time': 1317, 'entry_bid': 1.28988, 'entry_ask': 1.29005, 'exit_price': 1.29005, 'exit_time': 1317, 'profit': -0.013179520575557687}, {'type': 'short', 'entry_price': 1.28797, 'stop_loss_price': 0, 'take_profit_price': 0, 'position_size': 77.641559974223, 'entry_time': 1318, 'entry_bid': 1.28797, 'entry_ask': 1.28857, 'exit_price': 1.28857, 'exit_time': 1318, 'profit': -0.04658493598452867}, {'type': 'short', 'entry_price': 1.28836, 'stop_loss_price': 0, 'take_profit_price': 0, 'position_size': 77.61805706479555, 'entry_time': 1319, 'entry_bid': 1.28836, 'entry_ask': 1.28854, 'exit_price': 1.28854, 'exit_time': 1319, 'profit': -0.013971250271668555}, {'type': 'short', 'entry_price': 1.28808, 'stop_loss_price': 0, 'take_profit_price': 0, 'position_size': 77.63492950748402, 'entry_time': 1320, 'entry_bid': 1.28808, 'entry_ask': 1.28828, 'exit_price': 1.28828, 'exit_time': 1320, 'profit': -0.015526985901512332}, {'type': 'short', 'entry_price': 1.28955, 'stop_loss_price': 0, 'take_profit_price': 0, 'position_size': 77.54643092551666, 'entry_time': 1321, 'entry_bid': 1.28955, 'entry_ask': 1.28971, 'exit_price': 1.28971, 'exit_time': 1321, 'profit': -0.012407428948077856}, {'type': 'short', 'entry_price': 1.28883, 'stop_loss_price': 0, 'take_profit_price': 0, 'position_size': 77.58975194556304, 'entry_time': 1322, 'entry_bid': 1.28883, 'entry_ask': 1.28899, 'exit_price': 1.28899, 'exit_time': 1322, 'profit': -0.012414360311302502}, {'type': 'short', 'entry_price': 1.28702, 'stop_loss_price': 0, 'take_profit_price': 0, 'position_size': 77.69887025842644, 'entry_time': 1323, 'entry_bid': 1.28702, 'entry_ask': 1.28718, 'exit_price': 1.28718, 'exit_time': 1323, 'profit': -0.01243181924134341}, {'type': 'short', 'entry_price': 1.288, 'stop_loss_price': 0, 'take_profit_price': 0, 'position_size': 77.63975155279503, 'entry_time': 1324, 'entry_bid': 1.288, 'entry_ask': 1.2886, 'exit_price': 1.2886, 'exit_time': 1324, 'profit': -0.04658385093167189}, {'type': 'short', 'entry_price': 1.28794, 'stop_loss_price': 0, 'take_profit_price': 0, 'position_size': 77.64336847989813, 'entry_time': 1325, 'entry_bid': 1.28794, 'entry_ask': 1.28815, 'exit_price': 1.28815, 'exit_time': 1325, 'profit': -0.016305107380764742}, {'type': 'short', 'entry_price': 1.2882, 'stop_loss_price': 0, 'take_profit_price': 0, 'position_size': 77.6276975624903, 'entry_time': 1326, 'entry_bid': 1.2882, 'entry_ask': 1.28845, 'exit_price': 1.28845, 'exit_time': 1326, 'profit': -0.019406924390629056}, {'type': 'short', 'entry_price': 1.28851, 'stop_loss_price': 0, 'take_profit_price': 0, 'position_size': 77.60902127263273, 'entry_time': 1327, 'entry_bid': 1.28851, 'entry_ask': 1.28867, 'exit_price': 1.28867, 'exit_time': 1327, 'profit': -0.012417443403616424}, {'type': 'short', 'entry_price': 1.28885, 'stop_loss_price': 0, 'take_profit_price': 0, 'position_size': 77.58854793032548, 'entry_time': 1328, 'entry_bid': 1.28885, 'entry_ask': 1.289, 'exit_price': 1.289, 'exit_time': 1328, 'profit': -0.011638282189538926}, {'type': 'short', 'entry_price': 1.28571, 'stop_loss_price': 0, 'take_profit_price': 0, 'position_size': 77.77803703790124, 'entry_time': 1329, 'entry_bid': 1.28571, 'entry_ask': 1.28588, 'exit_price': 1.28588, 'exit_time': 1329, 'profit': -0.013222266296443482}, {'type': 'short', 'entry_price': 1.28522, 'stop_loss_price': 0, 'take_profit_price': 0, 'position_size': 77.80769051213022, 'entry_time': 1330, 'entry_bid': 1.28522, 'entry_ask': 1.28582, 'exit_price': 1.28582, 'exit_time': 1330, 'profit': -0.04668461430727299}, {'type': 'short', 'entry_price': 1.28482, 'stop_loss_price': 0, 'take_profit_price': 0, 'position_size': 77.83191419809778, 'entry_time': 1331, 'entry_bid': 1.28482, 'entry_ask': 1.28502, 'exit_price': 1.28502, 'exit_time': 1331, 'profit': -0.01556638283961784}, {'type': 'short', 'entry_price': 1.28458, 'stop_loss_price': 0, 'take_profit_price': 0, 'position_size': 77.84645565087422, 'entry_time': 1332, 'entry_bid': 1.28458, 'entry_ask': 1.28479, 'exit_price': 1.28479, 'exit_time': 1332, 'profit': -0.01634775568668697}, {'type': 'short', 'entry_price': 1.28667, 'stop_loss_price': 0, 'take_profit_price': 0, 'position_size': 77.72000590672044, 'entry_time': 1333, 'entry_bid': 1.28667, 'entry_ask': 1.28683, 'exit_price': 1.28683, 'exit_time': 1333, 'profit': -0.01243520094507045}, {'type': 'short', 'entry_price': 1.28063, 'stop_loss_price': 0, 'take_profit_price': 0, 'position_size': 78.08656676791892, 'entry_time': 1334, 'entry_bid': 1.28063, 'entry_ask': 1.28079, 'exit_price': 1.28079, 'exit_time': 1334, 'profit': -0.012493850682879523}, {'type': 'short', 'entry_price': 1.28143, 'stop_loss_price': 0, 'take_profit_price': 0, 'position_size': 78.03781712617935, 'entry_time': 1335, 'entry_bid': 1.28143, 'entry_ask': 1.28159, 'exit_price': 1.28159, 'exit_time': 1335, 'profit': -0.012486050740183855}, {'type': 'short', 'entry_price': 1.28115, 'stop_loss_price': 0, 'take_profit_price': 0, 'position_size': 78.05487257542052, 'entry_time': 1336, 'entry_bid': 1.28115, 'entry_ask': 1.28175, 'exit_price': 1.28175, 'exit_time': 1336, 'profit': -0.04683292354524715}, {'type': 'short', 'entry_price': 1.28127, 'stop_loss_price': 0, 'take_profit_price': 0, 'position_size': 78.04756218439518, 'entry_time': 1337, 'entry_bid': 1.28127, 'entry_ask': 1.28145, 'exit_price': 1.28145, 'exit_time': 1337, 'profit': -0.014048561193196517}, {'type': 'short', 'entry_price': 1.28114, 'stop_loss_price': 0, 'take_profit_price': 0, 'position_size': 78.05548183648938, 'entry_time': 1338, 'entry_bid': 1.28114, 'entry_ask': 1.28134, 'exit_price': 1.28134, 'exit_time': 1338, 'profit': -0.015611096367296157}, {'type': 'short', 'entry_price': 1.28086, 'stop_loss_price': 0, 'take_profit_price': 0, 'position_size': 78.07254500882219, 'entry_time': 1339, 'entry_bid': 1.28086, 'entry_ask': 1.28102, 'exit_price': 1.28102, 'exit_time': 1339, 'profit': -0.012491607201406707}, {'type': 'short', 'entry_price': 1.28048, 'stop_loss_price': 0, 'take_profit_price': 0, 'position_size': 78.09571410720979, 'entry_time': 1340, 'entry_bid': 1.28048, 'entry_ask': 1.28066, 'exit_price': 1.28066, 'exit_time': 1340, 'profit': -0.014057228539285808}, {'type': 'short', 'entry_price': 1.27706, 'stop_loss_price': 0, 'take_profit_price': 0, 'position_size': 78.30485646719809, 'entry_time': 1341, 'entry_bid': 1.27706, 'entry_ask': 1.27722, 'exit_price': 1.27722, 'exit_time': 1341, 'profit': -0.012528777034746837}, {'type': 'short', 'entry_price': 1.27699, 'stop_loss_price': 0, 'take_profit_price': 0, 'position_size': 78.30914885786106, 'entry_time': 1342, 'entry_bid': 1.27699, 'entry_ask': 1.27808, 'exit_price': 1.27808, 'exit_time': 1342, 'profit': -0.08535697225507133}, {'type': 'short', 'entry_price': 1.27903, 'stop_loss_price': 0, 'take_profit_price': 0, 'position_size': 78.18424900119622, 'entry_time': 1343, 'entry_bid': 1.27903, 'entry_ask': 1.27921, 'exit_price': 1.27921, 'exit_time': 1343, 'profit': -0.014073164820220713}, {'type': 'short', 'entry_price': 1.27974, 'stop_loss_price': 0, 'take_profit_price': 0, 'position_size': 78.14087236469908, 'entry_time': 1344, 'entry_bid': 1.27974, 'entry_ask': 1.27993, 'exit_price': 1.27993, 'exit_time': 1344, 'profit': -0.014846765749285985}, {'type': 'short', 'entry_price': 1.28024, 'stop_loss_price': 0, 'take_profit_price': 0, 'position_size': 78.11035430856714, 'entry_time': 1345, 'entry_bid': 1.28024, 'entry_ask': 1.2804, 'exit_price': 1.2804, 'exit_time': 1345, 'profit': -0.012497656689365897}, {'type': 'short', 'entry_price': 1.28706, 'stop_loss_price': 0, 'take_profit_price': 0, 'position_size': 77.69645548770065, 'entry_time': 1346, 'entry_bid': 1.28706, 'entry_ask': 1.28723, 'exit_price': 1.28723, 'exit_time': 1346, 'profit': -0.01320839743290938}, {'type': 'short', 'entry_price': 1.28575, 'stop_loss_price': 0, 'take_profit_price': 0, 'position_size': 77.77561734396267, 'entry_time': 1347, 'entry_bid': 1.28575, 'entry_ask': 1.28592, 'exit_price': 1.28592, 'exit_time': 1347, 'profit': -0.013221854948473924}, {'type': 'short', 'entry_price': 1.28517, 'stop_loss_price': 0, 'take_profit_price': 0, 'position_size': 77.81071764824887, 'entry_time': 1348, 'entry_bid': 1.28517, 'entry_ask': 1.28577, 'exit_price': 1.28577, 'exit_time': 1348, 'profit': -0.04668643058896146}, {'type': 'short', 'entry_price': 1.2856, 'stop_loss_price': 0, 'take_profit_price': 0, 'position_size': 77.78469197261978, 'entry_time': 1349, 'entry_bid': 1.2856, 'entry_ask': 1.28579, 'exit_price': 1.28579, 'exit_time': 1349, 'profit': -0.014779091474790949}, {'type': 'short', 'entry_price': 1.28615, 'stop_loss_price': 0, 'take_profit_price': 0, 'position_size': 77.75142868250205, 'entry_time': 1350, 'entry_bid': 1.28615, 'entry_ask': 1.28633, 'exit_price': 1.28633, 'exit_time': 1350, 'profit': -0.013995257162855733}, {'type': 'short', 'entry_price': 1.28379, 'stop_loss_price': 0, 'take_profit_price': 0, 'position_size': 77.89435966941633, 'entry_time': 1351, 'entry_bid': 1.28379, 'entry_ask': 1.28403, 'exit_price': 1.28403, 'exit_time': 1351, 'profit': -0.01869464632066132}, {'type': 'short', 'entry_price': 1.28375, 'stop_loss_price': 0, 'take_profit_price': 0, 'position_size': 77.89678675754625, 'entry_time': 1352, 'entry_bid': 1.28375, 'entry_ask': 1.28389, 'exit_price': 1.28389, 'exit_time': 1352, 'profit': -0.010905550146058733}, {'type': 'short', 'entry_price': 1.28565, 'stop_loss_price': 0, 'take_profit_price': 0, 'position_size': 77.78166686112084, 'entry_time': 1353, 'entry_bid': 1.28565, 'entry_ask': 1.28582, 'exit_price': 1.28582, 'exit_time': 1353, 'profit': -0.013222883366390813}, {'type': 'short', 'entry_price': 1.28425, 'stop_loss_price': 0, 'take_profit_price': 0, 'position_size': 77.86645902277594, 'entry_time': 1354, 'entry_bid': 1.28425, 'entry_ask': 1.28485, 'exit_price': 1.28485, 'exit_time': 1354, 'profit': -0.04671987541367771}, {'type': 'short', 'entry_price': 1.28497, 'stop_loss_price': 0, 'take_profit_price': 0, 'position_size': 77.82282854852643, 'entry_time': 1355, 'entry_bid': 1.28497, 'entry_ask': 1.28515, 'exit_price': 1.28515, 'exit_time': 1355, 'profit': -0.014008109138740127}, {'type': 'short', 'entry_price': 1.28488, 'stop_loss_price': 0, 'take_profit_price': 0, 'position_size': 77.82827968370587, 'entry_time': 1356, 'entry_bid': 1.28488, 'entry_ask': 1.28506, 'exit_price': 1.28506, 'exit_time': 1356, 'profit': -0.014009090343072426}, {'type': 'short', 'entry_price': 1.28524, 'stop_loss_price': 1.2886682, 'take_profit_price': 1.27682, 'position_size': 29169.826731228335, 'entry_time': 1357, 'entry_bid': 1.28524, 'entry_ask': 1.28542, 'exit_price': 1.28867, 'exit_time': 1367, 'profit': -100.05250568811448}, {'type': 'short', 'entry_price': 1.28755, 'stop_loss_price': 0, 'take_profit_price': 0, 'position_size': 77.66688672284572, 'entry_time': 1368, 'entry_bid': 1.28755, 'entry_ask': 1.28772, 'exit_price': 1.28772, 'exit_time': 1368, 'profit': -0.013203370742884043}, {'type': 'short', 'entry_price': 1.28741, 'stop_loss_price': 0, 'take_profit_price': 0, 'position_size': 77.67533264461206, 'entry_time': 1369, 'entry_bid': 1.28741, 'entry_ask': 1.2876, 'exit_price': 1.2876, 'exit_time': 1369, 'profit': -0.014758313202486738}, {'type': 'short', 'entry_price': 1.28866, 'stop_loss_price': 0, 'take_profit_price': 0, 'position_size': 77.599987584002, 'entry_time': 1370, 'entry_bid': 1.28866, 'entry_ask': 1.28885, 'exit_price': 1.28885, 'exit_time': 1370, 'profit': -0.014743997640970816}, {'type': 'short', 'entry_price': 1.29077, 'stop_loss_price': 0, 'take_profit_price': 0, 'position_size': 77.47313619002611, 'entry_time': 1371, 'entry_bid': 1.29077, 'entry_ask': 1.29092, 'exit_price': 1.29092, 'exit_time': 1371, 'profit': -0.011620970428511238}, {'type': 'short', 'entry_price': 1.28997, 'stop_loss_price': 0, 'take_profit_price': 0, 'position_size': 77.5211826631627, 'entry_time': 1372, 'entry_bid': 1.28997, 'entry_ask': 1.29067, 'exit_price': 1.29067, 'exit_time': 1372, 'profit': -0.054264827864207915}, {'type': 'short', 'entry_price': 1.29196, 'stop_loss_price': 0, 'take_profit_price': 0, 'position_size': 77.40177714480325, 'entry_time': 1373, 'entry_bid': 1.29196, 'entry_ask': 1.29213, 'exit_price': 1.29213, 'exit_time': 1373, 'profit': -0.013158302114616821}, {'type': 'short', 'entry_price': 1.29239, 'stop_loss_price': 0, 'take_profit_price': 0, 'position_size': 77.37602426512122, 'entry_time': 1374, 'entry_bid': 1.29239, 'entry_ask': 1.29258, 'exit_price': 1.29258, 'exit_time': 1374, 'profit': -0.01470144461038344}, {'type': 'short', 'entry_price': 1.29619, 'stop_loss_price': 0, 'take_profit_price': 0, 'position_size': 77.14918337589397, 'entry_time': 1375, 'entry_bid': 1.29619, 'entry_ask': 1.29635, 'exit_price': 1.29635, 'exit_time': 1375, 'profit': -0.01234386934013825}, {'type': 'short', 'entry_price': 1.2959, 'stop_loss_price': 0, 'take_profit_price': 0, 'position_size': 77.16644802839726, 'entry_time': 1376, 'entry_bid': 1.2959, 'entry_ask': 1.29606, 'exit_price': 1.29606, 'exit_time': 1376, 'profit': -0.012346631684538775}, {'type': 'short', 'entry_price': 1.29661, 'stop_loss_price': 0, 'take_profit_price': 0, 'position_size': 77.12419308812981, 'entry_time': 1377, 'entry_bid': 1.29661, 'entry_ask': 1.29677, 'exit_price': 1.29677, 'exit_time': 1377, 'profit': -0.012339870894095986}, {'type': 'short', 'entry_price': 1.29497, 'stop_loss_price': 0, 'take_profit_price': 0, 'position_size': 77.22186614361723, 'entry_time': 1378, 'entry_bid': 1.29497, 'entry_ask': 1.29557, 'exit_price': 1.29557, 'exit_time': 1378, 'profit': -0.04633311968618239}, {'type': 'short', 'entry_price': 1.29502, 'stop_loss_price': 0, 'take_profit_price': 0, 'position_size': 77.21888465043011, 'entry_time': 1379, 'entry_bid': 1.29502, 'entry_ask': 1.2953, 'exit_price': 1.2953, 'exit_time': 1379, 'profit': -0.021621287702107764}, {'type': 'short', 'entry_price': 1.29576, 'stop_loss_price': 0, 'take_profit_price': 0, 'position_size': 77.17478545409644, 'entry_time': 1380, 'entry_bid': 1.29576, 'entry_ask': 1.29597, 'exit_price': 1.29597, 'exit_time': 1380, 'profit': -0.01620670494536361}, {'type': 'short', 'entry_price': 1.29529, 'stop_loss_price': 0, 'take_profit_price': 0, 'position_size': 77.20278856472295, 'entry_time': 1381, 'entry_bid': 1.29529, 'entry_ask': 1.29546, 'exit_price': 1.29546, 'exit_time': 1381, 'profit': -0.01312447405600317}, {'type': 'short', 'entry_price': 1.29402, 'stop_loss_price': 0, 'take_profit_price': 0, 'position_size': 77.27855829121653, 'entry_time': 1382, 'entry_bid': 1.29402, 'entry_ask': 1.29414, 'exit_price': 1.29414, 'exit_time': 1382, 'profit': -0.009273426994955257}, {'type': 'short', 'entry_price': 1.29265, 'stop_loss_price': 0, 'take_profit_price': 0, 'position_size': 77.36046106834796, 'entry_time': 1383, 'entry_bid': 1.29265, 'entry_ask': 1.2928, 'exit_price': 1.2928, 'exit_time': 1383, 'profit': -0.011604069160242328}, {'type': 'short', 'entry_price': 1.29233, 'stop_loss_price': 0, 'take_profit_price': 0, 'position_size': 77.37961666137906, 'entry_time': 1384, 'entry_bid': 1.29233, 'entry_ask': 1.29293, 'exit_price': 1.29293, 'exit_time': 1384, 'profit': -0.04642776999682232}, {'type': 'short', 'entry_price': 1.29057, 'stop_loss_price': 0, 'take_profit_price': 0, 'position_size': 77.48514222397856, 'entry_time': 1385, 'entry_bid': 1.29057, 'entry_ask': 1.29075, 'exit_price': 1.29075, 'exit_time': 1385, 'profit': -0.013947325600321487}, {'type': 'short', 'entry_price': 1.29057, 'stop_loss_price': 0, 'take_profit_price': 0, 'position_size': 77.48514222397856, 'entry_time': 1386, 'entry_bid': 1.29057, 'entry_ask': 1.29075, 'exit_price': 1.29075, 'exit_time': 1386, 'profit': -0.013947325600321487}, {'type': 'short', 'entry_price': 1.29091, 'stop_loss_price': 0, 'take_profit_price': 0, 'position_size': 77.46473417976466, 'entry_time': 1387, 'entry_bid': 1.29091, 'entry_ask': 1.29106, 'exit_price': 1.29106, 'exit_time': 1387, 'profit': -0.01161971012697202}, {'type': 'short', 'entry_price': 1.29028, 'stop_loss_price': 0, 'take_profit_price': 0, 'position_size': 77.50255758440028, 'entry_time': 1388, 'entry_bid': 1.29028, 'entry_ask': 1.29045, 'exit_price': 1.29045, 'exit_time': 1388, 'profit': -0.013175434789348317}, {'type': 'short', 'entry_price': 1.29206, 'stop_loss_price': 0, 'take_profit_price': 0, 'position_size': 77.39578657337894, 'entry_time': 1389, 'entry_bid': 1.29206, 'entry_ask': 1.29222, 'exit_price': 1.29222, 'exit_time': 1389, 'profit': -0.01238332585173583}, {'type': 'short', 'entry_price': 1.29206, 'stop_loss_price': 0, 'take_profit_price': 0, 'position_size': 77.39578657337894, 'entry_time': 1390, 'entry_bid': 1.29206, 'entry_ask': 1.29266, 'exit_price': 1.29266, 'exit_time': 1390, 'profit': -0.04643747194402225}, {'type': 'short', 'entry_price': 1.2926, 'stop_loss_price': 0, 'take_profit_price': 0, 'position_size': 77.36345350456445, 'entry_time': 1391, 'entry_bid': 1.2926, 'entry_ask': 1.29278, 'exit_price': 1.29278, 'exit_time': 1391, 'profit': -0.013925421630826938}, {'type': 'short', 'entry_price': 1.29277, 'stop_loss_price': 0, 'take_profit_price': 0, 'position_size': 77.35328016584543, 'entry_time': 1392, 'entry_bid': 1.29277, 'entry_ask': 1.29295, 'exit_price': 1.29295, 'exit_time': 1392, 'profit': -0.013923590429857515}, {'type': 'short', 'entry_price': 1.29435, 'stop_loss_price': 0, 'take_profit_price': 0, 'position_size': 77.25885579634566, 'entry_time': 1393, 'entry_bid': 1.29435, 'entry_ask': 1.29455, 'exit_price': 1.29455, 'exit_time': 1393, 'profit': -0.015451771159284585}, {'type': 'short', 'entry_price': 1.29583, 'stop_loss_price': 0, 'take_profit_price': 0, 'position_size': 77.17061651605535, 'entry_time': 1394, 'entry_bid': 1.29583, 'entry_ask': 1.296, 'exit_price': 1.296, 'exit_time': 1394, 'profit': -0.013119004807729678}, {'type': 'short', 'entry_price': 1.29035, 'stop_loss_price': 0, 'take_profit_price': 0, 'position_size': 77.49835315999535, 'entry_time': 1395, 'entry_bid': 1.29035, 'entry_ask': 1.29049, 'exit_price': 1.29049, 'exit_time': 1395, 'profit': -0.010849769442384386}, {'type': 'short', 'entry_price': 1.29051, 'stop_loss_price': 0, 'take_profit_price': 0, 'position_size': 77.48874475982363, 'entry_time': 1396, 'entry_bid': 1.29051, 'entry_ask': 1.29111, 'exit_price': 1.29111, 'exit_time': 1396, 'profit': -0.046493246855889056}, {'type': 'short', 'entry_price': 1.2918, 'stop_loss_price': 0, 'take_profit_price': 0, 'position_size': 77.41136398823348, 'entry_time': 1397, 'entry_bid': 1.2918, 'entry_ask': 1.29196, 'exit_price': 1.29196, 'exit_time': 1397, 'profit': -0.012385818238112554}, {'type': 'short', 'entry_price': 1.29205, 'stop_loss_price': 0, 'take_profit_price': 0, 'position_size': 77.39638558879301, 'entry_time': 1398, 'entry_bid': 1.29205, 'entry_ask': 1.29223, 'exit_price': 1.29223, 'exit_time': 1398, 'profit': -0.01393134940598808}, {'type': 'short', 'entry_price': 1.28725, 'stop_loss_price': 0, 'take_profit_price': 0, 'position_size': 77.68498737618955, 'entry_time': 1399, 'entry_bid': 1.28725, 'entry_ask': 1.28742, 'exit_price': 1.28742, 'exit_time': 1399, 'profit': -0.013206447853952495}, {'type': 'short', 'entry_price': 1.28547, 'stop_loss_price': 0, 'take_profit_price': 0, 'position_size': 77.79255836386692, 'entry_time': 1400, 'entry_bid': 1.28547, 'entry_ask': 1.28562, 'exit_price': 1.28562, 'exit_time': 1400, 'profit': -0.011668883754587389}, {'type': 'short', 'entry_price': 1.28268, 'stop_loss_price': 0, 'take_profit_price': 0, 'position_size': 77.96176754919388, 'entry_time': 1401, 'entry_bid': 1.28268, 'entry_ask': 1.28284, 'exit_price': 1.28284, 'exit_time': 1401, 'profit': -0.012473882807866184}, {'type': 'short', 'entry_price': 1.28289, 'stop_loss_price': 0, 'take_profit_price': 0, 'position_size': 77.94900576043152, 'entry_time': 1402, 'entry_bid': 1.28289, 'entry_ask': 1.28398, 'exit_price': 1.28398, 'exit_time': 1402, 'profit': -0.0849644162788558}, {'type': 'short', 'entry_price': 1.2851, 'stop_loss_price': 0, 'take_profit_price': 0, 'position_size': 77.81495603454985, 'entry_time': 1403, 'entry_bid': 1.2851, 'entry_ask': 1.28529, 'exit_price': 1.28529, 'exit_time': 1403, 'profit': -0.014784841646574938}, {'type': 'short', 'entry_price': 1.28517, 'stop_loss_price': 0, 'take_profit_price': 0, 'position_size': 77.81071764824887, 'entry_time': 1404, 'entry_bid': 1.28517, 'entry_ask': 1.28532, 'exit_price': 1.28532, 'exit_time': 1404, 'profit': -0.011671607647244684}, {'type': 'short', 'entry_price': 1.288, 'stop_loss_price': 0, 'take_profit_price': 0, 'position_size': 77.63975155279503, 'entry_time': 1405, 'entry_bid': 1.288, 'entry_ask': 1.28824, 'exit_price': 1.28824, 'exit_time': 1405, 'profit': -0.018633540372672203}, {'type': 'short', 'entry_price': 1.28787, 'stop_loss_price': 0, 'take_profit_price': 0, 'position_size': 77.64758865413434, 'entry_time': 1406, 'entry_bid': 1.28787, 'entry_ask': 1.28803, 'exit_price': 1.28803, 'exit_time': 1406, 'profit': -0.012423614184656678}, {'type': 'short', 'entry_price': 1.28881, 'stop_loss_price': 0, 'take_profit_price': 0, 'position_size': 77.59095599816885, 'entry_time': 1407, 'entry_bid': 1.28881, 'entry_ask': 1.28897, 'exit_price': 1.28897, 'exit_time': 1407, 'profit': -0.012414552959702204}, {'type': 'short', 'entry_price': 1.28967, 'stop_loss_price': 0, 'take_profit_price': 0, 'position_size': 77.53921545821798, 'entry_time': 1408, 'entry_bid': 1.28967, 'entry_ask': 1.29027, 'exit_price': 1.29027, 'exit_time': 1408, 'profit': -0.04652352927492567}, {'type': 'short', 'entry_price': 1.29022, 'stop_loss_price': 0, 'take_profit_price': 0, 'position_size': 77.50616173985833, 'entry_time': 1409, 'entry_bid': 1.29022, 'entry_ask': 1.29042, 'exit_price': 1.29042, 'exit_time': 1409, 'profit': -0.015501232347969959}, {'type': 'short', 'entry_price': 1.28924, 'stop_loss_price': 0, 'take_profit_price': 0, 'position_size': 77.56507709968665, 'entry_time': 1410, 'entry_bid': 1.28924, 'entry_ask': 1.28947, 'exit_price': 1.28947, 'exit_time': 1410, 'profit': -0.01783996773292424}, {'type': 'short', 'entry_price': 1.28649, 'stop_loss_price': 0, 'take_profit_price': 0, 'position_size': 77.73088014675591, 'entry_time': 1411, 'entry_bid': 1.28649, 'entry_ask': 1.28664, 'exit_price': 1.28664, 'exit_time': 1411, 'profit': -0.011659632022020732}, {'type': 'short', 'entry_price': 1.28522, 'stop_loss_price': 0, 'take_profit_price': 0, 'position_size': 77.80769051213022, 'entry_time': 1412, 'entry_bid': 1.28522, 'entry_ask': 1.28539, 'exit_price': 1.28539, 'exit_time': 1412, 'profit': -0.013227307387062409}, {'type': 'short', 'entry_price': 1.28608, 'stop_loss_price': 0, 'take_profit_price': 0, 'position_size': 77.75566061209257, 'entry_time': 1413, 'entry_bid': 1.28608, 'entry_ask': 1.28625, 'exit_price': 1.28625, 'exit_time': 1413, 'profit': -0.013218462304056008}, {'type': 'short', 'entry_price': 1.28622, 'stop_loss_price': 0, 'take_profit_price': 0, 'position_size': 77.74719721354046, 'entry_time': 1414, 'entry_bid': 1.28622, 'entry_ask': 1.28682, 'exit_price': 1.28682, 'exit_time': 1414, 'profit': -0.0466483183281364}, {'type': 'short', 'entry_price': 1.28507, 'stop_loss_price': 0, 'take_profit_price': 0, 'position_size': 77.81677262717207, 'entry_time': 1415, 'entry_bid': 1.28507, 'entry_ask': 1.28527, 'exit_price': 1.28527, 'exit_time': 1415, 'profit': -0.0155633545254327}, {'type': 'short', 'entry_price': 1.28459, 'stop_loss_price': 0, 'take_profit_price': 0, 'position_size': 77.845849648526, 'entry_time': 1416, 'entry_bid': 1.28459, 'entry_ask': 1.28477, 'exit_price': 1.28477, 'exit_time': 1416, 'profit': -0.014012252936740051}, {'type': 'short', 'entry_price': 1.28611, 'stop_loss_price': 0, 'take_profit_price': 0, 'position_size': 77.75384687157397, 'entry_time': 1417, 'entry_bid': 1.28611, 'entry_ask': 1.28627, 'exit_price': 1.28627, 'exit_time': 1417, 'profit': -0.012440615499447012}, {'type': 'short', 'entry_price': 1.28813, 'stop_loss_price': 0, 'take_profit_price': 0, 'position_size': 77.63191603331961, 'entry_time': 1418, 'entry_bid': 1.28813, 'entry_ask': 1.28829, 'exit_price': 1.28829, 'exit_time': 1418, 'profit': -0.012421106565326322}, {'type': 'short', 'entry_price': 1.28828, 'stop_loss_price': 0, 'take_profit_price': 0, 'position_size': 77.62287701431366, 'entry_time': 1419, 'entry_bid': 1.28828, 'entry_ask': 1.28844, 'exit_price': 1.28844, 'exit_time': 1419, 'profit': -0.012419660322285371}, {'type': 'short', 'entry_price': 1.2908, 'stop_loss_price': 1.2936708000000001, 'take_profit_price': 1.28208, 'position_size': 34833.49588964538, 'entry_time': 1420, 'entry_bid': 1.2908, 'entry_ask': 1.2914, 'exit_price': 1.29376, 'exit_time': 1423, 'profit': -103.1071478333529}, {'type': 'short', 'entry_price': 1.29114, 'stop_loss_price': 0, 'take_profit_price': 0, 'position_size': 77.45093483278343, 'entry_time': 1424, 'entry_bid': 1.29114, 'entry_ask': 1.29132, 'exit_price': 1.29132, 'exit_time': 1424, 'profit': -0.013941168269906361}, {'type': 'short', 'entry_price': 1.29034, 'stop_loss_price': 0, 'take_profit_price': 0, 'position_size': 77.49895376412418, 'entry_time': 1425, 'entry_bid': 1.29034, 'entry_ask': 1.29058, 'exit_price': 1.29058, 'exit_time': 1425, 'profit': -0.018599748903391198}, {'type': 'short', 'entry_price': 1.29088, 'stop_loss_price': 0, 'take_profit_price': 0, 'position_size': 77.46653445711452, 'entry_time': 1426, 'entry_bid': 1.29088, 'entry_ask': 1.29148, 'exit_price': 1.29148, 'exit_time': 1426, 'profit': -0.04647992067426359}, {'type': 'short', 'entry_price': 1.29083, 'stop_loss_price': 0, 'take_profit_price': 0, 'position_size': 77.46953510531984, 'entry_time': 1427, 'entry_bid': 1.29083, 'entry_ask': 1.29102, 'exit_price': 1.29102, 'exit_time': 1427, 'profit': -0.014719211670021189}, {'type': 'short', 'entry_price': 1.29176, 'stop_loss_price': 0, 'take_profit_price': 0, 'position_size': 77.41376107016784, 'entry_time': 1428, 'entry_bid': 1.29176, 'entry_ask': 1.29198, 'exit_price': 1.29198, 'exit_time': 1428, 'profit': -0.017031027435428173}, {'type': 'short', 'entry_price': 1.28888, 'stop_loss_price': 0, 'take_profit_price': 0, 'position_size': 77.58674197753088, 'entry_time': 1429, 'entry_bid': 1.28888, 'entry_ask': 1.28905, 'exit_price': 1.28905, 'exit_time': 1429, 'profit': -0.013189746136180519}, {'type': 'short', 'entry_price': 1.28858, 'stop_loss_price': 0, 'take_profit_price': 0, 'position_size': 77.60480528954352, 'entry_time': 1430, 'entry_bid': 1.28858, 'entry_ask': 1.28872, 'exit_price': 1.28872, 'exit_time': 1430, 'profit': -0.010864672740538343}, {'type': 'short', 'entry_price': 1.29311, 'stop_loss_price': 0, 'take_profit_price': 0, 'position_size': 77.33294151309633, 'entry_time': 1431, 'entry_bid': 1.29311, 'entry_ask': 1.29328, 'exit_price': 1.29328, 'exit_time': 1431, 'profit': -0.013146600057226645}, {'type': 'short', 'entry_price': 1.2932, 'stop_loss_price': 0, 'take_profit_price': 0, 'position_size': 77.32755954222085, 'entry_time': 1432, 'entry_bid': 1.2932, 'entry_ask': 1.29429, 'exit_price': 1.29429, 'exit_time': 1432, 'profit': -0.08428703990102347}, {'type': 'short', 'entry_price': 1.29129, 'stop_loss_price': 0, 'take_profit_price': 0, 'position_size': 77.44193790705418, 'entry_time': 1433, 'entry_bid': 1.29129, 'entry_ask': 1.2915, 'exit_price': 1.2915, 'exit_time': 1433, 'profit': -0.016262806960484745}, {'type': 'short', 'entry_price': 1.29158, 'stop_loss_price': 0, 'take_profit_price': 0, 'position_size': 77.42454977624305, 'entry_time': 1434, 'entry_bid': 1.29158, 'entry_ask': 1.29178, 'exit_price': 1.29178, 'exit_time': 1434, 'profit': -0.015484909955246906}, {'type': 'short', 'entry_price': 1.29094, 'stop_loss_price': 0, 'take_profit_price': 0, 'position_size': 77.46293398608766, 'entry_time': 1435, 'entry_bid': 1.29094, 'entry_ask': 1.2911, 'exit_price': 1.2911, 'exit_time': 1435, 'profit': -0.01239406943776922}, {'type': 'short', 'entry_price': 1.29285, 'stop_loss_price': 0, 'take_profit_price': 0, 'position_size': 77.3484936380864, 'entry_time': 1436, 'entry_bid': 1.29285, 'entry_ask': 1.29301, 'exit_price': 1.29301, 'exit_time': 1436, 'profit': -0.012375758982089025}, {'type': 'short', 'entry_price': 1.29326, 'stop_loss_price': 0, 'take_profit_price': 0, 'position_size': 77.32397197779255, 'entry_time': 1437, 'entry_bid': 1.29326, 'entry_ask': 1.29341, 'exit_price': 1.29341, 'exit_time': 1437, 'profit': -0.011598595796659021}, {'type': 'short', 'entry_price': 1.29387, 'stop_loss_price': 0, 'take_profit_price': 0, 'position_size': 77.28751729308199, 'entry_time': 1438, 'entry_bid': 1.29387, 'entry_ask': 1.29447, 'exit_price': 1.29447, 'exit_time': 1438, 'profit': -0.046372510375844084}, {'type': 'short', 'entry_price': 1.29324, 'stop_loss_price': 0, 'take_profit_price': 0, 'position_size': 77.32516779561412, 'entry_time': 1439, 'entry_bid': 1.29324, 'entry_ask': 1.29342, 'exit_price': 1.29342, 'exit_time': 1439, 'profit': -0.013918530203215877}, {'type': 'short', 'entry_price': 1.294, 'stop_loss_price': 0, 'take_profit_price': 0, 'position_size': 77.27975270479135, 'entry_time': 1440, 'entry_bid': 1.294, 'entry_ask': 1.29421, 'exit_price': 1.29421, 'exit_time': 1440, 'profit': -0.016228748068009544}, {'type': 'short', 'entry_price': 1.29869, 'stop_loss_price': 0, 'take_profit_price': 0, 'position_size': 77.00066990582819, 'entry_time': 1441, 'entry_bid': 1.29869, 'entry_ask': 1.29884, 'exit_price': 1.29884, 'exit_time': 1441, 'profit': -0.011550100485881506}, {'type': 'short', 'entry_price': 1.29962, 'stop_loss_price': 0, 'take_profit_price': 0, 'position_size': 76.9455687046983, 'entry_time': 1442, 'entry_bid': 1.29962, 'entry_ask': 1.29978, 'exit_price': 1.29978, 'exit_time': 1442, 'profit': -0.012311290992746955}, {'type': 'short', 'entry_price': 1.30075, 'stop_loss_price': 0, 'take_profit_price': 0, 'position_size': 76.87872381318469, 'entry_time': 1443, 'entry_bid': 1.30075, 'entry_ask': 1.30091, 'exit_price': 1.30091, 'exit_time': 1443, 'profit': -0.012300595810104781}, {'type': 'short', 'entry_price': 1.29929, 'stop_loss_price': 0, 'take_profit_price': 0, 'position_size': 76.96511171485965, 'entry_time': 1444, 'entry_bid': 1.29929, 'entry_ask': 1.29989, 'exit_price': 1.29989, 'exit_time': 1444, 'profit': -0.046179067028910704}, {'type': 'short', 'entry_price': 1.29988, 'stop_loss_price': 0, 'take_profit_price': 0, 'position_size': 76.93017817029265, 'entry_time': 1445, 'entry_bid': 1.29988, 'entry_ask': 1.30006, 'exit_price': 1.30006, 'exit_time': 1445, 'profit': -0.013847432070657984}, {'type': 'short', 'entry_price': 1.29914, 'stop_loss_price': 0, 'take_profit_price': 0, 'position_size': 76.97399818341364, 'entry_time': 1446, 'entry_bid': 1.29914, 'entry_ask': 1.29932, 'exit_price': 1.29932, 'exit_time': 1446, 'profit': -0.013855319673019766}, {'type': 'short', 'entry_price': 1.30541, 'stop_loss_price': 0, 'take_profit_price': 0, 'position_size': 76.60428524371653, 'entry_time': 1447, 'entry_bid': 1.30541, 'entry_ask': 1.3056, 'exit_price': 1.3056, 'exit_time': 1447, 'profit': -0.014554814196316445}, {'type': 'short', 'entry_price': 1.30956, 'stop_loss_price': 0, 'take_profit_price': 0, 'position_size': 76.36152600873575, 'entry_time': 1448, 'entry_bid': 1.30956, 'entry_ask': 1.30971, 'exit_price': 1.30971, 'exit_time': 1448, 'profit': -0.011454228901300623}, {'type': 'short', 'entry_price': 1.30903, 'stop_loss_price': 0, 'take_profit_price': 0, 'position_size': 76.39244325951277, 'entry_time': 1449, 'entry_bid': 1.30903, 'entry_ask': 1.30916, 'exit_price': 1.30916, 'exit_time': 1449, 'profit': -0.009931017623750833}, {'type': 'short', 'entry_price': 1.31008, 'stop_loss_price': 0, 'take_profit_price': 0, 'position_size': 76.33121641426479, 'entry_time': 1450, 'entry_bid': 1.31008, 'entry_ask': 1.31068, 'exit_price': 1.31068, 'exit_time': 1450, 'profit': -0.04579872984857078}, {'type': 'short', 'entry_price': 1.3111, 'stop_loss_price': 0, 'take_profit_price': 0, 'position_size': 76.27183281214248, 'entry_time': 1451, 'entry_bid': 1.3111, 'entry_ask': 1.3113, 'exit_price': 1.3113, 'exit_time': 1451, 'profit': -0.015254366562426815}, {'type': 'short', 'entry_price': 1.3113, 'stop_loss_price': 0, 'take_profit_price': 0, 'position_size': 76.26019980172349, 'entry_time': 1452, 'entry_bid': 1.3113, 'entry_ask': 1.31149, 'exit_price': 1.31149, 'exit_time': 1452, 'profit': -0.01448943796233772}, {'type': 'short', 'entry_price': 1.31317, 'stop_loss_price': 0, 'take_profit_price': 0, 'position_size': 76.15160261047694, 'entry_time': 1453, 'entry_bid': 1.31317, 'entry_ask': 1.31341, 'exit_price': 1.31341, 'exit_time': 1453, 'profit': -0.018276384626515835}, {'type': 'short', 'entry_price': 1.31294, 'stop_loss_price': 0, 'take_profit_price': 0, 'position_size': 76.16494280012796, 'entry_time': 1454, 'entry_bid': 1.31294, 'entry_ask': 1.31309, 'exit_price': 1.31309, 'exit_time': 1454, 'profit': -0.011424741420026393}, {'type': 'short', 'entry_price': 1.31574, 'stop_loss_price': 0, 'take_profit_price': 0, 'position_size': 76.0028577074498, 'entry_time': 1455, 'entry_bid': 1.31574, 'entry_ask': 1.31591, 'exit_price': 1.31591, 'exit_time': 1455, 'profit': -0.012920485810266731}, {'type': 'short', 'entry_price': 1.3156, 'stop_loss_price': 0, 'take_profit_price': 0, 'position_size': 76.01094557616297, 'entry_time': 1456, 'entry_bid': 1.3156, 'entry_ask': 1.3162, 'exit_price': 1.3162, 'exit_time': 1456, 'profit': -0.04560656734569276}, {'type': 'short', 'entry_price': 1.31561, 'stop_loss_price': 0, 'take_profit_price': 0, 'position_size': 76.01036781416985, 'entry_time': 1457, 'entry_bid': 1.31561, 'entry_ask': 1.31579, 'exit_price': 1.31579, 'exit_time': 1457, 'profit': -0.013681866206555818}, {'type': 'short', 'entry_price': 1.31547, 'stop_loss_price': 0, 'take_profit_price': 0, 'position_size': 76.01845728142794, 'entry_time': 1458, 'entry_bid': 1.31547, 'entry_ask': 1.31565, 'exit_price': 1.31565, 'exit_time': 1458, 'profit': -0.013683322310662275}, {'type': 'short', 'entry_price': 1.31234, 'stop_loss_price': 0, 'take_profit_price': 0, 'position_size': 76.19976530472286, 'entry_time': 1459, 'entry_bid': 1.31234, 'entry_ask': 1.3125, 'exit_price': 1.3125, 'exit_time': 1459, 'profit': -0.012191962448750931}, {'type': 'short', 'entry_price': 1.31308, 'stop_loss_price': 0, 'take_profit_price': 0, 'position_size': 76.15682212812624, 'entry_time': 1460, 'entry_bid': 1.31308, 'entry_ask': 1.31324, 'exit_price': 1.31324, 'exit_time': 1460, 'profit': -0.012185091540495473}, {'type': 'short', 'entry_price': 1.31319, 'stop_loss_price': 0, 'take_profit_price': 0, 'position_size': 76.15044281482497, 'entry_time': 1461, 'entry_bid': 1.31319, 'entry_ask': 1.31334, 'exit_price': 1.31334, 'exit_time': 1461, 'profit': -0.011422566422214033}, {'type': 'short', 'entry_price': 1.31338, 'stop_loss_price': 0, 'take_profit_price': 0, 'position_size': 76.13942651783947, 'entry_time': 1462, 'entry_bid': 1.31338, 'entry_ask': 1.31439, 'exit_price': 1.31439, 'exit_time': 1462, 'profit': -0.07690082078301447}, {'type': 'short', 'entry_price': 1.31453, 'stop_loss_price': 0, 'take_profit_price': 0, 'position_size': 76.072816900337, 'entry_time': 1463, 'entry_bid': 1.31453, 'entry_ask': 1.31472, 'exit_price': 1.31472, 'exit_time': 1463, 'profit': -0.014453835211074262}, {'type': 'short', 'entry_price': 1.31453, 'stop_loss_price': 0, 'take_profit_price': 0, 'position_size': 76.072816900337, 'entry_time': 1464, 'entry_bid': 1.31453, 'entry_ask': 1.31469, 'exit_price': 1.31469, 'exit_time': 1464, 'profit': -0.012171650704049202}, {'type': 'short', 'entry_price': 1.3154, 'stop_loss_price': 0, 'take_profit_price': 0, 'position_size': 76.0225026607876, 'entry_time': 1465, 'entry_bid': 1.3154, 'entry_ask': 1.31558, 'exit_price': 1.31558, 'exit_time': 1465, 'profit': -0.013684050478947012}, {'type': 'short', 'entry_price': 1.31528, 'stop_loss_price': 0, 'take_profit_price': 0, 'position_size': 76.02943859862539, 'entry_time': 1466, 'entry_bid': 1.31528, 'entry_ask': 1.31544, 'exit_price': 1.31544, 'exit_time': 1466, 'profit': -0.012164710175775346}, {'type': 'short', 'entry_price': 1.31471, 'stop_loss_price': 0, 'take_profit_price': 0, 'position_size': 76.06240159426794, 'entry_time': 1467, 'entry_bid': 1.31471, 'entry_ask': 1.31486, 'exit_price': 1.31486, 'exit_time': 1467, 'profit': -0.01140936023913049}, {'type': 'short', 'entry_price': 1.31395, 'stop_loss_price': 0, 'take_profit_price': 0, 'position_size': 76.10639674264623, 'entry_time': 1468, 'entry_bid': 1.31395, 'entry_ask': 1.31455, 'exit_price': 1.31455, 'exit_time': 1468, 'profit': -0.045663838045599606}, {'type': 'short', 'entry_price': 1.31514, 'stop_loss_price': 0, 'take_profit_price': 0, 'position_size': 76.03753212585733, 'entry_time': 1469, 'entry_bid': 1.31514, 'entry_ask': 1.31531, 'exit_price': 1.31531, 'exit_time': 1469, 'profit': -0.01292638046139601}, {'type': 'short', 'entry_price': 1.31489, 'stop_loss_price': 0, 'take_profit_price': 0, 'position_size': 76.05198913977596, 'entry_time': 1470, 'entry_bid': 1.31489, 'entry_ask': 1.31509, 'exit_price': 1.31509, 'exit_time': 1470, 'profit': -0.015210397827970403}, {'type': 'short', 'entry_price': 1.31584, 'stop_loss_price': 0, 'take_profit_price': 0, 'position_size': 75.99708171206227, 'entry_time': 1471, 'entry_bid': 1.31584, 'entry_ask': 1.31622, 'exit_price': 1.31622, 'exit_time': 1471, 'profit': -0.028878891050587233}, {'type': 'short', 'entry_price': 1.31698, 'stop_loss_price': 0, 'take_profit_price': 0, 'position_size': 75.93129736214672, 'entry_time': 1472, 'entry_bid': 1.31698, 'entry_ask': 1.31713, 'exit_price': 1.31713, 'exit_time': 1472, 'profit': -0.011389694604312325}, {'type': 'short', 'entry_price': 1.31826, 'stop_loss_price': 0, 'take_profit_price': 0, 'position_size': 75.85756982689303, 'entry_time': 1473, 'entry_bid': 1.31826, 'entry_ask': 1.3184, 'exit_price': 1.3184, 'exit_time': 1473, 'profit': -0.010620059775767222}, {'type': 'short', 'entry_price': 1.31536, 'stop_loss_price': 0, 'take_profit_price': 0, 'position_size': 76.02481449945262, 'entry_time': 1474, 'entry_bid': 1.31536, 'entry_ask': 1.31596, 'exit_price': 1.31596, 'exit_time': 1474, 'profit': -0.045614888699666546}, {'type': 'short', 'entry_price': 1.31328, 'stop_loss_price': 0, 'take_profit_price': 0, 'position_size': 76.14522417153997, 'entry_time': 1475, 'entry_bid': 1.31328, 'entry_ask': 1.31347, 'exit_price': 1.31347, 'exit_time': 1475, 'profit': -0.014467592592585928}, {'type': 'short', 'entry_price': 1.31364, 'stop_loss_price': 0, 'take_profit_price': 0, 'position_size': 76.12435674918548, 'entry_time': 1476, 'entry_bid': 1.31364, 'entry_ask': 1.31385, 'exit_price': 1.31385, 'exit_time': 1476, 'profit': -0.01598611491733226}, {'type': 'short', 'entry_price': 1.31377, 'stop_loss_price': 0, 'take_profit_price': 0, 'position_size': 76.11682410163118, 'entry_time': 1477, 'entry_bid': 1.31377, 'entry_ask': 1.31396, 'exit_price': 1.31396, 'exit_time': 1477, 'profit': -0.014462196579303262}, {'type': 'short', 'entry_price': 1.31694, 'stop_loss_price': 0, 'take_profit_price': 0, 'position_size': 75.93360365696235, 'entry_time': 1478, 'entry_bid': 1.31694, 'entry_ask': 1.31713, 'exit_price': 1.31713, 'exit_time': 1478, 'profit': -0.014427384694816199}, {'type': 'short', 'entry_price': 1.31711, 'stop_loss_price': 0, 'take_profit_price': 0, 'position_size': 75.92380287143823, 'entry_time': 1479, 'entry_bid': 1.31711, 'entry_ask': 1.31728, 'exit_price': 1.31728, 'exit_time': 1479, 'profit': -0.012907046488144763}, {'type': 'short', 'entry_price': 1.31924, 'stop_loss_price': 0, 'take_profit_price': 0, 'position_size': 75.80121888359965, 'entry_time': 1480, 'entry_bid': 1.31924, 'entry_ask': 1.31984, 'exit_price': 1.31984, 'exit_time': 1480, 'profit': -0.045480731330154775}, {'type': 'short', 'entry_price': 1.32251, 'stop_loss_price': 0, 'take_profit_price': 0, 'position_size': 75.61379498075628, 'entry_time': 1481, 'entry_bid': 1.32251, 'entry_ask': 1.32279, 'exit_price': 1.32279, 'exit_time': 1481, 'profit': -0.021171862594599352}, {'type': 'short', 'entry_price': 1.32091, 'stop_loss_price': 0, 'take_profit_price': 0, 'position_size': 75.70538492402964, 'entry_time': 1482, 'entry_bid': 1.32091, 'entry_ask': 1.32108, 'exit_price': 1.32108, 'exit_time': 1482, 'profit': -0.012869915437085303}, {'type': 'short', 'entry_price': 1.3183, 'stop_loss_price': 0, 'take_profit_price': 0, 'position_size': 75.8552681483729, 'entry_time': 1483, 'entry_bid': 1.3183, 'entry_ask': 1.31848, 'exit_price': 1.31848, 'exit_time': 1483, 'profit': -0.013653948266712356}, {'type': 'short', 'entry_price': 1.31541, 'stop_loss_price': 0, 'take_profit_price': 0, 'position_size': 76.02192472309014, 'entry_time': 1484, 'entry_bid': 1.31541, 'entry_ask': 1.31558, 'exit_price': 1.31558, 'exit_time': 1484, 'profit': -0.012923727202925587}, {'type': 'short', 'entry_price': 1.31087, 'stop_loss_price': 0, 'take_profit_price': 0, 'position_size': 76.28521516244936, 'entry_time': 1485, 'entry_bid': 1.31087, 'entry_ask': 1.31103, 'exit_price': 1.31103, 'exit_time': 1485, 'profit': -0.012205634425987166}, {'type': 'short', 'entry_price': 1.3171, 'stop_loss_price': 0, 'take_profit_price': 0, 'position_size': 75.92437931819907, 'entry_time': 1486, 'entry_bid': 1.3171, 'entry_ask': 1.31819, 'exit_price': 1.31819, 'exit_time': 1486, 'profit': -0.08275757345683968}, {'type': 'short', 'entry_price': 1.34911, 'stop_loss_price': 0, 'take_profit_price': 0, 'position_size': 74.12294030879617, 'entry_time': 1487, 'entry_bid': 1.34911, 'entry_ask': 1.34933, 'exit_price': 1.34933, 'exit_time': 1487, 'profit': -0.016307046867926778}, {'type': 'short', 'entry_price': 1.34731, 'stop_loss_price': 0, 'take_profit_price': 0, 'position_size': 74.22196821815321, 'entry_time': 1488, 'entry_bid': 1.34731, 'entry_ask': 1.34762, 'exit_price': 1.34762, 'exit_time': 1488, 'profit': -0.023008810147629906}, {'type': 'short', 'entry_price': 1.34149, 'stop_loss_price': 0, 'take_profit_price': 0, 'position_size': 74.54397721936056, 'entry_time': 1489, 'entry_bid': 1.34149, 'entry_ask': 1.34164, 'exit_price': 1.34164, 'exit_time': 1489, 'profit': -0.011181596582894577}, {'type': 'short', 'entry_price': 1.33315, 'stop_loss_price': 0, 'take_profit_price': 0, 'position_size': 75.01031391816375, 'entry_time': 1490, 'entry_bid': 1.33315, 'entry_ask': 1.33338, 'exit_price': 1.33338, 'exit_time': 1490, 'profit': -0.017252372201174097}, {'type': 'short', 'entry_price': 1.33208, 'stop_loss_price': 0, 'take_profit_price': 0, 'position_size': 75.07056633235241, 'entry_time': 1491, 'entry_bid': 1.33208, 'entry_ask': 1.33226, 'exit_price': 1.33226, 'exit_time': 1491, 'profit': -0.013512701939828614}, {'type': 'short', 'entry_price': 1.33285, 'stop_loss_price': 0, 'take_profit_price': 0, 'position_size': 75.02719735904265, 'entry_time': 1492, 'entry_bid': 1.33285, 'entry_ask': 1.33394, 'exit_price': 1.33394, 'exit_time': 1492, 'profit': -0.08177964512134248}, {'type': 'short', 'entry_price': 1.33617, 'stop_loss_price': 0, 'take_profit_price': 0, 'position_size': 74.84077624853124, 'entry_time': 1493, 'entry_bid': 1.33617, 'entry_ask': 1.33638, 'exit_price': 1.33638, 'exit_time': 1493, 'profit': -0.0157165630121782}, {'type': 'short', 'entry_price': 1.33877, 'stop_loss_price': 0, 'take_profit_price': 0, 'position_size': 74.69542938667583, 'entry_time': 1494, 'entry_bid': 1.33877, 'entry_ask': 1.33894, 'exit_price': 1.33894, 'exit_time': 1494, 'profit': -0.012698222995735151}, {'type': 'short', 'entry_price': 1.33331, 'stop_loss_price': 0, 'take_profit_price': 0, 'position_size': 75.00131252296916, 'entry_time': 1495, 'entry_bid': 1.33331, 'entry_ask': 1.33347, 'exit_price': 1.33347, 'exit_time': 1495, 'profit': -0.012000210003670414}, {'type': 'short', 'entry_price': 1.33426, 'stop_loss_price': 0, 'take_profit_price': 0, 'position_size': 74.9479112017148, 'entry_time': 1496, 'entry_bid': 1.33426, 'entry_ask': 1.33442, 'exit_price': 1.33442, 'exit_time': 1496, 'profit': -0.011991665792269719}, {'type': 'short', 'entry_price': 1.33258, 'stop_loss_price': 0, 'take_profit_price': 0, 'position_size': 75.0423989554098, 'entry_time': 1497, 'entry_bid': 1.33258, 'entry_ask': 1.33273, 'exit_price': 1.33273, 'exit_time': 1497, 'profit': -0.011256359843301898}, {'type': 'short', 'entry_price': 1.33314, 'stop_loss_price': 0, 'take_profit_price': 0, 'position_size': 75.01087657710369, 'entry_time': 1498, 'entry_bid': 1.33314, 'entry_ask': 1.33374, 'exit_price': 1.33374, 'exit_time': 1498, 'profit': -0.04500652594625726}, {'type': 'short', 'entry_price': 1.32781, 'stop_loss_price': 0, 'take_profit_price': 0, 'position_size': 75.31197987663899, 'entry_time': 1499, 'entry_bid': 1.32781, 'entry_ask': 1.32801, 'exit_price': 1.32801, 'exit_time': 1499, 'profit': -0.015062395975326139}, {'type': 'short', 'entry_price': 1.32851, 'stop_loss_price': 0, 'take_profit_price': 0, 'position_size': 75.2722975363377, 'entry_time': 1500, 'entry_bid': 1.32851, 'entry_ask': 1.32872, 'exit_price': 1.32872, 'exit_time': 1500, 'profit': -0.015807182482617477}, {'type': 'short', 'entry_price': 1.3193, 'stop_loss_price': 0, 'take_profit_price': 0, 'position_size': 75.79777154551657, 'entry_time': 1501, 'entry_bid': 1.3193, 'entry_ask': 1.31949, 'exit_price': 1.31949, 'exit_time': 1501, 'profit': -0.014401576593658344}, {'type': 'short', 'entry_price': 1.31446, 'stop_loss_price': 0, 'take_profit_price': 0, 'position_size': 76.0768680674954, 'entry_time': 1502, 'entry_bid': 1.31446, 'entry_ask': 1.31462, 'exit_price': 1.31462, 'exit_time': 1502, 'profit': -0.012172298890794544}, {'type': 'short', 'entry_price': 1.31297, 'stop_loss_price': 0, 'take_profit_price': 0, 'position_size': 76.16320251033916, 'entry_time': 1503, 'entry_bid': 1.31297, 'entry_ask': 1.31311, 'exit_price': 1.31311, 'exit_time': 1503, 'profit': -0.010662848351449691}, {'type': 'short', 'entry_price': 1.31275, 'stop_loss_price': 0, 'take_profit_price': 0, 'position_size': 76.17596648257474, 'entry_time': 1504, 'entry_bid': 1.31275, 'entry_ask': 1.31335, 'exit_price': 1.31335, 'exit_time': 1504, 'profit': -0.045705579889539806}, {'type': 'short', 'entry_price': 1.30953, 'stop_loss_price': 0, 'take_profit_price': 0, 'position_size': 76.36327537360732, 'entry_time': 1505, 'entry_bid': 1.30953, 'entry_ask': 1.30977, 'exit_price': 1.30977, 'exit_time': 1505, 'profit': -0.01832718608966713}, {'type': 'short', 'entry_price': 1.31103, 'stop_loss_price': 0, 'take_profit_price': 0, 'position_size': 76.27590520430502, 'entry_time': 1506, 'entry_bid': 1.31103, 'entry_ask': 1.31122, 'exit_price': 1.31122, 'exit_time': 1506, 'profit': -0.014492421988828214}, {'type': 'short', 'entry_price': 1.31103, 'stop_loss_price': 0, 'take_profit_price': 0, 'position_size': 76.27590520430502, 'entry_time': 1507, 'entry_bid': 1.31103, 'entry_ask': 1.31122, 'exit_price': 1.31122, 'exit_time': 1507, 'profit': -0.014492421988828214}, {'type': 'short', 'entry_price': 1.3079, 'stop_loss_price': 0, 'take_profit_price': 0, 'position_size': 76.45844483523204, 'entry_time': 1508, 'entry_bid': 1.3079, 'entry_ask': 1.30806, 'exit_price': 1.30806, 'exit_time': 1508, 'profit': -0.012233351173632384}, {'type': 'short', 'entry_price': 1.30822, 'stop_loss_price': 0, 'take_profit_price': 0, 'position_size': 76.43974255094709, 'entry_time': 1509, 'entry_bid': 1.30822, 'entry_ask': 1.30839, 'exit_price': 1.30839, 'exit_time': 1509, 'profit': -0.01299475623366127}, {'type': 'short', 'entry_price': 1.30753, 'stop_loss_price': 0, 'take_profit_price': 0, 'position_size': 76.48008076296529, 'entry_time': 1510, 'entry_bid': 1.30753, 'entry_ask': 1.30813, 'exit_price': 1.30813, 'exit_time': 1510, 'profit': -0.04588804845777412}, {'type': 'short', 'entry_price': 1.30845, 'stop_loss_price': 0, 'take_profit_price': 0, 'position_size': 76.42630593450266, 'entry_time': 1511, 'entry_bid': 1.30845, 'entry_ask': 1.30864, 'exit_price': 1.30864, 'exit_time': 1511, 'profit': -0.014520998127565786}, {'type': 'short', 'entry_price': 1.30833, 'stop_loss_price': 0, 'take_profit_price': 0, 'position_size': 76.43331575367071, 'entry_time': 1512, 'entry_bid': 1.30833, 'entry_ask': 1.3085, 'exit_price': 1.3085, 'exit_time': 1512, 'profit': -0.012993663678124287}, {'type': 'short', 'entry_price': 1.31055, 'stop_loss_price': 0, 'take_profit_price': 0, 'position_size': 76.30384189843959, 'entry_time': 1513, 'entry_bid': 1.31055, 'entry_ask': 1.3107, 'exit_price': 1.3107, 'exit_time': 1513, 'profit': -0.011445576284756205}, {'type': 'short', 'entry_price': 1.30583, 'stop_loss_price': 0, 'take_profit_price': 0, 'position_size': 76.5796466615103, 'entry_time': 1514, 'entry_bid': 1.30583, 'entry_ask': 1.30602, 'exit_price': 1.30602, 'exit_time': 1514, 'profit': -0.014550132865680252}, {'type': 'short', 'entry_price': 1.30382, 'stop_loss_price': 0, 'take_profit_price': 0, 'position_size': 76.6977036707521, 'entry_time': 1515, 'entry_bid': 1.30382, 'entry_ask': 1.30399, 'exit_price': 1.30399, 'exit_time': 1515, 'profit': -0.013038609624028126}, {'type': 'short', 'entry_price': 1.30034, 'stop_loss_price': 0, 'take_profit_price': 0, 'position_size': 76.9029638402264, 'entry_time': 1516, 'entry_bid': 1.30034, 'entry_ask': 1.30094, 'exit_price': 1.30094, 'exit_time': 1516, 'profit': -0.046141778304130764}, {'type': 'short', 'entry_price': 1.30189, 'stop_loss_price': 0, 'take_profit_price': 0, 'position_size': 76.81140495740807, 'entry_time': 1517, 'entry_bid': 1.30189, 'entry_ask': 1.30209, 'exit_price': 1.30209, 'exit_time': 1517, 'profit': -0.015362280991479923}, {'type': 'short', 'entry_price': 1.30191, 'stop_loss_price': 0, 'take_profit_price': 0, 'position_size': 76.81022497714896, 'entry_time': 1518, 'entry_bid': 1.30191, 'entry_ask': 1.3021, 'exit_price': 1.3021, 'exit_time': 1518, 'profit': -0.014593942745668635}, {'type': 'short', 'entry_price': 1.30395, 'stop_loss_price': 0, 'take_profit_price': 0, 'position_size': 76.69005713409257, 'entry_time': 1519, 'entry_bid': 1.30395, 'entry_ask': 1.30414, 'exit_price': 1.30414, 'exit_time': 1519, 'profit': -0.014571110855487903}, {'type': 'short', 'entry_price': 1.3055, 'stop_loss_price': 0, 'take_profit_price': 0, 'position_size': 76.59900421294523, 'entry_time': 1520, 'entry_bid': 1.3055, 'entry_ask': 1.30564, 'exit_price': 1.30564, 'exit_time': 1520, 'profit': -0.010723860589797544}, {'type': 'short', 'entry_price': 1.30207, 'stop_loss_price': 0, 'take_profit_price': 0, 'position_size': 76.80078644005314, 'entry_time': 1521, 'entry_bid': 1.30207, 'entry_ask': 1.30222, 'exit_price': 1.30222, 'exit_time': 1521, 'profit': -0.011520117965998177}, {'type': 'short', 'entry_price': 1.2995, 'stop_loss_price': 0, 'take_profit_price': 0, 'position_size': 76.95267410542516, 'entry_time': 1522, 'entry_bid': 1.2995, 'entry_ask': 1.30059, 'exit_price': 1.30059, 'exit_time': 1522, 'profit': -0.08387841477489906}, {'type': 'short', 'entry_price': 1.30131, 'stop_loss_price': 0, 'take_profit_price': 0, 'position_size': 76.84564016260538, 'entry_time': 1523, 'entry_bid': 1.30131, 'entry_ask': 1.30151, 'exit_price': 1.30151, 'exit_time': 1523, 'profit': -0.015369128032519382}, {'type': 'short', 'entry_price': 1.30128, 'stop_loss_price': 0, 'take_profit_price': 0, 'position_size': 76.84741177917128, 'entry_time': 1524, 'entry_bid': 1.30128, 'entry_ask': 1.30146, 'exit_price': 1.30146, 'exit_time': 1524, 'profit': -0.013832534120256132}, {'type': 'short', 'entry_price': 1.30092, 'stop_loss_price': 0, 'take_profit_price': 0, 'position_size': 76.8686775512714, 'entry_time': 1525, 'entry_bid': 1.30092, 'entry_ask': 1.30107, 'exit_price': 1.30107, 'exit_time': 1525, 'profit': -0.011530301632680906}, {'type': 'short', 'entry_price': 1.29233, 'stop_loss_price': 0, 'take_profit_price': 0, 'position_size': 77.37961666137906, 'entry_time': 1526, 'entry_bid': 1.29233, 'entry_ask': 1.2925, 'exit_price': 1.2925, 'exit_time': 1526, 'profit': -0.01315453483243471}, {'type': 'short', 'entry_price': 1.29334, 'stop_loss_price': 0, 'take_profit_price': 0, 'position_size': 77.31918907634497, 'entry_time': 1527, 'entry_bid': 1.29334, 'entry_ask': 1.29353, 'exit_price': 1.29353, 'exit_time': 1527, 'profit': -0.014690645924515943}, {'type': 'short', 'entry_price': 1.29327, 'stop_loss_price': 0, 'take_profit_price': 0, 'position_size': 77.32337408275149, 'entry_time': 1528, 'entry_bid': 1.29327, 'entry_ask': 1.29387, 'exit_price': 1.29387, 'exit_time': 1528, 'profit': -0.04639402444966295}, {'type': 'short', 'entry_price': 1.29382, 'stop_loss_price': 0, 'take_profit_price': 0, 'position_size': 77.29050408866767, 'entry_time': 1529, 'entry_bid': 1.29382, 'entry_ask': 1.29399, 'exit_price': 1.29399, 'exit_time': 1529, 'profit': -0.013139385695073775}, {'type': 'short', 'entry_price': 1.29404, 'stop_loss_price': 0, 'take_profit_price': 0, 'position_size': 77.27736391456214, 'entry_time': 1530, 'entry_bid': 1.29404, 'entry_ask': 1.29426, 'exit_price': 1.29426, 'exit_time': 1530, 'profit': -0.017001020061194937}, {'type': 'short', 'entry_price': 1.29288, 'stop_loss_price': 0, 'take_profit_price': 0, 'position_size': 77.34669884289339, 'entry_time': 1531, 'entry_bid': 1.29288, 'entry_ask': 1.29305, 'exit_price': 1.29305, 'exit_time': 1531, 'profit': -0.013148938803292145}, {'type': 'short', 'entry_price': 1.29456, 'stop_loss_price': 0, 'take_profit_price': 0, 'position_size': 77.24632307502164, 'entry_time': 1532, 'entry_bid': 1.29456, 'entry_ask': 1.29475, 'exit_price': 1.29475, 'exit_time': 1532, 'profit': -0.0146768013842645}, {'type': 'short', 'entry_price': 1.29661, 'stop_loss_price': 0, 'take_profit_price': 0, 'position_size': 77.12419308812981, 'entry_time': 1533, 'entry_bid': 1.29661, 'entry_ask': 1.29681, 'exit_price': 1.29681, 'exit_time': 1533, 'profit': -0.015424838617624264}, {'type': 'short', 'entry_price': 1.29404, 'stop_loss_price': 0, 'take_profit_price': 0, 'position_size': 77.27736391456214, 'entry_time': 1534, 'entry_bid': 1.29404, 'entry_ask': 1.29464, 'exit_price': 1.29464, 'exit_time': 1534, 'profit': -0.04636641834873218}, {'type': 'short', 'entry_price': 1.29919, 'stop_loss_price': 0, 'take_profit_price': 0, 'position_size': 76.97103579922874, 'entry_time': 1535, 'entry_bid': 1.29919, 'entry_ask': 1.29944, 'exit_price': 1.29944, 'exit_time': 1535, 'profit': -0.01924275894979652}, {'type': 'short', 'entry_price': 1.29872, 'stop_loss_price': 0, 'take_profit_price': 0, 'position_size': 76.99889121596648, 'entry_time': 1536, 'entry_bid': 1.29872, 'entry_ask': 1.299, 'exit_price': 1.299, 'exit_time': 1536, 'profit': -0.02155968954045798}, {'type': 'short', 'entry_price': 1.29811, 'stop_loss_price': 0, 'take_profit_price': 0, 'position_size': 77.03507406922371, 'entry_time': 1537, 'entry_bid': 1.29811, 'entry_ask': 1.29836, 'exit_price': 1.29836, 'exit_time': 1537, 'profit': -0.019258768517295254}, {'type': 'short', 'entry_price': 1.29845, 'stop_loss_price': 0, 'take_profit_price': 0, 'position_size': 77.01490238361123, 'entry_time': 1538, 'entry_bid': 1.29845, 'entry_ask': 1.29865, 'exit_price': 1.29865, 'exit_time': 1538, 'profit': -0.015402980476720549}, {'type': 'short', 'entry_price': 1.3008, 'stop_loss_price': 0, 'take_profit_price': 0, 'position_size': 76.87576875768758, 'entry_time': 1539, 'entry_bid': 1.3008, 'entry_ask': 1.301, 'exit_price': 1.301, 'exit_time': 1539, 'profit': -0.015375153751535822}, {'type': 'short', 'entry_price': 1.29915, 'stop_loss_price': 0, 'take_profit_price': 0, 'position_size': 76.97340568833468, 'entry_time': 1540, 'entry_bid': 1.29915, 'entry_ask': 1.29975, 'exit_price': 1.29975, 'exit_time': 1540, 'profit': -0.04618404341299572}, {'type': 'short', 'entry_price': 1.29769, 'stop_loss_price': 0, 'take_profit_price': 0, 'position_size': 77.06000662716058, 'entry_time': 1541, 'entry_bid': 1.29769, 'entry_ask': 1.29793, 'exit_price': 1.29793, 'exit_time': 1541, 'profit': -0.018494401590519922}, {'type': 'short', 'entry_price': 1.2994, 'stop_loss_price': 0, 'take_profit_price': 0, 'position_size': 76.95859627520393, 'entry_time': 1542, 'entry_bid': 1.2994, 'entry_ask': 1.29961, 'exit_price': 1.29961, 'exit_time': 1542, 'profit': -0.016161305217779084}, {'type': 'short', 'entry_price': 1.30697, 'stop_loss_price': 1.3113876, 'take_profit_price': 1.29039, 'position_size': 22636.72582397671, 'entry_time': 1543, 'entry_bid': 1.30697, 'entry_ask': 1.30714, 'exit_price': 1.31199, 'exit_time': 1548, 'profit': -113.63636363636364}, {'type': 'short', 'entry_price': 1.31177, 'stop_loss_price': 0, 'take_profit_price': 0, 'position_size': 76.23287619018578, 'entry_time': 1549, 'entry_bid': 1.31177, 'entry_ask': 1.31199, 'exit_price': 1.31199, 'exit_time': 1549, 'profit': -0.016771232761832254}, {'type': 'short', 'entry_price': 1.31248, 'stop_loss_price': 0, 'take_profit_price': 0, 'position_size': 76.19163720590028, 'entry_time': 1550, 'entry_bid': 1.31248, 'entry_ask': 1.31264, 'exit_price': 1.31264, 'exit_time': 1550, 'profit': -0.012190661952939318}, {'type': 'short', 'entry_price': 1.31177, 'stop_loss_price': 0, 'take_profit_price': 0, 'position_size': 76.23287619018578, 'entry_time': 1551, 'entry_bid': 1.31177, 'entry_ask': 1.31198, 'exit_price': 1.31198, 'exit_time': 1551, 'profit': -0.0160089039999254}, {'type': 'short', 'entry_price': 1.31069, 'stop_loss_price': 0, 'take_profit_price': 0, 'position_size': 76.29569158229636, 'entry_time': 1552, 'entry_bid': 1.31069, 'entry_ask': 1.31129, 'exit_price': 1.31129, 'exit_time': 1552, 'profit': -0.045777414949389715}, {'type': 'short', 'entry_price': 1.31234, 'stop_loss_price': 0, 'take_profit_price': 0, 'position_size': 76.19976530472286, 'entry_time': 1553, 'entry_bid': 1.31234, 'entry_ask': 1.31257, 'exit_price': 1.31257, 'exit_time': 1553, 'profit': -0.017525946020082634}, {'type': 'short', 'entry_price': 1.31151, 'stop_loss_price': 0, 'take_profit_price': 0, 'position_size': 76.2479889592912, 'entry_time': 1554, 'entry_bid': 1.31151, 'entry_ask': 1.31177, 'exit_price': 1.31177, 'exit_time': 1554, 'profit': -0.019824477129427073}, {'type': 'short', 'entry_price': 1.31576, 'stop_loss_price': 0, 'take_profit_price': 0, 'position_size': 76.00170243813461, 'entry_time': 1555, 'entry_bid': 1.31576, 'entry_ask': 1.31597, 'exit_price': 1.31597, 'exit_time': 1555, 'profit': -0.015960357512011573}, {'type': 'short', 'entry_price': 1.32143, 'stop_loss_price': 0, 'take_profit_price': 0, 'position_size': 75.67559386422285, 'entry_time': 1556, 'entry_bid': 1.32143, 'entry_ask': 1.32164, 'exit_price': 1.32164, 'exit_time': 1556, 'profit': -0.015891874711473287}, {'type': 'short', 'entry_price': 1.3262, 'stop_loss_price': 0, 'take_profit_price': 0, 'position_size': 75.40340823405218, 'entry_time': 1557, 'entry_bid': 1.3262, 'entry_ask': 1.32642, 'exit_price': 1.32642, 'exit_time': 1557, 'profit': -0.016588749811482954}, {'type': 'short', 'entry_price': 1.32576, 'stop_loss_price': 0, 'take_profit_price': 0, 'position_size': 75.42843350229302, 'entry_time': 1558, 'entry_bid': 1.32576, 'entry_ask': 1.32636, 'exit_price': 1.32636, 'exit_time': 1558, 'profit': -0.04525706010137082}, {'type': 'short', 'entry_price': 1.3255, 'stop_loss_price': 0, 'take_profit_price': 0, 'position_size': 75.44322897019993, 'entry_time': 1559, 'entry_bid': 1.3255, 'entry_ask': 1.32571, 'exit_price': 1.32571, 'exit_time': 1559, 'profit': -0.015843078083745264}, {'type': 'short', 'entry_price': 1.32127, 'stop_loss_price': 0, 'take_profit_price': 0, 'position_size': 75.68475784661727, 'entry_time': 1560, 'entry_bid': 1.32127, 'entry_ask': 1.32153, 'exit_price': 1.32153, 'exit_time': 1560, 'profit': -0.01967803704013177}, {'type': 'short', 'entry_price': 1.32134, 'stop_loss_price': 0, 'take_profit_price': 0, 'position_size': 75.6807483312395, 'entry_time': 1561, 'entry_bid': 1.32134, 'entry_ask': 1.32153, 'exit_price': 1.32153, 'exit_time': 1561, 'profit': -0.014379342182945684}, {'type': 'short', 'entry_price': 1.31758, 'stop_loss_price': 0, 'take_profit_price': 0, 'position_size': 75.89671974377268, 'entry_time': 1562, 'entry_bid': 1.31758, 'entry_ask': 1.31776, 'exit_price': 1.31776, 'exit_time': 1562, 'profit': -0.013661409553884318}, {'type': 'short', 'entry_price': 1.31339, 'stop_loss_price': 0, 'take_profit_price': 0, 'position_size': 76.13884680102635, 'entry_time': 1563, 'entry_bid': 1.31339, 'entry_ask': 1.31353, 'exit_price': 1.31353, 'exit_time': 1563, 'profit': -0.010659438552145895}, {'type': 'short', 'entry_price': 1.31336, 'stop_loss_price': 0, 'take_profit_price': 0, 'position_size': 76.14058597794968, 'entry_time': 1564, 'entry_bid': 1.31336, 'entry_ask': 1.31396, 'exit_price': 1.31396, 'exit_time': 1564, 'profit': -0.04568435158676478}, {'type': 'short', 'entry_price': 1.31366, 'stop_loss_price': 0, 'take_profit_price': 0, 'position_size': 76.12319778329248, 'entry_time': 1565, 'entry_bid': 1.31366, 'entry_ask': 1.3139, 'exit_price': 1.3139, 'exit_time': 1565, 'profit': -0.018269567467991563}, {'type': 'short', 'entry_price': 1.31205, 'stop_loss_price': 0, 'take_profit_price': 0, 'position_size': 76.21660759879578, 'entry_time': 1566, 'entry_bid': 1.31205, 'entry_ask': 1.31225, 'exit_price': 1.31225, 'exit_time': 1566, 'profit': -0.015243321519757476}, {'type': 'short', 'entry_price': 1.30674, 'stop_loss_price': 0, 'take_profit_price': 0, 'position_size': 76.52631740055405, 'entry_time': 1567, 'entry_bid': 1.30674, 'entry_ask': 1.3069, 'exit_price': 1.3069, 'exit_time': 1567, 'profit': -0.0122442107840839}, {'type': 'short', 'entry_price': 1.30717, 'stop_loss_price': 0, 'take_profit_price': 0, 'position_size': 76.5011436920982, 'entry_time': 1568, 'entry_bid': 1.30717, 'entry_ask': 1.30736, 'exit_price': 1.30736, 'exit_time': 1568, 'profit': -0.014535217301508948}, {'type': 'short', 'entry_price': 1.30878, 'stop_loss_price': 0, 'take_profit_price': 0, 'position_size': 76.40703555983434, 'entry_time': 1569, 'entry_bid': 1.30878, 'entry_ask': 1.30893, 'exit_price': 1.30893, 'exit_time': 1569, 'profit': -0.011461055333965405}, {'type': 'short', 'entry_price': 1.30735, 'stop_loss_price': 0, 'take_profit_price': 0, 'position_size': 76.49061077752705, 'entry_time': 1570, 'entry_bid': 1.30735, 'entry_ask': 1.30844, 'exit_price': 1.30844, 'exit_time': 1570, 'profit': -0.0833747657475072}, {'type': 'short', 'entry_price': 1.30783, 'stop_loss_price': 0, 'take_profit_price': 0, 'position_size': 76.46253717990871, 'entry_time': 1571, 'entry_bid': 1.30783, 'entry_ask': 1.30805, 'exit_price': 1.30805, 'exit_time': 1571, 'profit': -0.01682175817957127}, {'type': 'short', 'entry_price': 1.30805, 'stop_loss_price': 0, 'take_profit_price': 0, 'position_size': 76.44967700011468, 'entry_time': 1572, 'entry_bid': 1.30805, 'entry_ask': 1.30822, 'exit_price': 1.30822, 'exit_time': 1572, 'profit': -0.012996445090019761}, {'type': 'short', 'entry_price': 1.31425, 'stop_loss_price': 0, 'take_profit_price': 0, 'position_size': 76.08902415826518, 'entry_time': 1573, 'entry_bid': 1.31425, 'entry_ask': 1.31445, 'exit_price': 1.31445, 'exit_time': 1573, 'profit': -0.015217804831651359}, {'type': 'short', 'entry_price': 1.314, 'stop_loss_price': 0, 'take_profit_price': 0, 'position_size': 76.10350076103501, 'entry_time': 1574, 'entry_bid': 1.314, 'entry_ask': 1.31416, 'exit_price': 1.31416, 'exit_time': 1574, 'profit': -0.01217656012176088}, {'type': 'short', 'entry_price': 1.31588, 'stop_loss_price': 0, 'take_profit_price': 0, 'position_size': 75.9947715597167, 'entry_time': 1575, 'entry_bid': 1.31588, 'entry_ask': 1.31602, 'exit_price': 1.31602, 'exit_time': 1575, 'profit': -0.010639268018362541}, {'type': 'short', 'entry_price': 1.3166, 'stop_loss_price': 0, 'take_profit_price': 0, 'position_size': 75.95321282090232, 'entry_time': 1576, 'entry_bid': 1.3166, 'entry_ask': 1.3172, 'exit_price': 1.3172, 'exit_time': 1576, 'profit': -0.045571927692536374}, {'type': 'short', 'entry_price': 1.31712, 'stop_loss_price': 0, 'take_profit_price': 0, 'position_size': 75.92322643343051, 'entry_time': 1577, 'entry_bid': 1.31712, 'entry_ask': 1.31732, 'exit_price': 1.31732, 'exit_time': 1577, 'profit': -0.01518464528668443}, {'type': 'short', 'entry_price': 1.31535, 'stop_loss_price': 0, 'take_profit_price': 0, 'position_size': 76.02539248108869, 'entry_time': 1578, 'entry_bid': 1.31535, 'entry_ask': 1.31557, 'exit_price': 1.31557, 'exit_time': 1578, 'profit': -0.016725586345830917}, {'type': 'short', 'entry_price': 1.31722, 'stop_loss_price': 0, 'take_profit_price': 0, 'position_size': 75.91746253473224, 'entry_time': 1579, 'entry_bid': 1.31722, 'entry_ask': 1.31744, 'exit_price': 1.31744, 'exit_time': 1579, 'profit': -0.01670184175763251}, {'type': 'short', 'entry_price': 1.31175, 'stop_loss_price': 0, 'take_profit_price': 0, 'position_size': 76.23403849818945, 'entry_time': 1580, 'entry_bid': 1.31175, 'entry_ask': 1.31192, 'exit_price': 1.31192, 'exit_time': 1580, 'profit': -0.01295978654469247}, {'type': 'short', 'entry_price': 1.31269, 'stop_loss_price': 0, 'take_profit_price': 0, 'position_size': 76.17944830843535, 'entry_time': 1581, 'entry_bid': 1.31269, 'entry_ask': 1.31285, 'exit_price': 1.31285, 'exit_time': 1581, 'profit': -0.012188711729361847}, {'type': 'short', 'entry_price': 1.31185, 'stop_loss_price': 0, 'take_profit_price': 0, 'position_size': 76.22822731257385, 'entry_time': 1582, 'entry_bid': 1.31185, 'entry_ask': 1.31245, 'exit_price': 1.31245, 'exit_time': 1582, 'profit': -0.04573693638753927}, {'type': 'short', 'entry_price': 1.31162, 'stop_loss_price': 0, 'take_profit_price': 0, 'position_size': 76.24159436422134, 'entry_time': 1583, 'entry_bid': 1.31162, 'entry_ask': 1.31186, 'exit_price': 1.31186, 'exit_time': 1583, 'profit': -0.018297982647414494}, {'type': 'short', 'entry_price': 1.31168, 'stop_loss_price': 0, 'take_profit_price': 0, 'position_size': 76.23810685533057, 'entry_time': 1584, 'entry_bid': 1.31168, 'entry_ask': 1.31188, 'exit_price': 1.31188, 'exit_time': 1584, 'profit': -0.015247621371064436}, {'type': 'short', 'entry_price': 1.31193, 'stop_loss_price': 0, 'take_profit_price': 0, 'position_size': 76.22357900192846, 'entry_time': 1585, 'entry_bid': 1.31193, 'entry_ask': 1.31213, 'exit_price': 1.31213, 'exit_time': 1585, 'profit': -0.015244715800384012}, {'type': 'short', 'entry_price': 1.3121, 'stop_loss_price': 0, 'take_profit_price': 0, 'position_size': 76.21370322383964, 'entry_time': 1586, 'entry_bid': 1.3121, 'entry_ask': 1.3123, 'exit_price': 1.3123, 'exit_time': 1586, 'profit': -0.01524274064476625}, {'type': 'short', 'entry_price': 1.31043, 'stop_loss_price': 0, 'take_profit_price': 0, 'position_size': 76.31082926978168, 'entry_time': 1587, 'entry_bid': 1.31043, 'entry_ask': 1.31061, 'exit_price': 1.31061, 'exit_time': 1587, 'profit': -0.013735949268565967}, {'type': 'short', 'entry_price': 1.30916, 'stop_loss_price': 0, 'take_profit_price': 0, 'position_size': 76.38485746585596, 'entry_time': 1588, 'entry_bid': 1.30916, 'entry_ask': 1.30976, 'exit_price': 1.30976, 'exit_time': 1588, 'profit': -0.04583091447950853}, {'type': 'short', 'entry_price': 1.31112, 'stop_loss_price': 0, 'take_profit_price': 0, 'position_size': 76.27066935139422, 'entry_time': 1589, 'entry_bid': 1.31112, 'entry_ask': 1.31132, 'exit_price': 1.31132, 'exit_time': 1589, 'profit': -0.015254133870277164}, {'type': 'short', 'entry_price': 1.31159, 'stop_loss_price': 0, 'take_profit_price': 0, 'position_size': 76.24333823832143, 'entry_time': 1590, 'entry_bid': 1.31159, 'entry_ask': 1.31178, 'exit_price': 1.31178, 'exit_time': 1590, 'profit': -0.014486234265274397}, {'type': 'short', 'entry_price': 1.30266, 'stop_loss_price': 0, 'take_profit_price': 0, 'position_size': 76.76600187309045, 'entry_time': 1591, 'entry_bid': 1.30266, 'entry_ask': 1.30285, 'exit_price': 1.30285, 'exit_time': 1591, 'profit': -0.01458554035589751}, {'type': 'short', 'entry_price': 1.30517, 'stop_loss_price': 0, 'take_profit_price': 0, 'position_size': 76.61837155313101, 'entry_time': 1592, 'entry_bid': 1.30517, 'entry_ask': 1.30534, 'exit_price': 1.30534, 'exit_time': 1592, 'profit': -0.013025123164032539}, {'type': 'short', 'entry_price': 1.30606, 'stop_loss_price': 0, 'take_profit_price': 0, 'position_size': 76.56616081956419, 'entry_time': 1593, 'entry_bid': 1.30606, 'entry_ask': 1.30623, 'exit_price': 1.30623, 'exit_time': 1593, 'profit': -0.013016247339326178}, {'type': 'short', 'entry_price': 1.30642, 'stop_loss_price': 0, 'take_profit_price': 0, 'position_size': 76.54506207804535, 'entry_time': 1594, 'entry_bid': 1.30642, 'entry_ask': 1.30702, 'exit_price': 1.30702, 'exit_time': 1594, 'profit': -0.04592703724683915}, {'type': 'short', 'entry_price': 1.3063, 'stop_loss_price': 0, 'take_profit_price': 0, 'position_size': 76.5520936997627, 'entry_time': 1595, 'entry_bid': 1.3063, 'entry_ask': 1.30647, 'exit_price': 1.30647, 'exit_time': 1595, 'profit': -0.013013855928959924}, {'type': 'short', 'entry_price': 1.30819, 'stop_loss_price': 0, 'take_profit_price': 0, 'position_size': 76.44149550141799, 'entry_time': 1596, 'entry_bid': 1.30819, 'entry_ask': 1.30838, 'exit_price': 1.30838, 'exit_time': 1596, 'profit': -0.0145238841452797}, {'type': 'short', 'entry_price': 1.30674, 'stop_loss_price': 0, 'take_profit_price': 0, 'position_size': 76.52631740055405, 'entry_time': 1597, 'entry_bid': 1.30674, 'entry_ask': 1.30691, 'exit_price': 1.30691, 'exit_time': 1597, 'profit': -0.013009473958094455}, {'type': 'short', 'entry_price': 1.30687, 'stop_loss_price': 0, 'take_profit_price': 0, 'position_size': 76.51870499743663, 'entry_time': 1598, 'entry_bid': 1.30687, 'entry_ask': 1.30705, 'exit_price': 1.30705, 'exit_time': 1598, 'profit': -0.013773366899543872}, {'type': 'short', 'entry_price': 1.3061, 'stop_loss_price': 0, 'take_profit_price': 0, 'position_size': 76.56381594058648, 'entry_time': 1599, 'entry_bid': 1.3061, 'entry_ask': 1.30626, 'exit_price': 1.30626, 'exit_time': 1599, 'profit': -0.012250210550489088}, {'type': 'short', 'entry_price': 1.30572, 'stop_loss_price': 0, 'take_profit_price': 0, 'position_size': 76.58609809147444, 'entry_time': 1600, 'entry_bid': 1.30572, 'entry_ask': 1.30681, 'exit_price': 1.30681, 'exit_time': 1600, 'profit': -0.08347884691970985}, {'type': 'short', 'entry_price': 1.30383, 'stop_loss_price': 0, 'take_profit_price': 0, 'position_size': 76.697115421489, 'entry_time': 1601, 'entry_bid': 1.30383, 'entry_ask': 1.30402, 'exit_price': 1.30402, 'exit_time': 1601, 'profit': -0.014572451930076197}, {'type': 'short', 'entry_price': 1.3032, 'stop_loss_price': 0, 'take_profit_price': 0, 'position_size': 76.7341927562922, 'entry_time': 1602, 'entry_bid': 1.3032, 'entry_ask': 1.3034, 'exit_price': 1.3034, 'exit_time': 1602, 'profit': -0.01534683855125675}, {'type': 'short', 'entry_price': 1.29721, 'stop_loss_price': 0, 'take_profit_price': 0, 'position_size': 77.08852074837536, 'entry_time': 1603, 'entry_bid': 1.29721, 'entry_ask': 1.29734, 'exit_price': 1.29734, 'exit_time': 1603, 'profit': -0.010021507697285981}, {'type': 'short', 'entry_price': 1.29837, 'stop_loss_price': 0, 'take_profit_price': 0, 'position_size': 77.01964771213136, 'entry_time': 1604, 'entry_bid': 1.29837, 'entry_ask': 1.29853, 'exit_price': 1.29853, 'exit_time': 1604, 'profit': -0.01232314363393624}, {'type': 'short', 'entry_price': 1.29949, 'stop_loss_price': 0, 'take_profit_price': 0, 'position_size': 76.95326628138731, 'entry_time': 1605, 'entry_bid': 1.29949, 'entry_ask': 1.29964, 'exit_price': 1.29964, 'exit_time': 1605, 'profit': -0.011542989942198283}, {'type': 'short', 'entry_price': 1.29842, 'stop_loss_price': 0, 'take_profit_price': 0, 'position_size': 77.01668181328077, 'entry_time': 1606, 'entry_bid': 1.29842, 'entry_ask': 1.29902, 'exit_price': 1.29902, 'exit_time': 1606, 'profit': -0.04621000908798047}, {'type': 'short', 'entry_price': 1.2991, 'stop_loss_price': 0, 'take_profit_price': 0, 'position_size': 76.97636825494574, 'entry_time': 1607, 'entry_bid': 1.2991, 'entry_ask': 1.29926, 'exit_price': 1.29926, 'exit_time': 1607, 'profit': -0.012316218920803635}, {'type': 'short', 'entry_price': 1.29878, 'stop_loss_price': 0, 'take_profit_price': 0, 'position_size': 76.99533408275458, 'entry_time': 1608, 'entry_bid': 1.29878, 'entry_ask': 1.29895, 'exit_price': 1.29895, 'exit_time': 1608, 'profit': -0.013089206794068546}, {'type': 'short', 'entry_price': 1.29715, 'stop_loss_price': 0, 'take_profit_price': 0, 'position_size': 77.09208649732105, 'entry_time': 1609, 'entry_bid': 1.29715, 'entry_ask': 1.29733, 'exit_price': 1.29733, 'exit_time': 1609, 'profit': -0.013876575569523108}, {'type': 'short', 'entry_price': 1.29897, 'stop_loss_price': 0, 'take_profit_price': 0, 'position_size': 76.98407199550414, 'entry_time': 1610, 'entry_bid': 1.29897, 'entry_ask': 1.29912, 'exit_price': 1.29912, 'exit_time': 1610, 'profit': -0.011547610799332897}, {'type': 'short', 'entry_price': 1.30208, 'stop_loss_price': 0, 'take_profit_price': 0, 'position_size': 76.80019660850333, 'entry_time': 1611, 'entry_bid': 1.30208, 'entry_ask': 1.30223, 'exit_price': 1.30223, 'exit_time': 1611, 'profit': -0.011520029491282757}, {'type': 'short', 'entry_price': 1.30163, 'stop_loss_price': 0, 'take_profit_price': 0, 'position_size': 76.82674800058388, 'entry_time': 1612, 'entry_bid': 1.30163, 'entry_ask': 1.30223, 'exit_price': 1.30223, 'exit_time': 1612, 'profit': -0.04609604880034525}, {'type': 'short', 'entry_price': 1.30228, 'stop_loss_price': 0, 'take_profit_price': 0, 'position_size': 76.78840187978007, 'entry_time': 1613, 'entry_bid': 1.30228, 'entry_ask': 1.30249, 'exit_price': 1.30249, 'exit_time': 1613, 'profit': -0.016125564394740104}, {'type': 'short', 'entry_price': 1.30318, 'stop_loss_price': 0, 'take_profit_price': 0, 'position_size': 76.73537040163293, 'entry_time': 1614, 'entry_bid': 1.30318, 'entry_ask': 1.30342, 'exit_price': 1.30342, 'exit_time': 1614, 'profit': -0.018416488896393284}, {'type': 'short', 'entry_price': 1.29906, 'stop_loss_price': 0, 'take_profit_price': 0, 'position_size': 76.9787384724339, 'entry_time': 1615, 'entry_bid': 1.29906, 'entry_ask': 1.29924, 'exit_price': 1.29924, 'exit_time': 1615, 'profit': -0.013856172925026321}, {'type': 'short', 'entry_price': 1.30081, 'stop_loss_price': 0, 'take_profit_price': 0, 'position_size': 76.8751777738486, 'entry_time': 1616, 'entry_bid': 1.30081, 'entry_ask': 1.30095, 'exit_price': 1.30095, 'exit_time': 1616, 'profit': -0.010762524888341033}, {'type': 'short', 'entry_price': 1.30323, 'stop_loss_price': 0, 'take_profit_price': 0, 'position_size': 76.7324263560538, 'entry_time': 1617, 'entry_bid': 1.30323, 'entry_ask': 1.30339, 'exit_price': 1.30339, 'exit_time': 1617, 'profit': -0.012277188216963848}, {'type': 'short', 'entry_price': 1.3036, 'stop_loss_price': 0, 'take_profit_price': 0, 'position_size': 76.71064743786437, 'entry_time': 1618, 'entry_bid': 1.3036, 'entry_ask': 1.3042, 'exit_price': 1.3042, 'exit_time': 1618, 'profit': -0.04602638846271355}, {'type': 'short', 'entry_price': 1.30434, 'stop_loss_price': 0, 'take_profit_price': 0, 'position_size': 76.66712666942668, 'entry_time': 1619, 'entry_bid': 1.30434, 'entry_ask': 1.30455, 'exit_price': 1.30455, 'exit_time': 1619, 'profit': -0.016100096600582935}, {'type': 'short', 'entry_price': 1.30474, 'stop_loss_price': 0, 'take_profit_price': 0, 'position_size': 76.6436224841731, 'entry_time': 1620, 'entry_bid': 1.30474, 'entry_ask': 1.30493, 'exit_price': 1.30493, 'exit_time': 1620, 'profit': -0.014562288271986178}, {'type': 'short', 'entry_price': 1.30528, 'stop_loss_price': 0, 'take_profit_price': 0, 'position_size': 76.61191468497181, 'entry_time': 1621, 'entry_bid': 1.30528, 'entry_ask': 1.30546, 'exit_price': 1.30546, 'exit_time': 1621, 'profit': -0.01379014464330021}, {'type': 'short', 'entry_price': 1.30487, 'stop_loss_price': 0, 'take_profit_price': 0, 'position_size': 76.6359867266471, 'entry_time': 1622, 'entry_bid': 1.30487, 'entry_ask': 1.30504, 'exit_price': 1.30504, 'exit_time': 1622, 'profit': -0.013028117743530274}, {'type': 'short', 'entry_price': 1.30734, 'stop_loss_price': 0, 'take_profit_price': 0, 'position_size': 76.49119586335613, 'entry_time': 1623, 'entry_bid': 1.30734, 'entry_ask': 1.30751, 'exit_price': 1.30751, 'exit_time': 1623, 'profit': -0.013003503296770807}, {'type': 'short', 'entry_price': 1.30755, 'stop_loss_price': 0, 'take_profit_price': 0, 'position_size': 76.47891094030821, 'entry_time': 1624, 'entry_bid': 1.30755, 'entry_ask': 1.30815, 'exit_price': 1.30815, 'exit_time': 1624, 'profit': -0.04588734656417987}, {'type': 'short', 'entry_price': 1.30667, 'stop_loss_price': 0, 'take_profit_price': 0, 'position_size': 76.53041701424232, 'entry_time': 1625, 'entry_bid': 1.30667, 'entry_ask': 1.30688, 'exit_price': 1.30688, 'exit_time': 1625, 'profit': -0.016071387572994214}, {'type': 'short', 'entry_price': 1.3074, 'stop_loss_price': 1.3097866, 'take_profit_price': 1.29538, 'position_size': 41900.611748929296, 'entry_time': 1626, 'entry_bid': 1.3074, 'entry_ask': 1.30759, 'exit_price': 1.31317, 'exit_time': 1646, 'profit': -241.76652979132425}, {'type': 'short', 'entry_price': 1.3128, 'stop_loss_price': 0, 'take_profit_price': 0, 'position_size': 76.17306520414381, 'entry_time': 1647, 'entry_bid': 1.3128, 'entry_ask': 1.31296, 'exit_price': 1.31296, 'exit_time': 1647, 'profit': -0.012187690432658285}, {'type': 'short', 'entry_price': 1.31388, 'stop_loss_price': 0, 'take_profit_price': 0, 'position_size': 76.11045148719822, 'entry_time': 1648, 'entry_bid': 1.31388, 'entry_ask': 1.31448, 'exit_price': 1.31448, 'exit_time': 1648, 'profit': -0.0456662708923308}, {'type': 'short', 'entry_price': 1.31365, 'stop_loss_price': 0, 'take_profit_price': 0, 'position_size': 76.12377726182773, 'entry_time': 1649, 'entry_bid': 1.31365, 'entry_ask': 1.31382, 'exit_price': 1.31382, 'exit_time': 1649, 'profit': -0.012941042134510979}, {'type': 'short', 'entry_price': 1.31221, 'stop_loss_price': 0, 'take_profit_price': 0, 'position_size': 76.207314378034, 'entry_time': 1650, 'entry_bid': 1.31221, 'entry_ask': 1.31238, 'exit_price': 1.31238, 'exit_time': 1650, 'profit': -0.012955243444266046}, {'type': 'short', 'entry_price': 1.31314, 'stop_loss_price': 0, 'take_profit_price': 0, 'position_size': 76.15334237019663, 'entry_time': 1651, 'entry_bid': 1.31314, 'entry_ask': 1.3133, 'exit_price': 1.3133, 'exit_time': 1651, 'profit': -0.012184534779226736}, {'type': 'short', 'entry_price': 1.31275, 'stop_loss_price': 0, 'take_profit_price': 0, 'position_size': 76.17596648257474, 'entry_time': 1652, 'entry_bid': 1.31275, 'entry_ask': 1.31291, 'exit_price': 1.31291, 'exit_time': 1652, 'profit': -0.012188154637207233}, {'type': 'short', 'entry_price': 1.31095, 'stop_loss_price': 0, 'take_profit_price': 0, 'position_size': 76.28055989930965, 'entry_time': 1653, 'entry_bid': 1.31095, 'entry_ask': 1.3111, 'exit_price': 1.3111, 'exit_time': 1653, 'profit': -0.011442083984886718}, {'type': 'short', 'entry_price': 1.31226, 'stop_loss_price': 0, 'take_profit_price': 0, 'position_size': 76.20441071129197, 'entry_time': 1654, 'entry_bid': 1.31226, 'entry_ask': 1.31286, 'exit_price': 1.31286, 'exit_time': 1654, 'profit': -0.045722646426770146}, {'type': 'short', 'entry_price': 1.31154, 'stop_loss_price': 0, 'take_profit_price': 0, 'position_size': 76.24624487244003, 'entry_time': 1655, 'entry_bid': 1.31154, 'entry_ask': 1.31171, 'exit_price': 1.31171, 'exit_time': 1655, 'profit': -0.01296186162831507}, {'type': 'short', 'entry_price': 1.31225, 'stop_loss_price': 0, 'take_profit_price': 0, 'position_size': 76.20499142693846, 'entry_time': 1656, 'entry_bid': 1.31225, 'entry_ask': 1.31242, 'exit_price': 1.31242, 'exit_time': 1656, 'profit': -0.012954848542579804}, {'type': 'short', 'entry_price': 1.30927, 'stop_loss_price': 0, 'take_profit_price': 0, 'position_size': 76.37843989398672, 'entry_time': 1657, 'entry_bid': 1.30927, 'entry_ask': 1.30943, 'exit_price': 1.30943, 'exit_time': 1657, 'profit': -0.012220550383050097}, {'type': 'short', 'entry_price': 1.30992, 'stop_loss_price': 0, 'take_profit_price': 0, 'position_size': 76.34053988029804, 'entry_time': 1658, 'entry_bid': 1.30992, 'entry_ask': 1.31008, 'exit_price': 1.31008, 'exit_time': 1658, 'profit': -0.012214486380842951}, {'type': 'short', 'entry_price': 1.30778, 'stop_loss_price': 0, 'take_profit_price': 0, 'position_size': 76.46546055146891, 'entry_time': 1659, 'entry_bid': 1.30778, 'entry_ask': 1.30792, 'exit_price': 1.30792, 'exit_time': 1659, 'profit': -0.010705164477207863}, {'type': 'short', 'entry_price': 1.30651, 'stop_loss_price': 0, 'take_profit_price': 0, 'position_size': 76.53978920942052, 'entry_time': 1660, 'entry_bid': 1.30651, 'entry_ask': 1.30791, 'exit_price': 1.30791, 'exit_time': 1660, 'profit': -0.10715570489317693}, {'type': 'short', 'entry_price': 1.30668, 'stop_loss_price': 0, 'take_profit_price': 0, 'position_size': 76.52983132825175, 'entry_time': 1661, 'entry_bid': 1.30668, 'entry_ask': 1.30688, 'exit_price': 1.30688, 'exit_time': 1661, 'profit': -0.015305966265648663}, {'type': 'short', 'entry_price': 1.3058, 'stop_loss_price': 0, 'take_profit_price': 0, 'position_size': 76.58140603461479, 'entry_time': 1662, 'entry_bid': 1.3058, 'entry_ask': 1.30602, 'exit_price': 1.30602, 'exit_time': 1662, 'profit': -0.016847909327606596}, {'type': 'short', 'entry_price': 1.30949, 'stop_loss_price': 0, 'take_profit_price': 0, 'position_size': 76.36560798478797, 'entry_time': 1663, 'entry_bid': 1.30949, 'entry_ask': 1.30963, 'exit_price': 1.30963, 'exit_time': 1663, 'profit': -0.01069118511787253}, {'type': 'short', 'entry_price': 1.30611, 'stop_loss_price': 0, 'take_profit_price': 0, 'position_size': 76.56322974328349, 'entry_time': 1664, 'entry_bid': 1.30611, 'entry_ask': 1.30626, 'exit_price': 1.30626, 'exit_time': 1664, 'profit': -0.011484484461482758}, {'type': 'short', 'entry_price': 1.30575, 'stop_loss_price': 0, 'take_profit_price': 0, 'position_size': 76.58433850277619, 'entry_time': 1665, 'entry_bid': 1.30575, 'entry_ask': 1.3059, 'exit_price': 1.3059, 'exit_time': 1665, 'profit': -0.011487650775423667}, {'type': 'short', 'entry_price': 1.30545, 'stop_loss_price': 0, 'take_profit_price': 0, 'position_size': 76.60193802903214, 'entry_time': 1666, 'entry_bid': 1.30545, 'entry_ask': 1.30605, 'exit_price': 1.30605, 'exit_time': 1666, 'profit': -0.04596116281741422}, {'type': 'short', 'entry_price': 1.3063, 'stop_loss_price': 0, 'take_profit_price': 0, 'position_size': 76.5520936997627, 'entry_time': 1667, 'entry_bid': 1.3063, 'entry_ask': 1.30648, 'exit_price': 1.30648, 'exit_time': 1667, 'profit': -0.013779376865962567}, {'type': 'short', 'entry_price': 1.30557, 'stop_loss_price': 0, 'take_profit_price': 0, 'position_size': 76.59489724794535, 'entry_time': 1668, 'entry_bid': 1.30557, 'entry_ask': 1.30573, 'exit_price': 1.30573, 'exit_time': 1668, 'profit': -0.012255183559683512}, {'type': 'short', 'entry_price': 1.3029, 'stop_loss_price': 0, 'take_profit_price': 0, 'position_size': 76.7518612326349, 'entry_time': 1669, 'entry_bid': 1.3029, 'entry_ask': 1.30305, 'exit_price': 1.30305, 'exit_time': 1669, 'profit': -0.011512779184902488}, {'type': 'short', 'entry_price': 1.30043, 'stop_loss_price': 0, 'take_profit_price': 0, 'position_size': 76.89764154933368, 'entry_time': 1670, 'entry_bid': 1.30043, 'entry_ask': 1.30057, 'exit_price': 1.30057, 'exit_time': 1670, 'profit': -0.010765669816908945}, {'type': 'short', 'entry_price': 1.29987, 'stop_loss_price': 0, 'take_profit_price': 0, 'position_size': 76.93077000007693, 'entry_time': 1671, 'entry_bid': 1.29987, 'entry_ask': 1.30003, 'exit_price': 1.30003, 'exit_time': 1671, 'profit': -0.012308923200007538}, {'type': 'short', 'entry_price': 1.30246, 'stop_loss_price': 0, 'take_profit_price': 0, 'position_size': 76.77778972098952, 'entry_time': 1672, 'entry_bid': 1.30246, 'entry_ask': 1.30306, 'exit_price': 1.30306, 'exit_time': 1672, 'profit': -0.04606667383260569}, {'type': 'short', 'entry_price': 1.30165, 'stop_loss_price': 0, 'take_profit_price': 0, 'position_size': 76.82556754888027, 'entry_time': 1673, 'entry_bid': 1.30165, 'entry_ask': 1.30184, 'exit_price': 1.30184, 'exit_time': 1673, 'profit': -0.014596857834297585}, {'type': 'short', 'entry_price': 1.30246, 'stop_loss_price': 0, 'take_profit_price': 0, 'position_size': 76.77778972098952, 'entry_time': 1674, 'entry_bid': 1.30246, 'entry_ask': 1.30265, 'exit_price': 1.30265, 'exit_time': 1674, 'profit': -0.014587780046998336}, {'type': 'short', 'entry_price': 1.30133, 'stop_loss_price': 0, 'take_profit_price': 0, 'position_size': 76.8444591302744, 'entry_time': 1675, 'entry_bid': 1.30133, 'entry_ask': 1.30147, 'exit_price': 1.30147, 'exit_time': 1675, 'profit': -0.010758224278223582}, {'type': 'short', 'entry_price': 1.29893, 'stop_loss_price': 0, 'take_profit_price': 0, 'position_size': 76.98644268744275, 'entry_time': 1676, 'entry_bid': 1.29893, 'entry_ask': 1.29907, 'exit_price': 1.29907, 'exit_time': 1676, 'profit': -0.010778101976244216}, {'type': 'short', 'entry_price': 1.30117, 'stop_loss_price': 0, 'take_profit_price': 0, 'position_size': 76.85390840551197, 'entry_time': 1677, 'entry_bid': 1.30117, 'entry_ask': 1.30131, 'exit_price': 1.30131, 'exit_time': 1677, 'profit': -0.010759547176773904}, {'type': 'short', 'entry_price': 1.30175, 'stop_loss_price': 0, 'take_profit_price': 0, 'position_size': 76.81966583445362, 'entry_time': 1678, 'entry_bid': 1.30175, 'entry_ask': 1.30235, 'exit_price': 1.30235, 'exit_time': 1678, 'profit': -0.046091799500667094}, {'type': 'short', 'entry_price': 1.30187, 'stop_loss_price': 0, 'take_profit_price': 0, 'position_size': 76.81258497392213, 'entry_time': 1679, 'entry_bid': 1.30187, 'entry_ask': 1.30207, 'exit_price': 1.30207, 'exit_time': 1679, 'profit': -0.015362516994782733}, {'type': 'short', 'entry_price': 1.30142, 'stop_loss_price': 0, 'take_profit_price': 0, 'position_size': 76.83914493399517, 'entry_time': 1680, 'entry_bid': 1.30142, 'entry_ask': 1.30159, 'exit_price': 1.30159, 'exit_time': 1680, 'profit': -0.013062654638779446}, {'type': 'short', 'entry_price': 1.30155, 'stop_loss_price': 0, 'take_profit_price': 0, 'position_size': 76.8314701701817, 'entry_time': 1681, 'entry_bid': 1.30155, 'entry_ask': 1.30171, 'exit_price': 1.30171, 'exit_time': 1681, 'profit': -0.012293035227224306}, {'type': 'short', 'entry_price': 1.30974, 'stop_loss_price': 1.3125296, 'take_profit_price': 1.29746, 'position_size': 35847.433323773264, 'entry_time': 1682, 'entry_bid': 1.30974, 'entry_ask': 1.30992, 'exit_price': 1.31454, 'exit_time': 1688, 'profit': -172.06767995411658}, {'type': 'short', 'entry_price': 1.31955, 'stop_loss_price': 0, 'take_profit_price': 0, 'position_size': 75.78341101132962, 'entry_time': 1689, 'entry_bid': 1.31955, 'entry_ask': 1.3197, 'exit_price': 1.3197, 'exit_time': 1689, 'profit': -0.011367511651706604}, {'type': 'short', 'entry_price': 1.32031, 'stop_loss_price': 0, 'take_profit_price': 0, 'position_size': 75.73978838303125, 'entry_time': 1690, 'entry_bid': 1.32031, 'entry_ask': 1.32079, 'exit_price': 1.32079, 'exit_time': 1690, 'profit': -0.03635509842384091}, {'type': 'short', 'entry_price': 1.31754, 'stop_loss_price': 0, 'take_profit_price': 0, 'position_size': 75.89902393855215, 'entry_time': 1691, 'entry_bid': 1.31754, 'entry_ask': 1.31772, 'exit_price': 1.31772, 'exit_time': 1691, 'profit': -0.013661824308944623}, {'type': 'short', 'entry_price': 1.31625, 'stop_loss_price': 0, 'take_profit_price': 0, 'position_size': 75.97340930674264, 'entry_time': 1692, 'entry_bid': 1.31625, 'entry_ask': 1.31642, 'exit_price': 1.31642, 'exit_time': 1692, 'profit': -0.012915479582146514}, {'type': 'short', 'entry_price': 1.30806, 'stop_loss_price': 0, 'take_profit_price': 0, 'position_size': 76.44909254927144, 'entry_time': 1693, 'entry_bid': 1.30806, 'entry_ask': 1.30826, 'exit_price': 1.30826, 'exit_time': 1693, 'profit': -0.015289818509852605}, {'type': 'short', 'entry_price': 1.30586, 'stop_loss_price': 0, 'take_profit_price': 0, 'position_size': 76.57788736924326, 'entry_time': 1694, 'entry_bid': 1.30586, 'entry_ask': 1.30601, 'exit_price': 1.30601, 'exit_time': 1694, 'profit': -0.011486683105376722}, {'type': 'short', 'entry_price': 1.30047, 'stop_loss_price': 0, 'take_profit_price': 0, 'position_size': 76.89527632317547, 'entry_time': 1695, 'entry_bid': 1.30047, 'entry_ask': 1.30062, 'exit_price': 1.30062, 'exit_time': 1695, 'profit': -0.011534291448483587}, {'type': 'short', 'entry_price': 1.29941, 'stop_loss_price': 0, 'take_profit_price': 0, 'position_size': 76.95800401720781, 'entry_time': 1696, 'entry_bid': 1.29941, 'entry_ask': 1.30001, 'exit_price': 1.30001, 'exit_time': 1696, 'profit': -0.04617480241033669}, {'type': 'short', 'entry_price': 1.29898, 'stop_loss_price': 0, 'take_profit_price': 0, 'position_size': 76.98347934533248, 'entry_time': 1697, 'entry_bid': 1.29898, 'entry_ask': 1.29914, 'exit_price': 1.29914, 'exit_time': 1697, 'profit': -0.012317356695248423}, {'type': 'short', 'entry_price': 1.30127, 'stop_loss_price': 0, 'take_profit_price': 0, 'position_size': 76.84800233617928, 'entry_time': 1698, 'entry_bid': 1.30127, 'entry_ask': 1.30145, 'exit_price': 1.30145, 'exit_time': 1698, 'profit': -0.013832640420517572}, {'type': 'short', 'entry_price': 1.30157, 'stop_loss_price': 0, 'take_profit_price': 0, 'position_size': 76.83028957336141, 'entry_time': 1699, 'entry_bid': 1.30157, 'entry_ask': 1.30175, 'exit_price': 1.30175, 'exit_time': 1699, 'profit': -0.013829452123210354}, {'type': 'short', 'entry_price': 1.30287, 'stop_loss_price': 0, 'take_profit_price': 0, 'position_size': 76.75362852778865, 'entry_time': 1700, 'entry_bid': 1.30287, 'entry_ask': 1.30304, 'exit_price': 1.30304, 'exit_time': 1700, 'profit': -0.013048116849724338}, {'type': 'short', 'entry_price': 1.30313, 'stop_loss_price': 0, 'take_profit_price': 0, 'position_size': 76.73831467313316, 'entry_time': 1701, 'entry_bid': 1.30313, 'entry_ask': 1.30327, 'exit_price': 1.30327, 'exit_time': 1701, 'profit': -0.010743364054240867}, {'type': 'short', 'entry_price': 1.30282, 'stop_loss_price': 0, 'take_profit_price': 0, 'position_size': 76.75657420058027, 'entry_time': 1702, 'entry_bid': 1.30282, 'entry_ask': 1.30342, 'exit_price': 1.30342, 'exit_time': 1702, 'profit': -0.046053944520343094}, {'type': 'short', 'entry_price': 1.30227, 'stop_loss_price': 0, 'take_profit_price': 0, 'position_size': 76.78899153017423, 'entry_time': 1703, 'entry_bid': 1.30227, 'entry_ask': 1.30242, 'exit_price': 1.30242, 'exit_time': 1703, 'profit': -0.01151834872951634}, {'type': 'short', 'entry_price': 1.30171, 'stop_loss_price': 0, 'take_profit_price': 0, 'position_size': 76.82202641141268, 'entry_time': 1704, 'entry_bid': 1.30171, 'entry_ask': 1.30188, 'exit_price': 1.30188, 'exit_time': 1704, 'profit': -0.013059744489940423}, {'type': 'short', 'entry_price': 1.3065, 'stop_loss_price': 0, 'take_profit_price': 0, 'position_size': 76.54037504783774, 'entry_time': 1705, 'entry_bid': 1.3065, 'entry_ask': 1.30668, 'exit_price': 1.30668, 'exit_time': 1705, 'profit': -0.013777267508616074}, {'type': 'short', 'entry_price': 1.30085, 'stop_loss_price': 0, 'take_profit_price': 0, 'position_size': 76.87281392935388, 'entry_time': 1706, 'entry_bid': 1.30085, 'entry_ask': 1.301, 'exit_price': 1.301, 'exit_time': 1706, 'profit': -0.011530922089393278}, {'type': 'short', 'entry_price': 1.30037, 'stop_loss_price': 0, 'take_profit_price': 0, 'position_size': 76.90118966140406, 'entry_time': 1707, 'entry_bid': 1.30037, 'entry_ask': 1.30051, 'exit_price': 1.30051, 'exit_time': 1707, 'profit': -0.010766166552598797}, {'type': 'short', 'entry_price': 1.29983, 'stop_loss_price': 0, 'take_profit_price': 0, 'position_size': 76.93313741027673, 'entry_time': 1708, 'entry_bid': 1.29983, 'entry_ask': 1.30043, 'exit_price': 1.30043, 'exit_time': 1708, 'profit': -0.046159882446160955}, {'type': 'short', 'entry_price': 1.29879, 'stop_loss_price': 0, 'take_profit_price': 0, 'position_size': 76.994741259172, 'entry_time': 1709, 'entry_bid': 1.29879, 'entry_ask': 1.29896, 'exit_price': 1.29896, 'exit_time': 1709, 'profit': -0.013089106014059508}, {'type': 'short', 'entry_price': 1.2984, 'stop_loss_price': 0, 'take_profit_price': 0, 'position_size': 77.01786814540974, 'entry_time': 1710, 'entry_bid': 1.2984, 'entry_ask': 1.29858, 'exit_price': 1.29858, 'exit_time': 1710, 'profit': -0.013863216266179066}, {'type': 'short', 'entry_price': 1.29738, 'stop_loss_price': 0, 'take_profit_price': 0, 'position_size': 77.07841958408486, 'entry_time': 1711, 'entry_bid': 1.29738, 'entry_ask': 1.29754, 'exit_price': 1.29754, 'exit_time': 1711, 'profit': -0.012332547133448796}, {'type': 'short', 'entry_price': 1.29655, 'stop_loss_price': 0, 'take_profit_price': 0, 'position_size': 77.12776213798156, 'entry_time': 1712, 'entry_bid': 1.29655, 'entry_ask': 1.29669, 'exit_price': 1.29669, 'exit_time': 1712, 'profit': -0.010797886699302529}, {'type': 'short', 'entry_price': 1.2933, 'stop_loss_price': 0, 'take_profit_price': 0, 'position_size': 77.32158045310447, 'entry_time': 1713, 'entry_bid': 1.2933, 'entry_ask': 1.29348, 'exit_price': 1.29348, 'exit_time': 1713, 'profit': -0.01391788448156414}, {'type': 'short', 'entry_price': 1.29251, 'stop_loss_price': 0, 'take_profit_price': 0, 'position_size': 77.36884047318783, 'entry_time': 1714, 'entry_bid': 1.29251, 'entry_ask': 1.29311, 'exit_price': 1.29311, 'exit_time': 1714, 'profit': -0.04642130428390759}, {'type': 'short', 'entry_price': 1.29361, 'stop_loss_price': 0, 'take_profit_price': 0, 'position_size': 77.30305115142895, 'entry_time': 1715, 'entry_bid': 1.29361, 'entry_ask': 1.29381, 'exit_price': 1.29381, 'exit_time': 1715, 'profit': -0.015460610230284087}, {'type': 'short', 'entry_price': 1.294, 'stop_loss_price': 0, 'take_profit_price': 0, 'position_size': 77.27975270479135, 'entry_time': 1716, 'entry_bid': 1.294, 'entry_ask': 1.29415, 'exit_price': 1.29415, 'exit_time': 1716, 'profit': -0.011591962905708846}, {'type': 'short', 'entry_price': 1.29285, 'stop_loss_price': 0, 'take_profit_price': 0, 'position_size': 77.3484936380864, 'entry_time': 1717, 'entry_bid': 1.29285, 'entry_ask': 1.29301, 'exit_price': 1.29301, 'exit_time': 1717, 'profit': -0.012375758982089025}, {'type': 'short', 'entry_price': 1.29329, 'stop_loss_price': 0, 'take_profit_price': 0, 'position_size': 77.32217832040764, 'entry_time': 1718, 'entry_bid': 1.29329, 'entry_ask': 1.29344, 'exit_price': 1.29344, 'exit_time': 1718, 'profit': -0.011598326748051285}, {'type': 'short', 'entry_price': 1.28997, 'stop_loss_price': 0, 'take_profit_price': 0, 'position_size': 77.5211826631627, 'entry_time': 1719, 'entry_bid': 1.28997, 'entry_ask': 1.29015, 'exit_price': 1.29015, 'exit_time': 1719, 'profit': -0.013953812879357421}, {'type': 'short', 'entry_price': 1.28786, 'stop_loss_price': 0, 'take_profit_price': 0, 'position_size': 77.64819157361825, 'entry_time': 1720, 'entry_bid': 1.28786, 'entry_ask': 1.28936, 'exit_price': 1.28936, 'exit_time': 1720, 'profit': -0.11647228736043179}, {'type': 'short', 'entry_price': 1.28928, 'stop_loss_price': 0, 'take_profit_price': 0, 'position_size': 77.5626706378754, 'entry_time': 1721, 'entry_bid': 1.28928, 'entry_ask': 1.28945, 'exit_price': 1.28945, 'exit_time': 1721, 'profit': -0.013185654008439088}, {'type': 'short', 'entry_price': 1.29068, 'stop_loss_price': 0, 'take_profit_price': 0, 'position_size': 77.47853844485077, 'entry_time': 1722, 'entry_bid': 1.29068, 'entry_ask': 1.29085, 'exit_price': 1.29085, 'exit_time': 1722, 'profit': -0.0131713515356249}, {'type': 'short', 'entry_price': 1.29102, 'stop_loss_price': 0, 'take_profit_price': 0, 'position_size': 77.45813387863859, 'entry_time': 1723, 'entry_bid': 1.29102, 'entry_ask': 1.29118, 'exit_price': 1.29118, 'exit_time': 1723, 'profit': -0.01239330142057737}, {'type': 'short', 'entry_price': 1.29283, 'stop_loss_price': 0, 'take_profit_price': 0, 'position_size': 77.34969021449069, 'entry_time': 1724, 'entry_bid': 1.29283, 'entry_ask': 1.29299, 'exit_price': 1.29299, 'exit_time': 1724, 'profit': -0.012375950434330887}, {'type': 'short', 'entry_price': 1.2909, 'stop_loss_price': 0, 'take_profit_price': 0, 'position_size': 77.46533426291735, 'entry_time': 1725, 'entry_bid': 1.2909, 'entry_ask': 1.29105, 'exit_price': 1.29105, 'exit_time': 1725, 'profit': -0.011619800139444924}, {'type': 'short', 'entry_price': 1.29109, 'stop_loss_price': 0, 'take_profit_price': 0, 'position_size': 77.45393427259137, 'entry_time': 1726, 'entry_bid': 1.29109, 'entry_ask': 1.29169, 'exit_price': 1.29169, 'exit_time': 1726, 'profit': -0.046472360563549704}, {'type': 'short', 'entry_price': 1.29145, 'stop_loss_price': 0, 'take_profit_price': 0, 'position_size': 77.43234348987572, 'entry_time': 1727, 'entry_bid': 1.29145, 'entry_ask': 1.29163, 'exit_price': 1.29163, 'exit_time': 1727, 'profit': -0.013937821828182971}, {'type': 'short', 'entry_price': 1.29133, 'stop_loss_price': 0, 'take_profit_price': 0, 'position_size': 77.4395390798634, 'entry_time': 1728, 'entry_bid': 1.29133, 'entry_ask': 1.2915, 'exit_price': 1.2915, 'exit_time': 1728, 'profit': -0.013164721643577047}, {'type': 'short', 'entry_price': 1.29377, 'stop_loss_price': 0, 'take_profit_price': 0, 'position_size': 77.29349111511318, 'entry_time': 1729, 'entry_bid': 1.29377, 'entry_ask': 1.29392, 'exit_price': 1.29392, 'exit_time': 1729, 'profit': -0.01159402366725712}, {'type': 'short', 'entry_price': 1.29368, 'stop_loss_price': 0, 'take_profit_price': 0, 'position_size': 77.29886834456744, 'entry_time': 1730, 'entry_bid': 1.29368, 'entry_ask': 1.29385, 'exit_price': 1.29385, 'exit_time': 1730, 'profit': -0.013140807618576734}, {'type': 'short', 'entry_price': 1.29498, 'stop_loss_price': 0, 'take_profit_price': 0, 'position_size': 77.22126982656103, 'entry_time': 1731, 'entry_bid': 1.29498, 'entry_ask': 1.29513, 'exit_price': 1.29513, 'exit_time': 1731, 'profit': -0.011583190473974304}, {'type': 'short', 'entry_price': 1.29484, 'stop_loss_price': 0, 'take_profit_price': 0, 'position_size': 77.22961910351859, 'entry_time': 1732, 'entry_bid': 1.29484, 'entry_ask': 1.29544, 'exit_price': 1.29544, 'exit_time': 1732, 'profit': -0.04633777146210605}, {'type': 'short', 'entry_price': 1.29642, 'stop_loss_price': 0, 'take_profit_price': 0, 'position_size': 77.13549621264714, 'entry_time': 1733, 'entry_bid': 1.29642, 'entry_ask': 1.29658, 'exit_price': 1.29658, 'exit_time': 1733, 'profit': -0.012341679394035885}, {'type': 'short', 'entry_price': 1.29608, 'stop_loss_price': 0, 'take_profit_price': 0, 'position_size': 77.15573112770817, 'entry_time': 1734, 'entry_bid': 1.29608, 'entry_ask': 1.29628, 'exit_price': 1.29628, 'exit_time': 1734, 'profit': -0.015431146225557066}, {'type': 'short', 'entry_price': 1.29801, 'stop_loss_price': 0, 'take_profit_price': 0, 'position_size': 77.04100892905292, 'entry_time': 1735, 'entry_bid': 1.29801, 'entry_ask': 1.29816, 'exit_price': 1.29816, 'exit_time': 1735, 'profit': -0.011556151339348113}, {'type': 'short', 'entry_price': 1.29652, 'stop_loss_price': 0, 'take_profit_price': 0, 'position_size': 77.12954678678308, 'entry_time': 1736, 'entry_bid': 1.29652, 'entry_ask': 1.29669, 'exit_price': 1.29669, 'exit_time': 1736, 'profit': -0.013112022953753391}, {'type': 'short', 'entry_price': 1.2965, 'stop_loss_price': 0, 'take_profit_price': 0, 'position_size': 77.13073659853451, 'entry_time': 1737, 'entry_bid': 1.2965, 'entry_ask': 1.29667, 'exit_price': 1.29667, 'exit_time': 1737, 'profit': -0.013112225221751135}, {'type': 'short', 'entry_price': 1.2956, 'stop_loss_price': 0, 'take_profit_price': 0, 'position_size': 77.18431614695893, 'entry_time': 1738, 'entry_bid': 1.2956, 'entry_ask': 1.2962, 'exit_price': 1.2962, 'exit_time': 1738, 'profit': -0.04631058968817026}, {'type': 'short', 'entry_price': 1.29575, 'stop_loss_price': 0, 'take_profit_price': 0, 'position_size': 77.17538105344396, 'entry_time': 1739, 'entry_bid': 1.29575, 'entry_ask': 1.29594, 'exit_price': 1.29594, 'exit_time': 1739, 'profit': -0.014663322400164732}, {'type': 'short', 'entry_price': 1.29504, 'stop_loss_price': 0, 'take_profit_price': 0, 'position_size': 77.21769211761799, 'entry_time': 1740, 'entry_bid': 1.29504, 'entry_ask': 1.2952, 'exit_price': 1.2952, 'exit_time': 1740, 'profit': -0.012354830738814089}, {'type': 'short', 'entry_price': 1.29711, 'stop_loss_price': 0, 'take_profit_price': 0, 'position_size': 77.09446384655118, 'entry_time': 1741, 'entry_bid': 1.29711, 'entry_ask': 1.29727, 'exit_price': 1.29727, 'exit_time': 1741, 'profit': -0.012335114215443406}, {'type': 'short', 'entry_price': 1.30232, 'stop_loss_price': 0, 'take_profit_price': 0, 'position_size': 76.7860433687573, 'entry_time': 1742, 'entry_bid': 1.30232, 'entry_ask': 1.30246, 'exit_price': 1.30246, 'exit_time': 1742, 'profit': -0.01075004607162825}, {'type': 'short', 'entry_price': 1.30555, 'stop_loss_price': 0, 'take_profit_price': 0, 'position_size': 76.59607062157711, 'entry_time': 1743, 'entry_bid': 1.30555, 'entry_ask': 1.30571, 'exit_price': 1.30571, 'exit_time': 1743, 'profit': -0.012255371299447588}, {'type': 'short', 'entry_price': 1.30413, 'stop_loss_price': 0, 'take_profit_price': 0, 'position_size': 76.6794721385138, 'entry_time': 1744, 'entry_bid': 1.30413, 'entry_ask': 1.30473, 'exit_price': 1.30473, 'exit_time': 1744, 'profit': -0.046007683283103215}, {'type': 'short', 'entry_price': 1.30461, 'stop_loss_price': 0, 'take_profit_price': 0, 'position_size': 76.6512597634542, 'entry_time': 1745, 'entry_bid': 1.30461, 'entry_ask': 1.30478, 'exit_price': 1.30478, 'exit_time': 1745, 'profit': -0.013030714159787482}, {'type': 'short', 'entry_price': 1.30447, 'stop_loss_price': 0, 'take_profit_price': 0, 'position_size': 76.6594862281233, 'entry_time': 1746, 'entry_bid': 1.30447, 'entry_ask': 1.30462, 'exit_price': 1.30462, 'exit_time': 1746, 'profit': -0.011498922934208717}, {'type': 'short', 'entry_price': 1.3034, 'stop_loss_price': 0, 'take_profit_price': 0, 'position_size': 76.72241829062453, 'entry_time': 1747, 'entry_bid': 1.3034, 'entry_ask': 1.30362, 'exit_price': 1.30362, 'exit_time': 1747, 'profit': -0.016878932023945758}, {'type': 'short', 'entry_price': 1.30141, 'stop_loss_price': 0, 'take_profit_price': 0, 'position_size': 76.8397353639514, 'entry_time': 1748, 'entry_bid': 1.30141, 'entry_ask': 1.30158, 'exit_price': 1.30158, 'exit_time': 1748, 'profit': -0.013062755011872006}, {'type': 'short', 'entry_price': 1.30396, 'stop_loss_price': 0, 'take_profit_price': 0, 'position_size': 76.68946900211662, 'entry_time': 1749, 'entry_bid': 1.30396, 'entry_ask': 1.30411, 'exit_price': 1.30411, 'exit_time': 1749, 'profit': -0.011503420350324742}, {'type': 'short', 'entry_price': 1.3045, 'stop_loss_price': 0, 'take_profit_price': 0, 'position_size': 76.65772326561901, 'entry_time': 1750, 'entry_bid': 1.3045, 'entry_ask': 1.30478, 'exit_price': 1.30478, 'exit_time': 1750, 'profit': -0.021464162514377768}, {'type': 'short', 'entry_price': 1.30444, 'stop_loss_price': 0, 'take_profit_price': 0, 'position_size': 76.66124927171813, 'entry_time': 1751, 'entry_bid': 1.30444, 'entry_ask': 1.30461, 'exit_price': 1.30461, 'exit_time': 1751, 'profit': -0.01303241237619235}, {'type': 'short', 'entry_price': 1.30479, 'stop_loss_price': 0, 'take_profit_price': 0, 'position_size': 76.64068547429089, 'entry_time': 1752, 'entry_bid': 1.30479, 'entry_ask': 1.30498, 'exit_price': 1.30498, 'exit_time': 1752, 'profit': -0.014561730240125578}, {'type': 'short', 'entry_price': 1.30392, 'stop_loss_price': 0, 'take_profit_price': 0, 'position_size': 76.69182158414627, 'entry_time': 1753, 'entry_bid': 1.30392, 'entry_ask': 1.30408, 'exit_price': 1.30408, 'exit_time': 1753, 'profit': -0.012270691453458646}, {'type': 'short', 'entry_price': 1.30149, 'stop_loss_price': 0, 'take_profit_price': 0, 'position_size': 76.83501217834943, 'entry_time': 1754, 'entry_bid': 1.30149, 'entry_ask': 1.30165, 'exit_price': 1.30165, 'exit_time': 1754, 'profit': -0.012293601948531142}, {'type': 'short', 'entry_price': 1.30106, 'stop_loss_price': 0, 'take_profit_price': 0, 'position_size': 76.86040613038598, 'entry_time': 1755, 'entry_bid': 1.30106, 'entry_ask': 1.30125, 'exit_price': 1.30125, 'exit_time': 1755, 'profit': -0.014603477164766608}, {'type': 'short', 'entry_price': 1.3002, 'stop_loss_price': 0, 'take_profit_price': 0, 'position_size': 76.91124442393478, 'entry_time': 1756, 'entry_bid': 1.3002, 'entry_ask': 1.3008, 'exit_price': 1.3008, 'exit_time': 1756, 'profit': -0.04614674665435578}, {'type': 'short', 'entry_price': 1.29975, 'stop_loss_price': 0, 'take_profit_price': 0, 'position_size': 76.93787266782074, 'entry_time': 1757, 'entry_bid': 1.29975, 'entry_ask': 1.29992, 'exit_price': 1.29992, 'exit_time': 1757, 'profit': -0.013079438353529795}, {'type': 'short', 'entry_price': 1.29953, 'stop_loss_price': 0, 'take_profit_price': 0, 'position_size': 76.95089763222087, 'entry_time': 1758, 'entry_bid': 1.29953, 'entry_ask': 1.2997, 'exit_price': 1.2997, 'exit_time': 1758, 'profit': -0.013081652597477816}, {'type': 'short', 'entry_price': 1.29954, 'stop_loss_price': 0, 'take_profit_price': 0, 'position_size': 76.95030549271281, 'entry_time': 1759, 'entry_bid': 1.29954, 'entry_ask': 1.29967, 'exit_price': 1.29967, 'exit_time': 1759, 'profit': -0.010003539714066942}, {'type': 'short', 'entry_price': 1.30257, 'stop_loss_price': 0, 'take_profit_price': 0, 'position_size': 76.77130595668562, 'entry_time': 1760, 'entry_bid': 1.30257, 'entry_ask': 1.30272, 'exit_price': 1.30272, 'exit_time': 1760, 'profit': -0.011515695893510099}, {'type': 'short', 'entry_price': 1.30033, 'stop_loss_price': 0, 'take_profit_price': 0, 'position_size': 76.90355525135926, 'entry_time': 1761, 'entry_bid': 1.30033, 'entry_ask': 1.30048, 'exit_price': 1.30048, 'exit_time': 1761, 'profit': -0.011535533287711158}, {'type': 'short', 'entry_price': 1.29947, 'stop_loss_price': 0, 'take_profit_price': 0, 'position_size': 76.95445066065396, 'entry_time': 1762, 'entry_bid': 1.29947, 'entry_ask': 1.30007, 'exit_price': 1.30007, 'exit_time': 1762, 'profit': -0.04617267039640438}, {'type': 'short', 'entry_price': 1.30006, 'stop_loss_price': 0, 'take_profit_price': 0, 'position_size': 76.91952679107118, 'entry_time': 1763, 'entry_bid': 1.30006, 'entry_ask': 1.30022, 'exit_price': 1.30022, 'exit_time': 1763, 'profit': -0.012307124286566617}, {'type': 'short', 'entry_price': 1.29987, 'stop_loss_price': 0, 'take_profit_price': 0, 'position_size': 76.93077000007693, 'entry_time': 1764, 'entry_bid': 1.29987, 'entry_ask': 1.30004, 'exit_price': 1.30004, 'exit_time': 1764, 'profit': -0.013078230900013347}, {'type': 'short', 'entry_price': 1.30063, 'stop_loss_price': 0, 'take_profit_price': 0, 'position_size': 76.88581687336138, 'entry_time': 1765, 'entry_bid': 1.30063, 'entry_ask': 1.30079, 'exit_price': 1.30079, 'exit_time': 1765, 'profit': -0.012301730699733051}, {'type': 'short', 'entry_price': 1.29773, 'stop_loss_price': 0, 'take_profit_price': 0, 'position_size': 77.05763140252594, 'entry_time': 1766, 'entry_bid': 1.29773, 'entry_ask': 1.29788, 'exit_price': 1.29788, 'exit_time': 1766, 'profit': -0.011558644710369064}, {'type': 'short', 'entry_price': 1.29175, 'stop_loss_price': 0, 'take_profit_price': 0, 'position_size': 77.41436036384749, 'entry_time': 1767, 'entry_bid': 1.29175, 'entry_ask': 1.29187, 'exit_price': 1.29187, 'exit_time': 1767, 'profit': -0.00928972324367099}, {'type': 'short', 'entry_price': 1.29191, 'stop_loss_price': 0, 'take_profit_price': 0, 'position_size': 77.40477277828951, 'entry_time': 1768, 'entry_bid': 1.29191, 'entry_ask': 1.29251, 'exit_price': 1.29251, 'exit_time': 1768, 'profit': -0.04644286366698578}, {'type': 'short', 'entry_price': 1.29141, 'stop_loss_price': 0, 'take_profit_price': 0, 'position_size': 77.43474187128797, 'entry_time': 1769, 'entry_bid': 1.29141, 'entry_ask': 1.29159, 'exit_price': 1.29159, 'exit_time': 1769, 'profit': -0.013938253536837177}, {'type': 'short', 'entry_price': 1.29101, 'stop_loss_price': 0, 'take_profit_price': 0, 'position_size': 77.45873385953634, 'entry_time': 1770, 'entry_bid': 1.29101, 'entry_ask': 1.29119, 'exit_price': 1.29119, 'exit_time': 1770, 'profit': -0.013942572094721885}, {'type': 'short', 'entry_price': 1.29016, 'stop_loss_price': 0, 'take_profit_price': 0, 'position_size': 77.50976623054505, 'entry_time': 1771, 'entry_bid': 1.29016, 'entry_ask': 1.29031, 'exit_price': 1.29031, 'exit_time': 1771, 'profit': -0.011626464934589083}, {'type': 'short', 'entry_price': 1.28579, 'stop_loss_price': 0, 'take_profit_price': 0, 'position_size': 77.77319780057397, 'entry_time': 1772, 'entry_bid': 1.28579, 'entry_ask': 1.28596, 'exit_price': 1.28596, 'exit_time': 1772, 'profit': -0.013221443626097845}, {'type': 'short', 'entry_price': 1.28767, 'stop_loss_price': 0, 'take_profit_price': 0, 'position_size': 77.65964882306801, 'entry_time': 1773, 'entry_bid': 1.28767, 'entry_ask': 1.28783, 'exit_price': 1.28783, 'exit_time': 1773, 'profit': -0.012425543811686065}, {'type': 'short', 'entry_price': 1.28801, 'stop_loss_price': 0, 'take_profit_price': 0, 'position_size': 77.63914876437295, 'entry_time': 1774, 'entry_bid': 1.28801, 'entry_ask': 1.28861, 'exit_price': 1.28861, 'exit_time': 1774, 'profit': -0.04658348925861864}, {'type': 'short', 'entry_price': 1.28863, 'stop_loss_price': 0, 'take_profit_price': 0, 'position_size': 77.60179415348084, 'entry_time': 1775, 'entry_bid': 1.28863, 'entry_ask': 1.28888, 'exit_price': 1.28888, 'exit_time': 1775, 'profit': -0.019400448538376688}, {'type': 'short', 'entry_price': 1.28943, 'stop_loss_price': 0, 'take_profit_price': 0, 'position_size': 77.55364773582124, 'entry_time': 1776, 'entry_bid': 1.28943, 'entry_ask': 1.28962, 'exit_price': 1.28962, 'exit_time': 1776, 'profit': -0.014735193069799247}, {'type': 'short', 'entry_price': 1.29155, 'stop_loss_price': 0, 'take_profit_price': 0, 'position_size': 77.4263481862878, 'entry_time': 1777, 'entry_bid': 1.29155, 'entry_ask': 1.29171, 'exit_price': 1.29171, 'exit_time': 1777, 'profit': -0.012388215709801245}, {'type': 'short', 'entry_price': 1.29347, 'stop_loss_price': 0, 'take_profit_price': 0, 'position_size': 77.31141812334265, 'entry_time': 1778, 'entry_bid': 1.29347, 'entry_ask': 1.29361, 'exit_price': 1.29361, 'exit_time': 1778, 'profit': -0.010823598537270211}, {'type': 'short', 'entry_price': 1.29734, 'stop_loss_price': 0, 'take_profit_price': 0, 'position_size': 77.08079609046203, 'entry_time': 1779, 'entry_bid': 1.29734, 'entry_ask': 1.29749, 'exit_price': 1.29749, 'exit_time': 1779, 'profit': -0.011562119413576589}, {'type': 'short', 'entry_price': 1.29533, 'stop_loss_price': 0, 'take_profit_price': 0, 'position_size': 77.20040453011973, 'entry_time': 1780, 'entry_bid': 1.29533, 'entry_ask': 1.29683, 'exit_price': 1.29683, 'exit_time': 1780, 'profit': -0.11580060679516684}, {'type': 'short', 'entry_price': 1.29469, 'stop_loss_price': 0, 'take_profit_price': 0, 'position_size': 77.23856676115518, 'entry_time': 1781, 'entry_bid': 1.29469, 'entry_ask': 1.29487, 'exit_price': 1.29487, 'exit_time': 1781, 'profit': -0.013902942017013262}, {'type': 'short', 'entry_price': 1.29361, 'stop_loss_price': 0, 'take_profit_price': 0, 'position_size': 77.30305115142895, 'entry_time': 1782, 'entry_bid': 1.29361, 'entry_ask': 1.29376, 'exit_price': 1.29376, 'exit_time': 1782, 'profit': -0.011595457672721647}, {'type': 'short', 'entry_price': 1.28958, 'stop_loss_price': 0, 'take_profit_price': 0, 'position_size': 77.54462693279983, 'entry_time': 1783, 'entry_bid': 1.28958, 'entry_ask': 1.28973, 'exit_price': 1.28973, 'exit_time': 1783, 'profit': -0.011631694039927302}, {'type': 'short', 'entry_price': 1.28997, 'stop_loss_price': 0, 'take_profit_price': 0, 'position_size': 77.5211826631627, 'entry_time': 1784, 'entry_bid': 1.28997, 'entry_ask': 1.2901, 'exit_price': 1.2901, 'exit_time': 1784, 'profit': -0.010077753746208321}, {'type': 'short', 'entry_price': 1.29358, 'stop_loss_price': 0, 'take_profit_price': 0, 'position_size': 77.30484392152013, 'entry_time': 1785, 'entry_bid': 1.29358, 'entry_ask': 1.29372, 'exit_price': 1.29372, 'exit_time': 1785, 'profit': -0.01082267814901506}, {'type': 'short', 'entry_price': 1.29263, 'stop_loss_price': 0, 'take_profit_price': 0, 'position_size': 77.36165801505459, 'entry_time': 1786, 'entry_bid': 1.29263, 'entry_ask': 1.29323, 'exit_price': 1.29323, 'exit_time': 1786, 'profit': -0.04641699480904482}, {'type': 'short', 'entry_price': 1.29398, 'stop_loss_price': 0, 'take_profit_price': 0, 'position_size': 77.28094715528835, 'entry_time': 1787, 'entry_bid': 1.29398, 'entry_ask': 1.29416, 'exit_price': 1.29416, 'exit_time': 1787, 'profit': -0.013910570487957234}, {'type': 'short', 'entry_price': 1.29321, 'stop_loss_price': 0, 'take_profit_price': 0, 'position_size': 77.32696159169818, 'entry_time': 1788, 'entry_bid': 1.29321, 'entry_ask': 1.29337, 'exit_price': 1.29337, 'exit_time': 1788, 'profit': -0.012372313854666911}, {'type': 'short', 'entry_price': 1.29938, 'stop_loss_price': 0, 'take_profit_price': 0, 'position_size': 76.95978081854423, 'entry_time': 1789, 'entry_bid': 1.29938, 'entry_ask': 1.29953, 'exit_price': 1.29953, 'exit_time': 1789, 'profit': -0.011543967122788908}, {'type': 'short', 'entry_price': 1.29688, 'stop_loss_price': 1.300809, 'take_profit_price': 1.28478, 'position_size': 25451.768897937945, 'entry_time': 1790, 'entry_bid': 1.29688, 'entry_ask': 1.29703, 'exit_price': 1.30122, 'exit_time': 1791, 'profit': -110.46067701705095}, {'type': 'short', 'entry_price': 1.30008, 'stop_loss_price': 0, 'take_profit_price': 0, 'position_size': 76.91834348655468, 'entry_time': 1792, 'entry_bid': 1.30008, 'entry_ask': 1.30068, 'exit_price': 1.30068, 'exit_time': 1792, 'profit': -0.0461510060919448}, {'type': 'short', 'entry_price': 1.30059, 'stop_loss_price': 0, 'take_profit_price': 0, 'position_size': 76.88818151761893, 'entry_time': 1793, 'entry_bid': 1.30059, 'entry_ask': 1.30077, 'exit_price': 1.30077, 'exit_time': 1793, 'profit': -0.013839872673176712}, {'type': 'short', 'entry_price': 1.29961, 'stop_loss_price': 0, 'take_profit_price': 0, 'position_size': 76.94616077130831, 'entry_time': 1794, 'entry_bid': 1.29961, 'entry_ask': 1.29979, 'exit_price': 1.29979, 'exit_time': 1794, 'profit': -0.013850308938840806}, {'type': 'short', 'entry_price': 1.29492, 'stop_loss_price': 0, 'take_profit_price': 0, 'position_size': 77.2248478670497, 'entry_time': 1795, 'entry_bid': 1.29492, 'entry_ask': 1.29508, 'exit_price': 1.29508, 'exit_time': 1795, 'profit': -0.012355975658723163}, {'type': 'short', 'entry_price': 1.29344, 'stop_loss_price': 0, 'take_profit_price': 0, 'position_size': 77.3132112815438, 'entry_time': 1796, 'entry_bid': 1.29344, 'entry_ask': 1.2936, 'exit_price': 1.2936, 'exit_time': 1796, 'profit': -0.012370113805059379}, {'type': 'short', 'entry_price': 1.29074, 'stop_loss_price': 0, 'take_profit_price': 0, 'position_size': 77.47493685792647, 'entry_time': 1797, 'entry_bid': 1.29074, 'entry_ask': 1.29088, 'exit_price': 1.29088, 'exit_time': 1797, 'profit': -0.010846491160111951}, {'type': 'short', 'entry_price': 1.28964, 'stop_loss_price': 0, 'take_profit_price': 0, 'position_size': 77.54101919915637, 'entry_time': 1798, 'entry_bid': 1.28964, 'entry_ask': 1.29024, 'exit_price': 1.29024, 'exit_time': 1798, 'profit': -0.04652461151950591}, {'type': 'short', 'entry_price': 1.29112, 'stop_loss_price': 0, 'take_profit_price': 0, 'position_size': 77.45213458082904, 'entry_time': 1799, 'entry_bid': 1.29112, 'entry_ask': 1.2913, 'exit_price': 1.2913, 'exit_time': 1799, 'profit': -0.013941384224537372}, {'type': 'short', 'entry_price': 1.29291, 'stop_loss_price': 0, 'take_profit_price': 0, 'position_size': 77.34490413099132, 'entry_time': 1800, 'entry_bid': 1.29291, 'entry_ask': 1.29307, 'exit_price': 1.29307, 'exit_time': 1800, 'profit': -0.012375184660953813}, {'type': 'short', 'entry_price': 1.29028, 'stop_loss_price': 0, 'take_profit_price': 0, 'position_size': 77.50255758440028, 'entry_time': 1801, 'entry_bid': 1.29028, 'entry_ask': 1.29041, 'exit_price': 1.29041, 'exit_time': 1801, 'profit': -0.010075332485969205}, {'type': 'short', 'entry_price': 1.2895, 'stop_loss_price': 0, 'take_profit_price': 0, 'position_size': 77.54943776657619, 'entry_time': 1802, 'entry_bid': 1.2895, 'entry_ask': 1.28966, 'exit_price': 1.28966, 'exit_time': 1802, 'profit': -0.01240791004264738}, {'type': 'short', 'entry_price': 1.28835, 'stop_loss_price': 0, 'take_profit_price': 0, 'position_size': 77.61865952574999, 'entry_time': 1803, 'entry_bid': 1.28835, 'entry_ask': 1.28849, 'exit_price': 1.28849, 'exit_time': 1803, 'profit': -0.010866612333590014}, {'type': 'short', 'entry_price': 1.28824, 'stop_loss_price': 0, 'take_profit_price': 0, 'position_size': 77.62528721356269, 'entry_time': 1804, 'entry_bid': 1.28824, 'entry_ask': 1.28884, 'exit_price': 1.28884, 'exit_time': 1804, 'profit': -0.046575172328132484}, {'type': 'short', 'entry_price': 1.28893, 'stop_loss_price': 0, 'take_profit_price': 0, 'position_size': 77.58373224302329, 'entry_time': 1805, 'entry_bid': 1.28893, 'entry_ask': 1.2891, 'exit_price': 1.2891, 'exit_time': 1805, 'profit': -0.013189234481314229}, {'type': 'short', 'entry_price': 1.28866, 'stop_loss_price': 0, 'take_profit_price': 0, 'position_size': 77.599987584002, 'entry_time': 1806, 'entry_bid': 1.28866, 'entry_ask': 1.28883, 'exit_price': 1.28883, 'exit_time': 1806, 'profit': -0.01319199788928061}, {'type': 'short', 'entry_price': 1.29039, 'stop_loss_price': 0, 'take_profit_price': 0, 'position_size': 77.4959508365688, 'entry_time': 1807, 'entry_bid': 1.29039, 'entry_ask': 1.29056, 'exit_price': 1.29056, 'exit_time': 1807, 'profit': -0.013174311642216965}, {'type': 'short', 'entry_price': 1.28551, 'stop_loss_price': 0, 'take_profit_price': 0, 'position_size': 77.79013776633398, 'entry_time': 1808, 'entry_bid': 1.28551, 'entry_ask': 1.28565, 'exit_price': 1.28565, 'exit_time': 1808, 'profit': -0.010890619287289013}, {'type': 'short', 'entry_price': 1.27604, 'stop_loss_price': 0, 'take_profit_price': 0, 'position_size': 78.3674492962603, 'entry_time': 1809, 'entry_bid': 1.27604, 'entry_ask': 1.27621, 'exit_price': 1.27621, 'exit_time': 1809, 'profit': -0.013322466380364524}, {'type': 'short', 'entry_price': 1.28125, 'stop_loss_price': 0, 'take_profit_price': 0, 'position_size': 78.04878048780488, 'entry_time': 1810, 'entry_bid': 1.28125, 'entry_ask': 1.28259, 'exit_price': 1.28259, 'exit_time': 1810, 'profit': -0.10458536585365048}, {'type': 'short', 'entry_price': 1.28151, 'stop_loss_price': 0, 'take_profit_price': 0, 'position_size': 78.03294550959416, 'entry_time': 1811, 'entry_bid': 1.28151, 'entry_ask': 1.28171, 'exit_price': 1.28171, 'exit_time': 1811, 'profit': -0.015606589101917112}, {'type': 'short', 'entry_price': 1.28255, 'stop_loss_price': 0, 'take_profit_price': 0, 'position_size': 77.9696697984484, 'entry_time': 1812, 'entry_bid': 1.28255, 'entry_ask': 1.28274, 'exit_price': 1.28274, 'exit_time': 1812, 'profit': -0.014814237261698369}, {'type': 'short', 'entry_price': 1.27646, 'stop_loss_price': 0, 'take_profit_price': 0, 'position_size': 78.34166366356956, 'entry_time': 1813, 'entry_bid': 1.27646, 'entry_ask': 1.27663, 'exit_price': 1.27663, 'exit_time': 1813, 'profit': -0.013318082822807099}, {'type': 'short', 'entry_price': 1.27732, 'stop_loss_price': 0, 'take_profit_price': 0, 'position_size': 78.2889174208499, 'entry_time': 1814, 'entry_bid': 1.27732, 'entry_ask': 1.27749, 'exit_price': 1.27749, 'exit_time': 1814, 'profit': -0.013309115961544755}, {'type': 'short', 'entry_price': 1.28085, 'stop_loss_price': 0, 'take_profit_price': 0, 'position_size': 78.07315454580942, 'entry_time': 1815, 'entry_bid': 1.28085, 'entry_ask': 1.28099, 'exit_price': 1.28099, 'exit_time': 1815, 'profit': -0.010930241636415582}, {'type': 'short', 'entry_price': 1.27502, 'stop_loss_price': 0, 'take_profit_price': 0, 'position_size': 78.43014227227808, 'entry_time': 1816, 'entry_bid': 1.27502, 'entry_ask': 1.27562, 'exit_price': 1.27562, 'exit_time': 1816, 'profit': -0.04705808536336166}, {'type': 'short', 'entry_price': 1.27658, 'stop_loss_price': 0, 'take_profit_price': 0, 'position_size': 78.33429945635996, 'entry_time': 1817, 'entry_bid': 1.27658, 'entry_ask': 1.27676, 'exit_price': 1.27676, 'exit_time': 1817, 'profit': -0.014100173902132803}, {'type': 'short', 'entry_price': 1.27813, 'stop_loss_price': 0, 'take_profit_price': 0, 'position_size': 78.23930273133406, 'entry_time': 1818, 'entry_bid': 1.27813, 'entry_ask': 1.2783, 'exit_price': 1.2783, 'exit_time': 1818, 'profit': -0.013300681464327063}, {'type': 'short', 'entry_price': 1.27777, 'stop_loss_price': 0, 'take_profit_price': 0, 'position_size': 78.26134593862744, 'entry_time': 1819, 'entry_bid': 1.27777, 'entry_ask': 1.27815, 'exit_price': 1.27815, 'exit_time': 1819, 'profit': -0.029739311456664728}, {'type': 'short', 'entry_price': 1.27931, 'stop_loss_price': 0, 'take_profit_price': 0, 'position_size': 78.16713697227412, 'entry_time': 1820, 'entry_bid': 1.27931, 'entry_ask': 1.27946, 'exit_price': 1.27946, 'exit_time': 1820, 'profit': -0.011725070545848506}, {'type': 'short', 'entry_price': 1.281, 'stop_loss_price': 0, 'take_profit_price': 0, 'position_size': 78.064012490242, 'entry_time': 1821, 'entry_bid': 1.281, 'entry_ask': 1.28118, 'exit_price': 1.28118, 'exit_time': 1821, 'profit': -0.014051522248248948}, {'type': 'short', 'entry_price': 1.2811, 'stop_loss_price': 0, 'take_profit_price': 0, 'position_size': 78.05791897588011, 'entry_time': 1822, 'entry_bid': 1.2811, 'entry_ask': 1.2817, 'exit_price': 1.2817, 'exit_time': 1822, 'profit': -0.04683475138554024}, {'type': 'short', 'entry_price': 1.28185, 'stop_loss_price': 0, 'take_profit_price': 0, 'position_size': 78.0122479229239, 'entry_time': 1823, 'entry_bid': 1.28185, 'entry_ask': 1.28204, 'exit_price': 1.28204, 'exit_time': 1823, 'profit': -0.014822327105366035}, {'type': 'short', 'entry_price': 1.28118, 'stop_loss_price': 0, 'take_profit_price': 0, 'position_size': 78.05304484927957, 'entry_time': 1824, 'entry_bid': 1.28118, 'entry_ask': 1.28134, 'exit_price': 1.28134, 'exit_time': 1824, 'profit': -0.01248848717587989}, {'type': 'short', 'entry_price': 1.27826, 'stop_loss_price': 0, 'take_profit_price': 0, 'position_size': 78.23134573560935, 'entry_time': 1825, 'entry_bid': 1.27826, 'entry_ask': 1.27843, 'exit_price': 1.27843, 'exit_time': 1825, 'profit': -0.013299328775053862}, {'type': 'short', 'entry_price': 1.28287, 'stop_loss_price': 0, 'take_profit_price': 0, 'position_size': 77.95022098887651, 'entry_time': 1826, 'entry_bid': 1.28287, 'entry_ask': 1.28299, 'exit_price': 1.28299, 'exit_time': 1826, 'profit': -0.009354026518674535}, {'type': 'short', 'entry_price': 1.28416, 'stop_loss_price': 0, 'take_profit_price': 0, 'position_size': 77.87191627211563, 'entry_time': 1827, 'entry_bid': 1.28416, 'entry_ask': 1.2843, 'exit_price': 1.2843, 'exit_time': 1827, 'profit': -0.010902068278098444}, {'type': 'short', 'entry_price': 1.2869, 'stop_loss_price': 0, 'take_profit_price': 0, 'position_size': 77.70611547128759, 'entry_time': 1828, 'entry_bid': 1.2869, 'entry_ask': 1.2875, 'exit_price': 1.2875, 'exit_time': 1828, 'profit': -0.04662366928278467}, {'type': 'short', 'entry_price': 1.28642, 'stop_loss_price': 0, 'take_profit_price': 0, 'position_size': 77.7351098397102, 'entry_time': 1829, 'entry_bid': 1.28642, 'entry_ask': 1.28659, 'exit_price': 1.28659, 'exit_time': 1829, 'profit': -0.013214968672751005}, {'type': 'short', 'entry_price': 1.28762, 'stop_loss_price': 0, 'take_profit_price': 0, 'position_size': 77.66266445069198, 'entry_time': 1830, 'entry_bid': 1.28762, 'entry_ask': 1.28781, 'exit_price': 1.28781, 'exit_time': 1830, 'profit': -0.014755906245624678}, {'type': 'short', 'entry_price': 1.29186, 'stop_loss_price': 0, 'take_profit_price': 0, 'position_size': 77.40776864366107, 'entry_time': 1831, 'entry_bid': 1.29186, 'entry_ask': 1.29202, 'exit_price': 1.29202, 'exit_time': 1831, 'profit': -0.01238524298298097}, {'type': 'short', 'entry_price': 1.29187, 'stop_loss_price': 0, 'take_profit_price': 0, 'position_size': 77.40716945203464, 'entry_time': 1832, 'entry_bid': 1.29187, 'entry_ask': 1.29201, 'exit_price': 1.29201, 'exit_time': 1832, 'profit': -0.010837003723287093}, {'type': 'short', 'entry_price': 1.29387, 'stop_loss_price': 0, 'take_profit_price': 0, 'position_size': 77.28751729308199, 'entry_time': 1833, 'entry_bid': 1.29387, 'entry_ask': 1.29402, 'exit_price': 1.29402, 'exit_time': 1833, 'profit': -0.011593127593952441}, {'type': 'short', 'entry_price': 1.29504, 'stop_loss_price': 0, 'take_profit_price': 0, 'position_size': 77.21769211761799, 'entry_time': 1834, 'entry_bid': 1.29504, 'entry_ask': 1.29564, 'exit_price': 1.29564, 'exit_time': 1834, 'profit': -0.046330615270565687}, {'type': 'short', 'entry_price': 1.29629, 'stop_loss_price': 0, 'take_profit_price': 0, 'position_size': 77.14323183855464, 'entry_time': 1835, 'entry_bid': 1.29629, 'entry_ask': 1.29649, 'exit_price': 1.29649, 'exit_time': 1835, 'profit': -0.015428646367709228}, {'type': 'short', 'entry_price': 1.29523, 'stop_loss_price': 0, 'take_profit_price': 0, 'position_size': 77.20636489272175, 'entry_time': 1836, 'entry_bid': 1.29523, 'entry_ask': 1.2954, 'exit_price': 1.2954, 'exit_time': 1836, 'profit': -0.013125082031762967}, {'type': 'short', 'entry_price': 1.29879, 'stop_loss_price': 0, 'take_profit_price': 0, 'position_size': 76.994741259172, 'entry_time': 1837, 'entry_bid': 1.29879, 'entry_ask': 1.29896, 'exit_price': 1.29896, 'exit_time': 1837, 'profit': -0.013089106014059508}, {'type': 'short', 'entry_price': 1.29953, 'stop_loss_price': 0, 'take_profit_price': 0, 'position_size': 76.95089763222087, 'entry_time': 1838, 'entry_bid': 1.29953, 'entry_ask': 1.29969, 'exit_price': 1.29969, 'exit_time': 1838, 'profit': -0.012312143621150566}, {'type': 'short', 'entry_price': 1.30024, 'stop_loss_price': 0, 'take_profit_price': 0, 'position_size': 76.90887836091798, 'entry_time': 1839, 'entry_bid': 1.30024, 'entry_ask': 1.30041, 'exit_price': 1.30041, 'exit_time': 1839, 'profit': -0.013074509321356325}, {'type': 'short', 'entry_price': 1.30442, 'stop_loss_price': 0, 'take_profit_price': 0, 'position_size': 76.66242467916776, 'entry_time': 1840, 'entry_bid': 1.30442, 'entry_ask': 1.30522, 'exit_price': 1.30522, 'exit_time': 1840, 'profit': -0.061329939743344476}, {'type': 'short', 'entry_price': 1.30721, 'stop_loss_price': 0, 'take_profit_price': 0, 'position_size': 76.49880279373627, 'entry_time': 1841, 'entry_bid': 1.30721, 'entry_ask': 1.3074, 'exit_price': 1.3074, 'exit_time': 1841, 'profit': -0.014534772530803196}, {'type': 'short', 'entry_price': 1.30694, 'stop_loss_price': 0, 'take_profit_price': 0, 'position_size': 76.51460663840727, 'entry_time': 1842, 'entry_bid': 1.30694, 'entry_ask': 1.3072, 'exit_price': 1.3072, 'exit_time': 1842, 'profit': -0.0198937977259803}, {'type': 'short', 'entry_price': 1.31422, 'stop_loss_price': 0, 'take_profit_price': 0, 'position_size': 76.09076105979213, 'entry_time': 1843, 'entry_bid': 1.31422, 'entry_ask': 1.31447, 'exit_price': 1.31447, 'exit_time': 1843, 'profit': -0.019022690264954387}, {'type': 'short', 'entry_price': 1.30999, 'stop_loss_price': 0, 'take_profit_price': 0, 'position_size': 76.33646058366858, 'entry_time': 1844, 'entry_bid': 1.30999, 'entry_ask': 1.31017, 'exit_price': 1.31017, 'exit_time': 1844, 'profit': -0.013740562905065612}, {'type': 'short', 'entry_price': 1.31379, 'stop_loss_price': 0, 'take_profit_price': 0, 'position_size': 76.11566536508879, 'entry_time': 1845, 'entry_bid': 1.31379, 'entry_ask': 1.31403, 'exit_price': 1.31403, 'exit_time': 1845, 'profit': -0.01826775968762268}, {'type': 'short', 'entry_price': 1.31173, 'stop_loss_price': 0, 'take_profit_price': 0, 'position_size': 76.23520084163661, 'entry_time': 1846, 'entry_bid': 1.31173, 'entry_ask': 1.31233, 'exit_price': 1.31233, 'exit_time': 1846, 'profit': -0.04574112050497693}, {'type': 'short', 'entry_price': 1.30504, 'stop_loss_price': 0, 'take_profit_price': 0, 'position_size': 76.62600380064978, 'entry_time': 1847, 'entry_bid': 1.30504, 'entry_ask': 1.30532, 'exit_price': 1.30532, 'exit_time': 1847, 'profit': -0.02145528106418638}, {'type': 'short', 'entry_price': 1.30629, 'stop_loss_price': 0, 'take_profit_price': 0, 'position_size': 76.55267972655383, 'entry_time': 1848, 'entry_bid': 1.30629, 'entry_ask': 1.30648, 'exit_price': 1.30648, 'exit_time': 1848, 'profit': -0.014545009148055526}, {'type': 'short', 'entry_price': 1.30582, 'stop_loss_price': 0, 'take_profit_price': 0, 'position_size': 76.58023311022959, 'entry_time': 1849, 'entry_bid': 1.30582, 'entry_ask': 1.30602, 'exit_price': 1.30602, 'exit_time': 1849, 'profit': -0.01531604662204423}, {'type': 'short', 'entry_price': 1.30235, 'stop_loss_price': 0, 'take_profit_price': 0, 'position_size': 76.7842745805659, 'entry_time': 1850, 'entry_bid': 1.30235, 'entry_ask': 1.30252, 'exit_price': 1.30252, 'exit_time': 1850, 'profit': -0.013053326678696471}, {'type': 'short', 'entry_price': 1.29104, 'stop_loss_price': 0, 'take_profit_price': 0, 'position_size': 77.45693394472673, 'entry_time': 1851, 'entry_bid': 1.29104, 'entry_ask': 1.29119, 'exit_price': 1.29119, 'exit_time': 1851, 'profit': -0.011618540091716329}, {'type': 'short', 'entry_price': 1.29052, 'stop_loss_price': 0, 'take_profit_price': 0, 'position_size': 77.48814431391997, 'entry_time': 1852, 'entry_bid': 1.29052, 'entry_ask': 1.29112, 'exit_price': 1.29112, 'exit_time': 1852, 'profit': -0.04649288658836407}, {'type': 'short', 'entry_price': 1.29006, 'stop_loss_price': 0, 'take_profit_price': 0, 'position_size': 77.51577446010263, 'entry_time': 1853, 'entry_bid': 1.29006, 'entry_ask': 1.29029, 'exit_price': 1.29029, 'exit_time': 1853, 'profit': -0.01782862812581992}, {'type': 'short', 'entry_price': 1.29251, 'stop_loss_price': 0, 'take_profit_price': 0, 'position_size': 77.36884047318783, 'entry_time': 1854, 'entry_bid': 1.29251, 'entry_ask': 1.2927, 'exit_price': 1.2927, 'exit_time': 1854, 'profit': -0.014700079689898915}, {'type': 'short', 'entry_price': 1.29305, 'stop_loss_price': 0, 'take_profit_price': 0, 'position_size': 77.33652990990294, 'entry_time': 1855, 'entry_bid': 1.29305, 'entry_ask': 1.29329, 'exit_price': 1.29329, 'exit_time': 1855, 'profit': -0.018560767178378096}, {'type': 'short', 'entry_price': 1.29393, 'stop_loss_price': 0, 'take_profit_price': 0, 'position_size': 77.28393344307652, 'entry_time': 1856, 'entry_bid': 1.29393, 'entry_ask': 1.29412, 'exit_price': 1.29412, 'exit_time': 1856, 'profit': -0.014683947354177773}, {'type': 'short', 'entry_price': 1.28557, 'stop_loss_price': 0, 'take_profit_price': 0, 'position_size': 77.78650715246933, 'entry_time': 1857, 'entry_bid': 1.28557, 'entry_ask': 1.28582, 'exit_price': 1.28582, 'exit_time': 1857, 'profit': -0.019446626788106554}, {'type': 'short', 'entry_price': 1.28151, 'stop_loss_price': 0, 'take_profit_price': 0, 'position_size': 78.03294550959416, 'entry_time': 1858, 'entry_bid': 1.28151, 'entry_ask': 1.28211, 'exit_price': 1.28211, 'exit_time': 1858, 'profit': -0.046819767305768666}, {'type': 'short', 'entry_price': 1.28193, 'stop_loss_price': 0, 'take_profit_price': 0, 'position_size': 78.00737949810052, 'entry_time': 1859, 'entry_bid': 1.28193, 'entry_ask': 1.28213, 'exit_price': 1.28213, 'exit_time': 1859, 'profit': -0.015601475899618385}, {'type': 'short', 'entry_price': 1.28131, 'stop_loss_price': 0, 'take_profit_price': 0, 'position_size': 78.04512569167493, 'entry_time': 1860, 'entry_bid': 1.28131, 'entry_ask': 1.28151, 'exit_price': 1.28151, 'exit_time': 1860, 'profit': -0.015609025138333265}, {'type': 'short', 'entry_price': 1.27725, 'stop_loss_price': 0, 'take_profit_price': 0, 'position_size': 78.29320806420043, 'entry_time': 1861, 'entry_bid': 1.27725, 'entry_ask': 1.27744, 'exit_price': 1.27744, 'exit_time': 1861, 'profit': -0.014875709532191228}, {'type': 'short', 'entry_price': 1.26585, 'stop_loss_price': 0, 'take_profit_price': 0, 'position_size': 78.99830153651698, 'entry_time': 1862, 'entry_bid': 1.26585, 'entry_ask': 1.26605, 'exit_price': 1.26605, 'exit_time': 1862, 'profit': -0.015799660307301656}, {'type': 'short', 'entry_price': 1.25953, 'stop_loss_price': 0, 'take_profit_price': 0, 'position_size': 79.39469484649035, 'entry_time': 1863, 'entry_bid': 1.25953, 'entry_ask': 1.25977, 'exit_price': 1.25977, 'exit_time': 1863, 'profit': -0.019054726763159113}, {'type': 'short', 'entry_price': 1.25656, 'stop_loss_price': 0, 'take_profit_price': 0, 'position_size': 79.58235181766092, 'entry_time': 1864, 'entry_bid': 1.25656, 'entry_ask': 1.25716, 'exit_price': 1.25716, 'exit_time': 1864, 'profit': -0.04774941109060896}, {'type': 'short', 'entry_price': 1.25166, 'stop_loss_price': 0, 'take_profit_price': 0, 'position_size': 79.89390089960533, 'entry_time': 1865, 'entry_bid': 1.25166, 'entry_ask': 1.25198, 'exit_price': 1.25198, 'exit_time': 1865, 'profit': -0.025566048287881532}, {'type': 'short', 'entry_price': 1.25538, 'stop_loss_price': 0, 'take_profit_price': 0, 'position_size': 79.65715560228776, 'entry_time': 1866, 'entry_bid': 1.25538, 'entry_ask': 1.25572, 'exit_price': 1.25572, 'exit_time': 1866, 'profit': -0.027083432904778392}, {'type': 'short', 'entry_price': 1.25922, 'stop_loss_price': 0, 'take_profit_price': 0, 'position_size': 79.4142405616175, 'entry_time': 1867, 'entry_bid': 1.25922, 'entry_ask': 1.25943, 'exit_price': 1.25943, 'exit_time': 1867, 'profit': -0.01667699051794313}, {'type': 'short', 'entry_price': 1.24669, 'stop_loss_price': 0, 'take_profit_price': 0, 'position_size': 80.21240244166553, 'entry_time': 1868, 'entry_bid': 1.24669, 'entry_ask': 1.24691, 'exit_price': 1.24691, 'exit_time': 1868, 'profit': -0.01764672853715735}, {'type': 'short', 'entry_price': 1.23573, 'stop_loss_price': 0, 'take_profit_price': 0, 'position_size': 80.9238264022076, 'entry_time': 1869, 'entry_bid': 1.23573, 'entry_ask': 1.23597, 'exit_price': 1.23597, 'exit_time': 1869, 'profit': -0.019421718336531276}, {'type': 'short', 'entry_price': 1.22697, 'stop_loss_price': 0, 'take_profit_price': 0, 'position_size': 81.50158520583226, 'entry_time': 1870, 'entry_bid': 1.22697, 'entry_ask': 1.22847, 'exit_price': 1.22847, 'exit_time': 1870, 'profit': -0.12225237780875302}, {'type': 'short', 'entry_price': 1.23318, 'stop_loss_price': 0, 'take_profit_price': 0, 'position_size': 81.09116268509058, 'entry_time': 1871, 'entry_bid': 1.23318, 'entry_ask': 1.23384, 'exit_price': 1.23384, 'exit_time': 1871, 'profit': -0.0535201673721683}, {'type': 'short', 'entry_price': 1.23358, 'stop_loss_price': 0, 'take_profit_price': 0, 'position_size': 81.0648681074596, 'entry_time': 1872, 'entry_bid': 1.23358, 'entry_ask': 1.234, 'exit_price': 1.234, 'exit_time': 1872, 'profit': -0.03404724460514008}, {'type': 'short', 'entry_price': 1.23603, 'stop_loss_price': 0, 'take_profit_price': 0, 'position_size': 80.90418517349903, 'entry_time': 1873, 'entry_bid': 1.23603, 'entry_ask': 1.23643, 'exit_price': 1.23643, 'exit_time': 1873, 'profit': -0.03236167406939605}, {'type': 'short', 'entry_price': 1.22728, 'stop_loss_price': 0, 'take_profit_price': 0, 'position_size': 81.48099863111923, 'entry_time': 1874, 'entry_bid': 1.22728, 'entry_ask': 1.22755, 'exit_price': 1.22755, 'exit_time': 1874, 'profit': -0.02199986963040158}, {'type': 'short', 'entry_price': 1.22424, 'stop_loss_price': 0, 'take_profit_price': 0, 'position_size': 81.68333006600012, 'entry_time': 1875, 'entry_bid': 1.22424, 'entry_ask': 1.22447, 'exit_price': 1.22447, 'exit_time': 1875, 'profit': -0.018787165915176145}, {'type': 'short', 'entry_price': 1.22683, 'stop_loss_price': 0, 'take_profit_price': 0, 'position_size': 81.51088577879575, 'entry_time': 1876, 'entry_bid': 1.22683, 'entry_ask': 1.22743, 'exit_price': 1.22743, 'exit_time': 1876, 'profit': -0.048906531467272064}, {'type': 'short', 'entry_price': 1.22369, 'stop_loss_price': 0, 'take_profit_price': 0, 'position_size': 81.72004347506314, 'entry_time': 1877, 'entry_bid': 1.22369, 'entry_ask': 1.22438, 'exit_price': 1.22438, 'exit_time': 1877, 'profit': -0.05638682999780006}, {'type': 'short', 'entry_price': 1.22532, 'stop_loss_price': 0, 'take_profit_price': 0, 'position_size': 81.61133418209121, 'entry_time': 1878, 'entry_bid': 1.22532, 'entry_ask': 1.22569, 'exit_price': 1.22569, 'exit_time': 1878, 'profit': -0.030196193647372235}, {'type': 'short', 'entry_price': 1.22059, 'stop_loss_price': 0, 'take_profit_price': 0, 'position_size': 81.92759239384232, 'entry_time': 1879, 'entry_bid': 1.22059, 'entry_ask': 1.22083, 'exit_price': 1.22083, 'exit_time': 1879, 'profit': -0.01966262217452363}, {'type': 'short', 'entry_price': 1.20911, 'stop_loss_price': 0, 'take_profit_price': 0, 'position_size': 82.70546104159259, 'entry_time': 1880, 'entry_bid': 1.20911, 'entry_ask': 1.20937, 'exit_price': 1.20937, 'exit_time': 1880, 'profit': -0.021503419870826396}, {'type': 'short', 'entry_price': 1.20454, 'stop_loss_price': 0, 'take_profit_price': 0, 'position_size': 83.01924386072692, 'entry_time': 1881, 'entry_bid': 1.20454, 'entry_ask': 1.20481, 'exit_price': 1.20481, 'exit_time': 1881, 'profit': -0.02241519584239564}, {'type': 'short', 'entry_price': 1.20516, 'stop_loss_price': 0, 'take_profit_price': 0, 'position_size': 82.97653423611803, 'entry_time': 1882, 'entry_bid': 1.20516, 'entry_ask': 1.20576, 'exit_price': 1.20576, 'exit_time': 1882, 'profit': -0.049785920541665335}, {'type': 'short', 'entry_price': 1.21094, 'stop_loss_price': 0, 'take_profit_price': 0, 'position_size': 82.58047467256843, 'entry_time': 1883, 'entry_bid': 1.21094, 'entry_ask': 1.21133, 'exit_price': 1.21133, 'exit_time': 1883, 'profit': -0.03220638512231098}, {'type': 'short', 'entry_price': 1.21116, 'stop_loss_price': 0, 'take_profit_price': 0, 'position_size': 82.56547442121602, 'entry_time': 1884, 'entry_bid': 1.21116, 'entry_ask': 1.21141, 'exit_price': 1.21141, 'exit_time': 1884, 'profit': -0.0206413686053109}, {'type': 'short', 'entry_price': 1.2017, 'stop_loss_price': 0, 'take_profit_price': 0, 'position_size': 83.21544478655238, 'entry_time': 1885, 'entry_bid': 1.2017, 'entry_ask': 1.20196, 'exit_price': 1.20196, 'exit_time': 1885, 'profit': -0.02163601564449754}, {'type': 'short', 'entry_price': 1.18428, 'stop_loss_price': 0, 'take_profit_price': 0, 'position_size': 84.43949066099233, 'entry_time': 1886, 'entry_bid': 1.18428, 'entry_ask': 1.18453, 'exit_price': 1.18453, 'exit_time': 1886, 'profit': -0.021109872665255134}, {'type': 'short', 'entry_price': 1.1544, 'stop_loss_price': 0, 'take_profit_price': 0, 'position_size': 86.62508662508662, 'entry_time': 1887, 'entry_bid': 1.1544, 'entry_ask': 1.15482, 'exit_price': 1.15482, 'exit_time': 1887, 'profit': -0.03638253638252468}, {'type': 'short', 'entry_price': 1.16069, 'stop_loss_price': 0, 'take_profit_price': 0, 'position_size': 86.15564879511325, 'entry_time': 1888, 'entry_bid': 1.16069, 'entry_ask': 1.16129, 'exit_price': 1.16129, 'exit_time': 1888, 'profit': -0.051693389277062254}, {'type': 'short', 'entry_price': 1.15636, 'stop_loss_price': 0, 'take_profit_price': 0, 'position_size': 86.47825936559549, 'entry_time': 1889, 'entry_bid': 1.15636, 'entry_ask': 1.1568, 'exit_price': 1.1568, 'exit_time': 1889, 'profit': -0.03805043412086167}, {'type': 'short', 'entry_price': 1.14961, 'stop_loss_price': 0, 'take_profit_price': 0, 'position_size': 86.98602134636964, 'entry_time': 1890, 'entry_bid': 1.14961, 'entry_ask': 1.14992, 'exit_price': 1.14992, 'exit_time': 1890, 'profit': -0.026965666617377412}, {'type': 'short', 'entry_price': 1.15376, 'stop_loss_price': 0, 'take_profit_price': 0, 'position_size': 86.67313826099016, 'entry_time': 1891, 'entry_bid': 1.15376, 'entry_ask': 1.15413, 'exit_price': 1.15413, 'exit_time': 1891, 'profit': -0.032069061156584}, {'type': 'short', 'entry_price': 1.16224, 'stop_loss_price': 0, 'take_profit_price': 0, 'position_size': 86.04074889867842, 'entry_time': 1892, 'entry_bid': 1.16224, 'entry_ask': 1.16265, 'exit_price': 1.16265, 'exit_time': 1892, 'profit': -0.03527670704846}, {'type': 'short', 'entry_price': 1.1623, 'stop_loss_price': 0, 'take_profit_price': 0, 'position_size': 86.03630732168975, 'entry_time': 1893, 'entry_bid': 1.1623, 'entry_ask': 1.16255, 'exit_price': 1.16255, 'exit_time': 1893, 'profit': -0.021509076830410517}, {'type': 'short', 'entry_price': 1.14822, 'stop_loss_price': 0, 'take_profit_price': 0, 'position_size': 87.09132396230687, 'entry_time': 1894, 'entry_bid': 1.14822, 'entry_ask': 1.14882, 'exit_price': 1.14882, 'exit_time': 1894, 'profit': -0.05225479437737837}, {'type': 'short', 'entry_price': 1.15273, 'stop_loss_price': 0, 'take_profit_price': 0, 'position_size': 86.75058339767335, 'entry_time': 1895, 'entry_bid': 1.15273, 'entry_ask': 1.15325, 'exit_price': 1.15325, 'exit_time': 1895, 'profit': -0.04511030336679673}, {'type': 'short', 'entry_price': 1.1663, 'stop_loss_price': 0, 'take_profit_price': 0, 'position_size': 85.74123295892996, 'entry_time': 1896, 'entry_bid': 1.1663, 'entry_ask': 1.16672, 'exit_price': 1.16672, 'exit_time': 1896, 'profit': -0.03601131784275804}, {'type': 'short', 'entry_price': 1.1867, 'stop_loss_price': 0, 'take_profit_price': 0, 'position_size': 84.26729586247576, 'entry_time': 1897, 'entry_bid': 1.1867, 'entry_ask': 1.18701, 'exit_price': 1.18701, 'exit_time': 1897, 'profit': -0.026122861717351512}, {'type': 'short', 'entry_price': 1.17783, 'stop_loss_price': 0, 'take_profit_price': 0, 'position_size': 84.90189585933454, 'entry_time': 1898, 'entry_bid': 1.17783, 'entry_ask': 1.1781, 'exit_price': 1.1781, 'exit_time': 1898, 'profit': -0.022923511882019687}, {'type': 'short', 'entry_price': 1.17121, 'stop_loss_price': 0, 'take_profit_price': 0, 'position_size': 85.38178465006276, 'entry_time': 1899, 'entry_bid': 1.17121, 'entry_ask': 1.17152, 'exit_price': 1.17152, 'exit_time': 1899, 'profit': -0.02646835324150327}, {'type': 'short', 'entry_price': 1.16422, 'stop_loss_price': 0, 'take_profit_price': 0, 'position_size': 85.89441858068062, 'entry_time': 1900, 'entry_bid': 1.16422, 'entry_ask': 1.16572, 'exit_price': 1.16572, 'exit_time': 1900, 'profit': -0.12884162787102582}, {'type': 'short', 'entry_price': 1.15946, 'stop_loss_price': 0, 'take_profit_price': 0, 'position_size': 86.24704603867318, 'entry_time': 1901, 'entry_bid': 1.15946, 'entry_ask': 1.16064, 'exit_price': 1.16064, 'exit_time': 1901, 'profit': -0.1017715143256308}, {'type': 'short', 'entry_price': 1.16512, 'stop_loss_price': 0, 'take_profit_price': 0, 'position_size': 85.82806921175502, 'entry_time': 1902, 'entry_bid': 1.16512, 'entry_ask': 1.16558, 'exit_price': 1.16558, 'exit_time': 1902, 'profit': -0.039480911837418205}, {'type': 'short', 'entry_price': 1.16261, 'stop_loss_price': 0, 'take_profit_price': 0, 'position_size': 86.01336647715056, 'entry_time': 1903, 'entry_bid': 1.16261, 'entry_ask': 1.16288, 'exit_price': 1.16288, 'exit_time': 1903, 'profit': -0.02322360894883}, {'type': 'short', 'entry_price': 1.16308, 'stop_loss_price': 0, 'take_profit_price': 0, 'position_size': 85.97860852219968, 'entry_time': 1904, 'entry_bid': 1.16308, 'entry_ask': 1.16337, 'exit_price': 1.16337, 'exit_time': 1904, 'profit': -0.024933796471448524}, {'type': 'short', 'entry_price': 1.14752, 'stop_loss_price': 0, 'take_profit_price': 0, 'position_size': 87.14445064138314, 'entry_time': 1905, 'entry_bid': 1.14752, 'entry_ask': 1.14779, 'exit_price': 1.14779, 'exit_time': 1905, 'profit': -0.023529001673172793}, {'type': 'short', 'entry_price': 1.15389, 'stop_loss_price': 0, 'take_profit_price': 0, 'position_size': 86.66337345847523, 'entry_time': 1906, 'entry_bid': 1.15389, 'entry_ask': 1.15449, 'exit_price': 1.15449, 'exit_time': 1906, 'profit': -0.05199802407507941}, {'type': 'short', 'entry_price': 1.15921, 'stop_loss_price': 0, 'take_profit_price': 0, 'position_size': 86.26564643162153, 'entry_time': 1907, 'entry_bid': 1.15921, 'entry_ask': 1.15972, 'exit_price': 1.15972, 'exit_time': 1907, 'profit': -0.04399547968012788}, {'type': 'short', 'entry_price': 1.16337, 'stop_loss_price': 0, 'take_profit_price': 0, 'position_size': 85.95717613484962, 'entry_time': 1908, 'entry_bid': 1.16337, 'entry_ask': 1.16398, 'exit_price': 1.16398, 'exit_time': 1908, 'profit': -0.05243387744225822}, {'type': 'short', 'entry_price': 1.16642, 'stop_loss_price': 0, 'take_profit_price': 0, 'position_size': 85.73241199567909, 'entry_time': 1909, 'entry_bid': 1.16642, 'entry_ask': 1.16676, 'exit_price': 1.16676, 'exit_time': 1909, 'profit': -0.029149020078531488}, {'type': 'short', 'entry_price': 1.17517, 'stop_loss_price': 0, 'take_profit_price': 0, 'position_size': 85.09407149603886, 'entry_time': 1910, 'entry_bid': 1.17517, 'entry_ask': 1.17536, 'exit_price': 1.17536, 'exit_time': 1910, 'profit': -0.016167873584239937}, {'type': 'short', 'entry_price': 1.17607, 'stop_loss_price': 0, 'take_profit_price': 0, 'position_size': 85.02895235827799, 'entry_time': 1911, 'entry_bid': 1.17607, 'entry_ask': 1.17636, 'exit_price': 1.17636, 'exit_time': 1911, 'profit': -0.024658396183911118}, {'type': 'short', 'entry_price': 1.17578, 'stop_loss_price': 0, 'take_profit_price': 0, 'position_size': 85.04992430556736, 'entry_time': 1912, 'entry_bid': 1.17578, 'entry_ask': 1.17638, 'exit_price': 1.17638, 'exit_time': 1912, 'profit': -0.05102995458333479}, {'type': 'short', 'entry_price': 1.17636, 'stop_loss_price': 0, 'take_profit_price': 0, 'position_size': 85.0079907511306, 'entry_time': 1913, 'entry_bid': 1.17636, 'entry_ask': 1.17686, 'exit_price': 1.17686, 'exit_time': 1913, 'profit': -0.04250399537556062}, {'type': 'short', 'entry_price': 1.18011, 'stop_loss_price': 0, 'take_profit_price': 0, 'position_size': 84.73786341951174, 'entry_time': 1914, 'entry_bid': 1.18011, 'entry_ask': 1.18065, 'exit_price': 1.18065, 'exit_time': 1914, 'profit': -0.045758446246535064}, {'type': 'short', 'entry_price': 1.19214, 'stop_loss_price': 0, 'take_profit_price': 0, 'position_size': 83.88276544701125, 'entry_time': 1915, 'entry_bid': 1.19214, 'entry_ask': 1.19251, 'exit_price': 1.19251, 'exit_time': 1915, 'profit': -0.03103662321539261}, {'type': 'short', 'entry_price': 1.18345, 'stop_loss_price': 0, 'take_profit_price': 0, 'position_size': 84.49871139465124, 'entry_time': 1916, 'entry_bid': 1.18345, 'entry_ask': 1.18375, 'exit_price': 1.18375, 'exit_time': 1916, 'profit': -0.02534961341841134}, {'type': 'short', 'entry_price': 1.18343, 'stop_loss_price': 0, 'take_profit_price': 0, 'position_size': 84.50013942523006, 'entry_time': 1917, 'entry_bid': 1.18343, 'entry_ask': 1.1837, 'exit_price': 1.1837, 'exit_time': 1917, 'profit': -0.02281503764481148}, {'type': 'short', 'entry_price': 1.18771, 'stop_loss_price': 0, 'take_profit_price': 0, 'position_size': 84.19563698209159, 'entry_time': 1918, 'entry_bid': 1.18771, 'entry_ask': 1.18831, 'exit_price': 1.18831, 'exit_time': 1918, 'profit': -0.05051738218924939}, {'type': 'short', 'entry_price': 1.18647, 'stop_loss_price': 0, 'take_profit_price': 0, 'position_size': 84.2836312759699, 'entry_time': 1919, 'entry_bid': 1.18647, 'entry_ask': 1.18695, 'exit_price': 1.18695, 'exit_time': 1919, 'profit': -0.04045614301246858}, {'type': 'short', 'entry_price': 1.18536, 'stop_loss_price': 0, 'take_profit_price': 0, 'position_size': 84.36255652291287, 'entry_time': 1920, 'entry_bid': 1.18536, 'entry_ask': 1.18592, 'exit_price': 1.18592, 'exit_time': 1920, 'profit': -0.04724303165284099}, {'type': 'short', 'entry_price': 1.19197, 'stop_loss_price': 0, 'take_profit_price': 0, 'position_size': 83.89472889418359, 'entry_time': 1921, 'entry_bid': 1.19197, 'entry_ask': 1.19236, 'exit_price': 1.19236, 'exit_time': 1921, 'profit': -0.032718944268741036}, {'type': 'short', 'entry_price': 1.19864, 'stop_loss_price': 0, 'take_profit_price': 0, 'position_size': 83.4278849362611, 'entry_time': 1922, 'entry_bid': 1.19864, 'entry_ask': 1.19894, 'exit_price': 1.19894, 'exit_time': 1922, 'profit': -0.025028365480875572}, {'type': 'short', 'entry_price': 1.21706, 'stop_loss_price': 0, 'take_profit_price': 0, 'position_size': 82.16521781999244, 'entry_time': 1923, 'entry_bid': 1.21706, 'entry_ask': 1.21736, 'exit_price': 1.21736, 'exit_time': 1923, 'profit': -0.024649565345995016}, {'type': 'short', 'entry_price': 1.22002, 'stop_loss_price': 0, 'take_profit_price': 0, 'position_size': 81.96586941197684, 'entry_time': 1924, 'entry_bid': 1.22002, 'entry_ask': 1.22062, 'exit_price': 1.22062, 'exit_time': 1924, 'profit': -0.04917952164718069}, {'type': 'short', 'entry_price': 1.21768, 'stop_loss_price': 0, 'take_profit_price': 0, 'position_size': 82.12338216937125, 'entry_time': 1925, 'entry_bid': 1.21768, 'entry_ask': 1.21811, 'exit_price': 1.21811, 'exit_time': 1925, 'profit': -0.035313054332823925}, {'type': 'short', 'entry_price': 1.22502, 'stop_loss_price': 0, 'take_profit_price': 0, 'position_size': 81.63132030497461, 'entry_time': 1926, 'entry_bid': 1.22502, 'entry_ask': 1.22555, 'exit_price': 1.22555, 'exit_time': 1926, 'profit': -0.04326459976162996}, {'type': 'short', 'entry_price': 1.216, 'stop_loss_price': 0, 'take_profit_price': 0, 'position_size': 82.23684210526316, 'entry_time': 1927, 'entry_bid': 1.216, 'entry_ask': 1.21637, 'exit_price': 1.21637, 'exit_time': 1927, 'profit': -0.030427631578945846}, {'type': 'short', 'entry_price': 1.22489, 'stop_loss_price': 0, 'take_profit_price': 0, 'position_size': 81.63998399856314, 'entry_time': 1928, 'entry_bid': 1.22489, 'entry_ask': 1.22521, 'exit_price': 1.22521, 'exit_time': 1928, 'profit': -0.026124794879530077}, {'type': 'short', 'entry_price': 1.24107, 'stop_loss_price': 0, 'take_profit_price': 0, 'position_size': 80.57563231727461, 'entry_time': 1929, 'entry_bid': 1.24107, 'entry_ask': 1.24137, 'exit_price': 1.24137, 'exit_time': 1929, 'profit': -0.024172689695197612}, {'type': 'short', 'entry_price': 1.24496, 'stop_loss_price': 0, 'take_profit_price': 0, 'position_size': 80.32386582701452, 'entry_time': 1930, 'entry_bid': 1.24496, 'entry_ask': 1.24646, 'exit_price': 1.24646, 'exit_time': 1930, 'profit': -0.1204857987405085}, {'type': 'short', 'entry_price': 1.24332, 'stop_loss_price': 0, 'take_profit_price': 0, 'position_size': 80.42981694173665, 'entry_time': 1931, 'entry_bid': 1.24332, 'entry_ask': 1.2438, 'exit_price': 1.2438, 'exit_time': 1931, 'profit': -0.03860631213203648}, {'type': 'short', 'entry_price': 1.23937, 'stop_loss_price': 0, 'take_profit_price': 0, 'position_size': 80.68615506265279, 'entry_time': 1932, 'entry_bid': 1.23937, 'entry_ask': 1.23974, 'exit_price': 1.23974, 'exit_time': 1932, 'profit': -0.029853877373180036}, {'type': 'short', 'entry_price': 1.23858, 'stop_loss_price': 0, 'take_profit_price': 0, 'position_size': 80.7376188861438, 'entry_time': 1933, 'entry_bid': 1.23858, 'entry_ask': 1.23882, 'exit_price': 1.23882, 'exit_time': 1933, 'profit': -0.019377028532675963}, {'type': 'short', 'entry_price': 1.23975, 'stop_loss_price': 0, 'take_profit_price': 0, 'position_size': 80.66142367412786, 'entry_time': 1934, 'entry_bid': 1.23975, 'entry_ask': 1.24001, 'exit_price': 1.24001, 'exit_time': 1934, 'profit': -0.020971970155285263}, {'type': 'short', 'entry_price': 1.23863, 'stop_loss_price': 0, 'take_profit_price': 0, 'position_size': 80.73435973616012, 'entry_time': 1935, 'entry_bid': 1.23863, 'entry_ask': 1.23887, 'exit_price': 1.23887, 'exit_time': 1935, 'profit': -0.019376246336679878}, {'type': 'short', 'entry_price': 1.24199, 'stop_loss_price': 0, 'take_profit_price': 0, 'position_size': 80.51594618314158, 'entry_time': 1936, 'entry_bid': 1.24199, 'entry_ask': 1.24259, 'exit_price': 1.24259, 'exit_time': 1936, 'profit': -0.04830956770989751}, {'type': 'short', 'entry_price': 1.23244, 'stop_loss_price': 0, 'take_profit_price': 0, 'position_size': 81.13985265002759, 'entry_time': 1937, 'entry_bid': 1.23244, 'entry_ask': 1.23284, 'exit_price': 1.23284, 'exit_time': 1937, 'profit': -0.03245594106000746}, {'type': 'short', 'entry_price': 1.23335, 'stop_loss_price': 0, 'take_profit_price': 0, 'position_size': 81.07998540560263, 'entry_time': 1938, 'entry_bid': 1.23335, 'entry_ask': 1.23371, 'exit_price': 1.23371, 'exit_time': 1938, 'profit': -0.029188794746028136}, {'type': 'short', 'entry_price': 1.23097, 'stop_loss_price': 0, 'take_profit_price': 0, 'position_size': 81.23674825544084, 'entry_time': 1939, 'entry_bid': 1.23097, 'entry_ask': 1.23142, 'exit_price': 1.23142, 'exit_time': 1939, 'profit': -0.036556536714953375}, {'type': 'short', 'entry_price': 1.23883, 'stop_loss_price': 0, 'take_profit_price': 0, 'position_size': 80.7213257670544, 'entry_time': 1940, 'entry_bid': 1.23883, 'entry_ask': 1.23914, 'exit_price': 1.23914, 'exit_time': 1940, 'profit': -0.02502361098777156}, {'type': 'short', 'entry_price': 1.23963, 'stop_loss_price': 0, 'take_profit_price': 0, 'position_size': 80.66923194824263, 'entry_time': 1941, 'entry_bid': 1.23963, 'entry_ask': 1.23988, 'exit_price': 1.23988, 'exit_time': 1941, 'profit': -0.020167307987067392}, {'type': 'short', 'entry_price': 1.24128, 'stop_loss_price': 0, 'take_profit_price': 0, 'position_size': 80.56200051559681, 'entry_time': 1942, 'entry_bid': 1.24128, 'entry_ask': 1.24188, 'exit_price': 1.24188, 'exit_time': 1942, 'profit': -0.04833720030937065}, {'type': 'short', 'entry_price': 1.24142, 'stop_loss_price': 0, 'take_profit_price': 0, 'position_size': 80.55291521000146, 'entry_time': 1943, 'entry_bid': 1.24142, 'entry_ask': 1.24189, 'exit_price': 1.24189, 'exit_time': 1943, 'profit': -0.03785987014869831}, {'type': 'short', 'entry_price': 1.23753, 'stop_loss_price': 0, 'take_profit_price': 0, 'position_size': 80.80612187179301, 'entry_time': 1944, 'entry_bid': 1.23753, 'entry_ask': 1.23787, 'exit_price': 1.23787, 'exit_time': 1944, 'profit': -0.027474081436410187}, {'type': 'short', 'entry_price': 1.23691, 'stop_loss_price': 0, 'take_profit_price': 0, 'position_size': 80.84662586606949, 'entry_time': 1945, 'entry_bid': 1.23691, 'entry_ask': 1.23719, 'exit_price': 1.23719, 'exit_time': 1945, 'profit': -0.022637055242504145}, {'type': 'short', 'entry_price': 1.23835, 'stop_loss_price': 0, 'take_profit_price': 0, 'position_size': 80.7526143658901, 'entry_time': 1946, 'entry_bid': 1.23835, 'entry_ask': 1.23857, 'exit_price': 1.23857, 'exit_time': 1946, 'profit': -0.017765575160486692}, {'type': 'short', 'entry_price': 1.23939, 'stop_loss_price': 0, 'take_profit_price': 0, 'position_size': 80.6848530325402, 'entry_time': 1947, 'entry_bid': 1.23939, 'entry_ask': 1.23962, 'exit_price': 1.23962, 'exit_time': 1947, 'profit': -0.01855751619748041}, {'type': 'short', 'entry_price': 1.23698, 'stop_loss_price': 0, 'take_profit_price': 0, 'position_size': 80.84205080114472, 'entry_time': 1948, 'entry_bid': 1.23698, 'entry_ask': 1.23758, 'exit_price': 1.23758, 'exit_time': 1948, 'profit': -0.04850523048068149}, {'type': 'short', 'entry_price': 1.2388, 'stop_loss_price': 0, 'take_profit_price': 0, 'position_size': 80.72328059412335, 'entry_time': 1949, 'entry_bid': 1.2388, 'entry_ask': 1.23916, 'exit_price': 1.23916, 'exit_time': 1949, 'profit': -0.029060381013895544}, {'type': 'short', 'entry_price': 1.23878, 'stop_loss_price': 0, 'take_profit_price': 0, 'position_size': 80.72458386477018, 'entry_time': 1950, 'entry_bid': 1.23878, 'entry_ask': 1.23907, 'exit_price': 1.23907, 'exit_time': 1950, 'profit': -0.023410129320775398}, {'type': 'short', 'entry_price': 1.24232, 'stop_loss_price': 0, 'take_profit_price': 0, 'position_size': 80.49455856784081, 'entry_time': 1951, 'entry_bid': 1.24232, 'entry_ask': 1.24255, 'exit_price': 1.24255, 'exit_time': 1951, 'profit': -0.01851374847059956}, {'type': 'short', 'entry_price': 1.24138, 'stop_loss_price': 0, 'take_profit_price': 0, 'position_size': 80.555510802494, 'entry_time': 1952, 'entry_bid': 1.24138, 'entry_ask': 1.24166, 'exit_price': 1.24166, 'exit_time': 1952, 'profit': -0.02255554302470299}, {'type': 'short', 'entry_price': 1.23643, 'stop_loss_price': 0, 'take_profit_price': 0, 'position_size': 80.87801169496049, 'entry_time': 1953, 'entry_bid': 1.23643, 'entry_ask': 1.23667, 'exit_price': 1.23667, 'exit_time': 1953, 'profit': -0.019410722806791972}, {'type': 'short', 'entry_price': 1.23933, 'stop_loss_price': 0, 'take_profit_price': 0, 'position_size': 80.68875924894903, 'entry_time': 1954, 'entry_bid': 1.23933, 'entry_ask': 1.23993, 'exit_price': 1.23993, 'exit_time': 1954, 'profit': -0.048413255549364084}, {'type': 'short', 'entry_price': 1.2384, 'stop_loss_price': 0, 'take_profit_price': 0, 'position_size': 80.74935400516796, 'entry_time': 1955, 'entry_bid': 1.2384, 'entry_ask': 1.23873, 'exit_price': 1.23873, 'exit_time': 1955, 'profit': -0.02664728682171863}, {'type': 'short', 'entry_price': 1.23815, 'stop_loss_price': 0, 'take_profit_price': 0, 'position_size': 80.76565844203044, 'entry_time': 1956, 'entry_bid': 1.23815, 'entry_ask': 1.23846, 'exit_price': 1.23846, 'exit_time': 1956, 'profit': -0.025037354117014125}, {'type': 'short', 'entry_price': 1.23, 'stop_loss_price': 0, 'take_profit_price': 0, 'position_size': 81.30081300813008, 'entry_time': 1957, 'entry_bid': 1.23, 'entry_ask': 1.23028, 'exit_price': 1.23028, 'exit_time': 1957, 'profit': -0.022764227642281136}, {'type': 'short', 'entry_price': 1.22503, 'stop_loss_price': 0, 'take_profit_price': 0, 'position_size': 81.63065394316874, 'entry_time': 1958, 'entry_bid': 1.22503, 'entry_ask': 1.22528, 'exit_price': 1.22528, 'exit_time': 1958, 'profit': -0.020407663485780873}, {'type': 'short', 'entry_price': 1.22256, 'stop_loss_price': 0, 'take_profit_price': 0, 'position_size': 81.79557649522313, 'entry_time': 1959, 'entry_bid': 1.22256, 'entry_ask': 1.22281, 'exit_price': 1.22281, 'exit_time': 1959, 'profit': -0.02044889412379445}, {'type': 'short', 'entry_price': 1.22628, 'stop_loss_price': 0, 'take_profit_price': 0, 'position_size': 81.54744430309555, 'entry_time': 1960, 'entry_bid': 1.22628, 'entry_ask': 1.22778, 'exit_price': 1.22778, 'exit_time': 1960, 'profit': -0.12232116645464795}, {'type': 'short', 'entry_price': 1.2243, 'stop_loss_price': 0, 'take_profit_price': 0, 'position_size': 81.67932696234584, 'entry_time': 1961, 'entry_bid': 1.2243, 'entry_ask': 1.22462, 'exit_price': 1.22462, 'exit_time': 1961, 'profit': -0.02613738462795867}, {'type': 'short', 'entry_price': 1.22221, 'stop_loss_price': 0, 'take_profit_price': 0, 'position_size': 81.8190000081819, 'entry_time': 1962, 'entry_bid': 1.22221, 'entry_ask': 1.2225, 'exit_price': 1.2225, 'exit_time': 1962, 'profit': -0.02372751000236469}, {'type': 'short', 'entry_price': 1.23093, 'stop_loss_price': 0, 'take_profit_price': 0, 'position_size': 81.23938810492879, 'entry_time': 1963, 'entry_bid': 1.23093, 'entry_ask': 1.2312, 'exit_price': 1.2312, 'exit_time': 1963, 'profit': -0.021934634788330163}, {'type': 'short', 'entry_price': 1.2291, 'stop_loss_price': 0, 'take_profit_price': 0, 'position_size': 81.36034496786266, 'entry_time': 1964, 'entry_bid': 1.2291, 'entry_ask': 1.22937, 'exit_price': 1.22937, 'exit_time': 1964, 'profit': -0.021967293141322303}, {'type': 'short', 'entry_price': 1.23045, 'stop_loss_price': 0, 'take_profit_price': 0, 'position_size': 81.27107968629363, 'entry_time': 1965, 'entry_bid': 1.23045, 'entry_ask': 1.23065, 'exit_price': 1.23065, 'exit_time': 1965, 'profit': -0.016254215937256938}, {'type': 'short', 'entry_price': 1.22288, 'stop_loss_price': 0, 'take_profit_price': 0, 'position_size': 81.77417244537486, 'entry_time': 1966, 'entry_bid': 1.22288, 'entry_ask': 1.22348, 'exit_price': 1.22348, 'exit_time': 1966, 'profit': -0.04906450346721951}, {'type': 'short', 'entry_price': 1.22277, 'stop_loss_price': 0, 'take_profit_price': 0, 'position_size': 81.78152882389983, 'entry_time': 1967, 'entry_bid': 1.22277, 'entry_ask': 1.22309, 'exit_price': 1.22309, 'exit_time': 1967, 'profit': -0.02617008922365596}, {'type': 'short', 'entry_price': 1.22783, 'stop_loss_price': 0, 'take_profit_price': 0, 'position_size': 81.44449964571643, 'entry_time': 1968, 'entry_bid': 1.22783, 'entry_ask': 1.22811, 'exit_price': 1.22811, 'exit_time': 1968, 'profit': -0.022804459900805325}, {'type': 'short', 'entry_price': 1.23267, 'stop_loss_price': 0, 'take_profit_price': 0, 'position_size': 81.1247130213277, 'entry_time': 1969, 'entry_bid': 1.23267, 'entry_ask': 1.23296, 'exit_price': 1.23296, 'exit_time': 1969, 'profit': -0.02352616677619505}, {'type': 'short', 'entry_price': 1.23683, 'stop_loss_price': 1.2422412, 'take_profit_price': 1.22037, 'position_size': 18480.18923713796, 'entry_time': 1970, 'entry_bid': 1.23683, 'entry_ask': 1.23705, 'exit_price': 1.24392, 'exit_time': 1982, 'profit': -131.0245416913048}, {'type': 'short', 'entry_price': 1.24483, 'stop_loss_price': 0, 'take_profit_price': 0, 'position_size': 80.33225420338519, 'entry_time': 1983, 'entry_bid': 1.24483, 'entry_ask': 1.24505, 'exit_price': 1.24505, 'exit_time': 1983, 'profit': -0.01767309592473566}, {'type': 'short', 'entry_price': 1.24557, 'stop_loss_price': 0, 'take_profit_price': 0, 'position_size': 80.28452836853809, 'entry_time': 1984, 'entry_bid': 1.24557, 'entry_ask': 1.24617, 'exit_price': 1.24617, 'exit_time': 1984, 'profit': -0.04817071702111755}, {'type': 'short', 'entry_price': 1.24466, 'stop_loss_price': 0, 'take_profit_price': 0, 'position_size': 80.34322626259379, 'entry_time': 1985, 'entry_bid': 1.24466, 'entry_ask': 1.24577, 'exit_price': 1.24577, 'exit_time': 1985, 'profit': -0.08918098115147463}, {'type': 'short', 'entry_price': 1.24609, 'stop_loss_price': 0, 'take_profit_price': 0, 'position_size': 80.25102520684702, 'entry_time': 1986, 'entry_bid': 1.24609, 'entry_ask': 1.2466, 'exit_price': 1.2466, 'exit_time': 1986, 'profit': -0.04092802285549282}, {'type': 'short', 'entry_price': 1.24702, 'stop_loss_price': 0, 'take_profit_price': 0, 'position_size': 80.19117576301903, 'entry_time': 1987, 'entry_bid': 1.24702, 'entry_ask': 1.24758, 'exit_price': 1.24758, 'exit_time': 1987, 'profit': -0.044907058427282154}, {'type': 'short', 'entry_price': 1.24794, 'stop_loss_price': 0, 'take_profit_price': 0, 'position_size': 80.13205763097585, 'entry_time': 1988, 'entry_bid': 1.24794, 'entry_ask': 1.24837, 'exit_price': 1.24837, 'exit_time': 1988, 'profit': -0.03445678478131404}, {'type': 'short', 'entry_price': 1.24768, 'stop_loss_price': 0, 'take_profit_price': 0, 'position_size': 80.14875609130547, 'entry_time': 1989, 'entry_bid': 1.24768, 'entry_ask': 1.24844, 'exit_price': 1.24844, 'exit_time': 1989, 'profit': -0.060913054629399686}, {'type': 'short', 'entry_price': 1.24469, 'stop_loss_price': 0, 'take_profit_price': 0, 'position_size': 80.34128979906643, 'entry_time': 1990, 'entry_bid': 1.24469, 'entry_ask': 1.24619, 'exit_price': 1.24619, 'exit_time': 1990, 'profit': -0.12051193469858637}, {'type': 'short', 'entry_price': 1.24586, 'stop_loss_price': 0, 'take_profit_price': 0, 'position_size': 80.26584046361549, 'entry_time': 1991, 'entry_bid': 1.24586, 'entry_ask': 1.24614, 'exit_price': 1.24614, 'exit_time': 1991, 'profit': -0.02247443532981699}, {'type': 'short', 'entry_price': 1.24723, 'stop_loss_price': 0, 'take_profit_price': 0, 'position_size': 80.17767372497454, 'entry_time': 1992, 'entry_bid': 1.24723, 'entry_ask': 1.24752, 'exit_price': 1.24752, 'exit_time': 1992, 'profit': -0.023251525380234714}, {'type': 'short', 'entry_price': 1.2512, 'stop_loss_price': 0, 'take_profit_price': 0, 'position_size': 79.923273657289, 'entry_time': 1993, 'entry_bid': 1.2512, 'entry_ask': 1.25149, 'exit_price': 1.25149, 'exit_time': 1993, 'profit': -0.023177749360605935}, {'type': 'short', 'entry_price': 1.24848, 'stop_loss_price': 0, 'take_profit_price': 0, 'position_size': 80.09739843649878, 'entry_time': 1994, 'entry_bid': 1.24848, 'entry_ask': 1.24872, 'exit_price': 1.24872, 'exit_time': 1994, 'profit': -0.019223375624761146}, {'type': 'short', 'entry_price': 1.25178, 'stop_loss_price': 0, 'take_profit_price': 0, 'position_size': 79.88624199140425, 'entry_time': 1995, 'entry_bid': 1.25178, 'entry_ask': 1.25196, 'exit_price': 1.25196, 'exit_time': 1995, 'profit': -0.014379523558458276}, {'type': 'short', 'entry_price': 1.25001, 'stop_loss_price': 0, 'take_profit_price': 0, 'position_size': 79.99936000511995, 'entry_time': 1996, 'entry_bid': 1.25001, 'entry_ask': 1.25061, 'exit_price': 1.25061, 'exit_time': 1996, 'profit': -0.04799961600306669}, {'type': 'short', 'entry_price': 1.25267, 'stop_loss_price': 0, 'take_profit_price': 0, 'position_size': 79.82948422170244, 'entry_time': 1997, 'entry_bid': 1.25267, 'entry_ask': 1.25295, 'exit_price': 1.25295, 'exit_time': 1997, 'profit': -0.02235225558208131}, {'type': 'short', 'entry_price': 1.2562, 'stop_loss_price': 0, 'take_profit_price': 0, 'position_size': 79.60515841426525, 'entry_time': 1998, 'entry_bid': 1.2562, 'entry_ask': 1.25654, 'exit_price': 1.25654, 'exit_time': 1998, 'profit': -0.02706575386085074}, {'type': 'short', 'entry_price': 1.25601, 'stop_loss_price': 0, 'take_profit_price': 0, 'position_size': 79.61720049999602, 'entry_time': 1999, 'entry_bid': 1.25601, 'entry_ask': 1.25618, 'exit_price': 1.25618, 'exit_time': 1999, 'profit': -0.0135349240849996}]\n"
     ]
    }
   ],
   "source": [
    "\n",
    "for i in range(len(df)):\n",
    "    if df['EMASignal'][i] == 2 and position is None:  # Uptrend signal for long position\n",
    "        entry_price = df['ask_c'][i]  # Buy at ask price\n",
    "        stop_loss_price = SL[i]  # Use predefined stop-loss level\n",
    "        take_profit_price = TP[i]  # Use predefined take-profit level\n",
    "        stop_loss_distance = abs(entry_price - stop_loss_price)\n",
    "        position_size = (account_balance * risk_per_trade) / stop_loss_distance\n",
    "        position = 'long'\n",
    "        \n",
    "        # Add to open trades\n",
    "        open_trades.append({\n",
    "            'type': 'long',\n",
    "            'entry_price': entry_price,\n",
    "            'stop_loss_price': stop_loss_price,\n",
    "            'take_profit_price': take_profit_price,\n",
    "            'position_size': position_size,\n",
    "            'entry_time': df.index[i],  # Store the time of the trade\n",
    "            'entry_ask': entry_price,  # Record entry ask price\n",
    "            'entry_bid': df['bid_c'][i]  # Record corresponding entry bid price\n",
    "        })\n",
    "\n",
    "    elif df['EMASignal'][i] == 1 and position is None:  # Downtrend signal for short position\n",
    "        entry_price = df['bid_c'][i]  # Sell at bid price\n",
    "        stop_loss_price = SL[i]  # Use predefined stop-loss level\n",
    "        take_profit_price = TP[i]  # Use predefined take-profit level\n",
    "        stop_loss_distance = abs(entry_price - stop_loss_price)\n",
    "        position_size = (account_balance * risk_per_trade) / stop_loss_distance\n",
    "        position = 'short'\n",
    "        \n",
    "        # Add to open trades\n",
    "        open_trades.append({\n",
    "            'type': 'short',\n",
    "            'entry_price': entry_price,\n",
    "            'stop_loss_price': stop_loss_price,\n",
    "            'take_profit_price': take_profit_price,\n",
    "            'position_size': position_size,\n",
    "            'entry_time': df.index[i],  # Store the time of the trade\n",
    "            'entry_bid': entry_price,  # Record entry bid price\n",
    "            'entry_ask': df['ask_c'][i]  # Record corresponding entry ask price\n",
    "        })\n",
    "\n",
    "    # Check for exiting long positions\n",
    "    if position == 'long':\n",
    "        if df['bid_o'][i] >= take_profit_price or df['bid_o'][i] <= stop_loss_price:\n",
    "            exit_price = df['bid_o'][i]  # Sell at bid price to close long\n",
    "            trade_profit = (exit_price - entry_price) * position_size  # Calculate profit\n",
    "            profit += trade_profit\n",
    "            \n",
    "            # Move trade from open to closed\n",
    "            trade = open_trades.pop()\n",
    "            trade['exit_price'] = exit_price\n",
    "            trade['exit_time'] = df.index[i]  # Store the time of exit\n",
    "            trade['profit'] = trade_profit\n",
    "            closed_trades.append(trade)\n",
    "            \n",
    "            position = None  # Reset position\n",
    "\n",
    "    # Check for exiting short positions\n",
    "    elif position == 'short':\n",
    "        if df['ask_c'][i] <= take_profit_price or df['ask_c'][i] >= stop_loss_price:\n",
    "            exit_price = df['ask_c'][i]  # Buy at ask price to close short\n",
    "            trade_profit = (entry_price - exit_price) * position_size  # Calculate profit\n",
    "            profit += trade_profit\n",
    "            \n",
    "            # Move trade from open to closed\n",
    "            trade = open_trades.pop()\n",
    "            trade['exit_price'] = exit_price\n",
    "            trade['exit_time'] = df.index[i]  # Store the time of exit\n",
    "            trade['profit'] = trade_profit\n",
    "            closed_trades.append(trade)\n",
    "            \n",
    "            position = None  # Reset position\n",
    "\n",
    "# Final Profit Output\n",
    "print(f\"Total Profit: {profit}\")\n",
    "print(f\"Closed Trades: {closed_trades}\")\n"
   ]
  },
  {
   "cell_type": "code",
   "execution_count": null,
   "metadata": {},
   "outputs": [],
   "source": []
  }
 ],
 "metadata": {
  "kernelspec": {
   "display_name": "venv",
   "language": "python",
   "name": "python3"
  },
  "language_info": {
   "codemirror_mode": {
    "name": "ipython",
    "version": 3
   },
   "file_extension": ".py",
   "mimetype": "text/x-python",
   "name": "python",
   "nbconvert_exporter": "python",
   "pygments_lexer": "ipython3",
   "version": "3.9.13"
  }
 },
 "nbformat": 4,
 "nbformat_minor": 2
}
