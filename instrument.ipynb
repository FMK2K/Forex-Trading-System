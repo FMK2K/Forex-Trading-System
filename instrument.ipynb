{
 "cells": [
  {
   "cell_type": "code",
   "execution_count": 1,
   "metadata": {},
   "outputs": [],
   "source": [
    "import requests\n",
    "import defs\n",
    "import importlib\n",
    "import pandas as pd"
   ]
  },
  {
   "cell_type": "code",
   "execution_count": 2,
   "metadata": {},
   "outputs": [],
   "source": [
    "session = requests.Session()"
   ]
  },
  {
   "cell_type": "code",
   "execution_count": 3,
   "metadata": {},
   "outputs": [],
   "source": [
    "instrument = \"EUR_USD\"\n",
    "count = 10\n",
    "granularity = \"H1\""
   ]
  },
  {
   "cell_type": "code",
   "execution_count": 8,
   "metadata": {},
   "outputs": [
    {
     "name": "stdout",
     "output_type": "stream",
     "text": [
      "https://api-fxpractice.oanda.com/v3/accounts/101-001-29242600-001/instruments\n"
     ]
    }
   ],
   "source": [
    "# Reload the defs module to ensure the latest changes are reflected\n",
    "importlib.reload(defs)\n",
    "\n",
    "url = f\"{defs.OANDA_URL}/accounts/{defs.ACCOUNT_ID}/instruments\"\n",
    "print(url)"
   ]
  },
  {
   "cell_type": "code",
   "execution_count": 5,
   "metadata": {},
   "outputs": [
    {
     "name": "stdout",
     "output_type": "stream",
     "text": [
      "{'count': 10, 'granularity': 'H1', 'price': 'MBA'}\n"
     ]
    }
   ],
   "source": [
    "#Dictionary full of our parameters\n",
    "param = dict(\n",
    "    count = count,\n",
    "    granularity = granularity,\n",
    "    price = 'MBA'\n",
    ")\n",
    "print(param)"
   ]
  },
  {
   "cell_type": "code",
   "execution_count": 9,
   "metadata": {},
   "outputs": [],
   "source": [
    "response = session.get(url, params=None, headers= defs.SECURE_HEADER)"
   ]
  },
  {
   "cell_type": "code",
   "execution_count": 12,
   "metadata": {},
   "outputs": [],
   "source": [
    "response.status_code"
   ]
  },
  {
   "cell_type": "code",
   "execution_count": 14,
   "metadata": {},
   "outputs": [
    {
     "data": {
      "text/plain": [
       "dict_keys(['instruments', 'lastTransactionID'])"
      ]
     },
     "execution_count": 14,
     "metadata": {},
     "output_type": "execute_result"
    }
   ],
   "source": [
    "data = response.json()\n",
    "data.keys()"
   ]
  },
  {
   "cell_type": "code",
   "execution_count": 17,
   "metadata": {},
   "outputs": [
    {
     "data": {
      "text/plain": [
       "68"
      ]
     },
     "execution_count": 17,
     "metadata": {},
     "output_type": "execute_result"
    }
   ],
   "source": [
    "instruments = data['instruments']\n",
    "len(instruments)"
   ]
  },
  {
   "cell_type": "code",
   "execution_count": 18,
   "metadata": {},
   "outputs": [
    {
     "data": {
      "text/plain": [
       "dict_keys(['name', 'type', 'displayName', 'pipLocation', 'displayPrecision', 'tradeUnitsPrecision', 'minimumTradeSize', 'maximumTrailingStopDistance', 'minimumTrailingStopDistance', 'maximumPositionSize', 'maximumOrderUnits', 'marginRate', 'guaranteedStopLossOrderMode', 'tags', 'financing'])"
      ]
     },
     "execution_count": 18,
     "metadata": {},
     "output_type": "execute_result"
    }
   ],
   "source": [
    "instruments[0].keys()"
   ]
  },
  {
   "cell_type": "code",
   "execution_count": 19,
   "metadata": {},
   "outputs": [],
   "source": [
    "instrument_data = []\n",
    "for item in instruments:\n",
    "    new_ob = dict(\n",
    "        name = item['name'],\n",
    "        type = item['type'],\n",
    "        displayName = item['displayName'],\n",
    "        pipLocation = item['pipLocation'],\n",
    "        displayPrecision = item['displayPrecision'],\n",
    "        tradeUnitsPrecision = item['tradeUnitsPrecision'],\n",
    "        minimumTradeSize = item['minimumTradeSize'],\n",
    "        maximumTrailingStopDistance = item['maximumTrailingStopDistance'],\n",
    "        minimumTrailingStopDistance = item['minimumTrailingStopDistance'],\n",
    "        maximumPositionSize = item['maximumPositionSize'],\n",
    "        maximumOrderUnits = item['maximumOrderUnits'],\n",
    "        marginRate = item['marginRate'],\n",
    "        guaranteedStopLossOrderMode = item['guaranteedStopLossOrderMode'],\n",
    "        tags = item['tags'],\n",
    "        financing = item['financing']\n",
    "    )\n",
    "    instrument_data.append(new_ob)"
   ]
  },
  {
   "cell_type": "code",
   "execution_count": 21,
   "metadata": {},
   "outputs": [
    {
     "name": "stdout",
     "output_type": "stream",
     "text": [
      "{'name': 'NZD_HKD', 'type': 'CURRENCY', 'displayName': 'NZD/HKD', 'pipLocation': -4, 'displayPrecision': 5, 'tradeUnitsPrecision': 0, 'minimumTradeSize': '1', 'maximumTrailingStopDistance': '1.00000', 'minimumTrailingStopDistance': '0.00050', 'maximumPositionSize': '0', 'maximumOrderUnits': '100000000', 'marginRate': '0.1', 'guaranteedStopLossOrderMode': 'DISABLED', 'tags': [{'type': 'BRAIN_ASSET_CLASS', 'name': 'FX'}, {'type': 'ASSET_CLASS', 'name': 'CURRENCY'}], 'financing': {'longRate': '-0.0029', 'shortRate': '-0.0298', 'financingDaysOfWeek': [{'dayOfWeek': 'MONDAY', 'daysCharged': 1}, {'dayOfWeek': 'TUESDAY', 'daysCharged': 1}, {'dayOfWeek': 'WEDNESDAY', 'daysCharged': 1}, {'dayOfWeek': 'THURSDAY', 'daysCharged': 1}, {'dayOfWeek': 'FRIDAY', 'daysCharged': 1}, {'dayOfWeek': 'SATURDAY', 'daysCharged': 0}, {'dayOfWeek': 'SUNDAY', 'daysCharged': 0}]}}\n",
      "{'name': 'CAD_SGD', 'type': 'CURRENCY', 'displayName': 'CAD/SGD', 'pipLocation': -4, 'displayPrecision': 5, 'tradeUnitsPrecision': 0, 'minimumTradeSize': '1', 'maximumTrailingStopDistance': '1.00000', 'minimumTrailingStopDistance': '0.00050', 'maximumPositionSize': '0', 'maximumOrderUnits': '100000000', 'marginRate': '0.05', 'guaranteedStopLossOrderMode': 'DISABLED', 'tags': [{'type': 'BRAIN_ASSET_CLASS', 'name': 'FX'}, {'type': 'ASSET_CLASS', 'name': 'CURRENCY'}], 'financing': {'longRate': '-0.0063', 'shortRate': '-0.0241', 'financingDaysOfWeek': [{'dayOfWeek': 'MONDAY', 'daysCharged': 1}, {'dayOfWeek': 'TUESDAY', 'daysCharged': 1}, {'dayOfWeek': 'WEDNESDAY', 'daysCharged': 1}, {'dayOfWeek': 'THURSDAY', 'daysCharged': 1}, {'dayOfWeek': 'FRIDAY', 'daysCharged': 1}, {'dayOfWeek': 'SATURDAY', 'daysCharged': 0}, {'dayOfWeek': 'SUNDAY', 'daysCharged': 0}]}}\n",
      "{'name': 'AUD_NZD', 'type': 'CURRENCY', 'displayName': 'AUD/NZD', 'pipLocation': -4, 'displayPrecision': 5, 'tradeUnitsPrecision': 0, 'minimumTradeSize': '1', 'maximumTrailingStopDistance': '1.00000', 'minimumTrailingStopDistance': '0.00050', 'maximumPositionSize': '0', 'maximumOrderUnits': '100000000', 'marginRate': '0.03', 'guaranteedStopLossOrderMode': 'DISABLED', 'tags': [{'type': 'BRAIN_ASSET_CLASS', 'name': 'FX'}, {'type': 'ASSET_CLASS', 'name': 'CURRENCY'}], 'financing': {'longRate': '-0.0203', 'shortRate': '-0.0014', 'financingDaysOfWeek': [{'dayOfWeek': 'MONDAY', 'daysCharged': 1}, {'dayOfWeek': 'TUESDAY', 'daysCharged': 1}, {'dayOfWeek': 'WEDNESDAY', 'daysCharged': 1}, {'dayOfWeek': 'THURSDAY', 'daysCharged': 1}, {'dayOfWeek': 'FRIDAY', 'daysCharged': 1}, {'dayOfWeek': 'SATURDAY', 'daysCharged': 0}, {'dayOfWeek': 'SUNDAY', 'daysCharged': 0}]}}\n"
     ]
    }
   ],
   "source": [
    "for item in instrument_data[0:3]:\n",
    "    print(item)"
   ]
  },
  {
   "cell_type": "code",
   "execution_count": 22,
   "metadata": {},
   "outputs": [],
   "source": [
    "#transfering everyting to a panda dataframe\n",
    "instrument_df = pd.DataFrame.from_dict(instrument_data)"
   ]
  },
  {
   "cell_type": "code",
   "execution_count": 23,
   "metadata": {},
   "outputs": [
    {
     "data": {
      "text/html": [
       "<div>\n",
       "<style scoped>\n",
       "    .dataframe tbody tr th:only-of-type {\n",
       "        vertical-align: middle;\n",
       "    }\n",
       "\n",
       "    .dataframe tbody tr th {\n",
       "        vertical-align: top;\n",
       "    }\n",
       "\n",
       "    .dataframe thead th {\n",
       "        text-align: right;\n",
       "    }\n",
       "</style>\n",
       "<table border=\"1\" class=\"dataframe\">\n",
       "  <thead>\n",
       "    <tr style=\"text-align: right;\">\n",
       "      <th></th>\n",
       "      <th>name</th>\n",
       "      <th>type</th>\n",
       "      <th>displayName</th>\n",
       "      <th>pipLocation</th>\n",
       "      <th>displayPrecision</th>\n",
       "      <th>tradeUnitsPrecision</th>\n",
       "      <th>minimumTradeSize</th>\n",
       "      <th>maximumTrailingStopDistance</th>\n",
       "      <th>minimumTrailingStopDistance</th>\n",
       "      <th>maximumPositionSize</th>\n",
       "      <th>maximumOrderUnits</th>\n",
       "      <th>marginRate</th>\n",
       "      <th>guaranteedStopLossOrderMode</th>\n",
       "      <th>tags</th>\n",
       "      <th>financing</th>\n",
       "    </tr>\n",
       "  </thead>\n",
       "  <tbody>\n",
       "    <tr>\n",
       "      <th>0</th>\n",
       "      <td>NZD_HKD</td>\n",
       "      <td>CURRENCY</td>\n",
       "      <td>NZD/HKD</td>\n",
       "      <td>-4</td>\n",
       "      <td>5</td>\n",
       "      <td>0</td>\n",
       "      <td>1</td>\n",
       "      <td>1.00000</td>\n",
       "      <td>0.00050</td>\n",
       "      <td>0</td>\n",
       "      <td>100000000</td>\n",
       "      <td>0.1</td>\n",
       "      <td>DISABLED</td>\n",
       "      <td>[{'type': 'BRAIN_ASSET_CLASS', 'name': 'FX'}, ...</td>\n",
       "      <td>{'longRate': '-0.0029', 'shortRate': '-0.0298'...</td>\n",
       "    </tr>\n",
       "    <tr>\n",
       "      <th>1</th>\n",
       "      <td>CAD_SGD</td>\n",
       "      <td>CURRENCY</td>\n",
       "      <td>CAD/SGD</td>\n",
       "      <td>-4</td>\n",
       "      <td>5</td>\n",
       "      <td>0</td>\n",
       "      <td>1</td>\n",
       "      <td>1.00000</td>\n",
       "      <td>0.00050</td>\n",
       "      <td>0</td>\n",
       "      <td>100000000</td>\n",
       "      <td>0.05</td>\n",
       "      <td>DISABLED</td>\n",
       "      <td>[{'type': 'BRAIN_ASSET_CLASS', 'name': 'FX'}, ...</td>\n",
       "      <td>{'longRate': '-0.0063', 'shortRate': '-0.0241'...</td>\n",
       "    </tr>\n",
       "    <tr>\n",
       "      <th>2</th>\n",
       "      <td>AUD_NZD</td>\n",
       "      <td>CURRENCY</td>\n",
       "      <td>AUD/NZD</td>\n",
       "      <td>-4</td>\n",
       "      <td>5</td>\n",
       "      <td>0</td>\n",
       "      <td>1</td>\n",
       "      <td>1.00000</td>\n",
       "      <td>0.00050</td>\n",
       "      <td>0</td>\n",
       "      <td>100000000</td>\n",
       "      <td>0.03</td>\n",
       "      <td>DISABLED</td>\n",
       "      <td>[{'type': 'BRAIN_ASSET_CLASS', 'name': 'FX'}, ...</td>\n",
       "      <td>{'longRate': '-0.0203', 'shortRate': '-0.0014'...</td>\n",
       "    </tr>\n",
       "    <tr>\n",
       "      <th>3</th>\n",
       "      <td>CAD_CHF</td>\n",
       "      <td>CURRENCY</td>\n",
       "      <td>CAD/CHF</td>\n",
       "      <td>-4</td>\n",
       "      <td>5</td>\n",
       "      <td>0</td>\n",
       "      <td>1</td>\n",
       "      <td>1.00000</td>\n",
       "      <td>0.00050</td>\n",
       "      <td>0</td>\n",
       "      <td>100000000</td>\n",
       "      <td>0.04</td>\n",
       "      <td>DISABLED</td>\n",
       "      <td>[{'type': 'BRAIN_ASSET_CLASS', 'name': 'FX'}, ...</td>\n",
       "      <td>{'longRate': '0.0225', 'shortRate': '-0.0442',...</td>\n",
       "    </tr>\n",
       "    <tr>\n",
       "      <th>4</th>\n",
       "      <td>GBP_USD</td>\n",
       "      <td>CURRENCY</td>\n",
       "      <td>GBP/USD</td>\n",
       "      <td>-4</td>\n",
       "      <td>5</td>\n",
       "      <td>0</td>\n",
       "      <td>1</td>\n",
       "      <td>1.00000</td>\n",
       "      <td>0.00050</td>\n",
       "      <td>0</td>\n",
       "      <td>50000000</td>\n",
       "      <td>0.05</td>\n",
       "      <td>DISABLED</td>\n",
       "      <td>[{'type': 'BRAIN_ASSET_CLASS', 'name': 'FX'}, ...</td>\n",
       "      <td>{'longRate': '-0.0122', 'shortRate': '-0.008',...</td>\n",
       "    </tr>\n",
       "    <tr>\n",
       "      <th>...</th>\n",
       "      <td>...</td>\n",
       "      <td>...</td>\n",
       "      <td>...</td>\n",
       "      <td>...</td>\n",
       "      <td>...</td>\n",
       "      <td>...</td>\n",
       "      <td>...</td>\n",
       "      <td>...</td>\n",
       "      <td>...</td>\n",
       "      <td>...</td>\n",
       "      <td>...</td>\n",
       "      <td>...</td>\n",
       "      <td>...</td>\n",
       "      <td>...</td>\n",
       "      <td>...</td>\n",
       "    </tr>\n",
       "    <tr>\n",
       "      <th>63</th>\n",
       "      <td>GBP_AUD</td>\n",
       "      <td>CURRENCY</td>\n",
       "      <td>GBP/AUD</td>\n",
       "      <td>-4</td>\n",
       "      <td>5</td>\n",
       "      <td>0</td>\n",
       "      <td>1</td>\n",
       "      <td>1.00000</td>\n",
       "      <td>0.00050</td>\n",
       "      <td>0</td>\n",
       "      <td>100000000</td>\n",
       "      <td>0.05</td>\n",
       "      <td>DISABLED</td>\n",
       "      <td>[{'type': 'BRAIN_ASSET_CLASS', 'name': 'FX'}, ...</td>\n",
       "      <td>{'longRate': '-0.003', 'shortRate': '-0.0178',...</td>\n",
       "    </tr>\n",
       "    <tr>\n",
       "      <th>64</th>\n",
       "      <td>NZD_USD</td>\n",
       "      <td>CURRENCY</td>\n",
       "      <td>NZD/USD</td>\n",
       "      <td>-4</td>\n",
       "      <td>5</td>\n",
       "      <td>0</td>\n",
       "      <td>1</td>\n",
       "      <td>1.00000</td>\n",
       "      <td>0.00050</td>\n",
       "      <td>0</td>\n",
       "      <td>100000000</td>\n",
       "      <td>0.03</td>\n",
       "      <td>DISABLED</td>\n",
       "      <td>[{'type': 'BRAIN_ASSET_CLASS', 'name': 'FX'}, ...</td>\n",
       "      <td>{'longRate': '-0.0107', 'shortRate': '-0.0105'...</td>\n",
       "    </tr>\n",
       "    <tr>\n",
       "      <th>65</th>\n",
       "      <td>USD_HKD</td>\n",
       "      <td>CURRENCY</td>\n",
       "      <td>USD/HKD</td>\n",
       "      <td>-4</td>\n",
       "      <td>5</td>\n",
       "      <td>0</td>\n",
       "      <td>1</td>\n",
       "      <td>1.00000</td>\n",
       "      <td>0.00050</td>\n",
       "      <td>0</td>\n",
       "      <td>100000000</td>\n",
       "      <td>0.1</td>\n",
       "      <td>DISABLED</td>\n",
       "      <td>[{'type': 'BRAIN_ASSET_CLASS', 'name': 'FX'}, ...</td>\n",
       "      <td>{'longRate': '-0.0025', 'shortRate': '-0.0296'...</td>\n",
       "    </tr>\n",
       "    <tr>\n",
       "      <th>66</th>\n",
       "      <td>CHF_ZAR</td>\n",
       "      <td>CURRENCY</td>\n",
       "      <td>CHF/ZAR</td>\n",
       "      <td>-4</td>\n",
       "      <td>5</td>\n",
       "      <td>0</td>\n",
       "      <td>1</td>\n",
       "      <td>1.00000</td>\n",
       "      <td>0.00050</td>\n",
       "      <td>0</td>\n",
       "      <td>100000000</td>\n",
       "      <td>0.07</td>\n",
       "      <td>DISABLED</td>\n",
       "      <td>[{'type': 'BRAIN_ASSET_CLASS', 'name': 'FX'}, ...</td>\n",
       "      <td>{'longRate': '-0.102', 'shortRate': '0.0367', ...</td>\n",
       "    </tr>\n",
       "    <tr>\n",
       "      <th>67</th>\n",
       "      <td>EUR_USD</td>\n",
       "      <td>CURRENCY</td>\n",
       "      <td>EUR/USD</td>\n",
       "      <td>-4</td>\n",
       "      <td>5</td>\n",
       "      <td>0</td>\n",
       "      <td>1</td>\n",
       "      <td>1.00000</td>\n",
       "      <td>0.00050</td>\n",
       "      <td>0</td>\n",
       "      <td>100000000</td>\n",
       "      <td>0.02</td>\n",
       "      <td>DISABLED</td>\n",
       "      <td>[{'type': 'BRAIN_ASSET_CLASS', 'name': 'FX'}, ...</td>\n",
       "      <td>{'longRate': '-0.0267', 'shortRate': '0.0064',...</td>\n",
       "    </tr>\n",
       "  </tbody>\n",
       "</table>\n",
       "<p>68 rows × 15 columns</p>\n",
       "</div>"
      ],
      "text/plain": [
       "       name      type displayName  pipLocation  displayPrecision  \\\n",
       "0   NZD_HKD  CURRENCY     NZD/HKD           -4                 5   \n",
       "1   CAD_SGD  CURRENCY     CAD/SGD           -4                 5   \n",
       "2   AUD_NZD  CURRENCY     AUD/NZD           -4                 5   \n",
       "3   CAD_CHF  CURRENCY     CAD/CHF           -4                 5   \n",
       "4   GBP_USD  CURRENCY     GBP/USD           -4                 5   \n",
       "..      ...       ...         ...          ...               ...   \n",
       "63  GBP_AUD  CURRENCY     GBP/AUD           -4                 5   \n",
       "64  NZD_USD  CURRENCY     NZD/USD           -4                 5   \n",
       "65  USD_HKD  CURRENCY     USD/HKD           -4                 5   \n",
       "66  CHF_ZAR  CURRENCY     CHF/ZAR           -4                 5   \n",
       "67  EUR_USD  CURRENCY     EUR/USD           -4                 5   \n",
       "\n",
       "    tradeUnitsPrecision minimumTradeSize maximumTrailingStopDistance  \\\n",
       "0                     0                1                     1.00000   \n",
       "1                     0                1                     1.00000   \n",
       "2                     0                1                     1.00000   \n",
       "3                     0                1                     1.00000   \n",
       "4                     0                1                     1.00000   \n",
       "..                  ...              ...                         ...   \n",
       "63                    0                1                     1.00000   \n",
       "64                    0                1                     1.00000   \n",
       "65                    0                1                     1.00000   \n",
       "66                    0                1                     1.00000   \n",
       "67                    0                1                     1.00000   \n",
       "\n",
       "   minimumTrailingStopDistance maximumPositionSize maximumOrderUnits  \\\n",
       "0                      0.00050                   0         100000000   \n",
       "1                      0.00050                   0         100000000   \n",
       "2                      0.00050                   0         100000000   \n",
       "3                      0.00050                   0         100000000   \n",
       "4                      0.00050                   0          50000000   \n",
       "..                         ...                 ...               ...   \n",
       "63                     0.00050                   0         100000000   \n",
       "64                     0.00050                   0         100000000   \n",
       "65                     0.00050                   0         100000000   \n",
       "66                     0.00050                   0         100000000   \n",
       "67                     0.00050                   0         100000000   \n",
       "\n",
       "   marginRate guaranteedStopLossOrderMode  \\\n",
       "0         0.1                    DISABLED   \n",
       "1        0.05                    DISABLED   \n",
       "2        0.03                    DISABLED   \n",
       "3        0.04                    DISABLED   \n",
       "4        0.05                    DISABLED   \n",
       "..        ...                         ...   \n",
       "63       0.05                    DISABLED   \n",
       "64       0.03                    DISABLED   \n",
       "65        0.1                    DISABLED   \n",
       "66       0.07                    DISABLED   \n",
       "67       0.02                    DISABLED   \n",
       "\n",
       "                                                 tags  \\\n",
       "0   [{'type': 'BRAIN_ASSET_CLASS', 'name': 'FX'}, ...   \n",
       "1   [{'type': 'BRAIN_ASSET_CLASS', 'name': 'FX'}, ...   \n",
       "2   [{'type': 'BRAIN_ASSET_CLASS', 'name': 'FX'}, ...   \n",
       "3   [{'type': 'BRAIN_ASSET_CLASS', 'name': 'FX'}, ...   \n",
       "4   [{'type': 'BRAIN_ASSET_CLASS', 'name': 'FX'}, ...   \n",
       "..                                                ...   \n",
       "63  [{'type': 'BRAIN_ASSET_CLASS', 'name': 'FX'}, ...   \n",
       "64  [{'type': 'BRAIN_ASSET_CLASS', 'name': 'FX'}, ...   \n",
       "65  [{'type': 'BRAIN_ASSET_CLASS', 'name': 'FX'}, ...   \n",
       "66  [{'type': 'BRAIN_ASSET_CLASS', 'name': 'FX'}, ...   \n",
       "67  [{'type': 'BRAIN_ASSET_CLASS', 'name': 'FX'}, ...   \n",
       "\n",
       "                                            financing  \n",
       "0   {'longRate': '-0.0029', 'shortRate': '-0.0298'...  \n",
       "1   {'longRate': '-0.0063', 'shortRate': '-0.0241'...  \n",
       "2   {'longRate': '-0.0203', 'shortRate': '-0.0014'...  \n",
       "3   {'longRate': '0.0225', 'shortRate': '-0.0442',...  \n",
       "4   {'longRate': '-0.0122', 'shortRate': '-0.008',...  \n",
       "..                                                ...  \n",
       "63  {'longRate': '-0.003', 'shortRate': '-0.0178',...  \n",
       "64  {'longRate': '-0.0107', 'shortRate': '-0.0105'...  \n",
       "65  {'longRate': '-0.0025', 'shortRate': '-0.0296'...  \n",
       "66  {'longRate': '-0.102', 'shortRate': '0.0367', ...  \n",
       "67  {'longRate': '-0.0267', 'shortRate': '0.0064',...  \n",
       "\n",
       "[68 rows x 15 columns]"
      ]
     },
     "execution_count": 23,
     "metadata": {},
     "output_type": "execute_result"
    }
   ],
   "source": [
    "instrument_df"
   ]
  },
  {
   "cell_type": "code",
   "execution_count": 24,
   "metadata": {},
   "outputs": [],
   "source": [
    "instrument_df.to_pickle(\"instruments.pkl\")"
   ]
  },
  {
   "cell_type": "code",
   "execution_count": null,
   "metadata": {},
   "outputs": [],
   "source": [
    "#TO AVOID HAVING TO CREATE A NEW TABLE YOU CAN\n",
    "#new_table = pd.read_pickle(\"instruments.pkl\")"
   ]
  }
 ],
 "metadata": {
  "kernelspec": {
   "display_name": "venv",
   "language": "python",
   "name": "python3"
  },
  "language_info": {
   "codemirror_mode": {
    "name": "ipython",
    "version": 3
   },
   "file_extension": ".py",
   "mimetype": "text/x-python",
   "name": "python",
   "nbconvert_exporter": "python",
   "pygments_lexer": "ipython3",
   "version": "3.9.13"
  }
 },
 "nbformat": 4,
 "nbformat_minor": 2
}
